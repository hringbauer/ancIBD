{
 "cells": [
  {
   "cell_type": "code",
   "execution_count": 4,
   "metadata": {},
   "outputs": [
    {
     "name": "stdout",
     "output_type": "stream",
     "text": [
      "(8, 7)\n"
     ]
    }
   ],
   "source": [
    "import pandas as pd\n",
    "import numpy as np\n",
    "from ancIBD.plot.plot_karyotype import exp_blocks_full_individual\n",
    "\n",
    "comm_ancs =[4,4,4, 2,2,2]\n",
    "ms=[4, 6, 8, 4, 5, 6]\n",
    "\n",
    "plotlim = [12, 80]\n",
    "bw_cm = 8\n",
    "bins = np.arange(plotlim[0], plotlim[1], bw_cm)\n",
    "bin_mean = (bins[1:] + bins[:-1]) / 2.0  # Mean of each bin\n",
    "        \n",
    "# Plot the Empirical Averages\n",
    "labels=[\"First Cousins\", \"Second Cousins\", \"Third Cousins\", \\\n",
    "        \"Ancestor (4 gen.)\", \"Ancestor (5 gen.)\", \"Ancestor (6 gen.)\"]\n",
    "ret = np.full((len(bin_mean), 1+len(labels)), np.nan)\n",
    "ret[:,0] = bin_mean\n",
    "print(ret.shape)\n",
    "for i in range(len(comm_ancs)):\n",
    "    block_pdf = exp_blocks_full_individual(bin_mean/100, m=ms[i], comm_anc=comm_ancs[i])\n",
    "    ret[:,i+1] = bw_cm * block_pdf/100\n",
    "\n",
    "df = pd.DataFrame(ret, columns=[\"cM\"]+labels)\n",
    "df.to_csv(\"fig4d.csv\", index=False)"
   ]
  }
 ],
 "metadata": {
  "kernelspec": {
   "display_name": "Python 3",
   "language": "python",
   "name": "python3"
  },
  "language_info": {
   "codemirror_mode": {
    "name": "ipython",
    "version": 3
   },
   "file_extension": ".py",
   "mimetype": "text/x-python",
   "name": "python",
   "nbconvert_exporter": "python",
   "pygments_lexer": "ipython3",
   "version": "3.8.10"
  },
  "orig_nbformat": 4
 },
 "nbformat": 4,
 "nbformat_minor": 2
}
