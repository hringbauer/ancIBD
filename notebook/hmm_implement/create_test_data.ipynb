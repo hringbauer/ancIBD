{
 "cells": [
  {
   "cell_type": "markdown",
   "metadata": {},
   "source": [
    "### Create test data to check implementation of HMM\n",
    "Creates data under the model!"
   ]
  },
  {
   "cell_type": "code",
   "execution_count": 151,
   "metadata": {},
   "outputs": [
    {
     "name": "stdout",
     "output_type": "stream",
     "text": [
      "compute-a-17-93.o2.rc.hms.harvard.edu\n",
      "HSM O2 Computational partition detected.\n",
      "/n/groups/reich/hringbauer/git/hapBLOCK\n",
      "CPU Count: 32\n"
     ]
    }
   ],
   "source": [
    "import numpy as np\n",
    "import pandas as pd\n",
    "import matplotlib.pyplot as plt\n",
    "import matplotlib.gridspec as gridspec\n",
    "import socket as socket\n",
    "import os as os\n",
    "import sys as sys\n",
    "import multiprocessing as mp\n",
    "import h5py\n",
    "import allel\n",
    "import itertools as it\n",
    "import pickle\n",
    "\n",
    "socket_name = socket.gethostname()\n",
    "print(socket_name)\n",
    "\n",
    "if socket_name.startswith(\"compute-\"):\n",
    "    print(\"HSM O2 Computational partition detected.\")\n",
    "    path = \"/n/groups/reich/hringbauer/git/hapBLOCK/\"  # The Path on Harvard Cluster\n",
    "else: \n",
    "    raise RuntimeWarning(\"Not compatible machine. Check!!\")\n",
    "\n",
    "os.chdir(path)  # Set the right Path (in line with Atom default)\n",
    "\n",
    "print(os.getcwd())\n",
    "print(f\"CPU Count: {mp.cpu_count()}\")"
   ]
  },
  {
   "cell_type": "markdown",
   "metadata": {},
   "source": [
    "### Create Array of Means"
   ]
  },
  {
   "cell_type": "code",
   "execution_count": 152,
   "metadata": {},
   "outputs": [],
   "source": [
    "def draw_normal_all_freqs(l=5000, mean=0.5, std=0.1):\n",
    "    \"\"\"Draw Normally distributed allele frequencies\"\"\"\n",
    "    p = np.random.normal(size=l, loc=mean, scale=std)\n",
    "    return p\n",
    "\n",
    "def draw_haplotype(p):\n",
    "    \"\"\"Draw binomal haplotype from allele frequency p.\n",
    "    For each locus draw one genotype\n",
    "    Assumes Hardy Weinbgerg.\"\"\"\n",
    "    l = len(p)\n",
    "    s = np.random.random(size=l)<p\n",
    "    return s\n",
    "\n",
    "def create_hap_ll(h):\n",
    "    \"\"\"Create vector of haplotype likelihood.\n",
    "    Without error. \n",
    "    h: Haplotype vector [l,2] consisting of 0/1 post. prob\"\"\"\n",
    "    l = np.zeros((len(h),2), dtype=\"bool\")\n",
    "    idx_der = (h==1)\n",
    "    l[idx_der, 1] = 1\n",
    "    l[~idx_der, 0] = 1\n",
    "    return l\n",
    "\n",
    "def add_haplo_rnd_error(h, eps=0.01):\n",
    "    \"\"\"Modify array of haplotyp post [l,2].\n",
    "    Add random error and return array\n",
    "    [l,2] of new haplotype posterior\"\"\"\n",
    "    h = h * (1 - eps) + np.roll(h, shift=1, axis=1) * eps\n",
    "    return h\n",
    "    \n",
    "def copy_in_block(h_s, h_t, loc=[10,20]):\n",
    "    \"\"\"Copy in Haplotype block by copying segment.\n",
    "    h_s: The source haplotype\n",
    "    h_t: The target haplotype\n",
    "    loc: Location of haplotype to copy over\"\"\"\n",
    "    h_t[loc[0]:loc[1]]=h_s[loc[0]:loc[1]]\n",
    "    return h_t\n",
    "\n",
    "def create_ibd_haplos(l=10000, loc=[2000,4000], mean=0.5, std=0.1, eps=0):\n",
    "    \"\"\"Create haplotype likelihoods with IBD copying.\n",
    "    Draw allele frequencies, create HW haplotypes, copy in haplotype\n",
    "    and create likelihoods.\n",
    "    Return p [l] and haplotypelikelihoods [4,l,2]\"\"\"\n",
    "    p = draw_normal_all_freqs(l=l, mean=mean, std=std)\n",
    "    hts = [draw_haplotype(p) for _ in range(4)]\n",
    "    hts[0] = copy_in_block(h_s=hts[2], h_t=hts[0], loc=loc)\n",
    "    htsl = np.array([create_hap_ll(h) for h in hts])\n",
    "    htsl = np.array([add_haplo_rnd_error(h, eps=eps) for h in htsl])\n",
    "    return p, htsl\n",
    "\n",
    "def save_haplo_ll(hts, p=[], folder=\"./output/simulated/undermodel/\",\n",
    "                  delimiter='\\t'):\n",
    "    \"\"\"Save Haplotype Likelihoods in standardized format.\"\"\"\n",
    "    if not os.path.exists(folder):\n",
    "        os.makedirs(folder)\n",
    "    savepath = os.path.join(folder,\"haplo_ll.tsv\")\n",
    "    pickle.dump(hts, open(savepath, \"wb\") )\n",
    "    #np.savetxt(savepath, hts, delimiter=delimiter)\n",
    "    print(f\"Saved {np.shape(hts)[1]} loci likelihoods to {savepath}\")\n",
    "    \n",
    "    if len(p)>0:\n",
    "        savepath = os.path.join(folder,\"p.tsv\")\n",
    "        np.savetxt(savepath, p, delimiter=delimiter)\n",
    "        print(f\"Saved {len(p)} allele frequencies to {savepath}\")\n",
    "\n",
    "def shuffle_haplos(h1, h2, scale=20):\n",
    "    \"\"\"Shuffle hapolotypes with random waiting times \n",
    "    (mean scale, exponentially distributed)\"\"\"\n",
    "    hn1, hn2 = np.copy(h1), np.copy(h2)\n",
    "    l=len(h1)\n",
    "    w = np.random.exponential(scale=scale,size=l)\n",
    "    w = np.round(w).astype(\"int\")\n",
    "    w = np.cumsum(w)\n",
    "    s=0\n",
    "    for i in range(len(w)):\n",
    "        a,b=w[i],w[i+1]\n",
    "        #print(f\"shuffling from {a}-{b}\")\n",
    "        if b>l:\n",
    "            break\n",
    "        if (i%2)==1: # Only every other is shuffled\n",
    "            hn1[a:b],hn2[a:b] = h2[a:b],h1[a:b]\n",
    "        s+=1\n",
    "    print(f\"Total shuffles: {s}\")\n",
    "    return hn1,hn2"
   ]
  },
  {
   "cell_type": "markdown",
   "metadata": {},
   "source": [
    "### Test single Haplotype"
   ]
  },
  {
   "cell_type": "code",
   "execution_count": 154,
   "metadata": {},
   "outputs": [
    {
     "name": "stdout",
     "output_type": "stream",
     "text": [
      "Number of derived variants: 4910 / 10000\n",
      "Number of derived variants haplotype ll: 4910 / 10000\n"
     ]
    }
   ],
   "source": [
    "p = draw_normal_all_freqs(l=10000, mean=0.5, std=0.1)\n",
    "assert((np.min(p)>0) and (np.max(p)<1)) # Sanity Check\n",
    "\n",
    "### Draw random Haplotype\n",
    "h0 = draw_haplotype(p)\n",
    "print(f\"Number of derived variants: {np.sum(h0)} / {len(h0)}\")\n",
    "l0 = create_hap_ll(h0)\n",
    "print(f\"Number of derived variants haplotype ll: {np.sum(l0[:,1])} / {len(l0)}\")"
   ]
  },
  {
   "cell_type": "markdown",
   "metadata": {},
   "source": [
    "### Create IBD sharing"
   ]
  },
  {
   "cell_type": "code",
   "execution_count": 155,
   "metadata": {},
   "outputs": [
    {
     "name": "stdout",
     "output_type": "stream",
     "text": [
      "CPU times: user 6.97 ms, sys: 1.17 ms, total: 8.13 ms\n",
      "Wall time: 6.51 ms\n"
     ]
    },
    {
     "data": {
      "text/plain": [
       "True"
      ]
     },
     "execution_count": 155,
     "metadata": {},
     "output_type": "execute_result"
    }
   ],
   "source": [
    "%%time\n",
    "p, htsl = create_ibd_haplos(l=10000, loc=[2000,4000], mean=0.5, std=0.1, eps=0.05)\n",
    "np.sum(htsl,axis=2).all()"
   ]
  },
  {
   "cell_type": "code",
   "execution_count": 156,
   "metadata": {},
   "outputs": [
    {
     "name": "stdout",
     "output_type": "stream",
     "text": [
      "Total shuffles: 990\n",
      "Total shuffles: 984\n"
     ]
    }
   ],
   "source": [
    "### Shuffle Haplotypes if needed, to create phase switches\n",
    "htsl[0],htsl[1] = shuffle_haplos(htsl[0],htsl[1], scale=10)\n",
    "htsl[2],htsl[3] = shuffle_haplos(htsl[2],htsl[3], scale=10)"
   ]
  },
  {
   "cell_type": "code",
   "execution_count": 157,
   "metadata": {},
   "outputs": [
    {
     "name": "stdout",
     "output_type": "stream",
     "text": [
      "Saved 10000 loci likelihoods to ./output/simulated/undermodel/sim5/haplo_ll.tsv\n",
      "Saved 10000 allele frequencies to ./output/simulated/undermodel/sim5/p.tsv\n"
     ]
    }
   ],
   "source": [
    "save_haplo_ll(hts=htsl, p=p, folder=\"./output/simulated/undermodel/sim5/\")"
   ]
  },
  {
   "cell_type": "markdown",
   "metadata": {},
   "source": [
    "# Area 51"
   ]
  },
  {
   "cell_type": "markdown",
   "metadata": {},
   "source": [
    "### Test load the saved the data"
   ]
  },
  {
   "cell_type": "code",
   "execution_count": 29,
   "metadata": {},
   "outputs": [],
   "source": [
    "#htsl1 = pickle.load(\"./output/simulated/undermodel/sim1/haplo_ll.tsv\", delimiter=\"\\t\", dtype=\"float\")\n",
    "htsl1 = pickle.load(open(\"./output/simulated/undermodel/sim1/haplo_ll.tsv\", \"rb\")) \n",
    "#htsl1 = np.loadtxt(\"./output/simulated/undermodel/sim1/haplo_ll.tsv\", delimiter=\"\\t\", dtype=\"float\")\n",
    "p1 = np.loadtxt(\"./output/simulated/undermodel/sim1/p.tsv\", delimiter=\"\\t\", dtype=\"float\")"
   ]
  },
  {
   "cell_type": "code",
   "execution_count": 66,
   "metadata": {},
   "outputs": [],
   "source": [
    "mean, std = 0.5, 0.1\n",
    "p = draw_normal_all_freqs(l=10000, mean=mean, std=std)\n",
    "hts = [draw_haplotype(p) for _ in range(4)]\n",
    "hts[0] = copy_in_block(h_s=hts[2], h_t=hts[0], loc=[2000,4000])"
   ]
  },
  {
   "cell_type": "code",
   "execution_count": 18,
   "metadata": {},
   "outputs": [],
   "source": [
    "htsl = np.array([create_hap_ll(h) for h in hts])"
   ]
  },
  {
   "cell_type": "code",
   "execution_count": 36,
   "metadata": {},
   "outputs": [],
   "source": [
    "t = htsl[0,:,:]"
   ]
  },
  {
   "cell_type": "code",
   "execution_count": 96,
   "metadata": {},
   "outputs": [],
   "source": []
  },
  {
   "cell_type": "code",
   "execution_count": 84,
   "metadata": {},
   "outputs": [
    {
     "data": {
      "text/plain": [
       "array([3.3000e+01, 1.3200e+02, 1.3800e+02, ..., 3.9310e+04, 3.9342e+04,\n",
       "       3.9344e+04])"
      ]
     },
     "execution_count": 84,
     "metadata": {},
     "output_type": "execute_result"
    }
   ],
   "source": [
    "w"
   ]
  },
  {
   "cell_type": "code",
   "execution_count": 73,
   "metadata": {},
   "outputs": [],
   "source": [
    "h0, h1 = htsl[0], htsl[1]"
   ]
  },
  {
   "cell_type": "code",
   "execution_count": 88,
   "metadata": {},
   "outputs": [
    {
     "data": {
      "text/plain": [
       "(10000, 2)"
      ]
     },
     "execution_count": 88,
     "metadata": {},
     "output_type": "execute_result"
    }
   ],
   "source": [
    "np.shape(h0)"
   ]
  },
  {
   "cell_type": "code",
   "execution_count": 137,
   "metadata": {},
   "outputs": [
    {
     "name": "stdout",
     "output_type": "stream",
     "text": [
      "Total shuffles: 19\n"
     ]
    }
   ],
   "source": [
    "h1 = np.zeros(1000)\n",
    "h2 = np.ones(1000)\n",
    "\n",
    "h1,h2 = shuffle_haplos(h1,h2,scale=50)"
   ]
  },
  {
   "cell_type": "code",
   "execution_count": 141,
   "metadata": {},
   "outputs": [
    {
     "data": {
      "text/plain": [
       "[<matplotlib.lines.Line2D at 0x7feeb7545510>]"
      ]
     },
     "execution_count": 141,
     "metadata": {},
     "output_type": "execute_result"
    },
    {
     "data": {
      "image/png": "[encoded data removed]",
      "text/plain": [
       "<Figure size 432x288 with 1 Axes>"
      ]
     },
     "metadata": {
      "needs_background": "light"
     },
     "output_type": "display_data"
    }
   ],
   "source": [
    "plt.figure()\n",
    "ax=plt.gca()\n",
    "\n",
    "ax.plot(np.arange(len(h1)), h2, \"ro\")"
   ]
  },
  {
   "cell_type": "code",
   "execution_count": 139,
   "metadata": {},
   "outputs": [
    {
     "data": {
      "text/plain": [
       "array([0., 0., 0., 0., 0., 0., 0., 0., 0., 0., 0., 0., 0., 0., 0., 0., 0.,\n",
       "       0., 0., 0., 0., 0., 0., 0., 0., 0., 0., 0., 0., 0., 0., 0., 0., 0.,\n",
       "       0., 0., 0., 0., 0., 0., 0., 0., 0., 0., 0., 0., 0., 0., 0., 0., 0.,\n",
       "       0., 0., 0., 0., 0., 0., 0., 0., 0., 0., 0., 0., 0., 0., 0., 0., 0.,\n",
       "       0., 0., 0., 0., 0., 0., 0., 0., 0., 0., 0., 0., 0., 0., 0., 0., 0.,\n",
       "       0., 0., 0., 0., 0., 0., 0., 0., 0., 0., 0., 0., 0., 0., 0., 0., 0.,\n",
       "       0., 0., 0., 0., 0., 0., 0., 0., 0., 1., 1., 1., 1., 1., 1., 1., 1.,\n",
       "       1., 1., 1., 1., 1., 1., 1., 1., 1., 1., 1., 1., 1., 1., 1., 1., 1.,\n",
       "       1., 1., 1., 1., 1., 1., 1., 1., 1., 1., 1., 1., 1., 1., 1., 1., 1.,\n",
       "       1., 1., 1., 1., 1., 1., 1., 1., 1., 1., 1., 1., 1., 1., 1., 1., 1.,\n",
       "       1., 1., 1., 1., 1., 1., 1., 1., 1., 1., 1., 1., 1., 1., 1., 1., 1.,\n",
       "       1., 1., 1., 1., 1., 1., 1., 1., 1., 1., 1., 1., 1., 1., 1., 1., 1.,\n",
       "       1., 1., 1., 1., 0., 0., 0., 0., 0., 0., 0., 0., 0., 0., 0., 0., 0.,\n",
       "       0., 0., 0., 0., 0., 0., 0., 0., 0., 1., 1., 1., 1., 1., 1., 1., 1.,\n",
       "       1., 1., 1., 1., 0., 0., 0., 0., 0., 0., 0., 0., 0., 0., 0., 0., 0.,\n",
       "       0., 1., 1., 0., 0., 0., 0., 0., 0., 0., 0., 0., 0., 0., 0., 0., 0.,\n",
       "       0., 0., 0., 0., 0., 0., 0., 0., 0., 0., 0., 0., 0., 0., 0., 0., 0.,\n",
       "       0., 0., 0., 0., 0., 0., 0., 0., 0., 1., 1., 1., 1., 1., 1., 1., 1.,\n",
       "       1., 1., 1., 1., 1., 1., 1., 1., 1., 1., 1., 1., 1., 1., 1., 1., 1.,\n",
       "       1., 1., 1., 1., 1., 1., 1., 1., 1., 1., 1., 1., 1., 1., 1., 1., 1.,\n",
       "       1., 1., 1., 1., 1., 1., 1., 1., 1., 1., 1., 1., 1., 1., 1., 1., 1.,\n",
       "       1., 1., 1., 1., 1., 1., 1., 1., 1., 1., 1., 1., 1., 1., 1., 1., 1.,\n",
       "       1., 1., 1., 1., 1., 1., 1., 0., 0., 0., 0., 0., 0., 0., 0., 0., 0.,\n",
       "       0., 0., 0., 0., 0., 0., 0., 0., 0., 0., 0., 0., 0., 0., 0., 0., 0.,\n",
       "       0., 0., 0., 0., 0., 0., 0., 0., 0., 0., 0., 0., 0., 0., 0., 0., 0.,\n",
       "       0., 0., 0., 0., 0., 0., 0., 0., 0., 0., 0., 0., 0., 0., 0., 0., 0.,\n",
       "       0., 0., 0., 0., 0., 0., 0., 0., 0., 0., 0., 0., 0., 0., 0., 0., 1.,\n",
       "       0., 0., 0., 0., 0., 0., 0., 0., 0., 0., 0., 0., 0., 0., 0., 0., 0.,\n",
       "       0., 0., 0., 0., 0., 0., 0., 0., 0., 0., 0., 0., 0., 0., 0., 0., 0.,\n",
       "       0., 0., 0., 0., 0., 0., 0., 0., 0., 0., 0., 0., 0., 0., 0., 0., 0.,\n",
       "       0., 0., 0., 0., 0., 0., 1., 1., 1., 1., 1., 1., 1., 1., 1., 1., 1.,\n",
       "       1., 1., 1., 1., 1., 1., 1., 1., 1., 1., 1., 1., 1., 1., 0., 0., 0.,\n",
       "       0., 0., 0., 0., 0., 0., 0., 0., 0., 0., 0., 0., 0., 0., 0., 0., 0.,\n",
       "       0., 0., 0., 0., 0., 0., 0., 0., 0., 0., 0., 0., 0., 0., 0., 0., 0.,\n",
       "       0., 0., 0., 0., 0., 0., 0., 0., 0., 0., 0., 0., 0., 0., 0., 0., 0.,\n",
       "       0., 0., 0., 0., 0., 0., 0., 0., 0., 0., 0., 0., 0., 0., 0., 0., 0.,\n",
       "       0., 0., 0., 0., 0., 0., 0., 0., 0., 1., 1., 1., 1., 1., 1., 1., 1.,\n",
       "       1., 1., 1., 1., 1., 1., 1., 1., 1., 1., 1., 0., 0., 0., 0., 0., 0.,\n",
       "       0., 0., 0., 0., 0., 0., 0., 0., 0., 0., 0., 0., 0., 0., 0., 0., 0.,\n",
       "       0., 0., 0., 0., 0., 0., 0., 0., 0., 1., 1., 1., 1., 1., 1., 1., 1.,\n",
       "       1., 1., 1., 0., 0., 0., 0., 0., 0., 0., 0., 0., 0., 0., 0., 0., 0.,\n",
       "       0., 0., 0., 0., 0., 0., 0., 0., 0., 0., 0., 0., 1., 1., 1., 1., 1.,\n",
       "       1., 1., 1., 1., 1., 1., 1., 1., 1., 1., 1., 1., 1., 1., 1., 1., 1.,\n",
       "       1., 1., 1., 1., 1., 1., 1., 1., 1., 1., 1., 1., 1., 1., 1., 1., 1.,\n",
       "       1., 1., 1., 1., 1., 1., 1., 1., 1., 1., 1., 1., 1., 1., 1., 1., 1.,\n",
       "       1., 1., 1., 1., 1., 1., 1., 1., 1., 1., 1., 1., 1., 1., 1., 1., 1.,\n",
       "       1., 0., 0., 0., 0., 0., 0., 0., 0., 0., 0., 0., 0., 0., 0., 0., 0.,\n",
       "       0., 0., 0., 0., 0., 0., 0., 0., 0., 0., 0., 0., 0., 0., 0., 0., 0.,\n",
       "       0., 0., 0., 0., 0., 0., 0., 0., 0., 0., 0., 0., 0., 0., 0., 0., 0.,\n",
       "       0., 0., 0., 0., 0., 0., 0., 0., 0., 0., 0., 0., 0., 0., 0., 0., 0.,\n",
       "       0., 0., 0., 0., 0., 0., 0., 0., 0., 0., 0., 0., 0., 0., 0., 0., 0.,\n",
       "       0., 0., 0., 0., 0., 0., 0., 0., 0., 0., 0., 0., 0., 0., 0., 0., 0.,\n",
       "       0., 0., 0., 0., 0., 0., 0., 0., 0., 0., 0., 0., 0., 0., 0., 0., 0.,\n",
       "       0., 0., 0., 0., 0., 0., 0., 0., 0., 0., 0., 0., 0., 0., 0., 0., 0.,\n",
       "       0., 0., 0., 0., 0., 0., 0., 0., 0., 0., 0., 0., 0., 0., 0., 0., 0.,\n",
       "       0., 0., 0., 0., 0., 0., 0., 0., 0., 0., 0., 0., 0., 0., 0., 0., 0.,\n",
       "       0., 0., 0., 0., 0., 0., 0., 0., 0., 0., 0., 0., 0., 0., 0., 0., 0.,\n",
       "       0., 0., 0., 0., 0., 0., 0., 0., 0., 0., 0., 0., 0., 0., 0., 0., 0.,\n",
       "       0., 0., 0., 0., 0., 0., 0., 0., 0., 0., 0., 0., 0., 0.])"
      ]
     },
     "execution_count": 139,
     "metadata": {},
     "output_type": "execute_result"
    }
   ],
   "source": [
    "h1"
   ]
  },
  {
   "cell_type": "code",
   "execution_count": null,
   "metadata": {},
   "outputs": [],
   "source": []
  }
 ],
 "metadata": {
  "kernelspec": {
   "display_name": "Python 3",
   "language": "python",
   "name": "python3"
  },
  "language_info": {
   "codemirror_mode": {
    "name": "ipython",
    "version": 3
   },
   "file_extension": ".py",
   "mimetype": "text/x-python",
   "name": "python",
   "nbconvert_exporter": "python",
   "pygments_lexer": "ipython3",
   "version": "3.7.4"
  }
 },
 "nbformat": 4,
 "nbformat_minor": 4
}
