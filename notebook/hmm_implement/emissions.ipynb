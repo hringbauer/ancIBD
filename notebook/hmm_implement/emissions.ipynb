{
 "cells": [
  {
   "cell_type": "markdown",
   "metadata": {},
   "source": [
    "# Class that implements Emission Matrix for IBD detection"
   ]
  },
  {
   "cell_type": "code",
   "execution_count": 1,
   "metadata": {},
   "outputs": [
    {
     "name": "stdout",
     "output_type": "stream",
     "text": [
      "compute-a-17-86.o2.rc.hms.harvard.edu\n",
      "HSM O2 Computational partition detected.\n",
      "/n/groups/reich/hringbauer/git/hapBLOCK\n",
      "CPU Count: 32\n"
     ]
    }
   ],
   "source": [
    "import numpy as np\n",
    "import pandas as pd\n",
    "import matplotlib.pyplot as plt\n",
    "import matplotlib.gridspec as gridspec\n",
    "import socket as socket\n",
    "import os as os\n",
    "import sys as sys\n",
    "import multiprocessing as mp\n",
    "import h5py\n",
    "import allel\n",
    "\n",
    "socket_name = socket.gethostname()\n",
    "print(socket_name)\n",
    "\n",
    "if socket_name.startswith(\"compute-\"):\n",
    "    print(\"HSM O2 Computational partition detected.\")\n",
    "    path = \"/n/groups/reich/hringbauer/git/hapBLOCK/\"  # The Path on Harvard Cluster\n",
    "else: \n",
    "    raise RuntimeWarning(\"Not compatible machine. Check!!\")\n",
    "\n",
    "os.chdir(path)  # Set the right Path (in line with Atom default)\n",
    "\n",
    "print(os.getcwd())\n",
    "print(f\"CPU Count: {mp.cpu_count()}\")"
   ]
  },
  {
   "cell_type": "code",
   "execution_count": 3,
   "metadata": {},
   "outputs": [],
   "source": [
    "\"\"\"\n",
    "Class for calculating Emission Probabilities.\n",
    "Contains Sub-Classes, as well as factory Method.\n",
    "@ Author: Harald Ringbauer, 2019, All rights reserved\n",
    "\"\"\"\n",
    "\n",
    "###############################\n",
    "###############################\n",
    "\n",
    "\n",
    "class Emissions(object):\n",
    "    \"\"\"Class for emission probabilities\n",
    "    Has methods to return emission probabilities\"\"\"\n",
    "\n",
    "    def give_emission_matrix(self, remember=False):\n",
    "        \"\"\"Return Emission Matrix - for every possible set of states\"\"\"\n",
    "        raise NotImplementedError(\"Implement This in specific subclass.\")\n",
    "\n",
    "    def give_emission_state(self, ob_stat):\n",
    "        \"\"\"Gives the emission matrix of path of states\"\"\"\n",
    "        raise NotImplementedError(\"Implement This in specific subclass.\")\n",
    "    \n",
    "    def give_emission_log(self, ob_stat, dtype=np.float):\n",
    "        \"\"\"Return the full emission Probability directly in Log Space. \n",
    "        ob_stat: Observed Readcounts [2,l] array of 0/1 \"\"\"\n",
    "        raise NotImplementedError(\"Implement This in specific subclass.\")\n",
    "\n",
    "    def set_params(self, **kwargs):\n",
    "        \"\"\"Set the Parameters.\n",
    "        Takes keyworded arguments\"\"\"\n",
    "        for key, value in kwargs.items():\n",
    "            setattr(self, key, value)"
   ]
  },
  {
   "cell_type": "code",
   "execution_count": 5,
   "metadata": {},
   "outputs": [],
   "source": [
    "### Input: Two genotype probability arrays: in format [lx3x2]\n",
    "### Output: Emission matrix of form [lx5] 1 Background state. 4 copying states"
   ]
  },
  {
   "cell_type": "code",
   "execution_count": 35,
   "metadata": {},
   "outputs": [],
   "source": [
    "### Describe Background State\n",
    "t0 = np.stack((p**2, 2*(1-p)*p, (1-p)**2), axis=1)\n",
    "#m0 = t0 . gt1"
   ]
  },
  {
   "cell_type": "code",
   "execution_count": 30,
   "metadata": {},
   "outputs": [
    {
     "data": {
      "text/plain": [
       "array([[0.81, 0.81, 0.81, 0.81],\n",
       "       [0.18, 0.18, 0.18, 0.18],\n",
       "       [0.01, 0.01, 0.01, 0.01]])"
      ]
     },
     "execution_count": 30,
     "metadata": {},
     "output_type": "execute_result"
    }
   ],
   "source": [
    "m0\n"
   ]
  },
  {
   "cell_type": "code",
   "execution_count": 15,
   "metadata": {},
   "outputs": [],
   "source": [
    "### Describe i/j sharing"
   ]
  },
  {
   "cell_type": "code",
   "execution_count": 37,
   "metadata": {},
   "outputs": [
    {
     "data": {
      "text/plain": [
       "(3, 4)"
      ]
     },
     "execution_count": 37,
     "metadata": {},
     "output_type": "execute_result"
    }
   ],
   "source": [
    "np.shape(m0)"
   ]
  },
  {
   "cell_type": "code",
   "execution_count": 36,
   "metadata": {},
   "outputs": [
    {
     "data": {
      "text/plain": [
       "(4, 3)"
      ]
     },
     "execution_count": 36,
     "metadata": {},
     "output_type": "execute_result"
    }
   ],
   "source": [
    "np.shape(t0)"
   ]
  },
  {
   "cell_type": "markdown",
   "metadata": {},
   "source": [
    "### Test data"
   ]
  },
  {
   "cell_type": "code",
   "execution_count": 28,
   "metadata": {},
   "outputs": [],
   "source": [
    "gt1 = np.array([[0,1,0],[0,0,1], [1,0,0],[0,1,0]])\n",
    "gt2 = np.array([[0,1,0],[0,0,1], [0,0,1],[0,0,1]])\n",
    "gts = np.stack((gt1, gt2))\n",
    "p = np.array([0.9,0.9,0.9,0.9])"
   ]
  },
  {
   "cell_type": "code",
   "execution_count": 13,
   "metadata": {},
   "outputs": [
    {
     "data": {
      "text/plain": [
       "array([[[0, 1, 0],\n",
       "        [0, 0, 1],\n",
       "        [1, 0, 0],\n",
       "        [0, 1, 0]],\n",
       "\n",
       "       [[0, 1, 0],\n",
       "        [0, 0, 1],\n",
       "        [0, 0, 1],\n",
       "        [0, 0, 1]]])"
      ]
     },
     "execution_count": 13,
     "metadata": {},
     "output_type": "execute_result"
    }
   ],
   "source": [
    "### "
   ]
  },
  {
   "cell_type": "code",
   "execution_count": null,
   "metadata": {},
   "outputs": [],
   "source": []
  }
 ],
 "metadata": {
  "kernelspec": {
   "display_name": "Python 3",
   "language": "python",
   "name": "python3"
  },
  "language_info": {
   "codemirror_mode": {
    "name": "ipython",
    "version": 3
   },
   "file_extension": ".py",
   "mimetype": "text/x-python",
   "name": "python",
   "nbconvert_exporter": "python",
   "pygments_lexer": "ipython3",
   "version": "3.7.4"
  }
 },
 "nbformat": 4,
 "nbformat_minor": 4
}
