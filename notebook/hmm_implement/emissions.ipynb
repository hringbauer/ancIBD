{
 "cells": [
  {
   "cell_type": "markdown",
   "metadata": {},
   "source": [
    "# Class that implements Emission Matrix for IBD detection"
   ]
  },
  {
   "cell_type": "code",
   "execution_count": 1,
   "metadata": {},
   "outputs": [
    {
     "name": "stdout",
     "output_type": "stream",
     "text": [
      "compute-e-16-229.o2.rc.hms.harvard.edu\n",
      "HSM O2 Computational partition detected.\n",
      "/n/groups/reich/hringbauer/git/hapBLOCK\n",
      "CPU Count: 28\n"
     ]
    }
   ],
   "source": [
    "import numpy as np\n",
    "import pandas as pd\n",
    "import matplotlib.pyplot as plt\n",
    "import matplotlib.gridspec as gridspec\n",
    "import socket as socket\n",
    "import os as os\n",
    "import sys as sys\n",
    "import multiprocessing as mp\n",
    "import h5py\n",
    "import allel\n",
    "\n",
    "socket_name = socket.gethostname()\n",
    "print(socket_name)\n",
    "\n",
    "if socket_name.startswith(\"compute-\"):\n",
    "    print(\"HSM O2 Computational partition detected.\")\n",
    "    path = \"/n/groups/reich/hringbauer/git/hapBLOCK/\"  # The Path on Harvard Cluster\n",
    "else: \n",
    "    raise RuntimeWarning(\"Not compatible machine. Check!!\")\n",
    "\n",
    "os.chdir(path)  # Set the right Path (in line with Atom default)\n",
    "\n",
    "print(os.getcwd())\n",
    "print(f\"CPU Count: {mp.cpu_count()}\")"
   ]
  },
  {
   "cell_type": "code",
   "execution_count": 2,
   "metadata": {},
   "outputs": [],
   "source": [
    "\"\"\"\n",
    "Class for calculating Emission Probabilities.\n",
    "Contains Sub-Classes, as well as factory Method.\n",
    "@ Author: Harald Ringbauer, 2019, All rights reserved\n",
    "\"\"\"\n",
    "\n",
    "###############################\n",
    "###############################\n",
    "\n",
    "class Emissions(object):\n",
    "    \"\"\"Class for emission probabilities\n",
    "    Has methods to return emission probabilities\"\"\"\n",
    "\n",
    "    def give_emission_matrix(self, remember=False):\n",
    "        \"\"\"Return Emission Matrix - for every possible set of states\"\"\"\n",
    "        raise NotImplementedError(\"Implement This in specific subclass.\")\n",
    "\n",
    "    def give_emission_state(self, ob_stat):\n",
    "        \"\"\"Gives the emission matrix of path of states\"\"\"\n",
    "        raise NotImplementedError(\"Implement This in specific subclass.\")\n",
    "    \n",
    "    def give_emission_log(self, ob_stat, dtype=np.float):\n",
    "        \"\"\"Return the full emission Probability directly in Log Space. \n",
    "        ob_stat: Observed Readcounts [2,l] array of 0/1 \"\"\"\n",
    "        raise NotImplementedError(\"Implement This in specific subclass.\")\n",
    "\n",
    "    def set_params(self, **kwargs):\n",
    "        \"\"\"Set the Parameters.\n",
    "        Takes keyworded arguments\"\"\"\n",
    "        for key, value in kwargs.items():\n",
    "            setattr(self, key, value)"
   ]
  },
  {
   "cell_type": "code",
   "execution_count": 5,
   "metadata": {},
   "outputs": [],
   "source": [
    "### Input: Two genotype probability arrays: in format [lx3x2]\n",
    "### Output: Emission matrix of form [lx5] 1 Background state. 4 copying states"
   ]
  },
  {
   "cell_type": "code",
   "execution_count": 10,
   "metadata": {},
   "outputs": [],
   "source": [
    "### Describe HW State GT Probabilities [3xl]\n",
    "t0 = np.stack(((1-p)**2, 2*(1-p)*p, p**2))\n",
    "#m0 = t0 . gt1"
   ]
  },
  {
   "cell_type": "code",
   "execution_count": 28,
   "metadata": {},
   "outputs": [],
   "source": [
    "### Emission Probability 1\n",
    "b1 = np.sum(gts[0,:,:] * t0, axis=0)\n",
    "### Emission Probability 2\n",
    "b2 = np.sum(gts[1,:,:] * t0, axis=0)\n",
    "b = b1 * b2 ## Multiply the two probabilities"
   ]
  },
  {
   "cell_type": "code",
   "execution_count": 30,
   "metadata": {},
   "outputs": [
    {
     "data": {
      "text/plain": [
       "(3, 4)"
      ]
     },
     "execution_count": 30,
     "metadata": {},
     "output_type": "execute_result"
    }
   ],
   "source": [
    "np.shape(t0)"
   ]
  },
  {
   "cell_type": "markdown",
   "metadata": {},
   "source": [
    "### Background State"
   ]
  },
  {
   "cell_type": "code",
   "execution_count": 34,
   "metadata": {},
   "outputs": [],
   "source": [
    "def hw_background_state(gls, p):\n",
    "    \"\"\"Emission probability for background state.\n",
    "    gls: 2x3xl probabilities of genotypes. 2: two inds 3: 3 genotypes, l loci\n",
    "    p: Derived allele freqquency [l]\"\"\"\n",
    "    hw = np.stack(((1-p)**2, 2*(1-p)*p, p**2)) # hw: Hardy Weinberg probabilies of hidden genotypes [3xl]\n",
    "    b1 = np.sum(gls[0,:,:] * hw, axis=0)\n",
    "    b2 = np.sum(gls[1,:,:] * hw, axis=0)\n",
    "    b = b1 * b2 # Multiply probabilites (it's ind.)\n",
    "    return b"
   ]
  },
  {
   "cell_type": "code",
   "execution_count": 45,
   "metadata": {},
   "outputs": [
    {
     "data": {
      "text/plain": [
       "array([0.0324, 0.4096, 0.0441, 0.125 ])"
      ]
     },
     "execution_count": 45,
     "metadata": {},
     "output_type": "execute_result"
    }
   ],
   "source": [
    "hw_background_state(gts, p)"
   ]
  },
  {
   "cell_type": "markdown",
   "metadata": {},
   "source": [
    "### IBD State\n",
    "w.l.o.g. assume first allele shared, second allele not shared"
   ]
  },
  {
   "cell_type": "code",
   "execution_count": 11,
   "metadata": {},
   "outputs": [],
   "source": [
    "### Input:\n",
    "# gt1, gt2: Genotype vectors: [l,2] 0: anc, 1 derived alle\n",
    "# pl1, pl2: genotype probabilities: [l]\n",
    "# p: allele frequencies: [l]"
   ]
  },
  {
   "cell_type": "code",
   "execution_count": 13,
   "metadata": {},
   "outputs": [],
   "source": [
    "### Probs for alternative alleles:\n",
    "b1 = gt1[:,1] * p + (1-gt1[:,1]) * (1-p) \n",
    "b2 = gt2[:,1] * p + (1-gt2[:,1]) * (1-p)\n",
    "\n",
    "### Prob identical\n",
    "b3 = gt1[:,0] * gt2[:,0] * (1-p) + \\  # prob homo anc\n",
    "     (1-gt1[:,0]) * (1-gt2[:,0]) * p  # prob homo derived\n",
    "    \n",
    "b = b1 * b2 * b3"
   ]
  },
  {
   "cell_type": "markdown",
   "metadata": {},
   "source": [
    "### Do the four sharing states"
   ]
  },
  {
   "cell_type": "code",
   "execution_count": 46,
   "metadata": {},
   "outputs": [
    {
     "data": {
      "text/plain": [
       "0.032400000000000005"
      ]
     },
     "execution_count": 46,
     "metadata": {},
     "output_type": "execute_result"
    }
   ],
   "source": [
    "(2*0.9*0.1)**2"
   ]
  },
  {
   "cell_type": "markdown",
   "metadata": {},
   "source": [
    "### Test data"
   ]
  },
  {
   "cell_type": "code",
   "execution_count": 3,
   "metadata": {},
   "outputs": [],
   "source": [
    "gt1 = np.array([[0,1,0],[0,0,1],[1,0,0],[0,1,0]]).T\n",
    "gt2 = np.array([[0,1,0],[0,0,1],[0,0,1],[0,0,1]]).T\n",
    "gts = np.stack((gt1, gt2))\n",
    "p = np.array([0.9,0.8,0.7,0.5])"
   ]
  },
  {
   "cell_type": "code",
   "execution_count": 9,
   "metadata": {},
   "outputs": [],
   "source": [
    "gt1 = np.array([[0,1],[0,1],[1,0],[0,1]])\n",
    "gt2 = np.array([[0,1],[0,1],[0,0],[0,0]])\n",
    "gts_h = np.stack((gt1, gt2))\n",
    "p = np.array([0.9,0.8,0.7,0.5])"
   ]
  },
  {
   "cell_type": "code",
   "execution_count": 10,
   "metadata": {},
   "outputs": [
    {
     "data": {
      "text/plain": [
       "(4, 2)"
      ]
     },
     "execution_count": 10,
     "metadata": {},
     "output_type": "execute_result"
    }
   ],
   "source": [
    "np.shape(gt1)"
   ]
  },
  {
   "cell_type": "code",
   "execution_count": 40,
   "metadata": {},
   "outputs": [
    {
     "data": {
      "text/plain": [
       "0.04409999999999999"
      ]
     },
     "execution_count": 40,
     "metadata": {},
     "output_type": "execute_result"
    }
   ],
   "source": [
    "0.3**2 * 0.7**2"
   ]
  },
  {
   "cell_type": "code",
   "execution_count": 41,
   "metadata": {},
   "outputs": [
    {
     "data": {
      "text/plain": [
       "(2, 3, 4)"
      ]
     },
     "execution_count": 41,
     "metadata": {},
     "output_type": "execute_result"
    }
   ],
   "source": [
    "np.shape(gts)"
   ]
  },
  {
   "cell_type": "code",
   "execution_count": 42,
   "metadata": {},
   "outputs": [
    {
     "data": {
      "text/plain": [
       "array([[0, 1, 0],\n",
       "       [0, 0, 1],\n",
       "       [1, 0, 0],\n",
       "       [0, 1, 0]])"
      ]
     },
     "execution_count": 42,
     "metadata": {},
     "output_type": "execute_result"
    }
   ],
   "source": [
    "gt1.T"
   ]
  },
  {
   "cell_type": "code",
   "execution_count": 24,
   "metadata": {},
   "outputs": [
    {
     "data": {
      "text/plain": [
       "array([[0, 0, 0, 0],\n",
       "       [1, 0, 0, 0],\n",
       "       [0, 1, 1, 1]])"
      ]
     },
     "execution_count": 24,
     "metadata": {},
     "output_type": "execute_result"
    }
   ],
   "source": [
    "gts[1,:]"
   ]
  },
  {
   "cell_type": "code",
   "execution_count": null,
   "metadata": {},
   "outputs": [],
   "source": []
  }
 ],
 "metadata": {
  "kernelspec": {
   "display_name": "Python 3",
   "language": "python",
   "name": "python3"
  },
  "language_info": {
   "codemirror_mode": {
    "name": "ipython",
    "version": 3
   },
   "file_extension": ".py",
   "mimetype": "text/x-python",
   "name": "python",
   "nbconvert_exporter": "python",
   "pygments_lexer": "ipython3",
   "version": "3.7.4"
  }
 },
 "nbformat": 4,
 "nbformat_minor": 4
}
