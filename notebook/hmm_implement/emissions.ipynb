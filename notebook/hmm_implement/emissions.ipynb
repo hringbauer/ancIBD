{
 "cells": [
  {
   "cell_type": "markdown",
   "metadata": {},
   "source": [
    "# Class that implements Emission Matrix for IBD detection"
   ]
  },
  {
   "cell_type": "code",
   "execution_count": 62,
   "metadata": {},
   "outputs": [
    {
     "name": "stdout",
     "output_type": "stream",
     "text": [
      "compute-a-17-102.o2.rc.hms.harvard.edu\n",
      "HSM O2 Computational partition detected.\n",
      "/n/groups/reich/hringbauer/git/hapBLOCK\n",
      "CPU Count: 32\n"
     ]
    }
   ],
   "source": [
    "import numpy as np\n",
    "import pandas as pd\n",
    "import matplotlib.pyplot as plt\n",
    "import matplotlib.gridspec as gridspec\n",
    "import socket as socket\n",
    "import os as os\n",
    "import sys as sys\n",
    "import multiprocessing as mp\n",
    "import h5py\n",
    "import allel\n",
    "import itertools as it\n",
    "\n",
    "socket_name = socket.gethostname()\n",
    "print(socket_name)\n",
    "\n",
    "if socket_name.startswith(\"compute-\"):\n",
    "    print(\"HSM O2 Computational partition detected.\")\n",
    "    path = \"/n/groups/reich/hringbauer/git/hapBLOCK/\"  # The Path on Harvard Cluster\n",
    "else: \n",
    "    raise RuntimeWarning(\"Not compatible machine. Check!!\")\n",
    "\n",
    "os.chdir(path)  # Set the right Path (in line with Atom default)\n",
    "\n",
    "print(os.getcwd())\n",
    "print(f\"CPU Count: {mp.cpu_count()}\")"
   ]
  },
  {
   "cell_type": "code",
   "execution_count": 2,
   "metadata": {},
   "outputs": [],
   "source": [
    "\"\"\"\n",
    "Class for calculating Emission Probabilities.\n",
    "Contains Sub-Classes, as well as factory Method.\n",
    "@ Author: Harald Ringbauer, 2019, All rights reserved\n",
    "\"\"\"\n",
    "\n",
    "###############################\n",
    "###############################\n",
    "\n",
    "class Emissions(object):\n",
    "    \"\"\"Class for emission probabilities\n",
    "    Has methods to return emission probabilities\"\"\"\n",
    "\n",
    "    def give_emission_matrix(self, remember=False):\n",
    "        \"\"\"Return Emission Matrix - for every possible set of states\"\"\"\n",
    "        raise NotImplementedError(\"Implement This in specific subclass.\")\n",
    "\n",
    "    def give_emission_state(self, ob_stat):\n",
    "        \"\"\"Gives the emission matrix of path of states\"\"\"\n",
    "        raise NotImplementedError(\"Implement This in specific subclass.\")\n",
    "    \n",
    "    def give_emission_log(self, ob_stat, dtype=np.float):\n",
    "        \"\"\"Return the full emission Probability directly in Log Space. \n",
    "        ob_stat: Observed Readcounts [2,l] array of 0/1 \"\"\"\n",
    "        raise NotImplementedError(\"Implement This in specific subclass.\")\n",
    "\n",
    "    def set_params(self, **kwargs):\n",
    "        \"\"\"Set the Parameters.\n",
    "        Takes keyworded arguments\"\"\"\n",
    "        for key, value in kwargs.items():\n",
    "            setattr(self, key, value)"
   ]
  },
  {
   "cell_type": "code",
   "execution_count": 5,
   "metadata": {},
   "outputs": [],
   "source": [
    "### Input: Two genotype probability arrays: in format [lx3x2]\n",
    "### Output: Emission matrix of form [lx5] 1 Background state. 4 copying states"
   ]
  },
  {
   "cell_type": "code",
   "execution_count": 10,
   "metadata": {},
   "outputs": [],
   "source": [
    "### Describe HW State GT Probabilities [3xl]\n",
    "t0 = np.stack(((1-p)**2, 2*(1-p)*p, p**2))\n",
    "#m0 = t0 . gt1"
   ]
  },
  {
   "cell_type": "code",
   "execution_count": 28,
   "metadata": {},
   "outputs": [],
   "source": [
    "### Emission Probability 1\n",
    "b1 = np.sum(gts[0,:,:] * t0, axis=0)\n",
    "### Emission Probability 2\n",
    "b2 = np.sum(gts[1,:,:] * t0, axis=0)\n",
    "b = b1 * b2 ## Multiply the two probabilities"
   ]
  },
  {
   "cell_type": "code",
   "execution_count": 30,
   "metadata": {},
   "outputs": [
    {
     "data": {
      "text/plain": [
       "(3, 4)"
      ]
     },
     "execution_count": 30,
     "metadata": {},
     "output_type": "execute_result"
    }
   ],
   "source": [
    "np.shape(t0)"
   ]
  },
  {
   "cell_type": "markdown",
   "metadata": {},
   "source": [
    "### Background State"
   ]
  },
  {
   "cell_type": "code",
   "execution_count": 5,
   "metadata": {},
   "outputs": [],
   "source": [
    "def hw_background_state_2gls(gls, p):\n",
    "    \"\"\"Emission probability for background state.\n",
    "    gls: 2x3xl probabilities of genotypes. 2: two inds 3: 3 genotypes, l loci\n",
    "    p: Derived allele freqquency [l]\"\"\"\n",
    "    hw = np.stack(((1-p)**2, 2*(1-p)*p, p**2)) # hw: Hardy Weinberg probabilies of hidden genotypes [3xl]\n",
    "    b1 = np.sum(gls[0,:,:] * hw, axis=0)\n",
    "    b2 = np.sum(gls[1,:,:] * hw, axis=0)\n",
    "    b = b1 * b2 # Multiply probabilites (it's ind.)\n",
    "    return b"
   ]
  },
  {
   "cell_type": "code",
   "execution_count": 103,
   "metadata": {},
   "outputs": [],
   "source": [
    "### Calculate the Hardy-Weinberg probabilites\n",
    "\n",
    "def hw_prob_haplo_pp(ht_p, p):\n",
    "    \"\"\"Calculate HW Probabilitiy of haplotype gt\n",
    "    ht_p: [l,2] Array of haplotype likelihood, l locis, 2: Nr of genotypes.\n",
    "    First one is ancestral. Second one is derived prob.\n",
    "    p: [l] Array of (derived) allele frequencies\n",
    "    returns [l] vector of HW prob of gt\"\"\"\n",
    "    prob = ht_p[:,1] * p +  ht_p[:,0] * (1-p)\n",
    "    return prob\n",
    "\n",
    "def hw_prob_haplo_share_pp(ht_p1, ht_p2, p):\n",
    "    \"\"\"Calculate probability of sharing haplotypes\n",
    "    ht_p1, ht_p2: Array of haplotype likelihood, l locis, 2: Nr of genotypes.\n",
    "    p: [l] Array of (derived) allele frequencies\n",
    "    returns [l] vector of prob that shared haplotype\"\"\"\n",
    "    p_hw = np.stack((1-p,p), axis=1)\n",
    "    prob = np.sum(ht_p1 * ht_p2 * p_hw, axis=1)\n",
    "    return prob\n",
    "\n",
    "def hw_prob_haplos_pp(hts_p, p):\n",
    "    \"\"\"Calculate HW Probabilitiy of haplotype gt\n",
    "    gt: [k,l,2] Array of haplotype likelihood, k: Nr of haplotypesl locis, 2: Nr of genotypes.\n",
    "    First one is ancestral. Second one is derived prob.\n",
    "    p: [l] Array of (derived) allele frequencies\n",
    "    returns [l] vector of HW prob of gt\"\"\"\n",
    "    prob = hts_p[:,:,1] * p +  hts_p[:,:,0] * (1-p)\n",
    "    prob_tot = np.prod(prob, axis=0)\n",
    "    return prob_tot\n",
    "    \n",
    "def hw_probs_shared(hts_p, p, shared=(0,2), dtype=\"float\"):\n",
    "    \"\"\"Give emission probabilities for shared state.\n",
    "    Assume 0/1 2/3 are diploid haplotypes, and 0/2 are shared\n",
    "    hts_p: [4,l,2] Array of four haplotype probabilities\n",
    "    p: [l] array of derived genotype probability.\n",
    "    shared: tuple of length 2 giving the indices of the shared haplotypes\"\"\"\n",
    "    not_shared = [i for i in range(0,4) if i not in shared]\n",
    "    assert(len(not_shared)==2 & len(shared)==2)\n",
    "    p_hw1 = hw_prob_haplo_pp(hts_p[not_shared[0],:,:], p=p)\n",
    "    p_hw2 = hw_prob_haplo_pp(hts_p[not_shared[1],:,:], p=p)\n",
    "    p_shared = hw_prob_haplo_share_pp(hts_p[shared[0],:,:],hts_p[shared[1],:,:], p=p)\n",
    "    p = p_hw1*p_hw2*p_shared\n",
    "    return p\n",
    "    \n",
    "def give_emission_matrix(hts_p, p, dtype=\"float\"):\n",
    "    \"\"\"Give emission Matrix for 5-state HMM.\n",
    "    0th state: HW 1st-4th State: Haplotype Copying\n",
    "    Input: p: [l] Array of (derived) allele frequencies\n",
    "    hts_p: [4,l,2] Array of four haplotype probabilities.\n",
    "    Return: emission matrix [5,l].\"\"\"\n",
    "    l = np.shape(hts_p)[1]\n",
    "    e_mat = np.zeros((5,l), dtype=dtype)\n",
    "    e_mat[0,:] = hw_prob_haplos_pp(hts_p,p=p)\n",
    "    \n",
    "    for i, (j,k) in enumerate(it.product([0,1],repeat=2)):\n",
    "        e_mat[i+1,:] = hw_probs_shared(hts_p, p=p, shared=[j,k+2])\n",
    "        \n",
    "    return e_mat"
   ]
  },
  {
   "cell_type": "code",
   "execution_count": 94,
   "metadata": {},
   "outputs": [
    {
     "name": "stdout",
     "output_type": "stream",
     "text": [
      "0\n",
      "(0, 0)\n",
      "1\n",
      "(0, 1)\n",
      "2\n",
      "(1, 0)\n",
      "3\n",
      "(1, 1)\n"
     ]
    }
   ],
   "source": [
    "for i, (j,k) in enumerate(it.product([0,1],repeat=2)):\n",
    "    print(i)\n",
    "    print((j,k))"
   ]
  },
  {
   "cell_type": "code",
   "execution_count": 95,
   "metadata": {},
   "outputs": [
    {
     "data": {
      "text/plain": [
       "array([0.81, 0.04, 0.21, 0.25])"
      ]
     },
     "execution_count": 95,
     "metadata": {},
     "output_type": "execute_result"
    }
   ],
   "source": [
    "hw_prob_haplos_pp(hts, p)"
   ]
  },
  {
   "cell_type": "code",
   "execution_count": 97,
   "metadata": {},
   "outputs": [
    {
     "data": {
      "text/plain": [
       "array([0.9 , 0.2 , 0.  , 0.25])"
      ]
     },
     "execution_count": 97,
     "metadata": {},
     "output_type": "execute_result"
    }
   ],
   "source": [
    "hw_prob_haplo_share_pp(hts[0,:,:], hts[1,:,:],p=p)"
   ]
  },
  {
   "cell_type": "code",
   "execution_count": 98,
   "metadata": {},
   "outputs": [
    {
     "data": {
      "text/plain": [
       "array([0.729 , 0.008 , 0.    , 0.0625])"
      ]
     },
     "execution_count": 98,
     "metadata": {},
     "output_type": "execute_result"
    }
   ],
   "source": [
    "hw_probs_shared(hts2,p=p)"
   ]
  },
  {
   "cell_type": "code",
   "execution_count": 100,
   "metadata": {},
   "outputs": [
    {
     "data": {
      "text/plain": [
       "array([0.729 , 0.008 , 0.063 , 0.0625])"
      ]
     },
     "execution_count": 100,
     "metadata": {},
     "output_type": "execute_result"
    }
   ],
   "source": [
    "hw_probs_shared(hts2, p=p, shared=(1,2))"
   ]
  },
  {
   "cell_type": "code",
   "execution_count": 104,
   "metadata": {},
   "outputs": [
    {
     "ename": "IndexError",
     "evalue": "too many indices for array",
     "output_type": "error",
     "traceback": [
      "\u001b[0;31m---------------------------------------------------------------------------\u001b[0m",
      "\u001b[0;31mIndexError\u001b[0m                                Traceback (most recent call last)",
      "\u001b[0;32m<ipython-input-104-76bc0bcd1429>\u001b[0m in \u001b[0;36m<module>\u001b[0;34m\u001b[0m\n\u001b[0;32m----> 1\u001b[0;31m \u001b[0mgive_emission_matrix\u001b[0m\u001b[0;34m(\u001b[0m\u001b[0mht2\u001b[0m\u001b[0;34m,\u001b[0m \u001b[0mp\u001b[0m\u001b[0;34m)\u001b[0m\u001b[0;34m\u001b[0m\u001b[0;34m\u001b[0m\u001b[0m\n\u001b[0m",
      "\u001b[0;32m<ipython-input-103-414beae10c2b>\u001b[0m in \u001b[0;36mgive_emission_matrix\u001b[0;34m(hts_p, p, dtype)\u001b[0m\n\u001b[1;32m     51\u001b[0m     \u001b[0ml\u001b[0m \u001b[0;34m=\u001b[0m \u001b[0mnp\u001b[0m\u001b[0;34m.\u001b[0m\u001b[0mshape\u001b[0m\u001b[0;34m(\u001b[0m\u001b[0mhts_p\u001b[0m\u001b[0;34m)\u001b[0m\u001b[0;34m[\u001b[0m\u001b[0;36m1\u001b[0m\u001b[0;34m]\u001b[0m\u001b[0;34m\u001b[0m\u001b[0;34m\u001b[0m\u001b[0m\n\u001b[1;32m     52\u001b[0m     \u001b[0me_mat\u001b[0m \u001b[0;34m=\u001b[0m \u001b[0mnp\u001b[0m\u001b[0;34m.\u001b[0m\u001b[0mzeros\u001b[0m\u001b[0;34m(\u001b[0m\u001b[0;34m(\u001b[0m\u001b[0;36m5\u001b[0m\u001b[0;34m,\u001b[0m\u001b[0ml\u001b[0m\u001b[0;34m)\u001b[0m\u001b[0;34m,\u001b[0m \u001b[0mdtype\u001b[0m\u001b[0;34m=\u001b[0m\u001b[0mdtype\u001b[0m\u001b[0;34m)\u001b[0m\u001b[0;34m\u001b[0m\u001b[0;34m\u001b[0m\u001b[0m\n\u001b[0;32m---> 53\u001b[0;31m     \u001b[0me_mat\u001b[0m\u001b[0;34m[\u001b[0m\u001b[0;36m0\u001b[0m\u001b[0;34m,\u001b[0m\u001b[0;34m:\u001b[0m\u001b[0;34m]\u001b[0m \u001b[0;34m=\u001b[0m \u001b[0mhw_prob_haplos_pp\u001b[0m\u001b[0;34m(\u001b[0m\u001b[0mhts_p\u001b[0m\u001b[0;34m,\u001b[0m\u001b[0mp\u001b[0m\u001b[0;34m=\u001b[0m\u001b[0mp\u001b[0m\u001b[0;34m)\u001b[0m\u001b[0;34m\u001b[0m\u001b[0;34m\u001b[0m\u001b[0m\n\u001b[0m\u001b[1;32m     54\u001b[0m \u001b[0;34m\u001b[0m\u001b[0m\n\u001b[1;32m     55\u001b[0m     \u001b[0;32mfor\u001b[0m \u001b[0mi\u001b[0m\u001b[0;34m,\u001b[0m \u001b[0;34m(\u001b[0m\u001b[0mj\u001b[0m\u001b[0;34m,\u001b[0m\u001b[0mk\u001b[0m\u001b[0;34m)\u001b[0m \u001b[0;32min\u001b[0m \u001b[0menumerate\u001b[0m\u001b[0;34m(\u001b[0m\u001b[0mit\u001b[0m\u001b[0;34m.\u001b[0m\u001b[0mproduct\u001b[0m\u001b[0;34m(\u001b[0m\u001b[0;34m[\u001b[0m\u001b[0;36m0\u001b[0m\u001b[0;34m,\u001b[0m\u001b[0;36m1\u001b[0m\u001b[0;34m]\u001b[0m\u001b[0;34m,\u001b[0m\u001b[0mrepeat\u001b[0m\u001b[0;34m=\u001b[0m\u001b[0;36m2\u001b[0m\u001b[0;34m)\u001b[0m\u001b[0;34m)\u001b[0m\u001b[0;34m:\u001b[0m\u001b[0;34m\u001b[0m\u001b[0;34m\u001b[0m\u001b[0m\n",
      "\u001b[0;32m<ipython-input-103-414beae10c2b>\u001b[0m in \u001b[0;36mhw_prob_haplos_pp\u001b[0;34m(hts_p, p)\u001b[0m\n\u001b[1;32m     25\u001b[0m     \u001b[0mp\u001b[0m\u001b[0;34m:\u001b[0m \u001b[0;34m[\u001b[0m\u001b[0ml\u001b[0m\u001b[0;34m]\u001b[0m \u001b[0mArray\u001b[0m \u001b[0mof\u001b[0m \u001b[0;34m(\u001b[0m\u001b[0mderived\u001b[0m\u001b[0;34m)\u001b[0m \u001b[0mallele\u001b[0m \u001b[0mfrequencies\u001b[0m\u001b[0;34m\u001b[0m\u001b[0;34m\u001b[0m\u001b[0m\n\u001b[1;32m     26\u001b[0m     returns [l] vector of HW prob of gt\"\"\"\n\u001b[0;32m---> 27\u001b[0;31m     \u001b[0mprob\u001b[0m \u001b[0;34m=\u001b[0m \u001b[0mhts_p\u001b[0m\u001b[0;34m[\u001b[0m\u001b[0;34m:\u001b[0m\u001b[0;34m,\u001b[0m\u001b[0;34m:\u001b[0m\u001b[0;34m,\u001b[0m\u001b[0;36m1\u001b[0m\u001b[0;34m]\u001b[0m \u001b[0;34m*\u001b[0m \u001b[0mp\u001b[0m \u001b[0;34m+\u001b[0m  \u001b[0mhts_p\u001b[0m\u001b[0;34m[\u001b[0m\u001b[0;34m:\u001b[0m\u001b[0;34m,\u001b[0m\u001b[0;34m:\u001b[0m\u001b[0;34m,\u001b[0m\u001b[0;36m0\u001b[0m\u001b[0;34m]\u001b[0m \u001b[0;34m*\u001b[0m \u001b[0;34m(\u001b[0m\u001b[0;36m1\u001b[0m\u001b[0;34m-\u001b[0m\u001b[0mp\u001b[0m\u001b[0;34m)\u001b[0m\u001b[0;34m\u001b[0m\u001b[0;34m\u001b[0m\u001b[0m\n\u001b[0m\u001b[1;32m     28\u001b[0m     \u001b[0mprob_tot\u001b[0m \u001b[0;34m=\u001b[0m \u001b[0mnp\u001b[0m\u001b[0;34m.\u001b[0m\u001b[0mprod\u001b[0m\u001b[0;34m(\u001b[0m\u001b[0mprob\u001b[0m\u001b[0;34m,\u001b[0m \u001b[0maxis\u001b[0m\u001b[0;34m=\u001b[0m\u001b[0;36m0\u001b[0m\u001b[0;34m)\u001b[0m\u001b[0;34m\u001b[0m\u001b[0;34m\u001b[0m\u001b[0m\n\u001b[1;32m     29\u001b[0m     \u001b[0;32mreturn\u001b[0m \u001b[0mprob_tot\u001b[0m\u001b[0;34m\u001b[0m\u001b[0;34m\u001b[0m\u001b[0m\n",
      "\u001b[0;31mIndexError\u001b[0m: too many indices for array"
     ]
    }
   ],
   "source": [
    "give_emission_matrix(ht2, p)"
   ]
  },
  {
   "cell_type": "markdown",
   "metadata": {},
   "source": [
    "### IBD State\n",
    "w.l.o.g. assume first allele shared, second allele not shared"
   ]
  },
  {
   "cell_type": "code",
   "execution_count": 11,
   "metadata": {},
   "outputs": [],
   "source": [
    "### Input:\n",
    "# gt1, gt2: Genotype vectors: [l,2] 0: anc, 1 derived alle\n",
    "# pl1, pl2: genotype probabilities: [l]\n",
    "# p: allele frequencies: [l]"
   ]
  },
  {
   "cell_type": "code",
   "execution_count": 13,
   "metadata": {},
   "outputs": [],
   "source": [
    "### Probs for alternative alleles:\n",
    "b1 = gt1[:,1] * p + (1-gt1[:,1]) * (1-p) \n",
    "b2 = gt2[:,1] * p + (1-gt2[:,1]) * (1-p)\n",
    "\n",
    "### Prob identical\n",
    "b3 = gt1[:,0] * gt2[:,0] * (1-p) + \\  # prob homo anc\n",
    "     (1-gt1[:,0]) * (1-gt2[:,0]) * p  # prob homo derived\n",
    "    \n",
    "b = b1 * b2 * b3"
   ]
  },
  {
   "cell_type": "markdown",
   "metadata": {},
   "source": [
    "### Do the four sharing states"
   ]
  },
  {
   "cell_type": "code",
   "execution_count": 46,
   "metadata": {},
   "outputs": [
    {
     "data": {
      "text/plain": [
       "0.032400000000000005"
      ]
     },
     "execution_count": 46,
     "metadata": {},
     "output_type": "execute_result"
    }
   ],
   "source": [
    "(2*0.9*0.1)**2"
   ]
  },
  {
   "cell_type": "markdown",
   "metadata": {},
   "source": [
    "### Test data"
   ]
  },
  {
   "cell_type": "code",
   "execution_count": 3,
   "metadata": {},
   "outputs": [],
   "source": [
    "gt1 = np.array([[0,1,0],[0,0,1],[1,0,0],[0,1,0]]).T\n",
    "gt2 = np.array([[0,1,0],[0,0,1],[0,0,1],[0,0,1]]).T\n",
    "gts = np.stack((gt1, gt2))\n",
    "p = np.array([0.9,0.8,0.7,0.5])"
   ]
  },
  {
   "cell_type": "code",
   "execution_count": 52,
   "metadata": {},
   "outputs": [],
   "source": [
    "### Test data for biallelic case\n",
    "ht1 = np.array([[0,1],[1,0],[0,1],[0.1,0.9]])\n",
    "ht2 = np.array([[0,1],[1,0],[1,0],[0.5,0.5]])\n",
    "ht3 = np.array([[0,1],[1,0],[1,0],[0.5,0.5]])\n",
    "ht4 = np.array([[0,1],[1,0],[1,0],[0.5,0.5]])\n",
    "hts = np.stack((ht1, ht2))\n",
    "hts2 = np.stack((ht1,ht2,ht3,ht4))\n",
    "p = np.array([0.9,0.8,0.7,0.5])"
   ]
  },
  {
   "cell_type": "code",
   "execution_count": 53,
   "metadata": {},
   "outputs": [
    {
     "data": {
      "text/plain": [
       "array([[[0. , 1. ],\n",
       "        [1. , 0. ],\n",
       "        [0. , 1. ],\n",
       "        [0.1, 0.9]],\n",
       "\n",
       "       [[0. , 1. ],\n",
       "        [1. , 0. ],\n",
       "        [1. , 0. ],\n",
       "        [0.5, 0.5]],\n",
       "\n",
       "       [[0. , 1. ],\n",
       "        [1. , 0. ],\n",
       "        [1. , 0. ],\n",
       "        [0.5, 0.5]],\n",
       "\n",
       "       [[0. , 1. ],\n",
       "        [1. , 0. ],\n",
       "        [1. , 0. ],\n",
       "        [0.5, 0.5]]])"
      ]
     },
     "execution_count": 53,
     "metadata": {},
     "output_type": "execute_result"
    }
   ],
   "source": [
    "hts2"
   ]
  },
  {
   "cell_type": "code",
   "execution_count": 34,
   "metadata": {},
   "outputs": [],
   "source": [
    "a=np.stack((1-p,p), axis=1)"
   ]
  },
  {
   "cell_type": "code",
   "execution_count": 35,
   "metadata": {},
   "outputs": [
    {
     "data": {
      "text/plain": [
       "(4, 2)"
      ]
     },
     "execution_count": 35,
     "metadata": {},
     "output_type": "execute_result"
    }
   ],
   "source": [
    "np.shape(a)"
   ]
  },
  {
   "cell_type": "code",
   "execution_count": 42,
   "metadata": {},
   "outputs": [
    {
     "data": {
      "text/plain": [
       "array([[0, 1, 0],\n",
       "       [0, 0, 1],\n",
       "       [1, 0, 0],\n",
       "       [0, 1, 0]])"
      ]
     },
     "execution_count": 42,
     "metadata": {},
     "output_type": "execute_result"
    }
   ],
   "source": [
    "gt1.T"
   ]
  },
  {
   "cell_type": "code",
   "execution_count": 24,
   "metadata": {},
   "outputs": [
    {
     "data": {
      "text/plain": [
       "array([[0, 0, 0, 0],\n",
       "       [1, 0, 0, 0],\n",
       "       [0, 1, 1, 1]])"
      ]
     },
     "execution_count": 24,
     "metadata": {},
     "output_type": "execute_result"
    }
   ],
   "source": [
    "gts[1,:]"
   ]
  },
  {
   "cell_type": "code",
   "execution_count": null,
   "metadata": {},
   "outputs": [],
   "source": []
  }
 ],
 "metadata": {
  "kernelspec": {
   "display_name": "Python 3",
   "language": "python",
   "name": "python3"
  },
  "language_info": {
   "codemirror_mode": {
    "name": "ipython",
    "version": 3
   },
   "file_extension": ".py",
   "mimetype": "text/x-python",
   "name": "python",
   "nbconvert_exporter": "python",
   "pygments_lexer": "ipython3",
   "version": "3.7.4"
  }
 },
 "nbformat": 4,
 "nbformat_minor": 4
}
