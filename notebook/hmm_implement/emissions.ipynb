{
 "cells": [
  {
   "cell_type": "markdown",
   "metadata": {},
   "source": [
    "# Class that implements Emission Matrix for IBD detection"
   ]
  },
  {
   "cell_type": "code",
   "execution_count": 1,
   "metadata": {},
   "outputs": [
    {
     "name": "stdout",
     "output_type": "stream",
     "text": [
      "compute-a-16-54.o2.rc.hms.harvard.edu\n",
      "HSM O2 Computational partition detected.\n",
      "/n/groups/reich/hringbauer/git/hapBLOCK\n",
      "CPU Count: 32\n"
     ]
    }
   ],
   "source": [
    "import numpy as np\n",
    "import pandas as pd\n",
    "import matplotlib.pyplot as plt\n",
    "import matplotlib.gridspec as gridspec\n",
    "import socket as socket\n",
    "import os as os\n",
    "import sys as sys\n",
    "import multiprocessing as mp\n",
    "import h5py\n",
    "import allel\n",
    "import itertools as it\n",
    "\n",
    "socket_name = socket.gethostname()\n",
    "print(socket_name)\n",
    "\n",
    "if socket_name.startswith(\"compute-\"):\n",
    "    print(\"HSM O2 Computational partition detected.\")\n",
    "    path = \"/n/groups/reich/hringbauer/git/hapBLOCK/\"  # The Path on Harvard Cluster\n",
    "else: \n",
    "    raise RuntimeWarning(\"Not compatible machine. Check!!\")\n",
    "\n",
    "os.chdir(path)  # Set the right Path (in line with Atom default)\n",
    "\n",
    "print(os.getcwd())\n",
    "print(f\"CPU Count: {mp.cpu_count()}\")"
   ]
  },
  {
   "cell_type": "code",
   "execution_count": 17,
   "metadata": {},
   "outputs": [],
   "source": [
    "\"\"\"\n",
    "Class containing functions to calculate Emission Probabilities.\n",
    "Contains Sub-Classes, as well as factory Method to return the \n",
    "correct subclass\n",
    "@ Author: Harald Ringbauer, September 2020\n",
    "\"\"\"\n",
    "\n",
    "###############################\n",
    "###############################\n",
    "\n",
    "class Emissions(object):\n",
    "    \"\"\"Class for emission probabilities\n",
    "    Has methods to return emission probabilities\"\"\"\n",
    "\n",
    "    def give_emission_matrix(self, **kwargs):\n",
    "        \"\"\"Return Emission Matrix - for every possible set of states\"\"\"\n",
    "        raise NotImplementedError(\"Implement This in specific subclass.\")\n",
    "    \n",
    "    def give_emission_log(self, **kwargs):\n",
    "        \"\"\"Return the full emission Probability directly in Log Space. \n",
    "        By default just log the emissiom matrix. Can be overwritten for\n",
    "        nice computational properties\"\"\"\n",
    "        m = self.give_emission_matrix(**kwargs)\n",
    "        #assert(np.min(m)>0)\n",
    "        return np.log(m)\n",
    "\n",
    "    def set_params(self, **kwargs):\n",
    "        \"\"\"Set the Parameters.\n",
    "        Takes keyworded arguments\"\"\"\n",
    "        for key, value in kwargs.items():\n",
    "            setattr(self, key, value)\n",
    "            \n",
    "class HaplotypeSharingEmissions(Emissions):\n",
    "    \"\"\"Class for emission probabilities of diploid haplotypes who\n",
    "    possibly share one haplotype\"\"\"\n",
    "    \n",
    "    def hw_prob_haplo_pp(self, ht_p, p):\n",
    "        \"\"\"Calculate HW Probabilitiy of haplotype gt\n",
    "        ht_p: [l,2] Array of haplotype likelihood, l locis, 2: Nr of genotypes.\n",
    "        First one is ancestral. Second one is derived prob.\n",
    "        p: [l] Array of (derived) allele frequencies\n",
    "        returns [l] vector of HW prob of gt\"\"\"\n",
    "        prob = ht_p[:,1] * p +  ht_p[:,0] * (1-p)\n",
    "        return prob\n",
    "\n",
    "    def hw_prob_haplo_share_pp(self, ht_p1, ht_p2, p):\n",
    "        \"\"\"Calculate probability of sharing haplotypes\n",
    "        ht_p1, ht_p2: Array of haplotype likelihood, l locis, 2: Nr of genotypes.\n",
    "        p: [l] Array of (derived) allele frequencies\n",
    "        returns [l] vector of prob that shared haplotype\"\"\"\n",
    "        p_hw = np.stack((1-p,p), axis=1)\n",
    "        prob = np.sum(ht_p1 * ht_p2 * p_hw, axis=1)\n",
    "        return prob\n",
    "\n",
    "    def hw_prob_haplos_pp(self, hts_p, p):\n",
    "        \"\"\"Calculate HW Probabilitiy of haplotype gt\n",
    "        gt: [k,l,2] Array of haplotype likelihood, k: Nr of haplotypesl locis, 2: Nr of genotypes.\n",
    "        First one is ancestral. Second one is derived prob.\n",
    "        p: [l] Array of (derived) allele frequencies\n",
    "        returns [l] vector of HW prob of gt\"\"\"\n",
    "        prob = hts_p[:,:,1] * p +  hts_p[:,:,0] * (1-p)\n",
    "        prob_tot = np.prod(prob, axis=0)\n",
    "        return prob_tot\n",
    "\n",
    "    def hw_probs_shared(self, hts_p, p, shared=(0,2), dtype=\"float\"):\n",
    "        \"\"\"Give emission probabilities for shared state.\n",
    "        Assume 0/1 2/3 are diploid haplotypes, and 0/2 are shared\n",
    "        hts_p: [4,l,2] Array of four haplotype probabilities\n",
    "        p: [l] array of derived genotype probability.\n",
    "        shared: tuple of length 2 giving the indices of the shared haplotypes\"\"\"\n",
    "        not_shared = [i for i in range(0,4) if i not in shared]\n",
    "        assert(len(not_shared)==2 & len(shared)==2)\n",
    "        p_hw1 = self.hw_prob_haplo_pp(hts_p[not_shared[0],:,:], p=p)\n",
    "        p_hw2 = self.hw_prob_haplo_pp(hts_p[not_shared[1],:,:], p=p)\n",
    "        p_shared = self.hw_prob_haplo_share_pp(hts_p[shared[0],:,:],hts_p[shared[1],:,:], p=p)\n",
    "        p = p_hw1*p_hw2*p_shared\n",
    "        return p\n",
    "\n",
    "    def give_emission_matrix(self, hts_p, p, dtype=\"float\"):\n",
    "        \"\"\"Give emission Matrix for 5-state HMM.\n",
    "        0th state: HW 1st-4th State: Haplotype Copying\n",
    "        Input: p: [l] Array of (derived) allele frequencies\n",
    "        hts_p: [4,l,2] Array of four haplotype probabilities.\n",
    "        Return: emission matrix [5,l].\"\"\"\n",
    "        l = np.shape(hts_p)[1]\n",
    "        e_mat = np.zeros((5,l), dtype=dtype)\n",
    "        e_mat[0,:] = self.hw_prob_haplos_pp(hts_p,p=p)\n",
    "        for i, (j,k) in enumerate(it.product([0,1],repeat=2)):\n",
    "            e_mat[i+1,:] = self.hw_probs_shared(hts_p, p=p, shared=[j,k+2])\n",
    "        return e_mat\n",
    "    \n",
    "def load_emission_model(e_model=\"haploid_gl\"):\n",
    "    \"\"\"Factory method to return the right Emission Model\"\"\"\n",
    "    if e_model == \"haploid_gl\":\n",
    "        e_obj = HaplotypeSharingEmissions()\n",
    "    else:\n",
    "        raise NotImplementedError(\"Emission Model not found!\")\n",
    "    return e_obj"
   ]
  },
  {
   "cell_type": "code",
   "execution_count": 33,
   "metadata": {},
   "outputs": [
    {
     "data": {
      "text/plain": [
       "0.504"
      ]
     },
     "execution_count": 33,
     "metadata": {},
     "output_type": "execute_result"
    }
   ],
   "source": [
    "0.9*0.8*0.7"
   ]
  },
  {
   "cell_type": "code",
   "execution_count": 97,
   "metadata": {},
   "outputs": [
    {
     "data": {
      "text/plain": [
       "array([0.9 , 0.2 , 0.  , 0.25])"
      ]
     },
     "execution_count": 97,
     "metadata": {},
     "output_type": "execute_result"
    }
   ],
   "source": [
    "hw_prob_haplo_share_pp(hts[0,:,:], hts[1,:,:],p=p)"
   ]
  },
  {
   "cell_type": "code",
   "execution_count": 98,
   "metadata": {},
   "outputs": [
    {
     "data": {
      "text/plain": [
       "array([0.729 , 0.008 , 0.    , 0.0625])"
      ]
     },
     "execution_count": 98,
     "metadata": {},
     "output_type": "execute_result"
    }
   ],
   "source": [
    "hw_probs_shared(hts2,p=p)"
   ]
  },
  {
   "cell_type": "code",
   "execution_count": 100,
   "metadata": {},
   "outputs": [
    {
     "data": {
      "text/plain": [
       "array([0.729 , 0.008 , 0.063 , 0.0625])"
      ]
     },
     "execution_count": 100,
     "metadata": {},
     "output_type": "execute_result"
    }
   ],
   "source": [
    "hw_probs_shared(hts2, p=p, shared=(1,2))"
   ]
  },
  {
   "cell_type": "code",
   "execution_count": 43,
   "metadata": {},
   "outputs": [
    {
     "data": {
      "text/plain": [
       "0.0016000000000000003"
      ]
     },
     "execution_count": 43,
     "metadata": {},
     "output_type": "execute_result"
    }
   ],
   "source": [
    "0.2**4"
   ]
  },
  {
   "cell_type": "code",
   "execution_count": null,
   "metadata": {},
   "outputs": [],
   "source": [
    "give_emission_matrix(ht2, p)"
   ]
  },
  {
   "cell_type": "code",
   "execution_count": 6,
   "metadata": {},
   "outputs": [],
   "source": [
    "e = load_emission_model(e_model=\"haploid_gl\")"
   ]
  },
  {
   "cell_type": "code",
   "execution_count": 16,
   "metadata": {},
   "outputs": [
    {
     "data": {
      "text/plain": [
       "array([0.6561, 0.0016, 0.0189, 0.0625])"
      ]
     },
     "execution_count": 16,
     "metadata": {},
     "output_type": "execute_result"
    }
   ],
   "source": [
    "e.hw_prob_haplos_pp(hts2, p)"
   ]
  },
  {
   "cell_type": "code",
   "execution_count": 13,
   "metadata": {},
   "outputs": [
    {
     "data": {
      "text/plain": [
       "array([[0.6561, 0.0016, 0.0189, 0.0625],\n",
       "       [0.729 , 0.008 , 0.    , 0.0625],\n",
       "       [0.729 , 0.008 , 0.    , 0.0625],\n",
       "       [0.729 , 0.008 , 0.063 , 0.0625],\n",
       "       [0.729 , 0.008 , 0.063 , 0.0625]])"
      ]
     },
     "execution_count": 13,
     "metadata": {},
     "output_type": "execute_result"
    }
   ],
   "source": [
    "e.give_emission_matrix(hts2, p)"
   ]
  },
  {
   "cell_type": "markdown",
   "metadata": {},
   "source": [
    "### IBD State\n",
    "w.l.o.g. assume first allele shared, second allele not shared"
   ]
  },
  {
   "cell_type": "code",
   "execution_count": 11,
   "metadata": {},
   "outputs": [],
   "source": [
    "### Input:\n",
    "# gt1, gt2: Genotype vectors: [l,2] 0: anc, 1 derived alle\n",
    "# pl1, pl2: genotype probabilities: [l]\n",
    "# p: allele frequencies: [l]"
   ]
  },
  {
   "cell_type": "code",
   "execution_count": 13,
   "metadata": {},
   "outputs": [],
   "source": [
    "### Probs for alternative alleles:\n",
    "b1 = gt1[:,1] * p + (1-gt1[:,1]) * (1-p) \n",
    "b2 = gt2[:,1] * p + (1-gt2[:,1]) * (1-p)\n",
    "\n",
    "### Prob identical\n",
    "b3 = gt1[:,0] * gt2[:,0] * (1-p) + \\  # prob homo anc\n",
    "     (1-gt1[:,0]) * (1-gt2[:,0]) * p  # prob homo derived\n",
    "    \n",
    "b = b1 * b2 * b3"
   ]
  },
  {
   "cell_type": "markdown",
   "metadata": {},
   "source": [
    "### Do the four sharing states"
   ]
  },
  {
   "cell_type": "code",
   "execution_count": 46,
   "metadata": {},
   "outputs": [
    {
     "data": {
      "text/plain": [
       "0.032400000000000005"
      ]
     },
     "execution_count": 46,
     "metadata": {},
     "output_type": "execute_result"
    }
   ],
   "source": [
    "(2*0.9*0.1)**2"
   ]
  },
  {
   "cell_type": "markdown",
   "metadata": {},
   "source": [
    "# Test data"
   ]
  },
  {
   "cell_type": "code",
   "execution_count": 3,
   "metadata": {},
   "outputs": [],
   "source": [
    "gt1 = np.array([[0,1,0],[0,0,1],[1,0,0],[0,1,0]]).T\n",
    "gt2 = np.array([[0,1,0],[0,0,1],[0,0,1],[0,0,1]]).T\n",
    "gts = np.stack((gt1, gt2))\n",
    "p = np.array([0.9,0.8,0.7,0.5])"
   ]
  },
  {
   "cell_type": "code",
   "execution_count": 7,
   "metadata": {},
   "outputs": [],
   "source": [
    "### Test data for biallelic case\n",
    "ht1 = np.array([[0,1],[1,0],[0,1],[0.1,0.9]])\n",
    "ht2 = np.array([[0,1],[1,0],[1,0],[0.5,0.5]])\n",
    "ht3 = np.array([[0,1],[1,0],[1,0],[0.5,0.5]])\n",
    "ht4 = np.array([[0,1],[1,0],[1,0],[0.5,0.5]])\n",
    "hts = np.stack((ht1, ht2))\n",
    "hts2 = np.stack((ht1,ht2,ht3,ht4))\n",
    "p = np.array([0.9,0.8,0.7,0.5])"
   ]
  },
  {
   "cell_type": "code",
   "execution_count": 12,
   "metadata": {},
   "outputs": [
    {
     "data": {
      "text/plain": [
       "(4, 4, 2)"
      ]
     },
     "execution_count": 12,
     "metadata": {},
     "output_type": "execute_result"
    }
   ],
   "source": [
    "np.shape(hts2)"
   ]
  },
  {
   "cell_type": "code",
   "execution_count": 34,
   "metadata": {},
   "outputs": [],
   "source": [
    "a=np.stack((1-p,p), axis=1)"
   ]
  },
  {
   "cell_type": "code",
   "execution_count": 44,
   "metadata": {},
   "outputs": [
    {
     "data": {
      "text/plain": [
       "0.018899999999999997"
      ]
     },
     "execution_count": 44,
     "metadata": {},
     "output_type": "execute_result"
    }
   ],
   "source": [
    "0.3**3 * 0.7"
   ]
  },
  {
   "cell_type": "code",
   "execution_count": 20,
   "metadata": {},
   "outputs": [
    {
     "data": {
      "text/plain": [
       "array([0.9, 0.8, 0.7, 0.5])"
      ]
     },
     "execution_count": 20,
     "metadata": {},
     "output_type": "execute_result"
    }
   ],
   "source": [
    "p"
   ]
  },
  {
   "cell_type": "code",
   "execution_count": 23,
   "metadata": {},
   "outputs": [
    {
     "data": {
      "text/plain": [
       "0.027000000000000003"
      ]
     },
     "execution_count": 23,
     "metadata": {},
     "output_type": "execute_result"
    }
   ],
   "source": [
    "0.9 * 0.2 * 0.3 * 0.5"
   ]
  },
  {
   "cell_type": "code",
   "execution_count": 27,
   "metadata": {},
   "outputs": [
    {
     "data": {
      "text/plain": [
       "0.0030000000000000005"
      ]
     },
     "execution_count": 27,
     "metadata": {},
     "output_type": "execute_result"
    }
   ],
   "source": [
    "0.1 * 0.2 *0.3*0.5"
   ]
  },
  {
   "cell_type": "code",
   "execution_count": 26,
   "metadata": {},
   "outputs": [
    {
     "data": {
      "text/plain": [
       "array([0.9, 0.8, 0.7, 0.5])"
      ]
     },
     "execution_count": 26,
     "metadata": {},
     "output_type": "execute_result"
    }
   ],
   "source": [
    "p"
   ]
  },
  {
   "cell_type": "code",
   "execution_count": null,
   "metadata": {},
   "outputs": [],
   "source": []
  }
 ],
 "metadata": {
  "kernelspec": {
   "display_name": "Python 3",
   "language": "python",
   "name": "python3"
  },
  "language_info": {
   "codemirror_mode": {
    "name": "ipython",
    "version": 3
   },
   "file_extension": ".py",
   "mimetype": "text/x-python",
   "name": "python",
   "nbconvert_exporter": "python",
   "pygments_lexer": "ipython3",
   "version": "3.7.4"
  }
 },
 "nbformat": 4,
 "nbformat_minor": 4
}
