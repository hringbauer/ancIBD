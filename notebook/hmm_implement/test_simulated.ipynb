{
 "cells": [
  {
   "cell_type": "markdown",
   "metadata": {},
   "source": [
    "### Test the Simulated Data"
   ]
  },
  {
   "cell_type": "code",
   "execution_count": 1,
   "metadata": {},
   "outputs": [
    {
     "name": "stdout",
     "output_type": "stream",
     "text": [
      "compute-a-16-151.o2.rc.hms.harvard.edu\n",
      "HSM O2 Computational partition detected.\n",
      "/n/groups/reich/hringbauer/git/hapBLOCK\n",
      "CPU Count: 32\n"
     ]
    }
   ],
   "source": [
    "import numpy as np\n",
    "import pandas as pd\n",
    "import matplotlib.pyplot as plt\n",
    "import matplotlib.gridspec as gridspec\n",
    "import socket as socket\n",
    "import os as os\n",
    "import sys as sys\n",
    "import multiprocessing as mp\n",
    "import h5py\n",
    "import allel\n",
    "import itertools as it\n",
    "import pickle as pickle\n",
    "\n",
    "socket_name = socket.gethostname()\n",
    "print(socket_name)\n",
    "\n",
    "if socket_name.startswith(\"compute-\"):\n",
    "    print(\"HSM O2 Computational partition detected.\")\n",
    "    path = \"/n/groups/reich/hringbauer/git/hapBLOCK/\"  # The Path on Harvard Cluster\n",
    "else: \n",
    "    raise RuntimeWarning(\"Not compatible machine. Check!!\")\n",
    "\n",
    "os.chdir(path)  # Set the right Path (in line with Atom default)\n",
    "sys.path.append(\"./python3/\") \n",
    "from main import HMM_Full\n",
    "from plot.plot_posterior import plot_posterior, plot_posterior_panel\n",
    "\n",
    "print(os.getcwd())\n",
    "print(f\"CPU Count: {mp.cpu_count()}\")"
   ]
  },
  {
   "cell_type": "markdown",
   "metadata": {},
   "source": [
    "# Read the simulated data"
   ]
  },
  {
   "cell_type": "markdown",
   "metadata": {},
   "source": [
    "### Load Data via the Load Object"
   ]
  },
  {
   "cell_type": "code",
   "execution_count": 9,
   "metadata": {},
   "outputs": [
    {
     "name": "stdout",
     "output_type": "stream",
     "text": [
      "Minimum Genetic Map: 1.0000 Morgan\n",
      "Maximum Genetic Map: 1.0000 Morgan\n",
      "Gaps bigger than 0.1 cM: 0\n",
      "Maximum Gap: 0.0000 cM\n",
      "Upper Gap Cutoff: 100.0000 cM\n",
      "Reference Number: 4\n",
      "Memory Usage Full:\n",
      "Memory Usage: 120.938496 mB\n",
      "Total Log likelihood: -26126.161\n",
      "Fraction Markers above IBD cutoff: 0.1999\n",
      "Called n=0 IBD Blocks > 4.0 cM\n",
      "Longest Block: nan cM\n",
      "CPU times: user 149 ms, sys: 2.86 ms, total: 152 ms\n",
      "Wall time: 147 ms\n"
     ]
    }
   ],
   "source": [
    "%%time\n",
    "h = HMM_Full(folder_in=\"./output/simulated/undermodel/sim2a/\", l_model=\"simulated\", t_model=\"standard\", \n",
    "                 e_model=\"haploid_gl\", h_model = \"FiveStateFast\",\n",
    "                 output=True, load=True)\n",
    "h.t_obj.set_params(ibd_in = 0.0005, ibd_out = 0.001, ibd_jump = 0.05, max_gap=1.0)\n",
    "post, r_vec, fwd, bwd, tot_ll  = h.run_fwd_bwd()"
   ]
  },
  {
   "cell_type": "code",
   "execution_count": 8,
   "metadata": {},
   "outputs": [
    {
     "data": {
      "text/plain": [
       "array([1., 1., 1., ..., 1., 1., 1.])"
      ]
     },
     "execution_count": 8,
     "metadata": {},
     "output_type": "execute_result"
    }
   ],
   "source": [
    "r_vec"
   ]
  },
  {
   "cell_type": "markdown",
   "metadata": {},
   "source": [
    "# Load data the old fashioned way"
   ]
  },
  {
   "cell_type": "code",
   "execution_count": 2,
   "metadata": {},
   "outputs": [
    {
     "name": "stdout",
     "output_type": "stream",
     "text": [
      "(5, 10000)\n",
      "(10000, 5, 5)\n"
     ]
    }
   ],
   "source": [
    "l = load_loaddata(l_model=\"simulated\", path=\"./output/simulated/undermodel/sim5/\")\n",
    "htsl, p, r_vec = l.load_all_data()\n",
    "\n",
    "e = load_emission_model(e_model=\"haploid_gl\")\n",
    "e_mat = e.give_emission_matrix(htsl, p)\n",
    "print(np.shape(e_mat))\n",
    "\n",
    "t = load_transition_model(t_model=\"standard\")\n",
    "t.set_params(ibd_in = 0.0005, ibd_out = 0.0005, ibd_jump = 0.1, recalculate=False)\n",
    "t_mat = t.full_transition_matrix(r_vec, n=4, submat33=False)\n",
    "print(np.shape(t_mat))"
   ]
  },
  {
   "cell_type": "markdown",
   "metadata": {},
   "source": [
    "# Run Python Toy FWD-BWD"
   ]
  },
  {
   "cell_type": "code",
   "execution_count": 3,
   "metadata": {},
   "outputs": [
    {
     "ename": "NameError",
     "evalue": "name 'load_fwd_bwd_func' is not defined",
     "output_type": "error",
     "traceback": [
      "\u001b[0;31m---------------------------------------------------------------------------\u001b[0m",
      "\u001b[0;31mNameError\u001b[0m                                 Traceback (most recent call last)",
      "\u001b[0;32m<timed exec>\u001b[0m in \u001b[0;36m<module>\u001b[0;34m\u001b[0m\n",
      "\u001b[0;31mNameError\u001b[0m: name 'load_fwd_bwd_func' is not defined"
     ]
    }
   ],
   "source": [
    "%%time\n",
    "fwd_bwd = load_fwd_bwd_func(h_model=\"FiveState\")\n",
    "post, fwd1, bwd1, tot_ll = fwd_bwd(np.log(e_mat), t_mat, in_val = 1e-4, full=True)"
   ]
  },
  {
   "cell_type": "code",
   "execution_count": 11,
   "metadata": {},
   "outputs": [
    {
     "data": {
      "text/plain": [
       "array([1., 1., 1., ..., 1., 1., 1.])"
      ]
     },
     "execution_count": 11,
     "metadata": {},
     "output_type": "execute_result"
    }
   ],
   "source": [
    "np.sum(np.exp(post), axis=0)"
   ]
  },
  {
   "cell_type": "markdown",
   "metadata": {},
   "source": [
    "# Fast c functions"
   ]
  },
  {
   "cell_type": "code",
   "execution_count": 3,
   "metadata": {},
   "outputs": [
    {
     "name": "stdout",
     "output_type": "stream",
     "text": [
      "Memory Usage Full:\n",
      "Memory Usage: 121.823232 mB\n",
      "Total Log likelihood: -26369.094\n",
      "CPU times: user 27.8 ms, sys: 2.07 ms, total: 29.8 ms\n",
      "Wall time: 27 ms\n"
     ]
    }
   ],
   "source": [
    "%%time\n",
    "fwd_bwd = load_fwd_bwd_func(h_model=\"FiveStateFast\")\n",
    "post1, fwd1, bwd1, tot_ll = fwd_bwd(np.log(e_mat), t_mat, in_val = 1e-4, full=True)"
   ]
  },
  {
   "cell_type": "markdown",
   "metadata": {},
   "source": [
    "### Fast C Function low Memory"
   ]
  },
  {
   "cell_type": "code",
   "execution_count": 35,
   "metadata": {},
   "outputs": [
    {
     "name": "stdout",
     "output_type": "stream",
     "text": [
      "Total Log likelihood: -26831.980\n",
      "Memory Usage: 142.241792 mB\n",
      "CPU times: user 36.6 ms, sys: 915 µs, total: 37.5 ms\n",
      "Wall time: 34.6 ms\n"
     ]
    }
   ],
   "source": [
    "%%time\n",
    "fwd_bwd = load_fwd_bwd_func(h_model=\"FiveStatLowMem\")\n",
    "dummy = np.zeros((1,1))\n",
    "post1, fwd1, bwd1, tot_ll = fwd_bwd(np.log(e_mat), t_mat, in_val = 1e-4, full=True)"
   ]
  },
  {
   "cell_type": "markdown",
   "metadata": {},
   "source": [
    "# Plot the posterior"
   ]
  },
  {
   "cell_type": "code",
   "execution_count": 4,
   "metadata": {},
   "outputs": [
    {
     "data": {
      "image/png": "[encoded data removed]",
      "text/plain": [
       "<Figure size 864x216 with 1 Axes>"
      ]
     },
     "metadata": {
      "needs_background": "light"
     },
     "output_type": "display_data"
    }
   ],
   "source": [
    "plot_posterior(post=post, state=0, lw=2, fs_l=12)"
   ]
  },
  {
   "cell_type": "code",
   "execution_count": 23,
   "metadata": {},
   "outputs": [
    {
     "data": {
      "image/png": "[encoded data removed]",
      "text/plain": [
       "<Figure size 864x216 with 1 Axes>"
      ]
     },
     "metadata": {
      "needs_background": "light"
     },
     "output_type": "display_data"
    }
   ],
   "source": [
    "plot_posterior(post1, state=0, lw=3)"
   ]
  },
  {
   "cell_type": "code",
   "execution_count": null,
   "metadata": {},
   "outputs": [],
   "source": []
  }
 ],
 "metadata": {
  "kernelspec": {
   "display_name": "Python 3",
   "language": "python",
   "name": "python3"
  },
  "language_info": {
   "codemirror_mode": {
    "name": "ipython",
    "version": 3
   },
   "file_extension": ".py",
   "mimetype": "text/x-python",
   "name": "python",
   "nbconvert_exporter": "python",
   "pygments_lexer": "ipython3",
   "version": "3.7.4"
  }
 },
 "nbformat": 4,
 "nbformat_minor": 4
}
