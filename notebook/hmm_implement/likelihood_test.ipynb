{
 "cells": [
  {
   "cell_type": "markdown",
   "metadata": {},
   "source": [
    "# Functions to run likelihood tests of certain parameters"
   ]
  },
  {
   "cell_type": "code",
   "execution_count": 2,
   "metadata": {},
   "outputs": [
    {
     "name": "stdout",
     "output_type": "stream",
     "text": [
      "compute-a-16-151.o2.rc.hms.harvard.edu\n",
      "HSM O2 Computational partition detected.\n",
      "/n/groups/reich/hringbauer/git/hapBLOCK\n"
     ]
    }
   ],
   "source": [
    "import socket as socket\n",
    "import os as os\n",
    "import sys as sys\n",
    "import numpy as np\n",
    "import pandas as pd\n",
    "import matplotlib.pyplot as plt\n",
    "socket_name = socket.gethostname()\n",
    "print(socket_name)\n",
    "\n",
    "if socket_name.startswith(\"compute-\"):\n",
    "    print(\"HSM O2 Computational partition detected.\")\n",
    "    path = \"/n/groups/reich/hringbauer/git/hapBLOCK/\"  # The Path on Harvard Cluster\n",
    "else: \n",
    "    raise RuntimeWarning(\"Not compatible machine. Check!!\")\n",
    "\n",
    "os.chdir(path)  # Set the right Path (in line with Atom default)\n",
    "\n",
    "print(os.getcwd())\n",
    "\n",
    "sys.path.append(\"./python3/\") \n",
    "from main import HMM_Full\n",
    "from plot.plot_posterior import plot_posterior, plot_posterior_panel"
   ]
  },
  {
   "cell_type": "code",
   "execution_count": 116,
   "metadata": {},
   "outputs": [],
   "source": [
    "def plot_ll_curve(x, lls, color=\"maroon\", lw=2, figsize=(4,4)):\n",
    "    plt.figure(figsize=figsize)\n",
    "    ax=plt.gca()\n",
    "    ax.plot(jrts, lls,\"o-\", color=color, lw=lw)\n",
    "    ax.set_xscale(\"linear\")\n",
    "    ax.set_xlabel(\"Jump Rate IBD state [per Morgan]\")\n",
    "    ax.set_ylabel(\"Log Likelihood\")\n",
    "    plt.show()\n",
    "    \n",
    "def run_ll_jrts(jrts, iid1=\"\", iid2=\"\", \n",
    "                ibd_in=1e4, ibd_out=1e-4, ch=3):\n",
    "    \"\"\"Get Log Likelihoods for jrts.\n",
    "    jrts: Array\n",
    "    return array of same size with log likelihoods\"\"\"\n",
    "    h = HMM_Full(folder_in=\"./data/hdf5/1240k_v43/ch\", l_model=\"hdf5\", t_model=\"standard\", \n",
    "                     e_model=\"haploid_gl\", h_model = \"FiveStateFast\",\n",
    "                     output=False, load=True)\n",
    "    lls = np.zeros(len(jrts),dtype=\"float\") # Create lls\n",
    "\n",
    "    for i,jrt in enumerate(jrts):\n",
    "        h.t_obj.set_params(ibd_in = ibd_in, ibd_out = ibd_out, ibd_jump = jrt)\n",
    "        h.l_obj.set_params(iids=[iid1, iid2], ch=ch)\n",
    "        _, _, _, _, tot_ll = h.run_fwd_bwd()\n",
    "        lls[i] = tot_ll\n",
    "    return lls"
   ]
  },
  {
   "cell_type": "markdown",
   "metadata": {},
   "source": [
    "### Run Single LL Example"
   ]
  },
  {
   "cell_type": "code",
   "execution_count": 117,
   "metadata": {},
   "outputs": [
    {
     "name": "stdout",
     "output_type": "stream",
     "text": [
      "CPU times: user 14.6 s, sys: 420 ms, total: 15 s\n",
      "Wall time: 16.1 s\n"
     ]
    }
   ],
   "source": [
    "%%time\n",
    "jrts = np.logspace(2, 3.5, num=30)\n",
    "iid1, iid2 = \"I3949.DG\", \"I3950.DG\"\n",
    "\n",
    "lls = run_ll_jrts(jrts, iid1=iid1, iid2=iid2, \n",
    "                  ch=3, ibd_in=1e4, ibd_out=1e-4)"
   ]
  },
  {
   "cell_type": "code",
   "execution_count": 118,
   "metadata": {},
   "outputs": [
    {
     "data": {
      "image/png": "[encoded data removed]",
      "text/plain": [
       "<Figure size 288x288 with 1 Axes>"
      ]
     },
     "metadata": {
      "needs_background": "light"
     },
     "output_type": "display_data"
    }
   ],
   "source": [
    "plot_ll_curve(jrts, lls)"
   ]
  },
  {
   "cell_type": "markdown",
   "metadata": {},
   "source": [
    "# Load table of all parent offspring"
   ]
  },
  {
   "cell_type": "code",
   "execution_count": 44,
   "metadata": {},
   "outputs": [],
   "source": [
    "df = pd.read_csv(\"./output/relatives_snp/po_full_all_ch.tsv\", sep=\"\\t\")\n",
    "df1 = df[df[\"relatedness\"]==\"Parent Offspring\"].copy()"
   ]
  },
  {
   "cell_type": "code",
   "execution_count": 75,
   "metadata": {},
   "outputs": [
    {
     "name": "stdout",
     "output_type": "stream",
     "text": [
      "Loaded 333 PO relationships\n",
      "Filtered to 305 with max. o. hommo rate 0.0025\n",
      "Filtered to 220 with 0.75 good SNP frac\n",
      "Saved 220 HQ Parent Offspring to ./output/relatives_snp/po_high_quality.tsv\n"
     ]
    }
   ],
   "source": [
    "m_o_homo=0.0025\n",
    "frac_snps_good=0.75\n",
    "savepath=\"./output/relatives_snp/po_high_quality.tsv\"\n",
    "\n",
    "df = pd.read_csv(\"./output/relatives_snp/po_full_all_ch.tsv\", sep=\"\\t\")\n",
    "df1 = df[df[\"relatedness\"]==\"Parent Offspring\"].copy()\n",
    "df2 = df1[df1[\"max_opp_homo_ch\"]<m_o_homo].copy()\n",
    "df_po = df2[df2[\"frac_snps_good_ch3\"]>frac_snps_good].copy()\n",
    "#df3 = df2[df2[\"opp_homo_rate_ch3\"]<m_o_homo].copy()\n",
    "print(f\"Loaded {len(df1)} PO relationships\")\n",
    "print(f\"Filtered to {len(df2)} with max. o. hommo rate {m_o_homo}\")\n",
    "print(f\"Filtered to {len(df_po)} with {frac_snps_good} good SNP frac\")\n",
    "\n",
    "df_po.to_csv(savepath, sep=\"\\t\")\n",
    "print(f\"Saved {len(df_po)} HQ Parent Offspring to {savepath}\")"
   ]
  },
  {
   "cell_type": "markdown",
   "metadata": {},
   "source": [
    "### Minor Quality Check"
   ]
  },
  {
   "cell_type": "code",
   "execution_count": 72,
   "metadata": {},
   "outputs": [
    {
     "data": {
      "image/png": "[encoded data removed]",
      "text/plain": [
       "<Figure size 432x288 with 1 Axes>"
      ]
     },
     "metadata": {
      "needs_background": "light"
     },
     "output_type": "display_data"
    }
   ],
   "source": [
    "plt.figure()\n",
    "ax=plt.gca()\n",
    "ax.hist(df2[\"gt_match_rate_ch3\"],ec=\"k\", bins=20)\n",
    "plt.show()"
   ]
  },
  {
   "cell_type": "markdown",
   "metadata": {},
   "source": [
    "# Run single parent offspring [test]"
   ]
  },
  {
   "cell_type": "code",
   "execution_count": 95,
   "metadata": {},
   "outputs": [
    {
     "name": "stdout",
     "output_type": "stream",
     "text": [
      "CPU times: user 14.1 s, sys: 419 ms, total: 14.5 s\n",
      "Wall time: 16.4 s\n"
     ]
    }
   ],
   "source": [
    "%%time\n",
    "jrts = np.logspace(2, 3.5, num=30)\n",
    "iid1, iid2 = df_po[\"iid1\"][0], df_po[\"iid2\"][0]\n",
    "\n",
    "lls = run_ll_jrts(jrts, iid1=iid1, iid2=iid2, \n",
    "                  ch=3, ibd_in=1e4, ibd_out=1e-4)"
   ]
  },
  {
   "cell_type": "code",
   "execution_count": 96,
   "metadata": {},
   "outputs": [
    {
     "data": {
      "image/png": "[encoded data removed]",
      "text/plain": [
       "<Figure size 288x288 with 1 Axes>"
      ]
     },
     "metadata": {
      "needs_background": "light"
     },
     "output_type": "display_data"
    }
   ],
   "source": [
    "plot_ll_curve(jrts,lls)"
   ]
  },
  {
   "cell_type": "code",
   "execution_count": null,
   "metadata": {},
   "outputs": [
    {
     "name": "stdout",
     "output_type": "stream",
     "text": [
      "Running Individual 0\n",
      "Running Individual 1\n",
      "Running Individual 2\n"
     ]
    }
   ],
   "source": [
    "%%time\n",
    "ch=3\n",
    "jrts = np.logspace(2, 3.5, num=30)\n",
    "lls_mat = np.zeros((len(df_po), len(jrts)))\n",
    "\n",
    "for i in range(len(df_po[:])):\n",
    "    print(f\"Running Individual {i}\")\n",
    "    iid1, iid2 = df_po[\"iid1\"][i], df_po[\"iid2\"][i]\n",
    "    lls = run_ll_jrts(jrts, iid1=iid1, iid2=iid2, \n",
    "                      ch=ch, ibd_in=1e4, ibd_out=1e-4)\n",
    "    lls_mat[i] = lls"
   ]
  },
  {
   "cell_type": "code",
   "execution_count": null,
   "metadata": {},
   "outputs": [],
   "source": [
    "### Save the Jump Rate LL Matrix\n",
    "savepath=\"./output/jumprate_ll/ll_mat_po_hq.tsv\"\n",
    "np.savetxt(savepath,lls_mat, delimiter=\"\\t\")\n",
    "print(f\"Successfully saved {len(lls_mat)} Likelihood Curves to {savepath}\")"
   ]
  },
  {
   "cell_type": "code",
   "execution_count": 122,
   "metadata": {},
   "outputs": [],
   "source": [
    "l = np.loadtxt(savepath, delimiter=\"\\t\")"
   ]
  },
  {
   "cell_type": "code",
   "execution_count": 128,
   "metadata": {},
   "outputs": [
    {
     "data": {
      "image/png": "[encoded data removed]",
      "text/plain": [
       "<Figure size 288x288 with 1 Axes>"
      ]
     },
     "metadata": {
      "needs_background": "light"
     },
     "output_type": "display_data"
    }
   ],
   "source": [
    "plot_ll_curve(jrts, l[0])"
   ]
  },
  {
   "cell_type": "markdown",
   "metadata": {},
   "source": [
    "# Plot all parent offspring"
   ]
  },
  {
   "cell_type": "code",
   "execution_count": 129,
   "metadata": {},
   "outputs": [
    {
     "data": {
      "text/plain": [
       "220"
      ]
     },
     "execution_count": 129,
     "metadata": {},
     "output_type": "execute_result"
    }
   ],
   "source": [
    "len(df_po)"
   ]
  },
  {
   "cell_type": "code",
   "execution_count": null,
   "metadata": {},
   "outputs": [],
   "source": []
  }
 ],
 "metadata": {
  "kernelspec": {
   "display_name": "Python 3",
   "language": "python",
   "name": "python3"
  },
  "language_info": {
   "codemirror_mode": {
    "name": "ipython",
    "version": 3
   },
   "file_extension": ".py",
   "mimetype": "text/x-python",
   "name": "python",
   "nbconvert_exporter": "python",
   "pygments_lexer": "ipython3",
   "version": "3.7.4"
  }
 },
 "nbformat": 4,
 "nbformat_minor": 4
}
