{
 "cells": [
  {
   "cell_type": "markdown",
   "metadata": {},
   "source": [
    "# Class that implements Emission Matrix for IBD detection"
   ]
  },
  {
   "cell_type": "code",
   "execution_count": 10,
   "metadata": {},
   "outputs": [
    {
     "name": "stdout",
     "output_type": "stream",
     "text": [
      "compute-a-17-59.o2.rc.hms.harvard.edu\n",
      "HSM O2 Computational partition detected.\n",
      "/n/groups/reich/hringbauer/git/hapBLOCK\n",
      "CPU Count: 32\n"
     ]
    }
   ],
   "source": [
    "import numpy as np\n",
    "import pandas as pd\n",
    "import matplotlib.pyplot as plt\n",
    "import matplotlib.gridspec as gridspec\n",
    "import socket as socket\n",
    "import os as os\n",
    "import sys as sys\n",
    "import multiprocessing as mp\n",
    "import h5py\n",
    "import allel\n",
    "import itertools as it\n",
    "\n",
    "socket_name = socket.gethostname()\n",
    "print(socket_name)\n",
    "\n",
    "if socket_name.startswith(\"compute-\"):\n",
    "    print(\"HSM O2 Computational partition detected.\")\n",
    "    path = \"/n/groups/reich/hringbauer/git/hapBLOCK/\"  # The Path on Harvard Cluster\n",
    "else: \n",
    "    raise RuntimeWarning(\"Not compatible machine. Check!!\")\n",
    "\n",
    "os.chdir(path)  # Set the right Path (in line with Atom default)\n",
    "\n",
    "print(os.getcwd())\n",
    "print(f\"CPU Count: {mp.cpu_count()}\")"
   ]
  },
  {
   "cell_type": "code",
   "execution_count": 19,
   "metadata": {},
   "outputs": [],
   "source": [
    "\"\"\"\n",
    "Class containing functions to load data needed for HMM Run.\n",
    "Returns all relevant data for HMM in unified format:\n",
    "1) Haplotype Probabilities \n",
    "2) Allele Frequencies \n",
    "3) Genetic Map\n",
    "@ Author: Harald Ringbauer, September 2020\n",
    "\"\"\"\n",
    "\n",
    "import pickle as pickle\n",
    "import numpy as np\n",
    "\n",
    "###############################\n",
    "###############################\n",
    "\n",
    "class LoadData(object):\n",
    "    \"\"\"Class to load data in uniform format\"\"\"\n",
    "    path = \"\" # Path to load from (usually folder)\n",
    "    \n",
    "    def __init__(self, path=\"\"):\n",
    "        \"\"\"Can remember path if given\"\"\"\n",
    "        self.path=path\n",
    "    \n",
    "    def return_p(self, **kwargs):\n",
    "        \"\"\"Return array of Allele Frequencies [l]\"\"\"\n",
    "        raise NotImplementedError(\"Implement This in specific subclass.\")\n",
    "\n",
    "    def return_map(self, **kwargs):\n",
    "        \"\"\"Return genetic map [l] in Morgan\"\"\"\n",
    "        raise NotImplementedError(\"Implement This in specific subclass.\")\n",
    "        \n",
    "    def return_haplotypes_ll(self, **kwargs):\n",
    "        \"\"\"Return haplotype likelihoods [4,l,2]\"\"\"\n",
    "        raise NotImplementedError(\"Implement This in specific subclass.\")\n",
    "        \n",
    "    def load_all_data(self, **kwargs):\n",
    "        \"\"\"Key Method. \n",
    "        haplotype likelihoods [4,l,2]\n",
    "        derived allele frequencies [l]\n",
    "        map in Morgan [l]\"\"\"\n",
    "        htsl = self.return_haplotypes_ll()\n",
    "        p = self.return_p()\n",
    "        m = self.return_map()\n",
    "        self.check_valid_data(htsl, p, m)\n",
    "        return htsl, p, m\n",
    "    \n",
    "    def check_valid_data(self, htsl, p, m):\n",
    "        \"\"\"Check whether data in valid format\"\"\"\n",
    "        assert(np.shape(htsl)[1]==len(p))\n",
    "        assert(len(p)==len(m))\n",
    "        pass \n",
    "        \n",
    "    def set_params(self, **kwargs):\n",
    "        \"\"\"Set the Parameters.\n",
    "        Takes keyworded arguments\"\"\"\n",
    "        for key, value in kwargs.items():\n",
    "            setattr(self, key, value)\n",
    "            \n",
    "###############################\n",
    "### Class for Simulated date\n",
    "\n",
    "class LoadSimulated(LoadData):\n",
    "    \"\"\"Class to load simulated data saved in standard format.\"\"\"\n",
    "    r_gap = 1.0\n",
    "    r_path = \"\"\n",
    "    \n",
    "    def load_all_data(self, **kwargs):\n",
    "        ### Calculate Paths\n",
    "        haplo_path = os.path.join(self.path, \"haplo_ll.tsv\")\n",
    "        p_path = os.path.join(self.path, \"p.tsv\")\n",
    "        \n",
    "        ### Load the Data\n",
    "        htsl = pickle.load(open(haplo_path, \"rb\")) \n",
    "        p = np.loadtxt(p_path, delimiter=\"\\t\", dtype=\"float\")\n",
    "        if len(self.r_path)==0:\n",
    "            m = np.ones(len(p), dtype=\"float\") * self.r_gap\n",
    "        \n",
    "        self.check_valid_data(htsl, p, m)\n",
    "        return htsl, p, m\n",
    "    \n",
    "###############################    \n",
    "###############################\n",
    "### Factory Method\n",
    "    \n",
    "def load_loaddata(l_model=\"simulated\", path=\"\", **kwargs):\n",
    "    \"\"\"Factory method to return the right loading Model\"\"\"\n",
    "    if l_model == \"simulated\":\n",
    "        l_obj = LoadSimulated(path=path, **kwargs)\n",
    "    else:\n",
    "        raise NotImplementedError(\"Loading Model not found!\")\n",
    "    return l_obj"
   ]
  },
  {
   "cell_type": "markdown",
   "metadata": {},
   "source": [
    "### Tested whether loading worked"
   ]
  },
  {
   "cell_type": "code",
   "execution_count": 20,
   "metadata": {},
   "outputs": [],
   "source": [
    "l = load_loaddata(l_model=\"simulated\", path=\"./output/simulated/undermodel/sim5/\")\n",
    "l.path\n",
    "htsl, p, m = l.load_all_data()"
   ]
  },
  {
   "cell_type": "code",
   "execution_count": 21,
   "metadata": {},
   "outputs": [
    {
     "data": {
      "text/plain": [
       "'./output/simulated/undermodel/sim5/'"
      ]
     },
     "execution_count": 21,
     "metadata": {},
     "output_type": "execute_result"
    }
   ],
   "source": []
  },
  {
   "cell_type": "code",
   "execution_count": null,
   "metadata": {},
   "outputs": [],
   "source": []
  }
 ],
 "metadata": {
  "kernelspec": {
   "display_name": "Python 3",
   "language": "python",
   "name": "python3"
  },
  "language_info": {
   "codemirror_mode": {
    "name": "ipython",
    "version": 3
   },
   "file_extension": ".py",
   "mimetype": "text/x-python",
   "name": "python",
   "nbconvert_exporter": "python",
   "pygments_lexer": "ipython3",
   "version": "3.7.4"
  }
 },
 "nbformat": 4,
 "nbformat_minor": 4
}
