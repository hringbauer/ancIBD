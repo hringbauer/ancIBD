{
 "cells": [
  {
   "cell_type": "markdown",
   "metadata": {},
   "source": [
    "### Test steps of HMM analysis - before bringing together in module.\n",
    "Eventually will contain unit tests \n",
    "(and code that can transform to unit test)"
   ]
  },
  {
   "cell_type": "code",
   "execution_count": 1,
   "metadata": {},
   "outputs": [
    {
     "name": "stdout",
     "output_type": "stream",
     "text": [
      "compute-a-16-118.o2.rc.hms.harvard.edu\n",
      "HSM O2 Computational partition detected.\n",
      "/n/groups/reich/hringbauer/git/hapBLOCK\n",
      "CPU Count: 32\n"
     ]
    }
   ],
   "source": [
    "import numpy as np\n",
    "import pandas as pd\n",
    "import matplotlib.pyplot as plt\n",
    "import matplotlib.gridspec as gridspec\n",
    "import socket as socket\n",
    "import os as os\n",
    "import sys as sys\n",
    "import multiprocessing as mp\n",
    "import h5py\n",
    "import allel\n",
    "import itertools as it\n",
    "\n",
    "socket_name = socket.gethostname()\n",
    "print(socket_name)\n",
    "\n",
    "if socket_name.startswith(\"compute-\"):\n",
    "    print(\"HSM O2 Computational partition detected.\")\n",
    "    path = \"/n/groups/reich/hringbauer/git/hapBLOCK/\"  # The Path on Harvard Cluster\n",
    "else: \n",
    "    raise RuntimeWarning(\"Not compatible machine. Check!!\")\n",
    "\n",
    "os.chdir(path)  # Set the right Path (in line with Atom default)\n",
    "sys.path.append(\"./python3/\") \n",
    "from emission import load_emission_model\n",
    "from transition import load_transition_model\n",
    "from hmm import load_fwd_bwd_func\n",
    "from loaddata import load_loaddata\n",
    "\n",
    "print(os.getcwd())\n",
    "print(f\"CPU Count: {mp.cpu_count()}\")"
   ]
  },
  {
   "cell_type": "markdown",
   "metadata": {},
   "source": [
    "# Create some test data"
   ]
  },
  {
   "cell_type": "code",
   "execution_count": 2,
   "metadata": {},
   "outputs": [],
   "source": [
    "### Test data for biallelic case\n",
    "ht1 = np.array([[0,1],[1,0],[0,1],[0.1,0.9]])\n",
    "ht2 = np.array([[0,1],[1,0],[1,0],[0.5,0.5]])\n",
    "ht3 = np.array([[0,1],[1,0],[1,0],[0.5,0.5]])\n",
    "ht4 = np.array([[0,1],[1,0],[1,0],[0.5,0.5]])\n",
    "hts = np.stack((ht1, ht2))\n",
    "hts2 = np.stack((ht1,ht2,ht3,ht4))\n",
    "p = np.array([0.9,0.8,0.7,0.5])"
   ]
  },
  {
   "cell_type": "markdown",
   "metadata": {},
   "source": [
    "# Test Emission Module"
   ]
  },
  {
   "cell_type": "code",
   "execution_count": 13,
   "metadata": {},
   "outputs": [],
   "source": [
    "e = load_emission_model(e_model=\"haploid_gl\")\n",
    "e_mat =e.give_emission_matrix(hts2, p)"
   ]
  },
  {
   "cell_type": "code",
   "execution_count": 14,
   "metadata": {},
   "outputs": [],
   "source": [
    "res_exp = np.array([[0.6561, 0.0016, 0.0189, 0.0625],\n",
    "               [0.729 , 0.008 , 0.    , 0.0625],\n",
    "               [0.729 , 0.008 , 0.    , 0.0625],\n",
    "               [0.729 , 0.008 , 0.063 , 0.0625],\n",
    "               [0.729 , 0.008 , 0.063 , 0.0625]])\n",
    "assert(np.isclose(e_mat,res_exp).all())"
   ]
  },
  {
   "cell_type": "code",
   "execution_count": 7,
   "metadata": {},
   "outputs": [],
   "source": [
    "e = load_emission_model(e_model=\"haploid_gl\")\n",
    "e_mat =e.give_emission_matrix(hts2[:,:,0], p)"
   ]
  },
  {
   "cell_type": "code",
   "execution_count": 8,
   "metadata": {},
   "outputs": [],
   "source": [
    "res_exp = np.array([[0.6561, 0.0016, 0.0189, 0.0625],\n",
    "               [0.729 , 0.008 , 0.    , 0.0625],\n",
    "               [0.729 , 0.008 , 0.    , 0.0625],\n",
    "               [0.729 , 0.008 , 0.063 , 0.0625],\n",
    "               [0.729 , 0.008 , 0.063 , 0.0625]])\n",
    "assert(np.isclose(e_mat,res_exp).all())"
   ]
  },
  {
   "cell_type": "markdown",
   "metadata": {},
   "source": [
    "# Test Transition Module"
   ]
  },
  {
   "cell_type": "code",
   "execution_count": 3,
   "metadata": {},
   "outputs": [],
   "source": [
    "t = load_transition_model(t_model=\"standard\")\n",
    "t.set_params(ibd_in = 0.0005, ibd_out = 0.001, ibd_jump = 0.05, recalculate=False)\n",
    "t_mat = t.calc_transition_rate(submat33=False)\n",
    "assert(np.all(np.isclose(np.sum(t_mat, axis=1),0))) ### Sanity Check"
   ]
  },
  {
   "cell_type": "markdown",
   "metadata": {},
   "source": [
    "### Calculate Full Transition Matrix"
   ]
  },
  {
   "cell_type": "code",
   "execution_count": 8,
   "metadata": {},
   "outputs": [
    {
     "data": {
      "text/plain": [
       "(100, 5, 5)"
      ]
     },
     "execution_count": 8,
     "metadata": {},
     "output_type": "execute_result"
    }
   ],
   "source": [
    "### Test producing the full transition matrix\n",
    "r_vec = np.linspace(0,1.0,101)[1:]\n",
    "t = load_transition_model(t_model=\"standard\")\n",
    "t.set_params(ibd_in = 0.0005, ibd_out = 0.001, ibd_jump = 0.05, recalculate=False)\n",
    "t_mat_full = t.full_transition_matrix(r_vec, n=4,submat33=False)\n",
    "np.shape(t_mat_full)"
   ]
  },
  {
   "cell_type": "code",
   "execution_count": null,
   "metadata": {},
   "outputs": [],
   "source": [
    "np.sum(t_mat_full, axis=2)"
   ]
  },
  {
   "cell_type": "code",
   "execution_count": 10,
   "metadata": {},
   "outputs": [
    {
     "name": "stdout",
     "output_type": "stream",
     "text": [
      "Reference Number: 4\n"
     ]
    },
    {
     "data": {
      "text/plain": [
       "(100, 3, 3)"
      ]
     },
     "execution_count": 10,
     "metadata": {},
     "output_type": "execute_result"
    }
   ],
   "source": [
    "### Test producing the full transition matrix\n",
    "r_vec = np.linspace(0,1.0,101)[1:]\n",
    "t = load_transition_model(t_model=\"standard\")\n",
    "t.set_params(ibd_in = 0.0005, ibd_out = 0.001, ibd_jump = 0.05, recalculate=False)\n",
    "t_mat = t.full_transition_matrix(r_vec, n=4)\n",
    "np.shape(t_mat)"
   ]
  },
  {
   "cell_type": "code",
   "execution_count": null,
   "metadata": {},
   "outputs": [],
   "source": [
    "t_mat_full[:,:3,:3] - t_mat"
   ]
  },
  {
   "cell_type": "markdown",
   "metadata": {},
   "source": [
    "### Test HMM Module"
   ]
  },
  {
   "cell_type": "code",
   "execution_count": 17,
   "metadata": {},
   "outputs": [],
   "source": [
    "fwd_bwd = load_fwd_bwd_func(h_model=\"FiveState\")"
   ]
  },
  {
   "cell_type": "code",
   "execution_count": 18,
   "metadata": {},
   "outputs": [
    {
     "name": "stdout",
     "output_type": "stream",
     "text": [
      "Total Log likelihood: -13.180\n"
     ]
    },
    {
     "name": "stderr",
     "output_type": "stream",
     "text": [
      "/n/groups/reich/hringbauer/explore_ntbk/jptvenv37/lib/python3.7/site-packages/ipykernel_launcher.py:1: RuntimeWarning: divide by zero encountered in log\n",
      "  \"\"\"Entry point for launching an IPython kernel.\n"
     ]
    }
   ],
   "source": [
    "post0 = fwd_bwd(np.log(e_mat), t_mat, in_val = 1e-4, full=False)"
   ]
  },
  {
   "cell_type": "code",
   "execution_count": 21,
   "metadata": {},
   "outputs": [
    {
     "data": {
      "text/plain": [
       "array([1., 1., 1., 1.])"
      ]
     },
     "execution_count": 21,
     "metadata": {},
     "output_type": "execute_result"
    }
   ],
   "source": [
    "np.sum(np.exp(post0), axis=1)"
   ]
  },
  {
   "cell_type": "markdown",
   "metadata": {},
   "source": [
    "# Test loading HDF5 data"
   ]
  },
  {
   "cell_type": "code",
   "execution_count": 11,
   "metadata": {},
   "outputs": [
    {
     "name": "stdout",
     "output_type": "stream",
     "text": [
      "Minimum Genetic Map: 0.0000 Morgan\n",
      "Maximum Genetic Map: 2.2326 Morgan\n",
      "Gaps bigger than 0.1 cM: 214\n",
      "Maximum Gap: 0.2348 cM\n",
      "Upper Gap Cutoff: 5.0000 cM\n"
     ]
    }
   ],
   "source": [
    "l = load_loaddata(l_model=\"hdf5\", path=\"./data/hdf5/1240k_v43/ch\")\n",
    "l.set_params(iids=[\"SUC002\", \"SUC003\"], ch=3)\n",
    "hts_l, p, m = l.load_all_data()"
   ]
  },
  {
   "cell_type": "code",
   "execution_count": null,
   "metadata": {},
   "outputs": [],
   "source": []
  }
 ],
 "metadata": {
  "kernelspec": {
   "display_name": "Python 3",
   "language": "python",
   "name": "python3"
  },
  "language_info": {
   "codemirror_mode": {
    "name": "ipython",
    "version": 3
   },
   "file_extension": ".py",
   "mimetype": "text/x-python",
   "name": "python",
   "nbconvert_exporter": "python",
   "pygments_lexer": "ipython3",
   "version": "3.7.4"
  }
 },
 "nbformat": 4,
 "nbformat_minor": 4
}
