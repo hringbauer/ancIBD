{
 "cells": [
  {
   "cell_type": "markdown",
   "metadata": {},
   "source": [
    "### Test steps of HMM analysis - before bringing together in module.\n",
    "Eventually will contain unit tests \n",
    "(and code that can transform to unit test)"
   ]
  },
  {
   "cell_type": "code",
   "execution_count": 1,
   "metadata": {},
   "outputs": [
    {
     "name": "stdout",
     "output_type": "stream",
     "text": [
      "compute-a-16-54.o2.rc.hms.harvard.edu\n",
      "HSM O2 Computational partition detected.\n",
      "/n/groups/reich/hringbauer/git/hapBLOCK\n",
      "CPU Count: 32\n"
     ]
    }
   ],
   "source": [
    "import numpy as np\n",
    "import pandas as pd\n",
    "import matplotlib.pyplot as plt\n",
    "import matplotlib.gridspec as gridspec\n",
    "import socket as socket\n",
    "import os as os\n",
    "import sys as sys\n",
    "import multiprocessing as mp\n",
    "import h5py\n",
    "import allel\n",
    "import itertools as it\n",
    "\n",
    "socket_name = socket.gethostname()\n",
    "print(socket_name)\n",
    "\n",
    "if socket_name.startswith(\"compute-\"):\n",
    "    print(\"HSM O2 Computational partition detected.\")\n",
    "    path = \"/n/groups/reich/hringbauer/git/hapBLOCK/\"  # The Path on Harvard Cluster\n",
    "else: \n",
    "    raise RuntimeWarning(\"Not compatible machine. Check!!\")\n",
    "\n",
    "os.chdir(path)  # Set the right Path (in line with Atom default)\n",
    "sys.path.append(\"./python3/\") \n",
    "from emission import load_emission_model\n",
    "from transition import load_transition_model\n",
    "\n",
    "print(os.getcwd())\n",
    "print(f\"CPU Count: {mp.cpu_count()}\")"
   ]
  },
  {
   "cell_type": "markdown",
   "metadata": {},
   "source": [
    "# Create some test data"
   ]
  },
  {
   "cell_type": "code",
   "execution_count": 2,
   "metadata": {},
   "outputs": [],
   "source": [
    "### Test data for biallelic case\n",
    "ht1 = np.array([[0,1],[1,0],[0,1],[0.1,0.9]])\n",
    "ht2 = np.array([[0,1],[1,0],[1,0],[0.5,0.5]])\n",
    "ht3 = np.array([[0,1],[1,0],[1,0],[0.5,0.5]])\n",
    "ht4 = np.array([[0,1],[1,0],[1,0],[0.5,0.5]])\n",
    "hts = np.stack((ht1, ht2))\n",
    "hts2 = np.stack((ht1,ht2,ht3,ht4))\n",
    "p = np.array([0.9,0.8,0.7,0.5])"
   ]
  },
  {
   "cell_type": "markdown",
   "metadata": {},
   "source": [
    "# Test Emission Module"
   ]
  },
  {
   "cell_type": "code",
   "execution_count": 3,
   "metadata": {},
   "outputs": [],
   "source": [
    "e = load_emission_model(e_model=\"haploid_gl\")\n",
    "res =e.give_emission_matrix(hts2, p)"
   ]
  },
  {
   "cell_type": "code",
   "execution_count": 34,
   "metadata": {},
   "outputs": [],
   "source": [
    "res_exp = np.array([[0.6561, 0.0016, 0.0189, 0.0625],\n",
    "               [0.729 , 0.008 , 0.    , 0.0625],\n",
    "               [0.729 , 0.008 , 0.    , 0.0625],\n",
    "               [0.729 , 0.008 , 0.063 , 0.0625],\n",
    "               [0.729 , 0.008 , 0.063 , 0.0625]])\n",
    "assert(np.isclose(res,res_exp).all())\n",
    "r_vec = np.linspace(0,0.001,101)[1:]"
   ]
  },
  {
   "cell_type": "markdown",
   "metadata": {},
   "source": [
    "# Test Transition Module"
   ]
  },
  {
   "cell_type": "code",
   "execution_count": 5,
   "metadata": {},
   "outputs": [],
   "source": [
    "t = load_transition_model(t_model=\"standard\")"
   ]
  },
  {
   "cell_type": "code",
   "execution_count": 36,
   "metadata": {},
   "outputs": [],
   "source": [
    "t.set_params(ibd_in = 0.0005, ibd_out = 0.001, ibd_jump = 0.05, recalculate=False)\n",
    "t_mat = t.calc_transition_rate(submat33=False)\n",
    "assert(np.all(np.isclose(np.sum(t_mat, axis=1),0))) ### Sanity Check"
   ]
  },
  {
   "cell_type": "code",
   "execution_count": 35,
   "metadata": {},
   "outputs": [
    {
     "name": "stdout",
     "output_type": "stream",
     "text": [
      "Reference Number: 4\n"
     ]
    },
    {
     "data": {
      "text/plain": [
       "(100, 3, 3)"
      ]
     },
     "execution_count": 35,
     "metadata": {},
     "output_type": "execute_result"
    }
   ],
   "source": [
    "t = load_transition_model(t_model=\"standard\")\n",
    "t.set_params(ibd_in = 0.0005, ibd_out = 0.001, ibd_jump = 0.05, recalculate=False)\n",
    "t_full = t.full_transition_matrix(r_vec,t=t_mat,n=4)\n",
    "np.shape(t_full)"
   ]
  },
  {
   "cell_type": "markdown",
   "metadata": {},
   "source": [
    "### Test HMM Module"
   ]
  },
  {
   "cell_type": "code",
   "execution_count": null,
   "metadata": {},
   "outputs": [],
   "source": []
  }
 ],
 "metadata": {
  "kernelspec": {
   "display_name": "Python 3",
   "language": "python",
   "name": "python3"
  },
  "language_info": {
   "codemirror_mode": {
    "name": "ipython",
    "version": 3
   },
   "file_extension": ".py",
   "mimetype": "text/x-python",
   "name": "python",
   "nbconvert_exporter": "python",
   "pygments_lexer": "ipython3",
   "version": "3.7.4"
  }
 },
 "nbformat": 4,
 "nbformat_minor": 4
}
