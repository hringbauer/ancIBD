{
 "cells": [
  {
   "cell_type": "markdown",
   "metadata": {},
   "source": [
    "# Class that implements HMM methods:\n",
    "In particular the "
   ]
  },
  {
   "cell_type": "code",
   "execution_count": 13,
   "metadata": {},
   "outputs": [
    {
     "name": "stdout",
     "output_type": "stream",
     "text": [
      "compute-a-17-93.o2.rc.hms.harvard.edu\n",
      "HSM O2 Computational partition detected.\n",
      "/n/groups/reich/hringbauer/git/hapBLOCK\n",
      "CPU Count: 32\n"
     ]
    }
   ],
   "source": [
    "import numpy as np\n",
    "import pandas as pd\n",
    "import matplotlib.pyplot as plt\n",
    "import matplotlib.gridspec as gridspec\n",
    "import socket as socket\n",
    "import os as os\n",
    "import sys as sys\n",
    "import multiprocessing as mp\n",
    "import h5py\n",
    "import allel\n",
    "import itertools as it\n",
    "import psutil\n",
    "from scipy.special import logsumexp\n",
    "\n",
    "socket_name = socket.gethostname()\n",
    "print(socket_name)\n",
    "\n",
    "if socket_name.startswith(\"compute-\"):\n",
    "    print(\"HSM O2 Computational partition detected.\")\n",
    "    path = \"/n/groups/reich/hringbauer/git/hapBLOCK/\"  # The Path on Harvard Cluster\n",
    "else: \n",
    "    raise RuntimeWarning(\"Not compatible machine. Check!!\")\n",
    "\n",
    "os.chdir(path)  # Set the right Path (in line with Atom default)\n",
    "\n",
    "print(os.getcwd())\n",
    "print(f\"CPU Count: {mp.cpu_count()}\")\n",
    "\n",
    "sys.path.append(\"./python3/\") \n",
    "from emission import load_emission_model\n",
    "from transition import load_transition_model"
   ]
  },
  {
   "cell_type": "code",
   "execution_count": 14,
   "metadata": {},
   "outputs": [],
   "source": [
    "from python3.cfunc import fwd_bkwd_fast"
   ]
  },
  {
   "cell_type": "code",
   "execution_count": 3,
   "metadata": {},
   "outputs": [],
   "source": [
    "def fwd_bkwd(e_mat0, t_mat, in_val = 1e-4, full=False):\n",
    "    \"\"\"Takes emission and transition probabilities, and calculates posteriors.\n",
    "    Uses speed-up specific for symmetric states 1...n (pooling same transition rates)\n",
    "    Low-Mem: Do no save the full FWD BWD and Posterior. Use temporary\n",
    "    Arrays for saving.\n",
    "    Input:\n",
    "    e_mat0: Emission probabilities [k x l] (log space)       (log space)\n",
    "    t_mat: Transition Matrix: [l x 3 x 3]                     (normal space)\n",
    "    in_val: Initial Probability of being in IBD state\n",
    "    full: Boolean whether to return everything\"\"\"\n",
    "    n_states = e_mat0.shape[0]\n",
    "    n_loci = e_mat0.shape[1]\n",
    "    stay, tot_ll = 0.,0.  #e Probablility of Staying\n",
    "\n",
    "    # Initialize Posterior and Transition Probabilities\n",
    "    post = np.empty((n_loci,n_states), dtype=np.float) # Array of 0 State Posterior\n",
    "    trans_ll = np.empty(n_states-1, dtype=np.float) # Array for pre-calculations\n",
    "\n",
    "    three_v = np.empty(3, dtype=np.float)     # Array of size three\n",
    "    two_v = np.empty(2, dtype=np.float)       # Array of size two\n",
    "\n",
    "    ### Initialize FWD BWD Arrays\n",
    "    fwd0 = np.zeros(n_states, dtype=np.float)\n",
    "    fwd0[:] = np.log(in_val)  # Initial Probabilities\n",
    "    fwd0[0] = np.log(1 - (n_states - 1) * in_val)\n",
    "    #cdef double[:] fwd = fwd0\n",
    "\n",
    "    bwd0 = np.zeros(n_states, dtype=np.float)\n",
    "    bwd0[:] = np.log(in_val)\n",
    "    bwd0[0] = np.log(1 - (n_states - 1) * in_val)\n",
    "    #cdef double[:] bwd = bwd0\n",
    "\n",
    "    tmp = np.zeros(n_states, dtype=np.float)\n",
    "    #cdef double[:] tmp = tmp0\n",
    "    \n",
    "    # Do transform to Log Space:\n",
    "    t0 = np.log(t_mat)      \n",
    "\n",
    "    #############################\n",
    "    ### Do the Forward Algorithm\n",
    "\n",
    "    post[0,:] = fwd0 # Add to first locus 0 Posterior\n",
    "    for i in range(1, n_loci):  # Run forward recursion\n",
    "        stay = np.log(t_mat[i, 1, 1] - t_mat[i, 1, 2])  # Do the log of the Stay term\n",
    "\n",
    "        for k in range(1, n_states): # Calculate logsum of ROH states:\n",
    "            trans_ll[k-1] = fwd0[k]\n",
    "        f_l = logsumexp(trans_ll) # Logsum of ROH States\n",
    "\n",
    "        # Do the 0 State:\n",
    "        two_v[0] = fwd0[0] + t0[i, 0, 0]   # Staying in 0 State\n",
    "        two_v[1] = f_l + t0[i, 1, 0]             # Going into 0 State\n",
    "        tmp[0] = e_mat0[0, i] + logsumexp(two_v)\n",
    "\n",
    "        ### Do the other states\n",
    "        # Preprocessing:\n",
    "        three_v[0] = fwd0[0] + t0[i, 0, 1]   # Coming from 0 State\n",
    "        three_v[1] = f_l + t0[i, 1, 2]             # Coming from other ROH State\n",
    "\n",
    "        for j in range(1, n_states):  # Do the final run over all states\n",
    "            three_v[2] = fwd0[j] + stay\n",
    "            tmp[j] = e_mat0[j, i] + logsumexp(three_v)\n",
    "\n",
    "        ### Make tmp new fwd vec:\n",
    "        fwd0 = tmp\n",
    "        post[i,:] = fwd0  # Add to 0-State Posterior\n",
    "\n",
    "    ### Get total log likelihood\n",
    "    tot_ll = logsumexp(fwd0+bwd0)\n",
    "\n",
    "    #############################\n",
    "    ### Do the Backward Algorithm\n",
    "    ## last0-State Posterior\n",
    "    post[n_loci-1,:] = post[n_loci-1,:] + bwd0[:] - tot_ll\n",
    "\n",
    "    for i in range(n_loci-1, 0, -1):  # Run backward recursion\n",
    "        stay = np.log(t_mat[i, 1, 1] - t_mat[i, 1, 2])\n",
    "\n",
    "        for k in range(1, n_states): # Calculate logsum of ROH states:\n",
    "            trans_ll[k-1] = bwd0[k] + e_mat0[k, i]\n",
    "        f_l = logsumexp(trans_ll) # Logsum of ROH States\n",
    "\n",
    "        # Do the 0 State:\n",
    "        two_v[0] = bwd0[0] + t0[i, 0, 0] + e_mat0[0, i]   # Staying in 0 State\n",
    "        two_v[1] = f_l + t0[i, 0, 1]                         # Going into 0 State\n",
    "        tmp[0] = logsumexp(two_v)\n",
    "\n",
    "        ### Do the other states\n",
    "        # Preprocessing:\n",
    "        three_v[0] = e_mat0[0, i] + bwd0[0] + t0[i, 1, 0]\n",
    "        three_v[1] = f_l + t0[i, 1, 2]    # Coming from other ROH State\n",
    "\n",
    "        for j in range(1, n_states):  # Do the final run over all states\n",
    "            three_v[2] = e_mat0[j, i] + bwd0[j] +  stay\n",
    "            tmp[j] = logsumexp(three_v)  # Fill in the backward Probability\n",
    "\n",
    "        ### Make tmp new bwd vec:\n",
    "        bwd0 = tmp\n",
    "\n",
    "        ### Finalize the 0 Posterior\n",
    "        post[i-1,:] = post[i-1,:] + bwd0[:] - tot_ll\n",
    "\n",
    "    print(f\"Total Log likelihood: {tot_ll: .3f}\")\n",
    "    #print_memory_usage()   ## For MEMORY_BENCH\n",
    "\n",
    "    if full==False:\n",
    "        return post[:,:]  # For \"fake\" axis\n",
    "\n",
    "    elif full==True:   # Return everything\n",
    "        return post[:,:], fwd0, bwd0, tot_ll\n",
    "\n",
    "####################################################\n",
    "####################################################\n",
    "### Additional Helper Functions\n",
    "\n",
    "def print_memory_usage():\n",
    "    \"\"\"Print the current Memory Usage in mB\"\"\"\n",
    "    process = psutil.Process(os.getpid())\n",
    "    mb_usage = process.memory_info().rss / 1e6\n",
    "    print(f\"Memory Usage: {mb_usage} mB\")"
   ]
  },
  {
   "cell_type": "markdown",
   "metadata": {},
   "source": [
    "### Test HMM Module\n",
    "First load emission and transition Matrix"
   ]
  },
  {
   "cell_type": "code",
   "execution_count": 4,
   "metadata": {},
   "outputs": [],
   "source": [
    "ht1 = np.array([[0.01,0.99],[1,0],[0.01,0.99],[0.1,0.9]])\n",
    "ht2 = np.array([[0.01,0.99],[1,0],[1,0],[0.5,0.5]])\n",
    "ht3 = np.array([[0.01,0.99],[1,0],[1,0],[0.5,0.5]])\n",
    "ht4 = np.array([[0.01,0.99],[1,0],[1,0],[0.5,0.5]])\n",
    "hts = np.stack((ht1, ht2))\n",
    "hts2 = np.stack((ht1,ht2,ht3,ht4))\n",
    "p = np.array([0.9,0.8,0.7,0.5])\n",
    "r_vec = np.ones(len(p))"
   ]
  },
  {
   "cell_type": "code",
   "execution_count": 5,
   "metadata": {},
   "outputs": [
    {
     "data": {
      "text/plain": [
       "(5, 4)"
      ]
     },
     "execution_count": 5,
     "metadata": {},
     "output_type": "execute_result"
    }
   ],
   "source": [
    "e = load_emission_model(e_model=\"haploid_gl\")\n",
    "e_mat =e.give_emission_matrix(hts2, p)\n",
    "np.shape(e_mat)"
   ]
  },
  {
   "cell_type": "code",
   "execution_count": 6,
   "metadata": {},
   "outputs": [
    {
     "name": "stdout",
     "output_type": "stream",
     "text": [
      "Reference Number: 4\n"
     ]
    },
    {
     "data": {
      "text/plain": [
       "(4, 3, 3)"
      ]
     },
     "execution_count": 6,
     "metadata": {},
     "output_type": "execute_result"
    }
   ],
   "source": [
    "t = load_transition_model(t_model=\"standard\")\n",
    "t.set_params(ibd_in = 0.0005, ibd_out = 0.001, ibd_jump = 0.05, recalculate=False)\n",
    "t_mat = t.full_transition_matrix(r_vec,n=4)\n",
    "np.shape(t_mat)"
   ]
  },
  {
   "cell_type": "code",
   "execution_count": 9,
   "metadata": {},
   "outputs": [
    {
     "name": "stdout",
     "output_type": "stream",
     "text": [
      "Total Log likelihood: -13.187\n"
     ]
    }
   ],
   "source": [
    "post0 = fwd_bkwd(np.log(e_mat), t_mat, in_val = 1e-4, full=False)"
   ]
  },
  {
   "cell_type": "code",
   "execution_count": 12,
   "metadata": {},
   "outputs": [
    {
     "data": {
      "text/plain": [
       "array([0.99999614, 0.99999654, 1.00000005, 1.        ])"
      ]
     },
     "execution_count": 12,
     "metadata": {},
     "output_type": "execute_result"
    }
   ],
   "source": [
    "np.sum(np.exp(post0), axis=1)"
   ]
  },
  {
   "cell_type": "code",
   "execution_count": 10,
   "metadata": {},
   "outputs": [
    {
     "data": {
      "text/plain": [
       "(4, 5)"
      ]
     },
     "execution_count": 10,
     "metadata": {},
     "output_type": "execute_result"
    }
   ],
   "source": [
    "np.shape(post0)"
   ]
  },
  {
   "cell_type": "code",
   "execution_count": null,
   "metadata": {},
   "outputs": [],
   "source": []
  }
 ],
 "metadata": {
  "kernelspec": {
   "display_name": "Python 3",
   "language": "python",
   "name": "python3"
  },
  "language_info": {
   "codemirror_mode": {
    "name": "ipython",
    "version": 3
   },
   "file_extension": ".py",
   "mimetype": "text/x-python",
   "name": "python",
   "nbconvert_exporter": "python",
   "pygments_lexer": "ipython3",
   "version": "3.7.4"
  }
 },
 "nbformat": 4,
 "nbformat_minor": 4
}
