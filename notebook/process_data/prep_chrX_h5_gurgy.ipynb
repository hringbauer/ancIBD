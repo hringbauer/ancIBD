{
 "cells": [
  {
   "cell_type": "markdown",
   "id": "30462ff4-295a-4b0e-92ec-6fdcfad21388",
   "metadata": {},
   "source": [
    "# Prepare H5 of vignette data for Gurgy"
   ]
  },
  {
   "cell_type": "code",
   "execution_count": 1,
   "id": "260e60cf-5bd6-43f9-b963-d06de3637bc9",
   "metadata": {
    "tags": []
   },
   "outputs": [
    {
     "name": "stdout",
     "output_type": "stream",
     "text": [
      "compute-a-16-164.o2.rc.hms.harvard.edu\n",
      "HSM O2 Computational partition detected.\n",
      "/n/groups/reich/hringbauer/git/hapBLOCK\n",
      "CPU Count: 32\n"
     ]
    }
   ],
   "source": [
    "import numpy as np\n",
    "import pandas as pd\n",
    "import matplotlib.pyplot as plt\n",
    "import socket as socket\n",
    "import os as os\n",
    "import sys as sys\n",
    "import multiprocessing as mp\n",
    "import h5py\n",
    "import allel\n",
    "\n",
    "socket_name = socket.gethostname()\n",
    "print(socket_name)\n",
    "\n",
    "if socket_name.startswith(\"compute-\"):\n",
    "    print(\"HSM O2 Computational partition detected.\")\n",
    "    path = \"/n/groups/reich/hringbauer/git/hapBLOCK/\"  # The Path on Harvard Cluster\n",
    "else: \n",
    "    raise RuntimeWarning(\"Not compatible machine. Check!!\")\n",
    "\n",
    "os.chdir(path)  # Set the right Path (in line with Atom default)\n",
    "\n",
    "print(os.getcwd())\n",
    "print(f\"CPU Count: {mp.cpu_count()}\")\n",
    "\n",
    "#sys.path.insert(0, \"/n/groups/reich/hringbauer/git/hapBLOCK/python3/prepare\")  # hack to get local package first in path\n",
    "from ancIBD.IO.prepare_h5 import vcf_to_1240K_hdf"
   ]
  },
  {
   "cell_type": "code",
   "execution_count": 2,
   "id": "2e1d2236-0543-4ee9-8106-3f1faaa558f1",
   "metadata": {
    "tags": []
   },
   "outputs": [
    {
     "name": "stdout",
     "output_type": "stream",
     "text": [
      "Print downsampling to 1240K...\n",
      "Running bash command: \n",
      "bcftools view -Oz -o ./data/vcf/ancIBDX/Gurgy_quintet.chX.1240k.vcf.gz -T ./data/vcf/ancIBDX/snps_bcftools_chX_1240k.csv -M2 -v snps ./data/vcf/ancIBDX/Gurgy_quintet.chX.vcf.gz\n",
      "Finished BCF tools filtering to target markers.\n",
      "Converting to HDF5...\n",
      "Finished conversion to hdf5!\n",
      "Merging in LD Map..\n",
      "Lifting LD Map from eigenstrat to HDF5...\n",
      "Loaded 46587 variants.\n",
      "Loaded 5 individuals.\n",
      "Loaded 49704 Chr.X 1240K SNPs.\n",
      "Intersection 46587 out of 46587 HDF5 SNPs\n",
      "Finished Chromosome X.\n",
      "Adding map to HDF5...\n",
      "Calculating in sample allele frequencies and saving at hdf5 column variants/AF_SAMPLE\n",
      "Adding Allele Frequencies to HDF5...\n",
      "Loaded 46587 variants.\n",
      "Finshed merged in allele frequencies into ./data/hdf5/ancIBDX/Gurgy_quintet.chX.h5\n",
      "Transformation complete! Find new hdf5 file at: ./data/hdf5/ancIBDX/Gurgy_quintet.chX.h5\n",
      "\n"
     ]
    },
    {
     "name": "stderr",
     "output_type": "stream",
     "text": [
      "/n/groups/reich/hringbauer/explore_ntbk/jptvenv37/lib/python3.7/site-packages/ancIBD/IO/h5_modify.py:13: RuntimeWarning: invalid value encountered in greater_equal\n",
      "  gp_good = (gp_max>=min_gp) # The decent genotype probabilitiies\n"
     ]
    }
   ],
   "source": [
    "vcf_to_1240K_hdf(in_vcf_path = \"./data/vcf/ancIBDX/Gurgy_quintet.chX.vcf.gz\",\n",
    "         path_vcf = \"./data/vcf/ancIBDX/Gurgy_quintet.chX.1240k.vcf.gz\", \n",
    "         path_h5 = \"./data/hdf5/ancIBDX/Gurgy_quintet.chX.h5\",\n",
    "         marker_path = \"./data/vcf/ancIBDX/snps_bcftools_chX_1240k.csv\", \n",
    "         map_path = \"./data/vcf/ancIBDX/v51.1_1240k.chrX.map\",\n",
    "         af_path = \"\",\n",
    "         col_sample_af = \"variants/AF_SAMPLE\",\n",
    "         buffer_size=20000, chunk_width=8, chunk_length=20000,\n",
    "         ch='X')"
   ]
  },
  {
   "cell_type": "markdown",
   "id": "d222b174-3ae0-4550-b1d4-370a69b99814",
   "metadata": {},
   "source": [
    "### Test H5"
   ]
  },
  {
   "cell_type": "code",
   "execution_count": 7,
   "id": "1c1cab99-cb2b-4826-b9d9-fe34ce19c3ed",
   "metadata": {
    "tags": []
   },
   "outputs": [
    {
     "name": "stdout",
     "output_type": "stream",
     "text": [
      "['AC', 'AF', 'ALT', 'AN', 'BUF', 'CHROM', 'FILTER_PASS', 'ID', 'INFO', 'MAP', 'POS', 'QUAL', 'RAF', 'REF', 'altlen', 'is_snp', 'numalt', 'variants']\n",
      "['AD', 'DP', 'DS', 'GP', 'GT', 'HS']\n",
      "(46587, 5, 2)\n",
      "['calldata', 'samples', 'variants']\n"
     ]
    }
   ],
   "source": [
    "with h5py.File(f\"./data/hdf5/ancIBDX/Gurgy_quintet.chX.h5\", \"r\") as f: \n",
    "    print(list(f[\"variants\"]))\n",
    "    print(list(f[\"calldata\"]))\n",
    "    print(np.shape(f[\"calldata/GT\"]))\n",
    "    s = f[\"samples\"][:]\n",
    "    print(list(f))# Load for Sanity Check. See below!"
   ]
  },
  {
   "cell_type": "code",
   "execution_count": 8,
   "id": "72f9c05d-ec74-43bc-a9ea-233dbbf3c119",
   "metadata": {
    "tags": []
   },
   "outputs": [
    {
     "data": {
      "text/plain": [
       "array([b'GRG030', b'GRG033', b'GRG029', b'GRG036', b'GRG090'],\n",
       "      dtype='|S60')"
      ]
     },
     "execution_count": 8,
     "metadata": {},
     "output_type": "execute_result"
    }
   ],
   "source": [
    "s"
   ]
  },
  {
   "cell_type": "code",
   "execution_count": null,
   "id": "be2dcc92-c2e9-42a7-b373-4d0cfbba59c6",
   "metadata": {},
   "outputs": [],
   "source": []
  }
 ],
 "metadata": {
  "kernelspec": {
   "display_name": "Python 3",
   "language": "python",
   "name": "python3"
  },
  "language_info": {
   "codemirror_mode": {
    "name": "ipython",
    "version": 3
   },
   "file_extension": ".py",
   "mimetype": "text/x-python",
   "name": "python",
   "nbconvert_exporter": "python",
   "pygments_lexer": "ipython3",
   "version": "3.7.4"
  }
 },
 "nbformat": 4,
 "nbformat_minor": 5
}
