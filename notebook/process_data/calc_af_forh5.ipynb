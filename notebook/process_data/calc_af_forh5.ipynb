{
 "cells": [
  {
   "cell_type": "markdown",
   "metadata": {},
   "source": [
    "# Calculate Allele Frequency for HDF5, and merge into the hf5 data\n",
    "Legacy: This can now also be done as part of the whole vcf5 to hdf5 Function"
   ]
  },
  {
   "cell_type": "code",
   "execution_count": 1,
   "metadata": {},
   "outputs": [
    {
     "name": "stdout",
     "output_type": "stream",
     "text": [
      "/mnt/archgen/users/yilei/tools/hapBLOCK/notebook/process_data\n",
      "CPU Count: 40\n"
     ]
    }
   ],
   "source": [
    "import numpy as np\n",
    "import pandas as pd\n",
    "import matplotlib.pyplot as plt\n",
    "import socket as socket\n",
    "import os as os\n",
    "import sys as sys\n",
    "import multiprocessing as mp\n",
    "import h5py\n",
    "import allel\n",
    "\n",
    "# socket_name = socket.gethostname()\n",
    "# print(socket_name)\n",
    "\n",
    "# if socket_name.startswith(\"compute-\"):\n",
    "#     print(\"HSM O2 Computational partition detected.\")\n",
    "#     path = \"/n/groups/reich/hringbauer/git/hapBLOCK/\"  # The Path on Harvard Cluster\n",
    "# else: \n",
    "#     raise RuntimeWarning(\"Not compatible machine. Check!!\")\n",
    "\n",
    "# os.chdir(path)  # Set the right Path (in line with Atom default)\n",
    "\n",
    "print(os.getcwd())\n",
    "print(f\"CPU Count: {mp.cpu_count()}\")\n",
    "\n",
    "#sys.path.insert(0, \"/n/groups/reich/hringbauer/git/HAPSBURG/package/\")  # hack to get local package first in path\n",
    "#from hapsburg.PackagesSupport.h5_python.h5_functions import merge_in_ld_map\n",
    "\n",
    "sys.path.append(\"/mnt/archgen/users/yilei/tools/hapBLOCK/python3/\")\n",
    "from IO.h5_modify import merge_in_af, get_af, get_af1000G, lift_af"
   ]
  },
  {
   "cell_type": "markdown",
   "metadata": {},
   "source": [
    "### Functions: These are now also in `python/h5_modify`"
   ]
  },
  {
   "cell_type": "markdown",
   "metadata": {},
   "source": [
    "### Do a single chromosome [test case]\n",
    "For visualization look below"
   ]
  },
  {
   "cell_type": "code",
   "execution_count": null,
   "metadata": {},
   "outputs": [],
   "source": [
    "%%time\n",
    "path_h5_ch = f\"/mnt/archgen/users/yilei/Data/1000G/1000g1240khdf5/all1240/chr3.hdf5\"\n",
    "\n",
    "with h5py.File(path_h5_ch, \"r\") as f:\n",
    "    af = get_af(f) \n",
    "merge_in_af(path_h5_ch, af)"
   ]
  },
  {
   "cell_type": "markdown",
   "metadata": {},
   "source": [
    "### Do multiple chromosomes [1-22]\n",
    "Loop over every single one\n",
    "Takes about 30 min for all chromosomes"
   ]
  },
  {
   "cell_type": "code",
   "execution_count": null,
   "metadata": {},
   "outputs": [],
   "source": [
    "%%time\n",
    "for ch in range(4,23):\n",
    "    print(f\"Running Chromosome: {ch}\")\n",
    "    path_h5_ch = f\"./data/hdf5/1240k_v43/ch{ch}.h5\"\n",
    "    with h5py.File(path_h5_ch, \"r\") as f:\n",
    "        af = get_af(f) \n",
    "    merge_in_af(path_h5_ch, af)"
   ]
  },
  {
   "cell_type": "markdown",
   "metadata": {},
   "source": [
    "# Calculate Allele Frequencies for 1000 Genome Data\n",
    "Takes about 2min for all chromosomes"
   ]
  },
  {
   "cell_type": "code",
   "execution_count": 3,
   "metadata": {},
   "outputs": [
    {
     "name": "stdout",
     "output_type": "stream",
     "text": [
      "Running Chromosome: 1\n",
      "Adding map to HDF5...\n",
      "Loaded 89147 variants.\n",
      "Finshed merged in allele frequencies into /mnt/archgen/users/yilei/Data/1000G/1000g1240khdf5/all1240/chr1.hdf5\n",
      "Running Chromosome: 2\n",
      "Adding map to HDF5...\n",
      "Loaded 94239 variants.\n",
      "Finshed merged in allele frequencies into /mnt/archgen/users/yilei/Data/1000G/1000g1240khdf5/all1240/chr2.hdf5\n",
      "Running Chromosome: 3\n",
      "Adding map to HDF5...\n",
      "Loaded 77652 variants.\n",
      "Finshed merged in allele frequencies into /mnt/archgen/users/yilei/Data/1000G/1000g1240khdf5/all1240/chr3.hdf5\n",
      "Running Chromosome: 4\n",
      "Adding map to HDF5...\n",
      "Loaded 68759 variants.\n",
      "Finshed merged in allele frequencies into /mnt/archgen/users/yilei/Data/1000G/1000g1240khdf5/all1240/chr4.hdf5\n",
      "Running Chromosome: 5\n",
      "Adding map to HDF5...\n",
      "Loaded 69399 variants.\n",
      "Finshed merged in allele frequencies into /mnt/archgen/users/yilei/Data/1000G/1000g1240khdf5/all1240/chr5.hdf5\n",
      "Running Chromosome: 6\n",
      "Adding map to HDF5...\n",
      "Loaded 75870 variants.\n",
      "Finshed merged in allele frequencies into /mnt/archgen/users/yilei/Data/1000G/1000g1240khdf5/all1240/chr6.hdf5\n",
      "Running Chromosome: 7\n",
      "Adding map to HDF5...\n",
      "Loaded 59890 variants.\n",
      "Finshed merged in allele frequencies into /mnt/archgen/users/yilei/Data/1000G/1000g1240khdf5/all1240/chr7.hdf5\n",
      "Running Chromosome: 8\n",
      "Adding map to HDF5...\n",
      "Loaded 61133 variants.\n",
      "Finshed merged in allele frequencies into /mnt/archgen/users/yilei/Data/1000G/1000g1240khdf5/all1240/chr8.hdf5\n",
      "Running Chromosome: 9\n",
      "Adding map to HDF5...\n",
      "Loaded 50668 variants.\n",
      "Finshed merged in allele frequencies into /mnt/archgen/users/yilei/Data/1000G/1000g1240khdf5/all1240/chr9.hdf5\n",
      "Running Chromosome: 10\n",
      "Adding map to HDF5...\n",
      "Loaded 58804 variants.\n",
      "Finshed merged in allele frequencies into /mnt/archgen/users/yilei/Data/1000G/1000g1240khdf5/all1240/chr10.hdf5\n",
      "Running Chromosome: 11\n",
      "Adding map to HDF5...\n",
      "Loaded 54833 variants.\n",
      "Finshed merged in allele frequencies into /mnt/archgen/users/yilei/Data/1000G/1000g1240khdf5/all1240/chr11.hdf5\n",
      "Running Chromosome: 12\n",
      "Adding map to HDF5...\n",
      "Loaded 53911 variants.\n",
      "Finshed merged in allele frequencies into /mnt/archgen/users/yilei/Data/1000G/1000g1240khdf5/all1240/chr12.hdf5\n",
      "Running Chromosome: 13\n",
      "Adding map to HDF5...\n",
      "Loaded 39018 variants.\n",
      "Finshed merged in allele frequencies into /mnt/archgen/users/yilei/Data/1000G/1000g1240khdf5/all1240/chr13.hdf5\n",
      "Running Chromosome: 14\n",
      "Adding map to HDF5...\n",
      "Loaded 36301 variants.\n",
      "Finshed merged in allele frequencies into /mnt/archgen/users/yilei/Data/1000G/1000g1240khdf5/all1240/chr14.hdf5\n",
      "Running Chromosome: 15\n",
      "Adding map to HDF5...\n",
      "Loaded 34429 variants.\n",
      "Finshed merged in allele frequencies into /mnt/archgen/users/yilei/Data/1000G/1000g1240khdf5/all1240/chr15.hdf5\n",
      "Running Chromosome: 16\n",
      "Adding map to HDF5...\n",
      "Loaded 34402 variants.\n",
      "Finshed merged in allele frequencies into /mnt/archgen/users/yilei/Data/1000G/1000g1240khdf5/all1240/chr16.hdf5\n",
      "Running Chromosome: 17\n",
      "Adding map to HDF5...\n",
      "Loaded 29314 variants.\n",
      "Finshed merged in allele frequencies into /mnt/archgen/users/yilei/Data/1000G/1000g1240khdf5/all1240/chr17.hdf5\n",
      "Running Chromosome: 18\n",
      "Adding map to HDF5...\n",
      "Loaded 33917 variants.\n",
      "Finshed merged in allele frequencies into /mnt/archgen/users/yilei/Data/1000G/1000g1240khdf5/all1240/chr18.hdf5\n",
      "Running Chromosome: 19\n",
      "Adding map to HDF5...\n",
      "Loaded 18460 variants.\n",
      "Finshed merged in allele frequencies into /mnt/archgen/users/yilei/Data/1000G/1000g1240khdf5/all1240/chr19.hdf5\n",
      "Running Chromosome: 20\n",
      "Adding map to HDF5...\n",
      "Loaded 29078 variants.\n",
      "Finshed merged in allele frequencies into /mnt/archgen/users/yilei/Data/1000G/1000g1240khdf5/all1240/chr20.hdf5\n",
      "Running Chromosome: 21\n",
      "Adding map to HDF5...\n",
      "Loaded 16038 variants.\n",
      "Finshed merged in allele frequencies into /mnt/archgen/users/yilei/Data/1000G/1000g1240khdf5/all1240/chr21.hdf5\n",
      "Running Chromosome: 22\n",
      "Adding map to HDF5...\n",
      "Loaded 15802 variants.\n",
      "Finshed merged in allele frequencies into /mnt/archgen/users/yilei/Data/1000G/1000g1240khdf5/all1240/chr22.hdf5\n",
      "CPU times: user 1min 12s, sys: 29.8 s, total: 1min 42s\n",
      "Wall time: 1min 49s\n"
     ]
    }
   ],
   "source": [
    "%%time\n",
    "for ch in range(1,23):\n",
    "    print(f\"Running Chromosome: {ch}\")\n",
    "    path_h5_ch = f\"/mnt/archgen/users/yilei/Data/1000G/1000g1240khdf5/all1240/chr{ch}.hdf5\"\n",
    "    with h5py.File(path_h5_ch, \"r\") as f:\n",
    "        af = get_af1000G(f) \n",
    "    merge_in_af(path_h5_ch, af)"
   ]
  },
  {
   "cell_type": "markdown",
   "metadata": {},
   "source": [
    "# Calculate allele frequency for Simulated data\n",
    "Attention: Doing this WITHIN the sample\n",
    "\n",
    "Takes few seconds"
   ]
  },
  {
   "cell_type": "code",
   "execution_count": null,
   "metadata": {},
   "outputs": [],
   "source": [
    "%%time\n",
    "for l in [0,4,8,12,16,20]:\n",
    "    print(f\"Running Length: {l}\")\n",
    "    path_h5_ch = f\"/n/groups/reich/hringbauer/git/hapBLOCK/output/simulated/TSI07s05/ch3_{l}cm/sim_ch3.h5\"\n",
    "    with h5py.File(path_h5_ch, \"r\") as f:\n",
    "        af = get_af1000G(f) \n",
    "    merge_in_af(path_h5_ch, af)"
   ]
  },
  {
   "cell_type": "markdown",
   "metadata": {},
   "source": [
    "# Bring over allele frequencies\n",
    "Takes few seconds"
   ]
  },
  {
   "cell_type": "code",
   "execution_count": null,
   "metadata": {},
   "outputs": [],
   "source": [
    "for ch in range(1,23):\n",
    "    h5_original = f\"./data/hdf5/1240k_v43/ch{ch}.h5\"\n",
    "    h5_target = f\"/n/groups/reich/hringbauer/hapsburg_runs/data/data_eirini/h5/all_ch{ch}.h5\"\n",
    "    lift_af(h5_target=h5_target, h5_original=h5_original, field=\"variants/AF_ALL\")"
   ]
  },
  {
   "cell_type": "markdown",
   "metadata": {},
   "source": [
    "# Legacy"
   ]
  },
  {
   "cell_type": "code",
   "execution_count": null,
   "metadata": {},
   "outputs": [],
   "source": [
    "def get_af(f, min_gp=0.99):\n",
    "    \"\"\"Get Allele Frequency\"\"\"\n",
    "    gp_max = np.max(f[\"calldata/GP\"], axis=2)\n",
    "    gp_good = (gp_max>=min_gp) # The decent genotype probabilitiies\n",
    "    gp_max = 0 # Delete GP max (unnecessary now)\n",
    "    \n",
    "    gt1 = np.sum(f[\"calldata/GT\"], axis=2)/2.0 # Get the genotype sum\n",
    "    gp_good_c = np.sum(gp_good, axis=1)\n",
    "    af = np.sum(gt1 * gp_good, axis=1) / gp_good_c\n",
    "    return af\n",
    "\n",
    "def get_af1000G(f):\n",
    "    \"\"\"Get Allele Frequency - ASSUME ALL GT are set!\"\"\"\n",
    "    gt1 = np.sum(f[\"calldata/GT\"], axis=2)/2.0 # Get the genotype sum\n",
    "    af = np.mean(gt1, axis=1)\n",
    "    return af\n",
    "\n",
    "def merge_in_af(path_h5, af, col_af=\"AF_ALL\"):\n",
    "    \"\"\"Merge in AF into hdf5 file. Save modified h5 in place \n",
    "    af: Array of allele frequencies to save\"\"\"\n",
    "    \n",
    "    ### Now create the new column in hdf5\n",
    "    print(\"Adding map to HDF5...\")\n",
    "    with h5py.File(path_h5, 'a') as f0:\n",
    "        group = f0[\"variants\"]\n",
    "        l = len(f0[\"variants/POS\"]) # Get number of markers\n",
    "        print(f\"Loaded {len(af)} variants.\")\n",
    "        assert(l==len(af)) # Sanity Checks\n",
    "        assert(np.min(af)>=0)\n",
    "        assert(np.max(af)<=1)\n",
    "        \n",
    "        group.create_dataset(col_af, (l,), dtype='f')   \n",
    "        f0[f\"variants/{col_af}\"][:] = af[:]\n",
    "    print(f\"Finshed merged in allele frequencies into {path_h5}\")\n",
    "    \n",
    "def lift_af(h5_target, h5_original, field=\"variants/AF_ALL\", \n",
    "            match_col=\"variants/POS\", dt=np.float):\n",
    "    \"\"\"Bring over field from one h5 to another. Assume field does not exist in target\n",
    "    h5_original: The original hdf5 path\n",
    "    h5_target: The target hdf5 path\n",
    "    field: Which fielw to copy over \n",
    "    \"\"\"\n",
    "    g= h5py.File(h5_original, \"r\") # To read ref data\n",
    "    f = h5py.File(h5_target, 'a') # To append data\n",
    "    \n",
    "    l = len(f[match_col]) #  nr target loci\n",
    "    p = 0.5 * np.ones(l, dtype=np.float) # Default value for p\n",
    "    \n",
    "    ### Match on position and lift over.\n",
    "    its, i1, i2 = np.intersect1d(g[match_col][:], f[match_col][:], return_indices=True)\n",
    "    p[i2] = g[field][:][i1]\n",
    "    print(f\"Intersection {len(i2)} out of {l} target HDF5 SNPs\")\n",
    "    \n",
    "    ### Crate and write the field in target h5\n",
    "    if not field in f:\n",
    "        f.create_dataset(field, (l,), dtype='f')  \n",
    "    else:\n",
    "        print(f\"Found pre-existing field.\")\n",
    "    f[field][:] = p\n",
    "    \n",
    "    print(\"We did it. Finished.\")\n",
    "    return"
   ]
  },
  {
   "cell_type": "code",
   "execution_count": null,
   "metadata": {},
   "outputs": [],
   "source": []
  },
  {
   "cell_type": "markdown",
   "metadata": {},
   "source": [
    "# Area 51"
   ]
  },
  {
   "cell_type": "code",
   "execution_count": 15,
   "metadata": {},
   "outputs": [],
   "source": [
    "### Plot Allele Frequencies for visual inspection"
   ]
  },
  {
   "cell_type": "code",
   "execution_count": 10,
   "metadata": {},
   "outputs": [
    {
     "data": {
      "image/png": "[encoded data removed]",
      "text/plain": [
       "<Figure size 576x432 with 1 Axes>"
      ]
     },
     "metadata": {
      "needs_background": "light"
     },
     "output_type": "display_data"
    }
   ],
   "source": [
    "plt.figure(figsize=(8,6))\n",
    "bins= np.linspace(0,1,101)\n",
    "ax = plt.gca()\n",
    "ax.hist(af, bins=bins,ec=\"k\")\n",
    "plt.show()"
   ]
  },
  {
   "cell_type": "markdown",
   "metadata": {},
   "source": [
    "### Test HDF5 Allele Frequencies"
   ]
  },
  {
   "cell_type": "code",
   "execution_count": 30,
   "metadata": {},
   "outputs": [],
   "source": [
    "ch = 3\n",
    "h5_target = f\"/n/groups/reich/hringbauer/hapsburg_runs/data/data_eirini/h5/all_ch{ch}.h5\"\n",
    "\n",
    "f= h5py.File(h5_target, \"r\")\n",
    "#print(np.shape(f[\"calldata/GT\"]))\n",
    "af1 = f[\"variants/AF_ALL\"][:]  \n",
    "f.close()"
   ]
  }
 ],
 "metadata": {
  "kernelspec": {
   "display_name": "Python 3",
   "language": "python",
   "name": "python3"
  },
  "language_info": {
   "codemirror_mode": {
    "name": "ipython",
    "version": 3
   },
   "file_extension": ".py",
   "mimetype": "text/x-python",
   "name": "python",
   "nbconvert_exporter": "python",
   "pygments_lexer": "ipython3",
   "version": "3.8.10"
  }
 },
 "nbformat": 4,
 "nbformat_minor": 4
}
