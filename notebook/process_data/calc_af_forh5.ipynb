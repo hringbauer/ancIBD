{
 "cells": [
  {
   "cell_type": "markdown",
   "metadata": {},
   "source": [
    "# Calculate Allele Frequency for HDF5, and merge into the hf5 data"
   ]
  },
  {
   "cell_type": "code",
   "execution_count": 4,
   "metadata": {},
   "outputs": [
    {
     "name": "stdout",
     "output_type": "stream",
     "text": [
      "compute-a-16-121.o2.rc.hms.harvard.edu\n",
      "HSM O2 Computational partition detected.\n",
      "/n/groups/reich/hringbauer/git/hapBLOCK\n",
      "CPU Count: 32\n"
     ]
    }
   ],
   "source": [
    "import numpy as np\n",
    "import pandas as pd\n",
    "import matplotlib.pyplot as plt\n",
    "import socket as socket\n",
    "import os as os\n",
    "import sys as sys\n",
    "import multiprocessing as mp\n",
    "import h5py\n",
    "import allel\n",
    "\n",
    "socket_name = socket.gethostname()\n",
    "print(socket_name)\n",
    "\n",
    "if socket_name.startswith(\"compute-\"):\n",
    "    print(\"HSM O2 Computational partition detected.\")\n",
    "    path = \"/n/groups/reich/hringbauer/git/hapBLOCK/\"  # The Path on Harvard Cluster\n",
    "else: \n",
    "    raise RuntimeWarning(\"Not compatible machine. Check!!\")\n",
    "\n",
    "os.chdir(path)  # Set the right Path (in line with Atom default)\n",
    "\n",
    "print(os.getcwd())\n",
    "print(f\"CPU Count: {mp.cpu_count()}\")\n",
    "\n",
    "sys.path.insert(0, \"/n/groups/reich/hringbauer/git/HAPSBURG/package/\")  # hack to get local package first in path\n",
    "from hapsburg.PackagesSupport.h5_python.h5_functions import merge_in_ld_map"
   ]
  },
  {
   "cell_type": "code",
   "execution_count": 13,
   "metadata": {},
   "outputs": [],
   "source": [
    "def get_af(f, min_gp=0.99):\n",
    "    \"\"\"Get Allele Frequency\"\"\"\n",
    "    gp_max = np.max(f[\"calldata/GP\"], axis=2)\n",
    "    gp_good = (gp_max>=min_gp) # The decent genotype probabilitiies\n",
    "    gp_max = 0 # Delete GP max (unnecessary now)\n",
    "    \n",
    "    gt1 = np.sum(f[\"calldata/GT\"], axis=2)/2.0 # Get the genotype sum\n",
    "    gp_good_c = np.sum(gp_good, axis=1)\n",
    "    af = np.sum(gt1 * gp_good, axis=1) / gp_good_c\n",
    "    return af\n",
    "\n",
    "def merge_in_af(path_h5, af, col_af=\"AF_ALL\"):\n",
    "    \"\"\"Merge in AF into hdf5 file. Save modified h5 in place \n",
    "    af: Array of allele frequencies to save\"\"\"\n",
    "    \n",
    "    ### Now create the new column in hdf5\n",
    "    print(\"Adding map to HDF5...\")\n",
    "    with h5py.File(path_h5, 'a') as f0:\n",
    "        group = f0[\"variants\"]\n",
    "        l = len(f0[\"variants/POS\"]) # Get number of markers\n",
    "        print(f\"Loaded {len(af)} variants.\")\n",
    "        assert(l==len(af)) # Sanity Checks\n",
    "        assert(np.min(af)>=0)\n",
    "        assert(np.max(af)<=1)\n",
    "        \n",
    "        group.create_dataset(col_af, (l,), dtype='f')   \n",
    "        f0[f\"variants/{col_af}\"][:] = af[:]\n",
    "    print(f\"Finshed merged in allele frequencies into {path_h5}\")"
   ]
  },
  {
   "cell_type": "code",
   "execution_count": 6,
   "metadata": {},
   "outputs": [
    {
     "name": "stdout",
     "output_type": "stream",
     "text": [
      "CPU times: user 2min 47s, sys: 39.3 s, total: 3min 27s\n",
      "Wall time: 3min 27s\n"
     ]
    }
   ],
   "source": [
    "%%time\n",
    "path_h5_ch = f\"./data/hdf5/1240k_v43/ch3.h5\"\n",
    "\n",
    "with h5py.File(path_h5_ch, \"r\") as f:\n",
    "    af = get_af(f) "
   ]
  },
  {
   "cell_type": "code",
   "execution_count": 14,
   "metadata": {},
   "outputs": [
    {
     "name": "stdout",
     "output_type": "stream",
     "text": [
      "Adding map to HDF5...\n",
      "Loaded 77601 variants.\n",
      "Finshed merged in allele frequencies into ./data/hdf5/1240k_v43/ch3.h5\n"
     ]
    }
   ],
   "source": [
    "merge_in_af(path_h5_ch, af)"
   ]
  },
  {
   "cell_type": "markdown",
   "metadata": {},
   "source": [
    "# Area 51"
   ]
  },
  {
   "cell_type": "code",
   "execution_count": 15,
   "metadata": {},
   "outputs": [],
   "source": [
    "### Plot Allele Frequencies for visual inspection"
   ]
  },
  {
   "cell_type": "code",
   "execution_count": 23,
   "metadata": {},
   "outputs": [
    {
     "data": {
      "image/png": "[encoded data removed]",
      "text/plain": [
       "<Figure size 576x432 with 1 Axes>"
      ]
     },
     "metadata": {
      "needs_background": "light"
     },
     "output_type": "display_data"
    }
   ],
   "source": [
    "plt.figure(figsize=(8,6))\n",
    "bins= np.linspace(0,1,101)\n",
    "ax = plt.gca()\n",
    "ax.hist(af1, bins=bins,ec=\"k\")\n",
    "plt.show()"
   ]
  },
  {
   "cell_type": "markdown",
   "metadata": {},
   "source": [
    "### Test HDF5 Allele Frequencies"
   ]
  },
  {
   "cell_type": "code",
   "execution_count": 22,
   "metadata": {},
   "outputs": [
    {
     "name": "stdout",
     "output_type": "stream",
     "text": [
      "(77601, 14523, 2)\n"
     ]
    }
   ],
   "source": [
    "ch = 3\n",
    "with h5py.File(f\"./data/hdf5/1240k_v43/ch{ch}.h5\", \"r\") as f: # Load for Sanity Check. See below!\n",
    "#g = h5py.File(\"./data/hdf5/HO_v43/ch3.h5\", \"r\")\n",
    "    print(np.shape(f[\"calldata/GT\"]))\n",
    "    af1 = f[\"variants/AF_ALL\"][:]"
   ]
  },
  {
   "cell_type": "code",
   "execution_count": null,
   "metadata": {},
   "outputs": [],
   "source": []
  }
 ],
 "metadata": {
  "kernelspec": {
   "display_name": "Python 3",
   "language": "python",
   "name": "python3"
  },
  "language_info": {
   "codemirror_mode": {
    "name": "ipython",
    "version": 3
   },
   "file_extension": ".py",
   "mimetype": "text/x-python",
   "name": "python",
   "nbconvert_exporter": "python",
   "pygments_lexer": "ipython3",
   "version": "3.7.4"
  }
 },
 "nbformat": 4,
 "nbformat_minor": 4
}
