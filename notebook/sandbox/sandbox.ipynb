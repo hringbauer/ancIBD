{
 "cells": [
  {
   "cell_type": "markdown",
   "metadata": {},
   "source": [
    "# Sandbox for developing Python Code\n",
    "Benefit: Can run interactively"
   ]
  },
  {
   "cell_type": "code",
   "execution_count": 1,
   "metadata": {},
   "outputs": [
    {
     "name": "stdout",
     "output_type": "stream",
     "text": [
      "compute-e-16-231.o2.rc.hms.harvard.edu\n",
      "HSM O2 Computational partition detected.\n"
     ]
    }
   ],
   "source": [
    "import os as os\n",
    "import socket as socket\n",
    "import sys as sys\n",
    "import matplotlib.pyplot as plt\n",
    "import numpy as np\n",
    "import pandas as pd\n",
    "import itertools as it\n",
    "from time import time\n",
    "socket_name = socket.gethostname()\n",
    "print(socket_name)\n",
    "\n",
    "if socket_name.startswith(\"compute-\"):\n",
    "    print(\"HSM O2 Computational partition detected.\")\n",
    "    path = \"/n/groups/reich/hringbauer/git/hapBLOCK/\"  # The Path on Harvard Cluster\n",
    "else: \n",
    "    raise RuntimeWarning(\"Not compatible machine. Check!!\")\n",
    "\n",
    "os.chdir(path)  # Set the right Path (in line with Atom default)\n",
    "sys.path.append(\"./python3/\") \n",
    "from postprocessing import load_Postprocessing\n",
    "from plot.plot_posterior import plot_posterior\n",
    "from main import HMM_Full\n",
    "\n",
    "sys.path.insert(0,\"/n/groups/reich/hringbauer/git/hapBLOCK/package/\")  # hack to get development package first in path\n",
    "from hapBLOCK.IO.h5_load import get_opp_homos_f"
   ]
  },
  {
   "cell_type": "markdown",
   "metadata": {},
   "source": [
    "# Test the code to multirun individuals"
   ]
  },
  {
   "cell_type": "code",
   "execution_count": 2,
   "metadata": {},
   "outputs": [],
   "source": [
    "def hapBLOCK_chroms(folder_in=\"./data/hdf5/1240k_v43/ch\", iids = [], run_iids=[],\n",
    "                   ch=2, folder_out=\"\", output=False, prefix_out=\"\", logfile=False,\n",
    "                   l_model=\"hdf5\", e_model=\"haploid_gl\", h_model=\"FiveStateFast\", \n",
    "                   t_model=\"standard\", ibd_in=1, ibd_out=10, ibd_jump=400, min_cm=2,\n",
    "                   cutoff_post=0.99, max_gap=0.0075, processes=1):\n",
    "    \"\"\"Run IBD for list of Individuals, and saves their IBD csv into a single \n",
    "    output folder.\n",
    "    folder_in: hdf5 path up to chromosome.\n",
    "    iids: List of IIDs to load [k indivdiuals]\n",
    "    run_iids: If given: list of IID pairs to run. If not run all pairs\n",
    "    folder_out: Where to save the hapBLOCK output to\n",
    "    min_cm: Minimal block length to call and save [cM]\n",
    "    savepath: Where to save the IBD plot to.\n",
    "    Return df_ibd, posterior, map, tot_ll\"\"\"\n",
    "    ### Run all pairs if empty\n",
    "    iids = np.array(iids) # For better seach props\n",
    "    if len(run_iids)==0:\n",
    "        run_iids = it.combinations(iids, 2)\n",
    "        \n",
    "    ### Load all the objects\n",
    "    h = HMM_Full(folder_in=folder_in, l_model=l_model, t_model=t_model, \n",
    "                     e_model=e_model, h_model = h_model,\n",
    "                     output=output, load=True)\n",
    "    h.t_obj.set_params(ibd_in = ibd_in, ibd_out = ibd_out, ibd_jump = ibd_jump)\n",
    "    h.l_obj.set_params(iids=iids, ch=ch)\n",
    "    h.p_obj.set_params(ch=ch, min_cm=min_cm, cutoff_post=cutoff_post, max_gap=max_gap)\n",
    "    \n",
    "    ### Load all data\n",
    "    t = time()\n",
    "    htsl, p, r_vec, samples =  h.l_obj.load_all_data()\n",
    "    \n",
    "    e = time()\n",
    "    print(f\"Runtime Loading: {(e-t)} s\")\n",
    "    \n",
    "    ### Load transition matrix\n",
    "    t = time()\n",
    "    t_mat = h.t_obj.full_transition_matrix(r_vec, n=4, submat33 = h.submat33)\n",
    "    e = time()\n",
    "    print(f\"Runtime T Mat.: {(e-t)} s\")\n",
    "    \n",
    "    ### loop over all Run Pair Individuals\n",
    "    df_ibds = []\n",
    "    for iid1,iid2 in run_iids:\n",
    "        t = time()\n",
    "        i1 = get_sample_index(samples, iid1)\n",
    "        i2 = get_sample_index(samples, iid2) \n",
    "        idcs = [i1*2, i1*2+1, i2*2, i2*2+1] # Get the right indices\n",
    "        e_mat =  h.e_obj.give_emission_matrix(htsl[idcs,:], p)\n",
    "        e = time()\n",
    "        print(f\"Runtime Loading Emission Matrix: {(e-t)} s\")\n",
    "        \n",
    "        t = time()\n",
    "        post =  h.fwd_bwd(e_mat, t_mat, in_val =  h.in_val, \n",
    "                            full=False, output= h.output)\n",
    "        e = time()\n",
    "        print(f\"Runtime FWD-BWD: {(e-t)} s\")\n",
    "        \n",
    "        t = time()\n",
    "        df_ibd, _, _ = h.p_obj.call_roh(r_vec, post, iid1, iid2)\n",
    "        df_ibds.append(df_ibd)\n",
    "        e = time()\n",
    "        print(f\"Runtime Postprocessing: {(e-t)} s\")\n",
    "    \n",
    "    df_ibds = pd.concat(df_ibds)\n",
    "    \n",
    "    if len(folder_out)>0:\n",
    "        folder_out = h.prepare_path(folder_out, iid=iids, ch=ch, prefix_out=prefix_out, logfile=logfile)\n",
    "        h.p_obj.save_output(df=df_ibd, save_folder=folder_out) # r_map=[], post=[]\n",
    "\n",
    "    return df_ibds\n",
    "\n",
    "def get_sample_index(iids, sample):\n",
    "    \"\"\"Get Index of sample - check if really there\"\"\"\n",
    "    idx = np.where(iids[:]==sample)[0]\n",
    "    assert(len(idx)==1)\n",
    "    return idx[0]"
   ]
  },
  {
   "cell_type": "code",
   "execution_count": 5,
   "metadata": {},
   "outputs": [
    {
     "name": "stdout",
     "output_type": "stream",
     "text": [
      "Runtime Loading: 1.1420063972473145 s\n",
      "Runtime T Mat.: 0.1048130989074707 s\n",
      "Runtime Loading Emission Matrix: 0.0074310302734375 s\n",
      "Runtime FWD-BWD: 0.018309593200683594 s\n",
      "Runtime Postprocessing: 0.005522489547729492 s\n",
      "Runtime Loading Emission Matrix: 0.006531953811645508 s\n",
      "Runtime FWD-BWD: 0.016131877899169922 s\n",
      "Runtime Postprocessing: 0.0029745101928710938 s\n",
      "Runtime Loading Emission Matrix: 0.005943775177001953 s\n",
      "Runtime FWD-BWD: 0.015866756439208984 s\n",
      "Runtime Postprocessing: 0.013071298599243164 s\n",
      "Runtime Loading Emission Matrix: 0.006753683090209961 s\n",
      "Runtime FWD-BWD: 0.01604175567626953 s\n",
      "Runtime Postprocessing: 0.025643348693847656 s\n",
      "Runtime Loading Emission Matrix: 0.005979061126708984 s\n",
      "Runtime FWD-BWD: 0.015933513641357422 s\n",
      "Runtime Postprocessing: 0.002969503402709961 s\n",
      "Runtime Loading Emission Matrix: 0.00590062141418457 s\n",
      "Runtime FWD-BWD: 0.015863656997680664 s\n",
      "Runtime Postprocessing: 0.0029785633087158203 s\n",
      "CPU times: user 1.35 s, sys: 57.6 ms, total: 1.4 s\n",
      "Wall time: 1.44 s\n"
     ]
    }
   ],
   "source": [
    "%%time\n",
    "iids = [ \"SUC002\", \"COR001\", \"COR002\", \"SUC003\"]\n",
    "\n",
    "df_ibd  = hapBLOCK_chroms(folder_in=\"./data/hdf5/1240k_v43/ch\", iids = iids, run_iids=[],\n",
    "                ch=3, folder_out=\"\", output=False, prefix_out=\"\", logfile=False,\n",
    "                l_model=\"hdf5\", e_model=\"haploid_gl\", h_model=\"FiveStateScaled\", \n",
    "                t_model=\"standard\", ibd_in=1, ibd_out=10, ibd_jump=400, min_cm=6,\n",
    "                cutoff_post=0.99, max_gap=0.0075, processes=1)"
   ]
  },
  {
   "cell_type": "code",
   "execution_count": 6,
   "metadata": {},
   "outputs": [
    {
     "data": {
      "text/html": [
       "<div>\n",
       "<style scoped>\n",
       "    .dataframe tbody tr th:only-of-type {\n",
       "        vertical-align: middle;\n",
       "    }\n",
       "\n",
       "    .dataframe tbody tr th {\n",
       "        vertical-align: top;\n",
       "    }\n",
       "\n",
       "    .dataframe thead th {\n",
       "        text-align: right;\n",
       "    }\n",
       "</style>\n",
       "<table border=\"1\" class=\"dataframe\">\n",
       "  <thead>\n",
       "    <tr style=\"text-align: right;\">\n",
       "      <th></th>\n",
       "      <th>Start</th>\n",
       "      <th>End</th>\n",
       "      <th>StartM</th>\n",
       "      <th>EndM</th>\n",
       "      <th>length</th>\n",
       "      <th>lengthM</th>\n",
       "      <th>ch</th>\n",
       "      <th>iid1</th>\n",
       "      <th>iid2</th>\n",
       "    </tr>\n",
       "  </thead>\n",
       "  <tbody>\n",
       "    <tr>\n",
       "      <th>0</th>\n",
       "      <td>54</td>\n",
       "      <td>77601</td>\n",
       "      <td>0.000645</td>\n",
       "      <td>2.232573</td>\n",
       "      <td>77547</td>\n",
       "      <td>2.231928</td>\n",
       "      <td>3</td>\n",
       "      <td>SUC002</td>\n",
       "      <td>SUC003</td>\n",
       "    </tr>\n",
       "    <tr>\n",
       "      <th>0</th>\n",
       "      <td>94</td>\n",
       "      <td>40246</td>\n",
       "      <td>0.001250</td>\n",
       "      <td>1.115326</td>\n",
       "      <td>40152</td>\n",
       "      <td>1.114076</td>\n",
       "      <td>3</td>\n",
       "      <td>COR001</td>\n",
       "      <td>COR002</td>\n",
       "    </tr>\n",
       "    <tr>\n",
       "      <th>1</th>\n",
       "      <td>53525</td>\n",
       "      <td>57951</td>\n",
       "      <td>1.433090</td>\n",
       "      <td>1.544322</td>\n",
       "      <td>4426</td>\n",
       "      <td>0.111232</td>\n",
       "      <td>3</td>\n",
       "      <td>COR001</td>\n",
       "      <td>COR002</td>\n",
       "    </tr>\n",
       "    <tr>\n",
       "      <th>2</th>\n",
       "      <td>69514</td>\n",
       "      <td>77601</td>\n",
       "      <td>1.864039</td>\n",
       "      <td>2.232573</td>\n",
       "      <td>8087</td>\n",
       "      <td>0.368534</td>\n",
       "      <td>3</td>\n",
       "      <td>COR001</td>\n",
       "      <td>COR002</td>\n",
       "    </tr>\n",
       "  </tbody>\n",
       "</table>\n",
       "</div>"
      ],
      "text/plain": [
       "   Start    End    StartM      EndM  length   lengthM  ch    iid1    iid2\n",
       "0     54  77601  0.000645  2.232573   77547  2.231928   3  SUC002  SUC003\n",
       "0     94  40246  0.001250  1.115326   40152  1.114076   3  COR001  COR002\n",
       "1  53525  57951  1.433090  1.544322    4426  0.111232   3  COR001  COR002\n",
       "2  69514  77601  1.864039  2.232573    8087  0.368534   3  COR001  COR002"
      ]
     },
     "execution_count": 6,
     "metadata": {},
     "output_type": "execute_result"
    }
   ],
   "source": [
    "df_ibd"
   ]
  },
  {
   "cell_type": "markdown",
   "metadata": {},
   "source": [
    "### Test Code to load individual data"
   ]
  },
  {
   "cell_type": "code",
   "execution_count": 7,
   "metadata": {},
   "outputs": [],
   "source": [
    "import h5py as h5py"
   ]
  },
  {
   "cell_type": "code",
   "execution_count": 37,
   "metadata": {},
   "outputs": [],
   "source": [
    "def get_individual_idx(f, iid=\"\", f_col=\"samples\"):\n",
    "    \"\"\"Return index of individual iid\"\"\"\n",
    "    samples = f[f_col].asstr()[:]\n",
    "    idx = (samples == iid)\n",
    "    assert(np.sum(idx)==1) # Sanity Check\n",
    "    idx=np.where(idx)[0][0]\n",
    "    return idx  "
   ]
  },
  {
   "cell_type": "code",
   "execution_count": 8,
   "metadata": {},
   "outputs": [],
   "source": [
    "path_h5_ch = f\"./data/hdf5/1240k_v43/ch1.h5\"\n",
    "#iids = [\"SUC002\", \"MA89\"]\n",
    "f = h5py.File(path_h5_ch, \"r\")"
   ]
  },
  {
   "cell_type": "code",
   "execution_count": 14,
   "metadata": {},
   "outputs": [],
   "source": [
    "f[\"samples\"][200:250]\n",
    "f.close()"
   ]
  },
  {
   "cell_type": "code",
   "execution_count": null,
   "metadata": {},
   "outputs": [],
   "source": [
    "### Get allele frequencies in bacthes\n",
    "i1,i2=0,1000\n",
    "min_gp\n",
    "gp_max = np.max(f[\"calldata/GP\"][i1:i2,:,:], axis=2)\n",
    "gts = f[\"calldata/GT\"][i1:i2,:,:]"
   ]
  }
 ],
 "metadata": {
  "kernelspec": {
   "display_name": "Python 3",
   "language": "python",
   "name": "python3"
  },
  "language_info": {
   "codemirror_mode": {
    "name": "ipython",
    "version": 3
   },
   "file_extension": ".py",
   "mimetype": "text/x-python",
   "name": "python",
   "nbconvert_exporter": "python",
   "pygments_lexer": "ipython3",
   "version": "3.7.4"
  }
 },
 "nbformat": 4,
 "nbformat_minor": 4
}
