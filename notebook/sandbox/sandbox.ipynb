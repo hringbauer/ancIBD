{
 "cells": [
  {
   "cell_type": "markdown",
   "metadata": {},
   "source": [
    "# Sandbox for developing Python Code\n",
    "Benefit: Can run interactively"
   ]
  },
  {
   "cell_type": "code",
   "execution_count": 24,
   "metadata": {},
   "outputs": [
    {
     "name": "stdout",
     "output_type": "stream",
     "text": [
      "compute-a-16-121.o2.rc.hms.harvard.edu\n",
      "HSM O2 Computational partition detected.\n"
     ]
    }
   ],
   "source": [
    "import os as os\n",
    "import socket as socket\n",
    "import sys as sys\n",
    "import matplotlib.pyplot as plt\n",
    "import numpy as np\n",
    "import itertools as it\n",
    "from time import time\n",
    "socket_name = socket.gethostname()\n",
    "print(socket_name)\n",
    "\n",
    "if socket_name.startswith(\"compute-\"):\n",
    "    print(\"HSM O2 Computational partition detected.\")\n",
    "    path = \"/n/groups/reich/hringbauer/git/hapBLOCK/\"  # The Path on Harvard Cluster\n",
    "else: \n",
    "    raise RuntimeWarning(\"Not compatible machine. Check!!\")\n",
    "\n",
    "os.chdir(path)  # Set the right Path (in line with Atom default)\n",
    "sys.path.append(\"./python3/\") \n",
    "from postprocessing import load_Postprocessing\n",
    "from plot.plot_posterior import plot_posterior\n",
    "from main import HMM_Full\n",
    "\n",
    "sys.path.insert(0,\"/n/groups/reich/hringbauer/git/hapBLOCK/package/\")  # hack to get development package first in path\n",
    "from hapBLOCK.IO.h5_load import get_opp_homos_f"
   ]
  },
  {
   "cell_type": "markdown",
   "metadata": {},
   "source": [
    "# Test the code to multirun individuals"
   ]
  },
  {
   "cell_type": "code",
   "execution_count": 29,
   "metadata": {},
   "outputs": [],
   "source": [
    "def hapBLOCK_chroms(folder_in=\"./data/hdf5/1240k_v43/ch\", iids = [], run_iids=[],\n",
    "                   ch=2, folder_out=\"\", output=False, prefix_out=\"\", logfile=False,\n",
    "                   l_model=\"hdf5\", e_model=\"haploid_gl\", h_model=\"FiveStateFast\", \n",
    "                   t_model=\"standard\", ibd_in=20, ibd_out=20, ibd_jump=300, min_cm=2,\n",
    "                   cutoff_post=0.99, max_gap=0.01, processes=1):\n",
    "    \"\"\"Run IBD for list of Individuals, and saves their IBD csv into a single \n",
    "    output folder.\n",
    "    folder_in: hdf5 path up to chromosome.\n",
    "    iids: List of IIDs to load [k indivdiuals]\n",
    "    run_iids: If given: list of IID pairs to run. If not run all pairs\n",
    "    folder_out: Where to save the hapBLOCK output to\n",
    "    min_cm: Minimal block length to call and save [cM]\n",
    "    savepath: Where to save the IBD plot to.\n",
    "    Return df_ibd, posterior, map, tot_ll\"\"\"\n",
    "    ### Run all pairs if empty\n",
    "    if len(run_iids)==0:\n",
    "        run_iids = it.combinations(iids, 2)\n",
    "        \n",
    "    ### Load all the objects\n",
    "    h = HMM_Full(folder_in=folder_in, l_model=l_model, t_model=t_model, \n",
    "                     e_model=e_model, h_model = h_model,\n",
    "                     output=output, load=True)\n",
    "    h.t_obj.set_params(ibd_in = ibd_in, ibd_out = ibd_out, ibd_jump = ibd_jump)\n",
    "    h.l_obj.set_params(iids=iids, ch=ch)\n",
    "    h.p_obj.set_params(ch=ch, min_cm=min_cm, cutoff_post=cutoff_post, max_gap=max_gap)\n",
    "    \n",
    "    ### Load all data\n",
    "    t = time()\n",
    "    htsl, p, r_vec =  h.l_obj.load_all_data()\n",
    "    e = time()\n",
    "    print(f\"Runtime Loading: {(e-t)} s\")\n",
    "    \n",
    "    ### Load transition matrix\n",
    "    t = time()\n",
    "    t_mat = h.t_obj.full_transition_matrix(r_vec, n=4, submat33=self.submat33)\n",
    "    e = time()\n",
    "    print(f\"Runtime T Mat.: {(e-t)} s\")\n",
    "    \n",
    "    \n",
    "    post = h.fwd_bwd(e_mat, t_mat, in_val = self.in_val, \n",
    "                                full=full, output=self.output)\n",
    "    \n",
    "    \n",
    "    raise NotImplementedError(\"Needs implementation!\")"
   ]
  },
  {
   "cell_type": "code",
   "execution_count": null,
   "metadata": {},
   "outputs": [],
   "source": [
    "hapBLOCK_chroms()"
   ]
  },
  {
   "cell_type": "code",
   "execution_count": 21,
   "metadata": {},
   "outputs": [],
   "source": [
    "iids =[\"iid\"+(str(i)) for i in range(10)]\n",
    "run_iids = []\n",
    "if len(run_iids)==0:\n",
    "        run_iids = it.combinations(iids, 2)"
   ]
  },
  {
   "cell_type": "code",
   "execution_count": 12,
   "metadata": {},
   "outputs": [],
   "source": []
  },
  {
   "cell_type": "markdown",
   "metadata": {},
   "source": [
    "### Test Code to load individual data"
   ]
  },
  {
   "cell_type": "code",
   "execution_count": 32,
   "metadata": {},
   "outputs": [],
   "source": [
    "import h5py as h5py"
   ]
  },
  {
   "cell_type": "code",
   "execution_count": 37,
   "metadata": {},
   "outputs": [],
   "source": [
    "def get_individual_idx(f, iid=\"\", f_col=\"samples\"):\n",
    "    \"\"\"Return index of individual iid\"\"\"\n",
    "    samples = f[f_col].asstr()[:]\n",
    "    idx = (samples == iid)\n",
    "    assert(np.sum(idx)==1) # Sanity Check\n",
    "    idx=np.where(idx)[0][0]\n",
    "    return idx  "
   ]
  },
  {
   "cell_type": "code",
   "execution_count": 40,
   "metadata": {},
   "outputs": [
    {
     "name": "stdout",
     "output_type": "stream",
     "text": [
      "[12516, 12483]\n"
     ]
    }
   ],
   "source": [
    "path_h5_ch = f\"./data/hdf5/1240k_v43/ch1.h5\"\n",
    "iids = [\"SUC002\", \"MA89\"]\n",
    "with h5py.File(path_h5_ch, \"r\") as f:\n",
    "    #m = self.return_map(f)\n",
    "    #p = self.return_p(f)\n",
    "    \n",
    "    idcs = [get_individual_idx(f, iid) for iid in iids]\n",
    "    print(idcs)\n",
    "    #h1 = self.get_haplo_prob(f, idx1)\n",
    "    #h2 = self.get_haplo_prob(f, idx2)\n",
    "    #htsl = np.concatenate((h1,h2), axis=0)\n",
    "\n",
    "#self.check_valid_data(htsl, p, m)\n",
    "#return htsl, p, m"
   ]
  },
  {
   "cell_type": "code",
   "execution_count": 41,
   "metadata": {},
   "outputs": [],
   "source": [
    "f = h5py.File(path_h5_ch, \"r\")"
   ]
  },
  {
   "cell_type": "code",
   "execution_count": 47,
   "metadata": {},
   "outputs": [
    {
     "data": {
      "text/plain": [
       "['AF',\n",
       " 'ALT',\n",
       " 'BUF',\n",
       " 'CHROM',\n",
       " 'FILTER_PASS',\n",
       " 'ID',\n",
       " 'INFO',\n",
       " 'MAP',\n",
       " 'POS',\n",
       " 'QUAL',\n",
       " 'RAF',\n",
       " 'REF',\n",
       " 'altlen',\n",
       " 'is_snp',\n",
       " 'numalt']"
      ]
     },
     "execution_count": 47,
     "metadata": {},
     "output_type": "execute_result"
    }
   ],
   "source": [
    "list(f[\"variants/AF\"])"
   ]
  },
  {
   "cell_type": "code",
   "execution_count": 49,
   "metadata": {},
   "outputs": [
    {
     "data": {
      "text/plain": [
       "array([[0, 0],\n",
       "       [0, 0],\n",
       "       [0, 0],\n",
       "       ...,\n",
       "       [0, 0],\n",
       "       [0, 0],\n",
       "       [0, 0]], dtype=int8)"
      ]
     },
     "execution_count": 49,
     "metadata": {},
     "output_type": "execute_result"
    }
   ],
   "source": [
    "f[\"calldata/GT\"][100,:,:]"
   ]
  },
  {
   "cell_type": "code",
   "execution_count": null,
   "metadata": {},
   "outputs": [],
   "source": [
    "### Get allele frequencies in bacthes\n",
    "i1,i2=0,1000\n",
    "min_gp\n",
    "gp_max = np.max(f[\"calldata/GP\"][i1:i2,:,:], axis=2)\n",
    "gts = f[\"calldata/GT\"][i1:i2,:,:]"
   ]
  },
  {
   "cell_type": "code",
   "execution_count": 88,
   "metadata": {},
   "outputs": [
    {
     "data": {
      "text/plain": [
       "array([1.60682819, 0.20733591, 0.59912594, ..., 0.05706081, 0.03451019,\n",
       "       0.11274759])"
      ]
     },
     "execution_count": 88,
     "metadata": {},
     "output_type": "execute_result"
    }
   ],
   "source": [
    "af"
   ]
  }
 ],
 "metadata": {
  "kernelspec": {
   "display_name": "Python 3",
   "language": "python",
   "name": "python3"
  },
  "language_info": {
   "codemirror_mode": {
    "name": "ipython",
    "version": 3
   },
   "file_extension": ".py",
   "mimetype": "text/x-python",
   "name": "python",
   "nbconvert_exporter": "python",
   "pygments_lexer": "ipython3",
   "version": "3.7.4"
  }
 },
 "nbformat": 4,
 "nbformat_minor": 4
}
