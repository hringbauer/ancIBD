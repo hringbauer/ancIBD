{
 "cells": [
  {
   "cell_type": "code",
   "execution_count": 1,
   "metadata": {},
   "outputs": [
    {
     "name": "stdout",
     "output_type": "stream",
     "text": [
      "compute-e-16-233.o2.rc.hms.harvard.edu\n",
      "HSM O2 Computational partition detected.\n",
      "/n/groups/reich/hringbauer/git/yamnaya\n",
      "CPU Count: 28\n"
     ]
    }
   ],
   "source": [
    "import numpy as np\n",
    "import pandas as pd\n",
    "import matplotlib.pyplot as plt\n",
    "import socket as socket\n",
    "import os as os\n",
    "import sys as sys\n",
    "import h5py\n",
    "import matplotlib.cm as cm\n",
    "import itertools as it\n",
    "import multiprocessing as mp\n",
    "\n",
    "socket_name = socket.gethostname()\n",
    "print(socket_name)\n",
    "\n",
    "if socket_name.startswith(\"compute-\"):\n",
    "    print(\"HSM O2 Computational partition detected.\")\n",
    "    path = \"/n/groups/reich/hringbauer/git/yamnaya/\"  # The Path on Harvard Cluster\n",
    "elif socket_name.startswith(\"bionc\"):\n",
    "    print(\"Leipzig Cluster detected!\")\n",
    "    path = \"/mnt/archgen/users/hringbauer/\"\n",
    "else: \n",
    "    raise RuntimeWarning(\"Not compatible machine. Check!!\")\n",
    "\n",
    "os.chdir(path)  # Set the right Path (in line with Atom default)\n",
    "print(os.getcwd())\n",
    "print(f\"CPU Count: {mp.cpu_count()}\")\n",
    "\n",
    "from matplotlib import rcParams\n",
    "rcParams['font.family'] = 'sans-serif'   # Set the defaul\n",
    "rcParams['font.sans-serif'] = ['Arial']\n",
    "\n",
    "#from hapsburg.figures.plot_ibdx import new_column, give_sub_df\n",
    "\n",
    "#sys.path.insert(0,\"/n/groups/reich/hringbauer/git/hapBLOCK/python3/\")  # hack to get development package first in path\n",
    "#from ibd_stats.funcs import new_columns, find_relatives, give_sub_df, plot_age_diff, rc_date\n",
    "#from run import hapBLOCK_chroms"
   ]
  },
  {
   "cell_type": "code",
   "execution_count": null,
   "metadata": {},
   "outputs": [],
   "source": [
    " merged.vcf.gz | head -20"
   ]
  },
  {
   "cell_type": "code",
   "execution_count": 3,
   "metadata": {
    "tags": []
   },
   "outputs": [
    {
     "name": "stdout",
     "output_type": "stream",
     "text": [
      "##fileformat=VCFv4.2\n",
      "##FILTER=<ID=PASS,Description=\"All filters passed\">\n",
      "##fileDate=30/10/2021 - 05:13:14\n",
      "##source=GLIMPSE_phase v1.0.0\n",
      "##contig=<ID=22>\n",
      "##INFO=<ID=RAF,Number=A,Type=Float,Description=\"ALT allele frequency in the reference panel\">\n",
      "##INFO=<ID=AF,Number=A,Type=Float,Description=\"ALT allele frequency computed from DS/GP field across target samples\">\n",
      "##INFO=<ID=INFO,Number=A,Type=Float,Description=\"Imputation information or quality score\">\n",
      "##INFO=<ID=BUF,Number=A,Type=Integer,Description=\"Is it a variant site falling within buffer regions? (0=no/1=yes)\">\n",
      "##FORMAT=<ID=GT,Number=1,Type=String,Description=\"Unphased genotypes\">\n",
      "##FORMAT=<ID=DS,Number=1,Type=Float,Description=\"Genotype dosage\">\n",
      "##FORMAT=<ID=GP,Number=3,Type=Float,Description=\"Genotype posteriors\">\n",
      "##FORMAT=<ID=HS,Number=1,Type=Integer,Description=\"Sampled haplotype pairs packed into intergers (max: 15 pairs, see NMAIN header line)\">\n",
      "##NMAIN=10\n",
      "##bcftools_annotateVersion=1.13+htslib-1.13\n",
      "##bcftools_annotateCommand=annotate -a /n/data1/hms/genetics/reich/1000Genomes/ali/WholeGenomeImputation/data/chr22/I0626_all/phased.bcf -c FORMAT/GT -o /n/data1/hms/genetics/reich/1000Genomes/ali/WholeGenomeImputation/data/chr22/I0626_all/phased_imputed.bcf -Ob /n/data1/hms/genetics/reich/1000Genomes/ali/WholeGenomeImputation/data/chr22/I0626_all/ligate.bcf; Date=Sat Oct 30 05:24:30 2021\n",
      "##FORMAT=<ID=PL,Number=G,Type=Integer,Description=\"List of Phred-scaled genotype likelihoods\">\n",
      "##FORMAT=<ID=AD,Number=R,Type=Integer,Description=\"Allelic depths (high-quality bases)\">\n",
      "##bcftools_annotateCommand=annotate -a /n/data1/hms/genetics/reich/1000Genomes/ali/WholeGenomeImputation/data/chr22/I0626_all/annotation.bcf -c ^FORMAT/GT -o /n/data1/hms/genetics/reich/1000Genomes/ali/WholeGenomeImputation/data/chr22/I0626_all/glimpse_mpileup.bcf -Ob /n/data1/hms/genetics/reich/1000Genomes/ali/WholeGenomeImputation/data/chr22/I0626_all/phased_imputed.bcf; Date=Sat Oct 30 05:24:33 2021\n",
      "##bcftools_mergeVersion=1.13+htslib-1.13\n",
      "##bcftools_mergeCommand=merge -l /n/data1/hms/genetics/reich/1000Genomes/ali/WholeGenomeImputation/merged/v51.1/chr22/chr22_chunk0_bcf_list.txt -o /n/data1/hms/genetics/reich/1000Genomes/ali/WholeGenomeImputation/merged/v51.1/chr22/chr22_chunk0.bcf -Ob --threads 1; Date=Tue Feb 15 15:23:00 2022\n",
      "##bcftools_mergeCommand=merge -l /n/data1/hms/genetics/reich/1000Genomes/ali/WholeGenomeImputation/merged/v51.1/chr22/chr22_all_chunks_bcf_list.txt -o /n/data1/hms/genetics/reich/1000Genomes/ali/WholeGenomeImputation/merged/v51.1/chr22/chr22_all_chunks.bcf -Ob; Date=Tue Feb 15 23:25:43 2022\n",
      "##INFO=<ID=AC,Number=A,Type=Integer,Description=\"Allele count in genotypes\">\n",
      "##INFO=<ID=AN,Number=1,Type=Integer,Description=\"Total number of alleles in called genotypes\">\n",
      "##bcftools_viewVersion=1.13+htslib-1.13\n",
      "##bcftools_viewCommand=view -s I12439,I12440,I12438,I12896,I21390,I30300 /n/data1/hms/genetics/reich/1000Genomes/ali/WholeGenomeImputation/imputed_r2/v51.1/chr22.bcf; Date=Mon May 30 04:55:50 2022\n",
      "##bcftools_viewCommand=view /n/groups/reich/hringbauer/git/hapBLOCK/notebook/vignette/data/vcf.raw/example_hazelton_chr22.vcf.gz; Date=Mon Aug 21 14:57:38 2023\n",
      "#CHROM\tPOS\tID\tREF\tALT\tQUAL\tFILTER\tINFO\tFORMAT\tI12439\tI12440\tI12438\tI12896\tI21390\tI30300\n",
      "22\t16060521\t.\tCT\tC\t.\t.\tRAF=0.00359425;AF=0.00344115;INFO=0.001;AC=0;AN=12\tGT:DS:GP:HS:PL:AD\t0|0:0.003:0.997,0.003,0:0:.:.\t0|0:0.003:0.997,0.003,0:0:.:.\t0|0:0.003:0.997,0.003,0:0:.:.\t0|0:0.004:0.996,0.004,0:0:.:.\t0|0:0.005:0.995,0.005,0:0:.:.\t0|0:0.003:0.997,0.003,0:0:.:.\n",
      "22\t16080469\t.\tA\tATG\t.\t.\tRAF=0.000798722;AF=0.000208703;INFO=0;AC=0;AN=12\tGT:DS:GP:HS:PL:AD\t0|0:0.001:0.999,0.001,0:0:.:.\t0|0:0.015:0.985,0.015,0:0:.:.\t0|0:0.001:0.999,0.001,0:0:.:.\t0|0:0.001:0.999,0.001,0:0:.:.\t0|0:0.001:0.999,0.001,0:0:.:.\t0|0:0.001:0.999,0.001,0:0:.:.\n",
      "22\t16080482\t.\tC\tT\t.\t.\tRAF=0.00239617;AF=0.000771235;INFO=0;AC=0;AN=12\tGT:DS:GP:HS:PL:AD\t0|0:0.001:0.999,0.001,0:0:.:.\t0|0:0.002:0.998,0.002,0:0:.:.\t0|0:0.004:0.996,0.004,0:0:.:.\t0|0:0.008:0.992,0.008,0:0:.:.\t0|0:0.002:0.998,0.002,0:0:.:.\t0|0:0.002:0.998,0.002,0:0:.:.\n",
      "22\t16080482\t.\tCAT\tC\t.\t.\tRAF=0.1252;AF=0.0875939;INFO=0;AC=0;AN=12\tGT:DS:GP:HS:PL:AD\t0|0:0.247:0.761,0.232,0.008:541697:.:.\t0|0:0.11:0.892,0.105,0.002:48:.:.\t0|0:0.152:0.853,0.143,0.004:0:.:.\t0|0:0.2:0.814,0.172,0.014:512:.:.\t0|0:0.26:0.75,0.24,0.01:567808:.:.\t0|0:0.158:0.848,0.145,0.007:256:.:.\n",
      "22\t16080488\t.\tC\tT\t.\t.\tRAF=0.116414;AF=0.158207;INFO=0.009;AC=1;AN=12\tGT:DS:GP:HS:PL:AD\t0|0:0.41:0.624,0.343,0.033:160:.:.\t0|1:0.59:0.468,0.475,0.057:594028:.:.\t0|0:0.305:0.719,0.257,0.024:71681:.:.\t0|0:0.371:0.654,0.321,0.025:8199:.:.\t0|0:0.506:0.544,0.405,0.051:11285:.:.\t0|0:0.413:0.61,0.367,0.023:74752:.:.\n",
      "22\t16080488\t.\tCAT\tC\t.\t.\tRAF=0.000399361;AF=0.000212664;INFO=0;AC=0;AN=12\tGT:DS:GP:HS\t0|0:0:1,0,0:0\t0|0:0:1,0,0:0\t0|0:0.001:0.999,0.001,0:0\t0|0:0.001:0.999,0.001,0:0\t0|0:0.001:0.999,0.001,0:0\t0|0:0:1,0,0:0\n",
      "22\t16080496\t.\tTG\tT\t.\t.\tRAF=0.138578;AF=0.124535;INFO=0;AC=0;AN=12\tGT:DS:GP:HS:PL:AD\t0|0:0.265:0.746,0.244,0.01:1024:.:.\t0|0:0.204:0.802,0.192,0.006:8192:.:.\t0|0:0.178:0.827,0.168,0.005:268672:.:.\t0|0:0.245:0.775,0.206,0.02:327698:.:.\t0|0:0.269:0.742,0.247,0.011:671752:.:.\t0|0:0.308:0.711,0.27,0.019:42496:.:.\n",
      "22\t16080499\t.\tA\tATATATG\t.\t.\tRAF=0.138578;AF=0.124535;INFO=0;AC=0;AN=12\tGT:DS:GP:HS:PL:AD\t0|0:0.265:0.746,0.244,0.01:17664:.:.\t0|0:0.204:0.802,0.192,0.006:1024:.:.\t0|0:0.178:0.827,0.168,0.005:258:.:.\t0|0:0.245:0.775,0.206,0.02:0:.:.\t0|0:0.269:0.742,0.247,0.011:524296:.:.\t0|0:0.308:0.711,0.27,0.019:9216:.:.\n",
      "22\t16081371\t.\tA\tG\t.\t.\tRAF=0.0111821;AF=0.00293737;INFO=0;AC=0;AN=12\tGT:DS:GP:HS:PL:AD\t0|0:0.004:0.996,0.004,0:0:.:.\t0|0:0.005:0.995,0.005,0:0:.:.\t0|0:0.007:0.993,0.007,0:0:.:.\t0|0:0.019:0.981,0.019,0:0:.:.\t0|0:0.005:0.995,0.005,0:64:.:.\t0|0:0.007:0.993,0.007,0:0:.:.\n",
      "22\t16087540\t.\tC\tT\t.\t.\tRAF=0.000798722;AF=0.000265385;INFO=0;AC=0;AN=12\tGT:DS:GP:HS:PL:AD\t0|0:0.001:0.999,0.001,0:0:.:.\t0|0:0.002:0.998,0.002,0:0:.:.\t0|0:0.001:0.999,0.001,0:0:.:.\t0|0:0.001:0.999,0.001,0:0:.:.\t0|0:0.001:0.999,0.001,0:0:.:.\t0|0:0.001:0.999,0.001,0:0:.:.\n",
      "22\t16087779\t.\tG\tA\t.\t.\tRAF=0.00798722;AF=0.00910844;INFO=0.002;AC=0;AN=12\tGT:DS:GP:HS:PL:AD\t0|0:0.003:0.997,0.003,0:0:.:.\t0|0:0.048:0.953,0.047,0:32769:.:.\t0|0:0.006:0.994,0.006,0:0:.:.\t0|0:0.012:0.988,0.012,0:0:.:.\t0|0:0.004:0.996,0.004,0:0:.:.\t0|0:0.007:0.993,0.007,0:0:.:.\n",
      "22\t16103303\t.\tT\tC\t.\t.\tRAF=0.0113818;AF=0.00419157;INFO=0;AC=0;AN=12\tGT:DS:GP:HS:PL:AD\t0|0:0.007:0.993,0.007,0:0:.:.\t0|0:0.015:0.985,0.015,0:0:.:.\t0|0:0.009:0.991,0.009,0:0:.:.\t0|0:0.009:0.991,0.009,0:0:.:.\t0|0:0.007:0.993,0.007,0:0:.:.\t0|0:0.01:0.99,0.01,0:0:.:.\n",
      "22\t16135362\t.\tCAA\tC\t.\t.\tRAF=0.25599;AF=0.449869;INFO=0;AC=2;AN=12\tGT:DS:GP:HS:PL:AD\t0|0:0.606:0.484,0.427,0.089:25376:.:.\t0|1:0.698:0.409,0.484,0.107:594056:.:.\t0|1:0.674:0.419,0.488,0.093:536650:0,3,37:1,0\t0|0:0.474:0.58,0.366,0.054:46136:.:.\t0|0:0.453:0.593,0.361,0.046:216068:.:.\t0|0:0.534:0.535,0.395,0.069:917576:.:.\n",
      "22\t16135368\t.\tA\tAAAAAAC\t.\t.\tRAF=0.00658946;AF=0.00147765;INFO=0;AC=0;AN=12\tGT:DS:GP:HS:PL:AD\t0|0:0.005:0.995,0.005,0:0:.:.\t0|0:0.003:0.997,0.003,0:0:.:.\t0|0:0.015:0.985,0.015,0:0:0,3,37:1,0\t0|0:0.006:0.994,0.006,0:0:.:.\t0|0:0.004:0.996,0.004,0:0:.:.\t0|0:0.003:0.997,0.003,0:0:.:.\n",
      "22\t16212732\t.\tC\tT\t.\t.\tRAF=0.0922524;AF=0.141032;INFO=0;AC=0;AN=12\tGT:DS:GP:HS:PL:AD\t0|0:0.52:0.565,0.35,0.085:37584:.:.\t0|0:0.098:0.904,0.095,0.001:1:.:.\t0|0:0.291:0.721,0.268,0.011:132193:.:.\t0|0:0.196:0.814,0.177,0.009:0:.:.\t0|0:0.254:0.763,0.221,0.017:45056:.:.\t0|0:0.159:0.845,0.151,0.004:525380:.:.\n",
      "22\t16231983\t.\tAGG\tA\t.\t.\tRAF=0.00459265;AF=0.00159636;INFO=0;AC=0;AN=12\tGT:DS:GP:HS:PL:AD\t0|0:0.001:0.999,0.001,0:0:.:.\t0|0:0.004:0.996,0.004,0:0:.:.\t0|0:0.003:0.997,0.003,0:0:.:.\t0|0:0.006:0.994,0.006,0:0:.:.\t0|0:0.002:0.998,0.002,0:0:.:.\t0|0:0.001:0.999,0.001,0:0:0,3,37:1,0\n",
      "22\t16231984\t.\tG\tT\t.\t.\tRAF=0.00638978;AF=0.00192834;INFO=0;AC=0;AN=12\tGT:DS:GP:HS:PL:AD\t0|0:0.002:0.998,0.002,0:0:.:.\t0|0:0.004:0.996,0.004,0:0:.:.\t0|0:0.004:0.996,0.004,0:0:.:.\t0|0:0.007:0.993,0.007,0:0:.:.\t0|0:0.003:0.997,0.003,0:0:.:.\t0|0:0.001:0.999,0.001,0:0:0,3,37:1,0\n",
      "22\t16231987\t.\tAGG\tA\t.\t.\tRAF=0.0357428;AF=0.0306233;INFO=0.018;AC=0;AN=12\tGT:DS:GP:HS:PL:AD\t0|0:0.016:0.984,0.016,0:0:.:.\t0|0:0.046:0.954,0.045,0:0:.:.\t0|0:0.03:0.97,0.03,0:1:.:.\t0|0:0.041:0.959,0.04,0:0:.:.\t0|0:0.063:0.938,0.061,0.001:0:.:.\t0|0:0.097:0.903,0.097,0:2:0,3,37:1,0\n",
      "22\t16231988\t.\tG\tT\t.\t.\tRAF=0.111222;AF=0.0473886;INFO=0;AC=0;AN=12\tGT:DS:GP:HS:PL:AD\t0|0:0.065:0.936,0.063,0.001:0:.:.\t0|0:0.27:0.741,0.247,0.011:303616:.:.\t0|0:0.089:0.912,0.086,0.001:0:.:.\t0|0:0.152:0.853,0.143,0.005:34:.:.\t0|0:0.141:0.863,0.134,0.003:0:.:.\t0|0:0.144:0.859,0.138,0.003:1024:0,3,37:1,0\n",
      "22\t16231991\t.\tAGGAAGGAG\tA\t.\t.\tRAF=0.00179712;AF=0.00357677;INFO=0.002;AC=0;AN=12\tGT:DS:GP:HS:PL:AD\t0|0:0.001:0.999,0.001,0:0:.:.\t0|0:0.001:0.999,0.001,0:0:.:.\t0|0:0.001:0.999,0.001,0:0:.:.\t0|0:0.002:0.998,0.002,0:0:.:.\t0|0:0.001:0.999,0.001,0:0:.:.\t0|0:0.001:0.999,0.001,0:0:0,3,37:1,0\n",
      "22\t16231992\t.\tG\tA\t.\t.\tRAF=0.0419329;AF=0.0332857;INFO=0.016;AC=0;AN=12\tGT:DS:GP:HS:PL:AD\t0|0:0.018:0.983,0.017,0:0:.:.\t0|0:0.049:0.951,0.048,0:0:.:.\t0|0:0.032:0.968,0.032,0:0:.:.\t0|0:0.059:0.941,0.058,0.001:0:.:.\t0|0:0.065:0.936,0.063,0.001:0:.:.\t0|0:0.098:0.902,0.098,0:1024:0,3,37:1,0\n",
      "22\t16231995\t.\tAGGAG\tA\t.\t.\tRAF=0.00579073;AF=0.00261837;INFO=0;AC=0;AN=12\tGT:DS:GP:HS:PL:AD\t0|0:0.003:0.997,0.003,0:0:.:.\t0|0:0.002:0.998,0.002,0:0:.:.\t0|0:0.003:0.997,0.003,0:0:.:.\t0|0:0.011:0.989,0.011,0:0:.:.\t0|0:0.003:0.997,0.003,0:0:.:.\t0|0:0.002:0.998,0.002,0:0:0,3,37:1,0\n",
      "[main_vcfview] Error: cannot write to (null)\n"
     ]
    }
   ],
   "source": [
    "path = \"/n/groups/reich/hringbauer/git/hapBLOCK/notebook/vignette/data/vcf.raw/example_hazelton_chr22.vcf.gz\"\n",
    "!bcftools view $path | head -50"
   ]
  },
  {
   "cell_type": "markdown",
   "metadata": {},
   "source": [
    "# Bar Plot for runtimes"
   ]
  },
  {
   "cell_type": "code",
   "execution_count": 53,
   "metadata": {},
   "outputs": [
    {
     "data": {
      "image/png": "[encoded data removed]",
      "text/plain": [
       "<Figure size 576x576 with 1 Axes>"
      ]
     },
     "metadata": {
      "needs_background": "light"
     },
     "output_type": "display_data"
    }
   ],
   "source": [
    "ns = dft.index.values.astype(\"int8\")\n",
    "x = np.arange(len(ns))\n",
    "\n",
    "fs=(8,8)\n",
    "width=0.8\n",
    "\n",
    "plt.figure(figsize=fs)\n",
    "ax = plt.gca()\n",
    "\n",
    "#ax.plot(ns, dft[\"t_full\"], \"o\")\n",
    "\n",
    "ax.bar(x, dft[\"t_load\"], width, label='Load')\n",
    "ax.bar(x, dft[\"t_run\"], width, bottom=dft[\"t_load\"],\n",
    "       label='Run')\n",
    "ax.set_xticks(x)\n",
    "ax.set_xticklabels(ns)\n",
    "ax.set_xlabel(\"Batch Number\")\n",
    "ax.plot()\n",
    "plt.show()"
   ]
  },
  {
   "cell_type": "code",
   "execution_count": 47,
   "metadata": {},
   "outputs": [
    {
     "data": {
      "text/plain": [
       "array([  2.,   5.,  10.,  20.,  50., 100.])"
      ]
     },
     "execution_count": 47,
     "metadata": {},
     "output_type": "execute_result"
    }
   ],
   "source": [
    "ns"
   ]
  },
  {
   "cell_type": "code",
   "execution_count": 19,
   "metadata": {},
   "outputs": [
    {
     "ename": "KeyError",
     "evalue": "\"['n'] not in index\"",
     "output_type": "error",
     "traceback": [
      "\u001b[0;31m---------------------------------------------------------------------------\u001b[0m",
      "\u001b[0;31mKeyError\u001b[0m                                  Traceback (most recent call last)",
      "\u001b[0;32m<ipython-input-19-6a0f112aaad5>\u001b[0m in \u001b[0;36m<module>\u001b[0;34m\u001b[0m\n\u001b[0;32m----> 1\u001b[0;31m \u001b[0mdft\u001b[0m\u001b[0;34m[\u001b[0m\u001b[0;34m[\u001b[0m\u001b[0;34m'n'\u001b[0m\u001b[0;34m,\u001b[0m \u001b[0;34m't_load'\u001b[0m\u001b[0;34m,\u001b[0m \u001b[0;34m't_pp'\u001b[0m\u001b[0;34m,\u001b[0m \u001b[0;34m't_run'\u001b[0m\u001b[0;34m,\u001b[0m \u001b[0;34m't_full'\u001b[0m\u001b[0;34m]\u001b[0m\u001b[0;34m]\u001b[0m\u001b[0;34m\u001b[0m\u001b[0;34m\u001b[0m\u001b[0m\n\u001b[0m",
      "\u001b[0;32m/n/groups/reich/hringbauer/explore_ntbk/jptvenv37/lib/python3.7/site-packages/pandas/core/frame.py\u001b[0m in \u001b[0;36m__getitem__\u001b[0;34m(self, key)\u001b[0m\n\u001b[1;32m   2910\u001b[0m             \u001b[0;32mif\u001b[0m \u001b[0mis_iterator\u001b[0m\u001b[0;34m(\u001b[0m\u001b[0mkey\u001b[0m\u001b[0;34m)\u001b[0m\u001b[0;34m:\u001b[0m\u001b[0;34m\u001b[0m\u001b[0;34m\u001b[0m\u001b[0m\n\u001b[1;32m   2911\u001b[0m                 \u001b[0mkey\u001b[0m \u001b[0;34m=\u001b[0m \u001b[0mlist\u001b[0m\u001b[0;34m(\u001b[0m\u001b[0mkey\u001b[0m\u001b[0;34m)\u001b[0m\u001b[0;34m\u001b[0m\u001b[0;34m\u001b[0m\u001b[0m\n\u001b[0;32m-> 2912\u001b[0;31m             \u001b[0mindexer\u001b[0m \u001b[0;34m=\u001b[0m \u001b[0mself\u001b[0m\u001b[0;34m.\u001b[0m\u001b[0mloc\u001b[0m\u001b[0;34m.\u001b[0m\u001b[0m_get_listlike_indexer\u001b[0m\u001b[0;34m(\u001b[0m\u001b[0mkey\u001b[0m\u001b[0;34m,\u001b[0m \u001b[0maxis\u001b[0m\u001b[0;34m=\u001b[0m\u001b[0;36m1\u001b[0m\u001b[0;34m,\u001b[0m \u001b[0mraise_missing\u001b[0m\u001b[0;34m=\u001b[0m\u001b[0;32mTrue\u001b[0m\u001b[0;34m)\u001b[0m\u001b[0;34m[\u001b[0m\u001b[0;36m1\u001b[0m\u001b[0;34m]\u001b[0m\u001b[0;34m\u001b[0m\u001b[0;34m\u001b[0m\u001b[0m\n\u001b[0m\u001b[1;32m   2913\u001b[0m \u001b[0;34m\u001b[0m\u001b[0m\n\u001b[1;32m   2914\u001b[0m         \u001b[0;31m# take() does not accept boolean indexers\u001b[0m\u001b[0;34m\u001b[0m\u001b[0;34m\u001b[0m\u001b[0;34m\u001b[0m\u001b[0m\n",
      "\u001b[0;32m/n/groups/reich/hringbauer/explore_ntbk/jptvenv37/lib/python3.7/site-packages/pandas/core/indexing.py\u001b[0m in \u001b[0;36m_get_listlike_indexer\u001b[0;34m(self, key, axis, raise_missing)\u001b[0m\n\u001b[1;32m   1252\u001b[0m             \u001b[0mkeyarr\u001b[0m\u001b[0;34m,\u001b[0m \u001b[0mindexer\u001b[0m\u001b[0;34m,\u001b[0m \u001b[0mnew_indexer\u001b[0m \u001b[0;34m=\u001b[0m \u001b[0max\u001b[0m\u001b[0;34m.\u001b[0m\u001b[0m_reindex_non_unique\u001b[0m\u001b[0;34m(\u001b[0m\u001b[0mkeyarr\u001b[0m\u001b[0;34m)\u001b[0m\u001b[0;34m\u001b[0m\u001b[0;34m\u001b[0m\u001b[0m\n\u001b[1;32m   1253\u001b[0m \u001b[0;34m\u001b[0m\u001b[0m\n\u001b[0;32m-> 1254\u001b[0;31m         \u001b[0mself\u001b[0m\u001b[0;34m.\u001b[0m\u001b[0m_validate_read_indexer\u001b[0m\u001b[0;34m(\u001b[0m\u001b[0mkeyarr\u001b[0m\u001b[0;34m,\u001b[0m \u001b[0mindexer\u001b[0m\u001b[0;34m,\u001b[0m \u001b[0maxis\u001b[0m\u001b[0;34m,\u001b[0m \u001b[0mraise_missing\u001b[0m\u001b[0;34m=\u001b[0m\u001b[0mraise_missing\u001b[0m\u001b[0;34m)\u001b[0m\u001b[0;34m\u001b[0m\u001b[0;34m\u001b[0m\u001b[0m\n\u001b[0m\u001b[1;32m   1255\u001b[0m         \u001b[0;32mreturn\u001b[0m \u001b[0mkeyarr\u001b[0m\u001b[0;34m,\u001b[0m \u001b[0mindexer\u001b[0m\u001b[0;34m\u001b[0m\u001b[0;34m\u001b[0m\u001b[0m\n\u001b[1;32m   1256\u001b[0m \u001b[0;34m\u001b[0m\u001b[0m\n",
      "\u001b[0;32m/n/groups/reich/hringbauer/explore_ntbk/jptvenv37/lib/python3.7/site-packages/pandas/core/indexing.py\u001b[0m in \u001b[0;36m_validate_read_indexer\u001b[0;34m(self, key, indexer, axis, raise_missing)\u001b[0m\n\u001b[1;32m   1302\u001b[0m             \u001b[0;32mif\u001b[0m \u001b[0mraise_missing\u001b[0m\u001b[0;34m:\u001b[0m\u001b[0;34m\u001b[0m\u001b[0;34m\u001b[0m\u001b[0m\n\u001b[1;32m   1303\u001b[0m                 \u001b[0mnot_found\u001b[0m \u001b[0;34m=\u001b[0m \u001b[0mlist\u001b[0m\u001b[0;34m(\u001b[0m\u001b[0mset\u001b[0m\u001b[0;34m(\u001b[0m\u001b[0mkey\u001b[0m\u001b[0;34m)\u001b[0m \u001b[0;34m-\u001b[0m \u001b[0mset\u001b[0m\u001b[0;34m(\u001b[0m\u001b[0max\u001b[0m\u001b[0;34m)\u001b[0m\u001b[0;34m)\u001b[0m\u001b[0;34m\u001b[0m\u001b[0;34m\u001b[0m\u001b[0m\n\u001b[0;32m-> 1304\u001b[0;31m                 \u001b[0;32mraise\u001b[0m \u001b[0mKeyError\u001b[0m\u001b[0;34m(\u001b[0m\u001b[0;34mf\"{not_found} not in index\"\u001b[0m\u001b[0;34m)\u001b[0m\u001b[0;34m\u001b[0m\u001b[0;34m\u001b[0m\u001b[0m\n\u001b[0m\u001b[1;32m   1305\u001b[0m \u001b[0;34m\u001b[0m\u001b[0m\n\u001b[1;32m   1306\u001b[0m             \u001b[0;31m# we skip the warning on Categorical\u001b[0m\u001b[0;34m\u001b[0m\u001b[0;34m\u001b[0m\u001b[0;34m\u001b[0m\u001b[0m\n",
      "\u001b[0;31mKeyError\u001b[0m: \"['n'] not in index\""
     ]
    }
   ],
   "source": [
    "dft[['n', 't_load', 't_pp', 't_run', 't_full']]"
   ]
  },
  {
   "cell_type": "code",
   "execution_count": null,
   "metadata": {},
   "outputs": [],
   "source": []
  }
 ],
 "metadata": {
  "kernelspec": {
   "display_name": "Python 3",
   "language": "python",
   "name": "python3"
  },
  "language_info": {
   "codemirror_mode": {
    "name": "ipython",
    "version": 3
   },
   "file_extension": ".py",
   "mimetype": "text/x-python",
   "name": "python",
   "nbconvert_exporter": "python",
   "pygments_lexer": "ipython3",
   "version": "3.7.4"
  }
 },
 "nbformat": 4,
 "nbformat_minor": 4
}
