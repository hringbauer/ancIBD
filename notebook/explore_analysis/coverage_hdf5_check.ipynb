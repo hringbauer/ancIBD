{
 "cells": [
  {
   "cell_type": "markdown",
   "metadata": {},
   "source": [
    "# Compare Coverage Ali HDF5 to anno file"
   ]
  },
  {
   "cell_type": "code",
   "execution_count": 1,
   "metadata": {},
   "outputs": [
    {
     "name": "stdout",
     "output_type": "stream",
     "text": [
      "compute-a-16-46.o2.rc.hms.harvard.edu\n",
      "HSM O2 Computational partition detected.\n",
      "/n/groups/reich/hringbauer/git/hapBLOCK\n",
      "CPU Count: 32\n"
     ]
    }
   ],
   "source": [
    "import numpy as np\n",
    "import pandas as pd\n",
    "import matplotlib.pyplot as plt\n",
    "import matplotlib.gridspec as gridspec\n",
    "import socket as socket\n",
    "import os as os\n",
    "import sys as sys\n",
    "import multiprocessing as mp\n",
    "import h5py\n",
    "import allel\n",
    "from scipy.stats import sem\n",
    "\n",
    "socket_name = socket.gethostname()\n",
    "print(socket_name)\n",
    "\n",
    "if socket_name.startswith(\"compute-\"):\n",
    "    print(\"HSM O2 Computational partition detected.\")\n",
    "    path = \"/n/groups/reich/hringbauer/git/hapBLOCK/\"  # The Path on Harvard Cluster\n",
    "else: \n",
    "    raise RuntimeWarning(\"Not compatible machine. Check!!\")\n",
    "\n",
    "os.chdir(path)  # Set the right Path (in line with Atom default)\n",
    "\n",
    "sys.path.append(\"./package/\") \n",
    "from hapBLOCK.IO.h5_load import get_idx_iid_exact, get_coverage, get_markers_good\n",
    "#from package.hapBLOCK.IO\n",
    "\n",
    "print(os.getcwd())\n",
    "print(f\"CPU Count: {mp.cpu_count()}\")"
   ]
  },
  {
   "cell_type": "markdown",
   "metadata": {},
   "source": [
    "# Load processed Meta"
   ]
  },
  {
   "cell_type": "code",
   "execution_count": 2,
   "metadata": {},
   "outputs": [
    {
     "name": "stdout",
     "output_type": "stream",
     "text": [
      "Loaded 18171 samples\n",
      "Loaded Sardinian data: 70 Indvidiuals\n"
     ]
    }
   ],
   "source": [
    "df = pd.read_csv(\"/n/groups/reich/hringbauer/Data/v43.4.anno.csv\")\n",
    "print(f\"Loaded {len(df)} samples\")\n",
    "\n",
    "df1 = df.loc[df[\"study\"].str.contains(\"Marcus\"), [\"iid\", \"n_cov_snp\", \"avg_cov_snp\"]].reset_index(drop=True)\n",
    "print(f\"Loaded Sardinian data: {len(df1)} Indvidiuals\")"
   ]
  },
  {
   "cell_type": "code",
   "execution_count": 7,
   "metadata": {},
   "outputs": [
    {
     "data": {
      "text/html": [
       "<div>\n",
       "<style scoped>\n",
       "    .dataframe tbody tr th:only-of-type {\n",
       "        vertical-align: middle;\n",
       "    }\n",
       "\n",
       "    .dataframe tbody tr th {\n",
       "        vertical-align: top;\n",
       "    }\n",
       "\n",
       "    .dataframe thead th {\n",
       "        text-align: right;\n",
       "    }\n",
       "</style>\n",
       "<table border=\"1\" class=\"dataframe\">\n",
       "  <thead>\n",
       "    <tr style=\"text-align: right;\">\n",
       "      <th></th>\n",
       "      <th>iid</th>\n",
       "      <th>Master ID</th>\n",
       "      <th>lat</th>\n",
       "      <th>lon</th>\n",
       "      <th>age</th>\n",
       "      <th>region</th>\n",
       "      <th>study</th>\n",
       "      <th>clst</th>\n",
       "      <th>mean_cov</th>\n",
       "      <th>n_cov_snp</th>\n",
       "      <th>avg_cov_snp</th>\n",
       "      <th>include_alt</th>\n",
       "      <th>family</th>\n",
       "      <th>sex</th>\n",
       "    </tr>\n",
       "  </thead>\n",
       "  <tbody>\n",
       "    <tr>\n",
       "      <th>7136</th>\n",
       "      <td>I13888</td>\n",
       "      <td>I13888</td>\n",
       "      <td>51.861211</td>\n",
       "      <td>-1.883011</td>\n",
       "      <td>5700.0</td>\n",
       "      <td>Great Britain</td>\n",
       "      <td>Unpublished (Nick Michael Britain BA to IA)</td>\n",
       "      <td>England_N_Megalithic</td>\n",
       "      <td>0.665881</td>\n",
       "      <td>799057</td>\n",
       "      <td>2.851294</td>\n",
       "      <td>True</td>\n",
       "      <td>Great Britain, England, Gloucestershire, Chelt...</td>\n",
       "      <td>F</td>\n",
       "    </tr>\n",
       "    <tr>\n",
       "      <th>8965</th>\n",
       "      <td>I12440</td>\n",
       "      <td>I12440</td>\n",
       "      <td>51.861211</td>\n",
       "      <td>-1.883011</td>\n",
       "      <td>5600.0</td>\n",
       "      <td>Great Britain</td>\n",
       "      <td>Unpublished (Nick Michael Britain BA to IA)</td>\n",
       "      <td>England_N_Megalithic</td>\n",
       "      <td>0.588801</td>\n",
       "      <td>706561</td>\n",
       "      <td>2.142237</td>\n",
       "      <td>True</td>\n",
       "      <td>Great Britain, England, Gloucestershire, Chelt...</td>\n",
       "      <td>M</td>\n",
       "    </tr>\n",
       "  </tbody>\n",
       "</table>\n",
       "</div>"
      ],
      "text/plain": [
       "         iid Master ID        lat       lon     age         region  \\\n",
       "7136  I13888    I13888  51.861211 -1.883011  5700.0  Great Britain   \n",
       "8965  I12440    I12440  51.861211 -1.883011  5600.0  Great Britain   \n",
       "\n",
       "                                            study                  clst  \\\n",
       "7136  Unpublished (Nick Michael Britain BA to IA)  England_N_Megalithic   \n",
       "8965  Unpublished (Nick Michael Britain BA to IA)  England_N_Megalithic   \n",
       "\n",
       "      mean_cov  n_cov_snp avg_cov_snp  include_alt  \\\n",
       "7136  0.665881     799057    2.851294         True   \n",
       "8965  0.588801     706561    2.142237         True   \n",
       "\n",
       "                                                 family sex  \n",
       "7136  Great Britain, England, Gloucestershire, Chelt...   F  \n",
       "8965  Great Britain, England, Gloucestershire, Chelt...   M  "
      ]
     },
     "execution_count": 7,
     "metadata": {},
     "output_type": "execute_result"
    }
   ],
   "source": [
    "df[df[\"iid\"].str.contains(\"I12440|I13888\")]"
   ]
  },
  {
   "cell_type": "markdown",
   "metadata": {},
   "source": [
    "## Generate Coverage for hdf5 sample\n",
    "Use Sardinian data first"
   ]
  },
  {
   "cell_type": "code",
   "execution_count": null,
   "metadata": {},
   "outputs": [],
   "source": [
    "f = h5py.File(\"./data/hdf5/1240k_v43/all_ch.h5\", \"r\") # Load for Sanity Check. See below!\n",
    "\n",
    "cs = []\n",
    "for iid in df1[\"iid\"].values[:]:\n",
    "    print(f\"Doing IID: {iid}\")\n",
    "    j1 = get_idx_iid_exact(f, iid)\n",
    "    c = get_coverage(f, j1)\n",
    "    cs.append(c)\n",
    "f.close()"
   ]
  },
  {
   "cell_type": "code",
   "execution_count": 14,
   "metadata": {},
   "outputs": [],
   "source": [
    "df1[\"cov_hdf5\"]=cs"
   ]
  },
  {
   "cell_type": "code",
   "execution_count": 15,
   "metadata": {},
   "outputs": [
    {
     "data": {
      "text/html": [
       "<div>\n",
       "<style scoped>\n",
       "    .dataframe tbody tr th:only-of-type {\n",
       "        vertical-align: middle;\n",
       "    }\n",
       "\n",
       "    .dataframe tbody tr th {\n",
       "        vertical-align: top;\n",
       "    }\n",
       "\n",
       "    .dataframe thead th {\n",
       "        text-align: right;\n",
       "    }\n",
       "</style>\n",
       "<table border=\"1\" class=\"dataframe\">\n",
       "  <thead>\n",
       "    <tr style=\"text-align: right;\">\n",
       "      <th></th>\n",
       "      <th>iid</th>\n",
       "      <th>n_cov_snp</th>\n",
       "      <th>avg_cov_snp</th>\n",
       "      <th>cov_hdf5</th>\n",
       "    </tr>\n",
       "  </thead>\n",
       "  <tbody>\n",
       "    <tr>\n",
       "      <th>0</th>\n",
       "      <td>MA110</td>\n",
       "      <td>998177</td>\n",
       "      <td>4.513763</td>\n",
       "      <td>5.645104</td>\n",
       "    </tr>\n",
       "    <tr>\n",
       "      <th>1</th>\n",
       "      <td>SEC002</td>\n",
       "      <td>921909</td>\n",
       "      <td>2.462145</td>\n",
       "      <td>2.641236</td>\n",
       "    </tr>\n",
       "    <tr>\n",
       "      <th>2</th>\n",
       "      <td>ORC002</td>\n",
       "      <td>914199</td>\n",
       "      <td>2.372964</td>\n",
       "      <td>2.545004</td>\n",
       "    </tr>\n",
       "    <tr>\n",
       "      <th>3</th>\n",
       "      <td>MA89</td>\n",
       "      <td>895417</td>\n",
       "      <td>2.220946</td>\n",
       "      <td>2.528302</td>\n",
       "    </tr>\n",
       "    <tr>\n",
       "      <th>4</th>\n",
       "      <td>COR002</td>\n",
       "      <td>854222</td>\n",
       "      <td>1.947504</td>\n",
       "      <td>2.090046</td>\n",
       "    </tr>\n",
       "    <tr>\n",
       "      <th>...</th>\n",
       "      <td>...</td>\n",
       "      <td>...</td>\n",
       "      <td>...</td>\n",
       "      <td>...</td>\n",
       "    </tr>\n",
       "    <tr>\n",
       "      <th>65</th>\n",
       "      <td>S1250</td>\n",
       "      <td>43116</td>\n",
       "      <td>0.059023</td>\n",
       "      <td>0.072106</td>\n",
       "    </tr>\n",
       "    <tr>\n",
       "      <th>66</th>\n",
       "      <td>NOE001</td>\n",
       "      <td>39975</td>\n",
       "      <td>0.035465</td>\n",
       "      <td>0.038849</td>\n",
       "    </tr>\n",
       "    <tr>\n",
       "      <th>67</th>\n",
       "      <td>SUA005</td>\n",
       "      <td>37869</td>\n",
       "      <td>0.036213</td>\n",
       "      <td>0.039308</td>\n",
       "    </tr>\n",
       "    <tr>\n",
       "      <th>68</th>\n",
       "      <td>S1253</td>\n",
       "      <td>33521</td>\n",
       "      <td>0.037221</td>\n",
       "      <td>0.044069</td>\n",
       "    </tr>\n",
       "    <tr>\n",
       "      <th>69</th>\n",
       "      <td>MA87</td>\n",
       "      <td>32177</td>\n",
       "      <td>0.030287</td>\n",
       "      <td>0.039947</td>\n",
       "    </tr>\n",
       "  </tbody>\n",
       "</table>\n",
       "<p>70 rows × 4 columns</p>\n",
       "</div>"
      ],
      "text/plain": [
       "       iid  n_cov_snp avg_cov_snp  cov_hdf5\n",
       "0    MA110     998177    4.513763  5.645104\n",
       "1   SEC002     921909    2.462145  2.641236\n",
       "2   ORC002     914199    2.372964  2.545004\n",
       "3     MA89     895417    2.220946  2.528302\n",
       "4   COR002     854222    1.947504  2.090046\n",
       "..     ...        ...         ...       ...\n",
       "65   S1250      43116    0.059023  0.072106\n",
       "66  NOE001      39975    0.035465  0.038849\n",
       "67  SUA005      37869    0.036213  0.039308\n",
       "68   S1253      33521    0.037221  0.044069\n",
       "69    MA87      32177    0.030287  0.039947\n",
       "\n",
       "[70 rows x 4 columns]"
      ]
     },
     "execution_count": 15,
     "metadata": {},
     "output_type": "execute_result"
    }
   ],
   "source": [
    "df1"
   ]
  },
  {
   "cell_type": "code",
   "execution_count": 18,
   "metadata": {},
   "outputs": [
    {
     "data": {
      "image/png": "[encoded data removed]",
      "text/plain": [
       "<Figure size 360x360 with 1 Axes>"
      ]
     },
     "metadata": {
      "needs_background": "light"
     },
     "output_type": "display_data"
    }
   ],
   "source": [
    "plt.figure(figsize=(5,5))\n",
    "ax = plt.gca()\n",
    "ax.scatter(df1[\"avg_cov_snp\"].values.astype(\"float\"), df1[\"cov_hdf5\"].values, c=\"orange\", ec=\"k\")\n",
    "ax.set_xlim([0,5])\n",
    "ax.set_ylim([0,5])\n",
    "ax.set_xlabel(\"Coverage .anno\")\n",
    "ax.set_ylabel(\"Coverage hdf5\")\n",
    "ax.plot([0,5],[0,5],c=\"gray\",zorder=0)\n",
    "plt.show()"
   ]
  },
  {
   "cell_type": "code",
   "execution_count": 10,
   "metadata": {},
   "outputs": [
    {
     "data": {
      "text/plain": [
       "2.528302401225833"
      ]
     },
     "execution_count": 10,
     "metadata": {},
     "output_type": "execute_result"
    }
   ],
   "source": [
    "f = h5py.File(\"./data/hdf5/1240k_v43/all_ch.h5\", \"r\") # Load for Sanity Check. See below!\n",
    "j1 = get_idx_iid_exact(f, \"MA89\")\n",
    "get_coverage(f,j1)"
   ]
  },
  {
   "cell_type": "markdown",
   "metadata": {},
   "source": [
    "# Test the weird samples"
   ]
  },
  {
   "cell_type": "code",
   "execution_count": 25,
   "metadata": {},
   "outputs": [
    {
     "name": "stdout",
     "output_type": "stream",
     "text": [
      "0.17606172061949646\n",
      "0.34355587909985613\n"
     ]
    }
   ],
   "source": [
    "f = h5py.File(\"./data/hdf5/1240k_v43/all_ch.h5\", \"r\") # Load for Sanity Check. See below!\n",
    "j1 = get_idx_iid_exact(f, \"I1293_all_d.SG\")\n",
    "print(get_coverage(f,j1))\n",
    "j2 = get_idx_iid_exact(f, \"I2312_all_d.SG\")\n",
    "print(get_coverage(f,j2))"
   ]
  },
  {
   "cell_type": "code",
   "execution_count": 33,
   "metadata": {},
   "outputs": [
    {
     "data": {
      "text/plain": [
       "174518"
      ]
     },
     "execution_count": 33,
     "metadata": {},
     "output_type": "execute_result"
    }
   ],
   "source": [
    "ads = f[\"calldata/AD\"][:,j1,:2]\n",
    "ads[ads<0]=0\n",
    "cov = np.sum(ads, axis=1)\n",
    "np.sum(cov>0)"
   ]
  },
  {
   "cell_type": "code",
   "execution_count": 34,
   "metadata": {},
   "outputs": [
    {
     "data": {
      "text/plain": [
       "315528"
      ]
     },
     "execution_count": 34,
     "metadata": {},
     "output_type": "execute_result"
    }
   ],
   "source": [
    "ads = f[\"calldata/AD\"][:,j2,:2]\n",
    "ads[ads<0]=0\n",
    "cov = np.sum(ads, axis=1)\n",
    "np.sum(cov>0)"
   ]
  },
  {
   "cell_type": "code",
   "execution_count": 31,
   "metadata": {},
   "outputs": [
    {
     "data": {
      "text/html": [
       "<div>\n",
       "<style scoped>\n",
       "    .dataframe tbody tr th:only-of-type {\n",
       "        vertical-align: middle;\n",
       "    }\n",
       "\n",
       "    .dataframe tbody tr th {\n",
       "        vertical-align: top;\n",
       "    }\n",
       "\n",
       "    .dataframe thead th {\n",
       "        text-align: right;\n",
       "    }\n",
       "</style>\n",
       "<table border=\"1\" class=\"dataframe\">\n",
       "  <thead>\n",
       "    <tr style=\"text-align: right;\">\n",
       "      <th></th>\n",
       "      <th>iid</th>\n",
       "      <th>Master ID</th>\n",
       "      <th>lat</th>\n",
       "      <th>lon</th>\n",
       "      <th>age</th>\n",
       "      <th>region</th>\n",
       "      <th>study</th>\n",
       "      <th>clst</th>\n",
       "      <th>mean_cov</th>\n",
       "      <th>n_cov_snp</th>\n",
       "      <th>avg_cov_snp</th>\n",
       "      <th>include_alt</th>\n",
       "      <th>family</th>\n",
       "    </tr>\n",
       "  </thead>\n",
       "  <tbody>\n",
       "    <tr>\n",
       "      <th>16599</th>\n",
       "      <td>I1293_all_d.SG</td>\n",
       "      <td>I1293</td>\n",
       "      <td>35.591</td>\n",
       "      <td>53.501</td>\n",
       "      <td>10800.0</td>\n",
       "      <td>Iran</td>\n",
       "      <td>Unpublished / Unclaimed (shotgun)</td>\n",
       "      <td>Iran_Mesolithic_HotuIIIb_all.SG</td>\n",
       "      <td>0.021412</td>\n",
       "      <td>25694</td>\n",
       "      <td>..</td>\n",
       "      <td>True</td>\n",
       "      <td>n/a (no relatives detected)</td>\n",
       "    </tr>\n",
       "    <tr>\n",
       "      <th>16660</th>\n",
       "      <td>I2312_all_d.SG</td>\n",
       "      <td>I2312</td>\n",
       "      <td>35.590</td>\n",
       "      <td>53.500</td>\n",
       "      <td>11950.0</td>\n",
       "      <td>Iran</td>\n",
       "      <td>Unpublished / Unclaimed (shotgun)</td>\n",
       "      <td>Iran_Mesolithic_BeltCave_d.SG</td>\n",
       "      <td>0.020155</td>\n",
       "      <td>24186</td>\n",
       "      <td>..</td>\n",
       "      <td>True</td>\n",
       "      <td>n/a (no relatives detected)</td>\n",
       "    </tr>\n",
       "  </tbody>\n",
       "</table>\n",
       "</div>"
      ],
      "text/plain": [
       "                  iid Master ID     lat     lon      age region  \\\n",
       "16599  I1293_all_d.SG     I1293  35.591  53.501  10800.0   Iran   \n",
       "16660  I2312_all_d.SG     I2312  35.590  53.500  11950.0   Iran   \n",
       "\n",
       "                                   study                             clst  \\\n",
       "16599  Unpublished / Unclaimed (shotgun)  Iran_Mesolithic_HotuIIIb_all.SG   \n",
       "16660  Unpublished / Unclaimed (shotgun)    Iran_Mesolithic_BeltCave_d.SG   \n",
       "\n",
       "       mean_cov  n_cov_snp avg_cov_snp  include_alt  \\\n",
       "16599  0.021412      25694          ..         True   \n",
       "16660  0.020155      24186          ..         True   \n",
       "\n",
       "                            family  \n",
       "16599  n/a (no relatives detected)  \n",
       "16660  n/a (no relatives detected)  "
      ]
     },
     "execution_count": 31,
     "metadata": {},
     "output_type": "execute_result"
    }
   ],
   "source": [
    "df[df[\"iid\"].str.contains(\"I1293_all_d.SG|I2312_all_d.SG\")]"
   ]
  },
  {
   "cell_type": "markdown",
   "metadata": {},
   "source": [
    "# Test whether weird samples have overlapping coverage"
   ]
  },
  {
   "cell_type": "code",
   "execution_count": 52,
   "metadata": {},
   "outputs": [
    {
     "name": "stdout",
     "output_type": "stream",
     "text": [
      "0.17606172061949646\n"
     ]
    }
   ],
   "source": [
    "f = h5py.File(\"./data/hdf5/1240k_v43/all_ch.h5\", \"r\") # Load for Sanity Check. See below!\n",
    "j1 = get_idx_iid_exact(f, \"I1293_all_d.SG\")\n",
    "print(get_coverage(f,j1))\n",
    "j2 = get_idx_iid_exact(f, \"I2312_all_d.SG\")"
   ]
  },
  {
   "cell_type": "code",
   "execution_count": 32,
   "metadata": {},
   "outputs": [
    {
     "name": "stdout",
     "output_type": "stream",
     "text": [
      "(1100313, 2, 2)\n"
     ]
    }
   ],
   "source": [
    "ads = f[\"calldata/AD\"][:,[j1,j2],:2]\n",
    "ads[ads<0]=0\n",
    "print(np.shape(ads))\n",
    "cov = np.sum(ads, axis=2)\n",
    "cov1 = (cov>0).astype(\"int\")"
   ]
  },
  {
   "cell_type": "code",
   "execution_count": 33,
   "metadata": {},
   "outputs": [],
   "source": [
    "n_cov = cov1[:,0] + cov1[:,1]"
   ]
  },
  {
   "cell_type": "code",
   "execution_count": 34,
   "metadata": {},
   "outputs": [
    {
     "data": {
      "text/plain": [
       "0    0.604037\n",
       "1    0.346556\n",
       "2    0.049407\n",
       "dtype: float64"
      ]
     },
     "execution_count": 34,
     "metadata": {},
     "output_type": "execute_result"
    }
   ],
   "source": [
    "pd.value_counts(n_cov)/len(n_cov)"
   ]
  },
  {
   "cell_type": "code",
   "execution_count": 45,
   "metadata": {},
   "outputs": [
    {
     "name": "stdout",
     "output_type": "stream",
     "text": [
      "0.44536963573092386\n"
     ]
    }
   ],
   "source": [
    "a = np.mean(n_cov)/\n",
    "print(a)"
   ]
  },
  {
   "cell_type": "code",
   "execution_count": 48,
   "metadata": {},
   "outputs": [
    {
     "data": {
      "text/plain": [
       "array([0.1586076 , 0.28676204])"
      ]
     },
     "execution_count": 48,
     "metadata": {},
     "output_type": "execute_result"
    }
   ],
   "source": [
    "np.mean(cov1,axis=0)  # Chance of coverage in each sample"
   ]
  },
  {
   "cell_type": "code",
   "execution_count": 49,
   "metadata": {},
   "outputs": [
    {
     "data": {
      "text/plain": [
       "0.04530808"
      ]
     },
     "execution_count": 49,
     "metadata": {},
     "output_type": "execute_result"
    }
   ],
   "source": [
    "0.158*0.28676"
   ]
  },
  {
   "cell_type": "markdown",
   "metadata": {},
   "source": [
    "### Check the heterozygosity of the indiviuals under question"
   ]
  },
  {
   "cell_type": "code",
   "execution_count": 7,
   "metadata": {},
   "outputs": [],
   "source": [
    "f = h5py.File(\"./data/hdf5/1240k_v43/all_ch.h5\", \"r\") # Load for Sanity Check. See below!\n",
    "#m = get_markers_good(f, j1, output=False, cutoff=0.99)"
   ]
  },
  {
   "cell_type": "code",
   "execution_count": 8,
   "metadata": {},
   "outputs": [],
   "source": [
    "def get_het(f, j, cutoff=0.99):\n",
    "    \"\"\"Get Heterozygosity for Markers above cutoff\"\"\"\n",
    "    m = get_markers_good(f, j, output=False, cutoff=cutoff)\n",
    "    gt1 = f[\"calldata/GT\"][:, j, :][m,:]\n",
    "    fac_het = np.mean(np.sum(gt1, axis=1)==1)\n",
    "    return fac_het, gt1"
   ]
  },
  {
   "cell_type": "code",
   "execution_count": 11,
   "metadata": {},
   "outputs": [
    {
     "name": "stdout",
     "output_type": "stream",
     "text": [
      "0.15257397066579292\n",
      "Mean derived 0.1915\n"
     ]
    },
    {
     "data": {
      "text/plain": [
       "570733"
      ]
     },
     "execution_count": 11,
     "metadata": {},
     "output_type": "execute_result"
    }
   ],
   "source": [
    "j1 = get_idx_iid_exact(f, \"I1293_all_d.SG\")\n",
    "fac_het, gt1 = get_het(f, j1, cutoff=0.98)\n",
    "print(fac_het)\n",
    "print(f\"Mean derived {np.mean(gt1):.4f}\")\n",
    "len(gt1)"
   ]
  },
  {
   "cell_type": "code",
   "execution_count": 14,
   "metadata": {},
   "outputs": [
    {
     "name": "stdout",
     "output_type": "stream",
     "text": [
      "0.2599509060870698\n",
      "Mean derived 0.2345\n"
     ]
    },
    {
     "data": {
      "text/plain": [
       "660367"
      ]
     },
     "execution_count": 14,
     "metadata": {},
     "output_type": "execute_result"
    }
   ],
   "source": [
    "j2 = get_idx_iid_exact(f, \"I2312_all_d.SG\")\n",
    "fac_het, gt1 = get_het(f, j2, cutoff=0.99)\n",
    "print(fac_het)\n",
    "print(f\"Mean derived {np.mean(gt1):.4f}\")\n",
    "len(gt1)"
   ]
  },
  {
   "cell_type": "code",
   "execution_count": 133,
   "metadata": {},
   "outputs": [
    {
     "name": "stdout",
     "output_type": "stream",
     "text": [
      "0.2327718757949667\n",
      "Mean derived 0.2785\n"
     ]
    },
    {
     "data": {
      "text/plain": [
       "888402"
      ]
     },
     "execution_count": 133,
     "metadata": {},
     "output_type": "execute_result"
    }
   ],
   "source": [
    "j3 = get_idx_iid_exact(f, \"SUC002\")\n",
    "fac_het, gt1 = get_het(f, j3, cutoff=0.99)\n",
    "print(fac_het)\n",
    "print(f\"Mean derived {np.mean(gt1):.4f}\")\n",
    "len(gt1)"
   ]
  },
  {
   "cell_type": "code",
   "execution_count": 87,
   "metadata": {},
   "outputs": [
    {
     "name": "stdout",
     "output_type": "stream",
     "text": [
      "0.21497127930606336\n",
      "Mean derived 0.2831\n"
     ]
    },
    {
     "data": {
      "text/plain": [
       "931036"
      ]
     },
     "execution_count": 87,
     "metadata": {},
     "output_type": "execute_result"
    }
   ],
   "source": [
    "j = get_idx_iid_exact(f, \"MA89\")\n",
    "fac_het, gt1 = get_het(f, j, cutoff=0.99)\n",
    "print(fac_het)\n",
    "print(f\"Mean derived {np.mean(gt1):.4f}\")\n",
    "len(gt1)"
   ]
  },
  {
   "cell_type": "code",
   "execution_count": 135,
   "metadata": {},
   "outputs": [
    {
     "name": "stdout",
     "output_type": "stream",
     "text": [
      "0.23421597712281636\n",
      "Mean derived 0.2821\n"
     ]
    }
   ],
   "source": [
    "j = get_idx_iid_exact(f, \"SUC001\")\n",
    "fac_het, gt1 = get_het(f, j, cutoff=0.99)\n",
    "print(fac_het)\n",
    "print(f\"Mean derived {np.mean(gt1):.4f}\")"
   ]
  },
  {
   "cell_type": "code",
   "execution_count": 94,
   "metadata": {},
   "outputs": [
    {
     "name": "stdout",
     "output_type": "stream",
     "text": [
      "0.18437452084200381\n",
      "Mean derived 0.2527\n"
     ]
    }
   ],
   "source": [
    "j = get_idx_iid_exact(f, \"I18199\")\n",
    "fac_het, gt1 = get_het(f, j, cutoff=0.99)\n",
    "print(fac_het)\n",
    "print(f\"Mean derived {np.mean(gt1):.4f}\")"
   ]
  },
  {
   "cell_type": "code",
   "execution_count": 126,
   "metadata": {},
   "outputs": [
    {
     "name": "stdout",
     "output_type": "stream",
     "text": [
      "Extracted 11216 SNPs with Cov 2.\n",
      "Fraction Heterozygotes: 0.127407\n"
     ]
    }
   ],
   "source": [
    "j = get_idx_iid_exact(f, \"I1293_all_d.SG\")\n",
    "m = get_markers_good(f, j, output=False, cutoff=0.98)\n",
    "ad = f[\"calldata/AD\"][:, j, :][m,:2]\n",
    "ad[ad<0]=0\n",
    "cov = np.sum(ad, axis=1)\n",
    "idx = (cov==2)\n",
    "ad2 = ad[idx,:]\n",
    "print(f\"Extracted {len(ad2)} SNPs with Cov 2.\")\n",
    "h2 = np.mean(ad2[:,0]==1, axis=0)\n",
    "print(f\"Fraction Heterozygotes: {h2:.6f}\")"
   ]
  },
  {
   "cell_type": "code",
   "execution_count": null,
   "metadata": {},
   "outputs": [],
   "source": [
    "0.127 * 11216"
   ]
  },
  {
   "cell_type": "code",
   "execution_count": 146,
   "metadata": {},
   "outputs": [],
   "source": [
    "def get_frac_hets(f, iid=\"I2312_all_d.SG\"):\n",
    "    \"\"\"Estimate the Fraction of heterozygotes\"\"\"\n",
    "    j = get_idx_iid_exact(f, iid)\n",
    "    m = get_markers_good(f, j, output=False, cutoff=0.98)\n",
    "    ad = f[\"calldata/AD\"][:, j, :][m,:2]\n",
    "    ad[ad<0]=0\n",
    "    cov = np.sum(ad, axis=1)\n",
    "    idx = (cov==2)\n",
    "    ad2 = ad[idx,:]\n",
    "    ad21 = ad2[:,0]==1\n",
    "    h2 = np.mean(ad21)\n",
    "    se = sem(ad21)\n",
    "    print(f\"Extracted {len(ad2)} SNPs with Cov 2.\")\n",
    "    print(f\"Fraction Heterozygotes: {h2:.8f}\")\n",
    "    print(f\"Standard Error: {se:.8f}\")\n",
    "    #return h2"
   ]
  },
  {
   "cell_type": "code",
   "execution_count": 149,
   "metadata": {},
   "outputs": [
    {
     "name": "stdout",
     "output_type": "stream",
     "text": [
      "Extracted 11216 SNPs with Cov 2.\n",
      "Fraction Heterozygotes: 0.12740728\n",
      "Standard Error: 0.00314850\n"
     ]
    }
   ],
   "source": [
    "get_frac_hets(f, iid=\"I1293_all_d.SG\")"
   ]
  },
  {
   "cell_type": "code",
   "execution_count": 147,
   "metadata": {},
   "outputs": [
    {
     "name": "stdout",
     "output_type": "stream",
     "text": [
      "Extracted 35117 SNPs with Cov 2.\n",
      "Fraction Heterozygotes: 0.17270837\n",
      "Standard Error: 0.00201713\n"
     ]
    }
   ],
   "source": [
    "get_frac_hets(f, iid=\"I2312_all_d.SG\")"
   ]
  },
  {
   "cell_type": "code",
   "execution_count": 150,
   "metadata": {},
   "outputs": [
    {
     "name": "stdout",
     "output_type": "stream",
     "text": [
      "Extracted 155281 SNPs with Cov 2.\n",
      "Fraction Heterozygotes: 0.13696460\n",
      "Standard Error: 0.00087249\n"
     ]
    }
   ],
   "source": [
    "get_frac_hets(f, iid=\"SUC002\")"
   ]
  },
  {
   "cell_type": "code",
   "execution_count": 151,
   "metadata": {},
   "outputs": [
    {
     "name": "stdout",
     "output_type": "stream",
     "text": [
      "Extracted 179893 SNPs with Cov 2.\n",
      "Fraction Heterozygotes: 0.13428538\n",
      "Standard Error: 0.00080389\n"
     ]
    }
   ],
   "source": [
    "get_frac_hets(f, iid=\"COR002\")"
   ]
  },
  {
   "cell_type": "code",
   "execution_count": 152,
   "metadata": {},
   "outputs": [
    {
     "name": "stdout",
     "output_type": "stream",
     "text": [
      "Extracted 178365 SNPs with Cov 2.\n",
      "Fraction Heterozygotes: 0.13046282\n",
      "Standard Error: 0.00079751\n"
     ]
    }
   ],
   "source": [
    "get_frac_hets(f, iid=\"SEC001\")"
   ]
  },
  {
   "cell_type": "code",
   "execution_count": 153,
   "metadata": {},
   "outputs": [
    {
     "name": "stdout",
     "output_type": "stream",
     "text": [
      "Extracted 279273 SNPs with Cov 2.\n",
      "Fraction Heterozygotes: 0.14088365\n",
      "Standard Error: 0.00065833\n"
     ]
    }
   ],
   "source": [
    "get_frac_hets(f, iid=\"R67.SG\")"
   ]
  },
  {
   "cell_type": "code",
   "execution_count": 154,
   "metadata": {},
   "outputs": [
    {
     "name": "stdout",
     "output_type": "stream",
     "text": [
      "Extracted 145085 SNPs with Cov 2.\n",
      "Fraction Heterozygotes: 0.12815935\n",
      "Standard Error: 0.00087757\n"
     ]
    }
   ],
   "source": [
    "get_frac_hets(f, iid=\"AH2.SG\")"
   ]
  },
  {
   "cell_type": "code",
   "execution_count": 155,
   "metadata": {},
   "outputs": [
    {
     "name": "stdout",
     "output_type": "stream",
     "text": [
      "Extracted 229894 SNPs with Cov 2.\n",
      "Fraction Heterozygotes: 0.12738479\n",
      "Standard Error: 0.00069536\n"
     ]
    }
   ],
   "source": [
    "get_frac_hets(f, iid=\"AH1.SG\")"
   ]
  },
  {
   "cell_type": "code",
   "execution_count": 156,
   "metadata": {},
   "outputs": [
    {
     "name": "stdout",
     "output_type": "stream",
     "text": [
      "Extracted 194944 SNPs with Cov 2.\n",
      "Fraction Heterozygotes: 0.12792392\n",
      "Standard Error: 0.00075648\n"
     ]
    }
   ],
   "source": [
    "get_frac_hets(f, iid=\"AH4.SG\")"
   ]
  },
  {
   "cell_type": "code",
   "execution_count": 157,
   "metadata": {},
   "outputs": [
    {
     "name": "stdout",
     "output_type": "stream",
     "text": [
      "Extracted 5673 SNPs with Cov 2.\n",
      "Fraction Heterozygotes: 0.14101886\n",
      "Standard Error: 0.00462128\n"
     ]
    }
   ],
   "source": [
    "get_frac_hets(f, iid=\"WC1.SG\")"
   ]
  },
  {
   "cell_type": "code",
   "execution_count": 158,
   "metadata": {},
   "outputs": [
    {
     "name": "stdout",
     "output_type": "stream",
     "text": [
      "Extracted 156350 SNPs with Cov 2.\n",
      "Fraction Heterozygotes: 0.13210106\n",
      "Standard Error: 0.00085633\n"
     ]
    }
   ],
   "source": [
    "get_frac_hets(f, iid=\"I1290\")"
   ]
  },
  {
   "cell_type": "code",
   "execution_count": 160,
   "metadata": {},
   "outputs": [
    {
     "name": "stdout",
     "output_type": "stream",
     "text": [
      "Extracted 277828 SNPs with Cov 2.\n",
      "Fraction Heterozygotes: 0.13993550\n",
      "Standard Error: 0.00065818\n"
     ]
    }
   ],
   "source": [
    "get_frac_hets(f, iid=\"rath2.SG\")"
   ]
  },
  {
   "cell_type": "code",
   "execution_count": 161,
   "metadata": {},
   "outputs": [
    {
     "name": "stdout",
     "output_type": "stream",
     "text": [
      "Extracted 176301 SNPs with Cov 2.\n",
      "Fraction Heterozygotes: 0.11774182\n",
      "Standard Error: 0.00076760\n"
     ]
    }
   ],
   "source": [
    "get_frac_hets(f, iid=\"Canes.SG\")"
   ]
  },
  {
   "cell_type": "code",
   "execution_count": 162,
   "metadata": {},
   "outputs": [
    {
     "name": "stdout",
     "output_type": "stream",
     "text": [
      "Extracted 155136 SNPs with Cov 2.\n",
      "Fraction Heterozygotes: 0.10053115\n",
      "Standard Error: 0.00076346\n"
     ]
    }
   ],
   "source": [
    "get_frac_hets(f, iid=\"ZBC_IPB001.B-C0101_Luk2-Pinarbasi\")"
   ]
  },
  {
   "cell_type": "code",
   "execution_count": 163,
   "metadata": {},
   "outputs": [
    {
     "name": "stdout",
     "output_type": "stream",
     "text": [
      "Extracted 102330 SNPs with Cov 2.\n",
      "Fraction Heterozygotes: 0.12422554\n",
      "Standard Error: 0.00103110\n"
     ]
    }
   ],
   "source": [
    "get_frac_hets(f, iid=\"ZHAJ_BON034.A0101_Luk9\")"
   ]
  },
  {
   "cell_type": "code",
   "execution_count": 164,
   "metadata": {},
   "outputs": [
    {
     "name": "stdout",
     "output_type": "stream",
     "text": [
      "Extracted 151662 SNPs with Cov 2.\n",
      "Fraction Heterozygotes: 0.10969129\n",
      "Standard Error: 0.00080245\n"
     ]
    }
   ],
   "source": [
    "get_frac_hets(f, iid=\"I6767_all.SG\")"
   ]
  },
  {
   "cell_type": "code",
   "execution_count": null,
   "metadata": {},
   "outputs": [],
   "source": []
  }
 ],
 "metadata": {
  "kernelspec": {
   "display_name": "Python 3",
   "language": "python",
   "name": "python3"
  },
  "language_info": {
   "codemirror_mode": {
    "name": "ipython",
    "version": 3
   },
   "file_extension": ".py",
   "mimetype": "text/x-python",
   "name": "python",
   "nbconvert_exporter": "python",
   "pygments_lexer": "ipython3",
   "version": "3.7.4"
  }
 },
 "nbformat": 4,
 "nbformat_minor": 4
}
