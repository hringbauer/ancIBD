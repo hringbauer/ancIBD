{
 "cells": [
  {
   "cell_type": "code",
   "execution_count": 1,
   "metadata": {},
   "outputs": [
    {
     "name": "stdout",
     "output_type": "stream",
     "text": [
      "compute-e-16-230.o2.rc.hms.harvard.edu\n",
      "HSM O2 Computational partition detected.\n",
      "/n/groups/reich/hringbauer/git/hapBLOCK\n",
      "CPU Count: 28\n"
     ]
    }
   ],
   "source": [
    "import qgrid\n",
    "import numpy as np\n",
    "import pandas as pd\n",
    "import matplotlib.pyplot as plt\n",
    "import socket as socket\n",
    "import os as os\n",
    "import sys as sys\n",
    "import multiprocessing as mp\n",
    "import itertools as it\n",
    "import h5py\n",
    "\n",
    "### hapROH imports\n",
    "#sys.path.insert(0,\"/n/groups/reich/hringbauer/git/HAPSBURG/package/\")  # hack to get development package first in path\n",
    "sys.path.insert(0,\"/n/groups/reich/hringbauer/git/hapBLOCK/package/hapBLOCK/IO/\")  # hack to get development package first in path\n",
    "from h5_load import get_coverage,get_genos_pairs,get_idx_iid,get_markers_good\n",
    "\n",
    "socket_name = socket.gethostname()\n",
    "print(socket_name)\n",
    "\n",
    "if socket_name.startswith(\"compute-\"):\n",
    "    print(\"HSM O2 Computational partition detected.\")\n",
    "    path = \"/n/groups/reich/hringbauer/git/hapBLOCK/\"  # The Path on Harvard Cluster\n",
    "else:\n",
    "    raise RuntimeWarning(\"No compatible machine. Check!!\")\n",
    "\n",
    "os.chdir(path)  # Set the right Path (in line with Atom default)\n",
    "# Show the current working directory. Should be HAPSBURG/Notebooks/ParallelRuns\n",
    "\n",
    "print(os.getcwd())\n",
    "print(f\"CPU Count: {mp.cpu_count()}\")\n",
    "\n",
    "sys.path.insert(0, path)"
   ]
  },
  {
   "cell_type": "markdown",
   "metadata": {},
   "source": [
    "# Prepare the data"
   ]
  },
  {
   "cell_type": "code",
   "execution_count": 2,
   "metadata": {},
   "outputs": [],
   "source": [
    "f = h5py.File(\"./data/hdf5/1240k_v43/ch3.h5\", \"r\") # Load for Sanity Check. See below!"
   ]
  },
  {
   "cell_type": "code",
   "execution_count": 8,
   "metadata": {},
   "outputs": [
    {
     "name": "stdout",
     "output_type": "stream",
     "text": [
      "CPU times: user 48.7 s, sys: 12.6 s, total: 1min 1s\n",
      "Wall time: 1min\n"
     ]
    }
   ],
   "source": [
    "%%time\n",
    "cutoff=0.98\n",
    "gps = f[\"calldata/GP\"][:,:,:]\n",
    "m = np.max(gps, axis=2)\n",
    "idx = (m>cutoff)"
   ]
  },
  {
   "cell_type": "code",
   "execution_count": 9,
   "metadata": {},
   "outputs": [
    {
     "name": "stdout",
     "output_type": "stream",
     "text": [
      "CPU times: user 14.5 s, sys: 3.51 s, total: 18 s\n",
      "Wall time: 18 s\n"
     ]
    }
   ],
   "source": [
    "%%time\n",
    "gts = f[\"calldata/GT\"][:,:,:]\n",
    "gt = np.sum(gts, axis=2)\n",
    "gt[~idx]=1 # Set low quality data to heterozygotes"
   ]
  },
  {
   "cell_type": "code",
   "execution_count": 10,
   "metadata": {},
   "outputs": [],
   "source": [
    "### Figure out the wacky indiviuals\n",
    "m_ind = np.mean(idx, axis=0)\n",
    "idx_iid = (m_ind>0.5)"
   ]
  },
  {
   "cell_type": "code",
   "execution_count": 11,
   "metadata": {},
   "outputs": [
    {
     "name": "stdout",
     "output_type": "stream",
     "text": [
      "Extracted 9813 Samples with good enough coverage\n"
     ]
    }
   ],
   "source": [
    "samples1 = f[\"samples\"][idx_iid]\n",
    "m_ind1 = m_ind[idx_iid] # Average for the good Individuals\n",
    "gt1 = gt[:,idx_iid]  # Takes the longest time\n",
    "idx1 = idx[:,idx_iid] # Get the index of good loci\n",
    "print(f\"Extracted {len(samples1)} Samples with good enough coverage\")"
   ]
  },
  {
   "cell_type": "code",
   "execution_count": 12,
   "metadata": {},
   "outputs": [
    {
     "name": "stdout",
     "output_type": "stream",
     "text": [
      "CPU times: user 696 ms, sys: 291 ms, total: 987 ms\n",
      "Wall time: 984 ms\n"
     ]
    }
   ],
   "source": [
    "%%time\n",
    "homo = (gt1 == 0)\n",
    "homo2 = (gt1 == 2)"
   ]
  },
  {
   "cell_type": "code",
   "execution_count": 95,
   "metadata": {},
   "outputs": [
    {
     "name": "stdout",
     "output_type": "stream",
     "text": [
      "CPU times: user 1.18 s, sys: 666 ms, total: 1.85 s\n",
      "Wall time: 1.85 s\n"
     ]
    }
   ],
   "source": [
    "%%time\n",
    "i=0\n",
    "opp_homo = (homo[:,i][:,None] & homo2[:,:]) | (homo2[:,i][:,None] & homo[:,:])\n",
    "good_loci = idx1[:,i][:,None] & idx1[:,:] # Both Loci there\n",
    "\n",
    "opp_homo_ind = np.sum(opp_homo, axis=0)\n",
    "o_homo_fracs = opp_homo_ind / np.sum(good_loci, axis=0)"
   ]
  },
  {
   "cell_type": "markdown",
   "metadata": {},
   "source": [
    "### Create the sharing Matrix"
   ]
  },
  {
   "cell_type": "code",
   "execution_count": 13,
   "metadata": {},
   "outputs": [],
   "source": [
    "n=np.shape(homo)[1]\n",
    "frac_mat = -np.ones((n,n), dtype=\"float\")  # Matrix of sharing"
   ]
  },
  {
   "cell_type": "code",
   "execution_count": 15,
   "metadata": {},
   "outputs": [
    {
     "name": "stdout",
     "output_type": "stream",
     "text": [
      "CPU times: user 27min 14s, sys: 14min 51s, total: 42min 6s\n",
      "Wall time: 42min 6s\n"
     ]
    }
   ],
   "source": [
    "%%time\n",
    "\n",
    "for i in range(500,2000):\n",
    "    opp_homo = (homo[:,i][:,None] & homo2[:,:]) | (homo2[:,i][:,None] & homo[:,:]) # Opposing homozygotes\n",
    "    good_loci = idx1[:,i][:,None] & idx1[:,:] # Both Loci good quality\n",
    "\n",
    "    opp_homo_ind = np.sum(opp_homo, axis=0)\n",
    "    o_homo_fracs = opp_homo_ind / np.sum(good_loci, axis=0)\n",
    "    frac_mat[i,:] = o_homo_fracs"
   ]
  },
  {
   "cell_type": "code",
   "execution_count": 18,
   "metadata": {},
   "outputs": [
    {
     "data": {
      "text/plain": [
       "array([0.06183872, 0.0694051 , 0.04488421, ..., 0.06739893, 0.06936955,\n",
       "       0.07822146])"
      ]
     },
     "execution_count": 18,
     "metadata": {},
     "output_type": "execute_result"
    }
   ],
   "source": [
    "frac_mat[500,:]"
   ]
  },
  {
   "cell_type": "markdown",
   "metadata": {},
   "source": [
    "# Plot Figures"
   ]
  },
  {
   "cell_type": "code",
   "execution_count": 74,
   "metadata": {},
   "outputs": [
    {
     "data": {
      "image/png": "[encoded data removed]",
      "text/plain": [
       "<Figure size 432x288 with 1 Axes>"
      ]
     },
     "metadata": {
      "needs_background": "light"
     },
     "output_type": "display_data"
    }
   ],
   "source": [
    "bins = np.linspace(0,1,101)\n",
    "\n",
    "plt.figure()\n",
    "ax = plt.gca()\n",
    "ax.set_title(\"Loci with Max. Prob. >0.98\")\n",
    "ax.hist(m_ind, bins=bins, ec=\"k\")\n",
    "ax.set_ylabel(\"Count\")\n",
    "ax.set_xlabel(\"#Loci >0.98 Max GP\")\n",
    "plt.show()"
   ]
  },
  {
   "cell_type": "code",
   "execution_count": 21,
   "metadata": {},
   "outputs": [
    {
     "data": {
      "image/png": "[encoded data removed]",
      "text/plain": [
       "<Figure size 432x288 with 1 Axes>"
      ]
     },
     "metadata": {
      "needs_background": "light"
     },
     "output_type": "display_data"
    }
   ],
   "source": [
    "bins = np.linspace(0,0.1,41)\n",
    "\n",
    "plt.figure()\n",
    "ax = plt.gca()\n",
    "ax.hist(frac_mat[600,:], bins=bins, ec=\"k\")\n",
    "ax.set_ylabel(\"Count\")\n",
    "ax.set_xlabel(\"Fraction opposing Homozygotes\")\n",
    "plt.show()"
   ]
  },
  {
   "cell_type": "code",
   "execution_count": 94,
   "metadata": {},
   "outputs": [
    {
     "data": {
      "text/plain": [
       "array([    0,     0,     0, ..., -9813, -9813, -9813])"
      ]
     },
     "execution_count": 94,
     "metadata": {},
     "output_type": "execute_result"
    }
   ],
   "source": [
    "np.sum(frac_mat, axis=1)"
   ]
  },
  {
   "cell_type": "code",
   "execution_count": 32,
   "metadata": {},
   "outputs": [],
   "source": [
    "idx_pair = np.where((frac_mat[:,:]<0.001) & (frac_mat[:,:]>0))"
   ]
  },
  {
   "cell_type": "code",
   "execution_count": 33,
   "metadata": {},
   "outputs": [],
   "source": [
    "df = pd.DataFrame({\"iid1\":samples1[idx_pair[0]], \"iid2\":samples1[idx_pair[1]],\n",
    "                   \"opp_homo_rate_ch3\":frac_mat[idx_pair]})"
   ]
  },
  {
   "cell_type": "code",
   "execution_count": 34,
   "metadata": {},
   "outputs": [],
   "source": [
    "df.to_csv(\"./output/dumpster/o_homo_500_1999.tsv\", sep=\"\\t\", index=False)"
   ]
  },
  {
   "cell_type": "code",
   "execution_count": 36,
   "metadata": {},
   "outputs": [
    {
     "data": {
      "text/html": [
       "<div>\n",
       "<style scoped>\n",
       "    .dataframe tbody tr th:only-of-type {\n",
       "        vertical-align: middle;\n",
       "    }\n",
       "\n",
       "    .dataframe tbody tr th {\n",
       "        vertical-align: top;\n",
       "    }\n",
       "\n",
       "    .dataframe thead th {\n",
       "        text-align: right;\n",
       "    }\n",
       "</style>\n",
       "<table border=\"1\" class=\"dataframe\">\n",
       "  <thead>\n",
       "    <tr style=\"text-align: right;\">\n",
       "      <th></th>\n",
       "      <th>iid1</th>\n",
       "      <th>iid2</th>\n",
       "      <th>opp_homo_rate_ch3</th>\n",
       "    </tr>\n",
       "  </thead>\n",
       "  <tbody>\n",
       "    <tr>\n",
       "      <th>0</th>\n",
       "      <td>Mezmaiskaya.SG</td>\n",
       "      <td>Spy_final_provisional.SG</td>\n",
       "      <td>0.000798</td>\n",
       "    </tr>\n",
       "    <tr>\n",
       "      <th>1</th>\n",
       "      <td>Brillenhohle</td>\n",
       "      <td>Darra.I.Kur_d</td>\n",
       "      <td>0.000940</td>\n",
       "    </tr>\n",
       "    <tr>\n",
       "      <th>2</th>\n",
       "      <td>I1051</td>\n",
       "      <td>RISE683.SG</td>\n",
       "      <td>0.000029</td>\n",
       "    </tr>\n",
       "    <tr>\n",
       "      <th>3</th>\n",
       "      <td>I1657</td>\n",
       "      <td>I1658</td>\n",
       "      <td>0.000083</td>\n",
       "    </tr>\n",
       "    <tr>\n",
       "      <th>4</th>\n",
       "      <td>I1658</td>\n",
       "      <td>I1657</td>\n",
       "      <td>0.000083</td>\n",
       "    </tr>\n",
       "    <tr>\n",
       "      <th>5</th>\n",
       "      <td>I1637</td>\n",
       "      <td>I1636</td>\n",
       "      <td>0.000276</td>\n",
       "    </tr>\n",
       "    <tr>\n",
       "      <th>6</th>\n",
       "      <td>I1636</td>\n",
       "      <td>I1637</td>\n",
       "      <td>0.000276</td>\n",
       "    </tr>\n",
       "    <tr>\n",
       "      <th>7</th>\n",
       "      <td>I1732</td>\n",
       "      <td>Ukraine_N1.SG</td>\n",
       "      <td>0.000072</td>\n",
       "    </tr>\n",
       "    <tr>\n",
       "      <th>8</th>\n",
       "      <td>RISE483.SG</td>\n",
       "      <td>Darra.I.Kur_d</td>\n",
       "      <td>0.000655</td>\n",
       "    </tr>\n",
       "    <tr>\n",
       "      <th>9</th>\n",
       "      <td>I1166</td>\n",
       "      <td>I1169</td>\n",
       "      <td>0.000157</td>\n",
       "    </tr>\n",
       "    <tr>\n",
       "      <th>10</th>\n",
       "      <td>I2097</td>\n",
       "      <td>I2099</td>\n",
       "      <td>0.000093</td>\n",
       "    </tr>\n",
       "    <tr>\n",
       "      <th>11</th>\n",
       "      <td>I2099</td>\n",
       "      <td>I2097</td>\n",
       "      <td>0.000093</td>\n",
       "    </tr>\n",
       "    <tr>\n",
       "      <th>12</th>\n",
       "      <td>I2137</td>\n",
       "      <td>I2137.SG</td>\n",
       "      <td>0.000027</td>\n",
       "    </tr>\n",
       "    <tr>\n",
       "      <th>13</th>\n",
       "      <td>I2445</td>\n",
       "      <td>I2443</td>\n",
       "      <td>0.000468</td>\n",
       "    </tr>\n",
       "    <tr>\n",
       "      <th>14</th>\n",
       "      <td>I2445</td>\n",
       "      <td>I2443.SG</td>\n",
       "      <td>0.000587</td>\n",
       "    </tr>\n",
       "    <tr>\n",
       "      <th>15</th>\n",
       "      <td>I3388_published</td>\n",
       "      <td>I6714</td>\n",
       "      <td>0.000054</td>\n",
       "    </tr>\n",
       "    <tr>\n",
       "      <th>16</th>\n",
       "      <td>I3388_published</td>\n",
       "      <td>I3949.DG</td>\n",
       "      <td>0.000053</td>\n",
       "    </tr>\n",
       "    <tr>\n",
       "      <th>17</th>\n",
       "      <td>I3388_published</td>\n",
       "      <td>I3949.SG</td>\n",
       "      <td>0.000053</td>\n",
       "    </tr>\n",
       "    <tr>\n",
       "      <th>18</th>\n",
       "      <td>I3388_published</td>\n",
       "      <td>I6714.DG</td>\n",
       "      <td>0.000105</td>\n",
       "    </tr>\n",
       "    <tr>\n",
       "      <th>19</th>\n",
       "      <td>I3388_published</td>\n",
       "      <td>I6714.SG</td>\n",
       "      <td>0.000105</td>\n",
       "    </tr>\n",
       "    <tr>\n",
       "      <th>20</th>\n",
       "      <td>I3677</td>\n",
       "      <td>I13995</td>\n",
       "      <td>0.000073</td>\n",
       "    </tr>\n",
       "    <tr>\n",
       "      <th>21</th>\n",
       "      <td>I3951</td>\n",
       "      <td>I3950</td>\n",
       "      <td>0.000027</td>\n",
       "    </tr>\n",
       "    <tr>\n",
       "      <th>22</th>\n",
       "      <td>I3951</td>\n",
       "      <td>I3950.DG</td>\n",
       "      <td>0.000078</td>\n",
       "    </tr>\n",
       "    <tr>\n",
       "      <th>23</th>\n",
       "      <td>I3951</td>\n",
       "      <td>I3950.SG</td>\n",
       "      <td>0.000078</td>\n",
       "    </tr>\n",
       "    <tr>\n",
       "      <th>24</th>\n",
       "      <td>I3949</td>\n",
       "      <td>I3950.DG</td>\n",
       "      <td>0.000129</td>\n",
       "    </tr>\n",
       "    <tr>\n",
       "      <th>25</th>\n",
       "      <td>I3949</td>\n",
       "      <td>I3950.SG</td>\n",
       "      <td>0.000129</td>\n",
       "    </tr>\n",
       "    <tr>\n",
       "      <th>26</th>\n",
       "      <td>I3781</td>\n",
       "      <td>I15388</td>\n",
       "      <td>0.000030</td>\n",
       "    </tr>\n",
       "    <tr>\n",
       "      <th>27</th>\n",
       "      <td>I3950</td>\n",
       "      <td>I3951</td>\n",
       "      <td>0.000027</td>\n",
       "    </tr>\n",
       "    <tr>\n",
       "      <th>28</th>\n",
       "      <td>I3950</td>\n",
       "      <td>I3951.SG</td>\n",
       "      <td>0.000104</td>\n",
       "    </tr>\n",
       "    <tr>\n",
       "      <th>29</th>\n",
       "      <td>I3950</td>\n",
       "      <td>I3949.DG</td>\n",
       "      <td>0.000052</td>\n",
       "    </tr>\n",
       "    <tr>\n",
       "      <th>30</th>\n",
       "      <td>I3950</td>\n",
       "      <td>I3949.SG</td>\n",
       "      <td>0.000052</td>\n",
       "    </tr>\n",
       "    <tr>\n",
       "      <th>31</th>\n",
       "      <td>I3950</td>\n",
       "      <td>I6714.DG</td>\n",
       "      <td>0.000156</td>\n",
       "    </tr>\n",
       "    <tr>\n",
       "      <th>32</th>\n",
       "      <td>I3950</td>\n",
       "      <td>I6714.SG</td>\n",
       "      <td>0.000156</td>\n",
       "    </tr>\n",
       "    <tr>\n",
       "      <th>33</th>\n",
       "      <td>I3393</td>\n",
       "      <td>I6718.SG</td>\n",
       "      <td>0.000028</td>\n",
       "    </tr>\n",
       "    <tr>\n",
       "      <th>34</th>\n",
       "      <td>I1903</td>\n",
       "      <td>I10619</td>\n",
       "      <td>0.000108</td>\n",
       "    </tr>\n",
       "    <tr>\n",
       "      <th>35</th>\n",
       "      <td>I1903</td>\n",
       "      <td>I10624</td>\n",
       "      <td>0.000343</td>\n",
       "    </tr>\n",
       "    <tr>\n",
       "      <th>36</th>\n",
       "      <td>I2596</td>\n",
       "      <td>I2597</td>\n",
       "      <td>0.000064</td>\n",
       "    </tr>\n",
       "    <tr>\n",
       "      <th>37</th>\n",
       "      <td>I2830</td>\n",
       "      <td>I2831</td>\n",
       "      <td>0.000098</td>\n",
       "    </tr>\n",
       "    <tr>\n",
       "      <th>38</th>\n",
       "      <td>I2831</td>\n",
       "      <td>I2830</td>\n",
       "      <td>0.000098</td>\n",
       "    </tr>\n",
       "    <tr>\n",
       "      <th>39</th>\n",
       "      <td>I2935</td>\n",
       "      <td>I2935.DG</td>\n",
       "      <td>0.000026</td>\n",
       "    </tr>\n",
       "    <tr>\n",
       "      <th>40</th>\n",
       "      <td>I2935</td>\n",
       "      <td>I2935.SG</td>\n",
       "      <td>0.000026</td>\n",
       "    </tr>\n",
       "    <tr>\n",
       "      <th>41</th>\n",
       "      <td>I2959</td>\n",
       "      <td>I2960</td>\n",
       "      <td>0.000162</td>\n",
       "    </tr>\n",
       "    <tr>\n",
       "      <th>42</th>\n",
       "      <td>Ukraine_N1.SG</td>\n",
       "      <td>I1732</td>\n",
       "      <td>0.000072</td>\n",
       "    </tr>\n",
       "    <tr>\n",
       "      <th>43</th>\n",
       "      <td>Ukraine_N1.SG</td>\n",
       "      <td>I1732.SG</td>\n",
       "      <td>0.000071</td>\n",
       "    </tr>\n",
       "    <tr>\n",
       "      <th>44</th>\n",
       "      <td>I4435</td>\n",
       "      <td>I4435.SG</td>\n",
       "      <td>0.000027</td>\n",
       "    </tr>\n",
       "    <tr>\n",
       "      <th>45</th>\n",
       "      <td>I1169</td>\n",
       "      <td>I1166</td>\n",
       "      <td>0.000157</td>\n",
       "    </tr>\n",
       "    <tr>\n",
       "      <th>46</th>\n",
       "      <td>I4563</td>\n",
       "      <td>I4561</td>\n",
       "      <td>0.000149</td>\n",
       "    </tr>\n",
       "    <tr>\n",
       "      <th>47</th>\n",
       "      <td>I4809</td>\n",
       "      <td>I4813</td>\n",
       "      <td>0.000027</td>\n",
       "    </tr>\n",
       "    <tr>\n",
       "      <th>48</th>\n",
       "      <td>I5099</td>\n",
       "      <td>I8794</td>\n",
       "      <td>0.000028</td>\n",
       "    </tr>\n",
       "    <tr>\n",
       "      <th>49</th>\n",
       "      <td>I5106</td>\n",
       "      <td>I10007</td>\n",
       "      <td>0.000173</td>\n",
       "    </tr>\n",
       "  </tbody>\n",
       "</table>\n",
       "</div>"
      ],
      "text/plain": [
       "               iid1                      iid2  opp_homo_rate_ch3\n",
       "0    Mezmaiskaya.SG  Spy_final_provisional.SG           0.000798\n",
       "1      Brillenhohle             Darra.I.Kur_d           0.000940\n",
       "2             I1051                RISE683.SG           0.000029\n",
       "3             I1657                     I1658           0.000083\n",
       "4             I1658                     I1657           0.000083\n",
       "5             I1637                     I1636           0.000276\n",
       "6             I1636                     I1637           0.000276\n",
       "7             I1732             Ukraine_N1.SG           0.000072\n",
       "8        RISE483.SG             Darra.I.Kur_d           0.000655\n",
       "9             I1166                     I1169           0.000157\n",
       "10            I2097                     I2099           0.000093\n",
       "11            I2099                     I2097           0.000093\n",
       "12            I2137                  I2137.SG           0.000027\n",
       "13            I2445                     I2443           0.000468\n",
       "14            I2445                  I2443.SG           0.000587\n",
       "15  I3388_published                     I6714           0.000054\n",
       "16  I3388_published                  I3949.DG           0.000053\n",
       "17  I3388_published                  I3949.SG           0.000053\n",
       "18  I3388_published                  I6714.DG           0.000105\n",
       "19  I3388_published                  I6714.SG           0.000105\n",
       "20            I3677                    I13995           0.000073\n",
       "21            I3951                     I3950           0.000027\n",
       "22            I3951                  I3950.DG           0.000078\n",
       "23            I3951                  I3950.SG           0.000078\n",
       "24            I3949                  I3950.DG           0.000129\n",
       "25            I3949                  I3950.SG           0.000129\n",
       "26            I3781                    I15388           0.000030\n",
       "27            I3950                     I3951           0.000027\n",
       "28            I3950                  I3951.SG           0.000104\n",
       "29            I3950                  I3949.DG           0.000052\n",
       "30            I3950                  I3949.SG           0.000052\n",
       "31            I3950                  I6714.DG           0.000156\n",
       "32            I3950                  I6714.SG           0.000156\n",
       "33            I3393                  I6718.SG           0.000028\n",
       "34            I1903                    I10619           0.000108\n",
       "35            I1903                    I10624           0.000343\n",
       "36            I2596                     I2597           0.000064\n",
       "37            I2830                     I2831           0.000098\n",
       "38            I2831                     I2830           0.000098\n",
       "39            I2935                  I2935.DG           0.000026\n",
       "40            I2935                  I2935.SG           0.000026\n",
       "41            I2959                     I2960           0.000162\n",
       "42    Ukraine_N1.SG                     I1732           0.000072\n",
       "43    Ukraine_N1.SG                  I1732.SG           0.000071\n",
       "44            I4435                  I4435.SG           0.000027\n",
       "45            I1169                     I1166           0.000157\n",
       "46            I4563                     I4561           0.000149\n",
       "47            I4809                     I4813           0.000027\n",
       "48            I5099                     I8794           0.000028\n",
       "49            I5106                    I10007           0.000173"
      ]
     },
     "execution_count": 36,
     "metadata": {},
     "output_type": "execute_result"
    }
   ],
   "source": [
    "df[:50]"
   ]
  },
  {
   "cell_type": "code",
   "execution_count": 154,
   "metadata": {},
   "outputs": [
    {
     "data": {
      "text/plain": [
       "196.26"
      ]
     },
     "execution_count": 154,
     "metadata": {},
     "output_type": "execute_result"
    }
   ],
   "source": [
    "9813/100 * 2"
   ]
  },
  {
   "cell_type": "code",
   "execution_count": null,
   "metadata": {},
   "outputs": [],
   "source": []
  }
 ],
 "metadata": {
  "kernelspec": {
   "display_name": "Python 3",
   "language": "python",
   "name": "python3"
  },
  "language_info": {
   "codemirror_mode": {
    "name": "ipython",
    "version": 3
   },
   "file_extension": ".py",
   "mimetype": "text/x-python",
   "name": "python",
   "nbconvert_exporter": "python",
   "pygments_lexer": "ipython3",
   "version": "3.7.4"
  }
 },
 "nbformat": 4,
 "nbformat_minor": 4
}
