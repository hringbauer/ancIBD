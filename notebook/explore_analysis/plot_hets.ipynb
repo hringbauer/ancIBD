{
 "cells": [
  {
   "cell_type": "code",
   "execution_count": 1,
   "metadata": {},
   "outputs": [
    {
     "name": "stdout",
     "output_type": "stream",
     "text": [
      "compute-a-16-116.o2.rc.hms.harvard.edu\n",
      "HSM O2 Computational partition detected.\n",
      "/n/groups/reich/hringbauer/git/hapBLOCK\n",
      "CPU Count: 32\n"
     ]
    }
   ],
   "source": [
    "import numpy as np\n",
    "import pandas as pd\n",
    "import matplotlib.pyplot as plt\n",
    "import socket as socket\n",
    "import os as os\n",
    "import sys as sys\n",
    "import multiprocessing as mp\n",
    "import h5py\n",
    "import allel\n",
    "\n",
    "socket_name = socket.gethostname()\n",
    "print(socket_name)\n",
    "\n",
    "if socket_name.startswith(\"compute-\"):\n",
    "    print(\"HSM O2 Computational partition detected.\")\n",
    "    path = \"/n/groups/reich/hringbauer/git/hapBLOCK/\"  # The Path on Harvard Cluster\n",
    "else: \n",
    "    raise RuntimeWarning(\"Not compatible machine. Check!!\")\n",
    "\n",
    "os.chdir(path)  # Set the right Path (in line with Atom default)\n",
    "\n",
    "print(os.getcwd())\n",
    "print(f\"CPU Count: {mp.cpu_count()}\")\n",
    "\n",
    "sys.path.insert(0,\"/n/groups/reich/hringbauer/git/hapBLOCK/package/hapBLOCK/IO/\")  # hack to get development package first in path\n",
    "from h5_load import get_coverage,get_genos_pairs,get_idx_iid,get_idx_iid_exact,get_markers_good"
   ]
  },
  {
   "cell_type": "code",
   "execution_count": 4,
   "metadata": {},
   "outputs": [],
   "source": [
    "f = h5py.File(\"./data/hdf5/1240k_v43/ch3.h5\", \"r\") # Load for Sanity Check. See below!\n",
    "#f.close() # Never forget"
   ]
  },
  {
   "cell_type": "code",
   "execution_count": null,
   "metadata": {},
   "outputs": [],
   "source": [
    "list(f[\"calldata\"])"
   ]
  },
  {
   "cell_type": "code",
   "execution_count": null,
   "metadata": {},
   "outputs": [],
   "source": [
    "list(f[\"variants\"])"
   ]
  },
  {
   "cell_type": "markdown",
   "metadata": {},
   "source": [
    "### Plot call qualities"
   ]
  },
  {
   "cell_type": "code",
   "execution_count": 2,
   "metadata": {},
   "outputs": [],
   "source": [
    "def plot_max_p_gt(f, sample, cutoff=0.98,\n",
    "                  bins=np.linspace(0.4,1.0,61)):\n",
    "    \"\"\"Plot the maximum probablity genotype for sample sample in\n",
    "    hdf5 f.\n",
    "    cutoff: Fraction SNPs above cutoff\"\"\"\n",
    "    j = get_idx_iid(f, sample=sample)\n",
    "    m = np.max(f[\"calldata/GP\"][:,j,:], axis=1)\n",
    "    c = np.mean(m>cutoff)\n",
    "    \n",
    "    ### Plot\n",
    "    plt.figure()\n",
    "    ax = plt.gca()\n",
    "    ax.hist(m, bins=bins,ec=\"k\")\n",
    "    ax.set_ylim(0,1000)\n",
    "    ax.text(x=0.05,y=0.9, s=f\"Frac. Loci Max. Prob.>{cutoff}: {c:.4f}\",  transform = ax.transAxes, fontsize=12)\n",
    "    plt.show()\n",
    "    \n",
    "def get_coverage(f, j):\n",
    "    \"\"\"Get Coverage of sample j in hdf5 f\"\"\"\n",
    "    ads =  f[\"calldata/AD\"][:,j,:]\n",
    "    ads[ads<0]=0\n",
    "    cov = np.mean(ads)*2\n",
    "    return cov\n",
    "\n",
    "def plot_hets(map_het, het, df_roh=[], het_c=\"slateblue\", c_roh=\"seagreen\", \n",
    "              figsize=(14,2), cm_lim=[], fs = 12,\n",
    "              alpha=0.3, ms=1, lw = 12, title=\"\", plot=True, min_cm=0, savepath=\"\"):\n",
    "    \"\"\"Plot Heterozygotes against genenetic map,\n",
    "    plus ROH calls.\n",
    "    lw: Linewidth of ROH\"\"\" \n",
    "    plt.figure(figsize=figsize)\n",
    "    ax1 = plt.gca()\n",
    "    ax1.plot(map_het*100, (het * 1.1 - 0.05), \"o\", ms=ms, alpha=alpha, zorder=0, color=het_c)\n",
    "    ax1.set_xlabel(\"centimorgan\", fontsize=fs)\n",
    "    ax1.set_ylim([-0.1, 1.1])\n",
    "    \n",
    "    ax2 = ax1.twinx()\n",
    "    ax2.set_ylim(ax1.get_ylim())\n",
    "    ax2.set_yticks(np.array([1,0]) * 1.1 - 0.05)\n",
    "    ax2.set_yticklabels([])\n",
    "    ax1.set_yticklabels([])\n",
    "\n",
    "    ylabel = f\"Heterozygote (yes/no)\"\n",
    "    ax2.set_ylabel(ylabel, fontsize=fs*0.8, color=het_c, rotation=270, labelpad=fs)\n",
    "    \n",
    "    ### Plot Calls\n",
    "    if len(df_roh)>0:\n",
    "        df_roh = df_roh[df_roh[\"lengthM\"]>min_cm/100.0]  # Filter out long enough calls\n",
    "        plt.hlines(y=[0.9]*len(df_roh), xmin=100 * df_roh[\"StartM\"], xmax= 100 * df_roh[\"EndM\"], \n",
    "                        colors=c_roh, linewidth=lw)\n",
    "        \n",
    "    if len(cm_lim)==2:\n",
    "        ax1.set_xlim(cm_lim)\n",
    "        \n",
    "    if len(title)>0:\n",
    "        ax1.set_title(title, fontsize=fs)\n",
    "        \n",
    "    if len(savepath)>0:\n",
    "        plt.savefig(savepath, bbox_inches = 'tight', pad_inches = 0, dpi=300)\n",
    "        print(f\"Saved figure to: {savepath}\")\n",
    "        #plt.savefig(folder + \"posterior_cm.png\", bbox_inches = 'tight', pad_inches = 0, dpi=300)\n",
    "    \n",
    "    if plot:\n",
    "        plt.show()  \n",
    "\n",
    "\n",
    "def plot_hets_roh(f, df_roh=[], ch=17, sample=\"SZPKAP0003\",\n",
    "                  add_txt = \", 1240K SNPs\", cm_lim=[],\n",
    "                  het_c=\"blue\", figsize=(14,2), fs = 13,\n",
    "                  alpha=0.3, ms=1, title=\"\", plot=True, savepath=\"\"):\n",
    "    \"\"\"Plot heterozygote markers, as well as inferred ROH.\n",
    "    f: HDF5 genotype data to plot\n",
    "    df_roh: ROH to plot. If len==0, do not plot anything\"\"\"\n",
    "    idx_f = f[\"variants/CHROM\"][:]==str(ch)\n",
    "    idx_s = f[\"samples\"][:].astype(\"str\")==sample\n",
    "    assert(np.sum(idx_s)==1)\n",
    "    \n",
    "    ### Extract Marker and Genotypes\n",
    "    gt = f[\"calldata/GT\"][:,idx_s,:][idx_f,0,:]\n",
    "    m = f[\"variants/MAP\"][idx_f]\n",
    "    het = gt[:,0]!=gt[:,1]\n",
    "    \n",
    "    ### Extract ROH \n",
    "    df=df_roh[df_roh[\"iid\"]==sample]\n",
    "    df=df[df[\"ch\"]==ch]\n",
    "    \n",
    "    title = f\"{sample}, Chromosome {ch}{add_txt}\"\n",
    "    plot_hets(m, het, df_roh=df, het_c=het_c, figsize=figsize, \n",
    "              cm_lim=cm_lim, fs = fs,\n",
    "              alpha=alpha, ms=ms, title=title, plot=True, savepath=savepath)"
   ]
  },
  {
   "cell_type": "markdown",
   "metadata": {},
   "source": [
    "### Sardinian MA89 with 3x"
   ]
  },
  {
   "cell_type": "code",
   "execution_count": 81,
   "metadata": {},
   "outputs": [
    {
     "data": {
      "image/png": "[encoded data removed]",
      "text/plain": [
       "<Figure size 432x288 with 1 Axes>"
      ]
     },
     "metadata": {
      "needs_background": "light"
     },
     "output_type": "display_data"
    }
   ],
   "source": [
    "plot_max_p_gt(f, sample=\"MA89\")"
   ]
  },
  {
   "cell_type": "markdown",
   "metadata": {},
   "source": [
    "### Inbred Italian with 0.6x"
   ]
  },
  {
   "cell_type": "markdown",
   "metadata": {},
   "source": [
    "### Consangineous Netherlands Bell Beaker ~0.8x 1240K"
   ]
  },
  {
   "cell_type": "code",
   "execution_count": 83,
   "metadata": {},
   "outputs": [
    {
     "data": {
      "image/png": "[encoded data removed]",
      "text/plain": [
       "<Figure size 432x288 with 1 Axes>"
      ]
     },
     "metadata": {
      "needs_background": "light"
     },
     "output_type": "display_data"
    }
   ],
   "source": [
    "plot_max_p_gt(f, sample=\"I4068\")"
   ]
  },
  {
   "cell_type": "markdown",
   "metadata": {},
   "source": [
    "### Consangineous Italian with 0.6x"
   ]
  },
  {
   "cell_type": "code",
   "execution_count": 82,
   "metadata": {},
   "outputs": [
    {
     "data": {
      "image/png": "[encoded data removed]",
      "text/plain": [
       "<Figure size 432x288 with 1 Axes>"
      ]
     },
     "metadata": {
      "needs_background": "light"
     },
     "output_type": "display_data"
    }
   ],
   "source": [
    "plot_max_p_gt(f, sample=\"R121.SG\")"
   ]
  },
  {
   "cell_type": "code",
   "execution_count": 5,
   "metadata": {},
   "outputs": [
    {
     "data": {
      "image/png": "[encoded data removed]",
      "text/plain": [
       "<Figure size 432x288 with 1 Axes>"
      ]
     },
     "metadata": {
      "needs_background": "light"
     },
     "output_type": "display_data"
    }
   ],
   "source": [
    "plot_max_p_gt(f, sample=\"I13888\")"
   ]
  },
  {
   "cell_type": "code",
   "execution_count": 6,
   "metadata": {},
   "outputs": [],
   "source": [
    "f.close()"
   ]
  },
  {
   "cell_type": "markdown",
   "metadata": {},
   "source": [
    "# Plot hets along genome"
   ]
  },
  {
   "cell_type": "markdown",
   "metadata": {},
   "source": [
    "### MA89, Sardinian"
   ]
  },
  {
   "cell_type": "code",
   "execution_count": 156,
   "metadata": {},
   "outputs": [
    {
     "name": "stdout",
     "output_type": "stream",
     "text": [
      "Filtering to 0.999 GP variants: 0.756x\n"
     ]
    }
   ],
   "source": [
    "cutoff = 0.999\n",
    "ch = 3\n",
    "sample = \"MA89\"\n",
    "\n",
    "f = h5py.File(f\"./data/hdf5/1240k_v43/ch{ch}.h5\", \"r\") # Load for Sanity Check. See below!\n",
    "j = get_idx_iid(f, sample=sample, unique=True)\n",
    "map_het = f[\"variants/MAP\"][:] # Loat the map\n",
    "gts =  f[\"calldata/GT\"][:,j,:]\n",
    "het = gts[:,0]!=gts[:,1]\n",
    "assert(len(map_het)==len(het))\n",
    "\n",
    "m = np.max(f[\"calldata/GP\"][:,j,:], axis=1)\n",
    "idx = (m>cutoff)\n",
    "c = np.mean(m>cutoff)\n",
    "print(f\"Filtering to {cutoff} GP variants: {c:.3f}x\")\n",
    "\n",
    "map_het = map_het[idx]\n",
    "het = het[idx]\n",
    "\n",
    "### Plot inferred ROH (via hapROH)\n",
    "df_roh = pd.read_csv(f\"/n/groups/reich/hringbauer/hapsburg_runs/output/v43_full/{sample}_roh_full.csv\", sep=\",\")\n",
    "df_roh = df_roh[df_roh[\"ch\"]==ch]\n",
    "### Extract good variants\n",
    "\n",
    "f.close()"
   ]
  },
  {
   "cell_type": "code",
   "execution_count": 157,
   "metadata": {},
   "outputs": [
    {
     "name": "stdout",
     "output_type": "stream",
     "text": [
      "Saved figure to: ./figs/dumpster/MA89.0.999_gp_cutoff.png\n"
     ]
    },
    {
     "data": {
      "image/png": "[encoded data removed]",
      "text/plain": [
       "<Figure size 1008x144 with 2 Axes>"
      ]
     },
     "metadata": {
      "needs_background": "light"
     },
     "output_type": "display_data"
    }
   ],
   "source": [
    "plot_hets(map_het=map_het, het=het, df_roh=df_roh, cm_lim=[80,180], \n",
    "          title=f\"MA89, Sardinia-C, >{cutoff} GP filter; {c:.3f} 1240K of genotypes maintained\", ms=2,\n",
    "          savepath=\"./figs/dumpster/MA89.0.999_gp_cutoff.png\")"
   ]
  },
  {
   "cell_type": "markdown",
   "metadata": {},
   "source": [
    "### Analyze the spurious hets"
   ]
  },
  {
   "cell_type": "code",
   "execution_count": 96,
   "metadata": {},
   "outputs": [],
   "source": [
    "j = get_idx_iid(f, sample=\"MA89\", unique=True)\n",
    "map_het = f[\"variants/MAP\"][:] # Loat the map\n",
    "gts =  f[\"calldata/GT\"][:,j,:]\n",
    "het = gts[:,0]!=gts[:,1]\n",
    "assert(len(map_het)==len(het))\n",
    "m = np.max(f[\"calldata/GP\"][:,j,:], axis=1)\n",
    "\n",
    "idx_m = (map_het > 1.1)  & (map_het<1.4)\n",
    "idx_het_roh = het & idx_m"
   ]
  },
  {
   "cell_type": "code",
   "execution_count": 120,
   "metadata": {},
   "outputs": [
    {
     "name": "stdout",
     "output_type": "stream",
     "text": [
      "84 / 6840\n"
     ]
    }
   ],
   "source": [
    "print(f\"{np.sum(idx_het_roh)} / {np.sum(idx_m)}\")"
   ]
  },
  {
   "cell_type": "code",
   "execution_count": 98,
   "metadata": {},
   "outputs": [
    {
     "data": {
      "text/plain": [
       "array([0.992, 0.64 , 0.918, 0.832, 0.823, 0.574, 1.   , 0.745, 0.75 ,\n",
       "       0.665, 0.873, 0.975, 0.962, 0.999, 0.739, 0.564, 0.976, 1.   ,\n",
       "       0.975, 0.619, 0.666, 0.727, 0.652, 0.567, 1.   , 0.988, 0.513,\n",
       "       0.785, 0.988, 0.93 , 0.865, 1.   , 0.72 , 0.625, 0.626, 0.627,\n",
       "       0.584, 0.611, 0.583, 0.533, 0.593, 0.545, 1.   , 0.957, 0.998,\n",
       "       0.776, 0.997, 1.   , 1.   , 0.842, 0.734, 0.729, 0.964, 0.988,\n",
       "       0.648, 0.536, 0.543, 0.547, 0.919, 0.867, 0.998, 0.999, 1.   ,\n",
       "       0.623, 0.525, 0.654, 0.487, 0.999, 0.952, 1.   , 0.582, 0.938,\n",
       "       1.   , 1.   , 0.703, 0.975, 0.692, 0.999, 0.988, 0.988, 0.725,\n",
       "       0.808, 0.911, 0.787], dtype=float32)"
      ]
     },
     "execution_count": 98,
     "metadata": {},
     "output_type": "execute_result"
    }
   ],
   "source": [
    "m[idx_het_roh]"
   ]
  },
  {
   "cell_type": "code",
   "execution_count": null,
   "metadata": {},
   "outputs": [],
   "source": [
    "list(f[\"variants\"])"
   ]
  },
  {
   "cell_type": "code",
   "execution_count": 128,
   "metadata": {},
   "outputs": [
    {
     "data": {
      "text/plain": [
       "array(['C', 'T', 'A', ..., 'G', 'T', 'C'], dtype=object)"
      ]
     },
     "execution_count": 128,
     "metadata": {},
     "output_type": "execute_result"
    }
   ],
   "source": [
    "f[\"variants/ALT\"][idx_het_roh,0]"
   ]
  },
  {
   "cell_type": "code",
   "execution_count": 114,
   "metadata": {},
   "outputs": [],
   "source": [
    "gts =  f[\"calldata/GT\"][idx_het_roh,j,:]"
   ]
  },
  {
   "cell_type": "markdown",
   "metadata": {},
   "source": [
    "### Low Coverage Bell Beaker"
   ]
  },
  {
   "cell_type": "code",
   "execution_count": 164,
   "metadata": {},
   "outputs": [
    {
     "name": "stdout",
     "output_type": "stream",
     "text": [
      "Read Coverage 1240K: 0.4025\n",
      "Filtering to 0.99 GP variants: 0.711x\n"
     ]
    }
   ],
   "source": [
    "cutoff = 0.99\n",
    "ch = 3\n",
    "sample = \"I4068\"\n",
    "\n",
    "f = h5py.File(f\"./data/hdf5/1240k_v43/ch{ch}.h5\", \"r\") # Load for Sanity Check. See below!\n",
    "\n",
    "j = get_idx_iid(f, sample=sample, unique=True)\n",
    "print(f\"Read Coverage 1240K: {get_coverage(f,j):.4f}\")\n",
    "map_het = f[\"variants/MAP\"][:] # Loat the map\n",
    "gts =  f[\"calldata/GT\"][:,j,:]\n",
    "het = gts[:,0]!=gts[:,1]\n",
    "assert(len(map_het)==len(het))\n",
    "\n",
    "m = np.max(f[\"calldata/GP\"][:,j,:], axis=1)\n",
    "idx = (m>cutoff)\n",
    "c = np.mean(m>cutoff)\n",
    "print(f\"Filtering to {cutoff} GP variants: {c:.3f}x\")\n",
    "\n",
    "map_het = map_het[idx]\n",
    "het = het[idx]\n",
    "\n",
    "### Plot inferred ROH (via hapROH)\n",
    "df_roh = pd.read_csv(f\"/n/groups/reich/hringbauer/hapsburg_runs/output/v43_full/{sample}_roh_full.csv\", sep=\",\")\n",
    "df_roh = df_roh[df_roh[\"ch\"]==ch]\n",
    "### Extract good variants\n",
    "\n",
    "f.close()"
   ]
  },
  {
   "cell_type": "code",
   "execution_count": 167,
   "metadata": {},
   "outputs": [
    {
     "data": {
      "image/png": "[encoded data removed]",
      "text/plain": [
       "<Figure size 1008x144 with 2 Axes>"
      ]
     },
     "metadata": {
      "needs_background": "light"
     },
     "output_type": "display_data"
    }
   ],
   "source": [
    "plot_hets(map_het=map_het, het=het, df_roh=df_roh, cm_lim=[], min_cm=4,\n",
    "          title=f\"I4068, Bell Beaker Netherlands, >{cutoff} GP filter: {c:.3f} 1240K of genotypes maintained\", ms=2,\n",
    "          savepath=\"\") # ./figs/dumpster/I4068, Bell Beaker_0.5_gp_cutoff.png"
   ]
  },
  {
   "cell_type": "markdown",
   "metadata": {},
   "source": [
    "# Plot low coverage Italian"
   ]
  },
  {
   "cell_type": "code",
   "execution_count": 10,
   "metadata": {},
   "outputs": [
    {
     "name": "stdout",
     "output_type": "stream",
     "text": [
      "Read Coverage 1240K: 0.3723\n",
      "Filtering to 0.99 GP variants: 0.934x\n"
     ]
    }
   ],
   "source": [
    "cutoff = 0.99\n",
    "ch = 4\n",
    "sample = \"R121.SG\"\n",
    "\n",
    "f = h5py.File(f\"./data/hdf5/1240k_v43/ch{ch}.h5\", \"r\") # Load for Sanity Check. See below!\n",
    "j = get_idx_iid(f, sample=sample, unique=True)\n",
    "print(f\"Read Coverage 1240K: {get_coverage(f,j):.4f}\")\n",
    "map_het = f[\"variants/MAP\"][:] # Loat the map\n",
    "gts =  f[\"calldata/GT\"][:,j,:]\n",
    "het = gts[:,0]!=gts[:,1]\n",
    "assert(len(map_het)==len(het))\n",
    "\n",
    "m = np.max(f[\"calldata/GP\"][:,j,:], axis=1)\n",
    "idx = (m>cutoff)\n",
    "c = np.mean(m>cutoff)\n",
    "print(f\"Filtering to {cutoff} GP variants: {c:.3f}x\")\n",
    "\n",
    "map_het = map_het[idx]\n",
    "het = het[idx]\n",
    "\n",
    "### Plot inferred ROH (via hapROH)\n",
    "df_roh = pd.read_csv(f\"/n/groups/reich/hringbauer/hapsburg_runs/output/v43_full/{sample}_roh_full.csv\", sep=\",\")\n",
    "df_roh = df_roh[df_roh[\"ch\"]==ch]\n",
    "### Extract good variants\n",
    "\n",
    "f.close()"
   ]
  },
  {
   "cell_type": "code",
   "execution_count": 12,
   "metadata": {},
   "outputs": [
    {
     "data": {
      "image/png": "[encoded data removed]",
      "text/plain": [
       "<Figure size 1008x144 with 2 Axes>"
      ]
     },
     "metadata": {
      "needs_background": "light"
     },
     "output_type": "display_data"
    }
   ],
   "source": [
    "plot_hets(map_het=map_het, het=het, df_roh=df_roh, cm_lim=[100,150], min_cm=4,\n",
    "          title=f\"R121.SG, Rome Late Antiquity, >{cutoff} GP filter; {c:.3f} 1240K of genotypes maintained\", ms=2,\n",
    "          savepath=\"\") # ./figs/dumpster/I4068, Bell Beaker_0.5_gp_cutoff.png"
   ]
  },
  {
   "cell_type": "code",
   "execution_count": 14,
   "metadata": {},
   "outputs": [],
   "source": [
    "df_roh = pd.read_csv(f\"/n/groups/reich/hringbauer/hapsburg_runs/output/v43_full/{sample}_roh_full.csv\", sep=\",\")"
   ]
  },
  {
   "cell_type": "markdown",
   "metadata": {},
   "source": [
    "# HIM002, Himera Sicilly"
   ]
  },
  {
   "cell_type": "code",
   "execution_count": 8,
   "metadata": {},
   "outputs": [],
   "source": [
    "def get_hets_from_f(sample = \"HIM001.SG\", ch=1,\n",
    "                    path=\"./data/hdf5/1240k_v43/ch\",\n",
    "                    cutoff = 0.99):\n",
    "    \"\"\"Get Hets and map and df_roh\"\"\"\n",
    "    path=f\"{path}{ch}.h5\"\n",
    "    f = h5py.File(path, \"r\") # Load for Sanity Check. See below!\n",
    "    j = get_idx_iid(f, sample=sample, unique=True)\n",
    "    print(f\"Read Coverage 1240K: {get_coverage(f,j):.4f}\")\n",
    "    map_het = f[\"variants/MAP\"][:] # Loat the map\n",
    "    gts =  f[\"calldata/GT\"][:,j,:]\n",
    "    het = gts[:,0]!=gts[:,1]\n",
    "    assert(len(map_het)==len(het))\n",
    "\n",
    "    m = np.max(f[\"calldata/GP\"][:,j,:], axis=1)\n",
    "    idx = (m>cutoff)\n",
    "    c = np.mean(m>cutoff)\n",
    "    print(f\"Filtering to {cutoff} GP variants: {c:.3f}x\")\n",
    "\n",
    "    map_het = map_het[idx]\n",
    "    het = het[idx]\n",
    "    ### Extract good variants\n",
    "\n",
    "    f.close()\n",
    "    return het, map_het, c"
   ]
  },
  {
   "cell_type": "code",
   "execution_count": 19,
   "metadata": {},
   "outputs": [
    {
     "name": "stdout",
     "output_type": "stream",
     "text": [
      "Read Coverage 1240K: 0.9590\n",
      "Filtering to 0.99 GP variants: 0.965x\n",
      "Saved figure to: ./figs/dumpster/HIM001_ch2.png\n"
     ]
    },
    {
     "data": {
      "image/png": "[encoded data removed]",
      "text/plain": [
       "<Figure size 1008x144 with 2 Axes>"
      ]
     },
     "metadata": {
      "needs_background": "light"
     },
     "output_type": "display_data"
    }
   ],
   "source": [
    "ch=2\n",
    "het, map_het, c = get_hets_from_f(sample = \"HIM001.SG\", ch=ch, cutoff=0.99)\n",
    "\n",
    "### Plot inferred ROH (via hapROH)\n",
    "df_roh = pd.read_csv(f\"/n/groups/reich/hringbauer/hapsburg_runs/output/v43_full/HIM001.SG_roh_full.csv\", sep=\",\")\n",
    "df_roh = df_roh[df_roh[\"ch\"]==ch]\n",
    "\n",
    "plot_hets(map_het=map_het, het=het, df_roh=df_roh, cm_lim=[-2,60], min_cm=4,\n",
    "          title=f\"HIM001.SG, Sicilly Himera, >0.99 GP filter; {c:.3f} 1240K of genotypes maintained, Chr. 2\", ms=4,\n",
    "          savepath=\"./figs/dumpster/HIM001_ch2.png\") # ./figs/dumpster/I4068, Bell Beaker_0.5_gp_cutoff.png"
   ]
  },
  {
   "cell_type": "code",
   "execution_count": 18,
   "metadata": {},
   "outputs": [
    {
     "name": "stdout",
     "output_type": "stream",
     "text": [
      "Read Coverage 1240K: 0.9824\n",
      "Filtering to 0.99 GP variants: 0.965x\n",
      "Saved figure to: ./figs/dumpster/HIM001_ch17.png\n"
     ]
    },
    {
     "data": {
      "image/png": "[encoded data removed]",
      "text/plain": [
       "<Figure size 1008x144 with 2 Axes>"
      ]
     },
     "metadata": {
      "needs_background": "light"
     },
     "output_type": "display_data"
    }
   ],
   "source": [
    "ch=11\n",
    "het, map_het, c = get_hets_from_f(sample = \"HIM001.SG\", ch=ch, cutoff=0.99)\n",
    "\n",
    "### Plot inferred ROH (via hapROH)\n",
    "df_roh = pd.read_csv(f\"/n/groups/reich/hringbauer/hapsburg_runs/output/v43_full/HIM001.SG_roh_full.csv\", sep=\",\")\n",
    "df_roh = df_roh[df_roh[\"ch\"]==ch]\n",
    "\n",
    "plot_hets(map_het=map_het, het=het, df_roh=df_roh, cm_lim=[], min_cm=4,\n",
    "          title=f\"HIM001.SG, Sicilly Himera, >0.99 GP filter; {c:.3f} 1240K of genotypes maintained, Chr. 11\", ms=4,\n",
    "          savepath=\"./figs/dumpster/HIM001_ch17.png\") # ./figs/dumpster/I4068, Bell Beaker_0.5_gp_cutoff.png"
   ]
  },
  {
   "cell_type": "markdown",
   "metadata": {},
   "source": [
    "### I13888, England Megalithic Inbreed? For Inigo, October 2020"
   ]
  },
  {
   "cell_type": "code",
   "execution_count": 37,
   "metadata": {},
   "outputs": [
    {
     "name": "stdout",
     "output_type": "stream",
     "text": [
      "Read Coverage 1240K: 1.5365\n",
      "Filtering to 0.99 GP variants: 0.914x\n"
     ]
    },
    {
     "data": {
      "image/png": "[encoded data removed]",
      "text/plain": [
       "<Figure size 1008x144 with 2 Axes>"
      ]
     },
     "metadata": {
      "needs_background": "light"
     },
     "output_type": "display_data"
    }
   ],
   "source": [
    "iid=\"I13888\"\n",
    "ch=9\n",
    "het, map_het, c = get_hets_from_f(sample = iid, ch=ch, cutoff=0.99)\n",
    "\n",
    "### Plot inferred ROH (via hapROH)\n",
    "df_roh = pd.read_csv(f\"/n/groups/reich/hringbauer/hapsburg_runs/output/v43_full/{iid}_roh_full.csv\", sep=\",\")\n",
    "df_roh = df_roh[df_roh[\"ch\"]==ch]\n",
    "\n",
    "plot_hets(map_het=map_het, het=het, df_roh=df_roh, cm_lim=[], min_cm=2,\n",
    "          title=f\"{iid}, >0.99 GP filter; {c:.3f} 1240K of genotypes maintained, Chr. 9\", ms=4,\n",
    "          savepath=\"\") # f\"./figs/dumpster/{iid}_ch{ch}.png\""
   ]
  },
  {
   "cell_type": "code",
   "execution_count": null,
   "metadata": {},
   "outputs": [],
   "source": []
  }
 ],
 "metadata": {
  "kernelspec": {
   "display_name": "Python 3",
   "language": "python",
   "name": "python3"
  },
  "language_info": {
   "codemirror_mode": {
    "name": "ipython",
    "version": 3
   },
   "file_extension": ".py",
   "mimetype": "text/x-python",
   "name": "python",
   "nbconvert_exporter": "python",
   "pygments_lexer": "ipython3",
   "version": "3.7.4"
  }
 },
 "nbformat": 4,
 "nbformat_minor": 4
}
