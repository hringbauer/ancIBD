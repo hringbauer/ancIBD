{
 "cells": [
  {
   "cell_type": "code",
   "execution_count": 1,
   "metadata": {},
   "outputs": [
    {
     "name": "stdout",
     "output_type": "stream",
     "text": [
      "compute-e-16-233.o2.rc.hms.harvard.edu\n",
      "HSM O2 Computational partition detected.\n",
      "/n/groups/reich/hringbauer/git/hapBLOCK\n",
      "CPU Count: 28\n"
     ]
    }
   ],
   "source": [
    "import qgrid\n",
    "import numpy as np\n",
    "import pandas as pd\n",
    "import matplotlib.pyplot as plt\n",
    "import socket as socket\n",
    "import os as os\n",
    "import sys as sys\n",
    "import multiprocessing as mp\n",
    "import itertools as it\n",
    "import h5py\n",
    "\n",
    "### hapROH imports\n",
    "#sys.path.insert(0,\"/n/groups/reich/hringbauer/git/HAPSBURG/package/\")  # hack to get development package first in path\n",
    "sys.path.insert(0,\"/n/groups/reich/hringbauer/git/hapBLOCK/package/hapBLOCK/IO/\")  # hack to get development package first in path\n",
    "from h5_load import get_coverage,get_genos_pairs,get_idx_iid,get_markers_good\n",
    "\n",
    "socket_name = socket.gethostname()\n",
    "print(socket_name)\n",
    "\n",
    "if socket_name.startswith(\"compute-\"):\n",
    "    print(\"HSM O2 Computational partition detected.\")\n",
    "    path = \"/n/groups/reich/hringbauer/git/hapBLOCK/\"  # The Path on Harvard Cluster\n",
    "else:\n",
    "    raise RuntimeWarning(\"No compatible machine. Check!!\")\n",
    "\n",
    "os.chdir(path)  # Set the right Path (in line with Atom default)\n",
    "# Show the current working directory. Should be HAPSBURG/Notebooks/ParallelRuns\n",
    "\n",
    "print(os.getcwd())\n",
    "print(f\"CPU Count: {mp.cpu_count()}\")\n",
    "\n",
    "sys.path.insert(0, path)"
   ]
  },
  {
   "cell_type": "code",
   "execution_count": 2,
   "metadata": {},
   "outputs": [],
   "source": [
    "def opp_homos(g1, g2):\n",
    "    \"\"\"Return opposing homozygotes\"\"\"\n",
    "    o1 = (g1 == 0) & (g2 == 2)\n",
    "    o2 = (g1 == 2) & (g2 == 0)\n",
    "    return (o1 | o2)"
   ]
  },
  {
   "cell_type": "code",
   "execution_count": 6,
   "metadata": {},
   "outputs": [],
   "source": [
    "f.close()"
   ]
  },
  {
   "cell_type": "code",
   "execution_count": 7,
   "metadata": {},
   "outputs": [
    {
     "name": "stdout",
     "output_type": "stream",
     "text": [
      "0.6835309403930485\n",
      "0.737940555465324\n"
     ]
    }
   ],
   "source": [
    "f = h5py.File(\"./data/hdf5/1240k_v43/ch2.h5\", \"r\") # Load for Sanity Check. See below!\n",
    "\n",
    "j1 = get_idx_iid(f, \"SUC002\")\n",
    "print(get_coverage(f, j1))\n",
    "j2 = get_idx_iid(f, \"SUC003\")\n",
    "print(get_coverage(f, j2))"
   ]
  },
  {
   "cell_type": "code",
   "execution_count": 15,
   "metadata": {},
   "outputs": [
    {
     "name": "stdout",
     "output_type": "stream",
     "text": [
      "Filtering to 0.95 GP variants: 0.910x\n",
      "Filtering to 0.95 GP variants: 0.927x\n",
      "Filtering to common GP variants: 0.863x\n",
      "CPU times: user 561 ms, sys: 67.9 ms, total: 628 ms\n",
      "Wall time: 622 ms\n"
     ]
    }
   ],
   "source": [
    "%%time\n",
    "g1, g2, m = get_genos_pairs(f, sample1=\"SUC002\", sample2=\"SUC003\", \n",
    "                            cutoff=0.95, output=True, phased=True)"
   ]
  },
  {
   "cell_type": "code",
   "execution_count": 16,
   "metadata": {},
   "outputs": [
    {
     "name": "stdout",
     "output_type": "stream",
     "text": [
      "Markers loaded: 42511\n"
     ]
    }
   ],
   "source": [
    "idx_m = (m>0)\n",
    "print(f\"Markers loaded: {np.sum(idx_m)}\")\n",
    "g1 = g1[idx_m]\n",
    "g2 = g2[idx_m]\n",
    "m = m[idx_m]"
   ]
  },
  {
   "cell_type": "code",
   "execution_count": 17,
   "metadata": {},
   "outputs": [
    {
     "name": "stdout",
     "output_type": "stream",
     "text": [
      "Opposing Homozygotes: 1\n"
     ]
    }
   ],
   "source": [
    "oh = opp_homos(np.sum(g1,axis=1), np.sum(g2, axis=1))\n",
    "print(f\"Opposing Homozygotes: {np.sum(oh)}\")"
   ]
  },
  {
   "cell_type": "code",
   "execution_count": 18,
   "metadata": {},
   "outputs": [
    {
     "name": "stdout",
     "output_type": "stream",
     "text": [
      "Het Markers loaded: 4483\n"
     ]
    }
   ],
   "source": [
    "idx_het = (np.sum(g1, axis=1) == 1) & (np.sum(g2, axis=1) != 1)\n",
    "print(f\"Het Markers loaded: {np.sum(idx_het)}\")\n",
    "g1,g2,m = g1[idx_het], g2[idx_het], m[idx_het]"
   ]
  },
  {
   "cell_type": "code",
   "execution_count": 19,
   "metadata": {},
   "outputs": [],
   "source": [
    "f1 = g1[:,0] == g2[:,0]\n",
    "f2 = g1[:,1] == g2[:,0]"
   ]
  },
  {
   "cell_type": "code",
   "execution_count": 20,
   "metadata": {},
   "outputs": [
    {
     "data": {
      "image/png": "[encoded data removed]",
      "text/plain": [
       "<Figure size 720x108 with 1 Axes>"
      ]
     },
     "metadata": {
      "needs_background": "light"
     },
     "output_type": "display_data"
    }
   ],
   "source": [
    "plt.figure(figsize=(10,1.5))\n",
    "ax = plt.gca()\n",
    "ax.scatter(m*100, f1, c=\"slateblue\", s=10, alpha=0.8)\n",
    "ax.set_yticks((0,1))\n",
    "ax.set_xlabel(\"centimorgan\")\n",
    "ax.set_title(\"Phase of Hets Ind 1 copying from Ind 2 Homo\")\n",
    "ax.set_xlim([20,80])\n",
    "plt.show()"
   ]
  },
  {
   "cell_type": "code",
   "execution_count": 88,
   "metadata": {},
   "outputs": [
    {
     "data": {
      "text/plain": [
       "array([ True,  True,  True, False, False, False, False, False, False,\n",
       "       False, False, False, False,  True, False, False, False, False,\n",
       "       False, False, False, False, False, False, False,  True,  True,\n",
       "        True,  True, False, False, False, False, False, False, False,\n",
       "       False, False, False,  True,  True, False, False, False, False,\n",
       "       False,  True, False, False, False])"
      ]
     },
     "execution_count": 88,
     "metadata": {},
     "output_type": "execute_result"
    }
   ],
   "source": [
    "f1[-50:]"
   ]
  },
  {
   "cell_type": "code",
   "execution_count": 21,
   "metadata": {},
   "outputs": [
    {
     "name": "stdout",
     "output_type": "stream",
     "text": [
      "Switch errors per cM: 0.9127\n"
     ]
    }
   ],
   "source": [
    "switch_errors = np.sum(np.diff(f1)) / ((np.max(m) - np.min(m)) * 100)\n",
    "print(f\"Switch errors per cM: {switch_errors:.4f}\")"
   ]
  },
  {
   "cell_type": "code",
   "execution_count": 22,
   "metadata": {},
   "outputs": [
    {
     "name": "stdout",
     "output_type": "stream",
     "text": [
      "Switch errors per het: 0.0544\n"
     ]
    }
   ],
   "source": [
    "switch_errors = np.mean(np.diff(f1))\n",
    "print(f\"Switch errors per het: {switch_errors:.4f}\")"
   ]
  },
  {
   "cell_type": "code",
   "execution_count": null,
   "metadata": {},
   "outputs": [],
   "source": []
  }
 ],
 "metadata": {
  "kernelspec": {
   "display_name": "Python 3",
   "language": "python",
   "name": "python3"
  },
  "language_info": {
   "codemirror_mode": {
    "name": "ipython",
    "version": 3
   },
   "file_extension": ".py",
   "mimetype": "text/x-python",
   "name": "python",
   "nbconvert_exporter": "python",
   "pygments_lexer": "ipython3",
   "version": "3.7.4"
  }
 },
 "nbformat": 4,
 "nbformat_minor": 4
}
