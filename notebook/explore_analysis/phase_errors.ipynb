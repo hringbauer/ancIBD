{
 "cells": [
  {
   "cell_type": "code",
   "execution_count": 1,
   "metadata": {},
   "outputs": [
    {
     "name": "stdout",
     "output_type": "stream",
     "text": [
      "compute-a-16-46.o2.rc.hms.harvard.edu\n",
      "HSM O2 Computational partition detected.\n",
      "/n/groups/reich/hringbauer/git/hapBLOCK\n",
      "CPU Count: 32\n"
     ]
    }
   ],
   "source": [
    "import qgrid\n",
    "import numpy as np\n",
    "import pandas as pd\n",
    "import matplotlib.pyplot as plt\n",
    "import socket as socket\n",
    "import os as os\n",
    "import sys as sys\n",
    "import multiprocessing as mp\n",
    "import itertools as it\n",
    "import h5py\n",
    "\n",
    "### hapROH imports\n",
    "#sys.path.insert(0,\"/n/groups/reich/hringbauer/git/HAPSBURG/package/\")  # hack to get development package first in path\n",
    "sys.path.insert(0,\"/n/groups/reich/hringbauer/git/hapBLOCK/package/hapBLOCK/IO/\")  # hack to get development package first in path\n",
    "from h5_load import get_coverage,get_genos_pairs,get_idx_iid,get_markers_good\n",
    "\n",
    "socket_name = socket.gethostname()\n",
    "print(socket_name)\n",
    "\n",
    "if socket_name.startswith(\"compute-\"):\n",
    "    print(\"HSM O2 Computational partition detected.\")\n",
    "    path = \"/n/groups/reich/hringbauer/git/hapBLOCK/\"  # The Path on Harvard Cluster\n",
    "else:\n",
    "    raise RuntimeWarning(\"No compatible machine. Check!!\")\n",
    "\n",
    "os.chdir(path)  # Set the right Path (in line with Atom default)\n",
    "# Show the current working directory. Should be HAPSBURG/Notebooks/ParallelRuns\n",
    "\n",
    "print(os.getcwd())\n",
    "print(f\"CPU Count: {mp.cpu_count()}\")\n",
    "\n",
    "sys.path.insert(0, path)"
   ]
  },
  {
   "cell_type": "code",
   "execution_count": 8,
   "metadata": {},
   "outputs": [],
   "source": [
    "def opp_homos(g1, g2):\n",
    "    \"\"\"Return opposing homozygotes\"\"\"\n",
    "    o1 = (g1 == 0) & (g2 == 2)\n",
    "    o2 = (g1 == 2) & (g2 == 0)\n",
    "    return (o1 | o2)\n",
    "\n",
    "def return_phase_het_homo(f, sample1, sample2, cutoff=0.95,\n",
    "                          output=True):\n",
    "    \"\"\"return phase of het/homo states, on markers of joint \n",
    "    quality cutoff\"\"\"\n",
    "    \n",
    "    g1, g2, m = get_genos_pairs(f, sample1=sample1, sample2=sample2, \n",
    "                            cutoff=cutoff, output=False, phased=True)\n",
    "\n",
    "    idx_m = (m>0)\n",
    "    g1 = g1[idx_m]\n",
    "    g2 = g2[idx_m]\n",
    "    m = m[idx_m]\n",
    "\n",
    "    oh = opp_homos(np.sum(g1,axis=1), np.sum(g2, axis=1))\n",
    "    idx_het = (np.sum(g1, axis=1) == 1) & (np.sum(g2, axis=1) != 1)\n",
    "    if output:\n",
    "        print(f\"Markers loaded: {np.sum(idx_m)}\")\n",
    "        print(f\"Opposing Homozygotes: {np.sum(oh)}\")\n",
    "        print(f\"Het Markers loaded: {np.sum(idx_het)}\")\n",
    "    g1,g2,m = g1[idx_het], g2[idx_het], m[idx_het]\n",
    "    f1 = g1[:,0] == g2[:,0]\n",
    "    return m,f1\n",
    "\n",
    "def plot_opp_hets(m, f1, c=\"slateblue\", s=10, alpha=0.8, xlim=[20,80], \n",
    "                  figsize=(10,1.5), savepath=\"\", dpi=300):\n",
    "    \"\"\"Plot opposing Homozygotes\"\"\"\n",
    "    plt.figure(figsize=figsize)\n",
    "    ax = plt.gca()\n",
    "    ax.scatter(m*100, f1, c=c, s=s, alpha=alpha)\n",
    "    ax.set_yticks((0,1))\n",
    "    ax.set_xlabel(\"centimorgan\")\n",
    "    ax.set_title(\"Phase of Hets Ind 1 copying from Ind 2 Homo\")\n",
    "    ax.set_xlim(xlim)\n",
    "    if len(savepath)>0:\n",
    "        plt.savefig(savepath, bbox_inches ='tight', pad_inches = 0, dpi=dpi)\n",
    "        print(f\"Saved to {savepath}\")\n",
    "    plt.show()\n",
    "    \n",
    "def print_switch_errors(m, f1):\n",
    "    \"\"\"Print switch error rates\"\"\"\n",
    "    \n",
    "    switch_errors = np.sum(np.diff(f1)) / ((np.max(m) - np.min(m)) * 100)\n",
    "    print(f\"Switch errors per cM: {switch_errors:.4f}\")\n",
    "\n",
    "    switch_errors = np.mean(np.diff(f1))\n",
    "    print(f\"Switch errors per het: {switch_errors:.4f}\")"
   ]
  },
  {
   "cell_type": "code",
   "execution_count": 6,
   "metadata": {},
   "outputs": [],
   "source": [
    "f.close()"
   ]
  },
  {
   "cell_type": "code",
   "execution_count": 3,
   "metadata": {},
   "outputs": [
    {
     "name": "stdout",
     "output_type": "stream",
     "text": [
      "1.2799528527284891\n",
      "1.3732917078143416\n"
     ]
    }
   ],
   "source": [
    "f = h5py.File(\"./data/hdf5/1240k_v43/ch2.h5\", \"r\") # Load for Sanity Check. See below!\n",
    "\n",
    "j1 = get_idx_iid(f, \"SUC002\")\n",
    "print(get_coverage(f, j1))\n",
    "j2 = get_idx_iid(f, \"SUC003\")\n",
    "print(get_coverage(f, j2))"
   ]
  },
  {
   "cell_type": "code",
   "execution_count": 4,
   "metadata": {},
   "outputs": [
    {
     "name": "stdout",
     "output_type": "stream",
     "text": [
      "Filtering to 0.95 GP variants: 0.892x\n",
      "Filtering to 0.95 GP variants: 0.911x\n",
      "Filtering to common GP variants: 0.836x\n",
      "Markers loaded: 78753\n",
      "Opposing Homozygotes: 2\n",
      "Het Markers loaded: 8994\n",
      "CPU times: user 462 ms, sys: 28 ms, total: 490 ms\n",
      "Wall time: 1.19 s\n"
     ]
    }
   ],
   "source": [
    "%%time\n",
    "g1, g2, m = get_genos_pairs(f, sample1=\"SUC002\", sample2=\"SUC003\", \n",
    "                            cutoff=0.95, output=True, phased=True)\n",
    "\n",
    "idx_m = (m>0)\n",
    "print(f\"Markers loaded: {np.sum(idx_m)}\")\n",
    "g1 = g1[idx_m]\n",
    "g2 = g2[idx_m]\n",
    "m = m[idx_m]\n",
    "\n",
    "oh = opp_homos(np.sum(g1,axis=1), np.sum(g2, axis=1))\n",
    "print(f\"Opposing Homozygotes: {np.sum(oh)}\")\n",
    "\n",
    "idx_het = (np.sum(g1, axis=1) == 1) & (np.sum(g2, axis=1) != 1)\n",
    "print(f\"Het Markers loaded: {np.sum(idx_het)}\")\n",
    "g1,g2,m = g1[idx_het], g2[idx_het], m[idx_het]\n",
    "\n",
    "f1 = g1[:,0] == g2[:,0]\n",
    "f2 = g1[:,1] == g2[:,0]"
   ]
  },
  {
   "cell_type": "markdown",
   "metadata": {},
   "source": [
    "### Sardinia Pair"
   ]
  },
  {
   "cell_type": "code",
   "execution_count": 26,
   "metadata": {},
   "outputs": [
    {
     "name": "stdout",
     "output_type": "stream",
     "text": [
      "Markers loaded: 42511\n",
      "Opposing Homozygotes: 1\n",
      "Het Markers loaded: 4483\n"
     ]
    },
    {
     "data": {
      "image/png": "[encoded data removed]",
      "text/plain": [
       "<Figure size 720x108 with 1 Axes>"
      ]
     },
     "metadata": {
      "needs_background": "light"
     },
     "output_type": "display_data"
    },
    {
     "name": "stdout",
     "output_type": "stream",
     "text": [
      "Switch errors per cM: 0.9127\n",
      "Switch errors per het: 0.0544\n"
     ]
    }
   ],
   "source": [
    "m,f1 = return_phase_het_homo(f, sample1=\"SUC002\", sample2=\"SUC003\")\n",
    "plot_opp_hets(m, f1)\n",
    "print_switch_errors(m,f1, savepath=\"/\")"
   ]
  },
  {
   "cell_type": "markdown",
   "metadata": {},
   "source": [
    "### What happens if one makes error and adds brothers"
   ]
  },
  {
   "cell_type": "code",
   "execution_count": 49,
   "metadata": {},
   "outputs": [
    {
     "name": "stdout",
     "output_type": "stream",
     "text": [
      "Markers loaded: 44837\n",
      "Opposing Homozygotes: 612\n",
      "Het Markers loaded: 3967\n"
     ]
    },
    {
     "data": {
      "image/png": "[encoded data removed]",
      "text/plain": [
       "<Figure size 720x108 with 1 Axes>"
      ]
     },
     "metadata": {
      "needs_background": "light"
     },
     "output_type": "display_data"
    },
    {
     "name": "stdout",
     "output_type": "stream",
     "text": [
      "Switch errors per cM: 1.9607\n",
      "Switch errors per het: 0.1301\n"
     ]
    }
   ],
   "source": [
    "m,f1 = return_phase_het_homo(f, sample1=\"COR001\", sample2=\"COR002\")\n",
    "plot_opp_hets(m, f1)\n",
    "print_switch_errors(m,f1)"
   ]
  },
  {
   "cell_type": "markdown",
   "metadata": {},
   "source": [
    "### Bell Beaker Pair"
   ]
  },
  {
   "cell_type": "code",
   "execution_count": 9,
   "metadata": {},
   "outputs": [
    {
     "name": "stdout",
     "output_type": "stream",
     "text": [
      "Markers loaded: 85135\n",
      "Opposing Homozygotes: 3\n",
      "Het Markers loaded: 9648\n",
      "Saved to ./figs/dumpster/for_23/phasing_hets.png\n"
     ]
    },
    {
     "data": {
      "image/png": "[encoded data removed]",
      "text/plain": [
       "<Figure size 720x108 with 1 Axes>"
      ]
     },
     "metadata": {
      "needs_background": "light"
     },
     "output_type": "display_data"
    },
    {
     "name": "stdout",
     "output_type": "stream",
     "text": [
      "Switch errors per cM: 0.8051\n",
      "Switch errors per het: 0.0223\n",
      "CPU times: user 1.15 s, sys: 40.5 ms, total: 1.19 s\n",
      "Wall time: 1.16 s\n"
     ]
    }
   ],
   "source": [
    "%%time\n",
    "m,f1 = return_phase_het_homo(f, sample1=\"I7282\", sample2=\"I7283\", cutoff=0.95)\n",
    "plot_opp_hets(m, f1, savepath=\"./figs/dumpster/for_23/phasing_hets.png\")\n",
    "print_switch_errors(m,f1)"
   ]
  },
  {
   "cell_type": "markdown",
   "metadata": {},
   "source": [
    "### Afanisievo Pair"
   ]
  },
  {
   "cell_type": "code",
   "execution_count": 30,
   "metadata": {},
   "outputs": [
    {
     "name": "stdout",
     "output_type": "stream",
     "text": [
      "Markers loaded: 45189\n",
      "Opposing Homozygotes: 3\n",
      "Het Markers loaded: 4860\n"
     ]
    },
    {
     "data": {
      "image/png": "[encoded data removed]",
      "text/plain": [
       "<Figure size 720x108 with 1 Axes>"
      ]
     },
     "metadata": {
      "needs_background": "light"
     },
     "output_type": "display_data"
    },
    {
     "name": "stdout",
     "output_type": "stream",
     "text": [
      "Switch errors per cM: 0.6846\n",
      "Switch errors per het: 0.0377\n",
      "CPU times: user 736 ms, sys: 75.1 ms, total: 811 ms\n",
      "Wall time: 1.03 s\n"
     ]
    }
   ],
   "source": [
    "%%time\n",
    "m,f1 = return_phase_het_homo(f, sample1=\"10565\", sample2=\"I6712\", cutoff=0.95)\n",
    "plot_opp_hets(m, f1)\n",
    "print_switch_errors(m,f1)"
   ]
  },
  {
   "cell_type": "markdown",
   "metadata": {},
   "source": [
    "### Chinese Pair"
   ]
  },
  {
   "cell_type": "code",
   "execution_count": 36,
   "metadata": {},
   "outputs": [
    {
     "name": "stdout",
     "output_type": "stream",
     "text": [
      "Markers loaded: 46754\n",
      "Opposing Homozygotes: 1\n",
      "Het Markers loaded: 4825\n"
     ]
    },
    {
     "data": {
      "image/png": "[encoded data removed]",
      "text/plain": [
       "<Figure size 720x108 with 1 Axes>"
      ]
     },
     "metadata": {
      "needs_background": "light"
     },
     "output_type": "display_data"
    },
    {
     "name": "stdout",
     "output_type": "stream",
     "text": [
      "Switch errors per cM: 1.0595\n",
      "Switch errors per het: 0.0589\n",
      "CPU times: user 691 ms, sys: 62.9 ms, total: 754 ms\n",
      "Wall time: 748 ms\n"
     ]
    }
   ],
   "source": [
    "%%time\n",
    "m,f1 = return_phase_het_homo(f, sample1=\"LJM3\", sample2=\"LJM5\", cutoff=0.95)\n",
    "plot_opp_hets(m, f1)\n",
    "print_switch_errors(m,f1)"
   ]
  },
  {
   "cell_type": "markdown",
   "metadata": {},
   "source": [
    "# Roman Mesolithic Pair"
   ]
  },
  {
   "cell_type": "code",
   "execution_count": 39,
   "metadata": {},
   "outputs": [
    {
     "name": "stdout",
     "output_type": "stream",
     "text": [
      "Markers loaded: 46731\n",
      "Opposing Homozygotes: 5\n",
      "Het Markers loaded: 5030\n"
     ]
    },
    {
     "data": {
      "image/png": "[encoded data removed]",
      "text/plain": [
       "<Figure size 720x108 with 1 Axes>"
      ]
     },
     "metadata": {
      "needs_background": "light"
     },
     "output_type": "display_data"
    },
    {
     "name": "stdout",
     "output_type": "stream",
     "text": [
      "Switch errors per cM: 1.0430\n",
      "Switch errors per het: 0.0555\n",
      "CPU times: user 704 ms, sys: 65.8 ms, total: 770 ms\n",
      "Wall time: 765 ms\n"
     ]
    }
   ],
   "source": [
    "%%time\n",
    "m,f1 = return_phase_het_homo(f, sample1=\"I10467\", sample2=\"I10475.SG\", cutoff=0.95)\n",
    "plot_opp_hets(m, f1)\n",
    "print_switch_errors(m,f1)"
   ]
  },
  {
   "cell_type": "markdown",
   "metadata": {},
   "source": [
    "### Run Caribbean Pair"
   ]
  },
  {
   "cell_type": "code",
   "execution_count": 52,
   "metadata": {},
   "outputs": [
    {
     "name": "stdout",
     "output_type": "stream",
     "text": [
      "Markers loaded: 43492\n",
      "Opposing Homozygotes: 2\n",
      "Het Markers loaded: 3758\n"
     ]
    },
    {
     "data": {
      "image/png": "[encoded data removed]",
      "text/plain": [
       "<Figure size 720x108 with 1 Axes>"
      ]
     },
     "metadata": {
      "needs_background": "light"
     },
     "output_type": "display_data"
    },
    {
     "name": "stdout",
     "output_type": "stream",
     "text": [
      "Switch errors per cM: 0.7220\n",
      "Switch errors per het: 0.0514\n",
      "CPU times: user 694 ms, sys: 63.6 ms, total: 758 ms\n",
      "Wall time: 752 ms\n"
     ]
    }
   ],
   "source": [
    "%%time\n",
    "m,f1 = return_phase_het_homo(f, sample1=\"I17903\", sample2=\"I17906\", cutoff=0.95)\n",
    "plot_opp_hets(m, f1)\n",
    "print_switch_errors(m,f1)"
   ]
  },
  {
   "cell_type": "code",
   "execution_count": null,
   "metadata": {},
   "outputs": [],
   "source": []
  }
 ],
 "metadata": {
  "kernelspec": {
   "display_name": "Python 3",
   "language": "python",
   "name": "python3"
  },
  "language_info": {
   "codemirror_mode": {
    "name": "ipython",
    "version": 3
   },
   "file_extension": ".py",
   "mimetype": "text/x-python",
   "name": "python",
   "nbconvert_exporter": "python",
   "pygments_lexer": "ipython3",
   "version": "3.7.4"
  }
 },
 "nbformat": 4,
 "nbformat_minor": 4
}
