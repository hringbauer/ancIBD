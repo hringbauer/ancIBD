{
 "cells": [
  {
   "cell_type": "markdown",
   "metadata": {},
   "source": [
    "# Calculate f4 statistics using the whole genome hdf5"
   ]
  },
  {
   "cell_type": "code",
   "execution_count": 326,
   "metadata": {},
   "outputs": [
    {
     "name": "stdout",
     "output_type": "stream",
     "text": [
      "compute-a-17-101.o2.rc.hms.harvard.edu\n",
      "HSM O2 Computational partition detected.\n",
      "/n/groups/reich/hringbauer/git/hapBLOCK\n",
      "CPU Count: 32\n"
     ]
    }
   ],
   "source": [
    "import numpy as np\n",
    "import pandas as pd\n",
    "import matplotlib.pyplot as plt\n",
    "import socket as socket\n",
    "import os as os\n",
    "import sys as sys\n",
    "import multiprocessing as mp\n",
    "import h5py\n",
    "import allel\n",
    "import matplotlib.cm as cm\n",
    "import matplotlib.colors as cls\n",
    "import matplotlib.colorbar as clb\n",
    "\n",
    "socket_name = socket.gethostname()\n",
    "print(socket_name)\n",
    "\n",
    "if socket_name.startswith(\"compute-\"):\n",
    "    print(\"HSM O2 Computational partition detected.\")\n",
    "    path = \"/n/groups/reich/hringbauer/git/hapBLOCK/\"  # The Path on Harvard Cluster\n",
    "else: \n",
    "    raise RuntimeWarning(\"Not compatible machine. Check!!\")\n",
    "\n",
    "os.chdir(path)  # Set the right Path (in line with Atom default)\n",
    "\n",
    "print(os.getcwd())\n",
    "print(f\"CPU Count: {mp.cpu_count()}\")\n",
    "\n",
    "sys.path.insert(0,\"/n/groups/reich/hringbauer/git/hapBLOCK/package/hapBLOCK/IO/\")  # hack to get development package first in path"
   ]
  },
  {
   "cell_type": "code",
   "execution_count": 272,
   "metadata": {},
   "outputs": [],
   "source": [
    "def create_meta_df(f, path_meta=\"/n/groups/reich/hringbauer/Data/v43.4.anno.csv\"):\n",
    "    \"\"\"Create and return Meta Dataframe that matches hdf5 in format\"\"\"\n",
    "    samples = f[\"samples\"][:]\n",
    "    df_h5 = pd.DataFrame({\"iid\":samples})\n",
    "    df_meta = pd.read_csv(path_meta)\n",
    "    print(f\"Loaded {len(df_meta)} Samples\")\n",
    "    df = pd.merge(df_h5, df_meta, on=\"iid\", how=\"left\")\n",
    "    print(f\"Created matching Meta Dataframe for h5: {len(df)}\")\n",
    "    df = df.reset_index(drop=True)\n",
    "    df[\"clst\"] = df[\"clst\"].fillna(\"Not Available\")\n",
    "    return df\n",
    "\n",
    "def get_cluster_idx(df, clst=\"\", col_clst=\"clst\", \n",
    "                    age_range=[], exact=False):\n",
    "    \"\"\"Get idcs of all samples within Cluster\n",
    "    If age_range, only samples in age range\"\"\"\n",
    "    if exact:\n",
    "        idcs = np.where(df[col_clst]==clst)[0]\n",
    "    else:\n",
    "        idcs = np.where(df[col_clst].str.contains(clst))[0]\n",
    "    \n",
    "    ### Do additional Filtering\n",
    "    if len(age_range)>0:  \n",
    "        pass\n",
    "    return idcs\n",
    "\n",
    "###############################\n",
    "### Calculate the Allele Counts\n",
    "def get_ph(f, idcs):\n",
    "    \"\"\"Sample pseudohaploid data for hdf5 for\n",
    "    individuals with indices idcs\"\"\"\n",
    "    ads = f[\"calldata/AD\"][:,idcs,:2]\n",
    "    ads[ads<0]=0 # Set nmissing data to 0\n",
    "    cov = np.sum(ads, axis=2) # get the coverage per locus/indiviual\n",
    "    idx = cov>0  # Where there is some coverage\n",
    "    p = np.divide(ads[:,:,1], cov, where=idx)\n",
    "    ac = np.random.binomial(1,p)\n",
    "    ac[~idx] = -1\n",
    "    return ac\n",
    "\n",
    "def get_gt(f, idcs):\n",
    "    \"\"\"Get diploid genoytpe counts\"\"\"\n",
    "    gt = f[\"calldata/GT\"][:,idcs,:]\n",
    "    assert(np.min(gt)>=0)\n",
    "    gt = np.sum(gt, axis=2) # Count #derived variants\n",
    "    return gt\n",
    "\n",
    "def calc_ac_from_ph(ph):\n",
    "    \"\"\"Calculate allele allele counts for individuals \n",
    "    with indices from hdf5 with allele counts only\n",
    "    ph: Array of pseudo-haploid [l,n]\"\"\"\n",
    "    c_ref=np.sum(ph==0, axis=1) # Sum the Counts over all Individuals\n",
    "    c_alt=np.sum(ph==1, axis=1) # Sum the Counts over all Individuals\n",
    "    \n",
    "    # Double 0,0 no problem, goes to NaN and is then caught by allel\n",
    "    return np.column_stack((c_ref, c_alt)) # Return the nx2 Allele Counts\n",
    "\n",
    "def calc_ac_from_gt(gt):\n",
    "    \"\"\"Calculate allele allele counts for individuals \n",
    "    with indices from hdf5 with allele counts only\n",
    "    ph: Array of pseudo-haploid [l,n]\"\"\"\n",
    "    c_ref= 2*np.sum(gt==0, axis=1) + np.sum(gt==1, axis=1)\n",
    "    c_alt= 2*np.sum(gt==2, axis=1) + np.sum(gt==1, axis=1)\n",
    "    return np.column_stack((c_ref, c_alt)) # Return the nx2 Allele Counts\n",
    "\n",
    "def get_ac_from_f(f, idcs, ph=True):\n",
    "    \"\"\"Get Allele Counts from HDF, \n",
    "    grouped for all indivdiuals in idcs\n",
    "    ph: Whether to use pseudo-haploid or diploid genotypes\"\"\"\n",
    "    if ph:\n",
    "        ph = get_ph(f, idcs)\n",
    "        ac = calc_ac_from_ph(ph=ph)\n",
    "    else:\n",
    "        print(\"Using diploid mode...\")\n",
    "        gt = get_gt(f, idcs)\n",
    "        ac = calc_ac_from_gt(gt)\n",
    "    return ac\n",
    "\n",
    "def calculate_ac_pop(clst, f, df, col=\"clst\", exact=False):\n",
    "    \"\"\"Return allele counts for population.\n",
    "    exact: whether ther is an exact match\"\"\"\n",
    "    idcs = get_cluster_idx(df, clst=clst, exact=exact,\n",
    "                           col_clst=col)\n",
    "    ac = get_ac_from_f(f, idcs) \n",
    "    return ac\n",
    "\n",
    "def calculate_ac_pops(pops, f, df, col=\"clst\", ph=True, \n",
    "                      exact=False, out=True):\n",
    "    \"\"\"Calculate list of allele counts [l,2] for pops\n",
    "    f: hdf5\n",
    "    df: metafile matching f\n",
    "    pops: List of populations to extract ACs for\"\"\"\n",
    "    acs=[]\n",
    "    for pop in pops:\n",
    "        idcs = get_cluster_idx(df=df, clst=pop, exact=exact)\n",
    "        if len(idcs)==0:\n",
    "            raise RuntimeWarning(f\"No matching iids for {pop} not found!!\")\n",
    "        if out:\n",
    "            print(f\"Calculating counts pop: {pop}, n={len(idcs)}...\")\n",
    "        ac = get_ac_from_f(f, idcs, ph=ph) \n",
    "        acs.append(ac)\n",
    "    return acs\n",
    "\n",
    "###########################################\n",
    "### Calculate the actual f statistics\n",
    "\n",
    "def f3_ac(pt, p1, p2, snps_okay=None, blen=1000):\n",
    "    \"\"\"Calculate f3 for Allele Counts (lx2 arrays)\n",
    "    snps_okay: Which SNPs to actually use. If none use all\n",
    "    blen: Block Nr for Bootstrap\n",
    "    \"\"\"\n",
    "    #f3 = np.mean((pt-p1)*(pt-p2))\n",
    "    f3 = allel.average_patterson_f3(pt, p1, p2, blen=blen, normed=False)\n",
    "    return [f3[0], f3[1], f3[2]]  # f4, se, z\n",
    "\n",
    "def f4_ac(p1, p2, p3, p4, snps_okay=None, blen=1000):\n",
    "    \"\"\"Calculate f4 for Allele Counts (lx2 arrays)\n",
    "    snps_okay: Which SNPs to actually use. if none use all\n",
    "    blen: Block Nr for Bootstrap\n",
    "    \"\"\"\n",
    "    f4 = allel.average_patterson_d(p1, p2, p3, p4, blen=blen)\n",
    "    return [f4[0], f4[1], f4[2]]  # f4, se, z\n",
    "\n",
    "def fst_ac(p1, p2, blen=1000):\n",
    "    \"\"\"Calculate f3 for Allele Counts (lx2 arrays)\n",
    "    blen: Block Nr for Bootstrap\n",
    "    A sim wrapper, so later on different methods can be implemented.\n",
    "    Return fst, se, z value (based on jackkniving)\n",
    "    \"\"\"\n",
    "    res = allel.average_patterson_fst(p1, p2, blen=blen)\n",
    "    \n",
    "    f4, se = res[0], res[1]\n",
    "    z = f4 / se # Calculate the z-Value\n",
    "    return [res[0], res[1], z]  # f4, se, z"
   ]
  },
  {
   "cell_type": "markdown",
   "metadata": {},
   "source": [
    "### Load the data"
   ]
  },
  {
   "cell_type": "code",
   "execution_count": 261,
   "metadata": {},
   "outputs": [
    {
     "name": "stdout",
     "output_type": "stream",
     "text": [
      "Loaded 18171 Samples\n",
      "Created matching Meta Dataframe for h5: 14523\n"
     ]
    }
   ],
   "source": [
    "f = h5py.File(\"./data/hdf5/1240k_v43/all_ch.h5\", \"r\")\n",
    "df = create_meta_df(f, path_meta=\"/n/groups/reich/hringbauer/Data/v43.4.anno.csv\")"
   ]
  },
  {
   "cell_type": "markdown",
   "metadata": {},
   "source": [
    "### Calculate some Allele Counts"
   ]
  },
  {
   "cell_type": "code",
   "execution_count": 234,
   "metadata": {},
   "outputs": [
    {
     "name": "stdout",
     "output_type": "stream",
     "text": [
      "Calculating counts pop: Italy_Sardinia_N, n=12...\n",
      "Calculating counts pop: Italy_Sardinia_EBA, n=18...\n",
      "Calculating counts pop: Russia_Samara_EBA_Yamnaya.SG, n=14...\n",
      "Calculating counts pop: Mbuti.DG, n=4...\n"
     ]
    }
   ],
   "source": [
    "acs = calculate_ac_pops(pops=[\"Italy_Sardinia_N\", \"Italy_Sardinia_EBA\", \"Russia_Samara_EBA_Yamnaya.SG\", \"Mbuti.DG\"], f=f, df=df, col=\"clst\", \n",
    "                  exact=True, out=True, ph=True)\n",
    "ac_sar_n=acs[0]\n",
    "ac_sar_eba=acs[1]\n",
    "ac_yam=acs[2]\n",
    "ac_mbuti=acs[3]\n",
    "ac_sar_med = calculate_ac_pop(clst=\"Italy_Sardinia_Medieval\", \n",
    "                          f=f, df=df, col=\"clst\", exact=True)\n",
    "ac_anatolia_n = calculate_ac_pop(clst=\"Turkey_N\", \n",
    "                          f=f, df=df, col=\"clst\", exact=True)\n",
    "ac_jomon_hg = calculate_ac_pop(clst=\"Japan_HG_Jomon\", \n",
    "                          f=f, df=df, col=\"clst\", exact=True)\n",
    "ac_karitian = calculate_ac_pop(clst=\"Karitiana.DG\", \n",
    "                          f=f, df=df, col=\"clst\", exact=True) \n",
    "ac_japan = calculate_ac_pop(clst=\"Japanese.DG\", \n",
    "                          f=f, df=df, col=\"clst\", exact=True)"
   ]
  },
  {
   "cell_type": "markdown",
   "metadata": {},
   "source": [
    "### Calculate the diploid genotypes allele counts"
   ]
  },
  {
   "cell_type": "code",
   "execution_count": 273,
   "metadata": {},
   "outputs": [
    {
     "name": "stdout",
     "output_type": "stream",
     "text": [
      "Calculating counts pop: Mbuti.DG, n=4...\n",
      "Using diploid mode...\n",
      "Calculating counts pop: Japanese.DG, n=3...\n",
      "Using diploid mode...\n",
      "Calculating counts pop: Karitiana.DG, n=3...\n",
      "Using diploid mode...\n",
      "Calculating counts pop: Sardinian.DG, n=3...\n",
      "Using diploid mode...\n",
      "Calculating counts pop: Han.DG, n=3...\n",
      "Using diploid mode...\n",
      "Calculating counts pop: Korean.DG, n=2...\n",
      "Using diploid mode...\n"
     ]
    }
   ],
   "source": [
    "acs = calculate_ac_pops(pops=[\"Mbuti.DG\", \"Japanese.DG\", \"Karitiana.DG\", \"Sardinian.DG\", \n",
    "                              \"Han.DG\", \"Korean.DG\"], \n",
    "                        f=f, df=df, col=\"clst\", \n",
    "                        exact=True, out=True, ph=False)\n",
    "ac_mbuti2=acs[0]\n",
    "ac_japan2=acs[1]\n",
    "ac_karitiana2=acs[2]\n",
    "ac_sardinia2=acs[3]\n",
    "ac_han2=acs[4]\n",
    "ac_korean2=acs[5]"
   ]
  },
  {
   "cell_type": "markdown",
   "metadata": {},
   "source": [
    "### Calculate f4 statistics"
   ]
  },
  {
   "cell_type": "code",
   "execution_count": 350,
   "metadata": {},
   "outputs": [
    {
     "data": {
      "text/plain": [
       "(0.00927567871242395, 0.001838476637629443, 5.045306816835126)"
      ]
     },
     "execution_count": 350,
     "metadata": {},
     "output_type": "execute_result"
    }
   ],
   "source": [
    "#f4, se, z = f4_ac(acs[0], acs[1], acs[2], acs[3])\n",
    "f4, se, z = f4_ac(ac_anatolia_n, ac_yam, ac_jomon_hg, ac_japan2)\n",
    "f4, se, z"
   ]
  },
  {
   "cell_type": "code",
   "execution_count": 259,
   "metadata": {},
   "outputs": [
    {
     "data": {
      "text/plain": [
       "(0.009067118603175033, 0.0018571802471125198, 4.882196338924172)"
      ]
     },
     "execution_count": 259,
     "metadata": {},
     "output_type": "execute_result"
    }
   ],
   "source": [
    "#f4, se, z = f4_ac(acs[0], acs[1], acs[2], acs[3])\n",
    "f4, se, z = f4_ac(ac_anatolia_n, ac_yam, ac_jomon_hg, ac_japan)\n",
    "f4, se, z"
   ]
  },
  {
   "cell_type": "code",
   "execution_count": 265,
   "metadata": {},
   "outputs": [
    {
     "data": {
      "text/html": [
       "<div>\n",
       "<style scoped>\n",
       "    .dataframe tbody tr th:only-of-type {\n",
       "        vertical-align: middle;\n",
       "    }\n",
       "\n",
       "    .dataframe tbody tr th {\n",
       "        vertical-align: top;\n",
       "    }\n",
       "\n",
       "    .dataframe thead th {\n",
       "        text-align: right;\n",
       "    }\n",
       "</style>\n",
       "<table border=\"1\" class=\"dataframe\">\n",
       "  <thead>\n",
       "    <tr style=\"text-align: right;\">\n",
       "      <th></th>\n",
       "      <th>iid</th>\n",
       "      <th>Master ID</th>\n",
       "      <th>lat</th>\n",
       "      <th>lon</th>\n",
       "      <th>age</th>\n",
       "      <th>region</th>\n",
       "      <th>study</th>\n",
       "      <th>clst</th>\n",
       "      <th>mean_cov</th>\n",
       "      <th>n_cov_snp</th>\n",
       "      <th>avg_cov_snp</th>\n",
       "      <th>include_alt</th>\n",
       "      <th>family</th>\n",
       "    </tr>\n",
       "  </thead>\n",
       "  <tbody>\n",
       "    <tr>\n",
       "      <th>379</th>\n",
       "      <td>S_Korean-1.DG</td>\n",
       "      <td>ND19394</td>\n",
       "      <td>37.6</td>\n",
       "      <td>127.0</td>\n",
       "      <td>0.0</td>\n",
       "      <td>South Korea</td>\n",
       "      <td>MallickNature2016</td>\n",
       "      <td>Korean.DG</td>\n",
       "      <td>0.933030</td>\n",
       "      <td>1119636.0</td>\n",
       "      <td>44.32</td>\n",
       "      <td>True</td>\n",
       "      <td>n/a (no relatives detected)</td>\n",
       "    </tr>\n",
       "    <tr>\n",
       "      <th>637</th>\n",
       "      <td>S_Korean-2.DG</td>\n",
       "      <td>NA00726</td>\n",
       "      <td>37.6</td>\n",
       "      <td>127.0</td>\n",
       "      <td>0.0</td>\n",
       "      <td>South Korea</td>\n",
       "      <td>MallickNature2016</td>\n",
       "      <td>Korean.DG</td>\n",
       "      <td>0.932992</td>\n",
       "      <td>1119590.0</td>\n",
       "      <td>53.33</td>\n",
       "      <td>True</td>\n",
       "      <td>n/a (no relatives detected)</td>\n",
       "    </tr>\n",
       "  </tbody>\n",
       "</table>\n",
       "</div>"
      ],
      "text/plain": [
       "               iid Master ID   lat    lon  age       region  \\\n",
       "379  S_Korean-1.DG   ND19394  37.6  127.0  0.0  South Korea   \n",
       "637  S_Korean-2.DG   NA00726  37.6  127.0  0.0  South Korea   \n",
       "\n",
       "                 study       clst  mean_cov  n_cov_snp avg_cov_snp  \\\n",
       "379  MallickNature2016  Korean.DG  0.933030  1119636.0       44.32   \n",
       "637  MallickNature2016  Korean.DG  0.932992  1119590.0       53.33   \n",
       "\n",
       "    include_alt                       family  \n",
       "379        True  n/a (no relatives detected)  \n",
       "637        True  n/a (no relatives detected)  "
      ]
     },
     "execution_count": 265,
     "metadata": {},
     "output_type": "execute_result"
    }
   ],
   "source": [
    "df[df[\"clst\"].str.contains(\"Korea\")].sort_values(by=\"age\")[:50]"
   ]
  },
  {
   "cell_type": "code",
   "execution_count": 316,
   "metadata": {},
   "outputs": [
    {
     "data": {
      "text/html": [
       "<div>\n",
       "<style scoped>\n",
       "    .dataframe tbody tr th:only-of-type {\n",
       "        vertical-align: middle;\n",
       "    }\n",
       "\n",
       "    .dataframe tbody tr th {\n",
       "        vertical-align: top;\n",
       "    }\n",
       "\n",
       "    .dataframe thead th {\n",
       "        text-align: right;\n",
       "    }\n",
       "</style>\n",
       "<table border=\"1\" class=\"dataframe\">\n",
       "  <thead>\n",
       "    <tr style=\"text-align: right;\">\n",
       "      <th></th>\n",
       "      <th>iid</th>\n",
       "      <th>Master ID</th>\n",
       "      <th>lat</th>\n",
       "      <th>lon</th>\n",
       "      <th>age</th>\n",
       "      <th>region</th>\n",
       "      <th>study</th>\n",
       "      <th>clst</th>\n",
       "      <th>mean_cov</th>\n",
       "      <th>n_cov_snp</th>\n",
       "      <th>avg_cov_snp</th>\n",
       "      <th>include_alt</th>\n",
       "      <th>family</th>\n",
       "    </tr>\n",
       "  </thead>\n",
       "  <tbody>\n",
       "    <tr>\n",
       "      <th>1487</th>\n",
       "      <td>I2102</td>\n",
       "      <td>I2102</td>\n",
       "      <td>NaN</td>\n",
       "      <td>NaN</td>\n",
       "      <td>250.0</td>\n",
       "      <td>Japan</td>\n",
       "      <td>Unpublished / Unclaimed</td>\n",
       "      <td>Japan_Ainu</td>\n",
       "      <td>0.211376</td>\n",
       "      <td>253651.0</td>\n",
       "      <td>0.271</td>\n",
       "      <td>True</td>\n",
       "      <td>n/a (no relatives detected)</td>\n",
       "    </tr>\n",
       "  </tbody>\n",
       "</table>\n",
       "</div>"
      ],
      "text/plain": [
       "        iid Master ID  lat  lon    age region                    study  \\\n",
       "1487  I2102     I2102  NaN  NaN  250.0  Japan  Unpublished / Unclaimed   \n",
       "\n",
       "            clst  mean_cov  n_cov_snp avg_cov_snp include_alt  \\\n",
       "1487  Japan_Ainu  0.211376   253651.0       0.271        True   \n",
       "\n",
       "                           family  \n",
       "1487  n/a (no relatives detected)  "
      ]
     },
     "execution_count": 316,
     "metadata": {},
     "output_type": "execute_result"
    }
   ],
   "source": [
    "df[df[\"clst\"].str.contains(\"Ainu\")]"
   ]
  },
  {
   "cell_type": "code",
   "execution_count": null,
   "metadata": {},
   "outputs": [],
   "source": []
  },
  {
   "cell_type": "markdown",
   "metadata": {},
   "source": [
    "# Plot F Statistics"
   ]
  },
  {
   "cell_type": "code",
   "execution_count": 341,
   "metadata": {},
   "outputs": [],
   "source": [
    "# Function for the Plotting\n",
    "def plot_bars(f_scores, se, z_scores, labels, ylabel=\"Test Statistic\", label=True,\n",
    "             pop_labels=[], pop_labels_c=[], figsize=(12,8), save_path=\"\"):\n",
    "    \"\"\"Plot f-scores and their errors of n results\n",
    "    f_scores, se, z_scores: Arrays of the results, length n\n",
    "    labels: Array of the labels, length n\n",
    "    label: Boolean, whether to plot the Text on Top\n",
    "    pop_label: Array of pop-labels, length n; Default = [] does not plot anything \n",
    "    pop_label_c: Colors of the pop-label; Default = [] does not plot anything\n",
    "    save_path: String. If given, save figure in this path.\n",
    "    \"\"\"\n",
    "    k = len(f_scores)\n",
    "    x_arr = np.arange(k) + 0.5\n",
    "    \n",
    "    cmap0 = cm.get_cmap(name='RdBu')\n",
    "    #cmap0 = plt.cm.get_cmap('coolwarm')  # Get custom cmap binary\n",
    "    norm0 = cls.Normalize(vmin=-5, vmax=5) # The normaliztion, mapping values to colors between 0 and 1\n",
    "    colors = [cmap0(norm0(i)) for i in z_scores]\n",
    "    #colors=\"firebrick\"\n",
    "    \n",
    "    fs=16\n",
    "    f = plt.figure(figsize=figsize) \n",
    "    ax = plt.gca()  # Get the Axis object.\n",
    "    pl = ax.bar(x_arr, f_scores, yerr=se, color = colors)\n",
    "    plt.xticks(x_arr, labels, rotation=\"vertical\", fontsize=12)\n",
    "    ax.set_ylabel(ylabel, fontsize=fs)\n",
    "    ax.set_xlabel(\"Population x\", fontsize=fs)\n",
    "    plt.plot([0,k+0.5],[0,0],\"darkgreen\",linewidth=2)   # Plot Null line\n",
    "    \n",
    "    \n",
    "    # Create custom colorbar\n",
    "    f.subplots_adjust(right=0.85)\n",
    "    ax1 = f.add_axes([0.88, 0.17, 0.02, 0.66])\n",
    "    cb1 = clb.ColorbarBase(ax1, cmap=cmap0,\n",
    "                                norm=norm0,\n",
    "                                orientation='vertical')\n",
    "    cb1.set_label('z-Value', fontsize=12, rotation=270, labelpad=14)\n",
    "    \n",
    "     # Write the z-Score on top:\n",
    "    \n",
    "    def autolabel(rects):\n",
    "        \"\"\"\n",
    "        Attach a text label above each bar displaying its height\n",
    "        \"\"\"\n",
    "        for rect in rects:\n",
    "            height = rect.get_height()\n",
    "            ax = plt.gca()\n",
    "            ax.text(rect.get_x() + rect.get_width()*2/3., 1.3*height,\n",
    "                    '%.3g' % float(height),\n",
    "                    ha='center', va='bottom')\n",
    "    \n",
    "    if label==True:\n",
    "        autolabel(pl)\n",
    "    \n",
    "    ### If population Labels given\n",
    "    if len(pop_labels_c)>0:   \n",
    "        # Set the colors of the Labels\n",
    "        for xtick, color in zip(ax.get_xticklabels(), pop_labels_c):\n",
    "            xtick.set_color(color)\n",
    "        \n",
    "        # Make a legend of the Population Labels:\n",
    "        ax.legend(loc='upper left') # frameon=False\n",
    "        \n",
    "        def create_proxy(label, color):\n",
    "            \"\"\"Create empty handles for legends\"\"\"\n",
    "            handle = plt.Line2D([], [], color=color, markersize=100, label=label)\n",
    "            return handle\n",
    "        \n",
    "        _, ind = np.unique(pop_labels, return_index=True)  # Get Indices of unique Labels\n",
    "        #inds = np.sort(ind) # Sort them to get them ordered\n",
    "        \n",
    "        handles = [create_proxy(pop_labels[i], pop_labels_c[i]) for i in ind]\n",
    "        ax.legend(handles = handles, loc = \"upper right\", fontsize=fs)  \n",
    "    \n",
    "    if len(save_path)>0:\n",
    "        plt.savefig(save_path, bbox_inches = 'tight', pad_inches = 0)\n",
    "    plt.show()"
   ]
  },
  {
   "cell_type": "markdown",
   "metadata": {},
   "source": [
    "# Do f4 stats for various east Asian populations"
   ]
  },
  {
   "cell_type": "code",
   "execution_count": 345,
   "metadata": {},
   "outputs": [
    {
     "name": "stdout",
     "output_type": "stream",
     "text": [
      "CPU times: user 1.98 s, sys: 80.9 ms, total: 2.06 s\n",
      "Wall time: 2.06 s\n"
     ]
    }
   ],
   "source": [
    "%%time\n",
    "ac_targets =[ac_sardinia2, ac_jomon_hg, ac_japan2, ac_han2, ac_korean2, ac_karitiana2]\n",
    "labels = [\"Sardinia\", \"Jomon_HG\", \"Japan\", \"Han\", \"Korean\", \"Karitiana\"]\n",
    "f4s, ses, zs=[], [], []\n",
    "\n",
    "for ac in ac_targets:\n",
    "    f4, se, z = f4_ac(ac_anatolia_n, ac_yam, ac, ac_mbuti2)\n",
    "    f4s.append(f4)\n",
    "    ses.append(se)\n",
    "    zs.append(z)"
   ]
  },
  {
   "cell_type": "code",
   "execution_count": 349,
   "metadata": {},
   "outputs": [
    {
     "data": {
      "image/png": "[encoded data removed]",
      "text/plain": [
       "<Figure size 288x576 with 2 Axes>"
      ]
     },
     "metadata": {
      "needs_background": "light"
     },
     "output_type": "display_data"
    }
   ],
   "source": [
    "plot_bars(f4s, ses, zs, labels, ylabel=\"f4 ( Anatolia MN - Yamnaya Samara ; X - Mbuti )\", label=False,\n",
    "             pop_labels=[], pop_labels_c=[], figsize=(4,8), save_path=\"./figs/dumpster/f4_stats_jomon.png\")"
   ]
  },
  {
   "cell_type": "code",
   "execution_count": null,
   "metadata": {},
   "outputs": [],
   "source": []
  }
 ],
 "metadata": {
  "kernelspec": {
   "display_name": "Python 3",
   "language": "python",
   "name": "python3"
  },
  "language_info": {
   "codemirror_mode": {
    "name": "ipython",
    "version": 3
   },
   "file_extension": ".py",
   "mimetype": "text/x-python",
   "name": "python",
   "nbconvert_exporter": "python",
   "pygments_lexer": "ipython3",
   "version": "3.7.4"
  }
 },
 "nbformat": 4,
 "nbformat_minor": 4
}
