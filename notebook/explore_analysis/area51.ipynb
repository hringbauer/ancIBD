{
 "cells": [
  {
   "cell_type": "markdown",
   "metadata": {},
   "source": [
    "# Sandbox to play around with data"
   ]
  },
  {
   "cell_type": "code",
   "execution_count": 1,
   "metadata": {},
   "outputs": [
    {
     "name": "stdout",
     "output_type": "stream",
     "text": [
      "compute-e-16-230.o2.rc.hms.harvard.edu\n",
      "HSM O2 Computational partition detected.\n",
      "/n/groups/reich/hringbauer/git/hapBLOCK\n",
      "CPU Count: 28\n"
     ]
    }
   ],
   "source": [
    "import qgrid\n",
    "import numpy as np\n",
    "import pandas as pd\n",
    "import matplotlib.pyplot as plt\n",
    "import socket as socket\n",
    "import os as os\n",
    "import sys as sys\n",
    "import multiprocessing as mp\n",
    "import itertools as it\n",
    "import h5py\n",
    "\n",
    "### hapROH imports\n",
    "#sys.path.insert(0,\"/n/groups/reich/hringbauer/git/HAPSBURG/package/\")  # hack to get development package first in path\n",
    "sys.path.insert(0,\"/n/groups/reich/hringbauer/git/hapBLOCK/package/hapBLOCK/IO/\")  # hack to get development package first in path\n",
    "from h5_load import get_coverage,get_genos_pairs,get_idx_iid,get_markers_good\n",
    "\n",
    "socket_name = socket.gethostname()\n",
    "print(socket_name)\n",
    "\n",
    "if socket_name.startswith(\"compute-\"):\n",
    "    print(\"HSM O2 Computational partition detected.\")\n",
    "    path = \"/n/groups/reich/hringbauer/git/hapBLOCK/\"  # The Path on Harvard Cluster\n",
    "else:\n",
    "    raise RuntimeWarning(\"No compatible machine. Check!!\")\n",
    "\n",
    "os.chdir(path)  # Set the right Path (in line with Atom default)\n",
    "# Show the current working directory. Should be HAPSBURG/Notebooks/ParallelRuns\n",
    "\n",
    "print(os.getcwd())\n",
    "print(f\"CPU Count: {mp.cpu_count()}\")\n",
    "\n",
    "sys.path.insert(0, path)"
   ]
  },
  {
   "cell_type": "code",
   "execution_count": 2,
   "metadata": {},
   "outputs": [],
   "source": [
    "f = h5py.File(\"./data/hdf5/1240k_v43/ch20.h5\", \"r\") # Load for Sanity Check. See below!"
   ]
  },
  {
   "cell_type": "code",
   "execution_count": 3,
   "metadata": {},
   "outputs": [
    {
     "data": {
      "text/plain": [
       "['calldata', 'samples', 'variants']"
      ]
     },
     "execution_count": 3,
     "metadata": {},
     "output_type": "execute_result"
    }
   ],
   "source": [
    "list(f)"
   ]
  },
  {
   "cell_type": "code",
   "execution_count": 39,
   "metadata": {},
   "outputs": [
    {
     "data": {
      "text/plain": [
       "1048575"
      ]
     },
     "execution_count": 39,
     "metadata": {},
     "output_type": "execute_result"
    }
   ],
   "source": [
    "f[\"calldata/HS\"][10001,500]"
   ]
  },
  {
   "cell_type": "code",
   "execution_count": 27,
   "metadata": {},
   "outputs": [
    {
     "data": {
      "text/plain": [
       "array([18, 21, -1, -1], dtype=int16)"
      ]
     },
     "execution_count": 27,
     "metadata": {},
     "output_type": "execute_result"
    }
   ],
   "source": [
    "f[\"calldata/AD\"][10004,500,:]"
   ]
  },
  {
   "cell_type": "code",
   "execution_count": 30,
   "metadata": {},
   "outputs": [
    {
     "data": {
      "text/plain": [
       "(15571, 14523)"
      ]
     },
     "execution_count": 30,
     "metadata": {},
     "output_type": "execute_result"
    }
   ],
   "source": [
    "np.shape(f[\"calldata/HS\"])"
   ]
  },
  {
   "cell_type": "markdown",
   "metadata": {},
   "source": [
    "# Find distant relatives"
   ]
  },
  {
   "cell_type": "code",
   "execution_count": 64,
   "metadata": {},
   "outputs": [],
   "source": [
    "df = pd.read_csv(\"/n/groups/reich/DAVID/V44/V44.0/v44.0.anno\", sep=\"\\t\", low_memory=False)\n",
    "col_fam = \"Family ID and position within family\"\n",
    "col_cov = \"Coverage on autosomal targets\"\n",
    "col_iid = \"Master ID\"\n",
    "col_iid1 = \"Version ID\"\n",
    "col_age = 'Average of 95.4% date range in calBP (defined as 1950 CE)  '\n",
    "df[col_cov]= pd.to_numeric(df[col_cov], errors=\"coerce\")"
   ]
  },
  {
   "cell_type": "code",
   "execution_count": 34,
   "metadata": {},
   "outputs": [],
   "source": [
    "df3 = df[df[col_fam].str.contains(\"2nd\")]\n",
    "df3 = df3.sort_values(by=col_cov, ascending=False)"
   ]
  },
  {
   "cell_type": "code",
   "execution_count": 37,
   "metadata": {},
   "outputs": [
    {
     "data": {
      "text/html": [
       "<div>\n",
       "<style scoped>\n",
       "    .dataframe tbody tr th:only-of-type {\n",
       "        vertical-align: middle;\n",
       "    }\n",
       "\n",
       "    .dataframe tbody tr th {\n",
       "        vertical-align: top;\n",
       "    }\n",
       "\n",
       "    .dataframe thead th {\n",
       "        text-align: right;\n",
       "    }\n",
       "</style>\n",
       "<table border=\"1\" class=\"dataframe\">\n",
       "  <thead>\n",
       "    <tr style=\"text-align: right;\">\n",
       "      <th></th>\n",
       "      <th>Family ID and position within family</th>\n",
       "      <th>Coverage on autosomal targets</th>\n",
       "    </tr>\n",
       "  </thead>\n",
       "  <tbody>\n",
       "    <tr>\n",
       "      <th>9179</th>\n",
       "      <td>Russia, Novosibirsk Oblast, Toguchinskiy Rayon...</td>\n",
       "      <td>30.095700</td>\n",
       "    </tr>\n",
       "    <tr>\n",
       "      <th>9180</th>\n",
       "      <td>Russia, Novosibirsk Oblast, Toguchinskiy Rayon...</td>\n",
       "      <td>30.095700</td>\n",
       "    </tr>\n",
       "    <tr>\n",
       "      <th>9375</th>\n",
       "      <td>Russia, Lower Tyumechin 1 Family A (2 members)...</td>\n",
       "      <td>28.435000</td>\n",
       "    </tr>\n",
       "    <tr>\n",
       "      <th>9374</th>\n",
       "      <td>Russia, Lower Tyumechin 1 Family A (2 members)...</td>\n",
       "      <td>28.435000</td>\n",
       "    </tr>\n",
       "    <tr>\n",
       "      <th>9398</th>\n",
       "      <td>Germany, Irlbach LKR Family A (4 members) (I58...</td>\n",
       "      <td>27.786000</td>\n",
       "    </tr>\n",
       "    <tr>\n",
       "      <th>...</th>\n",
       "      <td>...</td>\n",
       "      <td>...</td>\n",
       "    </tr>\n",
       "    <tr>\n",
       "      <th>15127</th>\n",
       "      <td>Germany cross-site Family A (11 members) (At K...</td>\n",
       "      <td>0.001349</td>\n",
       "    </tr>\n",
       "    <tr>\n",
       "      <th>15146</th>\n",
       "      <td>Germany, Oberottmarshausen-Kiesgrube Lauter Fa...</td>\n",
       "      <td>0.001194</td>\n",
       "    </tr>\n",
       "    <tr>\n",
       "      <th>15166</th>\n",
       "      <td>Germany, Haunstetten-Postillionstraße Family A...</td>\n",
       "      <td>0.001181</td>\n",
       "    </tr>\n",
       "    <tr>\n",
       "      <th>16138</th>\n",
       "      <td>Slovakia, Bohemia, Ivanka pri Dunaji Family A ...</td>\n",
       "      <td>NaN</td>\n",
       "    </tr>\n",
       "    <tr>\n",
       "      <th>16140</th>\n",
       "      <td>Slovakia, Bohemia, Ivanka pri Dunaji Family A ...</td>\n",
       "      <td>NaN</td>\n",
       "    </tr>\n",
       "  </tbody>\n",
       "</table>\n",
       "<p>1408 rows × 2 columns</p>\n",
       "</div>"
      ],
      "text/plain": [
       "                    Family ID and position within family  \\\n",
       "9179   Russia, Novosibirsk Oblast, Toguchinskiy Rayon...   \n",
       "9180   Russia, Novosibirsk Oblast, Toguchinskiy Rayon...   \n",
       "9375   Russia, Lower Tyumechin 1 Family A (2 members)...   \n",
       "9374   Russia, Lower Tyumechin 1 Family A (2 members)...   \n",
       "9398   Germany, Irlbach LKR Family A (4 members) (I58...   \n",
       "...                                                  ...   \n",
       "15127  Germany cross-site Family A (11 members) (At K...   \n",
       "15146  Germany, Oberottmarshausen-Kiesgrube Lauter Fa...   \n",
       "15166  Germany, Haunstetten-Postillionstraße Family A...   \n",
       "16138  Slovakia, Bohemia, Ivanka pri Dunaji Family A ...   \n",
       "16140  Slovakia, Bohemia, Ivanka pri Dunaji Family A ...   \n",
       "\n",
       "       Coverage on autosomal targets  \n",
       "9179                       30.095700  \n",
       "9180                       30.095700  \n",
       "9375                       28.435000  \n",
       "9374                       28.435000  \n",
       "9398                       27.786000  \n",
       "...                              ...  \n",
       "15127                       0.001349  \n",
       "15146                       0.001194  \n",
       "15166                       0.001181  \n",
       "16138                            NaN  \n",
       "16140                            NaN  \n",
       "\n",
       "[1408 rows x 2 columns]"
      ]
     },
     "execution_count": 37,
     "metadata": {},
     "output_type": "execute_result"
    }
   ],
   "source": [
    "df3[[col_fam, col_cov]]"
   ]
  },
  {
   "cell_type": "code",
   "execution_count": 68,
   "metadata": {},
   "outputs": [
    {
     "data": {
      "text/plain": [
       "'Russia, Altai Mountains, Yenisey River, left bank of Karasuk tributary, Karasuk III Family A (5 members) I3388-13950-I3949-I7714 have a mother, father, son1 and son2 relationsjip in that order. I3951 is a first deg relation to I13950 and a 2nd or 3rd to I3949 and I16714 '"
      ]
     },
     "execution_count": 68,
     "metadata": {},
     "output_type": "execute_result"
    }
   ],
   "source": [
    "df3[col_fam].values[9]"
   ]
  },
  {
   "cell_type": "code",
   "execution_count": 67,
   "metadata": {},
   "outputs": [
    {
     "data": {
      "text/html": [
       "<div>\n",
       "<style scoped>\n",
       "    .dataframe tbody tr th:only-of-type {\n",
       "        vertical-align: middle;\n",
       "    }\n",
       "\n",
       "    .dataframe tbody tr th {\n",
       "        vertical-align: top;\n",
       "    }\n",
       "\n",
       "    .dataframe thead th {\n",
       "        text-align: right;\n",
       "    }\n",
       "</style>\n",
       "<table border=\"1\" class=\"dataframe\">\n",
       "  <thead>\n",
       "    <tr style=\"text-align: right;\">\n",
       "      <th></th>\n",
       "      <th>Version ID</th>\n",
       "      <th>Master ID</th>\n",
       "      <th>Average of 95.4% date range in calBP (defined as 1950 CE)</th>\n",
       "      <th>Coverage on autosomal targets</th>\n",
       "    </tr>\n",
       "  </thead>\n",
       "  <tbody>\n",
       "    <tr>\n",
       "      <th>9179</th>\n",
       "      <td>I2139.DG</td>\n",
       "      <td>I2139</td>\n",
       "      <td>8897.0</td>\n",
       "      <td>30.095700</td>\n",
       "    </tr>\n",
       "    <tr>\n",
       "      <th>9180</th>\n",
       "      <td>I2139.SG</td>\n",
       "      <td>I2139</td>\n",
       "      <td>8897.0</td>\n",
       "      <td>30.095700</td>\n",
       "    </tr>\n",
       "    <tr>\n",
       "      <th>7704</th>\n",
       "      <td>I2139</td>\n",
       "      <td>I2139</td>\n",
       "      <td>8897.0</td>\n",
       "      <td>8.797203</td>\n",
       "    </tr>\n",
       "    <tr>\n",
       "      <th>7703</th>\n",
       "      <td>I2138</td>\n",
       "      <td>I2138</td>\n",
       "      <td>8793.0</td>\n",
       "      <td>8.338042</td>\n",
       "    </tr>\n",
       "  </tbody>\n",
       "</table>\n",
       "</div>"
      ],
      "text/plain": [
       "     Version ID Master ID  \\\n",
       "9179   I2139.DG     I2139   \n",
       "9180   I2139.SG     I2139   \n",
       "7704      I2139     I2139   \n",
       "7703      I2138     I2138   \n",
       "\n",
       "      Average of 95.4% date range in calBP (defined as 1950 CE)    \\\n",
       "9179                                             8897.0             \n",
       "9180                                             8897.0             \n",
       "7704                                             8897.0             \n",
       "7703                                             8793.0             \n",
       "\n",
       "      Coverage on autosomal targets  \n",
       "9179                      30.095700  \n",
       "9180                      30.095700  \n",
       "7704                       8.797203  \n",
       "7703                       8.338042  "
      ]
     },
     "execution_count": 67,
     "metadata": {},
     "output_type": "execute_result"
    }
   ],
   "source": [
    "df3[df3[col_iid].str.contains(\"I2138|I2139\")][[col_iid1, col_iid, col_age, col_cov]]"
   ]
  },
  {
   "cell_type": "code",
   "execution_count": 66,
   "metadata": {},
   "outputs": [
    {
     "data": {
      "text/html": [
       "<div>\n",
       "<style scoped>\n",
       "    .dataframe tbody tr th:only-of-type {\n",
       "        vertical-align: middle;\n",
       "    }\n",
       "\n",
       "    .dataframe tbody tr th {\n",
       "        vertical-align: top;\n",
       "    }\n",
       "\n",
       "    .dataframe thead th {\n",
       "        text-align: right;\n",
       "    }\n",
       "</style>\n",
       "<table border=\"1\" class=\"dataframe\">\n",
       "  <thead>\n",
       "    <tr style=\"text-align: right;\">\n",
       "      <th></th>\n",
       "      <th>Version ID</th>\n",
       "      <th>Master ID</th>\n",
       "      <th>Average of 95.4% date range in calBP (defined as 1950 CE)</th>\n",
       "      <th>Coverage on autosomal targets</th>\n",
       "    </tr>\n",
       "  </thead>\n",
       "  <tbody>\n",
       "    <tr>\n",
       "      <th>18084</th>\n",
       "      <td>I6801_new.SG</td>\n",
       "      <td>I6801</td>\n",
       "      <td>4012.0</td>\n",
       "      <td>26.675296</td>\n",
       "    </tr>\n",
       "    <tr>\n",
       "      <th>9443</th>\n",
       "      <td>I6801.SG</td>\n",
       "      <td>I6801</td>\n",
       "      <td>4012.0</td>\n",
       "      <td>6.236590</td>\n",
       "    </tr>\n",
       "    <tr>\n",
       "      <th>9181</th>\n",
       "      <td>I2168.SG</td>\n",
       "      <td>I2168</td>\n",
       "      <td>4078.0</td>\n",
       "      <td>5.581440</td>\n",
       "    </tr>\n",
       "    <tr>\n",
       "      <th>107</th>\n",
       "      <td>I6801</td>\n",
       "      <td>I6801</td>\n",
       "      <td>4012.0</td>\n",
       "      <td>4.073639</td>\n",
       "    </tr>\n",
       "    <tr>\n",
       "      <th>1602</th>\n",
       "      <td>I2168</td>\n",
       "      <td>I2168</td>\n",
       "      <td>4078.0</td>\n",
       "      <td>3.998000</td>\n",
       "    </tr>\n",
       "  </tbody>\n",
       "</table>\n",
       "</div>"
      ],
      "text/plain": [
       "         Version ID Master ID  \\\n",
       "18084  I6801_new.SG     I6801   \n",
       "9443       I6801.SG     I6801   \n",
       "9181       I2168.SG     I2168   \n",
       "107           I6801     I6801   \n",
       "1602          I2168     I2168   \n",
       "\n",
       "       Average of 95.4% date range in calBP (defined as 1950 CE)    \\\n",
       "18084                                             4012.0             \n",
       "9443                                              4012.0             \n",
       "9181                                              4078.0             \n",
       "107                                               4012.0             \n",
       "1602                                              4078.0             \n",
       "\n",
       "       Coverage on autosomal targets  \n",
       "18084                      26.675296  \n",
       "9443                        6.236590  \n",
       "9181                        5.581440  \n",
       "107                         4.073639  \n",
       "1602                        3.998000  "
      ]
     },
     "execution_count": 66,
     "metadata": {},
     "output_type": "execute_result"
    }
   ],
   "source": [
    "df3[df3[col_iid].str.contains(\"I2168|I6801\")][[col_iid1, col_iid, col_age, col_cov]]"
   ]
  },
  {
   "cell_type": "code",
   "execution_count": 71,
   "metadata": {},
   "outputs": [
    {
     "data": {
      "text/html": [
       "<div>\n",
       "<style scoped>\n",
       "    .dataframe tbody tr th:only-of-type {\n",
       "        vertical-align: middle;\n",
       "    }\n",
       "\n",
       "    .dataframe tbody tr th {\n",
       "        vertical-align: top;\n",
       "    }\n",
       "\n",
       "    .dataframe thead th {\n",
       "        text-align: right;\n",
       "    }\n",
       "</style>\n",
       "<table border=\"1\" class=\"dataframe\">\n",
       "  <thead>\n",
       "    <tr style=\"text-align: right;\">\n",
       "      <th></th>\n",
       "      <th>Version ID</th>\n",
       "      <th>Master ID</th>\n",
       "      <th>Average of 95.4% date range in calBP (defined as 1950 CE)</th>\n",
       "      <th>Coverage on autosomal targets</th>\n",
       "    </tr>\n",
       "  </thead>\n",
       "  <tbody>\n",
       "    <tr>\n",
       "      <th>12970</th>\n",
       "      <td>I3949.DG</td>\n",
       "      <td>I3949</td>\n",
       "      <td>4618.0</td>\n",
       "      <td>25.316534</td>\n",
       "    </tr>\n",
       "    <tr>\n",
       "      <th>12971</th>\n",
       "      <td>I3949.SG</td>\n",
       "      <td>I3949</td>\n",
       "      <td>4618.0</td>\n",
       "      <td>25.316534</td>\n",
       "    </tr>\n",
       "    <tr>\n",
       "      <th>9251</th>\n",
       "      <td>I3951.SG</td>\n",
       "      <td>I3951</td>\n",
       "      <td>4709.0</td>\n",
       "      <td>5.854190</td>\n",
       "    </tr>\n",
       "    <tr>\n",
       "      <th>1855</th>\n",
       "      <td>I3949</td>\n",
       "      <td>I3949</td>\n",
       "      <td>4618.0</td>\n",
       "      <td>3.928000</td>\n",
       "    </tr>\n",
       "    <tr>\n",
       "      <th>1818</th>\n",
       "      <td>I3951</td>\n",
       "      <td>I3951</td>\n",
       "      <td>4709.0</td>\n",
       "      <td>3.742000</td>\n",
       "    </tr>\n",
       "  </tbody>\n",
       "</table>\n",
       "</div>"
      ],
      "text/plain": [
       "      Version ID Master ID  \\\n",
       "12970   I3949.DG     I3949   \n",
       "12971   I3949.SG     I3949   \n",
       "9251    I3951.SG     I3951   \n",
       "1855       I3949     I3949   \n",
       "1818       I3951     I3951   \n",
       "\n",
       "       Average of 95.4% date range in calBP (defined as 1950 CE)    \\\n",
       "12970                                             4618.0             \n",
       "12971                                             4618.0             \n",
       "9251                                              4709.0             \n",
       "1855                                              4618.0             \n",
       "1818                                              4709.0             \n",
       "\n",
       "       Coverage on autosomal targets  \n",
       "12970                      25.316534  \n",
       "12971                      25.316534  \n",
       "9251                        5.854190  \n",
       "1855                        3.928000  \n",
       "1818                        3.742000  "
      ]
     },
     "execution_count": 71,
     "metadata": {},
     "output_type": "execute_result"
    }
   ],
   "source": [
    "df3[df3[col_iid].str.contains(\"I3951|I3949\")][[col_iid1, col_iid, col_age, col_cov]]"
   ]
  },
  {
   "cell_type": "code",
   "execution_count": null,
   "metadata": {},
   "outputs": [],
   "source": []
  }
 ],
 "metadata": {
  "kernelspec": {
   "display_name": "Python 3",
   "language": "python",
   "name": "python3"
  },
  "language_info": {
   "codemirror_mode": {
    "name": "ipython",
    "version": 3
   },
   "file_extension": ".py",
   "mimetype": "text/x-python",
   "name": "python",
   "nbconvert_exporter": "python",
   "pygments_lexer": "ipython3",
   "version": "3.7.4"
  }
 },
 "nbformat": 4,
 "nbformat_minor": 4
}
