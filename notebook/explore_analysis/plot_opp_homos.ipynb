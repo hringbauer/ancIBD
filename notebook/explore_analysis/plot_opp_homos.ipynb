{
 "cells": [
  {
   "cell_type": "code",
   "execution_count": 1,
   "metadata": {},
   "outputs": [
    {
     "name": "stdout",
     "output_type": "stream",
     "text": [
      "compute-a-16-111.o2.rc.hms.harvard.edu\n",
      "HSM O2 Computational partition detected.\n",
      "/n/groups/reich/hringbauer/git/hapBLOCK\n",
      "CPU Count: 32\n"
     ]
    }
   ],
   "source": [
    "import numpy as np\n",
    "import pandas as pd\n",
    "import matplotlib.pyplot as plt\n",
    "import matplotlib.gridspec as gridspec\n",
    "import socket as socket\n",
    "import os as os\n",
    "import sys as sys\n",
    "import multiprocessing as mp\n",
    "import h5py\n",
    "import allel\n",
    "\n",
    "sys.path.insert(0,\"/n/groups/reich/hringbauer/git/hapBLOCK/package/hapBLOCK/IO/\")  # hack to get development package first in path\n",
    "from h5_load import get_coverage,get_genos_pairs,get_idx_iid,get_idx_iid_exact,get_markers_good\n",
    "\n",
    "socket_name = socket.gethostname()\n",
    "print(socket_name)\n",
    "\n",
    "if socket_name.startswith(\"compute-\"):\n",
    "    print(\"HSM O2 Computational partition detected.\")\n",
    "    path = \"/n/groups/reich/hringbauer/git/hapBLOCK/\"  # The Path on Harvard Cluster\n",
    "else: \n",
    "    raise RuntimeWarning(\"Not compatible machine. Check!!\")\n",
    "\n",
    "os.chdir(path)  # Set the right Path (in line with Atom default)\n",
    "\n",
    "print(os.getcwd())\n",
    "print(f\"CPU Count: {mp.cpu_count()}\")"
   ]
  },
  {
   "cell_type": "code",
   "execution_count": 2,
   "metadata": {},
   "outputs": [],
   "source": [
    "def opp_homos(g1, g2):\n",
    "    \"\"\"Return opposing homozygotes\"\"\"\n",
    "    o1 = (g1 == 0) & (g2 == 2)\n",
    "    o2 = (g1 == 2) & (g2 == 0)\n",
    "    return (o1 | o2)\n",
    "\n",
    "def plot_hets(map_het, het, het_c=\"slateblue\", c_roh=\"seagreen\", \n",
    "              figsize=(14,2), cm_lim=[], fs = 12,\n",
    "              alpha=0.3, ms=1, lw = 12, title=\"\", plot=True, min_cm=0, \n",
    "              ylabel = f\"Opp. Homozygote (y/n)\", savepath=\"\"):\n",
    "    \"\"\"Plot Heterozygotes against genenetic map,\n",
    "    plus ROH calls.\n",
    "    lw: Linewidth of ROH\"\"\" \n",
    "    plt.figure(figsize=figsize)\n",
    "    ax1 = plt.gca()\n",
    "    ax1.plot(map_het*100, (het * 1.1 - 0.05), \"o\", ms=ms, alpha=alpha, zorder=0, color=het_c)\n",
    "    ax1.set_xlabel(\"centimorgan\", fontsize=fs)\n",
    "    ax1.set_ylim([-0.1, 1.1])\n",
    "    \n",
    "    ax2 = ax1.twinx()\n",
    "    ax2.set_ylim(ax1.get_ylim())\n",
    "    ax2.set_yticks(np.array([1,0]) * 1.1 - 0.05)\n",
    "    ax2.set_yticklabels([])\n",
    "    ax1.set_yticklabels([])\n",
    "\n",
    "    \n",
    "    ax2.set_ylabel(ylabel, fontsize=fs*0.8, color=het_c, rotation=270, labelpad=fs)\n",
    "     \n",
    "    if len(cm_lim)==2:\n",
    "        ax1.set_xlim(cm_lim)\n",
    "        \n",
    "    if len(title)>0:\n",
    "        ax1.set_title(title, fontsize=fs)\n",
    "        \n",
    "    if len(savepath)>0:\n",
    "        plt.savefig(savepath, bbox_inches = 'tight', pad_inches = 0, dpi=300)\n",
    "        print(f\"Saved figure to: {savepath}\")\n",
    "        #plt.savefig(folder + \"posterior_cm.png\", bbox_inches = 'tight', pad_inches = 0, dpi=300)\n",
    "    \n",
    "    if plot:\n",
    "        plt.show()  "
   ]
  },
  {
   "cell_type": "markdown",
   "metadata": {},
   "source": [
    "# Mother Son"
   ]
  },
  {
   "cell_type": "code",
   "execution_count": 3,
   "metadata": {},
   "outputs": [
    {
     "name": "stdout",
     "output_type": "stream",
     "text": [
      "0.6312715705970227\n",
      "0.6782053263277186\n"
     ]
    }
   ],
   "source": [
    "f = h5py.File(\"./data/hdf5/1240k_v43/ch3.h5\", \"r\") # Load for Sanity Check. See below!\n",
    "\n",
    "j1 = get_idx_iid(f, \"SUC002\")\n",
    "print(get_coverage(f, j1))\n",
    "j2 = get_idx_iid(f, \"SUC003\")\n",
    "print(get_coverage(f, j2))"
   ]
  },
  {
   "cell_type": "code",
   "execution_count": 4,
   "metadata": {},
   "outputs": [
    {
     "name": "stdout",
     "output_type": "stream",
     "text": [
      "Filtering to 0.98 GP variants: 0.849x\n",
      "Filtering to 0.98 GP variants: 0.873x\n",
      "Filtering to common GP variants: 0.783x\n"
     ]
    },
    {
     "data": {
      "text/plain": [
       "0.0001316352387534143"
      ]
     },
     "execution_count": 4,
     "metadata": {},
     "output_type": "execute_result"
    }
   ],
   "source": [
    "g1, g2, m = get_genos_pairs(f, sample1=\"SUC002\", sample2=\"SUC003\", \n",
    "                            cutoff=0.98, output=True)\n",
    "o_homos = opp_homos(g1, g2)\n",
    "np.mean(o_homos)"
   ]
  },
  {
   "cell_type": "code",
   "execution_count": 5,
   "metadata": {},
   "outputs": [
    {
     "name": "stdout",
     "output_type": "stream",
     "text": [
      "Saved figure to: ./figs/principle_proof/parent_offspring.png\n"
     ]
    },
    {
     "data": {
      "image/png": "[encoded data removed]",
      "text/plain": [
       "<Figure size 1008x144 with 2 Axes>"
      ]
     },
     "metadata": {
      "needs_background": "light"
     },
     "output_type": "display_data"
    }
   ],
   "source": [
    "plot_hets(m, o_homos, title=\"SUC002 - SUC003, Mother - Son, 1.2x - 1.3x, Sardinia EBA, 4000 BP, Ch. 3\",\n",
    "          ms=2, savepath=\"./figs/principle_proof/parent_offspring.png\")"
   ]
  },
  {
   "cell_type": "code",
   "execution_count": 12,
   "metadata": {},
   "outputs": [],
   "source": [
    "f.close()"
   ]
  },
  {
   "cell_type": "markdown",
   "metadata": {},
   "source": [
    "# 3rd degree relatives, Punic"
   ]
  },
  {
   "cell_type": "code",
   "execution_count": 6,
   "metadata": {},
   "outputs": [
    {
     "name": "stdout",
     "output_type": "stream",
     "text": [
      "0.38572734765363414\n",
      "0.3282079019213929\n"
     ]
    }
   ],
   "source": [
    "j1 = get_idx_iid(f, \"I18199\")\n",
    "print(get_coverage(f, j1))\n",
    "j2 = get_idx_iid(f, \"I18201\")\n",
    "print(get_coverage(f, j2))"
   ]
  },
  {
   "cell_type": "code",
   "execution_count": 34,
   "metadata": {},
   "outputs": [
    {
     "name": "stdout",
     "output_type": "stream",
     "text": [
      "Filtering to 0.98 GP variants: 0.752x\n",
      "Filtering to 0.98 GP variants: 0.726x\n",
      "Filtering to common GP variants: 0.609x\n",
      "Saved figure to: ./figs/villaricos/I18199_I18201_ch6.png\n"
     ]
    },
    {
     "data": {
      "image/png": "[encoded data removed]",
      "text/plain": [
       "<Figure size 1008x144 with 2 Axes>"
      ]
     },
     "metadata": {
      "needs_background": "light"
     },
     "output_type": "display_data"
    }
   ],
   "source": [
    "f = h5py.File(\"./data/hdf5/1240k_v43/ch6.h5\", \"r\") # Load for Sanity Check. See below!\n",
    "\n",
    "g1, g2, m = get_genos_pairs(f, sample1=\"I18199\", sample2=\"I18201\", \n",
    "                            cutoff=0.98, output=True)\n",
    "\n",
    "o_homos = opp_homos(g1, g2)\n",
    "np.mean(o_homos)\n",
    "\n",
    "plot_hets(m, o_homos, title=\"I18201 - I18203, Villaricos Aegan Cluster, Chr. 12\",\n",
    "          ms=2, savepath=\"./figs/villaricos/I18199_I18201_ch6.png\") # ./figs/villaricos/18199_18203_ch1.png\n",
    "f.close()"
   ]
  },
  {
   "cell_type": "code",
   "execution_count": 9,
   "metadata": {},
   "outputs": [],
   "source": [
    "f.close()"
   ]
  },
  {
   "cell_type": "markdown",
   "metadata": {},
   "source": [
    "# Reference unrelated pair"
   ]
  },
  {
   "cell_type": "code",
   "execution_count": 35,
   "metadata": {},
   "outputs": [],
   "source": [
    "f = h5py.File(\"./data/hdf5/1240k_v43/ch6.h5\", \"r\") # Load for Sanity Check. See below!"
   ]
  },
  {
   "cell_type": "code",
   "execution_count": 36,
   "metadata": {},
   "outputs": [
    {
     "name": "stdout",
     "output_type": "stream",
     "text": [
      "0.6467510214841176\n",
      "0.8505733491498616\n"
     ]
    }
   ],
   "source": [
    "j1 = get_idx_iid(f, \"SUC002\")\n",
    "print(get_coverage(f, j1))\n",
    "j2 = get_idx_iid(f, \"SUC008\")\n",
    "print(get_coverage(f, j2))"
   ]
  },
  {
   "cell_type": "code",
   "execution_count": 37,
   "metadata": {},
   "outputs": [
    {
     "name": "stdout",
     "output_type": "stream",
     "text": [
      "Filtering to 0.98 GP variants: 0.865x\n",
      "Filtering to 0.98 GP variants: 0.920x\n",
      "Filtering to common GP variants: 0.818x\n",
      "CPU times: user 438 ms, sys: 23.6 ms, total: 461 ms\n",
      "Wall time: 2.01 s\n"
     ]
    }
   ],
   "source": [
    "%%time\n",
    "g1, g2, m = get_genos_pairs(f, sample1=\"SUC002\", sample2=\"SUC008\", \n",
    "                            cutoff=0.98, output=True)"
   ]
  },
  {
   "cell_type": "code",
   "execution_count": 38,
   "metadata": {},
   "outputs": [
    {
     "data": {
      "text/plain": [
       "0.04652174613661634"
      ]
     },
     "execution_count": 38,
     "metadata": {},
     "output_type": "execute_result"
    }
   ],
   "source": [
    "o_homos = opp_homos(g1, g2)\n",
    "np.mean(o_homos)"
   ]
  },
  {
   "cell_type": "code",
   "execution_count": 39,
   "metadata": {},
   "outputs": [
    {
     "name": "stdout",
     "output_type": "stream",
     "text": [
      "Saved figure to: ./figs/principle_proof/unrelated.png\n"
     ]
    },
    {
     "data": {
      "image/png": "[encoded data removed]",
      "text/plain": [
       "<Figure size 1008x144 with 2 Axes>"
      ]
     },
     "metadata": {
      "needs_background": "light"
     },
     "output_type": "display_data"
    }
   ],
   "source": [
    "plot_hets(m, o_homos, title=\"SUC002 - SUC008, 1.22x - 1.7x, Unrelated?, Sardinia Nuragic, 4100 BP, Chr. 6\", ms=2,\n",
    "          savepath=\"./figs/principle_proof/unrelated.png\")"
   ]
  },
  {
   "cell_type": "code",
   "execution_count": 40,
   "metadata": {},
   "outputs": [],
   "source": [
    "f.close()"
   ]
  },
  {
   "cell_type": "markdown",
   "metadata": {},
   "source": [
    "### Siblings"
   ]
  },
  {
   "cell_type": "code",
   "execution_count": 15,
   "metadata": {},
   "outputs": [],
   "source": [
    "f = h5py.File(\"./data/hdf5/1240k_v43/ch9.h5\", \"r\") # Load for Sanity Check. See below!"
   ]
  },
  {
   "cell_type": "code",
   "execution_count": 16,
   "metadata": {},
   "outputs": [
    {
     "name": "stdout",
     "output_type": "stream",
     "text": [
      "0.7808182679403174\n",
      "1.0432718875819058\n"
     ]
    }
   ],
   "source": [
    "j1 = get_idx_iid(f, \"COR001\")\n",
    "print(get_coverage(f, j1))\n",
    "j2 = get_idx_iid(f, \"COR002\")\n",
    "print(get_coverage(f, j2))"
   ]
  },
  {
   "cell_type": "code",
   "execution_count": 17,
   "metadata": {},
   "outputs": [
    {
     "name": "stdout",
     "output_type": "stream",
     "text": [
      "Filtering to 0.98 GP variants: 0.874x\n",
      "Filtering to 0.98 GP variants: 0.915x\n",
      "Filtering to common GP variants: 0.829x\n",
      "CPU times: user 682 ms, sys: 102 ms, total: 784 ms\n",
      "Wall time: 1.25 s\n"
     ]
    },
    {
     "data": {
      "text/plain": [
       "0.016983064573756045"
      ]
     },
     "execution_count": 17,
     "metadata": {},
     "output_type": "execute_result"
    }
   ],
   "source": [
    "%%time\n",
    "g1, g2, m = get_genos_pairs(f, sample1=\"COR001\", sample2=\"COR002\", \n",
    "                            cutoff=0.98, output=True)\n",
    "o_homos = opp_homos(g1, g2)\n",
    "np.mean(o_homos)"
   ]
  },
  {
   "cell_type": "code",
   "execution_count": 18,
   "metadata": {},
   "outputs": [
    {
     "data": {
      "image/png": "[encoded data removed]",
      "text/plain": [
       "<Figure size 1008x144 with 2 Axes>"
      ]
     },
     "metadata": {
      "needs_background": "light"
     },
     "output_type": "display_data"
    }
   ],
   "source": [
    "plot_hets(m, o_homos, title=\"COR001 - COR002, 1.45x - 1.95x, Siblings, Sardinia Early Middle Age, 500 BP, Chr. 9\", ms=4,\n",
    "          cm_lim=[], savepath=\"\") # ./figs/principle_proof/siblings.png"
   ]
  },
  {
   "cell_type": "code",
   "execution_count": 19,
   "metadata": {},
   "outputs": [],
   "source": [
    "f.close()"
   ]
  },
  {
   "cell_type": "markdown",
   "metadata": {},
   "source": [
    "# Different genotypes"
   ]
  },
  {
   "cell_type": "code",
   "execution_count": 21,
   "metadata": {},
   "outputs": [
    {
     "name": "stdout",
     "output_type": "stream",
     "text": [
      "Filtering to 0.98 GP variants: 0.874x\n",
      "Filtering to 0.98 GP variants: 0.915x\n",
      "Filtering to common GP variants: 0.829x\n",
      "CPU times: user 618 ms, sys: 90.8 ms, total: 708 ms\n",
      "Wall time: 833 ms\n"
     ]
    }
   ],
   "source": [
    "%%time\n",
    "f = h5py.File(\"./data/hdf5/1240k_v43/ch9.h5\", \"r\") # Load for Sanity Check. See below!\n",
    "g1, g2, m = get_genos_pairs(f, sample1=\"COR001\", sample2=\"COR002\", \n",
    "                            cutoff=0.98, output=True)\n",
    "diff = (g1!=g2)\n",
    "#np.mean(g1==2)"
   ]
  },
  {
   "cell_type": "code",
   "execution_count": 22,
   "metadata": {},
   "outputs": [
    {
     "data": {
      "image/png": "[encoded data removed]",
      "text/plain": [
       "<Figure size 1008x144 with 2 Axes>"
      ]
     },
     "metadata": {
      "needs_background": "light"
     },
     "output_type": "display_data"
    }
   ],
   "source": [
    "plot_hets(m, diff, title=\"COR001 - COR002, 1.45x - 1.95x, Siblings, Sardinia Early Middle Age, 500 BP, Chr. 3\", ms=4,\n",
    "          ylabel = f\"Diff. Genotypes (y/n)\", savepath=\"\")"
   ]
  },
  {
   "cell_type": "markdown",
   "metadata": {},
   "source": [
    "### Low Coverage Example"
   ]
  },
  {
   "cell_type": "code",
   "execution_count": 68,
   "metadata": {},
   "outputs": [
    {
     "name": "stdout",
     "output_type": "stream",
     "text": [
      "Filtering to 0.99 GP variants: 0.592x\n",
      "Filtering to 0.99 GP variants: 0.781x\n",
      "Filtering to common GP variants: 0.535x\n",
      "CPU times: user 510 ms, sys: 92.1 ms, total: 603 ms\n",
      "Wall time: 614 ms\n"
     ]
    },
    {
     "data": {
      "text/plain": [
       "0.00043100070527388136"
      ]
     },
     "execution_count": 68,
     "metadata": {},
     "output_type": "execute_result"
    }
   ],
   "source": [
    "%%time\n",
    "\n",
    "iid1, iid2 = \"Bon001.SG\", \"ZHJ_BON024.A0101_Luk84\"\n",
    "\n",
    "f = h5py.File(\"./data/hdf5/1240k_v43/ch1.h5\", \"r\") # Load for Sanity Check. See below!\n",
    "g1, g2, m = get_genos_pairs(f, sample1=iid1, sample2=iid2, \n",
    "                            cutoff=0.99, output=True)\n",
    "o_homos = opp_homos(g1, g2)\n",
    "np.mean(o_homos)"
   ]
  },
  {
   "cell_type": "code",
   "execution_count": 71,
   "metadata": {},
   "outputs": [
    {
     "name": "stdout",
     "output_type": "stream",
     "text": [
      "Saved figure to: ./figs/principle_proof/po_anatolia.png\n"
     ]
    },
    {
     "data": {
      "image/png": "[encoded data removed]",
      "text/plain": [
       "<Figure size 1008x144 with 2 Axes>"
      ]
     },
     "metadata": {
      "needs_background": "light"
     },
     "output_type": "display_data"
    }
   ],
   "source": [
    "plot_hets(m, o_homos, title=\"Bon001.SG - ZHJ_BON024.A0101_Luk84, Chromosome 1\", ms=4,\n",
    "          cm_lim=[], savepath=\"./figs/principle_proof/po_anatolia.png\") # ./figs/principle_proof/siblings.png"
   ]
  },
  {
   "cell_type": "code",
   "execution_count": 57,
   "metadata": {},
   "outputs": [
    {
     "data": {
      "image/png": "[encoded data removed]",
      "text/plain": [
       "<Figure size 1008x144 with 2 Axes>"
      ]
     },
     "metadata": {
      "needs_background": "light"
     },
     "output_type": "display_data"
    }
   ],
   "source": [
    "diff = (g1!=g2)\n",
    "\n",
    "plot_hets(m, diff, title=\"COR001 - COR002, 1.45x - 1.95x, Siblings, Sardinia Early Middle Age, 500 BP, Chr. 3\", ms=4,\n",
    "          ylabel = f\"Diff. Genotypes (y/n)\", savepath=\"\")"
   ]
  },
  {
   "cell_type": "markdown",
   "metadata": {},
   "source": [
    "# Plot 2nd degree relative inferred PO by opp homo on Chr. 3"
   ]
  },
  {
   "cell_type": "code",
   "execution_count": 27,
   "metadata": {},
   "outputs": [
    {
     "name": "stdout",
     "output_type": "stream",
     "text": [
      "Filtering to 0.99 GP variants: 0.926x\n",
      "Filtering to 0.99 GP variants: 0.708x\n",
      "Filtering to common GP variants: 0.686x\n",
      "CPU times: user 466 ms, sys: 71.7 ms, total: 538 ms\n",
      "Wall time: 532 ms\n"
     ]
    },
    {
     "data": {
      "text/plain": [
       "0.00014281123924452855"
      ]
     },
     "execution_count": 27,
     "metadata": {},
     "output_type": "execute_result"
    }
   ],
   "source": [
    "%%time\n",
    "\t\n",
    "iid1, iid2 = \"I12407\", \"I10646\"\n",
    "\n",
    "f = h5py.File(\"./data/hdf5/1240k_v43/ch3.h5\", \"r\") # Load for Sanity Check. See below!\n",
    "g1, g2, m = get_genos_pairs(f, sample1=iid1, sample2=iid2, \n",
    "                            cutoff=0.99, output=True, exact=True)\n",
    "o_homos = opp_homos(g1, g2)\n",
    "np.mean(o_homos)"
   ]
  },
  {
   "cell_type": "code",
   "execution_count": 28,
   "metadata": {},
   "outputs": [
    {
     "name": "stdout",
     "output_type": "stream",
     "text": [
      "Saved figure to: ./figs/principle_proof/second_degree_ch3.png\n"
     ]
    },
    {
     "data": {
      "image/png": "[encoded data removed]",
      "text/plain": [
       "<Figure size 1008x144 with 2 Axes>"
      ]
     },
     "metadata": {
      "needs_background": "light"
     },
     "output_type": "display_data"
    }
   ],
   "source": [
    "plot_hets(m, o_homos, title=\"I12407 - I10646, Chromosome 3, Opposing Homozygotes\", ms=4,\n",
    "          cm_lim=[], savepath=\"./figs/principle_proof/second_degree_ch3.png\") # ./figs/principle_proof/siblings.png"
   ]
  },
  {
   "cell_type": "code",
   "execution_count": 22,
   "metadata": {},
   "outputs": [
    {
     "data": {
      "image/png": "[encoded data removed]",
      "text/plain": [
       "<Figure size 1008x144 with 2 Axes>"
      ]
     },
     "metadata": {
      "needs_background": "light"
     },
     "output_type": "display_data"
    }
   ],
   "source": [
    "diff = (g1!=g2)\n",
    "\n",
    "plot_hets(m, diff, title=\"COR001 - COR002, 1.45x - 1.95x, Siblings, Sardinia Early Middle Age, 500 BP, Chr. 3\", ms=4,\n",
    "          ylabel = f\"Diff. Genotypes (y/n)\", savepath=\"\")"
   ]
  },
  {
   "cell_type": "code",
   "execution_count": null,
   "metadata": {},
   "outputs": [],
   "source": [
    "get_idx_iid"
   ]
  },
  {
   "cell_type": "markdown",
   "metadata": {},
   "source": [
    "### Theoretical Expectation"
   ]
  },
  {
   "cell_type": "code",
   "execution_count": 253,
   "metadata": {},
   "outputs": [
    {
     "data": {
      "text/plain": [
       "0.05257442"
      ]
     },
     "execution_count": 253,
     "metadata": {},
     "output_type": "execute_result"
    }
   ],
   "source": [
    "p = f[\"variants/RAF\"][:,0]\n",
    "c_o_homo = 2 * p * p * (1-p) * (1-p)\n",
    "np.mean(c_o_homo)"
   ]
  },
  {
   "cell_type": "code",
   "execution_count": 37,
   "metadata": {},
   "outputs": [
    {
     "data": {
      "text/plain": [
       "0.14480914"
      ]
     },
     "execution_count": 37,
     "metadata": {},
     "output_type": "execute_result"
    }
   ],
   "source": [
    "p = f[\"variants/RAF\"][:,0]\n",
    "np.mean(p*p)"
   ]
  },
  {
   "cell_type": "code",
   "execution_count": null,
   "metadata": {},
   "outputs": [],
   "source": []
  }
 ],
 "metadata": {
  "kernelspec": {
   "display_name": "Python 3",
   "language": "python",
   "name": "python3"
  },
  "language_info": {
   "codemirror_mode": {
    "name": "ipython",
    "version": 3
   },
   "file_extension": ".py",
   "mimetype": "text/x-python",
   "name": "python",
   "nbconvert_exporter": "python",
   "pygments_lexer": "ipython3",
   "version": "3.7.4"
  }
 },
 "nbformat": 4,
 "nbformat_minor": 4
}
