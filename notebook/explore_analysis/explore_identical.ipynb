{
 "cells": [
  {
   "cell_type": "markdown",
   "metadata": {},
   "source": [
    "# Analyze identical Individuals\n",
    "There are two Bronze Age Sardinians"
   ]
  },
  {
   "cell_type": "code",
   "execution_count": 1,
   "metadata": {},
   "outputs": [
    {
     "name": "stdout",
     "output_type": "stream",
     "text": [
      "compute-a-16-111.o2.rc.hms.harvard.edu\n",
      "HSM O2 Computational partition detected.\n",
      "/n/groups/reich/hringbauer/git/hapBLOCK\n",
      "CPU Count: 32\n"
     ]
    }
   ],
   "source": [
    "import numpy as np\n",
    "import pandas as pd\n",
    "import matplotlib.pyplot as plt\n",
    "import matplotlib.gridspec as gridspec\n",
    "import socket as socket\n",
    "import os as os\n",
    "import sys as sys\n",
    "import multiprocessing as mp\n",
    "import h5py\n",
    "import allel\n",
    "\n",
    "socket_name = socket.gethostname()\n",
    "print(socket_name)\n",
    "\n",
    "if socket_name.startswith(\"compute-\"):\n",
    "    print(\"HSM O2 Computational partition detected.\")\n",
    "    path = \"/n/groups/reich/hringbauer/git/hapBLOCK/\"  # The Path on Harvard Cluster\n",
    "else: \n",
    "    raise RuntimeWarning(\"Not compatible machine. Check!!\")\n",
    "\n",
    "os.chdir(path)  # Set the right Path (in line with Atom default)\n",
    "\n",
    "print(os.getcwd())\n",
    "print(f\"CPU Count: {mp.cpu_count()}\")"
   ]
  },
  {
   "cell_type": "code",
   "execution_count": 2,
   "metadata": {},
   "outputs": [],
   "source": [
    "def get_idx_iid(f,sample, unique=True):\n",
    "    \"\"\"Return Index of sample samples in hdf5 f\"\"\"\n",
    "    samples = pd.Series(f[\"samples\"][:])\n",
    "    idx = samples.str.contains(sample)\n",
    "    idx = np.where(idx)[0]\n",
    "    if unique:\n",
    "        assert(len(idx)==1)\n",
    "        return idx[0]\n",
    "    else:\n",
    "        return idx\n",
    "    \n",
    "def get_coverage(f, j):\n",
    "    \"\"\"Get Coverage of sample j in hdf5 f\"\"\"\n",
    "    ads =  f[\"calldata/AD\"][:,j,:]\n",
    "    ads[ads<0]=0\n",
    "    cov = np.mean(ads)*2\n",
    "    return cov\n",
    "\n",
    "def get_markers_good(f, j, output=True, cutoff=0.99):\n",
    "    \"\"\"Get markers\"\"\"\n",
    "    m = np.max(f[\"calldata/GP\"][:,j,:], axis=1)\n",
    "    idx = (m>cutoff)\n",
    "    if output:\n",
    "        c1 = np.mean(m>cutoff)\n",
    "        print(f\"Filtering to {cutoff} GP variants: {c1:.3f}x\")\n",
    "    return idx\n",
    "\n",
    "def get_fraction_identical(f, sample1=\"SUC006\", sample2=\"R26.SG\", \n",
    "                           gp_cutoff=0, cutoff=0.98, output=True):\n",
    "    \"\"\"Get Fraction of Identical Genotype Configurations\"\"\"\n",
    "    j1 = get_idx_iid(f, sample1)\n",
    "    j2 = get_idx_iid(f, sample2)\n",
    "    \n",
    "    idx1 = get_markers_good(f, j1, cutoff=cutoff, output=output)\n",
    "    idx2 = get_markers_good(f, j2, cutoff=cutoff, output=output)\n",
    "    idx = (idx1 & idx2)\n",
    "    snp_frac = np.mean(idx)\n",
    "    if output:\n",
    "        print(f\"Filtering to common GP variants: {snp_frac:.3f}x\")\n",
    "    \n",
    "    gt1 = f[\"calldata/GT\"][:, j1, :][idx,:]\n",
    "    gt2 = f[\"calldata/GT\"][:, j2, :][idx,:]\n",
    "    g1, g2 = np.sum(gt1, axis=1), np.sum(gt2, axis=1)\n",
    "    frac_same = np.mean(g1 == g2)\n",
    "    return frac_same,snp_frac"
   ]
  },
  {
   "cell_type": "code",
   "execution_count": 3,
   "metadata": {},
   "outputs": [],
   "source": [
    "f = h5py.File(\"./data/hdf5/1240k_v43/ch2.h5\", \"r\") # Load for Sanity Check. See below!"
   ]
  },
  {
   "cell_type": "code",
   "execution_count": 4,
   "metadata": {},
   "outputs": [
    {
     "name": "stdout",
     "output_type": "stream",
     "text": [
      "0.6965003873131081\n",
      "0.7174046838357793\n"
     ]
    }
   ],
   "source": [
    "j1 = get_idx_iid(f, \"KPT002_petrous\")\n",
    "print(get_coverage(f, j1))\n",
    "j2 = get_idx_iid(f, \"UKY001\")\n",
    "print(get_coverage(f, j2))"
   ]
  },
  {
   "cell_type": "code",
   "execution_count": 5,
   "metadata": {},
   "outputs": [
    {
     "name": "stdout",
     "output_type": "stream",
     "text": [
      "Filtering to 0.99 GP variants: 0.786x\n",
      "Filtering to 0.99 GP variants: 0.787x\n",
      "Filtering to common GP variants: 0.743x\n"
     ]
    },
    {
     "data": {
      "text/plain": [
       "(0.9999714355085194, 0.742972654633432)"
      ]
     },
     "execution_count": 5,
     "metadata": {},
     "output_type": "execute_result"
    }
   ],
   "source": [
    "get_fraction_identical(f, sample1=\"KPT002_petrous\", sample2=\"UKY001\", cutoff=0.99)"
   ]
  },
  {
   "cell_type": "markdown",
   "metadata": {},
   "source": [
    "# Plot curve of identical genotypes\n",
    "\n",
    "f = h5py.File(\"./data/hdf5/1240k_v43/ch1.h5\", \"r\") # Load for Sanity Check. See below!"
   ]
  },
  {
   "cell_type": "code",
   "execution_count": null,
   "metadata": {},
   "outputs": [],
   "source": [
    "cutoffs = np.linspace(0.4,0.99,20)\n",
    "y = [get_fraction_identical(f, sample1=\"SUC006\", sample2=\"R26.SG\", cutoff=c) \n",
    "         for c in cutoffs]\n",
    "y=np.array(y)\n",
    "identical=y[:,0]\n",
    "snp_frac=y[:,1]"
   ]
  },
  {
   "cell_type": "code",
   "execution_count": 7,
   "metadata": {},
   "outputs": [
    {
     "data": {
      "image/png": "[encoded data removed]",
      "text/plain": [
       "<Figure size 432x432 with 2 Axes>"
      ]
     },
     "metadata": {
      "needs_background": "light"
     },
     "output_type": "display_data"
    }
   ],
   "source": [
    "fig = plt.figure(figsize=(6,6))\n",
    "\n",
    "gs = gridspec.GridSpec(2, 1, figure=fig)\n",
    "ax1 = fig.add_subplot(gs[1,0])\n",
    "ax = fig.add_subplot(gs[0, 0])\n",
    "ax.plot(cutoffs, identical, \"o-\", c=\"royalblue\")\n",
    "\n",
    "ax.set_ylabel(\"Fraction Genotype Identical\")\n",
    "ax.set_title(\"SUC006 0.96x - R26.SG 0.55x, Sardinia EBA Duplicate, 4400 BP\")\n",
    "\n",
    "ax1.plot(cutoffs, snp_frac,\"o-\",c=\"coral\")\n",
    "ax1.set_xlabel(\"Max GP Cutoff\")\n",
    "ax1.set_ylabel(\"Fraction SNPs maintained\")\n",
    "#ax1.tick_params(axis='y', labelcolor=\"coral\")\n",
    "plt.show()"
   ]
  },
  {
   "cell_type": "code",
   "execution_count": null,
   "metadata": {},
   "outputs": [],
   "source": [
    "list(f[\"calldata/PL\"][:10,100,:])"
   ]
  },
  {
   "cell_type": "code",
   "execution_count": 34,
   "metadata": {},
   "outputs": [
    {
     "data": {
      "text/plain": [
       "array(['I0626_all', 'I0627_all', 'I1137_all_published', ...,\n",
       "       'I5105_new.SG', 'I6729_new.SG', 'I6801_new.SG'], dtype=object)"
      ]
     },
     "execution_count": 34,
     "metadata": {},
     "output_type": "execute_result"
    }
   ],
   "source": [
    "f[\"samples\"][:]"
   ]
  },
  {
   "cell_type": "code",
   "execution_count": 35,
   "metadata": {},
   "outputs": [],
   "source": [
    "j1 = get_idx_iid(f, \"SUC006\")"
   ]
  },
  {
   "cell_type": "markdown",
   "metadata": {},
   "source": [
    "### Duo #2\n",
    "England Neolithic Power House"
   ]
  },
  {
   "cell_type": "code",
   "execution_count": 8,
   "metadata": {},
   "outputs": [],
   "source": [
    "f = h5py.File(\"./data/hdf5/1240k_v43/ch6.h5\", \"r\") # Load for Sanity Check. See below!"
   ]
  },
  {
   "cell_type": "code",
   "execution_count": 9,
   "metadata": {},
   "outputs": [
    {
     "name": "stdout",
     "output_type": "stream",
     "text": [
      "2.3731909845788848\n",
      "0.5886120996441281\n"
     ]
    }
   ],
   "source": [
    "j1 = get_idx_iid(f, \"I13893\")\n",
    "print(get_coverage(f, j1))\n",
    "j2 = get_idx_iid(f, \"I20820\")\n",
    "print(get_coverage(f, j2))"
   ]
  },
  {
   "cell_type": "code",
   "execution_count": null,
   "metadata": {},
   "outputs": [],
   "source": [
    "cutoffs = np.linspace(0.4,0.99,20)\n",
    "y = [get_fraction_identical(f, sample1=\"I13893\", sample2=\"I20820\", cutoff=c) \n",
    "         for c in cutoffs]\n",
    "y=np.array(y)\n",
    "identical=y[:,0]\n",
    "snp_frac=y[:,1]"
   ]
  },
  {
   "cell_type": "code",
   "execution_count": 11,
   "metadata": {},
   "outputs": [
    {
     "data": {
      "image/png": "[encoded data removed]",
      "text/plain": [
       "<Figure size 432x432 with 2 Axes>"
      ]
     },
     "metadata": {
      "needs_background": "light"
     },
     "output_type": "display_data"
    }
   ],
   "source": [
    "fig = plt.figure(figsize=(6,6))\n",
    "\n",
    "gs = gridspec.GridSpec(2, 1, figure=fig)\n",
    "ax1 = fig.add_subplot(gs[1,0])\n",
    "ax = fig.add_subplot(gs[0, 0])\n",
    "ax.plot(cutoffs, identical, \"o-\", c=\"royalblue\")\n",
    "\n",
    "ax.set_ylabel(\"Fraction Genotype Identical\")\n",
    "ax.set_title(\"I13893 2.48x - I20820 0.6x, England N Duplicate\")\n",
    "\n",
    "ax1.plot(cutoffs, snp_frac,\"o-\",c=\"coral\")\n",
    "ax1.set_xlabel(\"Max GP Cutoff\")\n",
    "ax1.set_ylabel(\"Fraction SNPs maintained\")\n",
    "#ax1.tick_params(axis='y', labelcolor=\"coral\")\n",
    "plt.show()"
   ]
  },
  {
   "cell_type": "code",
   "execution_count": 55,
   "metadata": {},
   "outputs": [
    {
     "name": "stdout",
     "output_type": "stream",
     "text": [
      "Filtering to 0.99 GP variants: 0.967x\n",
      "Filtering to 0.99 GP variants: 0.872x\n",
      "Filtering to common GP variants: 0.864x\n"
     ]
    },
    {
     "data": {
      "text/plain": [
       "(0.9996959459459459, 0.8644102444295184)"
      ]
     },
     "execution_count": 55,
     "metadata": {},
     "output_type": "execute_result"
    }
   ],
   "source": [
    "get_fraction_identical(f, sample1=\"I13893\", sample2=\"I20820\", cutoff=0.99)"
   ]
  },
  {
   "cell_type": "markdown",
   "metadata": {},
   "source": [
    "# Explore Error Rates in bins"
   ]
  },
  {
   "cell_type": "code",
   "execution_count": 83,
   "metadata": {},
   "outputs": [],
   "source": [
    "sample1, sample2 = \"SUC006\",\"R26.SG\"\n",
    "\n",
    "f = h5py.File(\"./data/hdf5/1240k_v43/ch2.h5\", \"r\") # Load for Sanity Check. See below!\n",
    "j1 = get_idx_iid(f, sample1)\n",
    "j2 = get_idx_iid(f, sample2)"
   ]
  },
  {
   "cell_type": "code",
   "execution_count": 134,
   "metadata": {},
   "outputs": [],
   "source": [
    "gt1 = np.sum(f[\"calldata/GT\"][:,j1,:], axis=1)\n",
    "m1 = np.max(f[\"calldata/GP\"][:,j1,:], axis=1)\n",
    "gt2 = np.sum(f[\"calldata/GT\"][:,j2,:], axis=1)\n",
    "m2 = np.max(f[\"calldata/GP\"][:,j2,:], axis=1)\n",
    "m = m1 * m2\n",
    "idt = gt1==gt2"
   ]
  },
  {
   "cell_type": "code",
   "execution_count": 135,
   "metadata": {},
   "outputs": [],
   "source": [
    "from scipy.stats import binned_statistic\n",
    "from scipy.stats import sem"
   ]
  },
  {
   "cell_type": "code",
   "execution_count": 148,
   "metadata": {},
   "outputs": [],
   "source": [
    "bins=np.linspace(0.25,1,76)\n",
    "#bins=np.linspace(0.99,1,11)\n",
    "\n",
    "x = (bins[1:] + bins[:-1])/2\n",
    "\n",
    "mean,_,t = binned_statistic(m, idt, statistic=\"mean\", bins=bins)\n",
    "sem1,_,_ = binned_statistic(m, idt, statistic=sem, bins=bins)"
   ]
  },
  {
   "cell_type": "code",
   "execution_count": 152,
   "metadata": {},
   "outputs": [
    {
     "data": {
      "image/png": "[encoded data removed]",
      "text/plain": [
       "<Figure size 432x432 with 1 Axes>"
      ]
     },
     "metadata": {
      "needs_background": "light"
     },
     "output_type": "display_data"
    }
   ],
   "source": [
    "plt.figure(figsize=(6,6))\n",
    "ax=plt.gca()\n",
    "ax.plot(x,mean, 'ro')\n",
    "ax.errorbar(x, mean, yerr=sem1, marker=\"\", color=\"k\", zorder=0, linestyle='None')\n",
    "ax.set_xlabel(\"Product of Maximum GP\")\n",
    "ax.set_ylabel(\"Fraction Identical Genotype\")\n",
    "ax.plot([np.min(x),np.max(x)],[np.min(x), np.max(x)])\n",
    "#ax.plot(x,y)\n",
    "plt.show()"
   ]
  },
  {
   "cell_type": "code",
   "execution_count": null,
   "metadata": {},
   "outputs": [],
   "source": []
  }
 ],
 "metadata": {
  "kernelspec": {
   "display_name": "Python 3",
   "language": "python",
   "name": "python3"
  },
  "language_info": {
   "codemirror_mode": {
    "name": "ipython",
    "version": 3
   },
   "file_extension": ".py",
   "mimetype": "text/x-python",
   "name": "python",
   "nbconvert_exporter": "python",
   "pygments_lexer": "ipython3",
   "version": "3.7.4"
  }
 },
 "nbformat": 4,
 "nbformat_minor": 4
}
