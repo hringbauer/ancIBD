{
 "cells": [
  {
   "cell_type": "markdown",
   "metadata": {},
   "source": [
    "# Analyze identical Individuals\n",
    "There are two Bronze Age Sardinians"
   ]
  },
  {
   "cell_type": "code",
   "execution_count": 35,
   "metadata": {},
   "outputs": [
    {
     "name": "stdout",
     "output_type": "stream",
     "text": [
      "compute-a-16-44.o2.rc.hms.harvard.edu\n",
      "HSM O2 Computational partition detected.\n",
      "/n/groups/reich/hringbauer/git/hapBLOCK\n",
      "CPU Count: 32\n"
     ]
    }
   ],
   "source": [
    "import numpy as np\n",
    "import pandas as pd\n",
    "import matplotlib.pyplot as plt\n",
    "import matplotlib.gridspec as gridspec\n",
    "import socket as socket\n",
    "import os as os\n",
    "import sys as sys\n",
    "import multiprocessing as mp\n",
    "import h5py\n",
    "import allel\n",
    "\n",
    "socket_name = socket.gethostname()\n",
    "print(socket_name)\n",
    "\n",
    "if socket_name.startswith(\"compute-\"):\n",
    "    print(\"HSM O2 Computational partition detected.\")\n",
    "    path = \"/n/groups/reich/hringbauer/git/hapBLOCK/\"  # The Path on Harvard Cluster\n",
    "else: \n",
    "    raise RuntimeWarning(\"Not compatible machine. Check!!\")\n",
    "\n",
    "os.chdir(path)  # Set the right Path (in line with Atom default)\n",
    "\n",
    "print(os.getcwd())\n",
    "print(f\"CPU Count: {mp.cpu_count()}\")"
   ]
  },
  {
   "cell_type": "code",
   "execution_count": 25,
   "metadata": {},
   "outputs": [],
   "source": [
    "def get_idx_iid(f,sample, unique=True):\n",
    "    \"\"\"Return Index of sample samples in hdf5 f\"\"\"\n",
    "    samples = pd.Series(f[\"samples\"][:])\n",
    "    idx = samples.str.contains(sample)\n",
    "    idx = np.where(idx)[0]\n",
    "    if unique:\n",
    "        assert(len(idx)==1)\n",
    "        return idx[0]\n",
    "    else:\n",
    "        return idx\n",
    "    \n",
    "def get_coverage(f, j):\n",
    "    \"\"\"Get Coverage of sample j in hdf5 f\"\"\"\n",
    "    ads =  f[\"calldata/AD\"][:,j,:]\n",
    "    ads[ads<0]=0\n",
    "    cov = np.mean(ads)*2\n",
    "    return cov\n",
    "\n",
    "def get_markers_good(f, j, output=True, cutoff=0.99):\n",
    "    \"\"\"Get markers\"\"\"\n",
    "    m = np.max(f[\"calldata/GP\"][:,j,:], axis=1)\n",
    "    idx = (m>cutoff)\n",
    "    if output:\n",
    "        c1 = np.mean(m>cutoff)\n",
    "        print(f\"Filtering to {cutoff} GP variants: {c1:.3f}x\")\n",
    "    return idx\n",
    "\n",
    "def get_fraction_identical(f, sample1=\"SUC006\", sample2=\"R26.SG\", \n",
    "                           gp_cutoff=0, cutoff=0.98, output=True):\n",
    "    \"\"\"Get Fraction of Identical Genotype Configurations\"\"\"\n",
    "    j1 = get_idx_iid(f, sample1)\n",
    "    j2 = get_idx_iid(f, sample2)\n",
    "    \n",
    "    idx1 = get_markers_good(f, j1, cutoff=cutoff, output=output)\n",
    "    idx2 = get_markers_good(f, j2, cutoff=cutoff, output=output)\n",
    "    idx = (idx1 & idx2)\n",
    "    snp_frac = np.mean(idx)\n",
    "    if output:\n",
    "        print(f\"Filtering to common GP variants: {snp_frac:.3f}x\")\n",
    "    \n",
    "    gt1 = f[\"calldata/GT\"][:, j1, :][idx,:]\n",
    "    gt2 = f[\"calldata/GT\"][:, j2, :][idx,:]\n",
    "    g1, g2 = np.sum(gt1, axis=1), np.sum(gt2, axis=1)\n",
    "    frac_same = np.mean(g1 == g2)\n",
    "    return frac_same,snp_frac"
   ]
  },
  {
   "cell_type": "code",
   "execution_count": 4,
   "metadata": {},
   "outputs": [],
   "source": [
    "f = h5py.File(\"./data/hdf5/1240k_v43/ch1.h5\", \"r\") # Load for Sanity Check. See below!"
   ]
  },
  {
   "cell_type": "code",
   "execution_count": 52,
   "metadata": {},
   "outputs": [
    {
     "name": "stdout",
     "output_type": "stream",
     "text": [
      "0.5752227229850121\n",
      "0.3150927575725815\n"
     ]
    }
   ],
   "source": [
    "j1 = get_idx_iid(f, \"SUC006\")\n",
    "print(get_coverage(f, j1))\n",
    "j2 = get_idx_iid(f, \"R26.SG\")\n",
    "print(get_coverage(f, j2))"
   ]
  },
  {
   "cell_type": "code",
   "execution_count": 47,
   "metadata": {},
   "outputs": [
    {
     "name": "stdout",
     "output_type": "stream",
     "text": [
      "Filtering to 0.99 GP variants: 0.806x\n",
      "Filtering to 0.99 GP variants: 0.916x\n",
      "Filtering to common GP variants: 0.777x\n"
     ]
    },
    {
     "data": {
      "text/plain": [
       "(0.9997841862472686, 0.777046431191699)"
      ]
     },
     "execution_count": 47,
     "metadata": {},
     "output_type": "execute_result"
    }
   ],
   "source": [
    "get_fraction_identical(f, sample1=\"SUC006\", sample2=\"R26.SG\", cutoff=0.99)"
   ]
  },
  {
   "cell_type": "code",
   "execution_count": 46,
   "metadata": {},
   "outputs": [
    {
     "data": {
      "text/plain": [
       "array([0.97778011, 0.97777964, 0.97792129, 0.97833935, 0.98031936,\n",
       "       0.98263322, 0.98454981, 0.98645172, 0.98811373, 0.98986149,\n",
       "       0.99144476, 0.99277485, 0.99393778, 0.99506903, 0.99594564,\n",
       "       0.99667789, 0.99764602, 0.99840332, 0.99884259, 0.99978419])"
      ]
     },
     "execution_count": 46,
     "metadata": {},
     "output_type": "execute_result"
    }
   ],
   "source": [
    "identical"
   ]
  },
  {
   "cell_type": "markdown",
   "metadata": {},
   "source": [
    "# Plot curve of identical genotypes"
   ]
  },
  {
   "cell_type": "code",
   "execution_count": 6,
   "metadata": {},
   "outputs": [],
   "source": [
    "f = h5py.File(\"./data/hdf5/1240k_v43/ch1.h5\", \"r\") # Load for Sanity Check. See below!"
   ]
  },
  {
   "cell_type": "code",
   "execution_count": 27,
   "metadata": {},
   "outputs": [
    {
     "name": "stdout",
     "output_type": "stream",
     "text": [
      "Filtering to 0.4 GP variants: 1.000x\n",
      "Filtering to 0.4 GP variants: 1.000x\n",
      "Filtering to common GP variants: 1.000x\n",
      "Filtering to 0.4310526315789474 GP variants: 1.000x\n",
      "Filtering to 0.4310526315789474 GP variants: 1.000x\n",
      "Filtering to common GP variants: 1.000x\n",
      "Filtering to 0.46210526315789474 GP variants: 1.000x\n",
      "Filtering to 0.46210526315789474 GP variants: 1.000x\n",
      "Filtering to common GP variants: 1.000x\n",
      "Filtering to 0.49315789473684213 GP variants: 0.999x\n",
      "Filtering to 0.49315789473684213 GP variants: 1.000x\n",
      "Filtering to common GP variants: 0.999x\n",
      "Filtering to 0.5242105263157895 GP variants: 0.995x\n",
      "Filtering to 0.5242105263157895 GP variants: 0.998x\n",
      "Filtering to common GP variants: 0.994x\n",
      "Filtering to 0.5552631578947369 GP variants: 0.991x\n",
      "Filtering to 0.5552631578947369 GP variants: 0.997x\n",
      "Filtering to common GP variants: 0.989x\n",
      "Filtering to 0.5863157894736842 GP variants: 0.987x\n",
      "Filtering to 0.5863157894736842 GP variants: 0.995x\n",
      "Filtering to common GP variants: 0.984x\n",
      "Filtering to 0.6173684210526316 GP variants: 0.983x\n",
      "Filtering to 0.6173684210526316 GP variants: 0.994x\n",
      "Filtering to common GP variants: 0.978x\n",
      "Filtering to 0.648421052631579 GP variants: 0.978x\n",
      "Filtering to 0.648421052631579 GP variants: 0.992x\n",
      "Filtering to common GP variants: 0.972x\n",
      "Filtering to 0.6794736842105263 GP variants: 0.973x\n",
      "Filtering to 0.6794736842105263 GP variants: 0.990x\n",
      "Filtering to common GP variants: 0.966x\n",
      "Filtering to 0.7105263157894737 GP variants: 0.967x\n",
      "Filtering to 0.7105263157894737 GP variants: 0.988x\n",
      "Filtering to common GP variants: 0.958x\n",
      "Filtering to 0.7415789473684211 GP variants: 0.961x\n",
      "Filtering to 0.7415789473684211 GP variants: 0.985x\n",
      "Filtering to common GP variants: 0.952x\n",
      "Filtering to 0.7726315789473684 GP variants: 0.955x\n",
      "Filtering to 0.7726315789473684 GP variants: 0.983x\n",
      "Filtering to common GP variants: 0.944x\n",
      "Filtering to 0.8036842105263158 GP variants: 0.947x\n",
      "Filtering to 0.8036842105263158 GP variants: 0.980x\n",
      "Filtering to common GP variants: 0.935x\n",
      "Filtering to 0.8347368421052632 GP variants: 0.939x\n",
      "Filtering to 0.8347368421052632 GP variants: 0.976x\n",
      "Filtering to common GP variants: 0.925x\n",
      "Filtering to 0.8657894736842104 GP variants: 0.930x\n",
      "Filtering to 0.8657894736842104 GP variants: 0.972x\n",
      "Filtering to common GP variants: 0.915x\n",
      "Filtering to 0.8968421052631579 GP variants: 0.917x\n",
      "Filtering to 0.8968421052631579 GP variants: 0.966x\n",
      "Filtering to common GP variants: 0.899x\n",
      "Filtering to 0.9278947368421052 GP variants: 0.900x\n",
      "Filtering to 0.9278947368421052 GP variants: 0.959x\n",
      "Filtering to common GP variants: 0.880x\n",
      "Filtering to 0.9589473684210527 GP variants: 0.874x\n",
      "Filtering to 0.9589473684210527 GP variants: 0.948x\n",
      "Filtering to common GP variants: 0.851x\n",
      "Filtering to 0.99 GP variants: 0.806x\n",
      "Filtering to 0.99 GP variants: 0.916x\n",
      "Filtering to common GP variants: 0.777x\n"
     ]
    }
   ],
   "source": [
    "cutoffs = np.linspace(0.4,0.99,20)\n",
    "y = [get_fraction_identical(f, sample1=\"SUC006\", sample2=\"R26.SG\", cutoff=c) \n",
    "         for c in cutoffs]\n",
    "y=np.array(y)\n",
    "identical=y[:,0]\n",
    "snp_frac=y[:,1]"
   ]
  },
  {
   "cell_type": "code",
   "execution_count": 45,
   "metadata": {},
   "outputs": [
    {
     "data": {
      "image/png": "[encoded data removed]",
      "text/plain": [
       "<Figure size 432x432 with 2 Axes>"
      ]
     },
     "metadata": {
      "needs_background": "light"
     },
     "output_type": "display_data"
    }
   ],
   "source": [
    "fig = plt.figure(figsize=(6,6))\n",
    "\n",
    "gs = gridspec.GridSpec(2, 1, figure=fig)\n",
    "ax1 = fig.add_subplot(gs[1,0])\n",
    "ax = fig.add_subplot(gs[0, 0])\n",
    "ax.plot(cutoffs, identical, \"o-\", c=\"royalblue\")\n",
    "\n",
    "ax.set_ylabel(\"Fraction Genotype Identical\")\n",
    "ax.set_title(\"SUC006 0.96x - R26.SG 0.55x, Sardinia EBA Duplicate, 4400 BP\")\n",
    "\n",
    "ax1.plot(cutoffs, snp_frac,\"o-\",c=\"coral\")\n",
    "ax1.set_xlabel(\"Max GP Cutoff\")\n",
    "ax1.set_ylabel(\"Fraction SNPs maintained\")\n",
    "#ax1.tick_params(axis='y', labelcolor=\"coral\")\n",
    "plt.show()"
   ]
  },
  {
   "cell_type": "code",
   "execution_count": 33,
   "metadata": {},
   "outputs": [
    {
     "data": {
      "text/plain": [
       "[array([ 0,  6, 62], dtype=int32),\n",
       " array([  0,  18, 178], dtype=int32),\n",
       " array([ 0,  3, 36], dtype=int32),\n",
       " array([ 0,  3, 36], dtype=int32),\n",
       " array([  0,  12, 124], dtype=int32),\n",
       " array([  0,  12, 123], dtype=int32),\n",
       " array([  0,  30, 249], dtype=int32),\n",
       " array([ 0,  6, 72], dtype=int32),\n",
       " array([ 0,  6, 72], dtype=int32),\n",
       " array([  0,  18, 180], dtype=int32)]"
      ]
     },
     "execution_count": 33,
     "metadata": {},
     "output_type": "execute_result"
    }
   ],
   "source": [
    "list(f[\"calldata/PL\"][:10,100,:])"
   ]
  },
  {
   "cell_type": "code",
   "execution_count": 34,
   "metadata": {},
   "outputs": [
    {
     "data": {
      "text/plain": [
       "array(['I0626_all', 'I0627_all', 'I1137_all_published', ...,\n",
       "       'I5105_new.SG', 'I6729_new.SG', 'I6801_new.SG'], dtype=object)"
      ]
     },
     "execution_count": 34,
     "metadata": {},
     "output_type": "execute_result"
    }
   ],
   "source": [
    "f[\"samples\"][:]"
   ]
  },
  {
   "cell_type": "code",
   "execution_count": 35,
   "metadata": {},
   "outputs": [],
   "source": [
    "j1 = get_idx_iid(f, \"SUC006\")"
   ]
  }
 ],
 "metadata": {
  "kernelspec": {
   "display_name": "Python 3",
   "language": "python",
   "name": "python3"
  },
  "language_info": {
   "codemirror_mode": {
    "name": "ipython",
    "version": 3
   },
   "file_extension": ".py",
   "mimetype": "text/x-python",
   "name": "python",
   "nbconvert_exporter": "python",
   "pygments_lexer": "ipython3",
   "version": "3.7.4"
  }
 },
 "nbformat": 4,
 "nbformat_minor": 4
}
