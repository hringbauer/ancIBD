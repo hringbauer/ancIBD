{
 "cells": [
  {
   "cell_type": "markdown",
   "metadata": {},
   "source": [
    "# Test the runtime of IBD calling"
   ]
  },
  {
   "cell_type": "code",
   "execution_count": 106,
   "metadata": {},
   "outputs": [
    {
     "name": "stdout",
     "output_type": "stream",
     "text": [
      "compute-e-16-233.o2.rc.hms.harvard.edu\n",
      "HSM O2 Computational partition detected.\n",
      "/n/groups/reich/hringbauer/git/ibd_euro\n"
     ]
    }
   ],
   "source": [
    "import socket as socket\n",
    "import os as os\n",
    "import sys as sys\n",
    "import numpy as np\n",
    "import pandas as pd\n",
    "import matplotlib.pyplot as plt\n",
    "from time import time\n",
    "from itertools import combinations\n",
    "\n",
    "socket_name = socket.gethostname()\n",
    "print(socket_name)\n",
    "\n",
    "if socket_name.startswith(\"compute-\"):\n",
    "    print(\"HSM O2 Computational partition detected.\")\n",
    "    path = \"/n/groups/reich/hringbauer/git/ibd_euro/\"  # The Path on Harvard Cluster\n",
    "else: \n",
    "    raise RuntimeWarning(\"Not compatible machine. Check!!\")\n",
    "\n",
    "os.chdir(path)  # Set the right Path (in line with Atom default)\n",
    "print(os.getcwd())\n",
    "\n",
    "#sys.path.append(\"/n/groups/reich/hringbauer/git/hapBLOCK/python3/\") \n",
    "#from main import HMM_Full\n",
    "#from ancIBD.run import hapBLOCK_chrom, run_plot_pair\n",
    "sys.path.insert(0,\"/n/groups/reich/hringbauer/git/hapBLOCK/package/\")  # hack to get development package first in path\n",
    "from ancIBD.run import hapBLOCK_chroms\n",
    "\n",
    "### hapsburgImport\n",
    "#sys.path.insert(0,\"/n/groups/reich/hringbauer/git/HAPSBURG/package/\")\n",
    "#from hapsburg.PackagesSupport.parallel_runs.helper_functions import combine_individual_data\n",
    "\n",
    "from matplotlib import rcParams\n",
    "rcParams['font.family'] = 'sans-serif'   # Set the default\n",
    "rcParams['font.sans-serif'] = ['Arial']  # Make sure to have the font installed (it is on cluster for Harald)"
   ]
  },
  {
   "cell_type": "markdown",
   "metadata": {},
   "source": [
    "# Do a single run for one pair"
   ]
  },
  {
   "cell_type": "code",
   "execution_count": 2,
   "metadata": {},
   "outputs": [
    {
     "name": "stdout",
     "output_type": "stream",
     "text": [
      "Loaded Meta File with 8818 Samples\n",
      "Minimum #1240k SNPs: 600109\n"
     ]
    }
   ],
   "source": [
    "### From the all.v1 run\n",
    "version = \"53.1\"\n",
    "folder_in =  f\"/n/groups/reich/hringbauer/git/hapBLOCK/data/hdf5/1240k_v{version}/ch\" # for hdf5\n",
    "path_meta =  f\"/n/groups/reich/hringbauer/git/ibd_euro/data/iid_lists/iid_ibd_v{version}.tsv\" # for iids\n",
    "\n",
    "df = pd.read_csv(path_meta, sep=\"\\t\")\n",
    "print(f'Loaded Meta File with {len(df)} Samples')\n",
    "min_cov = np.min(df[\"n_cov_snp\"])\n",
    "print(f\"Minimum #1240k SNPs: {min_cov}\")"
   ]
  },
  {
   "cell_type": "markdown",
   "metadata": {},
   "source": [
    "### Test of Single Pair"
   ]
  },
  {
   "cell_type": "code",
   "execution_count": 28,
   "metadata": {},
   "outputs": [],
   "source": [
    "def time_2samples_wg(iid2):\n",
    "    \"\"\"Times two samples for their whole genome.\n",
    "    Return: Runtime, IBD df\"\"\"\n",
    "    start = time() # Start Clock\n",
    "    df_ibds = []\n",
    "    for ch in range(1,23):\n",
    "        df_ibd = hapBLOCK_chroms(folder_in=folder_in,\n",
    "                                 iids=iids2, run_iids=[iids2],\n",
    "                                 ch=ch, folder_out=\"\",\n",
    "                                 output=False, prefix_out='', logfile=False,\n",
    "                                 l_model='h5', e_model='haploid_gl2', h_model='FiveStateScaled', \n",
    "                                 t_model='standard', p_col=\"variants/AF_ALL\",\n",
    "                                 ibd_in=1, ibd_out=10, ibd_jump=400,\n",
    "                                 min_cm=6, cutoff_post=0.99, max_gap=0.0075,\n",
    "                                 processes=1)\n",
    "        df_ibds.append(df_ibd)\n",
    "    df_ibd = pd.concat(df_ibds)\n",
    "    runtime = time() - start # Runtime in s\n",
    "    \n",
    "    \n",
    "    return runtime, df_ibd"
   ]
  },
  {
   "cell_type": "code",
   "execution_count": 39,
   "metadata": {},
   "outputs": [],
   "source": [
    "iids2 = df[\"iid\"][:2]\n",
    "ch = 1\n",
    "#iids2 = [\"I22118\", \"I22122\"]\n",
    "\n"
   ]
  },
  {
   "cell_type": "markdown",
   "metadata": {},
   "source": [
    "## A) Do large scale testing of pairs"
   ]
  },
  {
   "cell_type": "code",
   "execution_count": 58,
   "metadata": {},
   "outputs": [],
   "source": [
    "n = 100\n",
    "\n",
    "runtimes, sumibd = np.zeros(n), np.zeros(n)\n",
    "iid1, iid2 = np.zeros(n, dtype=\"object\"), np.zeros(n, dtype=\"object\")\n",
    "\n",
    "for i in range(n):\n",
    "    iids2 = np.random.choice(df[\"iid\"], 2)\n",
    "    iid1[i], iid2[i] = iids2\n",
    "    runtime, df_ibd = time_2samples_wg(iids2)\n",
    "    runtimes[i] = runtime\n",
    "    sumibd[i] = np.sum(df_ibd[\"lengthM\"])\n",
    "    \n",
    "dft = pd.DataFrame({\"iid1\":iid1, \"iid2\":iid2, \"runtime\":runtimes, \"sumIBD\":sumibd})"
   ]
  },
  {
   "cell_type": "code",
   "execution_count": 81,
   "metadata": {},
   "outputs": [
    {
     "name": "stdout",
     "output_type": "stream",
     "text": [
      "Saved 100 runtimes to: /n/groups/reich/hringbauer/git/hapBLOCK/output/tables/runtimes/linear100.tsv\n"
     ]
    }
   ],
   "source": [
    "savepath = \"/n/groups/reich/hringbauer/git/hapBLOCK/output/tables/runtimes/linear100.tsv\"\n",
    "dft.to_csv(savepath, sep=\"\\t\", index=False)\n",
    "print(f\"Saved {len(dft)} runtimes to: {savepath}\")"
   ]
  },
  {
   "cell_type": "markdown",
   "metadata": {},
   "source": [
    "## B) Do large scale testing of linear loading of pairs"
   ]
  },
  {
   "cell_type": "code",
   "execution_count": 88,
   "metadata": {},
   "outputs": [],
   "source": [
    "def run_time_random_batch(n=100):\n",
    "    \"\"\"Run Time of a Random Batch\"\"\"\n",
    "    print(f\"Sample Number: {n}\")\n",
    "    start = time()\n",
    "\n",
    "    pairs = [np.random.choice(df[\"iid\"], 2) for _ in range(n)]\n",
    "    iids = list(set(np.concatenate(pairs)))\n",
    "    \n",
    "    for ch in range(1,23):\n",
    "        print(f\"Running Chr.: {ch}...\")\n",
    "        df_ibd2 = hapBLOCK_chroms(folder_in=folder_in,\n",
    "                                     iids=iids, run_iids=pairs,\n",
    "                                     ch=ch, folder_out=\"\",\n",
    "                                     output=False, prefix_out='', logfile=False,\n",
    "                                     l_model='h5', e_model='haploid_gl2', h_model='FiveStateScaled', \n",
    "                                     t_model='standard', p_col=\"variants/AF_ALL\",\n",
    "                                     ibd_in=1, ibd_out=10, ibd_jump=400,\n",
    "                                     min_cm=6, cutoff_post=0.99, max_gap=0.0075,\n",
    "                                     processes=1)\n",
    "    runtime2 = time() - start\n",
    "    return runtime2"
   ]
  },
  {
   "cell_type": "code",
   "execution_count": null,
   "metadata": {},
   "outputs": [],
   "source": [
    "runtime2 = run_time_random_batch(n=10)"
   ]
  },
  {
   "cell_type": "code",
   "execution_count": 84,
   "metadata": {},
   "outputs": [
    {
     "data": {
      "text/plain": [
       "261.79200649261475"
      ]
     },
     "execution_count": 84,
     "metadata": {},
     "output_type": "execute_result"
    }
   ],
   "source": [
    "runtime2"
   ]
  },
  {
   "cell_type": "markdown",
   "metadata": {},
   "source": [
    "### Run the actual test"
   ]
  },
  {
   "cell_type": "code",
   "execution_count": null,
   "metadata": {},
   "outputs": [],
   "source": [
    "ns = [2, 5, 10, 20, 50, 100]\n",
    "runtimes  = [run_time_random_batch(n=n) for n in ns]\n",
    "dft2 = pd.DataFrame({\"#Pairs\":ns, \"runtime\":runtimes})"
   ]
  },
  {
   "cell_type": "code",
   "execution_count": 92,
   "metadata": {},
   "outputs": [
    {
     "name": "stdout",
     "output_type": "stream",
     "text": [
      "Saved 6 runtimes to: /n/groups/reich/hringbauer/git/hapBLOCK/output/tables/runtimes/pairs100.tsv\n"
     ]
    }
   ],
   "source": [
    "savepath = \"/n/groups/reich/hringbauer/git/hapBLOCK/output/tables/runtimes/pairs100.tsv\"\n",
    "dft2.to_csv(savepath, sep=\"\\t\", index=False)\n",
    "print(f\"Saved {len(dft2)} runtimes to: {savepath}\")"
   ]
  },
  {
   "cell_type": "markdown",
   "metadata": {},
   "source": [
    "## C) Run pairs of samples when loading batch of individuals"
   ]
  },
  {
   "cell_type": "code",
   "execution_count": 109,
   "metadata": {},
   "outputs": [],
   "source": [
    "def run_time_allpairs(n=10):\n",
    "    \"\"\"Run Time of a Random Batch\"\"\"\n",
    "    print(f\"Sample Number: {n}\")\n",
    "    start = time()\n",
    "\n",
    "    iids =  np.random.choice(df[\"iid\"], n)\n",
    "    pairs = list(combinations(iids, 2))\n",
    "    print(f\"Running {len(pairs)} Pairs of samples when loading {n} IIDs\")\n",
    "    \n",
    "    for ch in range(1,23):\n",
    "        print(f\"Running Chr.: {ch}...\")\n",
    "        df_ibd2 = hapBLOCK_chroms(folder_in=folder_in,\n",
    "                                     iids=iids, run_iids=pairs,\n",
    "                                     ch=ch, folder_out=\"\",\n",
    "                                     output=False, prefix_out='', logfile=False,\n",
    "                                     l_model='h5', e_model='haploid_gl2', h_model='FiveStateScaled', \n",
    "                                     t_model='standard', p_col=\"variants/AF_ALL\",\n",
    "                                     ibd_in=1, ibd_out=10, ibd_jump=400,\n",
    "                                     min_cm=6, cutoff_post=0.99, max_gap=0.0075,\n",
    "                                     processes=1)\n",
    "    runtime = time() - start\n",
    "    return runtime"
   ]
  },
  {
   "cell_type": "code",
   "execution_count": 110,
   "metadata": {},
   "outputs": [
    {
     "name": "stdout",
     "output_type": "stream",
     "text": [
      "Sample Number: 4\n",
      "Running 6 Pairs of samples when loading 4 IIDs\n",
      "Running Chr.: 1...\n",
      "Running Chr.: 2...\n",
      "Running Chr.: 3...\n",
      "Running Chr.: 4...\n",
      "Running Chr.: 5...\n",
      "Running Chr.: 6...\n",
      "Running Chr.: 7...\n",
      "Running Chr.: 8...\n",
      "Running Chr.: 9...\n",
      "Running Chr.: 10...\n",
      "Running Chr.: 11...\n",
      "Running Chr.: 12...\n",
      "Running Chr.: 13...\n",
      "Running Chr.: 14...\n",
      "Running Chr.: 15...\n",
      "Running Chr.: 16...\n",
      "Running Chr.: 17...\n",
      "Running Chr.: 18...\n",
      "Running Chr.: 19...\n",
      "Running Chr.: 20...\n",
      "Running Chr.: 21...\n",
      "Running Chr.: 22...\n"
     ]
    },
    {
     "data": {
      "text/plain": [
       "41.34640955924988"
      ]
     },
     "execution_count": 110,
     "metadata": {},
     "output_type": "execute_result"
    }
   ],
   "source": [
    "run_time_allpairs(4)"
   ]
  },
  {
   "cell_type": "code",
   "execution_count": null,
   "metadata": {},
   "outputs": [],
   "source": [
    "ns = np.arange(2,17,2)\n",
    "runtimes  = [run_time_random_batch(n=n) for n in ns]\n",
    "dft3 = pd.DataFrame({\"#samples\":ns, \"#pairs\":ns*(ns-1)/2, \"runtime\":runtimes})"
   ]
  },
  {
   "cell_type": "code",
   "execution_count": 125,
   "metadata": {},
   "outputs": [
    {
     "name": "stdout",
     "output_type": "stream",
     "text": [
      "Saved 8 runtimes to: /n/groups/reich/hringbauer/git/hapBLOCK/output/tables/runtimes/pairs_batches.tsv\n"
     ]
    }
   ],
   "source": [
    "savepath = \"/n/groups/reich/hringbauer/git/hapBLOCK/output/tables/runtimes/pairs_batches.tsv\"\n",
    "dft3.to_csv(savepath, sep=\"\\t\", index=False)\n",
    "print(f\"Saved {len(dft3)} runtimes to: {savepath}\")"
   ]
  },
  {
   "cell_type": "code",
   "execution_count": 126,
   "metadata": {},
   "outputs": [
    {
     "data": {
      "text/html": [
       "<div>\n",
       "<style scoped>\n",
       "    .dataframe tbody tr th:only-of-type {\n",
       "        vertical-align: middle;\n",
       "    }\n",
       "\n",
       "    .dataframe tbody tr th {\n",
       "        vertical-align: top;\n",
       "    }\n",
       "\n",
       "    .dataframe thead th {\n",
       "        text-align: right;\n",
       "    }\n",
       "</style>\n",
       "<table border=\"1\" class=\"dataframe\">\n",
       "  <thead>\n",
       "    <tr style=\"text-align: right;\">\n",
       "      <th></th>\n",
       "      <th>#samples</th>\n",
       "      <th>#pairs</th>\n",
       "      <th>runtime</th>\n",
       "    </tr>\n",
       "  </thead>\n",
       "  <tbody>\n",
       "    <tr>\n",
       "      <th>0</th>\n",
       "      <td>2</td>\n",
       "      <td>1.0</td>\n",
       "      <td>37.615235</td>\n",
       "    </tr>\n",
       "    <tr>\n",
       "      <th>1</th>\n",
       "      <td>4</td>\n",
       "      <td>6.0</td>\n",
       "      <td>76.368261</td>\n",
       "    </tr>\n",
       "    <tr>\n",
       "      <th>2</th>\n",
       "      <td>6</td>\n",
       "      <td>15.0</td>\n",
       "      <td>116.412563</td>\n",
       "    </tr>\n",
       "    <tr>\n",
       "      <th>3</th>\n",
       "      <td>8</td>\n",
       "      <td>28.0</td>\n",
       "      <td>159.284062</td>\n",
       "    </tr>\n",
       "    <tr>\n",
       "      <th>4</th>\n",
       "      <td>10</td>\n",
       "      <td>45.0</td>\n",
       "      <td>199.664037</td>\n",
       "    </tr>\n",
       "    <tr>\n",
       "      <th>5</th>\n",
       "      <td>12</td>\n",
       "      <td>66.0</td>\n",
       "      <td>220.769371</td>\n",
       "    </tr>\n",
       "    <tr>\n",
       "      <th>6</th>\n",
       "      <td>14</td>\n",
       "      <td>91.0</td>\n",
       "      <td>289.073272</td>\n",
       "    </tr>\n",
       "    <tr>\n",
       "      <th>7</th>\n",
       "      <td>16</td>\n",
       "      <td>120.0</td>\n",
       "      <td>306.492299</td>\n",
       "    </tr>\n",
       "  </tbody>\n",
       "</table>\n",
       "</div>"
      ],
      "text/plain": [
       "   #samples  #pairs     runtime\n",
       "0         2     1.0   37.615235\n",
       "1         4     6.0   76.368261\n",
       "2         6    15.0  116.412563\n",
       "3         8    28.0  159.284062\n",
       "4        10    45.0  199.664037\n",
       "5        12    66.0  220.769371\n",
       "6        14    91.0  289.073272\n",
       "7        16   120.0  306.492299"
      ]
     },
     "execution_count": 126,
     "metadata": {},
     "output_type": "execute_result"
    }
   ],
   "source": [
    "dft3"
   ]
  },
  {
   "cell_type": "markdown",
   "metadata": {},
   "source": [
    "# 2) Plot the runtime"
   ]
  },
  {
   "cell_type": "code",
   "execution_count": 129,
   "metadata": {},
   "outputs": [],
   "source": [
    "df1 = pd.read_csv(\"/n/groups/reich/hringbauer/git/hapBLOCK/output/tables/runtimes/linear100.tsv\", sep=\"\\t\")\n",
    "df2 = pd.read_csv(\"/n/groups/reich/hringbauer/git/hapBLOCK/output/tables/runtimes/pairs100.tsv\", sep=\"\\t\")\n",
    "df3 = pd.read_csv(\"/n/groups/reich/hringbauer/git/hapBLOCK/output/tables/runtimes/pairs_batches.tsv\", sep=\"\\t\")"
   ]
  },
  {
   "cell_type": "code",
   "execution_count": 130,
   "metadata": {},
   "outputs": [
    {
     "data": {
      "text/html": [
       "<div>\n",
       "<style scoped>\n",
       "    .dataframe tbody tr th:only-of-type {\n",
       "        vertical-align: middle;\n",
       "    }\n",
       "\n",
       "    .dataframe tbody tr th {\n",
       "        vertical-align: top;\n",
       "    }\n",
       "\n",
       "    .dataframe thead th {\n",
       "        text-align: right;\n",
       "    }\n",
       "</style>\n",
       "<table border=\"1\" class=\"dataframe\">\n",
       "  <thead>\n",
       "    <tr style=\"text-align: right;\">\n",
       "      <th></th>\n",
       "      <th>#samples</th>\n",
       "      <th>#pairs</th>\n",
       "      <th>runtime</th>\n",
       "    </tr>\n",
       "  </thead>\n",
       "  <tbody>\n",
       "    <tr>\n",
       "      <th>0</th>\n",
       "      <td>2</td>\n",
       "      <td>1.0</td>\n",
       "      <td>37.615235</td>\n",
       "    </tr>\n",
       "    <tr>\n",
       "      <th>1</th>\n",
       "      <td>4</td>\n",
       "      <td>6.0</td>\n",
       "      <td>76.368261</td>\n",
       "    </tr>\n",
       "    <tr>\n",
       "      <th>2</th>\n",
       "      <td>6</td>\n",
       "      <td>15.0</td>\n",
       "      <td>116.412563</td>\n",
       "    </tr>\n",
       "    <tr>\n",
       "      <th>3</th>\n",
       "      <td>8</td>\n",
       "      <td>28.0</td>\n",
       "      <td>159.284062</td>\n",
       "    </tr>\n",
       "    <tr>\n",
       "      <th>4</th>\n",
       "      <td>10</td>\n",
       "      <td>45.0</td>\n",
       "      <td>199.664037</td>\n",
       "    </tr>\n",
       "  </tbody>\n",
       "</table>\n",
       "</div>"
      ],
      "text/plain": [
       "   #samples  #pairs     runtime\n",
       "0         2     1.0   37.615235\n",
       "1         4     6.0   76.368261\n",
       "2         6    15.0  116.412563\n",
       "3         8    28.0  159.284062\n",
       "4        10    45.0  199.664037"
      ]
     },
     "execution_count": 130,
     "metadata": {},
     "output_type": "execute_result"
    }
   ],
   "source": [
    "df3.head()"
   ]
  },
  {
   "cell_type": "code",
   "execution_count": 176,
   "metadata": {},
   "outputs": [
    {
     "name": "stdout",
     "output_type": "stream",
     "text": [
      "Saved to /n/groups/reich/hringbauer/git/hapBLOCK/figs/runtime/runtime_benchmark.pdf\n"
     ]
    },
    {
     "data": {
      "image/png": "[encoded data removed]",
      "text/plain": [
       "<Figure size 360x360 with 1 Axes>"
      ]
     },
     "metadata": {
      "needs_background": "light"
     },
     "output_type": "display_data"
    }
   ],
   "source": [
    "fs=12\n",
    "lw = .5\n",
    "s = 50\n",
    "savepath = \"/n/groups/reich/hringbauer/git/hapBLOCK/figs/runtime/runtime_benchmark.pdf\"\n",
    "\n",
    "plt.figure(figsize=(5,5))\n",
    "ax = plt.gca()\n",
    "\n",
    "#ax.plot([0,df2[\"#Pairs\"].values[-1]],[0, df2[\"runtime\"].values[-1]], c=\"gray\", linestyle='dashed')\n",
    "ax.plot(df2[\"#Pairs\"].values, df2[\"runtime\"].values, c=\"#f72585\")\n",
    "ax.scatter(df2[\"#Pairs\"], df2[\"runtime\"], ec=\"k\", s=s, c=\"#f72585\", label=\"Separate Loading\", lw=lw)\n",
    "\n",
    "ax.plot(df3[\"#pairs\"].values, df3[\"runtime\"].values, c=\"#4361ee\")\n",
    "ax.scatter(df3[\"#pairs\"], df3[\"runtime\"], ec=\"k\", s=s, c=\"#4361ee\", label=\"Batch Loading\", lw=lw)\n",
    "\n",
    "ax.legend(loc=\"upper left\", fontsize=fs)\n",
    "ax.set_xlabel(\"Sample Pairs [count]\", fontsize=fs)\n",
    "ax.set_ylabel(\"Runtime [s]\", fontsize=fs)\n",
    "\n",
    "if len(savepath)>0:\n",
    "    plt.savefig(savepath, bbox_inches ='tight', pad_inches = 0, dpi=400)\n",
    "    print(f\"Saved to {savepath}\")\n",
    "    \n",
    "plt.show()"
   ]
  },
  {
   "cell_type": "markdown",
   "metadata": {},
   "source": [
    "# Find out Platform CPU"
   ]
  },
  {
   "cell_type": "code",
   "execution_count": 82,
   "metadata": {},
   "outputs": [],
   "source": [
    "import os, platform, subprocess, re\n",
    "\n",
    "def get_processor_name():\n",
    "    if platform.system() == \"Windows\":\n",
    "        print(\"Dindows\")\n",
    "        return platform.processor()\n",
    "    elif platform.system() == \"Linux\":\n",
    "        print(\"Linux\")\n",
    "        command = \"cat /proc/cpuinfo\"\n",
    "        all_info = subprocess.check_output(command, shell=True).decode().strip()\n",
    "        for line in all_info.split(\"\\n\"):\n",
    "            if \"model name\" in line:\n",
    "                return re.sub( \".*model name.*:\", \"\", line,1)\n",
    "    return \"\""
   ]
  },
  {
   "cell_type": "code",
   "execution_count": 83,
   "metadata": {},
   "outputs": [
    {
     "name": "stdout",
     "output_type": "stream",
     "text": [
      "Linux\n"
     ]
    },
    {
     "data": {
      "text/plain": [
       "' Intel(R) Xeon(R) CPU E5-2697 v3 @ 2.60GHz'"
      ]
     },
     "execution_count": 83,
     "metadata": {},
     "output_type": "execute_result"
    }
   ],
   "source": [
    "get_processor_name()"
   ]
  },
  {
   "cell_type": "markdown",
   "metadata": {},
   "source": [
    "# Area 51"
   ]
  },
  {
   "cell_type": "code",
   "execution_count": null,
   "metadata": {},
   "outputs": [],
   "source": []
  }
 ],
 "metadata": {
  "kernelspec": {
   "display_name": "Python 3",
   "language": "python",
   "name": "python3"
  },
  "language_info": {
   "codemirror_mode": {
    "name": "ipython",
    "version": 3
   },
   "file_extension": ".py",
   "mimetype": "text/x-python",
   "name": "python",
   "nbconvert_exporter": "python",
   "pygments_lexer": "ipython3",
   "version": "3.7.4"
  }
 },
 "nbformat": 4,
 "nbformat_minor": 4
}
