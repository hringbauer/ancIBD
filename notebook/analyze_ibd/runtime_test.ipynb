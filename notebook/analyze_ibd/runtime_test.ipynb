{
 "cells": [
  {
   "cell_type": "markdown",
   "metadata": {},
   "source": [
    "# Test the runtime of IBD calling"
   ]
  },
  {
   "cell_type": "code",
   "execution_count": 111,
   "metadata": {},
   "outputs": [
    {
     "name": "stdout",
     "output_type": "stream",
     "text": [
      "compute-e-16-229.o2.rc.hms.harvard.edu\n",
      "HSM O2 Computational partition detected.\n",
      "/n/groups/reich/hringbauer/git/ibd_euro\n"
     ]
    }
   ],
   "source": [
    "import socket as socket\n",
    "import os as os\n",
    "import sys as sys\n",
    "import numpy as np\n",
    "import pandas as pd\n",
    "import matplotlib.pyplot as plt\n",
    "from time import time\n",
    "from itertools import combinations\n",
    "\n",
    "socket_name = socket.gethostname()\n",
    "print(socket_name)\n",
    "\n",
    "if socket_name.startswith(\"compute-\"):\n",
    "    print(\"HSM O2 Computational partition detected.\")\n",
    "    path = \"/n/groups/reich/hringbauer/git/ibd_euro/\"  # The Path on Harvard Cluster\n",
    "else: \n",
    "    raise RuntimeWarning(\"Not compatible machine. Check!!\")\n",
    "\n",
    "os.chdir(path)  # Set the right Path (in line with Atom default)\n",
    "print(os.getcwd())\n",
    "\n",
    "#sys.path.append(\"/n/groups/reich/hringbauer/git/hapBLOCK/python3/\") \n",
    "#from main import HMM_Full\n",
    "#from ancIBD.run import hapBLOCK_chrom, run_plot_pair\n",
    "sys.path.insert(0,\"/n/groups/reich/hringbauer/git/hapBLOCK/package/\")  # hack to get development package first in path\n",
    "from ancIBD.run import hapBLOCK_chroms, hapBLOCK_times\n",
    "\n",
    "### hapsburgImport\n",
    "#sys.path.insert(0,\"/n/groups/reich/hringbauer/git/HAPSBURG/package/\")\n",
    "#from hapsburg.PackagesSupport.parallel_runs.helper_functions import combine_individual_data\n",
    "\n",
    "from matplotlib import rcParams\n",
    "rcParams['font.family'] = 'sans-serif'   # Set the default\n",
    "rcParams['font.sans-serif'] = ['Arial']  # Make sure to have the font installed (it is on cluster for Harald)"
   ]
  },
  {
   "cell_type": "markdown",
   "metadata": {},
   "source": [
    "# Do a single run for one pair"
   ]
  },
  {
   "cell_type": "code",
   "execution_count": 2,
   "metadata": {},
   "outputs": [
    {
     "name": "stdout",
     "output_type": "stream",
     "text": [
      "Loaded Meta File with 8818 Samples\n",
      "Minimum #1240k SNPs: 600109\n"
     ]
    }
   ],
   "source": [
    "### From the all.v1 run\n",
    "version = \"53.1\"\n",
    "folder_in =  f\"/n/groups/reich/hringbauer/git/hapBLOCK/data/hdf5/1240k_v{version}/ch\" # for hdf5\n",
    "path_meta =  f\"/n/groups/reich/hringbauer/git/ibd_euro/data/iid_lists/iid_ibd_v{version}.tsv\" # for iids\n",
    "\n",
    "df = pd.read_csv(path_meta, sep=\"\\t\")\n",
    "print(f'Loaded Meta File with {len(df)} Samples')\n",
    "min_cov = np.min(df[\"n_cov_snp\"])\n",
    "print(f\"Minimum #1240k SNPs: {min_cov}\")"
   ]
  },
  {
   "cell_type": "markdown",
   "metadata": {},
   "source": [
    "# 0) Define Timing functions for various tests (linear loading, batch loading)"
   ]
  },
  {
   "cell_type": "code",
   "execution_count": 3,
   "metadata": {},
   "outputs": [],
   "source": [
    "def time_2samples_wg(iid2, chs=range(1,23)):\n",
    "    \"\"\"Times two samples for their whole genome.\n",
    "    Return: Runtime, IBD df\"\"\"\n",
    "    start = time() # Start Clock\n",
    "    df_ibds = []\n",
    "    dft = pd.DataFrame(columns=[\"iid1\",\"iid2\", 'ch', \"t_load\", \"t_pp\", \"t_run\"])\n",
    "    \n",
    "    for ch in chs:\n",
    "        df_ibd, t1, t2, t3, t4 = hapBLOCK_times(folder_in=folder_in,\n",
    "                                     iids=iids2, run_iids=[iids2],\n",
    "                                     ch=ch, folder_out=\"\",\n",
    "                                     output=False, prefix_out='', logfile=False,\n",
    "                                     l_model='h5', e_model='haploid_gl2', h_model='FiveStateScaled', \n",
    "                                     t_model='standard', p_col=\"variants/AF_ALL\",\n",
    "                                     ibd_in=1, ibd_out=10, ibd_jump=400,\n",
    "                                     min_cm=6, cutoff_post=0.99, max_gap=0.0075,\n",
    "                                     processes=1)\n",
    "        dft.loc[len(dft)] = [iid2[0],iid2[1],ch, t2-t1, t3-t2, t4-t3]\n",
    "        df_ibds.append(df_ibd)\n",
    "    df_ibd = pd.concat(df_ibds)\n",
    "    runtime = time() - start # Runtime in s\n",
    "    \n",
    "    return runtime, df_ibd, dft\n",
    "\n",
    "\n",
    "def run_time_random_batch(n=100):\n",
    "    \"\"\"Run Time of a Random Batch\"\"\"\n",
    "    print(f\"Sample Number: {n}\")\n",
    "    \n",
    "\n",
    "    pairs = [np.random.choice(df[\"iid\"], 2) for _ in range(n)]\n",
    "    iids = list(set(np.concatenate(pairs)))\n",
    "    dft = pd.DataFrame(columns=[\"n\", 'ch', \"t_load\", \"t_pp\", \"t_run\", \"t_full\"])\n",
    "    \n",
    "    for ch in range(1,23):\n",
    "        print(f\"Running Chr.: {ch}...\")\n",
    "        \n",
    "        start = time()\n",
    "        df_ibd, t1, t2, t3, t4 = hapBLOCK_times(folder_in=folder_in,\n",
    "                                     iids=iids, run_iids=pairs,\n",
    "                                     ch=ch, folder_out=\"\",\n",
    "                                     output=False, prefix_out='', logfile=False,\n",
    "                                     l_model='h5', e_model='haploid_gl2', h_model='FiveStateScaled', \n",
    "                                     t_model='standard', p_col=\"variants/AF_ALL\",\n",
    "                                     ibd_in=1, ibd_out=10, ibd_jump=400,\n",
    "                                     min_cm=6, cutoff_post=0.99, max_gap=0.0075,\n",
    "                                     processes=1)\n",
    "        runtime2 = time() - start\n",
    "        dft.loc[len(dft)] = [n, ch, t2-t1, t3-t2, t4-t3, runtime2]\n",
    "    return dft\n",
    "\n",
    "\n",
    "def run_time_allpairs(n=10):\n",
    "    \"\"\"Run Time of a Random Batch\"\"\"\n",
    "    print(f\"Sample Number: {n}\")\n",
    "    \n",
    "\n",
    "    iids =  np.random.choice(df[\"iid\"], n)\n",
    "    pairs = list(combinations(iids, 2))\n",
    "    print(f\"Running {len(pairs)} Pairs of samples when loading {n} IIDs\")\n",
    "    dft = pd.DataFrame(columns=[\"n\", 'ch', \"t_load\", \"t_pp\", \"t_run\", \"t_full\"])\n",
    "    \n",
    "    \n",
    "    for ch in range(1,23):\n",
    "        print(f\"Running Chr.: {ch}...\")\n",
    "        start = time()\n",
    "        df_ibd2 = df_ibd, t1, t2, t3, t4 = hapBLOCK_times(folder_in=folder_in,\n",
    "                                     iids=iids, run_iids=pairs,\n",
    "                                     ch=ch, folder_out=\"\",\n",
    "                                     output=False, prefix_out='', logfile=False,\n",
    "                                     l_model='h5', e_model='haploid_gl2', h_model='FiveStateScaled', \n",
    "                                     t_model='standard', p_col=\"variants/AF_ALL\",\n",
    "                                     ibd_in=1, ibd_out=10, ibd_jump=400,\n",
    "                                     min_cm=6, cutoff_post=0.99, max_gap=0.0075,\n",
    "                                     processes=1)\n",
    "        runtime = time() - start\n",
    "        dft.loc[len(dft)] = [n, ch, t2-t1, t3-t2, t4-t3, runtime]\n",
    "    \n",
    "    return dft"
   ]
  },
  {
   "cell_type": "code",
   "execution_count": 32,
   "metadata": {},
   "outputs": [],
   "source": [
    "#iids2 = df[\"iid\"][:2]\n",
    "iids2 = [\"I22118\", \"I22122\"]\n",
    "runtime, df_ibd, dft = time_2samples_wg(iids2)"
   ]
  },
  {
   "cell_type": "markdown",
   "metadata": {},
   "source": [
    "## A) Do large scale testing of pairs"
   ]
  },
  {
   "cell_type": "code",
   "execution_count": null,
   "metadata": {},
   "outputs": [],
   "source": [
    "n = 100\n",
    "\n",
    "runtimes, sumibd, load_times, pp_times, ibd_times = np.zeros(n), np.zeros(n), np.zeros(n), np.zeros(n), np.zeros(n)\n",
    "iid1, iid2 = np.zeros(n, dtype=\"object\"), np.zeros(n, dtype=\"object\")\n",
    "\n",
    "for i in range(n):\n",
    "    print(f\"Doing run: {i}\")\n",
    "    iids2 = np.random.choice(df[\"iid\"], 2)\n",
    "    iid1[i], iid2[i] = iids2\n",
    "    runtime, df_ibd, dft = time_2samples_wg(iids2)\n",
    "    runtimes[i] = runtime\n",
    "    load_times[i] = np.sum(dft[\"t_load\"])\n",
    "    pp_times[i] = np.sum(dft[\"t_pp\"])\n",
    "    ibd_times[i] = np.sum(dft[\"t_run\"])\n",
    "    \n",
    "    sumibd[i] = np.sum(df_ibd[\"lengthM\"])\n",
    "    \n",
    "dft = pd.DataFrame({\"iid1\":iid1, \"iid2\":iid2, \"sumIBD\":sumibd, \"runtime\":runtimes, \n",
    "                    \"t_load\":load_times, \"t_pp\": pp_times, \"t_run\":ibd_times})"
   ]
  },
  {
   "cell_type": "code",
   "execution_count": null,
   "metadata": {},
   "outputs": [],
   "source": [
    "dft"
   ]
  },
  {
   "cell_type": "code",
   "execution_count": 38,
   "metadata": {},
   "outputs": [
    {
     "name": "stdout",
     "output_type": "stream",
     "text": [
      "Saved 100 runtimes to: /n/groups/reich/hringbauer/git/hapBLOCK/output/tables/runtimes/linear100b.tsv\n"
     ]
    }
   ],
   "source": [
    "savepath = \"/n/groups/reich/hringbauer/git/hapBLOCK/output/tables/runtimes/linear100b.tsv\"\n",
    "dft.to_csv(savepath, sep=\"\\t\", index=False)\n",
    "print(f\"Saved {len(dft)} runtimes to: {savepath}\")"
   ]
  },
  {
   "cell_type": "markdown",
   "metadata": {},
   "source": [
    "## B) Do large scale testing of linear loading of pairs"
   ]
  },
  {
   "cell_type": "code",
   "execution_count": null,
   "metadata": {},
   "outputs": [],
   "source": [
    "dft = run_time_random_batch(n=2)"
   ]
  },
  {
   "cell_type": "code",
   "execution_count": null,
   "metadata": {},
   "outputs": [],
   "source": [
    "dft"
   ]
  },
  {
   "cell_type": "markdown",
   "metadata": {},
   "source": [
    "### Run the full test for various batch sizes"
   ]
  },
  {
   "cell_type": "code",
   "execution_count": null,
   "metadata": {},
   "outputs": [],
   "source": [
    "ns = [2, 5, 10, 20, 50, 100]\n",
    "dfts  = [run_time_random_batch(n=n) for n in ns]\n",
    "dft2 = pd.concat(dfts)\n",
    "#dft2 = pd.DataFrame({\"#Pairs\":ns, \"runtime\":runtimes})"
   ]
  },
  {
   "cell_type": "code",
   "execution_count": null,
   "metadata": {},
   "outputs": [],
   "source": [
    "dft2#.groupby(\"n\")"
   ]
  },
  {
   "cell_type": "code",
   "execution_count": 64,
   "metadata": {},
   "outputs": [
    {
     "name": "stdout",
     "output_type": "stream",
     "text": [
      "Saved 132 runtimes to: /n/groups/reich/hringbauer/git/hapBLOCK/output/tables/runtimes/pairs100b.tsv\n"
     ]
    }
   ],
   "source": [
    "savepath = \"/n/groups/reich/hringbauer/git/hapBLOCK/output/tables/runtimes/pairs100b.tsv\"\n",
    "dft2.to_csv(savepath, sep=\"\\t\", index=False)\n",
    "print(f\"Saved {len(dft2)} runtimes to: {savepath}\")"
   ]
  },
  {
   "cell_type": "markdown",
   "metadata": {},
   "source": [
    "## C) Run pairs of samples when loading batch of individuals"
   ]
  },
  {
   "cell_type": "code",
   "execution_count": null,
   "metadata": {},
   "outputs": [],
   "source": [
    "dft = run_time_allpairs(4)"
   ]
  },
  {
   "cell_type": "markdown",
   "metadata": {},
   "source": [
    "## Do the array run"
   ]
  },
  {
   "cell_type": "code",
   "execution_count": null,
   "metadata": {},
   "outputs": [],
   "source": [
    "ns = np.arange(2,17,2)\n",
    "dfts  = [run_time_allpairs(n=n) for n in ns]\n",
    "dft3 = pd.concat(dfts)\n",
    "#dft3 = pd.DataFrame({\"#samples\":ns, \"#pairs\":ns*(ns-1)/2, \"runtime\":runtimes})"
   ]
  },
  {
   "cell_type": "code",
   "execution_count": 15,
   "metadata": {},
   "outputs": [
    {
     "name": "stdout",
     "output_type": "stream",
     "text": [
      "Saved 176 runtimes to: /n/groups/reich/hringbauer/git/hapBLOCK/output/tables/runtimes/pairs_batches16b.tsv\n"
     ]
    }
   ],
   "source": [
    "savepath = \"/n/groups/reich/hringbauer/git/hapBLOCK/output/tables/runtimes/pairs_batches16b.tsv\"\n",
    "dft3.to_csv(savepath, sep=\"\\t\", index=False)\n",
    "print(f\"Saved {len(dft3)} runtimes to: {savepath}\")"
   ]
  },
  {
   "cell_type": "markdown",
   "metadata": {},
   "source": [
    "### Do even bigger sets"
   ]
  },
  {
   "cell_type": "code",
   "execution_count": 116,
   "metadata": {},
   "outputs": [
    {
     "data": {
      "text/plain": [
       "array([ 2, 10, 18, 26, 34, 42, 50])"
      ]
     },
     "execution_count": 116,
     "metadata": {},
     "output_type": "execute_result"
    }
   ],
   "source": [
    "ns = np.arange(2,51,8)\n",
    "#ns = np.arange(2,17,2)\n",
    "ns"
   ]
  },
  {
   "cell_type": "code",
   "execution_count": null,
   "metadata": {},
   "outputs": [],
   "source": [
    "ns = np.arange(2,51,8)\n",
    "dfts  = [run_time_allpairs(n=n) for n in ns]\n",
    "dft3 = pd.concat(dfts)\n",
    "\n",
    "savepath = \"/n/groups/reich/hringbauer/git/hapBLOCK/output/tables/runtimes/pairs_batches50b.tsv\"\n",
    "dft3.to_csv(savepath, sep=\"\\t\", index=False)\n",
    "print(f\"Saved {len(dft3)} runtimes to: {savepath}\")"
   ]
  },
  {
   "cell_type": "markdown",
   "metadata": {},
   "source": [
    "# 2)a) Plot the runtime with the updated results"
   ]
  },
  {
   "cell_type": "code",
   "execution_count": null,
   "metadata": {},
   "outputs": [],
   "source": [
    "df1 = pd.read_csv(\"/n/groups/reich/hringbauer/git/hapBLOCK/output/tables/runtimes/linear100.tsv\", sep=\"\\t\")\n",
    "df2 = pd.read_csv(\"/n/groups/reich/hringbauer/git/hapBLOCK/output/tables/runtimes/pairs100.tsv\", sep=\"\\t\")\n",
    "df3 = pd.read_csv(\"/n/groups/reich/hringbauer/git/hapBLOCK/output/tables/runtimes/pairs_batches.tsv\", sep=\"\\t\")"
   ]
  },
  {
   "cell_type": "markdown",
   "metadata": {},
   "source": [
    "# 2) Plot the runtime"
   ]
  },
  {
   "cell_type": "code",
   "execution_count": 103,
   "metadata": {},
   "outputs": [],
   "source": [
    "df2 = pd.read_csv(\"/n/groups/reich/hringbauer/git/hapBLOCK/output/tables/runtimes/pairs100.tsv\", sep=\"\\t\")\n",
    "df3 = pd.read_csv(\"/n/groups/reich/hringbauer/git/hapBLOCK/output/tables/runtimes/pairs_batches.tsv\", sep=\"\\t\")"
   ]
  },
  {
   "cell_type": "code",
   "execution_count": 104,
   "metadata": {},
   "outputs": [
    {
     "data": {
      "text/html": [
       "<div>\n",
       "<style scoped>\n",
       "    .dataframe tbody tr th:only-of-type {\n",
       "        vertical-align: middle;\n",
       "    }\n",
       "\n",
       "    .dataframe tbody tr th {\n",
       "        vertical-align: top;\n",
       "    }\n",
       "\n",
       "    .dataframe thead th {\n",
       "        text-align: right;\n",
       "    }\n",
       "</style>\n",
       "<table border=\"1\" class=\"dataframe\">\n",
       "  <thead>\n",
       "    <tr style=\"text-align: right;\">\n",
       "      <th></th>\n",
       "      <th>#Pairs</th>\n",
       "      <th>runtime</th>\n",
       "    </tr>\n",
       "  </thead>\n",
       "  <tbody>\n",
       "    <tr>\n",
       "      <th>0</th>\n",
       "      <td>2</td>\n",
       "      <td>51.216418</td>\n",
       "    </tr>\n",
       "    <tr>\n",
       "      <th>1</th>\n",
       "      <td>5</td>\n",
       "      <td>113.760981</td>\n",
       "    </tr>\n",
       "    <tr>\n",
       "      <th>2</th>\n",
       "      <td>10</td>\n",
       "      <td>223.853577</td>\n",
       "    </tr>\n",
       "    <tr>\n",
       "      <th>3</th>\n",
       "      <td>20</td>\n",
       "      <td>407.942779</td>\n",
       "    </tr>\n",
       "    <tr>\n",
       "      <th>4</th>\n",
       "      <td>50</td>\n",
       "      <td>929.377592</td>\n",
       "    </tr>\n",
       "    <tr>\n",
       "      <th>5</th>\n",
       "      <td>100</td>\n",
       "      <td>1827.810927</td>\n",
       "    </tr>\n",
       "  </tbody>\n",
       "</table>\n",
       "</div>"
      ],
      "text/plain": [
       "   #Pairs      runtime\n",
       "0       2    51.216418\n",
       "1       5   113.760981\n",
       "2      10   223.853577\n",
       "3      20   407.942779\n",
       "4      50   929.377592\n",
       "5     100  1827.810927"
      ]
     },
     "execution_count": 104,
     "metadata": {},
     "output_type": "execute_result"
    }
   ],
   "source": [
    "df2"
   ]
  },
  {
   "cell_type": "code",
   "execution_count": 105,
   "metadata": {},
   "outputs": [],
   "source": [
    "def plot_runtimes_curve(ax=False, show=False,\n",
    "                        fs=12, lw = .5, s = 50, savepath=\"\"):\n",
    "    \"\"\"Plot the scaling of runtimes\"\"\"\n",
    "\n",
    "    if not ax:\n",
    "        plt.figure(figsize=(5,5))\n",
    "        ax = plt.gca()\n",
    "\n",
    "    #ax.plot([0,df2[\"#Pairs\"].values[-1]],[0, df2[\"runtime\"].values[-1]], c=\"gray\", linestyle='dashed')\n",
    "    ax.plot(df2[\"#Pairs\"].values, df2[\"runtime\"].values, c=\"#f72585\")\n",
    "    ax.scatter(df2[\"#Pairs\"], df2[\"runtime\"], ec=\"k\", s=s, c=\"#f72585\", label=\"Separate Loading\", lw=lw)\n",
    "\n",
    "    ax.plot(df3[\"#pairs\"].values, df3[\"runtime\"].values, c=\"#4361ee\")\n",
    "    ax.scatter(df3[\"#pairs\"], df3[\"runtime\"], ec=\"k\", s=s, c=\"#4361ee\", label=\"Batch Loading\", lw=lw)\n",
    "\n",
    "    leg = ax.legend(loc=\"upper left\", fontsize=fs)\n",
    "    ax.set_xlabel(\"Sample Pairs [# Pairs]\", fontsize=fs)\n",
    "    ax.set_ylabel(\"Runtime [s]\", fontsize=fs)\n",
    "    \n",
    "    ax.tick_params(axis='both', which='major', labelsize=fs*0.8)\n",
    "\n",
    "    if len(savepath)>0:\n",
    "        plt.savefig(savepath, bbox_inches ='tight', pad_inches = 0, dpi=400)\n",
    "        print(f\"Saved to {savepath}\")\n",
    "    if show:\n",
    "        plt.show()\n",
    "        \n",
    "def plot_runtime_bars(ax=False, show=False, fs=14, \n",
    "                      figsize=(8,8), width=0.8, \n",
    "                      ec = \"gray\", cs = [\"#0a9396\", \"#ee9b00\" ,\"#ae2012\"]):\n",
    "    \"\"\"Plot runtime bars (normalized per sample pair)\"\"\"\n",
    "\n",
    "    ns = df_rt.index.values.astype(\"int8\")\n",
    "    x = np.arange(len(ns))\n",
    "\n",
    "    if not ax:\n",
    "        plt.figure(figsize=figsize)\n",
    "        ax = plt.gca()\n",
    "\n",
    "    #ax.plot(ns, dft[\"t_full\"], \"o\")\n",
    "\n",
    "    ax.bar(x, df_rt[\"t_load\"], width, label='Loading', ec=ec, color=cs[0])\n",
    "    ax.bar(x, df_rt[\"t_pp\"], width, bottom=df_rt[\"t_load\"],\n",
    "           label='Pre-Procssing', ec=ec, color=cs[1])\n",
    "    ax.bar(x, df_rt[\"t_run\"], width, bottom=df_rt[\"t_load\"]+df_rt[\"t_pp\"],\n",
    "           label='IBD Screening', ec=ec, color=cs[2])\n",
    "\n",
    "    leg = ax.legend(loc=\"upper right\", fontsize=fs, title=\"Runtime\")\n",
    "    leg.get_title().set_fontsize(fs)\n",
    "\n",
    "\n",
    "    ax.set_xticks(x)\n",
    "    ax.set_xticklabels(ns)\n",
    "    ax.set_xlabel(\"Batch Size [# Inds]\", fontsize=fs)\n",
    "    ax.set_ylabel(\"Runtime per IBD pair [s]\", fontsize=fs)\n",
    "    ax.tick_params(axis='both', which='major', labelsize=fs*0.8)\n",
    "    \n",
    "    ax.plot()\n",
    "    if show:\n",
    "        plt.show()"
   ]
  },
  {
   "cell_type": "code",
   "execution_count": 106,
   "metadata": {},
   "outputs": [
    {
     "name": "stdout",
     "output_type": "stream",
     "text": [
      "Saved to /n/groups/reich/hringbauer/git/hapBLOCK/figs/runtime/runtime_benchmark.pdf\n"
     ]
    },
    {
     "data": {
      "image/png": "[encoded data removed]",
      "text/plain": [
       "<Figure size 360x360 with 1 Axes>"
      ]
     },
     "metadata": {
      "needs_background": "light"
     },
     "output_type": "display_data"
    }
   ],
   "source": [
    "plot_runtimes_curve(show=True, savepath = \"/n/groups/reich/hringbauer/git/hapBLOCK/figs/runtime/runtime_benchmark.pdf\")"
   ]
  },
  {
   "cell_type": "markdown",
   "metadata": {},
   "source": [
    "# 2) Make Benchmarks with load time and run time"
   ]
  },
  {
   "cell_type": "code",
   "execution_count": 122,
   "metadata": {},
   "outputs": [
    {
     "data": {
      "text/plain": [
       "1225.0"
      ]
     },
     "execution_count": 122,
     "metadata": {},
     "output_type": "execute_result"
    }
   ],
   "source": [
    "50*49/2"
   ]
  },
  {
   "cell_type": "code",
   "execution_count": 118,
   "metadata": {},
   "outputs": [],
   "source": [
    "dft = pd.read_csv(\"/n/groups/reich/hringbauer/git/hapBLOCK/output/tables/runtimes/pairs_batches50b.tsv\", sep=\"\\t\")\n",
    "dft = dft.groupby(\"n\").sum()\n",
    "ns = dft.index.values\n",
    "pairs = ns * (ns - 1) / 2\n",
    "df_rt = dft[[\"t_load\", \"t_pp\", \"t_run\", \"t_full\"]]/pairs[:,None]\n",
    "df_rt[\"pairs\"] = pairs"
   ]
  },
  {
   "cell_type": "code",
   "execution_count": 119,
   "metadata": {},
   "outputs": [
    {
     "data": {
      "text/html": [
       "<div>\n",
       "<style scoped>\n",
       "    .dataframe tbody tr th:only-of-type {\n",
       "        vertical-align: middle;\n",
       "    }\n",
       "\n",
       "    .dataframe tbody tr th {\n",
       "        vertical-align: top;\n",
       "    }\n",
       "\n",
       "    .dataframe thead th {\n",
       "        text-align: right;\n",
       "    }\n",
       "</style>\n",
       "<table border=\"1\" class=\"dataframe\">\n",
       "  <thead>\n",
       "    <tr style=\"text-align: right;\">\n",
       "      <th></th>\n",
       "      <th>t_load</th>\n",
       "      <th>t_pp</th>\n",
       "      <th>t_run</th>\n",
       "      <th>t_full</th>\n",
       "      <th>pairs</th>\n",
       "    </tr>\n",
       "    <tr>\n",
       "      <th>n</th>\n",
       "      <th></th>\n",
       "      <th></th>\n",
       "      <th></th>\n",
       "      <th></th>\n",
       "      <th></th>\n",
       "    </tr>\n",
       "  </thead>\n",
       "  <tbody>\n",
       "    <tr>\n",
       "      <th>2.0</th>\n",
       "      <td>31.500341</td>\n",
       "      <td>1.032163</td>\n",
       "      <td>0.423012</td>\n",
       "      <td>32.956646</td>\n",
       "      <td>1.0</td>\n",
       "    </tr>\n",
       "    <tr>\n",
       "      <th>10.0</th>\n",
       "      <td>2.744530</td>\n",
       "      <td>0.019219</td>\n",
       "      <td>0.349829</td>\n",
       "      <td>3.113623</td>\n",
       "      <td>45.0</td>\n",
       "    </tr>\n",
       "    <tr>\n",
       "      <th>18.0</th>\n",
       "      <td>1.327230</td>\n",
       "      <td>0.005336</td>\n",
       "      <td>0.347183</td>\n",
       "      <td>1.679778</td>\n",
       "      <td>153.0</td>\n",
       "    </tr>\n",
       "    <tr>\n",
       "      <th>26.0</th>\n",
       "      <td>0.921343</td>\n",
       "      <td>0.002522</td>\n",
       "      <td>0.347117</td>\n",
       "      <td>1.271008</td>\n",
       "      <td>325.0</td>\n",
       "    </tr>\n",
       "    <tr>\n",
       "      <th>34.0</th>\n",
       "      <td>0.748908</td>\n",
       "      <td>0.001462</td>\n",
       "      <td>0.349366</td>\n",
       "      <td>1.099761</td>\n",
       "      <td>561.0</td>\n",
       "    </tr>\n",
       "    <tr>\n",
       "      <th>42.0</th>\n",
       "      <td>0.559504</td>\n",
       "      <td>0.000965</td>\n",
       "      <td>0.350433</td>\n",
       "      <td>0.910928</td>\n",
       "      <td>861.0</td>\n",
       "    </tr>\n",
       "    <tr>\n",
       "      <th>50.0</th>\n",
       "      <td>0.422368</td>\n",
       "      <td>0.000645</td>\n",
       "      <td>0.352898</td>\n",
       "      <td>0.775936</td>\n",
       "      <td>1225.0</td>\n",
       "    </tr>\n",
       "  </tbody>\n",
       "</table>\n",
       "</div>"
      ],
      "text/plain": [
       "         t_load      t_pp     t_run     t_full   pairs\n",
       "n                                                     \n",
       "2.0   31.500341  1.032163  0.423012  32.956646     1.0\n",
       "10.0   2.744530  0.019219  0.349829   3.113623    45.0\n",
       "18.0   1.327230  0.005336  0.347183   1.679778   153.0\n",
       "26.0   0.921343  0.002522  0.347117   1.271008   325.0\n",
       "34.0   0.748908  0.001462  0.349366   1.099761   561.0\n",
       "42.0   0.559504  0.000965  0.350433   0.910928   861.0\n",
       "50.0   0.422368  0.000645  0.352898   0.775936  1225.0"
      ]
     },
     "execution_count": 119,
     "metadata": {},
     "output_type": "execute_result"
    }
   ],
   "source": [
    "df_rt"
   ]
  },
  {
   "cell_type": "code",
   "execution_count": 120,
   "metadata": {},
   "outputs": [
    {
     "data": {
      "image/png": "[encoded data removed]",
      "text/plain": [
       "<Figure size 576x576 with 1 Axes>"
      ]
     },
     "metadata": {
      "needs_background": "light"
     },
     "output_type": "display_data"
    }
   ],
   "source": [
    "plot_runtime_bars(show=True)"
   ]
  },
  {
   "cell_type": "code",
   "execution_count": 112,
   "metadata": {},
   "outputs": [
    {
     "name": "stdout",
     "output_type": "stream",
     "text": [
      "Saved to /n/groups/reich/hringbauer/git/hapBLOCK/figs/runtime/panel.v1.pdf\n"
     ]
    },
    {
     "data": {
      "image/png": "[encoded data removed]",
      "text/plain": [
       "<Figure size 864x432 with 2 Axes>"
      ]
     },
     "metadata": {
      "needs_background": "light"
     },
     "output_type": "display_data"
    }
   ],
   "source": [
    "savepath = \"/n/groups/reich/hringbauer/git/hapBLOCK/figs/runtime/panel.v1.pdf\"\n",
    "fs = 14\n",
    "\n",
    "fig =plt.figure(figsize=(12,6))\n",
    "gs = fig.add_gridspec(nrows=1, ncols=2, wspace=0.2)\n",
    "\n",
    "ax = fig.add_subplot(gs[0])\n",
    "ax1 = fig.add_subplot(gs[1])\n",
    "\n",
    "plot_runtimes_curve(ax=ax, fs=fs)\n",
    "plot_runtime_bars(ax=ax1, fs=fs)\n",
    "\n",
    "if len(savepath)>0:\n",
    "    plt.savefig(savepath, bbox_inches ='tight', pad_inches = 0, dpi=400)\n",
    "    print(f\"Saved to {savepath}\")\n",
    "                  \n",
    "plt.show()"
   ]
  },
  {
   "cell_type": "markdown",
   "metadata": {},
   "source": [
    "# Find out Platform CPU"
   ]
  },
  {
   "cell_type": "code",
   "execution_count": 82,
   "metadata": {},
   "outputs": [],
   "source": [
    "import os, platform, subprocess, re\n",
    "\n",
    "def get_processor_name():\n",
    "    if platform.system() == \"Windows\":\n",
    "        print(\"Dindows\")\n",
    "        return platform.processor()\n",
    "    elif platform.system() == \"Linux\":\n",
    "        print(\"Linux\")\n",
    "        command = \"cat /proc/cpuinfo\"\n",
    "        all_info = subprocess.check_output(command, shell=True).decode().strip()\n",
    "        for line in all_info.split(\"\\n\"):\n",
    "            if \"model name\" in line:\n",
    "                return re.sub( \".*model name.*:\", \"\", line,1)\n",
    "    return \"\""
   ]
  },
  {
   "cell_type": "code",
   "execution_count": 83,
   "metadata": {},
   "outputs": [
    {
     "name": "stdout",
     "output_type": "stream",
     "text": [
      "Linux\n"
     ]
    },
    {
     "data": {
      "text/plain": [
       "' Intel(R) Xeon(R) CPU E5-2697 v3 @ 2.60GHz'"
      ]
     },
     "execution_count": 83,
     "metadata": {},
     "output_type": "execute_result"
    }
   ],
   "source": [
    "get_processor_name()"
   ]
  },
  {
   "cell_type": "markdown",
   "metadata": {},
   "source": [
    "# Area 51"
   ]
  },
  {
   "cell_type": "code",
   "execution_count": 10,
   "metadata": {},
   "outputs": [],
   "source": [
    "from time import time"
   ]
  },
  {
   "cell_type": "code",
   "execution_count": 18,
   "metadata": {},
   "outputs": [
    {
     "data": {
      "text/plain": [
       "1.2364563941955566"
      ]
     },
     "execution_count": 18,
     "metadata": {},
     "output_type": "execute_result"
    }
   ],
   "source": [
    "start = time()\n",
    "a = np.arange(100000000)\n",
    "a = np.square(a)\n",
    "end = time()\n",
    "end - start"
   ]
  },
  {
   "cell_type": "code",
   "execution_count": null,
   "metadata": {},
   "outputs": [],
   "source": []
  }
 ],
 "metadata": {
  "kernelspec": {
   "display_name": "Python 3",
   "language": "python",
   "name": "python3"
  },
  "language_info": {
   "codemirror_mode": {
    "name": "ipython",
    "version": 3
   },
   "file_extension": ".py",
   "mimetype": "text/x-python",
   "name": "python",
   "nbconvert_exporter": "python",
   "pygments_lexer": "ipython3",
   "version": "3.7.4"
  }
 },
 "nbformat": 4,
 "nbformat_minor": 4
}
