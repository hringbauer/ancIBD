{
 "cells": [
  {
   "cell_type": "markdown",
   "metadata": {},
   "source": [
    "# Test the runtime of IBD calling"
   ]
  },
  {
   "cell_type": "code",
   "execution_count": 4,
   "metadata": {},
   "outputs": [
    {
     "name": "stdout",
     "output_type": "stream",
     "text": [
      "compute-a-16-170.o2.rc.hms.harvard.edu\n",
      "HSM O2 Computational partition detected.\n",
      "/n/groups/reich/hringbauer/git/ibd_euro\n"
     ]
    }
   ],
   "source": [
    "import socket as socket\n",
    "import os as os\n",
    "import sys as sys\n",
    "import numpy as np\n",
    "import pandas as pd\n",
    "import matplotlib.pyplot as plt\n",
    "from time import time\n",
    "from itertools import combinations\n",
    "\n",
    "socket_name = socket.gethostname()\n",
    "print(socket_name)\n",
    "\n",
    "if socket_name.startswith(\"compute-\"):\n",
    "    print(\"HSM O2 Computational partition detected.\")\n",
    "    path = \"/n/groups/reich/hringbauer/git/ibd_euro/\"  # The Path on Harvard Cluster\n",
    "else: \n",
    "    raise RuntimeWarning(\"Not compatible machine. Check!!\")\n",
    "\n",
    "os.chdir(path)  # Set the right Path (in line with Atom default)\n",
    "print(os.getcwd())\n",
    "\n",
    "#sys.path.append(\"/n/groups/reich/hringbauer/git/hapBLOCK/python3/\") \n",
    "#from main import HMM_Full\n",
    "#from ancIBD.run import hapBLOCK_chrom, run_plot_pair\n",
    "sys.path.insert(0,\"/n/groups/reich/hringbauer/git/hapBLOCK/package/\")  # hack to get development package first in path\n",
    "from ancIBD.run import hapBLOCK_chroms, hapBLOCK_times\n",
    "\n",
    "### hapsburgImport\n",
    "#sys.path.insert(0,\"/n/groups/reich/hringbauer/git/HAPSBURG/package/\")\n",
    "#from hapsburg.PackagesSupport.parallel_runs.helper_functions import combine_individual_data\n",
    "\n",
    "from matplotlib import rcParams\n",
    "rcParams['font.family'] = 'sans-serif'   # Set the default\n",
    "rcParams['font.sans-serif'] = ['Arial']  # Make sure to have the font installed (it is on cluster for Harald)"
   ]
  },
  {
   "cell_type": "markdown",
   "metadata": {},
   "source": [
    "# Do a single run for one pair"
   ]
  },
  {
   "cell_type": "code",
   "execution_count": 5,
   "metadata": {},
   "outputs": [
    {
     "name": "stdout",
     "output_type": "stream",
     "text": [
      "Loaded Meta File with 8818 Samples\n",
      "Minimum #1240k SNPs: 600109\n"
     ]
    }
   ],
   "source": [
    "### From the all.v1 run\n",
    "version = \"53.1\"\n",
    "folder_in =  f\"/n/groups/reich/hringbauer/git/hapBLOCK/data/hdf5/1240k_v{version}/ch\" # for hdf5\n",
    "path_meta =  f\"/n/groups/reich/hringbauer/git/ibd_euro/data/iid_lists/iid_ibd_v{version}.tsv\" # for iids\n",
    "\n",
    "df = pd.read_csv(path_meta, sep=\"\\t\")\n",
    "print(f'Loaded Meta File with {len(df)} Samples')\n",
    "min_cov = np.min(df[\"n_cov_snp\"])\n",
    "print(f\"Minimum #1240k SNPs: {min_cov}\")"
   ]
  },
  {
   "cell_type": "markdown",
   "metadata": {},
   "source": [
    "# 0) Define Timing functions for various tests (linear loading, batch loading)"
   ]
  },
  {
   "cell_type": "code",
   "execution_count": 30,
   "metadata": {},
   "outputs": [],
   "source": [
    "def time_2samples_wg(iid2, chs=range(1,23)):\n",
    "    \"\"\"Times two samples for their whole genome.\n",
    "    Return: Runtime, IBD df\"\"\"\n",
    "    start = time() # Start Clock\n",
    "    df_ibds = []\n",
    "    dft = pd.DataFrame(columns=[\"iid1\",\"iid2\", 'ch', \"t_load\", \"t_pp\", \"t_run\"])\n",
    "    \n",
    "    for ch in chs:\n",
    "        df_ibd, t1, t2, t3, t4 = hapBLOCK_times(folder_in=folder_in,\n",
    "                                     iids=iids2, run_iids=[iids2],\n",
    "                                     ch=ch, folder_out=\"\",\n",
    "                                     output=False, prefix_out='', logfile=False,\n",
    "                                     l_model='h5', e_model='haploid_gl2', h_model='FiveStateScaled', \n",
    "                                     t_model='standard', p_col=\"variants/AF_ALL\",\n",
    "                                     ibd_in=1, ibd_out=10, ibd_jump=400,\n",
    "                                     min_cm=6, cutoff_post=0.99, max_gap=0.0075,\n",
    "                                     processes=1)\n",
    "        dft.loc[len(dft)] = [iid2[0],iid2[1],ch, t2-t1, t3-t2, t4-t3]\n",
    "        df_ibds.append(df_ibd)\n",
    "    df_ibd = pd.concat(df_ibds)\n",
    "    runtime = time() - start # Runtime in s\n",
    "    \n",
    "    return runtime, df_ibd, dft\n",
    "\n",
    "\n",
    "def run_time_random_batch(n=100):\n",
    "    \"\"\"Run Time of a Random Batch\"\"\"\n",
    "    print(f\"Sample Number: {n}\")\n",
    "    \n",
    "\n",
    "    pairs = [np.random.choice(df[\"iid\"], 2) for _ in range(n)]\n",
    "    iids = list(set(np.concatenate(pairs)))\n",
    "    dft = pd.DataFrame(columns=[\"n\", 'ch', \"t_load\", \"t_pp\", \"t_run\", \"t_full\"])\n",
    "    \n",
    "    for ch in range(1,23):\n",
    "        print(f\"Running Chr.: {ch}...\")\n",
    "        \n",
    "        start = time()\n",
    "        df_ibd, t1, t2, t3, t4 = hapBLOCK_times(folder_in=folder_in,\n",
    "                                     iids=iids, run_iids=pairs,\n",
    "                                     ch=ch, folder_out=\"\",\n",
    "                                     output=False, prefix_out='', logfile=False,\n",
    "                                     l_model='h5', e_model='haploid_gl2', h_model='FiveStateScaled', \n",
    "                                     t_model='standard', p_col=\"variants/AF_ALL\",\n",
    "                                     ibd_in=1, ibd_out=10, ibd_jump=400,\n",
    "                                     min_cm=6, cutoff_post=0.99, max_gap=0.0075,\n",
    "                                     processes=1)\n",
    "        runtime2 = time() - start\n",
    "        dft.loc[len(dft)] = [n, ch, t2-t1, t3-t2, t4-t3, runtime2]\n",
    "    return dft\n",
    "\n",
    "\n",
    "def run_time_allpairs(n=10):\n",
    "    \"\"\"Run Time of a Random Batch\"\"\"\n",
    "    print(f\"Sample Number: {n}\")\n",
    "    \n",
    "\n",
    "    iids =  np.random.choice(df[\"iid\"], n)\n",
    "    pairs = list(combinations(iids, 2))\n",
    "    print(f\"Running {len(pairs)} Pairs of samples when loading {n} IIDs\")\n",
    "    dft = pd.DataFrame(columns=[\"n\", 'ch', \"t_load\", \"t_pp\", \"t_run\", \"t_full\"])\n",
    "    \n",
    "    \n",
    "    for ch in range(1,23):\n",
    "        print(f\"Running Chr.: {ch}...\")\n",
    "        start = time()\n",
    "        df_ibd2 = df_ibd, t1, t2, t3, t4 = hapBLOCK_times(folder_in=folder_in,\n",
    "                                     iids=iids, run_iids=pairs,\n",
    "                                     ch=ch, folder_out=\"\",\n",
    "                                     output=False, prefix_out='', logfile=False,\n",
    "                                     l_model='h5', e_model='haploid_gl2', h_model='FiveStateScaled', \n",
    "                                     t_model='standard', p_col=\"variants/AF_ALL\",\n",
    "                                     ibd_in=1, ibd_out=10, ibd_jump=400,\n",
    "                                     min_cm=6, cutoff_post=0.99, max_gap=0.0075,\n",
    "                                     processes=1)\n",
    "        runtime = time() - start\n",
    "        dft.loc[len(dft)] = [n, ch, t2-t1, t3-t2, t4-t3, runtime]\n",
    "    \n",
    "    return dft"
   ]
  },
  {
   "cell_type": "code",
   "execution_count": 32,
   "metadata": {},
   "outputs": [],
   "source": [
    "#iids2 = df[\"iid\"][:2]\n",
    "iids2 = [\"I22118\", \"I22122\"]\n",
    "runtime, df_ibd, dft = time_2samples_wg(iids2)"
   ]
  },
  {
   "cell_type": "markdown",
   "metadata": {},
   "source": [
    "## A) Do large scale testing of pairs"
   ]
  },
  {
   "cell_type": "code",
   "execution_count": null,
   "metadata": {},
   "outputs": [],
   "source": [
    "n = 100\n",
    "\n",
    "runtimes, sumibd, load_times, pp_times, ibd_times = np.zeros(n), np.zeros(n), np.zeros(n), np.zeros(n), np.zeros(n)\n",
    "iid1, iid2 = np.zeros(n, dtype=\"object\"), np.zeros(n, dtype=\"object\")\n",
    "\n",
    "for i in range(n):\n",
    "    print(f\"Doing run: {i}\")\n",
    "    iids2 = np.random.choice(df[\"iid\"], 2)\n",
    "    iid1[i], iid2[i] = iids2\n",
    "    runtime, df_ibd, dft = time_2samples_wg(iids2)\n",
    "    runtimes[i] = runtime\n",
    "    load_times[i] = np.sum(dft[\"t_load\"])\n",
    "    pp_times[i] = np.sum(dft[\"t_pp\"])\n",
    "    ibd_times[i] = np.sum(dft[\"t_run\"])\n",
    "    \n",
    "    sumibd[i] = np.sum(df_ibd[\"lengthM\"])\n",
    "    \n",
    "dft = pd.DataFrame({\"iid1\":iid1, \"iid2\":iid2, \"sumIBD\":sumibd, \"runtime\":runtimes, \n",
    "                    \"t_load\":load_times, \"t_pp\": pp_times, \"t_run\":ibd_times})"
   ]
  },
  {
   "cell_type": "code",
   "execution_count": null,
   "metadata": {},
   "outputs": [],
   "source": [
    "dft"
   ]
  },
  {
   "cell_type": "code",
   "execution_count": 38,
   "metadata": {},
   "outputs": [
    {
     "name": "stdout",
     "output_type": "stream",
     "text": [
      "Saved 100 runtimes to: /n/groups/reich/hringbauer/git/hapBLOCK/output/tables/runtimes/linear100b.tsv\n"
     ]
    }
   ],
   "source": [
    "savepath = \"/n/groups/reich/hringbauer/git/hapBLOCK/output/tables/runtimes/linear100b.tsv\"\n",
    "dft.to_csv(savepath, sep=\"\\t\", index=False)\n",
    "print(f\"Saved {len(dft)} runtimes to: {savepath}\")"
   ]
  },
  {
   "cell_type": "markdown",
   "metadata": {},
   "source": [
    "## B) Do large scale testing of linear loading of pairs"
   ]
  },
  {
   "cell_type": "code",
   "execution_count": null,
   "metadata": {},
   "outputs": [],
   "source": [
    "dft = run_time_random_batch(n=2)"
   ]
  },
  {
   "cell_type": "code",
   "execution_count": null,
   "metadata": {},
   "outputs": [],
   "source": [
    "dft"
   ]
  },
  {
   "cell_type": "markdown",
   "metadata": {},
   "source": [
    "### Run the full test for various batch sizes"
   ]
  },
  {
   "cell_type": "code",
   "execution_count": null,
   "metadata": {},
   "outputs": [],
   "source": [
    "ns = [2, 5, 10, 20, 50, 100]\n",
    "dfts  = [run_time_random_batch(n=n) for n in ns]\n",
    "dft2 = pd.concat(dfts)\n",
    "#dft2 = pd.DataFrame({\"#Pairs\":ns, \"runtime\":runtimes})"
   ]
  },
  {
   "cell_type": "code",
   "execution_count": null,
   "metadata": {},
   "outputs": [],
   "source": [
    "dft2#.groupby(\"n\")"
   ]
  },
  {
   "cell_type": "code",
   "execution_count": 64,
   "metadata": {},
   "outputs": [
    {
     "name": "stdout",
     "output_type": "stream",
     "text": [
      "Saved 132 runtimes to: /n/groups/reich/hringbauer/git/hapBLOCK/output/tables/runtimes/pairs100b.tsv\n"
     ]
    }
   ],
   "source": [
    "savepath = \"/n/groups/reich/hringbauer/git/hapBLOCK/output/tables/runtimes/pairs100b.tsv\"\n",
    "dft2.to_csv(savepath, sep=\"\\t\", index=False)\n",
    "print(f\"Saved {len(dft2)} runtimes to: {savepath}\")"
   ]
  },
  {
   "cell_type": "markdown",
   "metadata": {},
   "source": [
    "## C) Run pairs of samples when loading batch of individuals"
   ]
  },
  {
   "cell_type": "code",
   "execution_count": null,
   "metadata": {},
   "outputs": [],
   "source": [
    "dft = run_time_allpairs(4)"
   ]
  },
  {
   "cell_type": "markdown",
   "metadata": {},
   "source": [
    "## Do the array run"
   ]
  },
  {
   "cell_type": "code",
   "execution_count": 14,
   "metadata": {},
   "outputs": [
    {
     "name": "stdout",
     "output_type": "stream",
     "text": [
      "Sample Number: 2\n",
      "Running 1 Pairs of samples when loading 2 IIDs\n",
      "Running Chr.: 1...\n",
      "Running Chr.: 2...\n",
      "Running Chr.: 3...\n",
      "Running Chr.: 4...\n",
      "Running Chr.: 5...\n",
      "Running Chr.: 6...\n",
      "Running Chr.: 7...\n",
      "Running Chr.: 8...\n",
      "Running Chr.: 9...\n",
      "Running Chr.: 10...\n",
      "Running Chr.: 11...\n",
      "Running Chr.: 12...\n",
      "Running Chr.: 13...\n",
      "Running Chr.: 14...\n",
      "Running Chr.: 15...\n",
      "Running Chr.: 16...\n",
      "Running Chr.: 17...\n",
      "Running Chr.: 18...\n",
      "Running Chr.: 19...\n",
      "Running Chr.: 20...\n",
      "Running Chr.: 21...\n",
      "Running Chr.: 22...\n",
      "Sample Number: 4\n",
      "Running 6 Pairs of samples when loading 4 IIDs\n",
      "Running Chr.: 1...\n",
      "Running Chr.: 2...\n",
      "Running Chr.: 3...\n",
      "Running Chr.: 4...\n",
      "Running Chr.: 5...\n",
      "Running Chr.: 6...\n",
      "Running Chr.: 7...\n",
      "Running Chr.: 8...\n",
      "Running Chr.: 9...\n",
      "Running Chr.: 10...\n",
      "Running Chr.: 11...\n",
      "Running Chr.: 12...\n",
      "Running Chr.: 13...\n",
      "Running Chr.: 14...\n",
      "Running Chr.: 15...\n",
      "Running Chr.: 16...\n",
      "Running Chr.: 17...\n",
      "Running Chr.: 18...\n",
      "Running Chr.: 19...\n",
      "Running Chr.: 20...\n",
      "Running Chr.: 21...\n",
      "Running Chr.: 22...\n",
      "Sample Number: 6\n",
      "Running 15 Pairs of samples when loading 6 IIDs\n",
      "Running Chr.: 1...\n",
      "Running Chr.: 2...\n",
      "Running Chr.: 3...\n",
      "Running Chr.: 4...\n",
      "Running Chr.: 5...\n",
      "Running Chr.: 6...\n",
      "Running Chr.: 7...\n",
      "Running Chr.: 8...\n",
      "Running Chr.: 9...\n",
      "Running Chr.: 10...\n",
      "Running Chr.: 11...\n",
      "Running Chr.: 12...\n",
      "Running Chr.: 13...\n",
      "Running Chr.: 14...\n",
      "Running Chr.: 15...\n",
      "Running Chr.: 16...\n",
      "Running Chr.: 17...\n",
      "Running Chr.: 18...\n",
      "Running Chr.: 19...\n",
      "Running Chr.: 20...\n",
      "Running Chr.: 21...\n",
      "Running Chr.: 22...\n",
      "Sample Number: 8\n",
      "Running 28 Pairs of samples when loading 8 IIDs\n",
      "Running Chr.: 1...\n",
      "Running Chr.: 2...\n",
      "Running Chr.: 3...\n",
      "Running Chr.: 4...\n",
      "Running Chr.: 5...\n",
      "Running Chr.: 6...\n",
      "Running Chr.: 7...\n",
      "Running Chr.: 8...\n",
      "Running Chr.: 9...\n",
      "Running Chr.: 10...\n",
      "Running Chr.: 11...\n",
      "Running Chr.: 12...\n",
      "Running Chr.: 13...\n",
      "Running Chr.: 14...\n",
      "Running Chr.: 15...\n",
      "Running Chr.: 16...\n",
      "Running Chr.: 17...\n",
      "Running Chr.: 18...\n",
      "Running Chr.: 19...\n",
      "Running Chr.: 20...\n",
      "Running Chr.: 21...\n",
      "Running Chr.: 22...\n",
      "Sample Number: 10\n",
      "Running 45 Pairs of samples when loading 10 IIDs\n",
      "Running Chr.: 1...\n",
      "Running Chr.: 2...\n",
      "Running Chr.: 3...\n",
      "Running Chr.: 4...\n",
      "Running Chr.: 5...\n",
      "Running Chr.: 6...\n",
      "Running Chr.: 7...\n",
      "Running Chr.: 8...\n",
      "Running Chr.: 9...\n",
      "Running Chr.: 10...\n",
      "Running Chr.: 11...\n",
      "Running Chr.: 12...\n",
      "Running Chr.: 13...\n",
      "Running Chr.: 14...\n",
      "Running Chr.: 15...\n",
      "Running Chr.: 16...\n",
      "Running Chr.: 17...\n",
      "Running Chr.: 18...\n",
      "Running Chr.: 19...\n",
      "Running Chr.: 20...\n",
      "Running Chr.: 21...\n",
      "Running Chr.: 22...\n",
      "Sample Number: 12\n",
      "Running 66 Pairs of samples when loading 12 IIDs\n",
      "Running Chr.: 1...\n",
      "Running Chr.: 2...\n",
      "Running Chr.: 3...\n",
      "Running Chr.: 4...\n",
      "Running Chr.: 5...\n",
      "Running Chr.: 6...\n",
      "Running Chr.: 7...\n",
      "Running Chr.: 8...\n",
      "Running Chr.: 9...\n",
      "Running Chr.: 10...\n",
      "Running Chr.: 11...\n",
      "Running Chr.: 12...\n",
      "Running Chr.: 13...\n",
      "Running Chr.: 14...\n",
      "Running Chr.: 15...\n",
      "Running Chr.: 16...\n",
      "Running Chr.: 17...\n",
      "Running Chr.: 18...\n",
      "Running Chr.: 19...\n",
      "Running Chr.: 20...\n",
      "Running Chr.: 21...\n",
      "Running Chr.: 22...\n",
      "Sample Number: 14\n",
      "Running 91 Pairs of samples when loading 14 IIDs\n",
      "Running Chr.: 1...\n",
      "Running Chr.: 2...\n",
      "Running Chr.: 3...\n",
      "Running Chr.: 4...\n",
      "Running Chr.: 5...\n",
      "Running Chr.: 6...\n",
      "Running Chr.: 7...\n",
      "Running Chr.: 8...\n",
      "Running Chr.: 9...\n",
      "Running Chr.: 10...\n",
      "Running Chr.: 11...\n",
      "Running Chr.: 12...\n",
      "Running Chr.: 13...\n",
      "Running Chr.: 14...\n",
      "Running Chr.: 15...\n",
      "Running Chr.: 16...\n",
      "Running Chr.: 17...\n",
      "Running Chr.: 18...\n",
      "Running Chr.: 19...\n",
      "Running Chr.: 20...\n",
      "Running Chr.: 21...\n",
      "Running Chr.: 22...\n",
      "Sample Number: 16\n",
      "Running 120 Pairs of samples when loading 16 IIDs\n",
      "Running Chr.: 1...\n",
      "Running Chr.: 2...\n",
      "Running Chr.: 3...\n",
      "Running Chr.: 4...\n",
      "Running Chr.: 5...\n",
      "Running Chr.: 6...\n",
      "Running Chr.: 7...\n",
      "Running Chr.: 8...\n",
      "Running Chr.: 9...\n",
      "Running Chr.: 10...\n",
      "Running Chr.: 11...\n",
      "Running Chr.: 12...\n",
      "Running Chr.: 13...\n",
      "Running Chr.: 14...\n",
      "Running Chr.: 15...\n",
      "Running Chr.: 16...\n",
      "Running Chr.: 17...\n",
      "Running Chr.: 18...\n",
      "Running Chr.: 19...\n",
      "Running Chr.: 20...\n",
      "Running Chr.: 21...\n",
      "Running Chr.: 22...\n"
     ]
    }
   ],
   "source": [
    "ns = np.arange(2,17,2)\n",
    "dfts  = [run_time_allpairs(n=n) for n in ns]\n",
    "dft3 = pd.concat(dfts)\n",
    "#dft3 = pd.DataFrame({\"#samples\":ns, \"#pairs\":ns*(ns-1)/2, \"runtime\":runtimes})"
   ]
  },
  {
   "cell_type": "code",
   "execution_count": 15,
   "metadata": {},
   "outputs": [
    {
     "name": "stdout",
     "output_type": "stream",
     "text": [
      "Saved 176 runtimes to: /n/groups/reich/hringbauer/git/hapBLOCK/output/tables/runtimes/pairs_batches16b.tsv\n"
     ]
    }
   ],
   "source": [
    "savepath = \"/n/groups/reich/hringbauer/git/hapBLOCK/output/tables/runtimes/pairs_batches16b.tsv\"\n",
    "dft3.to_csv(savepath, sep=\"\\t\", index=False)\n",
    "print(f\"Saved {len(dft3)} runtimes to: {savepath}\")"
   ]
  },
  {
   "cell_type": "code",
   "execution_count": 17,
   "metadata": {},
   "outputs": [
    {
     "data": {
      "text/html": [
       "<div>\n",
       "<style scoped>\n",
       "    .dataframe tbody tr th:only-of-type {\n",
       "        vertical-align: middle;\n",
       "    }\n",
       "\n",
       "    .dataframe tbody tr th {\n",
       "        vertical-align: top;\n",
       "    }\n",
       "\n",
       "    .dataframe thead th {\n",
       "        text-align: right;\n",
       "    }\n",
       "</style>\n",
       "<table border=\"1\" class=\"dataframe\">\n",
       "  <thead>\n",
       "    <tr style=\"text-align: right;\">\n",
       "      <th></th>\n",
       "      <th>n</th>\n",
       "      <th>ch</th>\n",
       "      <th>t_load</th>\n",
       "      <th>t_pp</th>\n",
       "      <th>t_run</th>\n",
       "      <th>t_full</th>\n",
       "    </tr>\n",
       "  </thead>\n",
       "  <tbody>\n",
       "    <tr>\n",
       "      <th>0</th>\n",
       "      <td>2.0</td>\n",
       "      <td>1.0</td>\n",
       "      <td>3.745419</td>\n",
       "      <td>0.075758</td>\n",
       "      <td>0.030315</td>\n",
       "      <td>3.851553</td>\n",
       "    </tr>\n",
       "    <tr>\n",
       "      <th>1</th>\n",
       "      <td>2.0</td>\n",
       "      <td>2.0</td>\n",
       "      <td>1.976340</td>\n",
       "      <td>0.086004</td>\n",
       "      <td>0.041073</td>\n",
       "      <td>2.103526</td>\n",
       "    </tr>\n",
       "    <tr>\n",
       "      <th>2</th>\n",
       "      <td>2.0</td>\n",
       "      <td>3.0</td>\n",
       "      <td>1.732854</td>\n",
       "      <td>0.066535</td>\n",
       "      <td>0.028184</td>\n",
       "      <td>1.827632</td>\n",
       "    </tr>\n",
       "    <tr>\n",
       "      <th>3</th>\n",
       "      <td>2.0</td>\n",
       "      <td>4.0</td>\n",
       "      <td>1.056698</td>\n",
       "      <td>0.058291</td>\n",
       "      <td>0.022353</td>\n",
       "      <td>1.137397</td>\n",
       "    </tr>\n",
       "    <tr>\n",
       "      <th>4</th>\n",
       "      <td>2.0</td>\n",
       "      <td>5.0</td>\n",
       "      <td>0.948075</td>\n",
       "      <td>0.058091</td>\n",
       "      <td>0.026028</td>\n",
       "      <td>1.032258</td>\n",
       "    </tr>\n",
       "    <tr>\n",
       "      <th>...</th>\n",
       "      <td>...</td>\n",
       "      <td>...</td>\n",
       "      <td>...</td>\n",
       "      <td>...</td>\n",
       "      <td>...</td>\n",
       "      <td>...</td>\n",
       "    </tr>\n",
       "    <tr>\n",
       "      <th>17</th>\n",
       "      <td>16.0</td>\n",
       "      <td>18.0</td>\n",
       "      <td>5.947063</td>\n",
       "      <td>0.024659</td>\n",
       "      <td>1.229088</td>\n",
       "      <td>7.200960</td>\n",
       "    </tr>\n",
       "    <tr>\n",
       "      <th>18</th>\n",
       "      <td>16.0</td>\n",
       "      <td>19.0</td>\n",
       "      <td>2.587710</td>\n",
       "      <td>0.013285</td>\n",
       "      <td>0.789831</td>\n",
       "      <td>3.390967</td>\n",
       "    </tr>\n",
       "    <tr>\n",
       "      <th>19</th>\n",
       "      <td>16.0</td>\n",
       "      <td>20.0</td>\n",
       "      <td>3.560872</td>\n",
       "      <td>0.021203</td>\n",
       "      <td>1.086511</td>\n",
       "      <td>4.668732</td>\n",
       "    </tr>\n",
       "    <tr>\n",
       "      <th>20</th>\n",
       "      <td>16.0</td>\n",
       "      <td>21.0</td>\n",
       "      <td>3.154840</td>\n",
       "      <td>0.011736</td>\n",
       "      <td>0.736384</td>\n",
       "      <td>3.903102</td>\n",
       "    </tr>\n",
       "    <tr>\n",
       "      <th>21</th>\n",
       "      <td>16.0</td>\n",
       "      <td>22.0</td>\n",
       "      <td>2.157637</td>\n",
       "      <td>0.011758</td>\n",
       "      <td>0.724508</td>\n",
       "      <td>2.894045</td>\n",
       "    </tr>\n",
       "  </tbody>\n",
       "</table>\n",
       "<p>176 rows × 6 columns</p>\n",
       "</div>"
      ],
      "text/plain": [
       "       n    ch    t_load      t_pp     t_run    t_full\n",
       "0    2.0   1.0  3.745419  0.075758  0.030315  3.851553\n",
       "1    2.0   2.0  1.976340  0.086004  0.041073  2.103526\n",
       "2    2.0   3.0  1.732854  0.066535  0.028184  1.827632\n",
       "3    2.0   4.0  1.056698  0.058291  0.022353  1.137397\n",
       "4    2.0   5.0  0.948075  0.058091  0.026028  1.032258\n",
       "..   ...   ...       ...       ...       ...       ...\n",
       "17  16.0  18.0  5.947063  0.024659  1.229088  7.200960\n",
       "18  16.0  19.0  2.587710  0.013285  0.789831  3.390967\n",
       "19  16.0  20.0  3.560872  0.021203  1.086511  4.668732\n",
       "20  16.0  21.0  3.154840  0.011736  0.736384  3.903102\n",
       "21  16.0  22.0  2.157637  0.011758  0.724508  2.894045\n",
       "\n",
       "[176 rows x 6 columns]"
      ]
     },
     "execution_count": 17,
     "metadata": {},
     "output_type": "execute_result"
    }
   ],
   "source": [
    "dft3"
   ]
  },
  {
   "cell_type": "markdown",
   "metadata": {},
   "source": [
    "# 2)a) Plot the runtime with the updated results"
   ]
  },
  {
   "cell_type": "code",
   "execution_count": null,
   "metadata": {},
   "outputs": [],
   "source": [
    "df1 = pd.read_csv(\"/n/groups/reich/hringbauer/git/hapBLOCK/output/tables/runtimes/linear100.tsv\", sep=\"\\t\")\n",
    "df2 = pd.read_csv(\"/n/groups/reich/hringbauer/git/hapBLOCK/output/tables/runtimes/pairs100.tsv\", sep=\"\\t\")\n",
    "df3 = pd.read_csv(\"/n/groups/reich/hringbauer/git/hapBLOCK/output/tables/runtimes/pairs_batches.tsv\", sep=\"\\t\")"
   ]
  },
  {
   "cell_type": "code",
   "execution_count": null,
   "metadata": {},
   "outputs": [],
   "source": []
  },
  {
   "cell_type": "code",
   "execution_count": null,
   "metadata": {},
   "outputs": [],
   "source": []
  },
  {
   "cell_type": "markdown",
   "metadata": {},
   "source": [
    "# 2) Plot the runtime"
   ]
  },
  {
   "cell_type": "code",
   "execution_count": 3,
   "metadata": {},
   "outputs": [],
   "source": [
    "df2 = pd.read_csv(\"/n/groups/reich/hringbauer/git/hapBLOCK/output/tables/runtimes/pairs100.tsv\", sep=\"\\t\")\n",
    "df3 = pd.read_csv(\"/n/groups/reich/hringbauer/git/hapBLOCK/output/tables/runtimes/pairs_batches.tsv\", sep=\"\\t\")"
   ]
  },
  {
   "cell_type": "code",
   "execution_count": 7,
   "metadata": {},
   "outputs": [
    {
     "data": {
      "text/html": [
       "<div>\n",
       "<style scoped>\n",
       "    .dataframe tbody tr th:only-of-type {\n",
       "        vertical-align: middle;\n",
       "    }\n",
       "\n",
       "    .dataframe tbody tr th {\n",
       "        vertical-align: top;\n",
       "    }\n",
       "\n",
       "    .dataframe thead th {\n",
       "        text-align: right;\n",
       "    }\n",
       "</style>\n",
       "<table border=\"1\" class=\"dataframe\">\n",
       "  <thead>\n",
       "    <tr style=\"text-align: right;\">\n",
       "      <th></th>\n",
       "      <th>iid1</th>\n",
       "      <th>iid2</th>\n",
       "      <th>runtime</th>\n",
       "      <th>sumIBD</th>\n",
       "    </tr>\n",
       "  </thead>\n",
       "  <tbody>\n",
       "    <tr>\n",
       "      <th>0</th>\n",
       "      <td>I18207</td>\n",
       "      <td>I29668</td>\n",
       "      <td>23.835721</td>\n",
       "      <td>0.062472</td>\n",
       "    </tr>\n",
       "    <tr>\n",
       "      <th>1</th>\n",
       "      <td>VK174_noUDG.SG</td>\n",
       "      <td>I14669</td>\n",
       "      <td>26.379042</td>\n",
       "      <td>0.000000</td>\n",
       "    </tr>\n",
       "    <tr>\n",
       "      <th>2</th>\n",
       "      <td>I26455</td>\n",
       "      <td>MOK28A.SG</td>\n",
       "      <td>26.608083</td>\n",
       "      <td>0.000000</td>\n",
       "    </tr>\n",
       "    <tr>\n",
       "      <th>3</th>\n",
       "      <td>I7133.SG</td>\n",
       "      <td>I24813</td>\n",
       "      <td>23.660140</td>\n",
       "      <td>0.000000</td>\n",
       "    </tr>\n",
       "    <tr>\n",
       "      <th>4</th>\n",
       "      <td>I30843</td>\n",
       "      <td>I7864</td>\n",
       "      <td>27.667068</td>\n",
       "      <td>0.000000</td>\n",
       "    </tr>\n",
       "    <tr>\n",
       "      <th>...</th>\n",
       "      <td>...</td>\n",
       "      <td>...</td>\n",
       "      <td>...</td>\n",
       "      <td>...</td>\n",
       "    </tr>\n",
       "    <tr>\n",
       "      <th>95</th>\n",
       "      <td>I34375</td>\n",
       "      <td>I11547</td>\n",
       "      <td>19.545852</td>\n",
       "      <td>0.000000</td>\n",
       "    </tr>\n",
       "    <tr>\n",
       "      <th>96</th>\n",
       "      <td>N49_noUDG.SG</td>\n",
       "      <td>I31343</td>\n",
       "      <td>19.811297</td>\n",
       "      <td>0.000000</td>\n",
       "    </tr>\n",
       "    <tr>\n",
       "      <th>97</th>\n",
       "      <td>I22056</td>\n",
       "      <td>I14104</td>\n",
       "      <td>19.752601</td>\n",
       "      <td>0.094900</td>\n",
       "    </tr>\n",
       "    <tr>\n",
       "      <th>98</th>\n",
       "      <td>I6262</td>\n",
       "      <td>ELT006_merged</td>\n",
       "      <td>19.902245</td>\n",
       "      <td>0.000000</td>\n",
       "    </tr>\n",
       "    <tr>\n",
       "      <th>99</th>\n",
       "      <td>I12423</td>\n",
       "      <td>I20998</td>\n",
       "      <td>19.841730</td>\n",
       "      <td>0.000000</td>\n",
       "    </tr>\n",
       "  </tbody>\n",
       "</table>\n",
       "<p>100 rows × 4 columns</p>\n",
       "</div>"
      ],
      "text/plain": [
       "              iid1           iid2    runtime    sumIBD\n",
       "0           I18207         I29668  23.835721  0.062472\n",
       "1   VK174_noUDG.SG         I14669  26.379042  0.000000\n",
       "2           I26455      MOK28A.SG  26.608083  0.000000\n",
       "3         I7133.SG         I24813  23.660140  0.000000\n",
       "4           I30843          I7864  27.667068  0.000000\n",
       "..             ...            ...        ...       ...\n",
       "95          I34375         I11547  19.545852  0.000000\n",
       "96    N49_noUDG.SG         I31343  19.811297  0.000000\n",
       "97          I22056         I14104  19.752601  0.094900\n",
       "98           I6262  ELT006_merged  19.902245  0.000000\n",
       "99          I12423         I20998  19.841730  0.000000\n",
       "\n",
       "[100 rows x 4 columns]"
      ]
     },
     "execution_count": 7,
     "metadata": {},
     "output_type": "execute_result"
    }
   ],
   "source": [
    "df1"
   ]
  },
  {
   "cell_type": "code",
   "execution_count": 176,
   "metadata": {},
   "outputs": [
    {
     "name": "stdout",
     "output_type": "stream",
     "text": [
      "Saved to /n/groups/reich/hringbauer/git/hapBLOCK/figs/runtime/runtime_benchmark.pdf\n"
     ]
    },
    {
     "data": {
      "image/png": "[encoded data removed]",
      "text/plain": [
       "<Figure size 360x360 with 1 Axes>"
      ]
     },
     "metadata": {
      "needs_background": "light"
     },
     "output_type": "display_data"
    }
   ],
   "source": [
    "fs=12\n",
    "lw = .5\n",
    "s = 50\n",
    "savepath = \"/n/groups/reich/hringbauer/git/hapBLOCK/figs/runtime/runtime_benchmark.pdf\"\n",
    "\n",
    "plt.figure(figsize=(5,5))\n",
    "ax = plt.gca()\n",
    "\n",
    "#ax.plot([0,df2[\"#Pairs\"].values[-1]],[0, df2[\"runtime\"].values[-1]], c=\"gray\", linestyle='dashed')\n",
    "ax.plot(df2[\"#Pairs\"].values, df2[\"runtime\"].values, c=\"#f72585\")\n",
    "ax.scatter(df2[\"#Pairs\"], df2[\"runtime\"], ec=\"k\", s=s, c=\"#f72585\", label=\"Separate Loading\", lw=lw)\n",
    "\n",
    "ax.plot(df3[\"#pairs\"].values, df3[\"runtime\"].values, c=\"#4361ee\")\n",
    "ax.scatter(df3[\"#pairs\"], df3[\"runtime\"], ec=\"k\", s=s, c=\"#4361ee\", label=\"Batch Loading\", lw=lw)\n",
    "\n",
    "ax.legend(loc=\"upper left\", fontsize=fs)\n",
    "ax.set_xlabel(\"Sample Pairs [count]\", fontsize=fs)\n",
    "ax.set_ylabel(\"Runtime [s]\", fontsize=fs)\n",
    "\n",
    "if len(savepath)>0:\n",
    "    plt.savefig(savepath, bbox_inches ='tight', pad_inches = 0, dpi=400)\n",
    "    print(f\"Saved to {savepath}\")\n",
    "    \n",
    "plt.show()"
   ]
  },
  {
   "cell_type": "markdown",
   "metadata": {},
   "source": [
    "# 2) Make Benchmarks with load time and run time"
   ]
  },
  {
   "cell_type": "code",
   "execution_count": null,
   "metadata": {},
   "outputs": [],
   "source": []
  },
  {
   "cell_type": "markdown",
   "metadata": {},
   "source": [
    "# Find out Platform CPU"
   ]
  },
  {
   "cell_type": "code",
   "execution_count": 82,
   "metadata": {},
   "outputs": [],
   "source": [
    "import os, platform, subprocess, re\n",
    "\n",
    "def get_processor_name():\n",
    "    if platform.system() == \"Windows\":\n",
    "        print(\"Dindows\")\n",
    "        return platform.processor()\n",
    "    elif platform.system() == \"Linux\":\n",
    "        print(\"Linux\")\n",
    "        command = \"cat /proc/cpuinfo\"\n",
    "        all_info = subprocess.check_output(command, shell=True).decode().strip()\n",
    "        for line in all_info.split(\"\\n\"):\n",
    "            if \"model name\" in line:\n",
    "                return re.sub( \".*model name.*:\", \"\", line,1)\n",
    "    return \"\""
   ]
  },
  {
   "cell_type": "code",
   "execution_count": 83,
   "metadata": {},
   "outputs": [
    {
     "name": "stdout",
     "output_type": "stream",
     "text": [
      "Linux\n"
     ]
    },
    {
     "data": {
      "text/plain": [
       "' Intel(R) Xeon(R) CPU E5-2697 v3 @ 2.60GHz'"
      ]
     },
     "execution_count": 83,
     "metadata": {},
     "output_type": "execute_result"
    }
   ],
   "source": [
    "get_processor_name()"
   ]
  },
  {
   "cell_type": "markdown",
   "metadata": {},
   "source": [
    "# Area 51"
   ]
  },
  {
   "cell_type": "code",
   "execution_count": 10,
   "metadata": {},
   "outputs": [],
   "source": [
    "from time import time"
   ]
  },
  {
   "cell_type": "code",
   "execution_count": 18,
   "metadata": {},
   "outputs": [
    {
     "data": {
      "text/plain": [
       "1.2364563941955566"
      ]
     },
     "execution_count": 18,
     "metadata": {},
     "output_type": "execute_result"
    }
   ],
   "source": [
    "start = time()\n",
    "a = np.arange(100000000)\n",
    "a = np.square(a)\n",
    "end = time()\n",
    "end - start"
   ]
  },
  {
   "cell_type": "code",
   "execution_count": null,
   "metadata": {},
   "outputs": [],
   "source": []
  }
 ],
 "metadata": {
  "kernelspec": {
   "display_name": "Python 3",
   "language": "python",
   "name": "python3"
  },
  "language_info": {
   "codemirror_mode": {
    "name": "ipython",
    "version": 3
   },
   "file_extension": ".py",
   "mimetype": "text/x-python",
   "name": "python",
   "nbconvert_exporter": "python",
   "pygments_lexer": "ipython3",
   "version": "3.7.4"
  }
 },
 "nbformat": 4,
 "nbformat_minor": 4
}
