{
 "cells": [
  {
   "cell_type": "markdown",
   "id": "5e8aa376-0478-4b9e-81de-50d51978371d",
   "metadata": {},
   "source": [
    "# Filter IBD segment file to IBD in published data"
   ]
  },
  {
   "cell_type": "code",
   "execution_count": 1,
   "id": "18fcef1a-14ad-4599-96ea-5baf36271d50",
   "metadata": {
    "tags": []
   },
   "outputs": [
    {
     "name": "stdout",
     "output_type": "stream",
     "text": [
      "compute-a-17-66.o2.rc.hms.harvard.edu\n",
      "HSM O2 Computational partition detected.\n",
      "/n/groups/reich/hringbauer/git/hapBLOCK\n",
      "CPU Count: 32\n"
     ]
    }
   ],
   "source": [
    "import numpy as np\n",
    "import pandas as pd\n",
    "import matplotlib.pyplot as plt\n",
    "import matplotlib.gridspec as gridspec\n",
    "import socket as socket\n",
    "import os as os\n",
    "import sys as sys\n",
    "import multiprocessing as mp\n",
    "pd.set_option('display.max_columns', None)\n",
    "\n",
    "### For Arial Font\n",
    "from matplotlib import rcParams\n",
    "rcParams['font.family'] = 'sans-serif'   # Set the defaul\n",
    "### Make sure to have the font installed (it is on cluster for Harald)\n",
    "rcParams['font.sans-serif'] = ['Arial']\n",
    "\n",
    "socket_name = socket.gethostname()\n",
    "print(socket_name)\n",
    "\n",
    "if socket_name.startswith(\"compute-\"):\n",
    "    print(\"HSM O2 Computational partition detected.\")\n",
    "    path = \"/n/groups/reich/hringbauer/git/hapBLOCK/\"  # The Path on Harvard Cluster\n",
    "else: \n",
    "    raise RuntimeWarning(\"Not compatible machine. Check!!\")\n",
    "\n",
    "os.chdir(path)  # Set the right Path (in line with Atom default)\n",
    "print(os.getcwd())\n",
    "print(f\"CPU Count: {mp.cpu_count()}\")"
   ]
  },
  {
   "cell_type": "code",
   "execution_count": 5,
   "id": "3d691768-6245-46a2-8ac0-6211f720f907",
   "metadata": {
    "tags": []
   },
   "outputs": [],
   "source": [
    "df_pub = pd.read_csv(\"./output/tables/meta_scatter.v54.1.tsv\", sep=\"\\t\")\n",
    "df_ibd = pd.read_csv(\"/n/groups/reich/hringbauer/git/ibd_euro/output/ibd/ibd220.ibd.v54.1c.tsv\", sep=\"\\t\")"
   ]
  },
  {
   "cell_type": "markdown",
   "id": "8fa4754d-b263-48c3-abf3-ee8c94178ddc",
   "metadata": {},
   "source": [
    "### Filter to published only"
   ]
  },
  {
   "cell_type": "code",
   "execution_count": 8,
   "id": "fecc05b0-ca45-4e17-95fd-ab34a6e9f60e",
   "metadata": {
    "tags": []
   },
   "outputs": [],
   "source": [
    "iids = df_pub[\"iid\"].values"
   ]
  },
  {
   "cell_type": "code",
   "execution_count": 13,
   "id": "6583953b-cdee-4e4a-8a2f-3134cad1107a",
   "metadata": {
    "tags": []
   },
   "outputs": [
    {
     "name": "stdout",
     "output_type": "stream",
     "text": [
      "Filtering to 952655 / 4474056 IBD segments\n"
     ]
    }
   ],
   "source": [
    "idx1 = df_ibd[\"iid1\"].isin(iids) \n",
    "idx2 = df_ibd[\"iid2\"].isin(iids)\n",
    "idx = idx1 & idx2\n",
    "print(f\"Filtering to {np.sum(idx)} / {len(idx)} IBD segments\")\n",
    "\n",
    "df_ibd_filter = df_ibd[idx].copy().reset_index(drop=True)"
   ]
  },
  {
   "cell_type": "markdown",
   "id": "b25dcd74-a137-44ea-9e2b-d71d41ae2016",
   "metadata": {},
   "source": [
    "### Save filtered IBD"
   ]
  },
  {
   "cell_type": "code",
   "execution_count": 18,
   "id": "6fcd7334-c6b2-4e00-ad83-281791e96ecf",
   "metadata": {
    "tags": []
   },
   "outputs": [],
   "source": [
    "df_ibd_filter.to_csv(\"./output/dumpster/ibd220.ibd.v54.1.pub.tsv\", sep=\"\\t\", index=False)"
   ]
  },
  {
   "cell_type": "code",
   "execution_count": 16,
   "id": "d52a8b10-939b-48fc-8ec5-ca3ef858ffad",
   "metadata": {
    "tags": []
   },
   "outputs": [
    {
     "data": {
      "text/plain": [
       "952655"
      ]
     },
     "execution_count": 16,
     "metadata": {},
     "output_type": "execute_result"
    }
   ],
   "source": [
    "len(df_ibd_filter)"
   ]
  },
  {
   "cell_type": "code",
   "execution_count": 20,
   "id": "8e02866a-0623-4fa5-b34f-2f6479717443",
   "metadata": {
    "tags": []
   },
   "outputs": [
    {
     "data": {
      "text/html": [
       "<div>\n",
       "<style scoped>\n",
       "    .dataframe tbody tr th:only-of-type {\n",
       "        vertical-align: middle;\n",
       "    }\n",
       "\n",
       "    .dataframe tbody tr th {\n",
       "        vertical-align: top;\n",
       "    }\n",
       "\n",
       "    .dataframe thead th {\n",
       "        text-align: right;\n",
       "    }\n",
       "</style>\n",
       "<table border=\"1\" class=\"dataframe\">\n",
       "  <thead>\n",
       "    <tr style=\"text-align: right;\">\n",
       "      <th></th>\n",
       "      <th>Start</th>\n",
       "      <th>End</th>\n",
       "      <th>StartM</th>\n",
       "      <th>EndM</th>\n",
       "      <th>length</th>\n",
       "      <th>lengthM</th>\n",
       "      <th>ch</th>\n",
       "      <th>iid1</th>\n",
       "      <th>iid2</th>\n",
       "      <th>SNP_Dens</th>\n",
       "    </tr>\n",
       "  </thead>\n",
       "  <tbody>\n",
       "    <tr>\n",
       "      <th>0</th>\n",
       "      <td>10</td>\n",
       "      <td>88402</td>\n",
       "      <td>0.026208</td>\n",
       "      <td>2.862322</td>\n",
       "      <td>88392</td>\n",
       "      <td>2.836114</td>\n",
       "      <td>1</td>\n",
       "      <td>2H10.SG</td>\n",
       "      <td>2H17.SG</td>\n",
       "      <td>311.665882</td>\n",
       "    </tr>\n",
       "    <tr>\n",
       "      <th>1</th>\n",
       "      <td>12216</td>\n",
       "      <td>14643</td>\n",
       "      <td>0.564562</td>\n",
       "      <td>0.647934</td>\n",
       "      <td>2427</td>\n",
       "      <td>0.083372</td>\n",
       "      <td>1</td>\n",
       "      <td>2H10.SG</td>\n",
       "      <td>ROUQV.SG</td>\n",
       "      <td>291.104938</td>\n",
       "    </tr>\n",
       "    <tr>\n",
       "      <th>2</th>\n",
       "      <td>46792</td>\n",
       "      <td>48255</td>\n",
       "      <td>1.571421</td>\n",
       "      <td>1.636098</td>\n",
       "      <td>1463</td>\n",
       "      <td>0.064677</td>\n",
       "      <td>1</td>\n",
       "      <td>GBVPO.SG</td>\n",
       "      <td>GBVPK.SG</td>\n",
       "      <td>226.200968</td>\n",
       "    </tr>\n",
       "    <tr>\n",
       "      <th>3</th>\n",
       "      <td>46794</td>\n",
       "      <td>48253</td>\n",
       "      <td>1.571433</td>\n",
       "      <td>1.635991</td>\n",
       "      <td>1459</td>\n",
       "      <td>0.064558</td>\n",
       "      <td>1</td>\n",
       "      <td>GBVPO.SG</td>\n",
       "      <td>I2495_noUDG</td>\n",
       "      <td>225.998225</td>\n",
       "    </tr>\n",
       "    <tr>\n",
       "      <th>4</th>\n",
       "      <td>5067</td>\n",
       "      <td>6592</td>\n",
       "      <td>0.293235</td>\n",
       "      <td>0.357801</td>\n",
       "      <td>1525</td>\n",
       "      <td>0.064566</td>\n",
       "      <td>1</td>\n",
       "      <td>2H17.SG</td>\n",
       "      <td>ROUQV.SG</td>\n",
       "      <td>236.192473</td>\n",
       "    </tr>\n",
       "    <tr>\n",
       "      <th>...</th>\n",
       "      <td>...</td>\n",
       "      <td>...</td>\n",
       "      <td>...</td>\n",
       "      <td>...</td>\n",
       "      <td>...</td>\n",
       "      <td>...</td>\n",
       "      <td>...</td>\n",
       "      <td>...</td>\n",
       "      <td>...</td>\n",
       "      <td>...</td>\n",
       "    </tr>\n",
       "    <tr>\n",
       "      <th>952650</th>\n",
       "      <td>19763</td>\n",
       "      <td>22216</td>\n",
       "      <td>0.833928</td>\n",
       "      <td>0.931492</td>\n",
       "      <td>2453</td>\n",
       "      <td>0.097564</td>\n",
       "      <td>17</td>\n",
       "      <td>VERT104B</td>\n",
       "      <td>VERT100B</td>\n",
       "      <td>251.424752</td>\n",
       "    </tr>\n",
       "    <tr>\n",
       "      <th>952651</th>\n",
       "      <td>8696</td>\n",
       "      <td>12447</td>\n",
       "      <td>0.453640</td>\n",
       "      <td>0.600510</td>\n",
       "      <td>3751</td>\n",
       "      <td>0.146870</td>\n",
       "      <td>17</td>\n",
       "      <td>R10670.SG</td>\n",
       "      <td>A181028</td>\n",
       "      <td>255.395951</td>\n",
       "    </tr>\n",
       "    <tr>\n",
       "      <th>952652</th>\n",
       "      <td>19492</td>\n",
       "      <td>21407</td>\n",
       "      <td>0.829187</td>\n",
       "      <td>0.898765</td>\n",
       "      <td>1915</td>\n",
       "      <td>0.069578</td>\n",
       "      <td>17</td>\n",
       "      <td>C1367</td>\n",
       "      <td>C3622</td>\n",
       "      <td>275.230472</td>\n",
       "    </tr>\n",
       "    <tr>\n",
       "      <th>952653</th>\n",
       "      <td>7186</td>\n",
       "      <td>8991</td>\n",
       "      <td>0.389148</td>\n",
       "      <td>0.449187</td>\n",
       "      <td>1805</td>\n",
       "      <td>0.060039</td>\n",
       "      <td>18</td>\n",
       "      <td>BSK002</td>\n",
       "      <td>A181028</td>\n",
       "      <td>300.637850</td>\n",
       "    </tr>\n",
       "    <tr>\n",
       "      <th>952654</th>\n",
       "      <td>8169</td>\n",
       "      <td>10049</td>\n",
       "      <td>0.419037</td>\n",
       "      <td>0.495502</td>\n",
       "      <td>1880</td>\n",
       "      <td>0.076465</td>\n",
       "      <td>22</td>\n",
       "      <td>JpKo2.SG</td>\n",
       "      <td>JpOd6.SG</td>\n",
       "      <td>245.864182</td>\n",
       "    </tr>\n",
       "  </tbody>\n",
       "</table>\n",
       "<p>952655 rows × 10 columns</p>\n",
       "</div>"
      ],
      "text/plain": [
       "        Start    End    StartM      EndM  length   lengthM  ch       iid1  \\\n",
       "0          10  88402  0.026208  2.862322   88392  2.836114   1    2H10.SG   \n",
       "1       12216  14643  0.564562  0.647934    2427  0.083372   1    2H10.SG   \n",
       "2       46792  48255  1.571421  1.636098    1463  0.064677   1   GBVPO.SG   \n",
       "3       46794  48253  1.571433  1.635991    1459  0.064558   1   GBVPO.SG   \n",
       "4        5067   6592  0.293235  0.357801    1525  0.064566   1    2H17.SG   \n",
       "...       ...    ...       ...       ...     ...       ...  ..        ...   \n",
       "952650  19763  22216  0.833928  0.931492    2453  0.097564  17   VERT104B   \n",
       "952651   8696  12447  0.453640  0.600510    3751  0.146870  17  R10670.SG   \n",
       "952652  19492  21407  0.829187  0.898765    1915  0.069578  17      C1367   \n",
       "952653   7186   8991  0.389148  0.449187    1805  0.060039  18     BSK002   \n",
       "952654   8169  10049  0.419037  0.495502    1880  0.076465  22   JpKo2.SG   \n",
       "\n",
       "               iid2    SNP_Dens  \n",
       "0           2H17.SG  311.665882  \n",
       "1          ROUQV.SG  291.104938  \n",
       "2          GBVPK.SG  226.200968  \n",
       "3       I2495_noUDG  225.998225  \n",
       "4          ROUQV.SG  236.192473  \n",
       "...             ...         ...  \n",
       "952650     VERT100B  251.424752  \n",
       "952651      A181028  255.395951  \n",
       "952652        C3622  275.230472  \n",
       "952653      A181028  300.637850  \n",
       "952654     JpOd6.SG  245.864182  \n",
       "\n",
       "[952655 rows x 10 columns]"
      ]
     },
     "execution_count": 20,
     "metadata": {},
     "output_type": "execute_result"
    }
   ],
   "source": [
    "pd.read_csv(\"./output/dumpster/ibd220.ibd.v54.1.pub.tsv\", sep=\"\\t\")"
   ]
  },
  {
   "cell_type": "code",
   "execution_count": null,
   "id": "9ec95b85-08d9-47a4-8bcc-a078507e2f78",
   "metadata": {},
   "outputs": [],
   "source": []
  }
 ],
 "metadata": {
  "kernelspec": {
   "display_name": "Python 3",
   "language": "python",
   "name": "python3"
  },
  "language_info": {
   "codemirror_mode": {
    "name": "ipython",
    "version": 3
   },
   "file_extension": ".py",
   "mimetype": "text/x-python",
   "name": "python",
   "nbconvert_exporter": "python",
   "pygments_lexer": "ipython3",
   "version": "3.7.4"
  }
 },
 "nbformat": 4,
 "nbformat_minor": 5
}
