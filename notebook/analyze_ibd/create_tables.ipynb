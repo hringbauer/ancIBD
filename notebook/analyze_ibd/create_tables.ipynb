{
 "cells": [
  {
   "cell_type": "markdown",
   "metadata": {},
   "source": [
    "# Create Tables for Supplemental Material of ancIBD manuscript"
   ]
  },
  {
   "cell_type": "code",
   "execution_count": 2,
   "metadata": {},
   "outputs": [
    {
     "name": "stdout",
     "output_type": "stream",
     "text": [
      "compute-a-16-101.o2.rc.hms.harvard.edu\n",
      "HSM Computational partition detected.\n",
      "/n/groups/reich/hringbauer/git/ibd_euro\n",
      "CPU Count: 32\n"
     ]
    }
   ],
   "source": [
    "import numpy as np\n",
    "import pandas as pd\n",
    "import os\n",
    "import sys as sys\n",
    "import socket\n",
    "import matplotlib.pyplot as plt\n",
    "import multiprocessing as mp\n",
    "import itertools as it\n",
    "import pandas as pd\n",
    "#from adjustText import adjust_text\n",
    "\n",
    "import warnings\n",
    "warnings.filterwarnings(\"ignore\") # Great Style\n",
    "socket_name = socket.gethostname()\n",
    "print(socket_name)\n",
    "\n",
    "if socket_name.startswith(\"compute-\"):\n",
    "    print(\"HSM Computational partition detected.\")\n",
    "    path = \"/n/groups/reich/hringbauer/git/ibd_euro/\"  # The Path on Midway Cluster\n",
    "else:\n",
    "    raise RuntimeWarning(\"No compatible machine. Check!!\")\n",
    "\n",
    "os.chdir(path)  # Set the right Path (in line with Atom default)\n",
    "# Show the current working directory. Should be HAPSBURG/Notebooks/ParallelRuns\n",
    "\n",
    "print(os.getcwd())\n",
    "print(f\"CPU Count: {mp.cpu_count()}\")\n",
    "\n",
    "#sys.path.insert(0,\"/n/groups/reich/hringbauer/git/hapBLOCK/package/\")  # hack to get development package first in path\n",
    "#from ancIBD.run import hapBLOCK_chroms\n",
    "#from ancIBD.IO.batch_run import get_run_params_from_i, save_ibd_df\n",
    "#from ancIBD.IO.ind_ibd import create_ind_ibd_df, ind_all_ibd_df"
   ]
  },
  {
   "cell_type": "markdown",
   "metadata": {},
   "source": [
    "# Supplemental Table of all published samples"
   ]
  },
  {
   "cell_type": "code",
   "execution_count": 20,
   "metadata": {},
   "outputs": [
    {
     "name": "stdout",
     "output_type": "stream",
     "text": [
      "Published: 4274/10156\n"
     ]
    }
   ],
   "source": [
    "version = \"54.1\"\n",
    "path_meta =  f\"/n/groups/reich/hringbauer/git/ibd_euro/data/iid_lists/iid_ibd_v{version}.tsv\" # for iids\n",
    "\n",
    "df = pd.read_csv(path_meta, sep=\"\\t\")\n",
    "idx = df[\"study\"].str.contains(\"Unpublished|unpublished\")\n",
    "\n",
    "dft = df[~idx].copy() # The Published Indiviudals\n",
    "\n",
    "print(f\"Published: {len(dft)}/{len(df)}\")"
   ]
  },
  {
   "cell_type": "code",
   "execution_count": 16,
   "metadata": {},
   "outputs": [
    {
     "data": {
      "text/plain": [
       "PattersonNature2021                       440\n",
       "LazaridisAlpaslanRoodenbergScience2022    364\n",
       "MargaryanWillerslevNature2020             314\n",
       "MarotiTorokCurrBio2022                    267\n",
       "NarasimhanPattersonScience2019            220\n",
       "AntoniobioRxiv2022                        179\n",
       "GretzingerNature2022                      148\n",
       "OlaldeNature2018                          139\n",
       "AntonioGaoMootsScience2019                130\n",
       "PapacScienceAdvances2021                  119\n",
       "JeongCell2020                             118\n",
       "DamgaardNature2018                        113\n",
       "KumarFuScience2022                         78\n",
       "WangNature2021                             74\n",
       "MathiesonNature2018                        65\n",
       "GnecchiRusconeScienceAdvances2021          61\n",
       "DamgaardScience2018                        60\n",
       "GnecchiRusconeCell2022                     54\n",
       "AmorimNatureCommunications2018             44\n",
       "AllentoftNature2015                        43\n",
       "Name: study, dtype: int64"
      ]
     },
     "execution_count": 16,
     "metadata": {},
     "output_type": "execute_result"
    }
   ],
   "source": [
    "df_studies = dft[\"study\"].value_counts()[:20]"
   ]
  },
  {
   "cell_type": "code",
   "execution_count": 22,
   "metadata": {},
   "outputs": [],
   "source": [
    "dft.to_csv(f\"/n/groups/reich/hringbauer/git/hapBLOCK/output/tables/publshed_iids.{version}.tsv\", sep=\"\\t\", index=False)"
   ]
  },
  {
   "cell_type": "code",
   "execution_count": null,
   "metadata": {},
   "outputs": [],
   "source": []
  }
 ],
 "metadata": {
  "kernelspec": {
   "display_name": "Python 3",
   "language": "python",
   "name": "python3"
  },
  "language_info": {
   "codemirror_mode": {
    "name": "ipython",
    "version": 3
   },
   "file_extension": ".py",
   "mimetype": "text/x-python",
   "name": "python",
   "nbconvert_exporter": "python",
   "pygments_lexer": "ipython3",
   "version": "3.7.4"
  }
 },
 "nbformat": 4,
 "nbformat_minor": 4
}
