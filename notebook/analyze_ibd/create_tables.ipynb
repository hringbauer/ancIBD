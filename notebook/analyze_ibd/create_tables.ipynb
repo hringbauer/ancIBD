{
 "cells": [
  {
   "cell_type": "markdown",
   "metadata": {},
   "source": [
    "# Create Tables for Supplemental Material of ancIBD manuscript"
   ]
  },
  {
   "cell_type": "code",
   "execution_count": 9,
   "metadata": {},
   "outputs": [
    {
     "name": "stdout",
     "output_type": "stream",
     "text": [
      "compute-a-16-88.o2.rc.hms.harvard.edu\n",
      "HSM Computational partition detected.\n",
      "/n/groups/reich/hringbauer/git/ibd_euro\n",
      "CPU Count: 32\n"
     ]
    }
   ],
   "source": [
    "import numpy as np\n",
    "import pandas as pd\n",
    "import os\n",
    "import sys as sys\n",
    "import socket\n",
    "import matplotlib.pyplot as plt\n",
    "import multiprocessing as mp\n",
    "import itertools as it\n",
    "import pandas as pd\n",
    "#from adjustText import adjust_text\n",
    "\n",
    "import warnings\n",
    "warnings.filterwarnings(\"ignore\") # Great Style\n",
    "socket_name = socket.gethostname()\n",
    "print(socket_name)\n",
    "\n",
    "if socket_name.startswith(\"compute-\"):\n",
    "    print(\"HSM Computational partition detected.\")\n",
    "    path = \"/n/groups/reich/hringbauer/git/ibd_euro/\"  # The Path on Midway Cluster\n",
    "else:\n",
    "    raise RuntimeWarning(\"No compatible machine. Check!!\")\n",
    "\n",
    "os.chdir(path)  # Set the right Path (in line with Atom default)\n",
    "# Show the current working directory. Should be HAPSBURG/Notebooks/ParallelRuns\n",
    "\n",
    "print(os.getcwd())\n",
    "print(f\"CPU Count: {mp.cpu_count()}\")\n",
    "\n",
    "#sys.path.insert(0,\"/n/groups/reich/hringbauer/git/hapBLOCK/package/\")  # hack to get development package first in path\n",
    "#from ancIBD.run import hapBLOCK_chroms\n",
    "#from ancIBD.IO.batch_run import get_run_params_from_i, save_ibd_df\n",
    "#from ancIBD.IO.ind_ibd import create_ind_ibd_df, ind_all_ibd_df"
   ]
  },
  {
   "cell_type": "code",
   "execution_count": 17,
   "metadata": {},
   "outputs": [],
   "source": [
    "version = \"54.1\""
   ]
  },
  {
   "cell_type": "markdown",
   "metadata": {},
   "source": [
    "# Supplemental Table of all published samples"
   ]
  },
  {
   "cell_type": "code",
   "execution_count": 18,
   "metadata": {},
   "outputs": [
    {
     "name": "stdout",
     "output_type": "stream",
     "text": [
      "Published: 4274/10156\n"
     ]
    }
   ],
   "source": [
    "path_meta =  f\"/n/groups/reich/hringbauer/git/ibd_euro/data/iid_lists/iid_ibd_v{version}.tsv\" # for iids\n",
    "df = pd.read_csv(path_meta, sep=\"\\t\")\n",
    "idx = df[\"study\"].str.contains(\"Unpublished|unpublished\")\n",
    "\n",
    "dft = df[~idx].copy() # The Published Indiviudals\n",
    "\n",
    "print(f\"Published: {len(dft)}/{len(df)}\")"
   ]
  },
  {
   "cell_type": "code",
   "execution_count": 21,
   "metadata": {},
   "outputs": [
    {
     "data": {
      "text/html": [
       "<div>\n",
       "<style scoped>\n",
       "    .dataframe tbody tr th:only-of-type {\n",
       "        vertical-align: middle;\n",
       "    }\n",
       "\n",
       "    .dataframe tbody tr th {\n",
       "        vertical-align: top;\n",
       "    }\n",
       "\n",
       "    .dataframe thead th {\n",
       "        text-align: right;\n",
       "    }\n",
       "</style>\n",
       "<table border=\"1\" class=\"dataframe\">\n",
       "  <thead>\n",
       "    <tr style=\"text-align: right;\">\n",
       "      <th></th>\n",
       "      <th>iid</th>\n",
       "      <th>Master ID</th>\n",
       "      <th>loc</th>\n",
       "      <th>lat</th>\n",
       "      <th>lon</th>\n",
       "      <th>age</th>\n",
       "      <th>age_range</th>\n",
       "      <th>region</th>\n",
       "      <th>study</th>\n",
       "      <th>clst</th>\n",
       "      <th>mean_cov</th>\n",
       "      <th>n_cov_snp</th>\n",
       "      <th>avg_cov_snp</th>\n",
       "      <th>include_alt</th>\n",
       "      <th>family</th>\n",
       "      <th>sex</th>\n",
       "      <th>contact</th>\n",
       "      <th>include</th>\n",
       "    </tr>\n",
       "  </thead>\n",
       "  <tbody>\n",
       "    <tr>\n",
       "      <th>0</th>\n",
       "      <td>2H10.SG</td>\n",
       "      <td>2H10</td>\n",
       "      <td>Marne, Mont-Aimé hypogée II</td>\n",
       "      <td>48.858472</td>\n",
       "      <td>3.995887</td>\n",
       "      <td>5165.0</td>\n",
       "      <td>3341-3098 calBCE (4495±20 BP, UCAIMS-224907)</td>\n",
       "      <td>France</td>\n",
       "      <td>SeguinOrlandoCurrBio2021</td>\n",
       "      <td>France_MontAime_MLN.SG</td>\n",
       "      <td>0.957180</td>\n",
       "      <td>1148616</td>\n",
       "      <td>�8.643245</td>\n",
       "      <td>True</td>\n",
       "      <td>Marne, Mont-Aim� hypog�e II Family A (3 member...</td>\n",
       "      <td>M</td>\n",
       "      <td>Seguin-Orlando, Andaine; Orlando, Ludovic</td>\n",
       "      <td>1</td>\n",
       "    </tr>\n",
       "    <tr>\n",
       "      <th>1</th>\n",
       "      <td>GBVPO.SG</td>\n",
       "      <td>GBVPO</td>\n",
       "      <td>La Clape, Grotte Basse de la Vigne Perdue</td>\n",
       "      <td>43.149150</td>\n",
       "      <td>3.060582</td>\n",
       "      <td>3598.0</td>\n",
       "      <td>1737-1547 calBCE (3360±15 BP, UCAIMS-223210)</td>\n",
       "      <td>France</td>\n",
       "      <td>SeguinOrlandoCurrBio2021</td>\n",
       "      <td>France_LaClape_LN_EMBA_BellBeakerPossible.SG</td>\n",
       "      <td>0.658344</td>\n",
       "      <td>790013</td>\n",
       "      <td>�1.279356</td>\n",
       "      <td>True</td>\n",
       "      <td>n/a (no relatives detected)</td>\n",
       "      <td>F</td>\n",
       "      <td>Seguin-Orlando, Andaine; Orlando, Ludovic</td>\n",
       "      <td>1</td>\n",
       "    </tr>\n",
       "  </tbody>\n",
       "</table>\n",
       "</div>"
      ],
      "text/plain": [
       "        iid Master ID                                        loc        lat  \\\n",
       "0   2H10.SG      2H10                Marne, Mont-Aimé hypogée II  48.858472   \n",
       "1  GBVPO.SG     GBVPO  La Clape, Grotte Basse de la Vigne Perdue  43.149150   \n",
       "\n",
       "        lon     age                                     age_range  region  \\\n",
       "0  3.995887  5165.0  3341-3098 calBCE (4495±20 BP, UCAIMS-224907)  France   \n",
       "1  3.060582  3598.0  1737-1547 calBCE (3360±15 BP, UCAIMS-223210)  France   \n",
       "\n",
       "                      study                                          clst  \\\n",
       "0  SeguinOrlandoCurrBio2021                        France_MontAime_MLN.SG   \n",
       "1  SeguinOrlandoCurrBio2021  France_LaClape_LN_EMBA_BellBeakerPossible.SG   \n",
       "\n",
       "   mean_cov  n_cov_snp avg_cov_snp  include_alt  \\\n",
       "0  0.957180    1148616   �8.643245         True   \n",
       "1  0.658344     790013   �1.279356         True   \n",
       "\n",
       "                                              family sex  \\\n",
       "0  Marne, Mont-Aim� hypog�e II Family A (3 member...   M   \n",
       "1                        n/a (no relatives detected)   F   \n",
       "\n",
       "                                     contact  include  \n",
       "0  Seguin-Orlando, Andaine; Orlando, Ludovic        1  \n",
       "1  Seguin-Orlando, Andaine; Orlando, Ludovic        1  "
      ]
     },
     "execution_count": 21,
     "metadata": {},
     "output_type": "execute_result"
    }
   ],
   "source": [
    "dft.head(2)"
   ]
  },
  {
   "cell_type": "code",
   "execution_count": 11,
   "metadata": {},
   "outputs": [],
   "source": [
    "#df_studies = dft[\"study\"].value_counts()[:20]"
   ]
  },
  {
   "cell_type": "code",
   "execution_count": 22,
   "metadata": {},
   "outputs": [],
   "source": [
    "dft.to_csv(f\"/n/groups/reich/hringbauer/git/hapBLOCK/output/tables/publshed_iids.{version}.tsv\", sep=\"\\t\", index=False)"
   ]
  },
  {
   "cell_type": "markdown",
   "metadata": {},
   "source": [
    "### 1b) Get IBD summary stat matrix for all published IIDs"
   ]
  },
  {
   "cell_type": "code",
   "execution_count": 23,
   "metadata": {},
   "outputs": [
    {
     "name": "stdout",
     "output_type": "stream",
     "text": [
      "Loaded 434663 IBD summary stats\n",
      "Published pairs: 104099/434663)\n"
     ]
    }
   ],
   "source": [
    "path_ibd_ind = f\"/n/groups/reich/hringbauer/git/ibd_euro/output/ibd/ibd220.ind.v{version}.tsv\"\n",
    "df_ii = pd.read_csv(path_ibd_ind, sep=\"\\t\")\n",
    "print(f\"Loaded {len(df_ii)} IBD summary stats\")\n",
    "\n",
    "idx1 = df_ii[\"iid1\"].isin(dft[\"iid\"])\n",
    "idx2 = df_ii[\"iid2\"].isin(dft[\"iid\"])\n",
    "\n",
    "df_iip = df_ii[idx1 & idx2]\n",
    "print(f\"Published pairs: {len(df_iip)}/{len(df_ii)})\")"
   ]
  },
  {
   "cell_type": "code",
   "execution_count": 24,
   "metadata": {},
   "outputs": [],
   "source": [
    "df_iip.to_csv(f\"/n/groups/reich/hringbauer/git/hapBLOCK/output/tables/published_ibd.ind.{version}.tsv\", sep=\"\\t\", index=False)"
   ]
  },
  {
   "cell_type": "markdown",
   "metadata": {},
   "source": [
    "# Give numbers for Eneolithic / EBA matrix\n",
    "Load data in `/Yamnaya/figs/plot_ibd_square.v54.1.published.ipynb`"
   ]
  },
  {
   "cell_type": "code",
   "execution_count": 36,
   "metadata": {},
   "outputs": [
    {
     "name": "stdout",
     "output_type": "stream",
     "text": [
      "In Analysis: 304 Individuals in 24 regions\n"
     ]
    }
   ],
   "source": [
    "vrs = \"54.1\"\n",
    "df = pd.read_csv(f\"/n/groups/reich/hringbauer/git/hapBLOCK/output/tables/published_ibd_mat_iids.tsv\", sep=\"\\t\")\n",
    "np.min(df[\"n_cov_snp\"])\n",
    "n = len(df.value_counts(\"label_region\"))\n",
    "print(f'In Analysis: {len(df)} Individuals in {n} regions')"
   ]
  },
  {
   "cell_type": "code",
   "execution_count": null,
   "metadata": {},
   "outputs": [],
   "source": []
  }
 ],
 "metadata": {
  "kernelspec": {
   "display_name": "Python 3",
   "language": "python",
   "name": "python3"
  },
  "language_info": {
   "codemirror_mode": {
    "name": "ipython",
    "version": 3
   },
   "file_extension": ".py",
   "mimetype": "text/x-python",
   "name": "python",
   "nbconvert_exporter": "python",
   "pygments_lexer": "ipython3",
   "version": "3.7.4"
  }
 },
 "nbformat": 4,
 "nbformat_minor": 4
}
