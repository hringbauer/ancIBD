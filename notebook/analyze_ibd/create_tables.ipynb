{
 "cells": [
  {
   "cell_type": "markdown",
   "metadata": {},
   "source": [
    "# Create Tables for Supplemental Material of ancIBD manuscript"
   ]
  },
  {
   "cell_type": "code",
   "execution_count": 1,
   "metadata": {},
   "outputs": [
    {
     "name": "stdout",
     "output_type": "stream",
     "text": [
      "compute-e-16-233.o2.rc.hms.harvard.edu\n",
      "HSM Computational partition detected.\n",
      "/n/groups/reich/hringbauer/git/ibd_euro\n",
      "CPU Count: 28\n"
     ]
    }
   ],
   "source": [
    "import numpy as np\n",
    "import pandas as pd\n",
    "import os\n",
    "import sys as sys\n",
    "import socket\n",
    "import matplotlib.pyplot as plt\n",
    "import multiprocessing as mp\n",
    "import itertools as it\n",
    "import pandas as pd\n",
    "#from adjustText import adjust_text\n",
    "\n",
    "import warnings\n",
    "warnings.filterwarnings(\"ignore\") # Great Style\n",
    "socket_name = socket.gethostname()\n",
    "print(socket_name)\n",
    "\n",
    "if socket_name.startswith(\"compute-\"):\n",
    "    print(\"HSM Computational partition detected.\")\n",
    "    path = \"/n/groups/reich/hringbauer/git/ibd_euro/\"  # The Path on Midway Cluster\n",
    "else:\n",
    "    raise RuntimeWarning(\"No compatible machine. Check!!\")\n",
    "\n",
    "os.chdir(path)  # Set the right Path (in line with Atom default)\n",
    "# Show the current working directory. Should be HAPSBURG/Notebooks/ParallelRuns\n",
    "\n",
    "print(os.getcwd())\n",
    "print(f\"CPU Count: {mp.cpu_count()}\")\n",
    "\n",
    "#sys.path.insert(0,\"/n/groups/reich/hringbauer/git/hapBLOCK/package/\")  # hack to get development package first in path\n",
    "#from ancIBD.run import hapBLOCK_chroms\n",
    "#from ancIBD.IO.batch_run import get_run_params_from_i, save_ibd_df\n",
    "#from ancIBD.IO.ind_ibd import create_ind_ibd_df, ind_all_ibd_df"
   ]
  },
  {
   "cell_type": "code",
   "execution_count": 4,
   "metadata": {
    "tags": []
   },
   "outputs": [],
   "source": [
    "def remove_iid(df, iid):\n",
    "    if isinstance(iid, list):\n",
    "        idx1 = df[\"iid1\"].isin(iid)\n",
    "        idx2 = df[\"iid2\"].isin(iid)\n",
    "          \n",
    "    else:\n",
    "        idx1 = df[\"iid1\"] == iid\n",
    "        idx2 = df[\"iid2\"] == iid\n",
    "    idx = idx1 | idx2\n",
    "    df = df[~idx].copy()\n",
    "    print(f\"Filtered {iid}: {len(df)}/{len(idx)} pairs.\")\n",
    "    return df.reset_index(drop=True)\n",
    "\n",
    "def remove_iid_meta(df, iid, col=\"iid\"):\n",
    "    if isinstance(iid, list):\n",
    "        idx = df[col].isin(iid)\n",
    "    else:\n",
    "        idx = df[col] == iid\n",
    "\n",
    "    df = df[~idx].copy()\n",
    "    print(f\"Filtered {iid}: {len(df)}/{len(idx)} iids.\")\n",
    "    return df.reset_index(drop=True)"
   ]
  },
  {
   "cell_type": "code",
   "execution_count": 5,
   "metadata": {
    "tags": []
   },
   "outputs": [],
   "source": [
    "version = \"54.1\"\n",
    "iids = [\"UKY001\"]"
   ]
  },
  {
   "cell_type": "markdown",
   "metadata": {},
   "source": [
    "# Supplemental Table of all published samples"
   ]
  },
  {
   "cell_type": "code",
   "execution_count": 8,
   "metadata": {},
   "outputs": [
    {
     "name": "stdout",
     "output_type": "stream",
     "text": [
      "Published: 4518/11404\n",
      "Filtered ['UKY001']: 4517/4518 iids.\n"
     ]
    }
   ],
   "source": [
    "path_meta =  f\"/n/groups/reich/hringbauer/git/ibd_euro/data/iid_lists/iid_ibd_v{version}b.tsv\" # for iids\n",
    "\n",
    "df = pd.read_csv(path_meta, sep=\"\\t\")\n",
    "idx = df[\"study\"].str.contains(\"Unpublished|unpublished\")\n",
    "\n",
    "dft = df[~idx].copy() # The Published Indiviudals\n",
    "\n",
    "print(f\"Published: {len(dft)}/{len(df)}\")\n",
    "\n",
    "dft = remove_iid_meta(dft, iid=iids)"
   ]
  },
  {
   "cell_type": "code",
   "execution_count": 9,
   "metadata": {},
   "outputs": [],
   "source": [
    "dft.to_csv(f\"/n/groups/reich/hringbauer/git/hapBLOCK/output/tables/meta_pub.{version}b.tsv\", sep=\"\\t\", index=False)"
   ]
  },
  {
   "cell_type": "markdown",
   "metadata": {},
   "source": [
    "### 1b) Get IBD summary stat matrix for all published IIDs"
   ]
  },
  {
   "cell_type": "code",
   "execution_count": 10,
   "metadata": {},
   "outputs": [
    {
     "name": "stdout",
     "output_type": "stream",
     "text": [
      "Loaded 562966 IBD summary stats\n",
      "Published pairs: 123224/562966)\n"
     ]
    }
   ],
   "source": [
    "path_ibd_ind = f\"/n/groups/reich/hringbauer/git/ibd_euro/output/ibd/ibd220.ind.v{version}c.tsv\"\n",
    "df_ii = pd.read_csv(path_ibd_ind, sep=\"\\t\")\n",
    "print(f\"Loaded {len(df_ii)} IBD summary stats\")\n",
    "\n",
    "idx1 = df_ii[\"iid1\"].isin(dft[\"iid\"])\n",
    "idx2 = df_ii[\"iid2\"].isin(dft[\"iid\"])\n",
    "\n",
    "df_iip = df_ii[idx1 & idx2]\n",
    "print(f\"Published pairs: {len(df_iip)}/{len(df_ii)})\")"
   ]
  },
  {
   "cell_type": "code",
   "execution_count": 12,
   "metadata": {},
   "outputs": [],
   "source": [
    "df_iip.to_csv(f\"/n/groups/reich/hringbauer/git/hapBLOCK/output/tables/pub_ibd.ind.{version}c.tsv\", sep=\"\\t\", index=False)"
   ]
  },
  {
   "cell_type": "markdown",
   "metadata": {},
   "source": [
    "### 1c) Get IBD segment table for all published IIDs"
   ]
  },
  {
   "cell_type": "code",
   "execution_count": 13,
   "metadata": {},
   "outputs": [
    {
     "name": "stdout",
     "output_type": "stream",
     "text": [
      "Loaded 4474056 IBD summary stats\n",
      "Published pairs: 973604/4474056)\n",
      "CPU times: user 12.6 s, sys: 955 ms, total: 13.5 s\n",
      "Wall time: 14.1 s\n"
     ]
    }
   ],
   "source": [
    "%%time\n",
    "path_ibd_ind = f\"/n/groups/reich/hringbauer/git/ibd_euro/output/ibd/ibd220.ibd.v{version}c.tsv\"\n",
    "df_ii = pd.read_csv(path_ibd_ind, sep=\"\\t\")\n",
    "print(f\"Loaded {len(df_ii)} IBD summary stats\")\n",
    "\n",
    "idx1 = df_ii[\"iid1\"].isin(dft[\"iid\"])\n",
    "idx2 = df_ii[\"iid2\"].isin(dft[\"iid\"])\n",
    "\n",
    "df_iip = df_ii[idx1 & idx2]\n",
    "print(f\"Published pairs: {len(df_iip)}/{len(df_ii)}\")\n",
    "\n",
    "df_iip.to_csv(f\"/n/groups/reich/hringbauer/git/hapBLOCK/output/tables/pub_ibd.seg.{version}c.tsv\", sep=\"\\t\", index=False)"
   ]
  },
  {
   "cell_type": "markdown",
   "metadata": {},
   "source": [
    "# 2) Get numbers for Eneolithic / EBA matrix\n",
    "Load data in `/Yamnaya/figs/plot_ibd_square.v54.1.published.ipynb`"
   ]
  },
  {
   "cell_type": "code",
   "execution_count": 36,
   "metadata": {},
   "outputs": [
    {
     "name": "stdout",
     "output_type": "stream",
     "text": [
      "In Analysis: 304 Individuals in 24 regions\n"
     ]
    }
   ],
   "source": [
    "vrs = \"54.1\"\n",
    "df = pd.read_csv(f\"/n/groups/reich/hringbauer/git/hapBLOCK/output/tables/published_ibd_mat_iids.tsv\", sep=\"\\t\")\n",
    "np.min(df[\"n_cov_snp\"])\n",
    "n = len(df.value_counts(\"label_region\"))\n",
    "print(f'In Analysis: {len(df)} Individuals in {n} regions')"
   ]
  },
  {
   "cell_type": "code",
   "execution_count": null,
   "metadata": {},
   "outputs": [],
   "source": []
  }
 ],
 "metadata": {
  "kernelspec": {
   "display_name": "Python 3",
   "language": "python",
   "name": "python3"
  },
  "language_info": {
   "codemirror_mode": {
    "name": "ipython",
    "version": 3
   },
   "file_extension": ".py",
   "mimetype": "text/x-python",
   "name": "python",
   "nbconvert_exporter": "python",
   "pygments_lexer": "ipython3",
   "version": "3.7.4"
  }
 },
 "nbformat": 4,
 "nbformat_minor": 4
}
