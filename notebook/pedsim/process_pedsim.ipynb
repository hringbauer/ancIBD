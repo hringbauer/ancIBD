{
 "cells": [
  {
   "cell_type": "code",
   "execution_count": 3,
   "metadata": {},
   "outputs": [
    {
     "name": "stdout",
     "output_type": "stream",
     "text": [
      "compute-e-16-233.o2.rc.hms.harvard.edu\n",
      "HSM Computational partition detected.\n",
      "/n/groups/reich/hringbauer/git/ped-sim\n",
      "CPU Count: 28\n"
     ]
    }
   ],
   "source": [
    "import numpy as np\n",
    "import os as os\n",
    "import sys as sys\n",
    "import multiprocessing as mp\n",
    "import pandas as pd\n",
    "import socket\n",
    "import matplotlib.pyplot as plt\n",
    "import h5py as h5py\n",
    "from scipy import interpolate\n",
    "\n",
    "### Do the Arial \n",
    "from matplotlib import rcParams\n",
    "rcParams['font.family'] = 'sans-serif'   # Set the default\n",
    "rcParams['font.sans-serif'] = ['Arial']  # Make sure to have the font installed (it is on cluster for Harald)\n",
    "\n",
    "### Pick the right path (whether on cluster or at home)\n",
    "socket_name = socket.gethostname()\n",
    "print(socket_name)\n",
    "if socket_name == \"VioletQueen\":\n",
    "    path = \"/home/harald/git/HAPSBURG/\"   # The Path on Harald's machine\n",
    "elif socket_name.startswith(\"midway2\"):\n",
    "    print(\"Midway jnovmbre partition detected.\")\n",
    "    path = \"/project2/jnovembre/hringbauer/ped-sim/\"  # The Path on Midway Cluster\n",
    "elif socket_name.startswith(\"Harald-Laptop\"):\n",
    "    print(\"Harald's new laptop detected!\")\n",
    "    path = \"/home/hringbauer/git/ped-sim/\" \n",
    "if socket_name.startswith(\"compute-\"):\n",
    "    print(\"HSM Computational partition detected.\")\n",
    "    path = \"/n/groups/reich/hringbauer/git/ped-sim/\"  # The Path on Midway Cluster\n",
    "else: \n",
    "    raise RuntimeWarning(\"Not compatible machine. Check!!\")\n",
    "    \n",
    "os.chdir(path)  # Set the right Path (in line with Atom default)\n",
    "\n",
    "sys.path.append(\"./package/\")  # Go to the hapsburg package directory\n",
    "\n",
    "from hapsburg.PackagesSupport.pp_individual_roh_csvs import post_process_roh_df, combine_ROH_df, calc_average_roh\n",
    "from hapsburg.figures.plot_bars import plot_panel_row, prepare_dfs_plot, create_cousins_roh\n",
    "\n",
    "#sys.path.insert(0,\"/n/groups/reich/hringbauer/git/hapBLOCK/package/\")  # hack to get development package first in path\n",
    "from ancIBD.IO.ind_ibd import create_ind_ibd_df\n",
    "\n",
    "print(os.getcwd()) # Show the current working directory. Should be HAPSBURG/Notebooks/ParallelRuns\n",
    "print(f\"CPU Count: {mp.cpu_count()}\")"
   ]
  },
  {
   "cell_type": "code",
   "execution_count": 89,
   "metadata": {},
   "outputs": [],
   "source": [
    "def load_segment_file(path_segments=\"../ped-sim/output/output.seg\",\n",
    "                      cm_fac=0.01):\n",
    "    \"\"\"Load and return segment File of IBD & ROH blocks.\n",
    "    Return Pandas dataframe. \n",
    "    cm_fac: Factor with which to multiply genetic length columns\"\"\"\n",
    "    df = pd.read_csv(path_segments, sep=\"\\t\", header=None)\n",
    "    df.columns = [\"iid1\", \"iid2\", \"ch\", \"Start\", \"End\", \n",
    "                  \"ibd_stat\", \"StartM\", \"EndM\", \"lengthM\"]\n",
    "    df[\"length\"] = (df[\"End\"] - df[\"Start\"])\n",
    "    \n",
    "    for col in [\"StartM\", \"EndM\", \"lengthM\"]:\n",
    "        df[col] = df[col] * cm_fac  # Correct that original is in cm\n",
    "    return df\n",
    "\n",
    "def to_hapsburg_ibd_df(path_segments = \"../ped-sim/output/test.seg\",\n",
    "                   savepath = \"\", n=500, merge=False,\n",
    "                   h5_path = \"\",\n",
    "                   min_cm=[8, 12, 16, 20], snp_cm=220,\n",
    "                   gap=0.5, min_len1=2, min_len2=4,\n",
    "                   output=False, sort=True):\n",
    "    \"\"\"Load pd_sim output and post_process into Hapsburg\n",
    "    Summary output. Return this dataframe.\n",
    "    If savepath is given, save to there (tab-seperated)\"\"\"\n",
    "    df1 = load_segment_file(path_segments)  # Load the full segment file, transfomred\n",
    "    \n",
    "    if merge:\n",
    "        df1 = merge_called_blocks(df1, output=True)\n",
    "        \n",
    "    ### Pre-Process if h5 given\n",
    "    if len(h5_path)>0:\n",
    "        df1 = cap_ibd_boarders(df1, h5_path=h5_path)\n",
    "        df1 = transform_to_snp_pos(df1, h5_path=h5_path)\n",
    "        \n",
    "    df_ibd = create_ind_ibd_df(ibd_data=df1,\n",
    "                  min_cms=min_cm, snp_cm=snp_cm, min_cm=4,\n",
    "                  sort_col=-1, savepath=savepath,\n",
    "                  output=False)\n",
    "    \n",
    "    #assert(len(df_ibd)==n) # Sanity Check    \n",
    "    return df_ibd\n",
    "\n",
    "def merge_called_blocks(df, output=False):\n",
    "        \"\"\"Merge Blocks in Dataframe df and return merged Dataframe.\n",
    "        Gap is given in Morgan\"\"\"\n",
    "        if len(df) == 0:\n",
    "            return df  # In case of empty dataframe don't do anything\n",
    "\n",
    "        df_n = df.drop(df.index)  # Create New Data frame with all raws removed\n",
    "        row_c = df.iloc[0, :].copy()\n",
    "        #row_c[\"lengthM\"] = row_c[\"EndM\"] - row_c[\"StartM\"] # Should be there\n",
    "\n",
    "        # Iterate over all further rows, update blocks if gaps small enough\n",
    "        for index, row in df.iloc[1:,:].iterrows():\n",
    "            ### Calculate Conditions\n",
    "            con1 = (row[\"Start\"] == row_c[\"End\"]+1)\n",
    "            con2 = row[\"ch\"] == row_c[\"ch\"]\n",
    "            con3 = row[\"iid1\"] == row_c[\"iid1\"]\n",
    "            con4 = row[\"iid2\"] == row_c[\"iid2\"]\n",
    "            \n",
    "            if con1 & con2 & con3 & con4:\n",
    "                row_c[\"End\"] = row[\"End\"]\n",
    "                row_c[\"EndM\"] = row[\"EndM\"]\n",
    "                row_c[\"length\"] = row_c[\"End\"] - row_c[\"Start\"]\n",
    "                row_c[\"lengthM\"] = row_c[\"EndM\"] - row_c[\"StartM\"]\n",
    "\n",
    "            else:  # Save and go to next row\n",
    "                df_n.loc[len(df_n)] = row_c  # Append a row to new df\n",
    "                row_c = row.copy()\n",
    "\n",
    "        df_n.loc[len(df_n)] = row_c   # Append the last row\n",
    "\n",
    "        if output == True:\n",
    "            print(f\"Merged n={len(df) - len(df_n)} gaps\")\n",
    "        return df_n\n",
    "    \n",
    "##############################\n",
    "### Adapt to SNPs in h5\n",
    "\n",
    "def cap_ibd_boarders(df, chs = range(1,23), \n",
    "                     h5_path = \"/n/groups/reich/hringbauer/git/hapBLOCK/data/hdf5/1240k_v54.1/ch\"):\n",
    "    \"\"\"Cuts IBD segment file for ch in chs to boundaries matching h5 in h5_path\"\"\"\n",
    "    \n",
    "    for ch in chs:\n",
    "        with h5py.File(f\"{h5_path}{ch}.h5\", \"r\") as f: # Load for Sanity Check. See below!\n",
    "            min_map, max_map =  f[\"variants/MAP\"][0],f[\"variants/MAP\"][-1]\n",
    "\n",
    "        idx_ch = df[\"ch\"]==ch ## Find all segments on chromosome\n",
    "\n",
    "        ### Cut to Start Positions\n",
    "        idx = df[\"StartM\"]<min_map\n",
    "        df.loc[idx_ch & idx, \"StartM\"] = min_map\n",
    "        idx = df[\"EndM\"]<min_map\n",
    "        df.loc[idx_ch & idx, \"EndM\"] = min_map\n",
    "\n",
    "        ### Cut to End Positions\n",
    "        idx = df[\"StartM\"]>max_map\n",
    "        df.loc[idx_ch & idx, \"StartM\"] = max_map\n",
    "        idx = df[\"EndM\"]>max_map\n",
    "        df.loc[idx_ch & idx, \"EndM\"] = max_map\n",
    "\n",
    "    df[\"LengthM\"]= df[\"EndM\"]-df[\"StartM\"] # Update IBD Length\n",
    "    ### Remove IBD segments fully out of boarder\n",
    "    idx = df[\"LengthM\"]==0\n",
    "    df = df[~idx].copy().reset_index(drop=True) \n",
    "    return df\n",
    "\n",
    "def transform_to_snp_pos(df, chs=range(1,23), \n",
    "                         h5_path = \"/n/groups/reich/hringbauer/git/hapBLOCK/data/hdf5/1240k_v54.1/ch\"):\n",
    "    \"\"\"Transform positions in IBD dataframe to positions matching indices in 1240k file\"\"\"\n",
    "    \n",
    "    for ch in chs:\n",
    "        with h5py.File(f\"{h5_path}{ch}.h5\", \"r\") as f: # Load for Sanity Check. See below!\n",
    "                m = f[\"variants/MAP\"][:]\n",
    "        p = np.arange(len(m))\n",
    "        f = interpolate.interp1d(m, p)\n",
    "        \n",
    "        ### Map to approximate index positions\n",
    "        idx_ch = df[\"ch\"]==ch ## Find all segments on chromosome\n",
    "        df.loc[idx_ch, \"Start\"] = f(df[\"StartM\"][idx_ch]) \n",
    "        df.loc[idx_ch, \"End\"] = f(df[\"EndM\"][idx_ch])\n",
    "    df[\"length\"] = df[\"End\"] - df[\"Start\"]\n",
    "    return df"
   ]
  },
  {
   "cell_type": "markdown",
   "metadata": {},
   "source": [
    "# Convert to hapBLOCK format"
   ]
  },
  {
   "cell_type": "code",
   "execution_count": 6,
   "metadata": {
    "tags": []
   },
   "outputs": [],
   "source": [
    "out_folder = \"/n/groups/reich/hringbauer/git/hapBLOCK/output/pedsim/\""
   ]
  },
  {
   "cell_type": "code",
   "execution_count": 6,
   "metadata": {
    "tags": []
   },
   "outputs": [],
   "source": [
    "df1 = load_segment_file(path_segments = \"./output/ibd/sib.seg\")"
   ]
  },
  {
   "cell_type": "code",
   "execution_count": null,
   "metadata": {
    "tags": []
   },
   "outputs": [],
   "source": [
    "df1[df1[\"iid1\"].str.contains(\"sib1_g2-b1-i1\")][:50]"
   ]
  },
  {
   "cell_type": "code",
   "execution_count": 18,
   "metadata": {
    "tags": []
   },
   "outputs": [
    {
     "data": {
      "text/plain": [
       "33.46297627"
      ]
     },
     "execution_count": 18,
     "metadata": {},
     "output_type": "execute_result"
    }
   ],
   "source": [
    "dft = df1[df1[\"iid1\"].str.contains(\"gp11_g1\")]\n",
    "\n",
    "np.sum(dft[\"lengthM\"])"
   ]
  },
  {
   "cell_type": "code",
   "execution_count": 85,
   "metadata": {},
   "outputs": [
    {
     "name": "stdout",
     "output_type": "stream",
     "text": [
      "Saved 100 individual IBD pairs to: /n/groups/reich/hringbauer/git/hapBLOCK/output/pedsim/av2.tsv\n",
      "CPU times: user 379 ms, sys: 2.92 ms, total: 382 ms\n",
      "Wall time: 389 ms\n"
     ]
    }
   ],
   "source": [
    "%%time\n",
    "df_av2 = to_hapsburg_ibd_df(path_segments = \"./output/ibd/av2.seg\", \n",
    "                     n=100, savepath=out_folder+\"av2.tsv\")"
   ]
  },
  {
   "cell_type": "code",
   "execution_count": 92,
   "metadata": {},
   "outputs": [
    {
     "name": "stdout",
     "output_type": "stream",
     "text": [
      "Saved 100 individual IBD pairs to: /n/groups/reich/hringbauer/git/hapBLOCK/output/pedsim/av1.tsv\n",
      "CPU times: user 382 ms, sys: 1.97 ms, total: 384 ms\n",
      "Wall time: 389 ms\n"
     ]
    }
   ],
   "source": [
    "%%time\n",
    "df_av1 = to_hapsburg_ibd_df(path_segments = \"./output/ibd/av1.seg\", \n",
    "                     n=100, savepath=out_folder+\"av1.tsv\")"
   ]
  },
  {
   "cell_type": "code",
   "execution_count": 94,
   "metadata": {},
   "outputs": [
    {
     "name": "stdout",
     "output_type": "stream",
     "text": [
      "Saved 100 individual IBD pairs to: /n/groups/reich/hringbauer/git/hapBLOCK/output/pedsim/av2.tsv\n",
      "CPU times: user 381 ms, sys: 8.05 ms, total: 389 ms\n",
      "Wall time: 389 ms\n"
     ]
    }
   ],
   "source": [
    "%%time\n",
    "df_av3 = to_hapsburg_ibd_df(path_segments = \"./output/ibd/av2.seg\", \n",
    "                     n=100, savepath=out_folder+\"av2.tsv\")"
   ]
  },
  {
   "cell_type": "code",
   "execution_count": 104,
   "metadata": {},
   "outputs": [
    {
     "name": "stdout",
     "output_type": "stream",
     "text": [
      "Saved 100 individual IBD pairs to: /n/groups/reich/hringbauer/git/hapBLOCK/output/pedsim/av3.tsv\n",
      "CPU times: user 402 ms, sys: 1.92 ms, total: 404 ms\n",
      "Wall time: 407 ms\n"
     ]
    }
   ],
   "source": [
    "%%time\n",
    "df_av5 = to_hapsburg_ibd_df(path_segments = \"./output/ibd/av3.seg\", \n",
    "                     n=100, savepath=out_folder+\"av3.tsv\")"
   ]
  },
  {
   "cell_type": "code",
   "execution_count": 103,
   "metadata": {},
   "outputs": [
    {
     "name": "stdout",
     "output_type": "stream",
     "text": [
      "Saved 100 individual IBD pairs to: /n/groups/reich/hringbauer/git/hapBLOCK/output/pedsim/av4.tsv\n",
      "CPU times: user 397 ms, sys: 1.98 ms, total: 399 ms\n",
      "Wall time: 403 ms\n"
     ]
    }
   ],
   "source": [
    "%%time\n",
    "df_av5 = to_hapsburg_ibd_df(path_segments = \"./output/ibd/av4.seg\", \n",
    "                     n=100, savepath=out_folder+\"av4.tsv\")"
   ]
  },
  {
   "cell_type": "code",
   "execution_count": 102,
   "metadata": {},
   "outputs": [
    {
     "name": "stdout",
     "output_type": "stream",
     "text": [
      "Saved 100 individual IBD pairs to: /n/groups/reich/hringbauer/git/hapBLOCK/output/pedsim/av5.tsv\n",
      "CPU times: user 382 ms, sys: 5.96 ms, total: 388 ms\n",
      "Wall time: 397 ms\n"
     ]
    }
   ],
   "source": [
    "%%time\n",
    "df_av5 = to_hapsburg_ibd_df(path_segments = \"./output/ibd/av5.seg\", \n",
    "                     n=100, savepath=out_folder+\"av5.tsv\")"
   ]
  },
  {
   "cell_type": "markdown",
   "metadata": {},
   "source": [
    "### Grand Parental Relationships"
   ]
  },
  {
   "cell_type": "code",
   "execution_count": 107,
   "metadata": {},
   "outputs": [
    {
     "name": "stdout",
     "output_type": "stream",
     "text": [
      "Saved 400 individual IBD pairs to: /n/groups/reich/hringbauer/git/hapBLOCK/output/pedsim/parent.tsv\n",
      "CPU times: user 1.3 s, sys: 9.96 ms, total: 1.31 s\n",
      "Wall time: 1.32 s\n"
     ]
    }
   ],
   "source": [
    "%%time\n",
    "df_gp0 = to_hapsburg_ibd_df(path_segments = \"./output/ibd/parent.seg\", \n",
    "                            n=100, savepath=out_folder+\"parent.tsv\")"
   ]
  },
  {
   "cell_type": "code",
   "execution_count": 8,
   "metadata": {},
   "outputs": [
    {
     "name": "stdout",
     "output_type": "stream",
     "text": [
      "Saved 200 individual IBD pairs to: /n/groups/reich/hringbauer/git/hapBLOCK/output/pedsim/gp1.tsv\n",
      "CPU times: user 784 ms, sys: 9.12 ms, total: 793 ms\n",
      "Wall time: 822 ms\n"
     ]
    }
   ],
   "source": [
    "%%time\n",
    "df_gp1 = to_hapsburg_ibd_df(path_segments = \"./output/ibd/gp1.seg\", \n",
    "                            n=100, savepath=out_folder+\"gp1.tsv\")\n",
    "df_gp1 = df_gp1[::2]"
   ]
  },
  {
   "cell_type": "code",
   "execution_count": null,
   "metadata": {},
   "outputs": [],
   "source": [
    "%%time\n",
    "df_gp2 = to_hapsburg_ibd_df(path_segments = \"./output/ibd/gp2.seg\", n=100,\n",
    "                     savepath=out_folder+\"gp2.tsv\") #out_folder+\"gp2.tsv\"\n",
    "#df_gp2 = df_gp2[::2]"
   ]
  },
  {
   "cell_type": "code",
   "execution_count": 77,
   "metadata": {},
   "outputs": [
    {
     "name": "stdout",
     "output_type": "stream",
     "text": [
      "Saved 200 individual IBD pairs to: /n/groups/reich/hringbauer/git/hapBLOCK/output/pedsim/gp3.tsv\n",
      "CPU times: user 694 ms, sys: 3.99 ms, total: 698 ms\n",
      "Wall time: 706 ms\n"
     ]
    }
   ],
   "source": [
    "%%time\n",
    "df_gp3 = to_hapsburg_ibd_df(path_segments = \"./output/ibd/gp3.seg\", \n",
    "                     clst=\"gp3\", n=100,\n",
    "                     savepath=out_folder+\"gp3.tsv\")\n",
    "df_gp3 = df_gp3[::2]"
   ]
  },
  {
   "cell_type": "code",
   "execution_count": 132,
   "metadata": {},
   "outputs": [
    {
     "name": "stdout",
     "output_type": "stream",
     "text": [
      "Merged n=6646 gaps\n",
      "Saved 100 individual IBD pairs to: /n/groups/reich/hringbauer/git/hapBLOCK/output/pedsim/sib.tsv\n",
      "CPU times: user 28.7 s, sys: 32.1 ms, total: 28.7 s\n",
      "Wall time: 28.7 s\n"
     ]
    }
   ],
   "source": [
    "%%time\n",
    "df_sib = to_hapsburg_ibd_df(path_segments = \"./output/ibd/sib.seg\", \n",
    "                     n=100, savepath=out_folder+\"sib.tsv\", merge=True) ### Merging is activated here"
   ]
  },
  {
   "cell_type": "code",
   "execution_count": 81,
   "metadata": {},
   "outputs": [
    {
     "name": "stdout",
     "output_type": "stream",
     "text": [
      "Saved 100 individual IBD pairs to: /n/groups/reich/hringbauer/git/hapBLOCK/output/pedsim/hsib.tsv\n",
      "CPU times: user 378 ms, sys: 5.04 ms, total: 384 ms\n",
      "Wall time: 394 ms\n"
     ]
    }
   ],
   "source": [
    "%%time\n",
    "df_hsib = to_hapsburg_ibd_df(path_segments = \"./output/ibd/hsib.seg\", \n",
    "                     clst=\"hsib\", n=100,\n",
    "                     savepath=out_folder+\"hsib.tsv\")"
   ]
  },
  {
   "cell_type": "markdown",
   "metadata": {},
   "source": [
    "## 2) Pre-Process with H5 Filter to filtered output\n",
    "Using the cap outside of mapable region plus SNP density filter"
   ]
  },
  {
   "cell_type": "code",
   "execution_count": 104,
   "metadata": {
    "tags": []
   },
   "outputs": [],
   "source": [
    "h5_path = \"/n/groups/reich/hringbauer/git/hapBLOCK/data/hdf5/1240k_v54.1/ch\"\n",
    "out_folder = \"/n/groups/reich/hringbauer/git/hapBLOCK/output/pedsim/\""
   ]
  },
  {
   "cell_type": "code",
   "execution_count": 105,
   "metadata": {
    "tags": []
   },
   "outputs": [
    {
     "name": "stdout",
     "output_type": "stream",
     "text": [
      "Saved 100 individual IBD pairs to: /n/groups/reich/hringbauer/git/hapBLOCK/output/pedsim/av1.f.tsv\n",
      "Saved 100 individual IBD pairs to: /n/groups/reich/hringbauer/git/hapBLOCK/output/pedsim/av2.f.tsv\n",
      "Saved 100 individual IBD pairs to: /n/groups/reich/hringbauer/git/hapBLOCK/output/pedsim/av3.f.tsv\n",
      "Saved 100 individual IBD pairs to: /n/groups/reich/hringbauer/git/hapBLOCK/output/pedsim/av4.f.tsv\n",
      "Saved 99 individual IBD pairs to: /n/groups/reich/hringbauer/git/hapBLOCK/output/pedsim/av5.f.tsv\n",
      "CPU times: user 3.18 s, sys: 107 ms, total: 3.29 s\n",
      "Wall time: 4.14 s\n"
     ]
    }
   ],
   "source": [
    "%%time\n",
    "for i in range(1,6):\n",
    "    p = \"av\" + str(i)\n",
    "    dft = to_hapsburg_ibd_df(path_segments = f\"./output/ibd/{p}.seg\", \n",
    "                             h5_path=h5_path, savepath=out_folder+f\"{p}.f.tsv\")\n",
    "    "
   ]
  },
  {
   "cell_type": "code",
   "execution_count": 106,
   "metadata": {
    "tags": []
   },
   "outputs": [
    {
     "name": "stdout",
     "output_type": "stream",
     "text": [
      "Saved 200 individual IBD pairs to: /n/groups/reich/hringbauer/git/hapBLOCK/output/pedsim/gp1.f.tsv\n",
      "Saved 200 individual IBD pairs to: /n/groups/reich/hringbauer/git/hapBLOCK/output/pedsim/gp2.f.tsv\n",
      "Saved 200 individual IBD pairs to: /n/groups/reich/hringbauer/git/hapBLOCK/output/pedsim/gp3.f.tsv\n"
     ]
    }
   ],
   "source": [
    "for i in range(1,4):\n",
    "    p = \"gp\" + str(i)\n",
    "    dft = to_hapsburg_ibd_df(path_segments = f\"./output/ibd/{p}.seg\", \n",
    "                     h5_path=h5_path,\n",
    "                     savepath=out_folder+f\"{p}.f.tsv\")"
   ]
  },
  {
   "cell_type": "code",
   "execution_count": 107,
   "metadata": {
    "tags": []
   },
   "outputs": [
    {
     "name": "stdout",
     "output_type": "stream",
     "text": [
      "Saved 400 individual IBD pairs to: /n/groups/reich/hringbauer/git/hapBLOCK/output/pedsim/parent.f.tsv\n",
      "CPU times: user 1.3 s, sys: 15.9 ms, total: 1.31 s\n",
      "Wall time: 1.48 s\n"
     ]
    }
   ],
   "source": [
    "%%time\n",
    "df_gp0 = to_hapsburg_ibd_df(path_segments = \"./output/ibd/parent.seg\", \n",
    "                            n=100, h5_path=h5_path, savepath=out_folder+\"parent.f.tsv\")"
   ]
  },
  {
   "cell_type": "code",
   "execution_count": null,
   "metadata": {
    "tags": []
   },
   "outputs": [
    {
     "name": "stdout",
     "output_type": "stream",
     "text": [
      "Merged n=6646 gaps\n"
     ]
    }
   ],
   "source": [
    "%%time\n",
    "df_sib = to_hapsburg_ibd_df(path_segments = \"./output/ibd/sib.seg\", \n",
    "                     h5_path=h5_path, savepath=out_folder+\"sib.f.tsv\", merge=True) ### Merging is activated here"
   ]
  },
  {
   "cell_type": "code",
   "execution_count": null,
   "metadata": {
    "tags": []
   },
   "outputs": [],
   "source": [
    "%%time\n",
    "df_hsib = to_hapsburg_ibd_df(path_segments = \"./output/ibd/hsib.seg\", \n",
    "                             h5_path=h5_path, savepath=out_folder+\"hsib.f.tsv\")"
   ]
  },
  {
   "cell_type": "markdown",
   "metadata": {},
   "source": [
    "### Area 51"
   ]
  },
  {
   "cell_type": "markdown",
   "metadata": {},
   "source": [
    "### Test cutting to ancIBD SNPs"
   ]
  },
  {
   "cell_type": "code",
   "execution_count": 97,
   "metadata": {
    "tags": []
   },
   "outputs": [
    {
     "name": "stdout",
     "output_type": "stream",
     "text": [
      "CPU times: user 766 ms, sys: 4.19 ms, total: 770 ms\n",
      "Wall time: 784 ms\n"
     ]
    }
   ],
   "source": [
    "%%time\n",
    "df1 = to_hapsburg_ibd_df(path_segments = \"./output/ibd/gp1.seg\", \n",
    "                            n=100, savepath=\"\")\n",
    "df1 = df1[::2]"
   ]
  },
  {
   "cell_type": "code",
   "execution_count": 98,
   "metadata": {},
   "outputs": [],
   "source": [
    "h5_path = \"/n/groups/reich/hringbauer/git/hapBLOCK/data/hdf5/1240k_v54.1/ch\""
   ]
  },
  {
   "cell_type": "code",
   "execution_count": 99,
   "metadata": {
    "tags": []
   },
   "outputs": [],
   "source": [
    "df2 = to_hapsburg_ibd_df(path_segments = \"./output/ibd/gp1.seg\", \n",
    "                            n=100, savepath=\"\", h5_path=h5_path)\n",
    "df2 = df2[::2]"
   ]
  },
  {
   "cell_type": "code",
   "execution_count": 102,
   "metadata": {
    "tags": []
   },
   "outputs": [
    {
     "data": {
      "text/html": [
       "<div>\n",
       "<style scoped>\n",
       "    .dataframe tbody tr th:only-of-type {\n",
       "        vertical-align: middle;\n",
       "    }\n",
       "\n",
       "    .dataframe tbody tr th {\n",
       "        vertical-align: top;\n",
       "    }\n",
       "\n",
       "    .dataframe thead th {\n",
       "        text-align: right;\n",
       "    }\n",
       "</style>\n",
       "<table border=\"1\" class=\"dataframe\">\n",
       "  <thead>\n",
       "    <tr style=\"text-align: right;\">\n",
       "      <th></th>\n",
       "      <th>iid1</th>\n",
       "      <th>iid2</th>\n",
       "      <th>max_IBD</th>\n",
       "      <th>sum_IBD&gt;8</th>\n",
       "      <th>n_IBD&gt;8</th>\n",
       "      <th>sum_IBD&gt;12</th>\n",
       "      <th>n_IBD&gt;12</th>\n",
       "      <th>sum_IBD&gt;16</th>\n",
       "      <th>n_IBD&gt;16</th>\n",
       "      <th>sum_IBD&gt;20</th>\n",
       "      <th>n_IBD&gt;20</th>\n",
       "    </tr>\n",
       "  </thead>\n",
       "  <tbody>\n",
       "    <tr>\n",
       "      <th>0</th>\n",
       "      <td>gp1100_g1-b1-i1</td>\n",
       "      <td>gp1100_g3-b1-i1</td>\n",
       "      <td>192.874347</td>\n",
       "      <td>1746.426962</td>\n",
       "      <td>29.0</td>\n",
       "      <td>1736.039010</td>\n",
       "      <td>28.0</td>\n",
       "      <td>1720.337729</td>\n",
       "      <td>27.0</td>\n",
       "      <td>1720.337729</td>\n",
       "      <td>27.0</td>\n",
       "    </tr>\n",
       "    <tr>\n",
       "      <th>2</th>\n",
       "      <td>gp110_g1-b1-i1</td>\n",
       "      <td>gp110_g3-b1-i1</td>\n",
       "      <td>242.851985</td>\n",
       "      <td>2035.172834</td>\n",
       "      <td>25.0</td>\n",
       "      <td>2026.540072</td>\n",
       "      <td>24.0</td>\n",
       "      <td>1998.900486</td>\n",
       "      <td>22.0</td>\n",
       "      <td>1998.900486</td>\n",
       "      <td>22.0</td>\n",
       "    </tr>\n",
       "    <tr>\n",
       "      <th>4</th>\n",
       "      <td>gp111_g1-b1-i1</td>\n",
       "      <td>gp111_g3-b1-i1</td>\n",
       "      <td>116.434245</td>\n",
       "      <td>1598.210961</td>\n",
       "      <td>30.0</td>\n",
       "      <td>1598.210961</td>\n",
       "      <td>30.0</td>\n",
       "      <td>1570.532368</td>\n",
       "      <td>28.0</td>\n",
       "      <td>1552.432806</td>\n",
       "      <td>27.0</td>\n",
       "    </tr>\n",
       "    <tr>\n",
       "      <th>6</th>\n",
       "      <td>gp112_g1-b1-i1</td>\n",
       "      <td>gp112_g3-b1-i1</td>\n",
       "      <td>185.752565</td>\n",
       "      <td>1567.133708</td>\n",
       "      <td>19.0</td>\n",
       "      <td>1547.553592</td>\n",
       "      <td>17.0</td>\n",
       "      <td>1522.518194</td>\n",
       "      <td>15.0</td>\n",
       "      <td>1522.518194</td>\n",
       "      <td>15.0</td>\n",
       "    </tr>\n",
       "    <tr>\n",
       "      <th>8</th>\n",
       "      <td>gp113_g1-b1-i1</td>\n",
       "      <td>gp113_g3-b1-i1</td>\n",
       "      <td>176.041370</td>\n",
       "      <td>1533.982934</td>\n",
       "      <td>15.0</td>\n",
       "      <td>1533.982934</td>\n",
       "      <td>15.0</td>\n",
       "      <td>1521.457607</td>\n",
       "      <td>14.0</td>\n",
       "      <td>1521.457607</td>\n",
       "      <td>14.0</td>\n",
       "    </tr>\n",
       "  </tbody>\n",
       "</table>\n",
       "</div>"
      ],
      "text/plain": [
       "              iid1             iid2     max_IBD    sum_IBD>8  n_IBD>8  \\\n",
       "0  gp1100_g1-b1-i1  gp1100_g3-b1-i1  192.874347  1746.426962     29.0   \n",
       "2   gp110_g1-b1-i1   gp110_g3-b1-i1  242.851985  2035.172834     25.0   \n",
       "4   gp111_g1-b1-i1   gp111_g3-b1-i1  116.434245  1598.210961     30.0   \n",
       "6   gp112_g1-b1-i1   gp112_g3-b1-i1  185.752565  1567.133708     19.0   \n",
       "8   gp113_g1-b1-i1   gp113_g3-b1-i1  176.041370  1533.982934     15.0   \n",
       "\n",
       "    sum_IBD>12  n_IBD>12   sum_IBD>16  n_IBD>16   sum_IBD>20  n_IBD>20  \n",
       "0  1736.039010      28.0  1720.337729      27.0  1720.337729      27.0  \n",
       "2  2026.540072      24.0  1998.900486      22.0  1998.900486      22.0  \n",
       "4  1598.210961      30.0  1570.532368      28.0  1552.432806      27.0  \n",
       "6  1547.553592      17.0  1522.518194      15.0  1522.518194      15.0  \n",
       "8  1533.982934      15.0  1521.457607      14.0  1521.457607      14.0  "
      ]
     },
     "execution_count": 102,
     "metadata": {},
     "output_type": "execute_result"
    }
   ],
   "source": [
    "df1[:5]"
   ]
  },
  {
   "cell_type": "code",
   "execution_count": 103,
   "metadata": {
    "tags": []
   },
   "outputs": [
    {
     "data": {
      "text/html": [
       "<div>\n",
       "<style scoped>\n",
       "    .dataframe tbody tr th:only-of-type {\n",
       "        vertical-align: middle;\n",
       "    }\n",
       "\n",
       "    .dataframe tbody tr th {\n",
       "        vertical-align: top;\n",
       "    }\n",
       "\n",
       "    .dataframe thead th {\n",
       "        text-align: right;\n",
       "    }\n",
       "</style>\n",
       "<table border=\"1\" class=\"dataframe\">\n",
       "  <thead>\n",
       "    <tr style=\"text-align: right;\">\n",
       "      <th></th>\n",
       "      <th>iid1</th>\n",
       "      <th>iid2</th>\n",
       "      <th>max_IBD</th>\n",
       "      <th>sum_IBD&gt;8</th>\n",
       "      <th>n_IBD&gt;8</th>\n",
       "      <th>sum_IBD&gt;12</th>\n",
       "      <th>n_IBD&gt;12</th>\n",
       "      <th>sum_IBD&gt;16</th>\n",
       "      <th>n_IBD&gt;16</th>\n",
       "      <th>sum_IBD&gt;20</th>\n",
       "      <th>n_IBD&gt;20</th>\n",
       "    </tr>\n",
       "  </thead>\n",
       "  <tbody>\n",
       "    <tr>\n",
       "      <th>0</th>\n",
       "      <td>gp1100_g1-b1-i1</td>\n",
       "      <td>gp1100_g3-b1-i1</td>\n",
       "      <td>192.874347</td>\n",
       "      <td>1634.317555</td>\n",
       "      <td>25.0</td>\n",
       "      <td>1634.317555</td>\n",
       "      <td>25.0</td>\n",
       "      <td>1618.616274</td>\n",
       "      <td>24.0</td>\n",
       "      <td>1618.616274</td>\n",
       "      <td>24.0</td>\n",
       "    </tr>\n",
       "    <tr>\n",
       "      <th>2</th>\n",
       "      <td>gp110_g1-b1-i1</td>\n",
       "      <td>gp110_g3-b1-i1</td>\n",
       "      <td>242.851985</td>\n",
       "      <td>1941.346520</td>\n",
       "      <td>20.0</td>\n",
       "      <td>1941.346520</td>\n",
       "      <td>20.0</td>\n",
       "      <td>1941.346520</td>\n",
       "      <td>20.0</td>\n",
       "      <td>1941.346520</td>\n",
       "      <td>20.0</td>\n",
       "    </tr>\n",
       "    <tr>\n",
       "      <th>4</th>\n",
       "      <td>gp111_g1-b1-i1</td>\n",
       "      <td>gp111_g3-b1-i1</td>\n",
       "      <td>116.434245</td>\n",
       "      <td>1406.176590</td>\n",
       "      <td>24.0</td>\n",
       "      <td>1406.176590</td>\n",
       "      <td>24.0</td>\n",
       "      <td>1406.176590</td>\n",
       "      <td>24.0</td>\n",
       "      <td>1406.176590</td>\n",
       "      <td>24.0</td>\n",
       "    </tr>\n",
       "    <tr>\n",
       "      <th>6</th>\n",
       "      <td>gp112_g1-b1-i1</td>\n",
       "      <td>gp112_g3-b1-i1</td>\n",
       "      <td>185.752565</td>\n",
       "      <td>1432.370578</td>\n",
       "      <td>14.0</td>\n",
       "      <td>1432.370578</td>\n",
       "      <td>14.0</td>\n",
       "      <td>1419.437075</td>\n",
       "      <td>13.0</td>\n",
       "      <td>1419.437075</td>\n",
       "      <td>13.0</td>\n",
       "    </tr>\n",
       "    <tr>\n",
       "      <th>8</th>\n",
       "      <td>gp113_g1-b1-i1</td>\n",
       "      <td>gp113_g3-b1-i1</td>\n",
       "      <td>176.041370</td>\n",
       "      <td>1482.046514</td>\n",
       "      <td>13.0</td>\n",
       "      <td>1482.046514</td>\n",
       "      <td>13.0</td>\n",
       "      <td>1482.046514</td>\n",
       "      <td>13.0</td>\n",
       "      <td>1482.046514</td>\n",
       "      <td>13.0</td>\n",
       "    </tr>\n",
       "  </tbody>\n",
       "</table>\n",
       "</div>"
      ],
      "text/plain": [
       "              iid1             iid2     max_IBD    sum_IBD>8  n_IBD>8  \\\n",
       "0  gp1100_g1-b1-i1  gp1100_g3-b1-i1  192.874347  1634.317555     25.0   \n",
       "2   gp110_g1-b1-i1   gp110_g3-b1-i1  242.851985  1941.346520     20.0   \n",
       "4   gp111_g1-b1-i1   gp111_g3-b1-i1  116.434245  1406.176590     24.0   \n",
       "6   gp112_g1-b1-i1   gp112_g3-b1-i1  185.752565  1432.370578     14.0   \n",
       "8   gp113_g1-b1-i1   gp113_g3-b1-i1  176.041370  1482.046514     13.0   \n",
       "\n",
       "    sum_IBD>12  n_IBD>12   sum_IBD>16  n_IBD>16   sum_IBD>20  n_IBD>20  \n",
       "0  1634.317555      25.0  1618.616274      24.0  1618.616274      24.0  \n",
       "2  1941.346520      20.0  1941.346520      20.0  1941.346520      20.0  \n",
       "4  1406.176590      24.0  1406.176590      24.0  1406.176590      24.0  \n",
       "6  1432.370578      14.0  1419.437075      13.0  1419.437075      13.0  \n",
       "8  1482.046514      13.0  1482.046514      13.0  1482.046514      13.0  "
      ]
     },
     "execution_count": 103,
     "metadata": {},
     "output_type": "execute_result"
    }
   ],
   "source": [
    "df2[:5]"
   ]
  },
  {
   "cell_type": "markdown",
   "metadata": {},
   "source": [
    "### Look into what is happening in detail"
   ]
  },
  {
   "cell_type": "code",
   "execution_count": 90,
   "metadata": {
    "tags": []
   },
   "outputs": [],
   "source": [
    "dft = load_segment_file(\"./output/ibd/gp1.seg\") "
   ]
  },
  {
   "cell_type": "code",
   "execution_count": 91,
   "metadata": {
    "tags": []
   },
   "outputs": [
    {
     "data": {
      "text/plain": [
       "17.86520118"
      ]
     },
     "execution_count": 91,
     "metadata": {},
     "output_type": "execute_result"
    }
   ],
   "source": [
    "dft = dft[dft[\"iid1\"].str.contains(\"gp11_g1-b1-s1\")]\n",
    "np.sum(dft[\"lengthM\"])"
   ]
  },
  {
   "cell_type": "code",
   "execution_count": 92,
   "metadata": {
    "tags": []
   },
   "outputs": [
    {
     "data": {
      "text/html": [
       "<div>\n",
       "<style scoped>\n",
       "    .dataframe tbody tr th:only-of-type {\n",
       "        vertical-align: middle;\n",
       "    }\n",
       "\n",
       "    .dataframe tbody tr th {\n",
       "        vertical-align: top;\n",
       "    }\n",
       "\n",
       "    .dataframe thead th {\n",
       "        text-align: right;\n",
       "    }\n",
       "</style>\n",
       "<table border=\"1\" class=\"dataframe\">\n",
       "  <thead>\n",
       "    <tr style=\"text-align: right;\">\n",
       "      <th></th>\n",
       "      <th>iid1</th>\n",
       "      <th>iid2</th>\n",
       "      <th>ch</th>\n",
       "      <th>Start</th>\n",
       "      <th>End</th>\n",
       "      <th>ibd_stat</th>\n",
       "      <th>StartM</th>\n",
       "      <th>EndM</th>\n",
       "      <th>lengthM</th>\n",
       "      <th>length</th>\n",
       "    </tr>\n",
       "  </thead>\n",
       "  <tbody>\n",
       "    <tr>\n",
       "      <th>0</th>\n",
       "      <td>gp11_g1-b1-s1</td>\n",
       "      <td>gp11_g3-b1-i1</td>\n",
       "      <td>1</td>\n",
       "      <td>64903503</td>\n",
       "      <td>249170711</td>\n",
       "      <td>IBD1</td>\n",
       "      <td>0.895544</td>\n",
       "      <td>2.617134</td>\n",
       "      <td>1.721590</td>\n",
       "      <td>184267208</td>\n",
       "    </tr>\n",
       "    <tr>\n",
       "      <th>1</th>\n",
       "      <td>gp11_g1-b1-s1</td>\n",
       "      <td>gp11_g3-b1-i1</td>\n",
       "      <td>2</td>\n",
       "      <td>40626398</td>\n",
       "      <td>78843012</td>\n",
       "      <td>IBD1</td>\n",
       "      <td>0.594556</td>\n",
       "      <td>0.973383</td>\n",
       "      <td>0.378827</td>\n",
       "      <td>38216614</td>\n",
       "    </tr>\n",
       "    <tr>\n",
       "      <th>2</th>\n",
       "      <td>gp11_g1-b1-s1</td>\n",
       "      <td>gp11_g3-b1-i1</td>\n",
       "      <td>2</td>\n",
       "      <td>125186983</td>\n",
       "      <td>218745440</td>\n",
       "      <td>IBD1</td>\n",
       "      <td>1.280966</td>\n",
       "      <td>2.072270</td>\n",
       "      <td>0.791304</td>\n",
       "      <td>93558457</td>\n",
       "    </tr>\n",
       "    <tr>\n",
       "      <th>3</th>\n",
       "      <td>gp11_g1-b1-s1</td>\n",
       "      <td>gp11_g3-b1-i1</td>\n",
       "      <td>3</td>\n",
       "      <td>10528041</td>\n",
       "      <td>108044743</td>\n",
       "      <td>IBD1</td>\n",
       "      <td>0.263846</td>\n",
       "      <td>1.156691</td>\n",
       "      <td>0.892845</td>\n",
       "      <td>97516702</td>\n",
       "    </tr>\n",
       "    <tr>\n",
       "      <th>4</th>\n",
       "      <td>gp11_g1-b1-s1</td>\n",
       "      <td>gp11_g3-b1-i1</td>\n",
       "      <td>3</td>\n",
       "      <td>159953796</td>\n",
       "      <td>197800244</td>\n",
       "      <td>IBD1</td>\n",
       "      <td>1.639254</td>\n",
       "      <td>2.168492</td>\n",
       "      <td>0.529238</td>\n",
       "      <td>37846448</td>\n",
       "    </tr>\n",
       "    <tr>\n",
       "      <th>5</th>\n",
       "      <td>gp11_g1-b1-s1</td>\n",
       "      <td>gp11_g3-b1-i1</td>\n",
       "      <td>4</td>\n",
       "      <td>5079430</td>\n",
       "      <td>96346778</td>\n",
       "      <td>IBD1</td>\n",
       "      <td>0.068479</td>\n",
       "      <td>0.995087</td>\n",
       "      <td>0.926607</td>\n",
       "      <td>91267348</td>\n",
       "    </tr>\n",
       "    <tr>\n",
       "      <th>6</th>\n",
       "      <td>gp11_g1-b1-s1</td>\n",
       "      <td>gp11_g3-b1-i1</td>\n",
       "      <td>4</td>\n",
       "      <td>184336848</td>\n",
       "      <td>190936728</td>\n",
       "      <td>IBD1</td>\n",
       "      <td>1.830149</td>\n",
       "      <td>2.002259</td>\n",
       "      <td>0.172111</td>\n",
       "      <td>6599880</td>\n",
       "    </tr>\n",
       "    <tr>\n",
       "      <th>7</th>\n",
       "      <td>gp11_g1-b1-s1</td>\n",
       "      <td>gp11_g3-b1-i1</td>\n",
       "      <td>5</td>\n",
       "      <td>157856</td>\n",
       "      <td>17223807</td>\n",
       "      <td>IBD1</td>\n",
       "      <td>0.000000</td>\n",
       "      <td>0.350055</td>\n",
       "      <td>0.350055</td>\n",
       "      <td>17065951</td>\n",
       "    </tr>\n",
       "    <tr>\n",
       "      <th>8</th>\n",
       "      <td>gp11_g1-b1-s1</td>\n",
       "      <td>gp11_g3-b1-i1</td>\n",
       "      <td>6</td>\n",
       "      <td>183917</td>\n",
       "      <td>3341732</td>\n",
       "      <td>IBD1</td>\n",
       "      <td>0.000000</td>\n",
       "      <td>0.086968</td>\n",
       "      <td>0.086968</td>\n",
       "      <td>3157815</td>\n",
       "    </tr>\n",
       "    <tr>\n",
       "      <th>9</th>\n",
       "      <td>gp11_g1-b1-s1</td>\n",
       "      <td>gp11_g3-b1-i1</td>\n",
       "      <td>7</td>\n",
       "      <td>46239</td>\n",
       "      <td>8790915</td>\n",
       "      <td>IBD1</td>\n",
       "      <td>0.000000</td>\n",
       "      <td>0.153970</td>\n",
       "      <td>0.153970</td>\n",
       "      <td>8744676</td>\n",
       "    </tr>\n",
       "    <tr>\n",
       "      <th>10</th>\n",
       "      <td>gp11_g1-b1-s1</td>\n",
       "      <td>gp11_g3-b1-i1</td>\n",
       "      <td>7</td>\n",
       "      <td>107310332</td>\n",
       "      <td>159119486</td>\n",
       "      <td>IBD1</td>\n",
       "      <td>1.120814</td>\n",
       "      <td>1.760414</td>\n",
       "      <td>0.639600</td>\n",
       "      <td>51809154</td>\n",
       "    </tr>\n",
       "    <tr>\n",
       "      <th>11</th>\n",
       "      <td>gp11_g1-b1-s1</td>\n",
       "      <td>gp11_g3-b1-i1</td>\n",
       "      <td>8</td>\n",
       "      <td>139175613</td>\n",
       "      <td>146280471</td>\n",
       "      <td>IBD1</td>\n",
       "      <td>1.461590</td>\n",
       "      <td>1.599560</td>\n",
       "      <td>0.137970</td>\n",
       "      <td>7104858</td>\n",
       "    </tr>\n",
       "  </tbody>\n",
       "</table>\n",
       "</div>"
      ],
      "text/plain": [
       "             iid1           iid2  ch      Start        End ibd_stat    StartM  \\\n",
       "0   gp11_g1-b1-s1  gp11_g3-b1-i1   1   64903503  249170711     IBD1  0.895544   \n",
       "1   gp11_g1-b1-s1  gp11_g3-b1-i1   2   40626398   78843012     IBD1  0.594556   \n",
       "2   gp11_g1-b1-s1  gp11_g3-b1-i1   2  125186983  218745440     IBD1  1.280966   \n",
       "3   gp11_g1-b1-s1  gp11_g3-b1-i1   3   10528041  108044743     IBD1  0.263846   \n",
       "4   gp11_g1-b1-s1  gp11_g3-b1-i1   3  159953796  197800244     IBD1  1.639254   \n",
       "5   gp11_g1-b1-s1  gp11_g3-b1-i1   4    5079430   96346778     IBD1  0.068479   \n",
       "6   gp11_g1-b1-s1  gp11_g3-b1-i1   4  184336848  190936728     IBD1  1.830149   \n",
       "7   gp11_g1-b1-s1  gp11_g3-b1-i1   5     157856   17223807     IBD1  0.000000   \n",
       "8   gp11_g1-b1-s1  gp11_g3-b1-i1   6     183917    3341732     IBD1  0.000000   \n",
       "9   gp11_g1-b1-s1  gp11_g3-b1-i1   7      46239    8790915     IBD1  0.000000   \n",
       "10  gp11_g1-b1-s1  gp11_g3-b1-i1   7  107310332  159119486     IBD1  1.120814   \n",
       "11  gp11_g1-b1-s1  gp11_g3-b1-i1   8  139175613  146280471     IBD1  1.461590   \n",
       "\n",
       "        EndM   lengthM     length  \n",
       "0   2.617134  1.721590  184267208  \n",
       "1   0.973383  0.378827   38216614  \n",
       "2   2.072270  0.791304   93558457  \n",
       "3   1.156691  0.892845   97516702  \n",
       "4   2.168492  0.529238   37846448  \n",
       "5   0.995087  0.926607   91267348  \n",
       "6   2.002259  0.172111    6599880  \n",
       "7   0.350055  0.350055   17065951  \n",
       "8   0.086968  0.086968    3157815  \n",
       "9   0.153970  0.153970    8744676  \n",
       "10  1.760414  0.639600   51809154  \n",
       "11  1.599560  0.137970    7104858  "
      ]
     },
     "execution_count": 92,
     "metadata": {},
     "output_type": "execute_result"
    }
   ],
   "source": [
    "dft[:12]"
   ]
  },
  {
   "cell_type": "code",
   "execution_count": 93,
   "metadata": {
    "tags": []
   },
   "outputs": [],
   "source": [
    "#dft2 = merge_called_blocks(dft, output=True)\n",
    "dft2 = cap_ibd_boarders(dft, h5_path=h5_path)"
   ]
  },
  {
   "cell_type": "code",
   "execution_count": 94,
   "metadata": {
    "tags": []
   },
   "outputs": [
    {
     "data": {
      "text/html": [
       "<div>\n",
       "<style scoped>\n",
       "    .dataframe tbody tr th:only-of-type {\n",
       "        vertical-align: middle;\n",
       "    }\n",
       "\n",
       "    .dataframe tbody tr th {\n",
       "        vertical-align: top;\n",
       "    }\n",
       "\n",
       "    .dataframe thead th {\n",
       "        text-align: right;\n",
       "    }\n",
       "</style>\n",
       "<table border=\"1\" class=\"dataframe\">\n",
       "  <thead>\n",
       "    <tr style=\"text-align: right;\">\n",
       "      <th></th>\n",
       "      <th>iid1</th>\n",
       "      <th>iid2</th>\n",
       "      <th>ch</th>\n",
       "      <th>Start</th>\n",
       "      <th>End</th>\n",
       "      <th>ibd_stat</th>\n",
       "      <th>StartM</th>\n",
       "      <th>EndM</th>\n",
       "      <th>lengthM</th>\n",
       "      <th>length</th>\n",
       "      <th>LengthM</th>\n",
       "    </tr>\n",
       "  </thead>\n",
       "  <tbody>\n",
       "    <tr>\n",
       "      <th>0</th>\n",
       "      <td>gp11_g1-b1-s1</td>\n",
       "      <td>gp11_g3-b1-i1</td>\n",
       "      <td>1</td>\n",
       "      <td>64903503</td>\n",
       "      <td>249170711</td>\n",
       "      <td>IBD1</td>\n",
       "      <td>0.895544</td>\n",
       "      <td>2.617134</td>\n",
       "      <td>1.721590</td>\n",
       "      <td>184267208</td>\n",
       "      <td>1.721590</td>\n",
       "    </tr>\n",
       "    <tr>\n",
       "      <th>1</th>\n",
       "      <td>gp11_g1-b1-s1</td>\n",
       "      <td>gp11_g3-b1-i1</td>\n",
       "      <td>2</td>\n",
       "      <td>40626398</td>\n",
       "      <td>78843012</td>\n",
       "      <td>IBD1</td>\n",
       "      <td>0.594556</td>\n",
       "      <td>0.973383</td>\n",
       "      <td>0.378827</td>\n",
       "      <td>38216614</td>\n",
       "      <td>0.378827</td>\n",
       "    </tr>\n",
       "    <tr>\n",
       "      <th>2</th>\n",
       "      <td>gp11_g1-b1-s1</td>\n",
       "      <td>gp11_g3-b1-i1</td>\n",
       "      <td>2</td>\n",
       "      <td>125186983</td>\n",
       "      <td>218745440</td>\n",
       "      <td>IBD1</td>\n",
       "      <td>1.280966</td>\n",
       "      <td>2.072270</td>\n",
       "      <td>0.791304</td>\n",
       "      <td>93558457</td>\n",
       "      <td>0.791304</td>\n",
       "    </tr>\n",
       "    <tr>\n",
       "      <th>3</th>\n",
       "      <td>gp11_g1-b1-s1</td>\n",
       "      <td>gp11_g3-b1-i1</td>\n",
       "      <td>3</td>\n",
       "      <td>10528041</td>\n",
       "      <td>108044743</td>\n",
       "      <td>IBD1</td>\n",
       "      <td>0.263846</td>\n",
       "      <td>1.156691</td>\n",
       "      <td>0.892845</td>\n",
       "      <td>97516702</td>\n",
       "      <td>0.892845</td>\n",
       "    </tr>\n",
       "    <tr>\n",
       "      <th>4</th>\n",
       "      <td>gp11_g1-b1-s1</td>\n",
       "      <td>gp11_g3-b1-i1</td>\n",
       "      <td>3</td>\n",
       "      <td>159953796</td>\n",
       "      <td>197800244</td>\n",
       "      <td>IBD1</td>\n",
       "      <td>1.639254</td>\n",
       "      <td>2.168492</td>\n",
       "      <td>0.529238</td>\n",
       "      <td>37846448</td>\n",
       "      <td>0.529238</td>\n",
       "    </tr>\n",
       "    <tr>\n",
       "      <th>5</th>\n",
       "      <td>gp11_g1-b1-s1</td>\n",
       "      <td>gp11_g3-b1-i1</td>\n",
       "      <td>4</td>\n",
       "      <td>5079430</td>\n",
       "      <td>96346778</td>\n",
       "      <td>IBD1</td>\n",
       "      <td>0.068479</td>\n",
       "      <td>0.995087</td>\n",
       "      <td>0.926607</td>\n",
       "      <td>91267348</td>\n",
       "      <td>0.926607</td>\n",
       "    </tr>\n",
       "    <tr>\n",
       "      <th>6</th>\n",
       "      <td>gp11_g1-b1-s1</td>\n",
       "      <td>gp11_g3-b1-i1</td>\n",
       "      <td>4</td>\n",
       "      <td>184336848</td>\n",
       "      <td>190936728</td>\n",
       "      <td>IBD1</td>\n",
       "      <td>1.830149</td>\n",
       "      <td>2.002259</td>\n",
       "      <td>0.172111</td>\n",
       "      <td>6599880</td>\n",
       "      <td>0.172111</td>\n",
       "    </tr>\n",
       "    <tr>\n",
       "      <th>7</th>\n",
       "      <td>gp11_g1-b1-s1</td>\n",
       "      <td>gp11_g3-b1-i1</td>\n",
       "      <td>5</td>\n",
       "      <td>157856</td>\n",
       "      <td>17223807</td>\n",
       "      <td>IBD1</td>\n",
       "      <td>0.000396</td>\n",
       "      <td>0.350055</td>\n",
       "      <td>0.350055</td>\n",
       "      <td>17065951</td>\n",
       "      <td>0.349659</td>\n",
       "    </tr>\n",
       "    <tr>\n",
       "      <th>8</th>\n",
       "      <td>gp11_g1-b1-s1</td>\n",
       "      <td>gp11_g3-b1-i1</td>\n",
       "      <td>6</td>\n",
       "      <td>183917</td>\n",
       "      <td>3341732</td>\n",
       "      <td>IBD1</td>\n",
       "      <td>0.003180</td>\n",
       "      <td>0.086968</td>\n",
       "      <td>0.086968</td>\n",
       "      <td>3157815</td>\n",
       "      <td>0.083788</td>\n",
       "    </tr>\n",
       "    <tr>\n",
       "      <th>9</th>\n",
       "      <td>gp11_g1-b1-s1</td>\n",
       "      <td>gp11_g3-b1-i1</td>\n",
       "      <td>7</td>\n",
       "      <td>46239</td>\n",
       "      <td>8790915</td>\n",
       "      <td>IBD1</td>\n",
       "      <td>0.000035</td>\n",
       "      <td>0.153970</td>\n",
       "      <td>0.153970</td>\n",
       "      <td>8744676</td>\n",
       "      <td>0.153935</td>\n",
       "    </tr>\n",
       "    <tr>\n",
       "      <th>10</th>\n",
       "      <td>gp11_g1-b1-s1</td>\n",
       "      <td>gp11_g3-b1-i1</td>\n",
       "      <td>7</td>\n",
       "      <td>107310332</td>\n",
       "      <td>159119486</td>\n",
       "      <td>IBD1</td>\n",
       "      <td>1.120814</td>\n",
       "      <td>1.760414</td>\n",
       "      <td>0.639600</td>\n",
       "      <td>51809154</td>\n",
       "      <td>0.639600</td>\n",
       "    </tr>\n",
       "    <tr>\n",
       "      <th>11</th>\n",
       "      <td>gp11_g1-b1-s1</td>\n",
       "      <td>gp11_g3-b1-i1</td>\n",
       "      <td>8</td>\n",
       "      <td>139175613</td>\n",
       "      <td>146280471</td>\n",
       "      <td>IBD1</td>\n",
       "      <td>1.461590</td>\n",
       "      <td>1.599560</td>\n",
       "      <td>0.137970</td>\n",
       "      <td>7104858</td>\n",
       "      <td>0.137970</td>\n",
       "    </tr>\n",
       "    <tr>\n",
       "      <th>12</th>\n",
       "      <td>gp11_g1-b1-s1</td>\n",
       "      <td>gp11_g3-b1-i1</td>\n",
       "      <td>9</td>\n",
       "      <td>17460762</td>\n",
       "      <td>114918187</td>\n",
       "      <td>IBD1</td>\n",
       "      <td>0.348235</td>\n",
       "      <td>1.103569</td>\n",
       "      <td>0.755334</td>\n",
       "      <td>97457425</td>\n",
       "      <td>0.755334</td>\n",
       "    </tr>\n",
       "    <tr>\n",
       "      <th>13</th>\n",
       "      <td>gp11_g1-b1-s1</td>\n",
       "      <td>gp11_g3-b1-i1</td>\n",
       "      <td>10</td>\n",
       "      <td>129146198</td>\n",
       "      <td>135473442</td>\n",
       "      <td>IBD1</td>\n",
       "      <td>1.491559</td>\n",
       "      <td>1.656302</td>\n",
       "      <td>0.164742</td>\n",
       "      <td>6327244</td>\n",
       "      <td>0.164742</td>\n",
       "    </tr>\n",
       "    <tr>\n",
       "      <th>14</th>\n",
       "      <td>gp11_g1-b1-s1</td>\n",
       "      <td>gp11_g3-b1-i1</td>\n",
       "      <td>11</td>\n",
       "      <td>37116903</td>\n",
       "      <td>134944770</td>\n",
       "      <td>IBD1</td>\n",
       "      <td>0.550147</td>\n",
       "      <td>1.535174</td>\n",
       "      <td>0.985028</td>\n",
       "      <td>97827867</td>\n",
       "      <td>0.985028</td>\n",
       "    </tr>\n",
       "    <tr>\n",
       "      <th>15</th>\n",
       "      <td>gp11_g1-b1-s1</td>\n",
       "      <td>gp11_g3-b1-i1</td>\n",
       "      <td>12</td>\n",
       "      <td>191619</td>\n",
       "      <td>12895340</td>\n",
       "      <td>IBD1</td>\n",
       "      <td>0.000898</td>\n",
       "      <td>0.271534</td>\n",
       "      <td>0.271534</td>\n",
       "      <td>12703721</td>\n",
       "      <td>0.270636</td>\n",
       "    </tr>\n",
       "    <tr>\n",
       "      <th>16</th>\n",
       "      <td>gp11_g1-b1-s1</td>\n",
       "      <td>gp11_g3-b1-i1</td>\n",
       "      <td>12</td>\n",
       "      <td>68247077</td>\n",
       "      <td>124843667</td>\n",
       "      <td>IBD1</td>\n",
       "      <td>0.774653</td>\n",
       "      <td>1.358796</td>\n",
       "      <td>0.584143</td>\n",
       "      <td>56596590</td>\n",
       "      <td>0.584143</td>\n",
       "    </tr>\n",
       "    <tr>\n",
       "      <th>17</th>\n",
       "      <td>gp11_g1-b1-s1</td>\n",
       "      <td>gp11_g3-b1-i1</td>\n",
       "      <td>13</td>\n",
       "      <td>19260565</td>\n",
       "      <td>115074878</td>\n",
       "      <td>IBD1</td>\n",
       "      <td>0.001903</td>\n",
       "      <td>1.250988</td>\n",
       "      <td>1.250988</td>\n",
       "      <td>95814313</td>\n",
       "      <td>1.249085</td>\n",
       "    </tr>\n",
       "    <tr>\n",
       "      <th>18</th>\n",
       "      <td>gp11_g1-b1-s1</td>\n",
       "      <td>gp11_g3-b1-i1</td>\n",
       "      <td>14</td>\n",
       "      <td>29024675</td>\n",
       "      <td>101683275</td>\n",
       "      <td>IBD1</td>\n",
       "      <td>0.194691</td>\n",
       "      <td>1.090296</td>\n",
       "      <td>0.895605</td>\n",
       "      <td>72658600</td>\n",
       "      <td>0.895605</td>\n",
       "    </tr>\n",
       "    <tr>\n",
       "      <th>19</th>\n",
       "      <td>gp11_g1-b1-s1</td>\n",
       "      <td>gp11_g3-b1-i1</td>\n",
       "      <td>15</td>\n",
       "      <td>20161372</td>\n",
       "      <td>98872814</td>\n",
       "      <td>IBD1</td>\n",
       "      <td>0.000049</td>\n",
       "      <td>1.090292</td>\n",
       "      <td>1.090292</td>\n",
       "      <td>78711442</td>\n",
       "      <td>1.090243</td>\n",
       "    </tr>\n",
       "    <tr>\n",
       "      <th>20</th>\n",
       "      <td>gp11_g1-b1-s1</td>\n",
       "      <td>gp11_g3-b1-i1</td>\n",
       "      <td>16</td>\n",
       "      <td>143503</td>\n",
       "      <td>3117136</td>\n",
       "      <td>IBD1</td>\n",
       "      <td>0.000000</td>\n",
       "      <td>0.052245</td>\n",
       "      <td>0.052245</td>\n",
       "      <td>2973633</td>\n",
       "      <td>0.052245</td>\n",
       "    </tr>\n",
       "    <tr>\n",
       "      <th>21</th>\n",
       "      <td>gp11_g1-b1-s1</td>\n",
       "      <td>gp11_g3-b1-i1</td>\n",
       "      <td>16</td>\n",
       "      <td>9751007</td>\n",
       "      <td>90141355</td>\n",
       "      <td>IBD1</td>\n",
       "      <td>0.211565</td>\n",
       "      <td>1.250710</td>\n",
       "      <td>1.039145</td>\n",
       "      <td>80390348</td>\n",
       "      <td>1.039145</td>\n",
       "    </tr>\n",
       "    <tr>\n",
       "      <th>22</th>\n",
       "      <td>gp11_g1-b1-s1</td>\n",
       "      <td>gp11_g3-b1-i1</td>\n",
       "      <td>17</td>\n",
       "      <td>66982185</td>\n",
       "      <td>81050981</td>\n",
       "      <td>IBD1</td>\n",
       "      <td>0.926736</td>\n",
       "      <td>1.252023</td>\n",
       "      <td>0.325288</td>\n",
       "      <td>14068796</td>\n",
       "      <td>0.325288</td>\n",
       "    </tr>\n",
       "    <tr>\n",
       "      <th>23</th>\n",
       "      <td>gp11_g1-b1-s1</td>\n",
       "      <td>gp11_g3-b1-i1</td>\n",
       "      <td>18</td>\n",
       "      <td>1863725</td>\n",
       "      <td>78014582</td>\n",
       "      <td>IBD1</td>\n",
       "      <td>0.045932</td>\n",
       "      <td>1.164342</td>\n",
       "      <td>1.118410</td>\n",
       "      <td>76150857</td>\n",
       "      <td>1.118410</td>\n",
       "    </tr>\n",
       "    <tr>\n",
       "      <th>24</th>\n",
       "      <td>gp11_g1-b1-s1</td>\n",
       "      <td>gp11_g3-b1-i1</td>\n",
       "      <td>19</td>\n",
       "      <td>261033</td>\n",
       "      <td>59058083</td>\n",
       "      <td>IBD1</td>\n",
       "      <td>0.000019</td>\n",
       "      <td>1.035718</td>\n",
       "      <td>1.035718</td>\n",
       "      <td>58797050</td>\n",
       "      <td>1.035699</td>\n",
       "    </tr>\n",
       "    <tr>\n",
       "      <th>25</th>\n",
       "      <td>gp11_g1-b1-s1</td>\n",
       "      <td>gp11_g3-b1-i1</td>\n",
       "      <td>20</td>\n",
       "      <td>69094</td>\n",
       "      <td>62906514</td>\n",
       "      <td>IBD1</td>\n",
       "      <td>0.000011</td>\n",
       "      <td>1.067967</td>\n",
       "      <td>1.067967</td>\n",
       "      <td>62837420</td>\n",
       "      <td>1.067956</td>\n",
       "    </tr>\n",
       "    <tr>\n",
       "      <th>26</th>\n",
       "      <td>gp11_g1-b1-s1</td>\n",
       "      <td>gp11_g3-b1-i1</td>\n",
       "      <td>21</td>\n",
       "      <td>14665973</td>\n",
       "      <td>24887470</td>\n",
       "      <td>IBD1</td>\n",
       "      <td>0.008610</td>\n",
       "      <td>0.183316</td>\n",
       "      <td>0.183316</td>\n",
       "      <td>10221497</td>\n",
       "      <td>0.174706</td>\n",
       "    </tr>\n",
       "    <tr>\n",
       "      <th>27</th>\n",
       "      <td>gp11_g1-b1-s1</td>\n",
       "      <td>gp11_g3-b1-i1</td>\n",
       "      <td>22</td>\n",
       "      <td>37975875</td>\n",
       "      <td>51229805</td>\n",
       "      <td>IBD1</td>\n",
       "      <td>0.422287</td>\n",
       "      <td>0.686650</td>\n",
       "      <td>0.264362</td>\n",
       "      <td>13253930</td>\n",
       "      <td>0.264362</td>\n",
       "    </tr>\n",
       "  </tbody>\n",
       "</table>\n",
       "</div>"
      ],
      "text/plain": [
       "             iid1           iid2  ch      Start        End ibd_stat    StartM  \\\n",
       "0   gp11_g1-b1-s1  gp11_g3-b1-i1   1   64903503  249170711     IBD1  0.895544   \n",
       "1   gp11_g1-b1-s1  gp11_g3-b1-i1   2   40626398   78843012     IBD1  0.594556   \n",
       "2   gp11_g1-b1-s1  gp11_g3-b1-i1   2  125186983  218745440     IBD1  1.280966   \n",
       "3   gp11_g1-b1-s1  gp11_g3-b1-i1   3   10528041  108044743     IBD1  0.263846   \n",
       "4   gp11_g1-b1-s1  gp11_g3-b1-i1   3  159953796  197800244     IBD1  1.639254   \n",
       "5   gp11_g1-b1-s1  gp11_g3-b1-i1   4    5079430   96346778     IBD1  0.068479   \n",
       "6   gp11_g1-b1-s1  gp11_g3-b1-i1   4  184336848  190936728     IBD1  1.830149   \n",
       "7   gp11_g1-b1-s1  gp11_g3-b1-i1   5     157856   17223807     IBD1  0.000396   \n",
       "8   gp11_g1-b1-s1  gp11_g3-b1-i1   6     183917    3341732     IBD1  0.003180   \n",
       "9   gp11_g1-b1-s1  gp11_g3-b1-i1   7      46239    8790915     IBD1  0.000035   \n",
       "10  gp11_g1-b1-s1  gp11_g3-b1-i1   7  107310332  159119486     IBD1  1.120814   \n",
       "11  gp11_g1-b1-s1  gp11_g3-b1-i1   8  139175613  146280471     IBD1  1.461590   \n",
       "12  gp11_g1-b1-s1  gp11_g3-b1-i1   9   17460762  114918187     IBD1  0.348235   \n",
       "13  gp11_g1-b1-s1  gp11_g3-b1-i1  10  129146198  135473442     IBD1  1.491559   \n",
       "14  gp11_g1-b1-s1  gp11_g3-b1-i1  11   37116903  134944770     IBD1  0.550147   \n",
       "15  gp11_g1-b1-s1  gp11_g3-b1-i1  12     191619   12895340     IBD1  0.000898   \n",
       "16  gp11_g1-b1-s1  gp11_g3-b1-i1  12   68247077  124843667     IBD1  0.774653   \n",
       "17  gp11_g1-b1-s1  gp11_g3-b1-i1  13   19260565  115074878     IBD1  0.001903   \n",
       "18  gp11_g1-b1-s1  gp11_g3-b1-i1  14   29024675  101683275     IBD1  0.194691   \n",
       "19  gp11_g1-b1-s1  gp11_g3-b1-i1  15   20161372   98872814     IBD1  0.000049   \n",
       "20  gp11_g1-b1-s1  gp11_g3-b1-i1  16     143503    3117136     IBD1  0.000000   \n",
       "21  gp11_g1-b1-s1  gp11_g3-b1-i1  16    9751007   90141355     IBD1  0.211565   \n",
       "22  gp11_g1-b1-s1  gp11_g3-b1-i1  17   66982185   81050981     IBD1  0.926736   \n",
       "23  gp11_g1-b1-s1  gp11_g3-b1-i1  18    1863725   78014582     IBD1  0.045932   \n",
       "24  gp11_g1-b1-s1  gp11_g3-b1-i1  19     261033   59058083     IBD1  0.000019   \n",
       "25  gp11_g1-b1-s1  gp11_g3-b1-i1  20      69094   62906514     IBD1  0.000011   \n",
       "26  gp11_g1-b1-s1  gp11_g3-b1-i1  21   14665973   24887470     IBD1  0.008610   \n",
       "27  gp11_g1-b1-s1  gp11_g3-b1-i1  22   37975875   51229805     IBD1  0.422287   \n",
       "\n",
       "        EndM   lengthM     length   LengthM  \n",
       "0   2.617134  1.721590  184267208  1.721590  \n",
       "1   0.973383  0.378827   38216614  0.378827  \n",
       "2   2.072270  0.791304   93558457  0.791304  \n",
       "3   1.156691  0.892845   97516702  0.892845  \n",
       "4   2.168492  0.529238   37846448  0.529238  \n",
       "5   0.995087  0.926607   91267348  0.926607  \n",
       "6   2.002259  0.172111    6599880  0.172111  \n",
       "7   0.350055  0.350055   17065951  0.349659  \n",
       "8   0.086968  0.086968    3157815  0.083788  \n",
       "9   0.153970  0.153970    8744676  0.153935  \n",
       "10  1.760414  0.639600   51809154  0.639600  \n",
       "11  1.599560  0.137970    7104858  0.137970  \n",
       "12  1.103569  0.755334   97457425  0.755334  \n",
       "13  1.656302  0.164742    6327244  0.164742  \n",
       "14  1.535174  0.985028   97827867  0.985028  \n",
       "15  0.271534  0.271534   12703721  0.270636  \n",
       "16  1.358796  0.584143   56596590  0.584143  \n",
       "17  1.250988  1.250988   95814313  1.249085  \n",
       "18  1.090296  0.895605   72658600  0.895605  \n",
       "19  1.090292  1.090292   78711442  1.090243  \n",
       "20  0.052245  0.052245    2973633  0.052245  \n",
       "21  1.250710  1.039145   80390348  1.039145  \n",
       "22  1.252023  0.325288   14068796  0.325288  \n",
       "23  1.164342  1.118410   76150857  1.118410  \n",
       "24  1.035718  1.035718   58797050  1.035699  \n",
       "25  1.067967  1.067967   62837420  1.067956  \n",
       "26  0.183316  0.183316   10221497  0.174706  \n",
       "27  0.686650  0.264362   13253930  0.264362  "
      ]
     },
     "execution_count": 94,
     "metadata": {},
     "output_type": "execute_result"
    }
   ],
   "source": [
    "dft2"
   ]
  },
  {
   "cell_type": "code",
   "execution_count": 95,
   "metadata": {
    "tags": []
   },
   "outputs": [
    {
     "data": {
      "text/plain": [
       "17.86520118"
      ]
     },
     "execution_count": 95,
     "metadata": {},
     "output_type": "execute_result"
    }
   ],
   "source": [
    "np.sum(dft2[\"lengthM\"])"
   ]
  },
  {
   "cell_type": "code",
   "execution_count": 96,
   "metadata": {
    "tags": []
   },
   "outputs": [
    {
     "data": {
      "text/plain": [
       "17.86520118"
      ]
     },
     "execution_count": 96,
     "metadata": {},
     "output_type": "execute_result"
    }
   ],
   "source": [
    "dft3 = transform_to_snp_pos(dft2, h5_path=h5_path)\n",
    "np.sum(dft3[\"lengthM\"])"
   ]
  },
  {
   "cell_type": "markdown",
   "metadata": {},
   "source": [
    "### Check PEDSIM map"
   ]
  },
  {
   "cell_type": "code",
   "execution_count": 39,
   "metadata": {
    "tags": []
   },
   "outputs": [],
   "source": [
    "dfm = pd.read_csv(\"/n/groups/reich/hringbauer/git/ped-sim/refined_mf.simmap\", sep=\"\\t\")"
   ]
  },
  {
   "cell_type": "code",
   "execution_count": 44,
   "metadata": {
    "tags": []
   },
   "outputs": [
    {
     "data": {
      "text/plain": [
       "<pandas.core.groupby.generic.DataFrameGroupBy object at 0x7f2c5b0ab9d0>"
      ]
     },
     "execution_count": 44,
     "metadata": {},
     "output_type": "execute_result"
    }
   ],
   "source": [
    "dfm.groupby(\"#chr\").apply"
   ]
  },
  {
   "cell_type": "code",
   "execution_count": 46,
   "metadata": {
    "tags": []
   },
   "outputs": [],
   "source": [
    "result = dfm.groupby(\"#chr\").agg({'male_cM': ['min', 'max'], \"female_cM\":['min', 'max']})\n",
    "df_a = result"
   ]
  },
  {
   "cell_type": "code",
   "execution_count": null,
   "metadata": {
    "tags": []
   },
   "outputs": [],
   "source": [
    "df_a"
   ]
  },
  {
   "cell_type": "code",
   "execution_count": null,
   "metadata": {
    "tags": []
   },
   "outputs": [],
   "source": [
    "(result[\"female_cM\"][\"max\"] + result[\"male_cM\"][\"max\"]) / 2"
   ]
  },
  {
   "cell_type": "code",
   "execution_count": 70,
   "metadata": {
    "tags": []
   },
   "outputs": [
    {
     "name": "stdout",
     "output_type": "stream",
     "text": [
      "ch 1: 0.02013 - 2.86273\n",
      "ch 2: 0.00014 - 2.68832\n",
      "ch 3: 0.00004 - 2.23257\n",
      "ch 4: 0.00341 - 2.14542\n",
      "ch 5: 0.00040 - 2.04086\n",
      "ch 6: 0.00318 - 1.92033\n",
      "ch 7: 0.00004 - 1.87153\n",
      "ch 8: 0.00000 - 1.68002\n",
      "ch 9: 0.00164 - 1.66301\n",
      "ch 10: 0.00006 - 1.80915\n",
      "ch 11: 0.00000 - 1.58217\n",
      "ch 12: 0.00090 - 1.74680\n",
      "ch 13: 0.00190 - 1.25705\n",
      "ch 14: 0.01607 - 1.20200\n",
      "ch 15: 0.00005 - 1.41346\n",
      "ch 16: -0.00000 - 1.34026\n",
      "ch 17: -0.00026 - 1.28474\n",
      "ch 18: 0.00160 - 1.17709\n",
      "ch 19: 0.00002 - 1.07732\n",
      "ch 20: 0.00001 - 1.08213\n",
      "ch 21: 0.00861 - 0.62787\n",
      "ch 22: 0.01723 - 0.74076\n"
     ]
    }
   ],
   "source": [
    "s = 0\n",
    "for ch in range(1,23):\n",
    "    with h5py.File(f\"{h5_path}{ch}.h5\", \"r\") as f: # Load for Sanity Check. See below!\n",
    "                min_map, max_map =  f[\"variants/MAP\"][0],f[\"variants/MAP\"][-1]\n",
    "    s+= max_map\n",
    "    s-= min_map\n",
    "    print(f\"ch {ch}: {min_map:.5f} - {max_map:.5f}\")"
   ]
  }
 ],
 "metadata": {
  "kernelspec": {
   "display_name": "Python 3",
   "language": "python",
   "name": "python3"
  },
  "language_info": {
   "codemirror_mode": {
    "name": "ipython",
    "version": 3
   },
   "file_extension": ".py",
   "mimetype": "text/x-python",
   "name": "python",
   "nbconvert_exporter": "python",
   "pygments_lexer": "ipython3",
   "version": "3.7.4"
  }
 },
 "nbformat": 4,
 "nbformat_minor": 4
}
