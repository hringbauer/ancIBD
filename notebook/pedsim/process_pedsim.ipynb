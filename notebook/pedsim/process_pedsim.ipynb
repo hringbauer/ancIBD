{
 "cells": [
  {
   "cell_type": "markdown",
   "metadata": {},
   "source": [
    "# Process output of PED-Sim into ancIBD dataframes\n",
    "Use ancIBD summary statistic and IBD table format"
   ]
  },
  {
   "cell_type": "code",
   "execution_count": 1,
   "metadata": {},
   "outputs": [
    {
     "name": "stdout",
     "output_type": "stream",
     "text": [
      "bionc21\n",
      "Leipzig head node detected.\n",
      "/mnt/archgen/users/hringbauer/git/ped-sim\n",
      "CPU Count: 40\n"
     ]
    }
   ],
   "source": [
    "import numpy as np\n",
    "import os as os\n",
    "import sys as sys\n",
    "import multiprocessing as mp\n",
    "import pandas as pd\n",
    "import socket\n",
    "import matplotlib.pyplot as plt\n",
    "import h5py as h5py\n",
    "from scipy import interpolate\n",
    "\n",
    "### Pick the right path (whether on cluster or at home)\n",
    "socket_name = socket.gethostname()\n",
    "print(socket_name)\n",
    "if socket_name == \"VioletQueen\":\n",
    "    path = \"/home/harald/git/HAPSBURG/\"   # The Path on Harald's machine\n",
    "elif socket_name.startswith(\"bionc21\"):\n",
    "    print(\"Leipzig head node detected.\")\n",
    "    path = \"/mnt/archgen/users/hringbauer/git/ped-sim/\"  # The Path on Midway Cluster\n",
    "elif socket_name.startswith(\"midway2\"):\n",
    "    print(\"Midway jnovmbre partition detected.\")\n",
    "    path = \"/project2/jnovembre/hringbauer/ped-sim/\"  # The Path on Midway Cluster\n",
    "elif socket_name.startswith(\"Harald-Laptop\"):\n",
    "    print(\"Harald's new laptop detected!\")\n",
    "    path = \"/home/hringbauer/git/ped-sim/\" \n",
    "elif socket_name.startswith(\"compute-\"):\n",
    "    print(\"HSM Computational partition detected.\")\n",
    "    path = \"/n/groups/reich/hringbauer/git/ped-sim/\"  # The Path on Midway Cluster\n",
    "else: \n",
    "    raise RuntimeWarning(\"Not compatible machine. Check!!\")\n",
    "    \n",
    "os.chdir(path)  # Set the right Path (in line with Atom default)\n",
    "\n",
    "sys.path.append(\"./package/\")  # Go to the hapsburg package directory\n",
    "\n",
    "from hapsburg.PackagesSupport.pp_individual_roh_csvs import post_process_roh_df, combine_ROH_df, calc_average_roh\n",
    "from hapsburg.figures.plot_bars import plot_panel_row, prepare_dfs_plot, create_cousins_roh\n",
    "\n",
    "#sys.path.insert(0,\"/n/groups/reich/hringbauer/git/hapBLOCK/package/\")  # hack to get development package first in path\n",
    "from ancIBD.IO.ind_ibd import create_ind_ibd_df\n",
    "\n",
    "print(os.getcwd()) # Show the current working directory. Should be HAPSBURG/Notebooks/ParallelRuns\n",
    "print(f\"CPU Count: {mp.cpu_count()}\")"
   ]
  },
  {
   "cell_type": "code",
   "execution_count": 2,
   "metadata": {},
   "outputs": [],
   "source": [
    "def load_segment_file(path_segments=\"../ped-sim/output/output.seg\",\n",
    "                      cm_fac=0.01):\n",
    "    \"\"\"Load and return segment File of IBD & ROH blocks.\n",
    "    Return Pandas dataframe. \n",
    "    cm_fac: Factor with which to multiply genetic length columns\"\"\"\n",
    "    df = pd.read_csv(path_segments, sep=\"\\t\", header=None)\n",
    "    df.columns = [\"iid1\", \"iid2\", \"ch\", \"Start\", \"End\", \n",
    "                  \"ibd_stat\", \"StartM\", \"EndM\", \"lengthM\"]\n",
    "    df[\"length\"] = (df[\"End\"] - df[\"Start\"])\n",
    "    \n",
    "    for col in [\"StartM\", \"EndM\", \"lengthM\"]:\n",
    "        df[col] = df[col] * cm_fac  # Correct that original is in cm\n",
    "    return df\n",
    "\n",
    "def filter_spouse_ibd_df(df, col=\"iid1\", output=True):\n",
    "    \"\"\"Filter PED-SIM Spouses in column col.\n",
    "    Return Filtered df\"\"\"\n",
    "    s = df[col].str.split(\"-\").str[-1].str[0]\n",
    "    idx = s==\"s\"\n",
    "    df = df[~idx].reset_index(drop=True).copy()\n",
    "    if output:\n",
    "        print(f\"Filtered to {len(df)} / {len(idx)}) Entries without Spouse\")\n",
    "    return df\n",
    "\n",
    "def to_hapsburg_ibd_df(path_segments = \"../ped-sim/output/test.seg\",\n",
    "                   savepath = \"\", n=500, merge=False,\n",
    "                   h5_path = \"\", col_no_spouse = \"\",\n",
    "                   min_cms=[8, 12, 16, 20], snp_cm=220,\n",
    "                   max_gap=0, output=False, sort=True):\n",
    "    \"\"\"Load pd_sim output and post_process into Hapsburg\n",
    "    Summary output. Return this dataframe.\n",
    "    If savepath is given, save to there (tab-seperated)\n",
    "    max_gap: Maximumg Gap to merge [Morgan].\"\"\"\n",
    "    df1 = load_segment_file(path_segments)  # Load the full segment file, transfomred\n",
    "    \n",
    "    if max_gap>0:\n",
    "        df1 = merge_gaps(df1, max_gap=max_gap, coutput=True)\n",
    "        print(f\"Merging Gaps... Done\")\n",
    "    elif merge:\n",
    "        df1 = merge_called_blocks2(df1, output=True)\n",
    "        print(f\"Merging... Done\")\n",
    "    else:\n",
    "        print(f\"No merging done!\")\n",
    "        \n",
    "    ### Pre-Process if h5 given to fit ancIBD table specs\n",
    "    if len(h5_path)>0:\n",
    "        df1 = cap_ibd_boarders(df1, h5_path=h5_path)\n",
    "        df1 = transform_to_snp_pos(df1, h5_path=h5_path)\n",
    "        \n",
    "    ### Prepare Indivdiual IBD\n",
    "    df_ibd = create_ind_ibd_df(ibd_data=df1,\n",
    "                  min_cms=min_cms, snp_cm=snp_cm, min_cm=4,\n",
    "                  sort_col=-1, savepath=\"\",\n",
    "                  output=False)\n",
    "    \n",
    "    ### Filter Spouses in PedSim output\n",
    "    if len(col_no_spouse)>0:\n",
    "        df_ibd = filter_spouse_ibd_df(df_ibd, col=col_no_spouse, output=output)\n",
    "        \n",
    "    ### Save if needed\n",
    "    if len(savepath) > 0:\n",
    "        df_ibd.to_csv(savepath, sep=\"\\t\", index=False)\n",
    "        if output:\n",
    "            print(f\"Saved {len(df_ibd)} individual IBD pairs to: {savepath}\")\n",
    "        \n",
    "    #assert(len(df_ibd)==n) # can be <n if IBD=0 pairs!   \n",
    "    return df_ibd\n",
    "\n",
    "def merge_called_blocks(df, output=False):\n",
    "        \"\"\"Merge adjacent Blocks in Dataframe df and return merged Dataframe.\"\"\"\n",
    "        if len(df) == 0:\n",
    "            return df  # In case of empty dataframe don't do anything\n",
    "\n",
    "        df_n = df.drop(df.index)  # Create New Data frame with all raws removed\n",
    "        row_c = df.iloc[0, :].copy()\n",
    "        #row_c[\"lengthM\"] = row_c[\"EndM\"] - row_c[\"StartM\"] # Should be there\n",
    "\n",
    "        # Iterate over all further rows, update blocks if gaps small enough\n",
    "        for index, row in df.iloc[1:,:].iterrows():\n",
    "            ### Calculate Conditions\n",
    "            con1 = (row[\"Start\"] == row_c[\"End\"]+1)\n",
    "            con2 = row[\"ch\"] == row_c[\"ch\"]\n",
    "            con3 = row[\"iid1\"] == row_c[\"iid1\"]\n",
    "            con4 = row[\"iid2\"] == row_c[\"iid2\"]\n",
    "            \n",
    "            if con1 & con2 & con3 & con4:\n",
    "                row_c[\"End\"] = row[\"End\"]\n",
    "                row_c[\"EndM\"] = row[\"EndM\"]\n",
    "                row_c[\"length\"] = row_c[\"End\"] - row_c[\"Start\"]\n",
    "                row_c[\"lengthM\"] = row_c[\"EndM\"] - row_c[\"StartM\"]\n",
    "\n",
    "            else:  # Save and go to next row\n",
    "                df_n.loc[len(df_n)] = row_c  # Append a row to new df\n",
    "                row_c = row.copy()\n",
    "\n",
    "        df_n.loc[len(df_n)] = row_c   # Append the last row\n",
    "\n",
    "        if output == True:\n",
    "            print(f\"Merged n={len(df) - len(df_n)} gaps\")\n",
    "        return df_n\n",
    "\n",
    "def merge_called_blocks2(df, output=False):\n",
    "        \"\"\"Merge Blocks in Dataframe df and return merged Dataframe.\n",
    "        Gap is given in Morgan. Faster version, vectorized instead of for loop\"\"\"\n",
    "        if len(df) == 0:\n",
    "            return df  # In case of empty dataframe don't do anything\n",
    "\n",
    "        idx1 = df[\"Start\"].values[1:] == df[\"End\"].values[:-1]+1\n",
    "        idx2 = df[\"ch\"].values[1:] == df[\"ch\"].values[:-1]\n",
    "        idx3 = df[\"iid1\"].values[1:] == df[\"iid1\"].values[:-1]\n",
    "        idx4 = df[\"iid2\"].values[1:] == df[\"iid2\"].values[:-1]\n",
    "        \n",
    "        idx = idx1 & idx2 & idx3 & idx4\n",
    "\n",
    "        print(f\"{np.sum(idx)} Gaps to merge!\")\n",
    "        \n",
    "        ### Concatenate Segments\n",
    "        idx1 = np.concatenate(([False], idx, [False])).astype(\"int8\")\n",
    "        diff = np.diff(idx1) # [a[i]-a[i-1]\n",
    "\n",
    "        i1 =  np.where(diff==1)[0] # Where block to concatenate starts\n",
    "        i2 = np.where(diff==-1)[0] # Last segment to conatenate\n",
    "        assert(len(i1)==len(i2))\n",
    "        \n",
    "        df.loc[i1, \"End\"] = df.loc[i2, \"End\"].values\n",
    "        df.loc[i1, \"EndM\"] = df.loc[i2, \"EndM\"].values\n",
    "        ### Update Lengths\n",
    "        df.loc[i1, \"length\"] = df.loc[i1,\"End\"].values - df.loc[i1, \"Start\"].values\n",
    "        df.loc[i1, \"lengthM\"] = df.loc[i1,\"EndM\"].values - df.loc[i1, \"StartM\"].values\n",
    "        \n",
    "        idx2 =idx1[:-1].astype(\"bool\")\n",
    "        #print(idx2[-10:])\n",
    "        #print(df.head())\n",
    "        df = df[~idx2]#.reset_index(drop=True).copy() # Copy all starting segments (extended now)\n",
    "        return df\n",
    "    \n",
    "def merge_gaps(df, max_gap=0.01, coutput=False):\n",
    "        \"\"\"Merge Gaps in Dataframe df and return merged Dataframe.\n",
    "        Gap is given in Morgan. Faster version, vectorized instead of for loop\"\"\"\n",
    "        if len(df) == 0:\n",
    "            return df  # In case of empty dataframe don't do anything\n",
    "\n",
    "        idx1 = (df[\"StartM\"].values[1:] - df[\"EndM\"].values[:-1]) < max_gap\n",
    "        idx2 = df[\"ch\"].values[1:] == df[\"ch\"].values[:-1]\n",
    "        idx3 = df[\"iid1\"].values[1:] == df[\"iid1\"].values[:-1]\n",
    "        idx4 = df[\"iid2\"].values[1:] == df[\"iid2\"].values[:-1]\n",
    "        \n",
    "        idx = idx1 & idx2 & idx3 & idx4\n",
    "\n",
    "        print(f\"{np.sum(idx)} Gaps to merge!\")\n",
    "        \n",
    "        ### Concatenate Segments\n",
    "        idx1 = np.concatenate(([False], idx, [False])).astype(\"int8\")\n",
    "        diff = np.diff(idx1) # [a[i]-a[i-1]\n",
    "\n",
    "        i1 =  np.where(diff==1)[0] # Where block to concatenate starts\n",
    "        i2 = np.where(diff==-1)[0] # Last segment to conatenate\n",
    "        assert(len(i1)==len(i2))\n",
    "        \n",
    "        df.loc[i1, \"End\"] = df.loc[i2, \"End\"].values\n",
    "        df.loc[i1, \"EndM\"] = df.loc[i2, \"EndM\"].values\n",
    "        ### Update Lengths\n",
    "        df.loc[i1, \"length\"] = df.loc[i1,\"End\"].values - df.loc[i1, \"Start\"].values\n",
    "        df.loc[i1, \"lengthM\"] = df.loc[i1,\"EndM\"].values - df.loc[i1, \"StartM\"].values\n",
    "        \n",
    "        idx2 =idx1[:-1].astype(\"bool\")\n",
    "        #print(idx2[-10:])\n",
    "        #print(df.head())\n",
    "        df = df[~idx2]#.reset_index(drop=True).copy() # Copy all starting segments (extended now)\n",
    "        return df\n",
    "    \n",
    "##############################\n",
    "### Adapt to SNPs in h5\n",
    "\n",
    "def cap_ibd_boarders(df, chs = range(1,23), \n",
    "                     h5_path = \"/n/groups/reich/hringbauer/git/hapBLOCK/data/hdf5/1240k_v54.1/ch\"):\n",
    "    \"\"\"Cuts IBD segment file for ch in chs to boundaries matching h5 in h5_path\"\"\"\n",
    "    \n",
    "    for ch in chs:\n",
    "        with h5py.File(f\"{h5_path}{ch}.h5\", \"r\") as f: # Load for Sanity Check. See below!\n",
    "            min_map, max_map =  f[\"variants/MAP\"][0],f[\"variants/MAP\"][-1]\n",
    "\n",
    "        idx_ch = df[\"ch\"]==ch ## Find all segments on chromosome\n",
    "\n",
    "        ### Cut to Start Positions\n",
    "        idx = df[\"StartM\"]<min_map\n",
    "        df.loc[idx_ch & idx, \"StartM\"] = min_map\n",
    "        idx = df[\"EndM\"]<min_map\n",
    "        df.loc[idx_ch & idx, \"EndM\"] = min_map\n",
    "\n",
    "        ### Cut to End Positions\n",
    "        idx = df[\"StartM\"]>max_map\n",
    "        df.loc[idx_ch & idx, \"StartM\"] = max_map\n",
    "        idx = df[\"EndM\"]>max_map\n",
    "        df.loc[idx_ch & idx, \"EndM\"] = max_map\n",
    "\n",
    "    df[\"LengthM\"]= df[\"EndM\"]-df[\"StartM\"] # Update IBD Length\n",
    "    ### Remove IBD segments fully out of boarder\n",
    "    idx = df[\"LengthM\"]==0\n",
    "    df = df[~idx].copy().reset_index(drop=True) \n",
    "    return df\n",
    "\n",
    "def transform_to_snp_pos(df, chs=range(1,23), \n",
    "                         h5_path = \"/n/groups/reich/hringbauer/git/hapBLOCK/data/hdf5/1240k_v54.1/ch\"):\n",
    "    \"\"\"Transform positions in IBD dataframe to positions matching indices in 1240k file\"\"\"\n",
    "    \n",
    "    for ch in chs:\n",
    "        with h5py.File(f\"{h5_path}{ch}.h5\", \"r\") as f: # Load for Sanity Check. See below!\n",
    "                m = f[\"variants/MAP\"][:]\n",
    "        m = m + np.arange(len(m))/1e8 # To make sure monotonically increasing\n",
    "        p = np.arange(len(m))\n",
    "        f = interpolate.interp1d(m, p)\n",
    "        \n",
    "        ### Map to approximate index positions\n",
    "        idx_ch = df[\"ch\"]==ch ## Find all segments on chromosome\n",
    "        df.loc[idx_ch, \"Start\"] = f(df[\"StartM\"][idx_ch]) \n",
    "        df.loc[idx_ch, \"End\"] = f(df[\"EndM\"][idx_ch])\n",
    "    df[\"length\"] = df[\"End\"] - df[\"Start\"]\n",
    "    return df"
   ]
  },
  {
   "cell_type": "code",
   "execution_count": 27,
   "metadata": {},
   "outputs": [
    {
     "data": {
      "text/plain": [
       "100"
      ]
     },
     "execution_count": 27,
     "metadata": {},
     "output_type": "execute_result"
    }
   ],
   "source": [
    "len(np.arange(100)/1e8)"
   ]
  },
  {
   "cell_type": "markdown",
   "metadata": {},
   "source": [
    "# Convert to hapBLOCK format"
   ]
  },
  {
   "cell_type": "code",
   "execution_count": 6,
   "metadata": {
    "tags": []
   },
   "outputs": [],
   "source": [
    "out_folder = \"/n/groups/reich/hringbauer/git/hapBLOCK/output/pedsim/\""
   ]
  },
  {
   "cell_type": "code",
   "execution_count": 6,
   "metadata": {
    "tags": []
   },
   "outputs": [],
   "source": [
    "df1 = load_segment_file(path_segments = \"./output/ibd/sib.seg\")"
   ]
  },
  {
   "cell_type": "code",
   "execution_count": null,
   "metadata": {
    "tags": []
   },
   "outputs": [],
   "source": [
    "df1[df1[\"iid1\"].str.contains(\"sib1_g2-b1-i1\")][:50]"
   ]
  },
  {
   "cell_type": "code",
   "execution_count": 18,
   "metadata": {
    "tags": []
   },
   "outputs": [
    {
     "data": {
      "text/plain": [
       "33.46297627"
      ]
     },
     "execution_count": 18,
     "metadata": {},
     "output_type": "execute_result"
    }
   ],
   "source": [
    "dft = df1[df1[\"iid1\"].str.contains(\"gp11_g1\")]\n",
    "np.sum(dft[\"lengthM\"])"
   ]
  },
  {
   "cell_type": "code",
   "execution_count": 85,
   "metadata": {},
   "outputs": [
    {
     "name": "stdout",
     "output_type": "stream",
     "text": [
      "Saved 100 individual IBD pairs to: /n/groups/reich/hringbauer/git/hapBLOCK/output/pedsim/av2.tsv\n",
      "CPU times: user 379 ms, sys: 2.92 ms, total: 382 ms\n",
      "Wall time: 389 ms\n"
     ]
    }
   ],
   "source": [
    "%%time\n",
    "df_av2 = to_hapsburg_ibd_df(path_segments = \"./output/ibd/av2.seg\", \n",
    "                     n=100, savepath=out_folder+\"av2.tsv\")"
   ]
  },
  {
   "cell_type": "code",
   "execution_count": 92,
   "metadata": {},
   "outputs": [
    {
     "name": "stdout",
     "output_type": "stream",
     "text": [
      "Saved 100 individual IBD pairs to: /n/groups/reich/hringbauer/git/hapBLOCK/output/pedsim/av1.tsv\n",
      "CPU times: user 382 ms, sys: 1.97 ms, total: 384 ms\n",
      "Wall time: 389 ms\n"
     ]
    }
   ],
   "source": [
    "%%time\n",
    "df_av1 = to_hapsburg_ibd_df(path_segments = \"./output/ibd/av1.seg\", \n",
    "                     n=100, savepath=out_folder+\"av1.tsv\")"
   ]
  },
  {
   "cell_type": "code",
   "execution_count": 94,
   "metadata": {},
   "outputs": [
    {
     "name": "stdout",
     "output_type": "stream",
     "text": [
      "Saved 100 individual IBD pairs to: /n/groups/reich/hringbauer/git/hapBLOCK/output/pedsim/av2.tsv\n",
      "CPU times: user 381 ms, sys: 8.05 ms, total: 389 ms\n",
      "Wall time: 389 ms\n"
     ]
    }
   ],
   "source": [
    "%%time\n",
    "df_av3 = to_hapsburg_ibd_df(path_segments = \"./output/ibd/av2.seg\", \n",
    "                     n=100, savepath=out_folder+\"av2.tsv\")"
   ]
  },
  {
   "cell_type": "code",
   "execution_count": 104,
   "metadata": {},
   "outputs": [
    {
     "name": "stdout",
     "output_type": "stream",
     "text": [
      "Saved 100 individual IBD pairs to: /n/groups/reich/hringbauer/git/hapBLOCK/output/pedsim/av3.tsv\n",
      "CPU times: user 402 ms, sys: 1.92 ms, total: 404 ms\n",
      "Wall time: 407 ms\n"
     ]
    }
   ],
   "source": [
    "%%time\n",
    "df_av5 = to_hapsburg_ibd_df(path_segments = \"./output/ibd/av3.seg\", \n",
    "                     n=100, savepath=out_folder+\"av3.tsv\")"
   ]
  },
  {
   "cell_type": "code",
   "execution_count": 103,
   "metadata": {},
   "outputs": [
    {
     "name": "stdout",
     "output_type": "stream",
     "text": [
      "Saved 100 individual IBD pairs to: /n/groups/reich/hringbauer/git/hapBLOCK/output/pedsim/av4.tsv\n",
      "CPU times: user 397 ms, sys: 1.98 ms, total: 399 ms\n",
      "Wall time: 403 ms\n"
     ]
    }
   ],
   "source": [
    "%%time\n",
    "df_av5 = to_hapsburg_ibd_df(path_segments = \"./output/ibd/av4.seg\", \n",
    "                     n=100, savepath=out_folder+\"av4.tsv\")"
   ]
  },
  {
   "cell_type": "code",
   "execution_count": 102,
   "metadata": {},
   "outputs": [
    {
     "name": "stdout",
     "output_type": "stream",
     "text": [
      "Saved 100 individual IBD pairs to: /n/groups/reich/hringbauer/git/hapBLOCK/output/pedsim/av5.tsv\n",
      "CPU times: user 382 ms, sys: 5.96 ms, total: 388 ms\n",
      "Wall time: 397 ms\n"
     ]
    }
   ],
   "source": [
    "%%time\n",
    "df_av5 = to_hapsburg_ibd_df(path_segments = \"./output/ibd/av5.seg\", \n",
    "                     n=100, savepath=out_folder+\"av5.tsv\")"
   ]
  },
  {
   "cell_type": "markdown",
   "metadata": {},
   "source": [
    "### Grand Parental Relationships"
   ]
  },
  {
   "cell_type": "code",
   "execution_count": 107,
   "metadata": {},
   "outputs": [
    {
     "name": "stdout",
     "output_type": "stream",
     "text": [
      "Saved 400 individual IBD pairs to: /n/groups/reich/hringbauer/git/hapBLOCK/output/pedsim/parent.tsv\n",
      "CPU times: user 1.3 s, sys: 9.96 ms, total: 1.31 s\n",
      "Wall time: 1.32 s\n"
     ]
    }
   ],
   "source": [
    "%%time\n",
    "df_gp0 = to_hapsburg_ibd_df(path_segments = \"./output/ibd/parent.seg\", \n",
    "                            n=100, savepath=out_folder+\"parent.tsv\")"
   ]
  },
  {
   "cell_type": "code",
   "execution_count": 8,
   "metadata": {},
   "outputs": [
    {
     "name": "stdout",
     "output_type": "stream",
     "text": [
      "Saved 200 individual IBD pairs to: /n/groups/reich/hringbauer/git/hapBLOCK/output/pedsim/gp1.tsv\n",
      "CPU times: user 784 ms, sys: 9.12 ms, total: 793 ms\n",
      "Wall time: 822 ms\n"
     ]
    }
   ],
   "source": [
    "%%time\n",
    "df_gp1 = to_hapsburg_ibd_df(path_segments = \"./output/ibd/gp1.seg\", \n",
    "                            n=100, savepath=out_folder+\"gp1.tsv\")\n",
    "df_gp1 = df_gp1[::2]"
   ]
  },
  {
   "cell_type": "code",
   "execution_count": null,
   "metadata": {},
   "outputs": [],
   "source": [
    "%%time\n",
    "df_gp2 = to_hapsburg_ibd_df(path_segments = \"./output/ibd/gp2.seg\", n=100,\n",
    "                     savepath=out_folder+\"gp2.tsv\") #out_folder+\"gp2.tsv\"\n",
    "#df_gp2 = df_gp2[::2]"
   ]
  },
  {
   "cell_type": "code",
   "execution_count": 77,
   "metadata": {},
   "outputs": [
    {
     "name": "stdout",
     "output_type": "stream",
     "text": [
      "Saved 200 individual IBD pairs to: /n/groups/reich/hringbauer/git/hapBLOCK/output/pedsim/gp3.tsv\n",
      "CPU times: user 694 ms, sys: 3.99 ms, total: 698 ms\n",
      "Wall time: 706 ms\n"
     ]
    }
   ],
   "source": [
    "%%time\n",
    "df_gp3 = to_hapsburg_ibd_df(path_segments = \"./output/ibd/gp3.seg\", \n",
    "                     clst=\"gp3\", n=100,\n",
    "                     savepath=out_folder+\"gp3.tsv\")\n",
    "df_gp3 = df_gp3[::2]"
   ]
  },
  {
   "cell_type": "code",
   "execution_count": 132,
   "metadata": {},
   "outputs": [
    {
     "name": "stdout",
     "output_type": "stream",
     "text": [
      "Merged n=6646 gaps\n",
      "Saved 100 individual IBD pairs to: /n/groups/reich/hringbauer/git/hapBLOCK/output/pedsim/sib.tsv\n",
      "CPU times: user 28.7 s, sys: 32.1 ms, total: 28.7 s\n",
      "Wall time: 28.7 s\n"
     ]
    }
   ],
   "source": [
    "%%time\n",
    "df_sib = to_hapsburg_ibd_df(path_segments = \"./output/ibd/sib.seg\", \n",
    "                     n=100, savepath=out_folder+\"sib.tsv\", merge=True) ### Merging is activated here"
   ]
  },
  {
   "cell_type": "code",
   "execution_count": 81,
   "metadata": {},
   "outputs": [
    {
     "name": "stdout",
     "output_type": "stream",
     "text": [
      "Saved 100 individual IBD pairs to: /n/groups/reich/hringbauer/git/hapBLOCK/output/pedsim/hsib.tsv\n",
      "CPU times: user 378 ms, sys: 5.04 ms, total: 384 ms\n",
      "Wall time: 394 ms\n"
     ]
    }
   ],
   "source": [
    "%%time\n",
    "df_hsib = to_hapsburg_ibd_df(path_segments = \"./output/ibd/hsib.seg\", \n",
    "                     clst=\"hsib\", n=100,\n",
    "                     savepath=out_folder+\"hsib.tsv\")"
   ]
  },
  {
   "cell_type": "markdown",
   "metadata": {},
   "source": [
    "## 2) Pre-Process with H5 Filter to filtered output\n",
    "Using the cap outside of mapable region plus SNP density filter"
   ]
  },
  {
   "cell_type": "code",
   "execution_count": 104,
   "metadata": {
    "tags": []
   },
   "outputs": [],
   "source": [
    "h5_path = \"/n/groups/reich/hringbauer/git/hapBLOCK/data/hdf5/1240k_v54.1/ch\"\n",
    "out_folder = \"/n/groups/reich/hringbauer/git/hapBLOCK/output/pedsim/\""
   ]
  },
  {
   "cell_type": "code",
   "execution_count": 105,
   "metadata": {
    "tags": []
   },
   "outputs": [
    {
     "name": "stdout",
     "output_type": "stream",
     "text": [
      "Saved 100 individual IBD pairs to: /n/groups/reich/hringbauer/git/hapBLOCK/output/pedsim/av1.f.tsv\n",
      "Saved 100 individual IBD pairs to: /n/groups/reich/hringbauer/git/hapBLOCK/output/pedsim/av2.f.tsv\n",
      "Saved 100 individual IBD pairs to: /n/groups/reich/hringbauer/git/hapBLOCK/output/pedsim/av3.f.tsv\n",
      "Saved 100 individual IBD pairs to: /n/groups/reich/hringbauer/git/hapBLOCK/output/pedsim/av4.f.tsv\n",
      "Saved 99 individual IBD pairs to: /n/groups/reich/hringbauer/git/hapBLOCK/output/pedsim/av5.f.tsv\n",
      "CPU times: user 3.18 s, sys: 107 ms, total: 3.29 s\n",
      "Wall time: 4.14 s\n"
     ]
    }
   ],
   "source": [
    "%%time\n",
    "for i in range(1,6):\n",
    "    p = \"av\" + str(i)\n",
    "    dft = to_hapsburg_ibd_df(path_segments = f\"./output/ibd/{p}.seg\", \n",
    "                             h5_path=h5_path, savepath=out_folder+f\"{p}.f.tsv\")"
   ]
  },
  {
   "cell_type": "code",
   "execution_count": 106,
   "metadata": {
    "tags": []
   },
   "outputs": [
    {
     "name": "stdout",
     "output_type": "stream",
     "text": [
      "Saved 200 individual IBD pairs to: /n/groups/reich/hringbauer/git/hapBLOCK/output/pedsim/gp1.f.tsv\n",
      "Saved 200 individual IBD pairs to: /n/groups/reich/hringbauer/git/hapBLOCK/output/pedsim/gp2.f.tsv\n",
      "Saved 200 individual IBD pairs to: /n/groups/reich/hringbauer/git/hapBLOCK/output/pedsim/gp3.f.tsv\n"
     ]
    }
   ],
   "source": [
    "for i in range(1,4):\n",
    "    p = \"gp\" + str(i)\n",
    "    dft = to_hapsburg_ibd_df(path_segments = f\"./output/ibd/{p}.seg\", \n",
    "                     h5_path=h5_path,\n",
    "                     savepath=out_folder+f\"{p}.f.tsv\")"
   ]
  },
  {
   "cell_type": "code",
   "execution_count": 107,
   "metadata": {
    "tags": []
   },
   "outputs": [
    {
     "name": "stdout",
     "output_type": "stream",
     "text": [
      "Saved 400 individual IBD pairs to: /n/groups/reich/hringbauer/git/hapBLOCK/output/pedsim/parent.f.tsv\n",
      "CPU times: user 1.3 s, sys: 15.9 ms, total: 1.31 s\n",
      "Wall time: 1.48 s\n"
     ]
    }
   ],
   "source": [
    "%%time\n",
    "df_gp0 = to_hapsburg_ibd_df(path_segments = \"./output/ibd/parent.seg\", \n",
    "                            n=100, h5_path=h5_path, savepath=out_folder+\"parent.f.tsv\")"
   ]
  },
  {
   "cell_type": "code",
   "execution_count": null,
   "metadata": {
    "tags": []
   },
   "outputs": [
    {
     "name": "stdout",
     "output_type": "stream",
     "text": [
      "Merged n=6646 gaps\n"
     ]
    }
   ],
   "source": [
    "%%time\n",
    "df_sib = to_hapsburg_ibd_df(path_segments = \"./output/ibd/sib.seg\", \n",
    "                     h5_path=h5_path, savepath=out_folder+\"sib.f.tsv\", merge=True) ### Merging is activated here"
   ]
  },
  {
   "cell_type": "code",
   "execution_count": null,
   "metadata": {
    "tags": []
   },
   "outputs": [],
   "source": [
    "%%time\n",
    "df_hsib = to_hapsburg_ibd_df(path_segments = \"./output/gp2.seg\", \n",
    "                             h5_path=h5_path, savepath=out_folder+\"hsib.f.tsv\")"
   ]
  },
  {
   "cell_type": "markdown",
   "metadata": {},
   "source": [
    "# 3) Process 10k Simulations for Ben\n",
    "Simulations of 10k per replicate, done in October 2024"
   ]
  },
  {
   "cell_type": "markdown",
   "metadata": {},
   "source": [
    "## 3a) Single Test Case"
   ]
  },
  {
   "cell_type": "code",
   "execution_count": 7,
   "metadata": {},
   "outputs": [],
   "source": [
    "outfolder = \"/mnt/archgen/users/hringbauer/output/pedsim/ben10k/\"\n",
    "h5_path = \"/mnt/archgen/ibd_release/data/h5.master/v7.1/ch\""
   ]
  },
  {
   "cell_type": "code",
   "execution_count": 37,
   "metadata": {},
   "outputs": [
    {
     "name": "stdout",
     "output_type": "stream",
     "text": [
      "CPU times: user 41.4 s, sys: 478 ms, total: 41.9 s\n",
      "Wall time: 55.1 s\n"
     ]
    }
   ],
   "source": [
    "%%time\n",
    "dft = to_hapsburg_ibd_df(path_segments = \"./output/ben10k/gp3.seg\", n=10000,\n",
    "                         h5_path=h5_path, col_no_spouse=\"iid1\",\n",
    "                         savepath=os.path.join(outfolder,\"gp3.tsv\"))"
   ]
  },
  {
   "cell_type": "code",
   "execution_count": 30,
   "metadata": {},
   "outputs": [
    {
     "name": "stdout",
     "output_type": "stream",
     "text": [
      "Filtered to 8875 / 17771) Entries without Spouse\n"
     ]
    }
   ],
   "source": [
    "#dfx = filter_spouse_ibd_df(dft)"
   ]
  },
  {
   "cell_type": "code",
   "execution_count": 40,
   "metadata": {},
   "outputs": [
    {
     "data": {
      "text/plain": [
       "9.1195"
      ]
     },
     "execution_count": 40,
     "metadata": {},
     "output_type": "execute_result"
    }
   ],
   "source": [
    "np.mean(dft[\"n_IBD>12\"])"
   ]
  },
  {
   "cell_type": "code",
   "execution_count": 41,
   "metadata": {},
   "outputs": [
    {
     "data": {
      "text/plain": [
       "352.75759780680005"
      ]
     },
     "execution_count": 41,
     "metadata": {},
     "output_type": "execute_result"
    }
   ],
   "source": [
    "np.mean(dft[\"sum_IBD>12\"])"
   ]
  },
  {
   "cell_type": "code",
   "execution_count": 49,
   "metadata": {},
   "outputs": [
    {
     "name": "stdout",
     "output_type": "stream",
     "text": [
      "CPU times: user 20.4 s, sys: 162 ms, total: 20.5 s\n",
      "Wall time: 20.5 s\n"
     ]
    }
   ],
   "source": [
    "%%time\n",
    "dft = to_hapsburg_ibd_df(path_segments = \"./output/ben10k/av3.seg\", n=10000,\n",
    "                         h5_path=h5_path, col_no_spouse=\"\",\n",
    "                         savepath=os.path.join(outfolder,\"av3.tsv\"))"
   ]
  },
  {
   "cell_type": "code",
   "execution_count": 50,
   "metadata": {},
   "outputs": [
    {
     "data": {
      "text/plain": [
       "19.1755"
      ]
     },
     "execution_count": 50,
     "metadata": {},
     "output_type": "execute_result"
    }
   ],
   "source": [
    "np.mean(dft[\"n_IBD>12\"])"
   ]
  },
  {
   "cell_type": "code",
   "execution_count": 51,
   "metadata": {},
   "outputs": [
    {
     "data": {
      "text/plain": [
       "683.7132404335999"
      ]
     },
     "execution_count": 51,
     "metadata": {},
     "output_type": "execute_result"
    }
   ],
   "source": [
    "np.mean(dft[\"sum_IBD>12\"])"
   ]
  },
  {
   "cell_type": "code",
   "execution_count": 54,
   "metadata": {},
   "outputs": [
    {
     "data": {
      "text/plain": [
       "10000"
      ]
     },
     "execution_count": 54,
     "metadata": {},
     "output_type": "execute_result"
    }
   ],
   "source": [
    "len(dft)"
   ]
  },
  {
   "cell_type": "markdown",
   "metadata": {},
   "source": [
    "## 3b) Process all GPs"
   ]
  },
  {
   "cell_type": "code",
   "execution_count": null,
   "metadata": {},
   "outputs": [],
   "source": [
    "rels = [f\"gp{i}\" for i in range(1,9)]\n",
    "\n",
    "dfts = [] # Result IBD dataframe list\n",
    "for r in rels:\n",
    "    dft = to_hapsburg_ibd_df(path_segments = f\"./output/ben10k/{r}.seg\", n=10000,\n",
    "                         h5_path=h5_path, col_no_spouse=\"iid1\", merge=True,\n",
    "                         savepath=os.path.join(outfolder,f\"{r}.tsv\"))\n",
    "    dfts.append(dft)"
   ]
  },
  {
   "cell_type": "code",
   "execution_count": null,
   "metadata": {},
   "outputs": [],
   "source": [
    "print(f\"Finished\")"
   ]
  },
  {
   "cell_type": "code",
   "execution_count": 48,
   "metadata": {},
   "outputs": [
    {
     "data": {
      "text/plain": [
       "[1523.2851487385,\n",
       " 735.1855815658,\n",
       " 352.75759780680005,\n",
       " 168.0259323841842,\n",
       " 80.15155665531698,\n",
       " 43.09825078659155,\n",
       " 25.385623307374715,\n",
       " 17.7458015921381]"
      ]
     },
     "execution_count": 48,
     "metadata": {},
     "output_type": "execute_result"
    }
   ],
   "source": [
    "[np.mean(dft[\"sum_IBD>12\"]) for dft in dfts]"
   ]
  },
  {
   "cell_type": "code",
   "execution_count": 53,
   "metadata": {},
   "outputs": [
    {
     "data": {
      "text/plain": [
       "['gp1', 'gp2', 'gp3', 'gp4', 'gp5', 'gp6', 'gp7', 'gp8']"
      ]
     },
     "execution_count": 53,
     "metadata": {},
     "output_type": "execute_result"
    }
   ],
   "source": [
    "rels"
   ]
  },
  {
   "cell_type": "markdown",
   "metadata": {},
   "source": [
    "## 3c) Process all avunculars"
   ]
  },
  {
   "cell_type": "code",
   "execution_count": null,
   "metadata": {},
   "outputs": [],
   "source": [
    "rels = [f\"av{i}\" for i in range(2,10)]\n",
    "\n",
    "dfts = [] # Result IBD dataframe list\n",
    "for r in rels:\n",
    "    dft = to_hapsburg_ibd_df(path_segments = f\"./output/ben10k/{r}.seg\", n=10000,\n",
    "                         h5_path=h5_path, col_no_spouse=\"\", merge=True,\n",
    "                         savepath=os.path.join(outfolder,f\"{r}.tsv\"))\n",
    "    dfts.append(dft)"
   ]
  },
  {
   "cell_type": "code",
   "execution_count": null,
   "metadata": {},
   "outputs": [],
   "source": [
    "print(\"Finished\")"
   ]
  },
  {
   "cell_type": "code",
   "execution_count": 57,
   "metadata": {},
   "outputs": [
    {
     "data": {
      "text/plain": [
       "[1462.4879566866,\n",
       " 708.2551129084001,\n",
       " 344.63930038600006,\n",
       " 167.7862662967374,\n",
       " 82.07977099443038,\n",
       " 43.19106461694878,\n",
       " 25.6381693844889,\n",
       " 17.366125536796538]"
      ]
     },
     "execution_count": 57,
     "metadata": {},
     "output_type": "execute_result"
    }
   ],
   "source": [
    "[np.mean(dft[\"sum_IBD>8\"]) for dft in dfts]"
   ]
  },
  {
   "cell_type": "code",
   "execution_count": 58,
   "metadata": {},
   "outputs": [
    {
     "data": {
      "text/plain": [
       "[10000, 10000, 10000, 9992, 9875, 9098, 7298, 5082]"
      ]
     },
     "execution_count": 58,
     "metadata": {},
     "output_type": "execute_result"
    }
   ],
   "source": [
    "[len(dft[\"sum_IBD>8\"]) for dft in dfts]"
   ]
  },
  {
   "cell_type": "markdown",
   "metadata": {},
   "source": [
    "### 3d) Process specific cases"
   ]
  },
  {
   "cell_type": "code",
   "execution_count": 61,
   "metadata": {},
   "outputs": [],
   "source": [
    "dft = to_hapsburg_ibd_df(path_segments = f\"./output/ben10k/po.seg\", n=1,\n",
    "                         h5_path=h5_path, col_no_spouse=\"iid1\",\n",
    "                         savepath=os.path.join(outfolder,f\"po.tsv\"))"
   ]
  },
  {
   "cell_type": "code",
   "execution_count": 99,
   "metadata": {},
   "outputs": [
    {
     "name": "stdout",
     "output_type": "stream",
     "text": [
      "668637 Gaps to merge!\n",
      "CPU times: user 21.4 s, sys: 456 ms, total: 21.8 s\n",
      "Wall time: 23.7 s\n"
     ]
    }
   ],
   "source": [
    "%%time\n",
    "dft = to_hapsburg_ibd_df(path_segments = f\"./output/ben10k/fs.seg\", n=10000,\n",
    "                         h5_path=h5_path, col_no_spouse=\"\", merge=True,\n",
    "                         savepath=os.path.join(outfolder, f\"fs.tsv\"))"
   ]
  },
  {
   "cell_type": "code",
   "execution_count": 102,
   "metadata": {},
   "outputs": [
    {
     "name": "stdout",
     "output_type": "stream",
     "text": [
      "0 Gaps to merge!\n",
      "CPU times: user 20.1 s, sys: 168 ms, total: 20.3 s\n",
      "Wall time: 20.4 s\n"
     ]
    }
   ],
   "source": [
    "%%time\n",
    "dft = to_hapsburg_ibd_df(path_segments = f\"./output/ben10k/cf3.seg\", n=10000,\n",
    "                         h5_path=h5_path, col_no_spouse=\"\", merge=True,\n",
    "                         savepath=os.path.join(outfolder, f\"cf3.tsv\"))"
   ]
  },
  {
   "cell_type": "code",
   "execution_count": 132,
   "metadata": {},
   "outputs": [
    {
     "data": {
      "text/plain": [
       "669.4882798314001"
      ]
     },
     "execution_count": 132,
     "metadata": {},
     "output_type": "execute_result"
    }
   ],
   "source": [
    "np.mean(dft[\"sum_IBD>12\"])#/3100"
   ]
  },
  {
   "cell_type": "code",
   "execution_count": 101,
   "metadata": {},
   "outputs": [
    {
     "data": {
      "text/plain": [
       "34.8754"
      ]
     },
     "execution_count": 101,
     "metadata": {},
     "output_type": "execute_result"
    }
   ],
   "source": [
    "np.mean(dft[\"n_IBD>12\"]) #62.2762"
   ]
  },
  {
   "cell_type": "code",
   "execution_count": 98,
   "metadata": {},
   "outputs": [
    {
     "name": "stdout",
     "output_type": "stream",
     "text": [
      "/mnt/archgen/users/hringbauer/output/pedsim/ben10k/\n"
     ]
    }
   ],
   "source": [
    "print(outfolder)"
   ]
  },
  {
   "cell_type": "code",
   "execution_count": 97,
   "metadata": {},
   "outputs": [
    {
     "name": "stdout",
     "output_type": "stream",
     "text": [
      "Finished\n"
     ]
    }
   ],
   "source": [
    "print(f\"Finished\")"
   ]
  },
  {
   "cell_type": "markdown",
   "metadata": {},
   "source": [
    "# 3) Post-Process Ben10k with merging gaps"
   ]
  },
  {
   "cell_type": "code",
   "execution_count": 3,
   "metadata": {},
   "outputs": [],
   "source": [
    "rels = [f\"gp{i}\" for i in range(2,10)]\n",
    "rels1 = [f\"av{i}\" for i in range(2,10)]\n",
    "run_rels = rels + rels1 + [\"fs\", \"po\"]\n",
    "\n",
    "outfolder = \"/mnt/archgen/users/hringbauer/output/pedsim/ben10kgap1/\"\n",
    "h5_path = \"/mnt/archgen/ibd_release/data/h5.master/v7.1/ch\""
   ]
  },
  {
   "cell_type": "code",
   "execution_count": 4,
   "metadata": {},
   "outputs": [
    {
     "name": "stdout",
     "output_type": "stream",
     "text": [
      "Processing... gp2\n",
      "579 Gaps to merge!\n",
      "Merging Gaps... Done\n",
      "Processing... gp3\n",
      "588 Gaps to merge!\n",
      "Merging Gaps... Done\n",
      "Processing... gp4\n",
      "370 Gaps to merge!\n",
      "Merging Gaps... Done\n",
      "Processing... gp5\n",
      "252 Gaps to merge!\n",
      "Merging Gaps... Done\n",
      "Processing... gp6\n",
      "166 Gaps to merge!\n",
      "Merging Gaps... Done\n",
      "Processing... gp7\n",
      "98 Gaps to merge!\n",
      "Merging Gaps... Done\n",
      "Processing... gp8\n",
      "60 Gaps to merge!\n",
      "Merging Gaps... Done\n",
      "Processing... gp9\n",
      "27 Gaps to merge!\n",
      "Merging Gaps... Done\n",
      "Processing... av2\n",
      "7909 Gaps to merge!\n",
      "Merging Gaps... Done\n",
      "Processing... av3\n",
      "4143 Gaps to merge!\n",
      "Merging Gaps... Done\n",
      "Processing... av4\n",
      "2124 Gaps to merge!\n",
      "Merging Gaps... Done\n",
      "Processing... av5\n",
      "1064 Gaps to merge!\n",
      "Merging Gaps... Done\n",
      "Processing... av6\n",
      "559 Gaps to merge!\n",
      "Merging Gaps... Done\n",
      "Processing... av7\n",
      "265 Gaps to merge!\n",
      "Merging Gaps... Done\n",
      "Processing... av8\n",
      "151 Gaps to merge!\n",
      "Merging Gaps... Done\n",
      "Processing... av9\n",
      "75 Gaps to merge!\n",
      "Merging Gaps... Done\n",
      "Processing... fs\n",
      "678402 Gaps to merge!\n",
      "Merging Gaps... Done\n",
      "Processing... po\n",
      "0 Gaps to merge!\n",
      "Merging Gaps... Done\n"
     ]
    }
   ],
   "source": [
    "for r in run_rels:\n",
    "    print(f\"Processing... {r}\")\n",
    "    dft = to_hapsburg_ibd_df(path_segments = f\"./output/ben10k/{r}.seg\", n=10000,\n",
    "                         h5_path=h5_path, col_no_spouse=\"iid1\", max_gap=0.01,\n",
    "                         savepath=os.path.join(outfolder, f\"{r}.tsv\"))"
   ]
  },
  {
   "cell_type": "markdown",
   "metadata": {},
   "source": [
    "# Area 51"
   ]
  },
  {
   "cell_type": "markdown",
   "metadata": {},
   "source": [
    "### Visualize Outputs\n",
    "For QCing"
   ]
  },
  {
   "cell_type": "markdown",
   "metadata": {},
   "source": [
    "### Test cutting to ancIBD SNPs"
   ]
  },
  {
   "cell_type": "code",
   "execution_count": 97,
   "metadata": {
    "tags": []
   },
   "outputs": [
    {
     "name": "stdout",
     "output_type": "stream",
     "text": [
      "CPU times: user 766 ms, sys: 4.19 ms, total: 770 ms\n",
      "Wall time: 784 ms\n"
     ]
    }
   ],
   "source": [
    "%%time\n",
    "df1 = to_hapsburg_ibd_df(path_segments = \"./output/ibd/gp1.seg\", \n",
    "                            n=100, savepath=\"\")\n",
    "df1 = df1[::2]"
   ]
  },
  {
   "cell_type": "code",
   "execution_count": 98,
   "metadata": {},
   "outputs": [],
   "source": [
    "h5_path = \"/n/groups/reich/hringbauer/git/hapBLOCK/data/hdf5/1240k_v54.1/ch\""
   ]
  },
  {
   "cell_type": "code",
   "execution_count": 99,
   "metadata": {
    "tags": []
   },
   "outputs": [],
   "source": [
    "df2 = to_hapsburg_ibd_df(path_segments = \"./output/ibd/gp1.seg\", \n",
    "                            n=100, savepath=\"\", h5_path=h5_path)\n",
    "df2 = df2[::2]"
   ]
  },
  {
   "cell_type": "code",
   "execution_count": 102,
   "metadata": {
    "tags": []
   },
   "outputs": [
    {
     "data": {
      "text/html": [
       "<div>\n",
       "<style scoped>\n",
       "    .dataframe tbody tr th:only-of-type {\n",
       "        vertical-align: middle;\n",
       "    }\n",
       "\n",
       "    .dataframe tbody tr th {\n",
       "        vertical-align: top;\n",
       "    }\n",
       "\n",
       "    .dataframe thead th {\n",
       "        text-align: right;\n",
       "    }\n",
       "</style>\n",
       "<table border=\"1\" class=\"dataframe\">\n",
       "  <thead>\n",
       "    <tr style=\"text-align: right;\">\n",
       "      <th></th>\n",
       "      <th>iid1</th>\n",
       "      <th>iid2</th>\n",
       "      <th>max_IBD</th>\n",
       "      <th>sum_IBD&gt;8</th>\n",
       "      <th>n_IBD&gt;8</th>\n",
       "      <th>sum_IBD&gt;12</th>\n",
       "      <th>n_IBD&gt;12</th>\n",
       "      <th>sum_IBD&gt;16</th>\n",
       "      <th>n_IBD&gt;16</th>\n",
       "      <th>sum_IBD&gt;20</th>\n",
       "      <th>n_IBD&gt;20</th>\n",
       "    </tr>\n",
       "  </thead>\n",
       "  <tbody>\n",
       "    <tr>\n",
       "      <th>0</th>\n",
       "      <td>gp1100_g1-b1-i1</td>\n",
       "      <td>gp1100_g3-b1-i1</td>\n",
       "      <td>192.874347</td>\n",
       "      <td>1746.426962</td>\n",
       "      <td>29.0</td>\n",
       "      <td>1736.039010</td>\n",
       "      <td>28.0</td>\n",
       "      <td>1720.337729</td>\n",
       "      <td>27.0</td>\n",
       "      <td>1720.337729</td>\n",
       "      <td>27.0</td>\n",
       "    </tr>\n",
       "    <tr>\n",
       "      <th>2</th>\n",
       "      <td>gp110_g1-b1-i1</td>\n",
       "      <td>gp110_g3-b1-i1</td>\n",
       "      <td>242.851985</td>\n",
       "      <td>2035.172834</td>\n",
       "      <td>25.0</td>\n",
       "      <td>2026.540072</td>\n",
       "      <td>24.0</td>\n",
       "      <td>1998.900486</td>\n",
       "      <td>22.0</td>\n",
       "      <td>1998.900486</td>\n",
       "      <td>22.0</td>\n",
       "    </tr>\n",
       "    <tr>\n",
       "      <th>4</th>\n",
       "      <td>gp111_g1-b1-i1</td>\n",
       "      <td>gp111_g3-b1-i1</td>\n",
       "      <td>116.434245</td>\n",
       "      <td>1598.210961</td>\n",
       "      <td>30.0</td>\n",
       "      <td>1598.210961</td>\n",
       "      <td>30.0</td>\n",
       "      <td>1570.532368</td>\n",
       "      <td>28.0</td>\n",
       "      <td>1552.432806</td>\n",
       "      <td>27.0</td>\n",
       "    </tr>\n",
       "    <tr>\n",
       "      <th>6</th>\n",
       "      <td>gp112_g1-b1-i1</td>\n",
       "      <td>gp112_g3-b1-i1</td>\n",
       "      <td>185.752565</td>\n",
       "      <td>1567.133708</td>\n",
       "      <td>19.0</td>\n",
       "      <td>1547.553592</td>\n",
       "      <td>17.0</td>\n",
       "      <td>1522.518194</td>\n",
       "      <td>15.0</td>\n",
       "      <td>1522.518194</td>\n",
       "      <td>15.0</td>\n",
       "    </tr>\n",
       "    <tr>\n",
       "      <th>8</th>\n",
       "      <td>gp113_g1-b1-i1</td>\n",
       "      <td>gp113_g3-b1-i1</td>\n",
       "      <td>176.041370</td>\n",
       "      <td>1533.982934</td>\n",
       "      <td>15.0</td>\n",
       "      <td>1533.982934</td>\n",
       "      <td>15.0</td>\n",
       "      <td>1521.457607</td>\n",
       "      <td>14.0</td>\n",
       "      <td>1521.457607</td>\n",
       "      <td>14.0</td>\n",
       "    </tr>\n",
       "  </tbody>\n",
       "</table>\n",
       "</div>"
      ],
      "text/plain": [
       "              iid1             iid2     max_IBD    sum_IBD>8  n_IBD>8  \\\n",
       "0  gp1100_g1-b1-i1  gp1100_g3-b1-i1  192.874347  1746.426962     29.0   \n",
       "2   gp110_g1-b1-i1   gp110_g3-b1-i1  242.851985  2035.172834     25.0   \n",
       "4   gp111_g1-b1-i1   gp111_g3-b1-i1  116.434245  1598.210961     30.0   \n",
       "6   gp112_g1-b1-i1   gp112_g3-b1-i1  185.752565  1567.133708     19.0   \n",
       "8   gp113_g1-b1-i1   gp113_g3-b1-i1  176.041370  1533.982934     15.0   \n",
       "\n",
       "    sum_IBD>12  n_IBD>12   sum_IBD>16  n_IBD>16   sum_IBD>20  n_IBD>20  \n",
       "0  1736.039010      28.0  1720.337729      27.0  1720.337729      27.0  \n",
       "2  2026.540072      24.0  1998.900486      22.0  1998.900486      22.0  \n",
       "4  1598.210961      30.0  1570.532368      28.0  1552.432806      27.0  \n",
       "6  1547.553592      17.0  1522.518194      15.0  1522.518194      15.0  \n",
       "8  1533.982934      15.0  1521.457607      14.0  1521.457607      14.0  "
      ]
     },
     "execution_count": 102,
     "metadata": {},
     "output_type": "execute_result"
    }
   ],
   "source": [
    "df1[:5]"
   ]
  },
  {
   "cell_type": "markdown",
   "metadata": {},
   "source": [
    "### Look into what is happening in detail"
   ]
  },
  {
   "cell_type": "code",
   "execution_count": 69,
   "metadata": {},
   "outputs": [],
   "source": [
    "dft = load_segment_file(\"./output/ben10k/fs.seg\") "
   ]
  },
  {
   "cell_type": "code",
   "execution_count": 71,
   "metadata": {},
   "outputs": [],
   "source": [
    "dft = dft[dft[\"iid1\"].str.contains(\"fs1_g2-b1-i1\")]"
   ]
  },
  {
   "cell_type": "code",
   "execution_count": 73,
   "metadata": {},
   "outputs": [
    {
     "name": "stdout",
     "output_type": "stream",
     "text": [
      "Merged n=61 gaps\n"
     ]
    }
   ],
   "source": [
    "dft2 = merge_called_blocks(dft, output=True)"
   ]
  },
  {
   "cell_type": "code",
   "execution_count": 77,
   "metadata": {},
   "outputs": [
    {
     "data": {
      "text/html": [
       "<div>\n",
       "<style scoped>\n",
       "    .dataframe tbody tr th:only-of-type {\n",
       "        vertical-align: middle;\n",
       "    }\n",
       "\n",
       "    .dataframe tbody tr th {\n",
       "        vertical-align: top;\n",
       "    }\n",
       "\n",
       "    .dataframe thead th {\n",
       "        text-align: right;\n",
       "    }\n",
       "</style>\n",
       "<table border=\"1\" class=\"dataframe\">\n",
       "  <thead>\n",
       "    <tr style=\"text-align: right;\">\n",
       "      <th></th>\n",
       "      <th>iid1</th>\n",
       "      <th>iid2</th>\n",
       "      <th>ch</th>\n",
       "      <th>Start</th>\n",
       "      <th>End</th>\n",
       "      <th>ibd_stat</th>\n",
       "      <th>StartM</th>\n",
       "      <th>EndM</th>\n",
       "      <th>lengthM</th>\n",
       "      <th>length</th>\n",
       "    </tr>\n",
       "  </thead>\n",
       "  <tbody>\n",
       "    <tr>\n",
       "      <th>0</th>\n",
       "      <td>fs1_g2-b1-i1</td>\n",
       "      <td>fs1_g2-b2-i1</td>\n",
       "      <td>1</td>\n",
       "      <td>752721</td>\n",
       "      <td>9068827</td>\n",
       "      <td>IBD1</td>\n",
       "      <td>0.000000</td>\n",
       "      <td>0.163676</td>\n",
       "      <td>0.163676</td>\n",
       "      <td>8316106</td>\n",
       "    </tr>\n",
       "    <tr>\n",
       "      <th>1</th>\n",
       "      <td>fs1_g2-b1-i1</td>\n",
       "      <td>fs1_g2-b2-i1</td>\n",
       "      <td>1</td>\n",
       "      <td>9068828</td>\n",
       "      <td>9473183</td>\n",
       "      <td>IBD2</td>\n",
       "      <td>0.163676</td>\n",
       "      <td>0.174239</td>\n",
       "      <td>0.010563</td>\n",
       "      <td>404355</td>\n",
       "    </tr>\n",
       "    <tr>\n",
       "      <th>2</th>\n",
       "      <td>fs1_g2-b1-i1</td>\n",
       "      <td>fs1_g2-b2-i1</td>\n",
       "      <td>1</td>\n",
       "      <td>9473184</td>\n",
       "      <td>15686289</td>\n",
       "      <td>IBD1</td>\n",
       "      <td>0.174240</td>\n",
       "      <td>0.299507</td>\n",
       "      <td>0.125268</td>\n",
       "      <td>6213105</td>\n",
       "    </tr>\n",
       "    <tr>\n",
       "      <th>3</th>\n",
       "      <td>fs1_g2-b1-i1</td>\n",
       "      <td>fs1_g2-b2-i1</td>\n",
       "      <td>1</td>\n",
       "      <td>25223620</td>\n",
       "      <td>37021004</td>\n",
       "      <td>IBD1</td>\n",
       "      <td>0.454195</td>\n",
       "      <td>0.584672</td>\n",
       "      <td>0.130476</td>\n",
       "      <td>11797384</td>\n",
       "    </tr>\n",
       "    <tr>\n",
       "      <th>4</th>\n",
       "      <td>fs1_g2-b1-i1</td>\n",
       "      <td>fs1_g2-b2-i1</td>\n",
       "      <td>1</td>\n",
       "      <td>60589800</td>\n",
       "      <td>63554472</td>\n",
       "      <td>IBD1</td>\n",
       "      <td>0.832328</td>\n",
       "      <td>0.877885</td>\n",
       "      <td>0.045557</td>\n",
       "      <td>2964672</td>\n",
       "    </tr>\n",
       "    <tr>\n",
       "      <th>...</th>\n",
       "      <td>...</td>\n",
       "      <td>...</td>\n",
       "      <td>...</td>\n",
       "      <td>...</td>\n",
       "      <td>...</td>\n",
       "      <td>...</td>\n",
       "      <td>...</td>\n",
       "      <td>...</td>\n",
       "      <td>...</td>\n",
       "      <td>...</td>\n",
       "    </tr>\n",
       "    <tr>\n",
       "      <th>108</th>\n",
       "      <td>fs1_g2-b1-i1</td>\n",
       "      <td>fs1_g2-b2-i1</td>\n",
       "      <td>20</td>\n",
       "      <td>60046735</td>\n",
       "      <td>62906514</td>\n",
       "      <td>IBD1</td>\n",
       "      <td>1.002929</td>\n",
       "      <td>1.067967</td>\n",
       "      <td>0.065038</td>\n",
       "      <td>2859779</td>\n",
       "    </tr>\n",
       "    <tr>\n",
       "      <th>109</th>\n",
       "      <td>fs1_g2-b1-i1</td>\n",
       "      <td>fs1_g2-b2-i1</td>\n",
       "      <td>21</td>\n",
       "      <td>14665973</td>\n",
       "      <td>17286052</td>\n",
       "      <td>IBD2</td>\n",
       "      <td>0.000000</td>\n",
       "      <td>0.041294</td>\n",
       "      <td>0.041294</td>\n",
       "      <td>2620079</td>\n",
       "    </tr>\n",
       "    <tr>\n",
       "      <th>110</th>\n",
       "      <td>fs1_g2-b1-i1</td>\n",
       "      <td>fs1_g2-b2-i1</td>\n",
       "      <td>21</td>\n",
       "      <td>17286053</td>\n",
       "      <td>43865565</td>\n",
       "      <td>IBD1</td>\n",
       "      <td>0.041294</td>\n",
       "      <td>0.540396</td>\n",
       "      <td>0.499102</td>\n",
       "      <td>26579512</td>\n",
       "    </tr>\n",
       "    <tr>\n",
       "      <th>111</th>\n",
       "      <td>fs1_g2-b1-i1</td>\n",
       "      <td>fs1_g2-b2-i1</td>\n",
       "      <td>22</td>\n",
       "      <td>35266527</td>\n",
       "      <td>45450494</td>\n",
       "      <td>IBD1</td>\n",
       "      <td>0.349906</td>\n",
       "      <td>0.525380</td>\n",
       "      <td>0.175474</td>\n",
       "      <td>10183967</td>\n",
       "    </tr>\n",
       "    <tr>\n",
       "      <th>112</th>\n",
       "      <td>fs1_g2-b1-i1</td>\n",
       "      <td>fs1_g2-b2-i1</td>\n",
       "      <td>22</td>\n",
       "      <td>45450495</td>\n",
       "      <td>51229805</td>\n",
       "      <td>IBD2</td>\n",
       "      <td>0.525380</td>\n",
       "      <td>0.686650</td>\n",
       "      <td>0.161270</td>\n",
       "      <td>5779310</td>\n",
       "    </tr>\n",
       "  </tbody>\n",
       "</table>\n",
       "<p>113 rows × 10 columns</p>\n",
       "</div>"
      ],
      "text/plain": [
       "             iid1          iid2  ch     Start       End ibd_stat    StartM  \\\n",
       "0    fs1_g2-b1-i1  fs1_g2-b2-i1   1    752721   9068827     IBD1  0.000000   \n",
       "1    fs1_g2-b1-i1  fs1_g2-b2-i1   1   9068828   9473183     IBD2  0.163676   \n",
       "2    fs1_g2-b1-i1  fs1_g2-b2-i1   1   9473184  15686289     IBD1  0.174240   \n",
       "3    fs1_g2-b1-i1  fs1_g2-b2-i1   1  25223620  37021004     IBD1  0.454195   \n",
       "4    fs1_g2-b1-i1  fs1_g2-b2-i1   1  60589800  63554472     IBD1  0.832328   \n",
       "..            ...           ...  ..       ...       ...      ...       ...   \n",
       "108  fs1_g2-b1-i1  fs1_g2-b2-i1  20  60046735  62906514     IBD1  1.002929   \n",
       "109  fs1_g2-b1-i1  fs1_g2-b2-i1  21  14665973  17286052     IBD2  0.000000   \n",
       "110  fs1_g2-b1-i1  fs1_g2-b2-i1  21  17286053  43865565     IBD1  0.041294   \n",
       "111  fs1_g2-b1-i1  fs1_g2-b2-i1  22  35266527  45450494     IBD1  0.349906   \n",
       "112  fs1_g2-b1-i1  fs1_g2-b2-i1  22  45450495  51229805     IBD2  0.525380   \n",
       "\n",
       "         EndM   lengthM    length  \n",
       "0    0.163676  0.163676   8316106  \n",
       "1    0.174239  0.010563    404355  \n",
       "2    0.299507  0.125268   6213105  \n",
       "3    0.584672  0.130476  11797384  \n",
       "4    0.877885  0.045557   2964672  \n",
       "..        ...       ...       ...  \n",
       "108  1.067967  0.065038   2859779  \n",
       "109  0.041294  0.041294   2620079  \n",
       "110  0.540396  0.499102  26579512  \n",
       "111  0.525380  0.175474  10183967  \n",
       "112  0.686650  0.161270   5779310  \n",
       "\n",
       "[113 rows x 10 columns]"
      ]
     },
     "execution_count": 77,
     "metadata": {},
     "output_type": "execute_result"
    }
   ],
   "source": [
    "dft"
   ]
  },
  {
   "cell_type": "code",
   "execution_count": null,
   "metadata": {},
   "outputs": [],
   "source": [
    "dft2"
   ]
  },
  {
   "cell_type": "code",
   "execution_count": 90,
   "metadata": {
    "tags": []
   },
   "outputs": [],
   "source": [
    "dft = load_segment_file(\"./output/ibd/gp1.seg\") "
   ]
  },
  {
   "cell_type": "code",
   "execution_count": 91,
   "metadata": {
    "tags": []
   },
   "outputs": [
    {
     "data": {
      "text/plain": [
       "17.86520118"
      ]
     },
     "execution_count": 91,
     "metadata": {},
     "output_type": "execute_result"
    }
   ],
   "source": [
    "dft = dft[dft[\"iid1\"].str.contains(\"gp11_g1-b1-s1\")]\n",
    "np.sum(dft[\"lengthM\"])"
   ]
  },
  {
   "cell_type": "code",
   "execution_count": null,
   "metadata": {
    "tags": []
   },
   "outputs": [],
   "source": [
    "dft[:12]"
   ]
  },
  {
   "cell_type": "code",
   "execution_count": 93,
   "metadata": {
    "tags": []
   },
   "outputs": [],
   "source": [
    "#dft2 = merge_called_blocks(dft, output=True)\n",
    "dft2 = cap_ibd_boarders(dft, h5_path=h5_path)"
   ]
  },
  {
   "cell_type": "code",
   "execution_count": null,
   "metadata": {
    "tags": []
   },
   "outputs": [],
   "source": [
    "dft2"
   ]
  },
  {
   "cell_type": "code",
   "execution_count": 95,
   "metadata": {
    "tags": []
   },
   "outputs": [
    {
     "data": {
      "text/plain": [
       "17.86520118"
      ]
     },
     "execution_count": 95,
     "metadata": {},
     "output_type": "execute_result"
    }
   ],
   "source": [
    "np.sum(dft2[\"lengthM\"])"
   ]
  },
  {
   "cell_type": "code",
   "execution_count": 96,
   "metadata": {
    "tags": []
   },
   "outputs": [
    {
     "data": {
      "text/plain": [
       "17.86520118"
      ]
     },
     "execution_count": 96,
     "metadata": {},
     "output_type": "execute_result"
    }
   ],
   "source": [
    "dft3 = transform_to_snp_pos(dft2, h5_path=h5_path)\n",
    "np.sum(dft3[\"lengthM\"])"
   ]
  },
  {
   "cell_type": "markdown",
   "metadata": {},
   "source": [
    "### Plot avuncular vrs cousin (Sanity Check)"
   ]
  },
  {
   "cell_type": "code",
   "execution_count": 133,
   "metadata": {},
   "outputs": [],
   "source": [
    "dfa3 = pd.read_csv(\"/mnt/archgen/users/hringbauer/output/pedsim/ben10k/av3.tsv\", sep=\"\\t\") \n",
    "dfc3 = pd.read_csv(\"/mnt/archgen/users/hringbauer/output/pedsim/ben10k/cf3.tsv\", sep=\"\\t\") \n",
    "dffs = pd.read_csv(\"/mnt/archgen/users/hringbauer/output/pedsim/ben10k/fs.tsv\", sep=\"\\t\") "
   ]
  },
  {
   "cell_type": "code",
   "execution_count": 134,
   "metadata": {},
   "outputs": [
    {
     "name": "stderr",
     "output_type": "stream",
     "text": [
      "findfont: Generic family 'sans-serif' not found because none of the following families were found: Arial\n",
      "findfont: Generic family 'sans-serif' not found because none of the following families were found: Arial\n",
      "findfont: Generic family 'sans-serif' not found because none of the following families were found: Arial\n",
      "findfont: Generic family 'sans-serif' not found because none of the following families were found: Arial\n",
      "findfont: Generic family 'sans-serif' not found because none of the following families were found: Arial\n",
      "findfont: Generic family 'sans-serif' not found because none of the following families were found: Arial\n",
      "findfont: Generic family 'sans-serif' not found because none of the following families were found: Arial\n",
      "findfont: Generic family 'sans-serif' not found because none of the following families were found: Arial\n",
      "findfont: Generic family 'sans-serif' not found because none of the following families were found: Arial\n",
      "findfont: Generic family 'sans-serif' not found because none of the following families were found: Arial\n",
      "findfont: Generic family 'sans-serif' not found because none of the following families were found: Arial\n",
      "findfont: Generic family 'sans-serif' not found because none of the following families were found: Arial\n",
      "findfont: Generic family 'sans-serif' not found because none of the following families were found: Arial\n",
      "findfont: Generic family 'sans-serif' not found because none of the following families were found: Arial\n",
      "findfont: Generic family 'sans-serif' not found because none of the following families were found: Arial\n",
      "findfont: Generic family 'sans-serif' not found because none of the following families were found: Arial\n",
      "findfont: Generic family 'sans-serif' not found because none of the following families were found: Arial\n",
      "findfont: Generic family 'sans-serif' not found because none of the following families were found: Arial\n",
      "findfont: Generic family 'sans-serif' not found because none of the following families were found: Arial\n",
      "findfont: Generic family 'sans-serif' not found because none of the following families were found: Arial\n",
      "findfont: Generic family 'sans-serif' not found because none of the following families were found: Arial\n",
      "findfont: Generic family 'sans-serif' not found because none of the following families were found: Arial\n",
      "findfont: Generic family 'sans-serif' not found because none of the following families were found: Arial\n",
      "findfont: Generic family 'sans-serif' not found because none of the following families were found: Arial\n",
      "findfont: Generic family 'sans-serif' not found because none of the following families were found: Arial\n",
      "findfont: Generic family 'sans-serif' not found because none of the following families were found: Arial\n",
      "findfont: Generic family 'sans-serif' not found because none of the following families were found: Arial\n",
      "findfont: Generic family 'sans-serif' not found because none of the following families were found: Arial\n",
      "findfont: Generic family 'sans-serif' not found because none of the following families were found: Arial\n",
      "findfont: Generic family 'sans-serif' not found because none of the following families were found: Arial\n",
      "findfont: Generic family 'sans-serif' not found because none of the following families were found: Arial\n",
      "findfont: Generic family 'sans-serif' not found because none of the following families were found: Arial\n",
      "findfont: Generic family 'sans-serif' not found because none of the following families were found: Arial\n",
      "findfont: Generic family 'sans-serif' not found because none of the following families were found: Arial\n",
      "findfont: Generic family 'sans-serif' not found because none of the following families were found: Arial\n",
      "findfont: Generic family 'sans-serif' not found because none of the following families were found: Arial\n",
      "findfont: Generic family 'sans-serif' not found because none of the following families were found: Arial\n",
      "findfont: Generic family 'sans-serif' not found because none of the following families were found: Arial\n",
      "findfont: Generic family 'sans-serif' not found because none of the following families were found: Arial\n"
     ]
    },
    {
     "data": {
      "image/png": "[encoded data removed]",
      "text/plain": [
       "<Figure size 432x432 with 1 Axes>"
      ]
     },
     "metadata": {
      "needs_background": "light"
     },
     "output_type": "display_data"
    }
   ],
   "source": [
    "plt.figure(figsize=(6,6))\n",
    "ax = plt.gca()\n",
    "ax.scatter(dfa3[\"sum_IBD>12\"], dfa3[\"n_IBD>12\"], c=\"lime\", s=10)\n",
    "\n",
    "ax.scatter(dfc3[\"sum_IBD>12\"], dfc3[\"n_IBD>12\"], c=\"red\", alpha=0.5, s=10)\n",
    "\n",
    "ax.scatter(dffs[\"sum_IBD>12\"], dffs[\"n_IBD>12\"], c=\"silver\", alpha=0.9, s=10)\n",
    "\n",
    "ax.set_xlim([0,3300])\n",
    "ax.set_ylim([0,50])\n",
    "\n",
    "plt.show()"
   ]
  },
  {
   "cell_type": "code",
   "execution_count": 116,
   "metadata": {},
   "outputs": [],
   "source": [
    "from scipy.stats import sem"
   ]
  },
  {
   "cell_type": "code",
   "execution_count": 120,
   "metadata": {},
   "outputs": [
    {
     "data": {
      "text/plain": [
       "708.2551129084001"
      ]
     },
     "execution_count": 120,
     "metadata": {},
     "output_type": "execute_result"
    }
   ],
   "source": [
    "np.mean(dfa3[\"sum_IBD>8\"])"
   ]
  },
  {
   "cell_type": "code",
   "execution_count": 119,
   "metadata": {},
   "outputs": [
    {
     "data": {
      "text/plain": [
       "700.2276746859"
      ]
     },
     "execution_count": 119,
     "metadata": {},
     "output_type": "execute_result"
    }
   ],
   "source": [
    "np.mean(dfc3[\"sum_IBD>8\"])"
   ]
  },
  {
   "cell_type": "code",
   "execution_count": 121,
   "metadata": {},
   "outputs": [
    {
     "data": {
      "text/plain": [
       "1.3350032443055206"
      ]
     },
     "execution_count": 121,
     "metadata": {},
     "output_type": "execute_result"
    }
   ],
   "source": [
    "sem(dfc3[\"sum_IBD>8\"])"
   ]
  },
  {
   "cell_type": "code",
   "execution_count": 122,
   "metadata": {},
   "outputs": [
    {
     "data": {
      "text/plain": [
       "1.4721623091339309"
      ]
     },
     "execution_count": 122,
     "metadata": {},
     "output_type": "execute_result"
    }
   ],
   "source": [
    "sem(dfa3[\"sum_IBD>8\"])"
   ]
  },
  {
   "cell_type": "code",
   "execution_count": 130,
   "metadata": {},
   "outputs": [
    {
     "data": {
      "text/plain": [
       "19.1755"
      ]
     },
     "execution_count": 130,
     "metadata": {},
     "output_type": "execute_result"
    }
   ],
   "source": [
    "np.mean(dfa3[\"n_IBD>12\"])"
   ]
  },
  {
   "cell_type": "code",
   "execution_count": 131,
   "metadata": {},
   "outputs": [
    {
     "data": {
      "text/plain": [
       "20.339"
      ]
     },
     "execution_count": 131,
     "metadata": {},
     "output_type": "execute_result"
    }
   ],
   "source": [
    "np.mean(dfc3[\"n_IBD>12\"])"
   ]
  },
  {
   "cell_type": "code",
   "execution_count": 129,
   "metadata": {},
   "outputs": [
    {
     "data": {
      "text/plain": [
       "0.03172650395340323"
      ]
     },
     "execution_count": 129,
     "metadata": {},
     "output_type": "execute_result"
    }
   ],
   "source": [
    "sem(dfc3[\"n_IBD>20\"])"
   ]
  },
  {
   "cell_type": "markdown",
   "metadata": {},
   "source": [
    "### Check PEDSIM map"
   ]
  },
  {
   "cell_type": "code",
   "execution_count": 39,
   "metadata": {
    "tags": []
   },
   "outputs": [],
   "source": [
    "dfm = pd.read_csv(\"/n/groups/reich/hringbauer/git/ped-sim/refined_mf.simmap\", sep=\"\\t\")"
   ]
  },
  {
   "cell_type": "code",
   "execution_count": 44,
   "metadata": {
    "tags": []
   },
   "outputs": [
    {
     "data": {
      "text/plain": [
       "<pandas.core.groupby.generic.DataFrameGroupBy object at 0x7f2c5b0ab9d0>"
      ]
     },
     "execution_count": 44,
     "metadata": {},
     "output_type": "execute_result"
    }
   ],
   "source": [
    "dfm.groupby(\"#chr\").apply"
   ]
  },
  {
   "cell_type": "code",
   "execution_count": 46,
   "metadata": {
    "tags": []
   },
   "outputs": [],
   "source": [
    "result = dfm.groupby(\"#chr\").agg({'male_cM': ['min', 'max'], \"female_cM\":['min', 'max']})\n",
    "df_a = result"
   ]
  },
  {
   "cell_type": "code",
   "execution_count": null,
   "metadata": {
    "tags": []
   },
   "outputs": [],
   "source": [
    "df_a"
   ]
  },
  {
   "cell_type": "code",
   "execution_count": null,
   "metadata": {
    "tags": []
   },
   "outputs": [],
   "source": [
    "(result[\"female_cM\"][\"max\"] + result[\"male_cM\"][\"max\"]) / 2"
   ]
  },
  {
   "cell_type": "code",
   "execution_count": 70,
   "metadata": {
    "tags": []
   },
   "outputs": [
    {
     "name": "stdout",
     "output_type": "stream",
     "text": [
      "ch 1: 0.02013 - 2.86273\n",
      "ch 2: 0.00014 - 2.68832\n",
      "ch 3: 0.00004 - 2.23257\n",
      "ch 4: 0.00341 - 2.14542\n",
      "ch 5: 0.00040 - 2.04086\n",
      "ch 6: 0.00318 - 1.92033\n",
      "ch 7: 0.00004 - 1.87153\n",
      "ch 8: 0.00000 - 1.68002\n",
      "ch 9: 0.00164 - 1.66301\n",
      "ch 10: 0.00006 - 1.80915\n",
      "ch 11: 0.00000 - 1.58217\n",
      "ch 12: 0.00090 - 1.74680\n",
      "ch 13: 0.00190 - 1.25705\n",
      "ch 14: 0.01607 - 1.20200\n",
      "ch 15: 0.00005 - 1.41346\n",
      "ch 16: -0.00000 - 1.34026\n",
      "ch 17: -0.00026 - 1.28474\n",
      "ch 18: 0.00160 - 1.17709\n",
      "ch 19: 0.00002 - 1.07732\n",
      "ch 20: 0.00001 - 1.08213\n",
      "ch 21: 0.00861 - 0.62787\n",
      "ch 22: 0.01723 - 0.74076\n"
     ]
    }
   ],
   "source": [
    "s = 0\n",
    "for ch in range(1,23):\n",
    "    with h5py.File(f\"{h5_path}{ch}.h5\", \"r\") as f: # Load for Sanity Check. See below!\n",
    "                min_map, max_map =  f[\"variants/MAP\"][0],f[\"variants/MAP\"][-1]\n",
    "    s+= max_map\n",
    "    s-= min_map\n",
    "    print(f\"ch {ch}: {min_map:.5f} - {max_map:.5f}\")"
   ]
  }
 ],
 "metadata": {
  "kernelspec": {
   "display_name": "Python 3",
   "language": "python",
   "name": "python3"
  },
  "language_info": {
   "codemirror_mode": {
    "name": "ipython",
    "version": 3
   },
   "file_extension": ".py",
   "mimetype": "text/x-python",
   "name": "python",
   "nbconvert_exporter": "python",
   "pygments_lexer": "ipython3",
   "version": "3.8.10"
  }
 },
 "nbformat": 4,
 "nbformat_minor": 4
}
