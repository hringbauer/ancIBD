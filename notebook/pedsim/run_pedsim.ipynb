{
 "cells": [
  {
   "cell_type": "code",
   "execution_count": 12,
   "metadata": {},
   "outputs": [
    {
     "name": "stdout",
     "output_type": "stream",
     "text": [
      "bionc21\n",
      "Leipzig head node detected.\n",
      "/mnt/archgen/users/hringbauer/git/ped-sim\n",
      "CPU Count: 40\n"
     ]
    }
   ],
   "source": [
    "import numpy as np\n",
    "import os as os\n",
    "import sys as sys\n",
    "import multiprocessing as mp\n",
    "import pandas as pd\n",
    "import socket\n",
    "import matplotlib.pyplot as plt\n",
    "\n",
    "### Do the Arial \n",
    "from matplotlib import rcParams\n",
    "rcParams['font.family'] = 'sans-serif'   # Set the default\n",
    "rcParams['font.sans-serif'] = ['Arial']  # Make sure to have the font installed (it is on cluster for Harald)\n",
    "\n",
    "### Pick the right path (whether on cluster or at home)\n",
    "socket_name = socket.gethostname()\n",
    "print(socket_name)\n",
    "if socket_name == \"VioletQueen\":\n",
    "    path = \"/home/harald/git/HAPSBURG/\"   # The Path on Harald's machine\n",
    "elif socket_name.startswith(\"bionc21\"):\n",
    "    print(\"Leipzig head node detected.\")\n",
    "    path = \"/mnt/archgen/users/hringbauer/git/ped-sim/\"  # The Path on Midway Cluster\n",
    "elif socket_name.startswith(\"midway2\"):\n",
    "    print(\"Midway jnovmbre partition detected.\")\n",
    "    path = \"/project2/jnovembre/hringbauer/ped-sim/\"  # The Path on Midway Cluster\n",
    "elif socket_name.startswith(\"Harald-Laptop\"):\n",
    "    print(\"Harald's new laptop detected!\")\n",
    "    path = \"/home/hringbauer/git/ped-sim/\" \n",
    "elif socket_name.startswith(\"compute-\"):\n",
    "    print(\"HSM Computational partition detected.\")\n",
    "    path = \"/n/groups/reich/hringbauer/git/ped-sim/\"  # The Path on Midway Cluster\n",
    "else: \n",
    "    raise RuntimeWarning(f\"Not compatible machine: {socket_name}. Check!!\")\n",
    "    \n",
    "os.chdir(path)  # Set the right Path (in line with Atom default)\n",
    "\n",
    "sys.path.append(\"./package/\")  # Go to the hapsburg package directory\n",
    "\n",
    "from hapsburg.PackagesSupport.pp_individual_roh_csvs import post_process_roh_df, combine_ROH_df, calc_average_roh\n",
    "from hapsburg.figures.plot_bars import plot_panel_row, prepare_dfs_plot, create_cousins_roh\n",
    "\n",
    "print(os.getcwd()) # Show the current working directory. Should be HAPSBURG/Notebooks/ParallelRuns\n",
    "print(f\"CPU Count: {mp.cpu_count()}\")"
   ]
  },
  {
   "cell_type": "markdown",
   "metadata": {},
   "source": [
    "### Installation Pedsim\n",
    "git clone ...\n",
    "\n",
    "module load boost\n",
    "\n",
    "make"
   ]
  },
  {
   "cell_type": "markdown",
   "metadata": {},
   "source": [
    "### Run Pedsim"
   ]
  },
  {
   "cell_type": "code",
   "execution_count": 17,
   "metadata": {},
   "outputs": [],
   "source": [
    "def run_pedsim(par_file=\"par/ibd/gp1.def\",\n",
    "               output=\"output/ibd/gp1\",\n",
    "               gmap=\"map/refined_mf.simmap\",\n",
    "               o_file=\"output/ibd/gp1\",\n",
    "               i_file=\"interfere/nu_p_campbell.tsv\"):\n",
    "    \"\"\"Wrapper to run pedsim\"\"\"\n",
    "    !./ped-sim -d $par_file -m $gmap -o $output --intf $i_file"
   ]
  },
  {
   "cell_type": "markdown",
   "metadata": {},
   "source": [
    "### Run ancestral relationships"
   ]
  },
  {
   "cell_type": "code",
   "execution_count": 39,
   "metadata": {},
   "outputs": [
    {
     "name": "stdout",
     "output_type": "stream",
     "text": [
      "Pedigree simulator!  v1.1.16    (Released  8 Feb 2021)\n",
      "\n",
      "  Def file:\t\tpar/ibd/parent.def\n",
      "  Map file:\t\trefined_mf.simmap\n",
      "  Input VCF:\t\t[none: no genetic data]\n",
      "  Output prefix:\toutput/ibd/parent\n",
      "\n",
      "  Random seed:\t\t3075670188\n",
      "\n",
      "  Interference file:\tinterfere/nu_p_campbell.tsv\n",
      "\n",
      "Simulating haplotype transmissions... done.\n",
      "Printing IBD segments... done.\n",
      "\n",
      "To simulate genetic data, must use an input VCF with 300 founders.\n"
     ]
    }
   ],
   "source": [
    "#run_pedsim(par_file=\"par/ibd/gp1.def\", output=\"output/ibd/gp1\")\n",
    "#run_pedsim(par_file=\"par/ibd/gp2.def\", output=\"output/ibd/gp2\")\n",
    "#run_pedsim(par_file=\"par/ibd/gp3.def\", output=\"output/ibd/gp3\")\n",
    "run_pedsim(par_file=\"par/ibd/parent.def\", output=\"output/ibd/parent\")"
   ]
  },
  {
   "cell_type": "markdown",
   "metadata": {},
   "source": [
    "### Avuncular Relationships"
   ]
  },
  {
   "cell_type": "code",
   "execution_count": 37,
   "metadata": {},
   "outputs": [
    {
     "name": "stdout",
     "output_type": "stream",
     "text": [
      "Pedigree simulator!  v1.1.16    (Released  8 Feb 2021)\n",
      "\n",
      "  Def file:\t\tpar/ibd/av5.def\n",
      "  Map file:\t\trefined_mf.simmap\n",
      "  Input VCF:\t\t[none: no genetic data]\n",
      "  Output prefix:\toutput/ibd/av5\n",
      "\n",
      "  Random seed:\t\t1933301268\n",
      "\n",
      "  Interference file:\tinterfere/nu_p_campbell.tsv\n",
      "\n",
      "Simulating haplotype transmissions... done.\n",
      "Printing IBD segments... done.\n",
      "\n",
      "To simulate genetic data, must use an input VCF with 700 founders.\n"
     ]
    }
   ],
   "source": [
    "#run_pedsim(par_file=\"par/ibd/av1.def\", output=\"output/ibd/av1\")\n",
    "#run_pedsim(par_file=\"par/ibd/av2.def\", output=\"output/ibd/av2\")\n",
    "#run_pedsim(par_file=\"par/ibd/av3.def\", output=\"output/ibd/av3\")\n",
    "#run_pedsim(par_file=\"par/ibd/av4.def\", output=\"output/ibd/av4\")\n",
    "run_pedsim(par_file=\"par/ibd/av5.def\", output=\"output/ibd/av5\")"
   ]
  },
  {
   "cell_type": "code",
   "execution_count": 24,
   "metadata": {},
   "outputs": [
    {
     "name": "stdout",
     "output_type": "stream",
     "text": [
      "Pedigree simulator!  v1.1.16    (Released  8 Feb 2021)\n",
      "\n",
      "  Def file:\t\tpar/ibd/sib.def\n",
      "  Map file:\t\trefined_mf.simmap\n",
      "  Input VCF:\t\t[none: no genetic data]\n",
      "  Output prefix:\toutput/ibd/sib\n",
      "\n",
      "  Random seed:\t\t3038461378\n",
      "\n",
      "  Interference file:\tinterfere/nu_p_campbell.tsv\n",
      "\n",
      "Simulating haplotype transmissions... done.\n",
      "Printing IBD segments... done.\n",
      "\n",
      "To simulate genetic data, must use an input VCF with 200 founders.\n"
     ]
    }
   ],
   "source": [
    "### Sib Relationships\n",
    "run_pedsim(par_file=\"par/ibd/sib.def\", output=\"output/ibd/sib\")\n",
    "#run_pedsim(par_file=\"par/ibd/hsib.def\", output=\"output/ibd/hsib\")"
   ]
  },
  {
   "cell_type": "markdown",
   "metadata": {},
   "source": [
    "### Test Run"
   ]
  },
  {
   "cell_type": "code",
   "execution_count": 21,
   "metadata": {},
   "outputs": [
    {
     "name": "stdout",
     "output_type": "stream",
     "text": [
      "Pedigree simulator!  v1.4.2    (Released 24 Aug 2024)\n",
      "\n",
      "  Def file:\t\tpar/ibd_sim/gp2.def\n",
      "  Map file:\t\tmap/refined_mf.simmap\n",
      "  Input VCF:\t\t[none: no genetic data]\n",
      "  Output prefix:\toutput/ibd_test\n",
      "\n",
      "  Random seed:\t\t3332550704\n",
      "\n",
      "  Interference file:\tinterfere/nu_p_campbell.tsv\n",
      "\n",
      "Simulating haplotype transmissions... done.\n",
      "Printing IBD segments... done.\n",
      "\n",
      "To simulate genetic data, must use an input VCF with 400 founders.\n",
      "CPU times: user 28.6 ms, sys: 13 ms, total: 41.6 ms\n",
      "Wall time: 1.33 s\n"
     ]
    }
   ],
   "source": [
    "%%time\n",
    "run_pedsim(par_file=\"par/ibd_sim/gp2.def\", \n",
    "           output=\"output/ibd_test\")\n",
    "#run_pedsim(par_file=\"par/ibd/hsib.def\", output=\"output/ibd/hsib\")"
   ]
  },
  {
   "cell_type": "markdown",
   "metadata": {},
   "source": [
    "# Run simulations for Ben's IBD classifier"
   ]
  },
  {
   "cell_type": "code",
   "execution_count": 20,
   "metadata": {},
   "outputs": [
    {
     "name": "stdout",
     "output_type": "stream",
     "text": [
      "test\n"
     ]
    }
   ],
   "source": [
    "%%time\n",
    "\n",
    "run_pedsim(par_file=\"par/ibd_sim/gp2.def\", \n",
    "           output=\"output/ibd_test\""
   ]
  },
  {
   "cell_type": "markdown",
   "metadata": {},
   "source": [
    "# Run all GP relatives\n",
    "GP2 = standard gp (2 Generations apart, 2 degrees)\n",
    "\n",
    "GP3 = standard gp + 1G (3 Gen. apart, 3 degrees)\n",
    "\n",
    "..."
   ]
  },
  {
   "cell_type": "code",
   "execution_count": null,
   "metadata": {},
   "outputs": [],
   "source": [
    "%%time\n",
    "## takes 50s\n",
    "rels = [f\"gp{i}\" for i in range(1,9)]\n",
    "for r in rels:\n",
    "    path_in = f\"par/ben10k/{r}.def\"\n",
    "    path_out = f\"output/ben10k/{r}\"\n",
    "    run_pedsim(par_file=path_in, output=path_out)"
   ]
  },
  {
   "cell_type": "markdown",
   "metadata": {},
   "source": [
    "### Run all AV relativs\n",
    "AV2 = standard avuncular (1 gen apart, 2 degrees)\n",
    "\n",
    "AV3 = standard av + 1gen (2 gen apart, 3 degrees)\n",
    "\n",
    "..."
   ]
  },
  {
   "cell_type": "code",
   "execution_count": null,
   "metadata": {},
   "outputs": [],
   "source": [
    "%%time\n",
    "## takes 55s\n",
    "rels = [f\"av{i}\" for i in range(2,10)]\n",
    "for r in rels:\n",
    "    path_in = f\"par/ben10k/{r}.def\"\n",
    "    path_out = f\"output/ben10k/{r}\"\n",
    "    run_pedsim(par_file=path_in, output=path_out)"
   ]
  },
  {
   "cell_type": "code",
   "execution_count": null,
   "metadata": {},
   "outputs": [],
   "source": []
  }
 ],
 "metadata": {
  "kernelspec": {
   "display_name": "Python 3",
   "language": "python",
   "name": "python3"
  },
  "language_info": {
   "codemirror_mode": {
    "name": "ipython",
    "version": 3
   },
   "file_extension": ".py",
   "mimetype": "text/x-python",
   "name": "python",
   "nbconvert_exporter": "python",
   "pygments_lexer": "ipython3",
   "version": "3.8.10"
  }
 },
 "nbformat": 4,
 "nbformat_minor": 4
}
