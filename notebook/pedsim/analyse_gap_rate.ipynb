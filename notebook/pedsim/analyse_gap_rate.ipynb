{
 "cells": [
  {
   "cell_type": "markdown",
   "id": "be592801-db26-4b44-95d2-c162005523f0",
   "metadata": {},
   "source": [
    "# Analyse Gap Rate in called IBD"
   ]
  },
  {
   "cell_type": "code",
   "execution_count": 7,
   "id": "b6121ae7-ca4d-4ca9-834a-f8e898bfbf99",
   "metadata": {},
   "outputs": [
    {
     "name": "stdout",
     "output_type": "stream",
     "text": [
      "hpc030\n",
      "Leipzig Cluster detected!\n",
      "/mnt/archgen/users/hringbauer\n",
      "CPU Count: 128\n"
     ]
    }
   ],
   "source": [
    "import numpy as np\n",
    "import pandas as pd\n",
    "import matplotlib.pyplot as plt\n",
    "import socket as socket\n",
    "import os as os\n",
    "import sys as sys\n",
    "import h5py\n",
    "import matplotlib.cm as cm\n",
    "import itertools as it\n",
    "import multiprocessing as mp\n",
    "\n",
    "socket_name = socket.gethostname()\n",
    "print(socket_name)\n",
    "\n",
    "if socket_name.startswith(\"bionc\") or socket_name.startswith(\"hpc\"):\n",
    "    print(\"Leipzig Cluster detected!\")\n",
    "    path = \"/mnt/archgen/users/hringbauer/\"\n",
    "    #sys.path.append(\"/mnt/archgen/users/hringbauer/git/hapBLOCK/python3/\")\n",
    "    #sys.path.insert(0, \"/mnt/archgen/users/hringbauer/git/hapBLOCK/package/\")\n",
    "else: \n",
    "    raise RuntimeWarning(\"Not compatible machine. Check!!\")\n",
    "\n",
    "os.chdir(path)  # Set the right Path (in line with Atom default)\n",
    "print(os.getcwd())\n",
    "print(f\"CPU Count: {mp.cpu_count()}\")\n",
    "\n",
    "from ancIBD.ibd_stats.funcs import new_columns\n",
    "%config InlineBackend.print_figure_kwargs={'facecolor' : \"w\"}"
   ]
  },
  {
   "cell_type": "code",
   "execution_count": 8,
   "id": "b8f7f661-b3e1-4414-a94c-669552c00b19",
   "metadata": {},
   "outputs": [
    {
     "name": "stdout",
     "output_type": "stream",
     "text": [
      "Loaded 17474 IIDs from IBD run with meta info.\n",
      "Loaded 2684964 IID pairs\n",
      "Loaded 943070 IID pairs with GP_max frac > 0.7\n"
     ]
    }
   ],
   "source": [
    "v0 = \"10.0\" # The IBD version Number\n",
    "meta_v = \"0.14\" # Pandora Meta Version\n",
    "folder_out = f\"/mnt/archgen/ibd_release/v{v0}/\"\n",
    "\n",
    "#df_meta = pd.read_csv(f\"{folder_out}iid.ibd.meta.v{v0}.tsv\",  sep=\"\\t\")\n",
    "df_meta = pd.read_csv(f\"/mnt/archgen/ibd_release/v{v0}/iid.ibd.meta.v{v0}_AADR.tsv\", sep=\"\\t\")\n",
    "\n",
    "print(f\"Loaded {len(df_meta)} IIDs from IBD run with meta info.\")\n",
    "\n",
    "df_ibds = pd.read_csv(f\"{folder_out}ibd220f.ind.{v0}.tsv\",  sep=\"\\t\") #f: Filtered Version\n",
    "print(f\"Loaded {len(df_ibds)} IID pairs\")\n",
    "\n",
    "df1 = pd.read_csv(f\"./git/auto_popgen/data/meta/pandora_meta.v{meta_v}.tsv\", sep=\"\\t\") #\n",
    "df1 = df1.rename(columns={\"Full_Individual_Id\":\"iid\"})\n",
    "\n",
    "df_ibds = new_columns(df_ibds, df_meta, col=[\"frac_gp\", \"Locality\"]) # \"Locality\", \"Province\", \"C14_mean\", \"imputation_type\"\n",
    "df_ibds = new_columns(df_ibds, df1, col=[\"Country\", \"date\", \"date_type\"]) # \"Locality\", \"Province\", \"C14_mean\", \n",
    "\n",
    "x = 0.7\n",
    "df_ibds2 = df_ibds[(df_ibds[\"frac_gp1\"]>x) & (df_ibds[\"frac_gp2\"]>x)]\n",
    "print(f\"Loaded {len(df_ibds2)} IID pairs with GP_max frac > {x}\")"
   ]
  },
  {
   "cell_type": "markdown",
   "id": "994f8f23-f3d3-490b-a038-c57d1286bc2b",
   "metadata": {},
   "source": [
    "### Load all Parent-Offspring"
   ]
  },
  {
   "cell_type": "code",
   "execution_count": 4,
   "id": "bdbd3f87-9d1f-4b3c-b027-763422c9ac85",
   "metadata": {},
   "outputs": [
    {
     "ename": "NameError",
     "evalue": "name 'v0' is not defined",
     "output_type": "error",
     "traceback": [
      "\u001b[31m---------------------------------------------------------------------------\u001b[39m",
      "\u001b[31mNameError\u001b[39m                                 Traceback (most recent call last)",
      "\u001b[36mCell\u001b[39m\u001b[36m \u001b[39m\u001b[32mIn[4]\u001b[39m\u001b[32m, line 1\u001b[39m\n\u001b[32m----> \u001b[39m\u001b[32m1\u001b[39m df_ibd = pd.read_csv(\u001b[33mf\u001b[39m\u001b[33m\"\u001b[39m\u001b[33m/mnt/archgen/ibd_release/v\u001b[39m\u001b[38;5;132;01m{\u001b[39;00m\u001b[43mv0\u001b[49m\u001b[38;5;132;01m}\u001b[39;00m\u001b[33m/ibd220f.ibd.\u001b[39m\u001b[38;5;132;01m{\u001b[39;00mv0\u001b[38;5;132;01m}\u001b[39;00m\u001b[33m.tsv\u001b[39m\u001b[33m\"\u001b[39m, sep=\u001b[33m\"\u001b[39m\u001b[38;5;130;01m\\t\u001b[39;00m\u001b[33m\"\u001b[39m)\n\u001b[32m      2\u001b[39m \u001b[38;5;28mprint\u001b[39m(\u001b[33mf\u001b[39m\u001b[33m\"\u001b[39m\u001b[33mLoaded n=\u001b[39m\u001b[38;5;132;01m{\u001b[39;00m\u001b[38;5;28mlen\u001b[39m(df_ibd)\u001b[38;5;132;01m}\u001b[39;00m\u001b[33m IBD segments\u001b[39m\u001b[33m\"\u001b[39m)\n",
      "\u001b[31mNameError\u001b[39m: name 'v0' is not defined"
     ]
    }
   ],
   "source": [
    "df_ibd = pd.read_csv(f\"/mnt/archgen/ibd_release/v{v0}/ibd220f.ibd.{v0}.tsv\", sep=\"\\t\")\n",
    "print(f\"Loaded n={len(df_ibd)} IBD segments\")"
   ]
  },
  {
   "cell_type": "code",
   "execution_count": null,
   "id": "d42c1e1a-5f78-4feb-9eb0-aa656f60ea1c",
   "metadata": {},
   "outputs": [],
   "source": []
  }
 ],
 "metadata": {
  "kernelspec": {
   "display_name": "Python 3 (ipykernel)",
   "language": "python",
   "name": "python3"
  },
  "language_info": {
   "codemirror_mode": {
    "name": "ipython",
    "version": 3
   },
   "file_extension": ".py",
   "mimetype": "text/x-python",
   "name": "python",
   "nbconvert_exporter": "python",
   "pygments_lexer": "ipython3",
   "version": "3.12.3"
  }
 },
 "nbformat": 4,
 "nbformat_minor": 5
}
