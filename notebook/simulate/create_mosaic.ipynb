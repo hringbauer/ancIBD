{
 "cells": [
  {
   "cell_type": "markdown",
   "metadata": {},
   "source": [
    "### For tests: Copy in code above"
   ]
  },
  {
   "cell_type": "code",
   "execution_count": 3,
   "metadata": {},
   "outputs": [],
   "source": [
    "from python.create_mosaic import Mosaic_1000G\n",
    "import numpy as np"
   ]
  },
  {
   "cell_type": "code",
   "execution_count": 4,
   "metadata": {},
   "outputs": [
    {
     "name": "stdout",
     "output_type": "stream",
     "text": [
      "\n",
      "Started Mosaic Object. Working Directory:\n",
      "/n/groups/reich/hringbauer/git/hapBLOCK/notebook/simulate\n",
      "\n",
      "Loaded 77652 variants\n",
      "Loaded 2504 individuals\n",
      "HDF5 loaded from /n/groups/reich/hringbauer/git/hapBLOCK/data/hdf5/1240k_1000G/chr3.hdf5\n",
      "(77652, 2504, 2)\n",
      "Loaded 2504 individual meta file.\n",
      "Found 107 Individuals in ['TSI']\n",
      "Setting new Genotypes...\n",
      "Finished chunked Genotypes\n",
      "Setting new Genotypes...\n",
      "Finished chunked Genotypes\n",
      "Copying in Block: 0.5000-0.5502 M\n",
      "Copying in Block: 0.5000-0.5502 M\n",
      "Copying in Block: 0.6003-0.6500 M\n",
      "Copying in Block: 0.6003-0.6500 M\n",
      "(2, 77652, 2)\n",
      "[[1 0]\n",
      " [0 1]\n",
      " [0 0]\n",
      " [0 0]\n",
      " [1 1]\n",
      " [0 1]\n",
      " [0 1]\n",
      " [0 0]\n",
      " [0 0]\n",
      " [1 0]]\n",
      "['NA20762' 'NA20826']\n",
      "2\n",
      "CPU times: user 48.4 s, sys: 622 ms, total: 49 s\n",
      "Wall time: 49 s\n"
     ]
    }
   ],
   "source": [
    "%%time\n",
    "\n",
    "#########################################\n",
    "if __name__ == \"__main__\":\n",
    "    t = Mosaic_1000G()\n",
    "\n",
    "    ibd_list = [[0.5, 0.55], [0.6, 0.65]]\n",
    "    gts, copy_iids = t.create_chunked_ibd_individuals(ibd_list=ibd_list)\n",
    "    \n",
    "    print(np.shape(gts))\n",
    "    print(gts[0][:10])\n",
    "    print(copy_iids)\n",
    "    print(len(copy_iids))"
   ]
  },
  {
   "cell_type": "markdown",
   "metadata": {},
   "source": [
    "### Plot to verify the IBD setting worked"
   ]
  },
  {
   "cell_type": "code",
   "execution_count": 14,
   "metadata": {},
   "outputs": [],
   "source": [
    "import matplotlib.pyplot as plt"
   ]
  },
  {
   "cell_type": "code",
   "execution_count": 23,
   "metadata": {},
   "outputs": [
    {
     "data": {
      "image/png": "[encoded data removed]",
      "text/plain": [
       "<Figure size 360x144 with 1 Axes>"
      ]
     },
     "metadata": {
      "needs_background": "light"
     },
     "output_type": "display_data"
    }
   ],
   "source": [
    "m = t.f[\"variants/MAP\"][:]\n",
    "hets = gts[0][:,0] != gts[1][:,0]\n",
    "\n",
    "plt.figure(figsize=(5,2))\n",
    "ax=plt.gca()\n",
    "ax.scatter(m, hets)\n",
    "ax.set_xlim([0.45, 0.7])\n",
    "plt.show()"
   ]
  },
  {
   "cell_type": "code",
   "execution_count": null,
   "metadata": {},
   "outputs": [],
   "source": []
  }
 ],
 "metadata": {
  "kernelspec": {
   "display_name": "Python 3",
   "language": "python",
   "name": "python3"
  },
  "language_info": {
   "codemirror_mode": {
    "name": "ipython",
    "version": 3
   },
   "file_extension": ".py",
   "mimetype": "text/x-python",
   "name": "python",
   "nbconvert_exporter": "python",
   "pygments_lexer": "ipython3",
   "version": "3.7.4"
  }
 },
 "nbformat": 4,
 "nbformat_minor": 4
}
