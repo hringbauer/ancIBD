{
 "cells": [
  {
   "cell_type": "code",
   "execution_count": 1,
   "metadata": {},
   "outputs": [],
   "source": [
    "import allel\n",
    "import h5py  # Python Package to do the HDF5.\n",
    "import numpy as np\n",
    "import pandas as pd\n",
    "import socket\n",
    "import os\n",
    "\n",
    "# socket_name = socket.gethostname()\n",
    "# print(socket_name)\n",
    "# if socket_name == \"VioletQueen\":\n",
    "#     path = \"/home/harald/git/HAPSBURG/\"   # The Path on Harald's machine\n",
    "# elif socket_name[:7] == \"midway2\":\n",
    "#     print(\"Midway jnovmbre partition detected.\")\n",
    "#     path = \"/project2/jnovembre/hringbauer/git/hapBLOCK/\"  # The Path on Midway Cluster\n",
    "# elif socket_name.startswith(\"compute-\"):\n",
    "#     print(\"HMS O2 Computational partition detected.\")\n",
    "#     path = \"/n/groups/reich/hringbauer/git/hapBLOCK/\"  # The Path on Harvard Cluster\n",
    "# else: \n",
    "#     raise RuntimeWarning(\"Not compatible machine. Check!!\")\n",
    "\n",
    "from python.modify_h5 import ModifyHDF5Genotypes\n",
    "\n",
    "# os.chdir(path)  # Set the right Path (in line with Atom default)\n",
    "# print(os.getcwd()) # Show the current working directory. Should be HAPSBURG/Notebooks/ParallelRuns"
   ]
  },
  {
   "cell_type": "markdown",
   "metadata": {},
   "source": [
    "# Downsample Simulated 1000G Genotypes to 0.5x of all 1240K SNPs. Shuffle phases.\n",
    "Add 0.99 uncertainty about genotypes. Takes about 5 sec per 200 ind hdf5"
   ]
  },
  {
   "cell_type": "code",
   "execution_count": 3,
   "metadata": {},
   "outputs": [
    {
     "name": "stdout",
     "output_type": "stream",
     "text": [
      "Heyho back old friend. I started running\n",
      "Loaded HDF5\n",
      "Loaded 77652 variants\n",
      "Loaded 20 individuals\n",
      "['AD', 'GP', 'GT']\n",
      "['AF_ALL', 'ALT', 'MAP', 'POS', 'REF']\n",
      "Fraction Loci surviving 0.899616\n",
      "Successfully saved 20 individuals to: /mnt/archgen/users/yilei/tools/hapBLOCK/simulation/IBD2/ch3_20cm/cov90_sim_ch3.h5\n",
      "CPU times: user 756 ms, sys: 14.1 ms, total: 770 ms\n",
      "Wall time: 980 ms\n"
     ]
    },
    {
     "name": "stderr",
     "output_type": "stream",
     "text": [
      "cp: '/mnt/archgen/users/yilei/tools/hapBLOCK/simulation/IBD2/ch3_20cm/ibd_info.csv' and '/mnt/archgen/users/yilei/tools/hapBLOCK/simulation/IBD2/ch3_20cm/ibd_info.csv' are the same file\n"
     ]
    }
   ],
   "source": [
    "%%time\n",
    "\n",
    "#ls = [0, 4, 8, 12, 16, 20]\n",
    "ls = [20]\n",
    "\n",
    "for l in ls:\n",
    "    ch = 3\n",
    "    in_path = f\"/mnt/archgen/users/yilei/tools/hapBLOCK/simulation/IBD2/ch3_{l}cm/sim_ch{ch}.h5\" # The default dataset\n",
    "    out_path = f\"/mnt/archgen/users/yilei/tools/hapBLOCK/simulation/IBD2/ch3_{l}cm/cov90_sim_ch{ch}.h5\"\n",
    "\n",
    "    # Make Directory if not already there\n",
    "    if not os.path.exists(os.path.dirname(out_path)):   \n",
    "        os.makedirs(os.path.dirname(out_path))\n",
    "        print(f\"Creaded dir: {out_path}\")\n",
    "\n",
    "    #os.remove(save_path)  # For previous whoopsie\n",
    "    m = ModifyHDF5Genotypes(original_path=in_path, save_path=out_path)\n",
    "    m.downsample_gt(frac=0.9, ad=False, gp=True, \n",
    "                    mult_alt=False, gt_type=\"int8\", error=0.01,\n",
    "                    shuffle_cm=0.5, cty=0.99, compression=\"gzip\")\n",
    "    m.copy_ibdinfo()"
   ]
  },
  {
   "cell_type": "markdown",
   "metadata": {},
   "source": [
    "# Add error to Genotypes"
   ]
  },
  {
   "cell_type": "code",
   "execution_count": 2,
   "metadata": {},
   "outputs": [
    {
     "name": "stdout",
     "output_type": "stream",
     "text": [
      "Heyho back old friend. I started running\n",
      "Loaded HDF5\n",
      "Loaded 38852 variants\n",
      "Loaded 200 individuals\n",
      "['GP', 'GT']\n",
      "['ALT', 'MAP', 'POS', 'REF']\n",
      "Successfully saved 200 individuals to: ./output/simulated/TSI05s05e1/ch3_0cm/sim_ch3.h5\n",
      "Creaded dir: ./output/simulated/TSI05s05e1/ch3_4cm/sim_ch3.h5\n",
      "Heyho back old friend. I started running\n",
      "Loaded HDF5\n",
      "Loaded 38645 variants\n",
      "Loaded 200 individuals\n",
      "['GP', 'GT']\n",
      "['ALT', 'MAP', 'POS', 'REF']\n",
      "Successfully saved 200 individuals to: ./output/simulated/TSI05s05e1/ch3_4cm/sim_ch3.h5\n",
      "Creaded dir: ./output/simulated/TSI05s05e1/ch3_8cm/sim_ch3.h5\n",
      "Heyho back old friend. I started running\n",
      "Loaded HDF5\n",
      "Loaded 38845 variants\n",
      "Loaded 200 individuals\n",
      "['GP', 'GT']\n",
      "['ALT', 'MAP', 'POS', 'REF']\n",
      "Successfully saved 200 individuals to: ./output/simulated/TSI05s05e1/ch3_8cm/sim_ch3.h5\n",
      "Creaded dir: ./output/simulated/TSI05s05e1/ch3_12cm/sim_ch3.h5\n",
      "Heyho back old friend. I started running\n",
      "Loaded HDF5\n",
      "Loaded 38888 variants\n",
      "Loaded 200 individuals\n",
      "['GP', 'GT']\n",
      "['ALT', 'MAP', 'POS', 'REF']\n",
      "Successfully saved 200 individuals to: ./output/simulated/TSI05s05e1/ch3_12cm/sim_ch3.h5\n",
      "Creaded dir: ./output/simulated/TSI05s05e1/ch3_16cm/sim_ch3.h5\n",
      "Heyho back old friend. I started running\n",
      "Loaded HDF5\n",
      "Loaded 38771 variants\n",
      "Loaded 200 individuals\n",
      "['GP', 'GT']\n",
      "['ALT', 'MAP', 'POS', 'REF']\n",
      "Successfully saved 200 individuals to: ./output/simulated/TSI05s05e1/ch3_16cm/sim_ch3.h5\n",
      "Creaded dir: ./output/simulated/TSI05s05e1/ch3_20cm/sim_ch3.h5\n",
      "Heyho back old friend. I started running\n",
      "Loaded HDF5\n",
      "Loaded 38799 variants\n",
      "Loaded 200 individuals\n",
      "['GP', 'GT']\n",
      "['ALT', 'MAP', 'POS', 'REF']\n",
      "Successfully saved 200 individuals to: ./output/simulated/TSI05s05e1/ch3_20cm/sim_ch3.h5\n",
      "CPU times: user 20.1 s, sys: 2.45 s, total: 22.6 s\n",
      "Wall time: 25.8 s\n"
     ]
    }
   ],
   "source": [
    "%%time\n",
    "ls = [0, 4, 8, 12, 16, 20]\n",
    "\n",
    "for l in ls:\n",
    "    ch = 3\n",
    "    in_path = f\"./output/simulated/TSI05/ch3_{l}cm/sim_ch{ch}.h5\"\n",
    "    out_path = f\"./output/simulated/TSI05s05e1/ch3_{l}cm/sim_ch{ch}.h5\"\n",
    "\n",
    "    # Make Directory if not already there\n",
    "    if not os.path.exists(os.path.dirname(out_path)):   \n",
    "        os.makedirs(os.path.dirname(out_path))\n",
    "        print(f\"Creaded dir: {out_path}\")\n",
    "\n",
    "    #os.remove(save_path)  # For previous whoopsie\n",
    "    m = ModifyHDF5Genotypes(original_path=in_path, save_path=out_path)\n",
    "    m.downsample_gt(frac=1.0, ad=False, gp=True, mult_alt=False, gt_type=\"int8\", \n",
    "                    shuffle_cm=0.5, cty=0.99, error=0.01, compression=\"gzip\")\n",
    "    m.copy_ibdinfo()"
   ]
  },
  {
   "cell_type": "markdown",
   "metadata": {},
   "source": [
    "# Test hdf5\n",
    "Test whether one can load the simulated hdf5"
   ]
  },
  {
   "cell_type": "code",
   "execution_count": 21,
   "metadata": {},
   "outputs": [
    {
     "name": "stdout",
     "output_type": "stream",
     "text": [
      "Loaded HDF5\n",
      "['GP', 'GT']\n",
      "['ALT', 'MAP', 'POS', 'REF']\n"
     ]
    }
   ],
   "source": [
    "path = \"/n/groups/reich/hringbauer/git/hapBLOCK/output/simulated/TSIs05/ch3_20cm/sim_ch3.h5\"\n",
    "f = h5py.File(path, \"r\") # Load for Sanity Check. See below!\n",
    "        \n",
    "print(\"Loaded HDF5\")\n",
    "#print(\"Loaded %i variants\" % np.shape(f[\"calldata/AD\"])[0])\n",
    "#print(\"Loaded %i individuals\" % np.shape(f[\"calldata/AD\"])[1])\n",
    "print(list(f[\"calldata\"].keys()))\n",
    "print(list(f[\"variants\"].keys()))"
   ]
  },
  {
   "cell_type": "code",
   "execution_count": 7,
   "metadata": {},
   "outputs": [
    {
     "data": {
      "text/plain": [
       "(77652, 200, 2)"
      ]
     },
     "execution_count": 7,
     "metadata": {},
     "output_type": "execute_result"
    }
   ],
   "source": [
    "np.shape(f[\"calldata/GT\"])"
   ]
  },
  {
   "cell_type": "code",
   "execution_count": 5,
   "metadata": {},
   "outputs": [
    {
     "data": {
      "text/plain": [
       "array([[0, 0],\n",
       "       [0, 1],\n",
       "       [0, 1],\n",
       "       [0, 0],\n",
       "       [0, 0],\n",
       "       [0, 0],\n",
       "       [0, 0],\n",
       "       [0, 1],\n",
       "       [0, 0],\n",
       "       [0, 0]], dtype=int8)"
      ]
     },
     "execution_count": 5,
     "metadata": {},
     "output_type": "execute_result"
    }
   ],
   "source": [
    "f[\"calldata/GT\"][:10, 104, :]"
   ]
  },
  {
   "cell_type": "code",
   "execution_count": 6,
   "metadata": {},
   "outputs": [
    {
     "data": {
      "text/plain": [
       "array([[0.99 , 0.005, 0.005],\n",
       "       [0.005, 0.99 , 0.005],\n",
       "       [0.005, 0.99 , 0.005],\n",
       "       [0.99 , 0.005, 0.005],\n",
       "       [0.99 , 0.005, 0.005],\n",
       "       [0.99 , 0.005, 0.005],\n",
       "       [0.99 , 0.005, 0.005],\n",
       "       [0.005, 0.99 , 0.005],\n",
       "       [0.99 , 0.005, 0.005],\n",
       "       [0.99 , 0.005, 0.005]], dtype=float32)"
      ]
     },
     "execution_count": 6,
     "metadata": {},
     "output_type": "execute_result"
    }
   ],
   "source": [
    "f[\"calldata/GP\"][:10, 104, :]"
   ]
  },
  {
   "cell_type": "code",
   "execution_count": null,
   "metadata": {},
   "outputs": [],
   "source": [
    "f.close()"
   ]
  },
  {
   "cell_type": "code",
   "execution_count": 18,
   "metadata": {},
   "outputs": [],
   "source": [
    "import sys as sys"
   ]
  },
  {
   "cell_type": "code",
   "execution_count": 20,
   "metadata": {},
   "outputs": [],
   "source": [
    "sys.path.insert(0,\"/n/groups/reich/hringbauer/git/hapBLOCK/package/\")  # hack to get development package first in path\n",
    "from hapBLOCK.IO.h5_load import get_opp_homos_f, get_genos_pairs"
   ]
  },
  {
   "cell_type": "code",
   "execution_count": 24,
   "metadata": {},
   "outputs": [
    {
     "name": "stdout",
     "output_type": "stream",
     "text": [
      "Filtering to 0.98 GP variants: 1.000x\n",
      "Filtering to 0.98 GP variants: 1.000x\n",
      "Filtering to common GP variants: 1.000x\n"
     ]
    }
   ],
   "source": [
    "g1, g2, m = get_genos_pairs(f, sample1='iid3A', sample2='iid3B')"
   ]
  },
  {
   "cell_type": "code",
   "execution_count": 28,
   "metadata": {},
   "outputs": [
    {
     "name": "stdout",
     "output_type": "stream",
     "text": [
      "Filtering to 0.99 GP variants: 0.000x\n",
      "Filtering to 0.99 GP variants: 0.000x\n",
      "Filtering to common GP variants: 0.000x\n"
     ]
    },
    {
     "data": {
      "text/plain": [
       "(array([], dtype=bool), array([], dtype=float32))"
      ]
     },
     "execution_count": 28,
     "metadata": {},
     "output_type": "execute_result"
    }
   ],
   "source": [
    "get_opp_homos_f(\"/n/groups/reich/hringbauer/git/hapBLOCK/output/simulated/TSIs05/ch3_20cm/sim_ch\", ch=3, iid1='iid3A', iid2='iid3B')"
   ]
  },
  {
   "cell_type": "markdown",
   "metadata": {},
   "source": [
    "## Experiment with shuffling phase"
   ]
  },
  {
   "cell_type": "code",
   "execution_count": 139,
   "metadata": {},
   "outputs": [],
   "source": [
    "def shuffle_haplos(gts, rec, scale_cm=0.5):\n",
    "    \"\"\"Shuffle genotypes with random waiting times \n",
    "    (mean scale in cM, exponentially distributed)\"\"\"\n",
    "    m = np.max(rec)\n",
    "    l = np.shape(gts)[0] # nr of loci\n",
    "    n = np.shape(gts)[1] # Nr individuals\n",
    "    scale_m = scale_cm/100.0\n",
    "    k = int(m/scale_m * 5) # Five times overshooting to be sure...\n",
    "    \n",
    "    w = np.random.exponential(scale=scale_m, size=(n,k))\n",
    "    w = np.cumsum(w, axis=1) # Get swapping points\n",
    "    idx = np.searchsorted(rec, w) # Get swapping indices \n",
    "    \n",
    "    gts_new = np.copy(gts)\n",
    "    # Iterate over all individuals and all swap points\n",
    "    for i in range(n):\n",
    "        for j in range(0,k-1,2):\n",
    "            a,b= idx[i,j], idx[i,j+1]\n",
    "            if a>=l:\n",
    "                break\n",
    "            gts_new[a:b,i,1] = gts[a:b,i,0]\n",
    "            gts_new[a:b,i,0] = gts[a:b,i,1]\n",
    "    assert((np.sum(gts, axis=2) == np.sum(gts_new, axis=2)).all()) # Sanity check\n",
    "    return gts_new"
   ]
  },
  {
   "cell_type": "code",
   "execution_count": 216,
   "metadata": {},
   "outputs": [],
   "source": [
    "gts = np.zeros((10000,200,2))\n",
    "gts[:,:,0] = 1\n",
    "m = np.linspace(0,100,10001)[:10000]/100"
   ]
  },
  {
   "cell_type": "code",
   "execution_count": 224,
   "metadata": {},
   "outputs": [
    {
     "name": "stdout",
     "output_type": "stream",
     "text": [
      "CPU times: user 184 ms, sys: 37.4 ms, total: 221 ms\n",
      "Wall time: 219 ms\n"
     ]
    }
   ],
   "source": [
    "%%time\n",
    "gts1 = shuffle_haplos(gts, rec=m, scale_cm=0.5)"
   ]
  },
  {
   "cell_type": "code",
   "execution_count": 218,
   "metadata": {},
   "outputs": [
    {
     "data": {
      "text/plain": [
       "(10000, 200, 2)"
      ]
     },
     "execution_count": 218,
     "metadata": {},
     "output_type": "execute_result"
    }
   ],
   "source": [
    "np.shape(gts1)"
   ]
  },
  {
   "cell_type": "code",
   "execution_count": 219,
   "metadata": {},
   "outputs": [],
   "source": [
    "import matplotlib.pyplot as plt"
   ]
  },
  {
   "cell_type": "code",
   "execution_count": 225,
   "metadata": {},
   "outputs": [
    {
     "data": {
      "image/png": "[encoded data removed]",
      "text/plain": [
       "<Figure size 1296x144 with 1 Axes>"
      ]
     },
     "metadata": {
      "needs_background": "light"
     },
     "output_type": "display_data"
    }
   ],
   "source": [
    "i=100\n",
    "x1 = gts1[:,i,0]\n",
    "x2 = gts1[:,i,1]\n",
    "\n",
    "plt.figure(figsize=(18,2))\n",
    "\n",
    "ax = plt.gca()\n",
    "ax.plot(m, x1, \"o\")\n",
    "#ax.plot(np.arange(len(x2)),x2, \"ro\")\n",
    "plt.show()"
   ]
  },
  {
   "cell_type": "code",
   "execution_count": 226,
   "metadata": {},
   "outputs": [],
   "source": [
    "jumps = np.abs(gts1[1:,:,1] - gts1[:-1,:,1])"
   ]
  },
  {
   "cell_type": "code",
   "execution_count": 222,
   "metadata": {},
   "outputs": [
    {
     "data": {
      "text/plain": [
       "(9999, 200)"
      ]
     },
     "execution_count": 222,
     "metadata": {},
     "output_type": "execute_result"
    }
   ],
   "source": [
    "np.shape(jumps)"
   ]
  },
  {
   "cell_type": "code",
   "execution_count": 227,
   "metadata": {},
   "outputs": [
    {
     "data": {
      "text/plain": [
       "0.01956245624562456"
      ]
     },
     "execution_count": 227,
     "metadata": {},
     "output_type": "execute_result"
    }
   ],
   "source": [
    "np.mean(jumps)"
   ]
  },
  {
   "cell_type": "code",
   "execution_count": 192,
   "metadata": {},
   "outputs": [
    {
     "data": {
      "text/plain": [
       "0.165"
      ]
     },
     "execution_count": 192,
     "metadata": {},
     "output_type": "execute_result"
    }
   ],
   "source": [
    "np.mean(jumps[1])"
   ]
  },
  {
   "cell_type": "code",
   "execution_count": 193,
   "metadata": {},
   "outputs": [
    {
     "data": {
      "text/plain": [
       "6.084229117817229"
      ]
     },
     "execution_count": 193,
     "metadata": {},
     "output_type": "execute_result"
    }
   ],
   "source": [
    "1/0.16435935935935936"
   ]
  },
  {
   "cell_type": "code",
   "execution_count": null,
   "metadata": {},
   "outputs": [],
   "source": []
  }
 ],
 "metadata": {
  "kernelspec": {
   "display_name": "Python 3.8.10 64-bit",
   "language": "python",
   "name": "python3"
  },
  "language_info": {
   "codemirror_mode": {
    "name": "ipython",
    "version": 3
   },
   "file_extension": ".py",
   "mimetype": "text/x-python",
   "name": "python",
   "nbconvert_exporter": "python",
   "pygments_lexer": "ipython3",
   "version": "3.8.10"
  },
  "vscode": {
   "interpreter": {
    "hash": "31f2aee4e71d21fbe5cf8b01ff0e069b9275f58929596ceb00d14d90e3e16cd6"
   }
  }
 },
 "nbformat": 4,
 "nbformat_minor": 4
}
