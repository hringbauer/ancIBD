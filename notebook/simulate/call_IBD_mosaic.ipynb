{
 "cells": [
  {
   "cell_type": "markdown",
   "metadata": {},
   "source": [
    "# Call IBD in simulated mosaic data"
   ]
  },
  {
   "cell_type": "code",
   "execution_count": 1,
   "metadata": {},
   "outputs": [
    {
     "name": "stdout",
     "output_type": "stream",
     "text": [
      "compute-a-16-128.o2.rc.hms.harvard.edu\n",
      "HSM O2 Computational partition detected.\n",
      "/n/groups/reich/hringbauer/git/hapBLOCK\n",
      "CPU Count: 32\n"
     ]
    }
   ],
   "source": [
    "import socket as socket\n",
    "import pandas as pd\n",
    "import os as os\n",
    "import sys as sys\n",
    "import numpy as np\n",
    "import matplotlib.pyplot as plt\n",
    "import multiprocessing as mp\n",
    "from hapsburg.PackagesSupport.parallel_runs.helper_functions import multi_run  # Parallel Runs and forward ground truth\n",
    "socket_name = socket.gethostname()\n",
    "print(socket_name)\n",
    "\n",
    "if socket_name.startswith(\"compute-\"):\n",
    "    print(\"HSM O2 Computational partition detected.\")\n",
    "    path = \"/n/groups/reich/hringbauer/git/hapBLOCK/\"  # The Path on Harvard Cluster\n",
    "else: \n",
    "    raise RuntimeWarning(\"Not compatible machine. Check!!\")\n",
    "\n",
    "os.chdir(path)  # Set the right Path (in line with Atom default)\n",
    "print(os.getcwd())\n",
    "print(f\"CPU Count: {mp.cpu_count()}\")\n",
    "\n",
    "sys.path.append(\"./python3/\")     \n",
    "from run import hapBLOCK_chrom"
   ]
  },
  {
   "cell_type": "markdown",
   "metadata": {},
   "source": [
    "# Relevant Helper Functions"
   ]
  },
  {
   "cell_type": "code",
   "execution_count": 2,
   "metadata": {},
   "outputs": [],
   "source": [
    "def prep_param_list(folder_in, iids = [], ch=3,\n",
    "                    folder_out=\"\", output=True, logfile=False, prefix_out=\"default/\",\n",
    "                    l_model=\"hdf5\", e_model=\"haploid_gl\", h_model=\"FiveStateFast\", \n",
    "                    t_model=\"standard\", ibd_in=1, ibd_out=1, ibd_jump=500, min_cm=2,\n",
    "                    cutoff_post=0.99, max_gap=0.0):\n",
    "    \"\"\"Prepare parameter lists for multirun\"\"\"\n",
    "    params = [[folder_in, iid2, ch, folder_out, output, prefix_out, logfile, l_model, e_model,\n",
    "              h_model, t_model, ibd_in, ibd_out, ibd_jump, min_cm, cutoff_post, max_gap] for iid2 in iids]\n",
    "    assert(len(params[0])==17)\n",
    "    return params\n",
    "\n",
    "def split_up_ibd_df(folder_in, folder_out, iid2, \n",
    "                    file_in=\"ibd_info.csv\", file_out=\"ibd_gt.tsv\"):\n",
    "    \"\"\"Splits up the ROH-dataframe from base_path/file_in into file_out.\n",
    "    Picks out Individual iid. Done to pass on \"ground truth\"\n",
    "    base_path: Where to find roh_info.csv\n",
    "    path_out: Where to save roh_gt to (full file)\n",
    "    iid2: Which pair of individuals to extract from ibd_info.csv.\"\"\"\n",
    "    path = os.path.join(folder_in, file_in)\n",
    "    dft = pd.read_csv(path, sep=\"\\t\")  # Load the IBD File\n",
    "\n",
    "    save_df = dft[(dft[\"iid1\"] == iid2[0]) & (dft[\"iid2\"] == iid2[1])]\n",
    "    save_path = os.path.join(folder_out, file_out)\n",
    "    save_df.to_csv(save_path, sep=\"\\t\", index=False)\n",
    "    return\n",
    "\n",
    "def get_sim_iid_pairs(base_iid=\"iid\", n_range=[0,100], suff=[\"A\", \"B\"]):\n",
    "    \"\"\"Return list of simulated IID pairs\"\"\"\n",
    "    iids  = [[base_iid +str(i) + suff[0], base_iid + str(i) + suff[1]] \n",
    "                    for i in np.arange(n_range[0], n_range[1])]\n",
    "    return iids"
   ]
  },
  {
   "cell_type": "markdown",
   "metadata": {},
   "source": [
    "### Testrun to call IBD of multiple simulated Mosaics"
   ]
  },
  {
   "cell_type": "code",
   "execution_count": null,
   "metadata": {},
   "outputs": [],
   "source": [
    "iids = get_sim_iid_pairs(n_range=[5,10])\n",
    "basepath = \"/n/groups/reich/hringbauer/git/hapBLOCK/output/simulated/TSI05/ch3_20cm/\"\n",
    "folder_in = os.path.join(basepath, \"sim_ch\")\n",
    "folder_out = os.path.join(basepath, \"inferred\")\n",
    "\n",
    "params = prep_param_list(iids = iids, ch=3, prefix_out='default/', output=False,\n",
    "                         folder_in=folder_in, folder_out=folder_out, logfile=True)\n",
    "\n",
    "############## Run the IBD Inference\n",
    "multi_run(hapBLOCK_chrom, params, processes=5)"
   ]
  },
  {
   "cell_type": "markdown",
   "metadata": {},
   "source": [
    "# Run all 100 individuals for all simualted ground truth lengths\n",
    "Takes 1s per CPU per chromosome. In total ~1min, and then 10s for splitting up the ground truth"
   ]
  },
  {
   "cell_type": "code",
   "execution_count": 6,
   "metadata": {},
   "outputs": [
    {
     "name": "stdout",
     "output_type": "stream",
     "text": [
      "Running 100 total jobs; 10 in parallel.\n",
      "Set Output Log to path: /n/groups/reich/hringbauer/git/hapBLOCK/output/simulated/TSI07s05e1/ch3_0cm/inferred/iid9A_iid9B/chr3/default/hmm_run_log.txt\n",
      "Set Output Log to path: /n/groups/reich/hringbauer/git/hapBLOCK/output/simulated/TSI07s05e1/ch3_0cm/inferred/iid15A_iid15B/chr3/default/hmm_run_log.txt\n",
      "Set Output Log to path: /n/groups/reich/hringbauer/git/hapBLOCK/output/simulated/TSI07s05e1/ch3_0cm/inferred/iid12A_iid12B/chr3/default/hmm_run_log.txt\n",
      "Set Output Log to path: /n/groups/reich/hringbauer/git/hapBLOCK/output/simulated/TSI07s05e1/ch3_0cm/inferred/iid6A_iid6B/chr3/default/hmm_run_log.txt\n",
      "Set Output Log to path: /n/groups/reich/hringbauer/git/hapBLOCK/output/simulated/TSI07s05e1/ch3_0cm/inferred/iid3A_iid3B/chr3/default/hmm_run_log.txt\n",
      "Set Output Log to path: /n/groups/reich/hringbauer/git/hapBLOCK/output/simulated/TSI07s05e1/ch3_0cm/inferred/iid0A_iid0B/chr3/default/hmm_run_log.txt\n",
      "Set Output Log to path: /n/groups/reich/hringbauer/git/hapBLOCK/output/simulated/TSI07s05e1/ch3_0cm/inferred/iid24A_iid24B/chr3/default/hmm_run_log.txt\n",
      "Set Output Log to path: /n/groups/reich/hringbauer/git/hapBLOCK/output/simulated/TSI07s05e1/ch3_0cm/inferred/iid18A_iid18B/chr3/default/hmm_run_log.txt\n",
      "Set Output Log to path: /n/groups/reich/hringbauer/git/hapBLOCK/output/simulated/TSI07s05e1/ch3_0cm/inferred/iid21A_iid21B/chr3/default/hmm_run_log.txt\n",
      "Set Output Log to path: /n/groups/reich/hringbauer/git/hapBLOCK/output/simulated/TSI07s05e1/ch3_0cm/inferred/iid27A_iid27B/chr3/default/hmm_run_log.txt\n",
      "Running 100 total jobs; 10 in parallel.\n",
      "Set Output Log to path: /n/groups/reich/hringbauer/git/hapBLOCK/output/simulated/TSI07s05e1/ch3_4cm/inferred/iid3A_iid3B/chr3/default/hmm_run_log.txt\n",
      "Set Output Log to path: /n/groups/reich/hringbauer/git/hapBLOCK/output/simulated/TSI07s05e1/ch3_4cm/inferred/iid0A_iid0B/chr3/default/hmm_run_log.txt\n",
      "Set Output Log to path: /n/groups/reich/hringbauer/git/hapBLOCK/output/simulated/TSI07s05e1/ch3_4cm/inferred/iid6A_iid6B/chr3/default/hmm_run_log.txt\n",
      "Set Output Log to path: /n/groups/reich/hringbauer/git/hapBLOCK/output/simulated/TSI07s05e1/ch3_4cm/inferred/iid27A_iid27B/chr3/default/hmm_run_log.txt\n",
      "Set Output Log to path: /n/groups/reich/hringbauer/git/hapBLOCK/output/simulated/TSI07s05e1/ch3_4cm/inferred/iid9A_iid9B/chr3/default/hmm_run_log.txt\n",
      "Set Output Log to path: /n/groups/reich/hringbauer/git/hapBLOCK/output/simulated/TSI07s05e1/ch3_4cm/inferred/iid15A_iid15B/chr3/default/hmm_run_log.txt\n",
      "Set Output Log to path: /n/groups/reich/hringbauer/git/hapBLOCK/output/simulated/TSI07s05e1/ch3_4cm/inferred/iid12A_iid12B/chr3/default/hmm_run_log.txt\n",
      "Set Output Log to path: /n/groups/reich/hringbauer/git/hapBLOCK/output/simulated/TSI07s05e1/ch3_4cm/inferred/iid21A_iid21B/chr3/default/hmm_run_log.txt\n",
      "Set Output Log to path: /n/groups/reich/hringbauer/git/hapBLOCK/output/simulated/TSI07s05e1/ch3_4cm/inferred/iid18A_iid18B/chr3/default/hmm_run_log.txt\n",
      "Set Output Log to path: /n/groups/reich/hringbauer/git/hapBLOCK/output/simulated/TSI07s05e1/ch3_4cm/inferred/iid24A_iid24B/chr3/default/hmm_run_log.txt\n",
      "Running 100 total jobs; 10 in parallel.\n",
      "Set Output Log to path: /n/groups/reich/hringbauer/git/hapBLOCK/output/simulated/TSI07s05e1/ch3_8cm/inferred/iid9A_iid9B/chr3/default/hmm_run_log.txt\n",
      "Set Output Log to path: /n/groups/reich/hringbauer/git/hapBLOCK/output/simulated/TSI07s05e1/ch3_8cm/inferred/iid24A_iid24B/chr3/default/hmm_run_log.txt\n",
      "Set Output Log to path: /n/groups/reich/hringbauer/git/hapBLOCK/output/simulated/TSI07s05e1/ch3_8cm/inferred/iid0A_iid0B/chr3/default/hmm_run_log.txt\n",
      "Set Output Log to path: /n/groups/reich/hringbauer/git/hapBLOCK/output/simulated/TSI07s05e1/ch3_8cm/inferred/iid3A_iid3B/chr3/default/hmm_run_log.txt\n",
      "Set Output Log to path: /n/groups/reich/hringbauer/git/hapBLOCK/output/simulated/TSI07s05e1/ch3_8cm/inferred/iid21A_iid21B/chr3/default/hmm_run_log.txt\n",
      "Set Output Log to path: /n/groups/reich/hringbauer/git/hapBLOCK/output/simulated/TSI07s05e1/ch3_8cm/inferred/iid15A_iid15B/chr3/default/hmm_run_log.txt\n",
      "Set Output Log to path: /n/groups/reich/hringbauer/git/hapBLOCK/output/simulated/TSI07s05e1/ch3_8cm/inferred/iid12A_iid12B/chr3/default/hmm_run_log.txt\n",
      "Set Output Log to path: /n/groups/reich/hringbauer/git/hapBLOCK/output/simulated/TSI07s05e1/ch3_8cm/inferred/iid6A_iid6B/chr3/default/hmm_run_log.txt\n",
      "Set Output Log to path: /n/groups/reich/hringbauer/git/hapBLOCK/output/simulated/TSI07s05e1/ch3_8cm/inferred/iid18A_iid18B/chr3/default/hmm_run_log.txt\n",
      "Set Output Log to path: /n/groups/reich/hringbauer/git/hapBLOCK/output/simulated/TSI07s05e1/ch3_8cm/inferred/iid27A_iid27B/chr3/default/hmm_run_log.txt\n",
      "Running 100 total jobs; 10 in parallel.\n",
      "Set Output Log to path: /n/groups/reich/hringbauer/git/hapBLOCK/output/simulated/TSI07s05e1/ch3_12cm/inferred/iid27A_iid27B/chr3/default/hmm_run_log.txt\n",
      "Set Output Log to path: /n/groups/reich/hringbauer/git/hapBLOCK/output/simulated/TSI07s05e1/ch3_12cm/inferred/iid0A_iid0B/chr3/default/hmm_run_log.txt\n",
      "Set Output Log to path: /n/groups/reich/hringbauer/git/hapBLOCK/output/simulated/TSI07s05e1/ch3_12cm/inferred/iid6A_iid6B/chr3/default/hmm_run_log.txt\n",
      "Set Output Log to path: /n/groups/reich/hringbauer/git/hapBLOCK/output/simulated/TSI07s05e1/ch3_12cm/inferred/iid12A_iid12B/chr3/default/hmm_run_log.txt\n",
      "Set Output Log to path: /n/groups/reich/hringbauer/git/hapBLOCK/output/simulated/TSI07s05e1/ch3_12cm/inferred/iid9A_iid9B/chr3/default/hmm_run_log.txt\n",
      "Set Output Log to path: /n/groups/reich/hringbauer/git/hapBLOCK/output/simulated/TSI07s05e1/ch3_12cm/inferred/iid15A_iid15B/chr3/default/hmm_run_log.txt\n",
      "Set Output Log to path: /n/groups/reich/hringbauer/git/hapBLOCK/output/simulated/TSI07s05e1/ch3_12cm/inferred/iid18A_iid18B/chr3/default/hmm_run_log.txt\n",
      "Set Output Log to path: /n/groups/reich/hringbauer/git/hapBLOCK/output/simulated/TSI07s05e1/ch3_12cm/inferred/iid3A_iid3B/chr3/default/hmm_run_log.txt\n",
      "Set Output Log to path: /n/groups/reich/hringbauer/git/hapBLOCK/output/simulated/TSI07s05e1/ch3_12cm/inferred/iid21A_iid21B/chr3/default/hmm_run_log.txt\n",
      "Set Output Log to path: /n/groups/reich/hringbauer/git/hapBLOCK/output/simulated/TSI07s05e1/ch3_12cm/inferred/iid24A_iid24B/chr3/default/hmm_run_log.txt\n",
      "Running 100 total jobs; 10 in parallel.\n",
      "Set Output Log to path: /n/groups/reich/hringbauer/git/hapBLOCK/output/simulated/TSI07s05e1/ch3_16cm/inferred/iid9A_iid9B/chr3/default/hmm_run_log.txt\n",
      "Set Output Log to path: /n/groups/reich/hringbauer/git/hapBLOCK/output/simulated/TSI07s05e1/ch3_16cm/inferred/iid0A_iid0B/chr3/default/hmm_run_log.txt\n",
      "Set Output Log to path: /n/groups/reich/hringbauer/git/hapBLOCK/output/simulated/TSI07s05e1/ch3_16cm/inferred/iid3A_iid3B/chr3/default/hmm_run_log.txt\n",
      "Set Output Log to path: /n/groups/reich/hringbauer/git/hapBLOCK/output/simulated/TSI07s05e1/ch3_16cm/inferred/iid6A_iid6B/chr3/default/hmm_run_log.txt\n",
      "Set Output Log to path: /n/groups/reich/hringbauer/git/hapBLOCK/output/simulated/TSI07s05e1/ch3_16cm/inferred/iid21A_iid21B/chr3/default/hmm_run_log.txt\n",
      "Set Output Log to path: /n/groups/reich/hringbauer/git/hapBLOCK/output/simulated/TSI07s05e1/ch3_16cm/inferred/iid18A_iid18B/chr3/default/hmm_run_log.txt\n",
      "Set Output Log to path: /n/groups/reich/hringbauer/git/hapBLOCK/output/simulated/TSI07s05e1/ch3_16cm/inferred/iid24A_iid24B/chr3/default/hmm_run_log.txt\n",
      "Set Output Log to path: /n/groups/reich/hringbauer/git/hapBLOCK/output/simulated/TSI07s05e1/ch3_16cm/inferred/iid12A_iid12B/chr3/default/hmm_run_log.txt\n",
      "Set Output Log to path: /n/groups/reich/hringbauer/git/hapBLOCK/output/simulated/TSI07s05e1/ch3_16cm/inferred/iid27A_iid27B/chr3/default/hmm_run_log.txt\n",
      "Set Output Log to path: /n/groups/reich/hringbauer/git/hapBLOCK/output/simulated/TSI07s05e1/ch3_16cm/inferred/iid15A_iid15B/chr3/default/hmm_run_log.txt\n",
      "Running 100 total jobs; 10 in parallel.\n",
      "Set Output Log to path: /n/groups/reich/hringbauer/git/hapBLOCK/output/simulated/TSI07s05e1/ch3_20cm/inferred/iid6A_iid6B/chr3/default/hmm_run_log.txt\n",
      "Set Output Log to path: /n/groups/reich/hringbauer/git/hapBLOCK/output/simulated/TSI07s05e1/ch3_20cm/inferred/iid27A_iid27B/chr3/default/hmm_run_log.txt\n",
      "Set Output Log to path: /n/groups/reich/hringbauer/git/hapBLOCK/output/simulated/TSI07s05e1/ch3_20cm/inferred/iid9A_iid9B/chr3/default/hmm_run_log.txt\n",
      "Set Output Log to path: /n/groups/reich/hringbauer/git/hapBLOCK/output/simulated/TSI07s05e1/ch3_20cm/inferred/iid21A_iid21B/chr3/default/hmm_run_log.txt\n",
      "Set Output Log to path: /n/groups/reich/hringbauer/git/hapBLOCK/output/simulated/TSI07s05e1/ch3_20cm/inferred/iid18A_iid18B/chr3/default/hmm_run_log.txt\n",
      "Set Output Log to path: /n/groups/reich/hringbauer/git/hapBLOCK/output/simulated/TSI07s05e1/ch3_20cm/inferred/iid12A_iid12B/chr3/default/hmm_run_log.txt\n",
      "Set Output Log to path: /n/groups/reich/hringbauer/git/hapBLOCK/output/simulated/TSI07s05e1/ch3_20cm/inferred/iid0A_iid0B/chr3/default/hmm_run_log.txt\n",
      "Set Output Log to path: /n/groups/reich/hringbauer/git/hapBLOCK/output/simulated/TSI07s05e1/ch3_20cm/inferred/iid3A_iid3B/chr3/default/hmm_run_log.txt\n",
      "Set Output Log to path: /n/groups/reich/hringbauer/git/hapBLOCK/output/simulated/TSI07s05e1/ch3_20cm/inferred/iid15A_iid15B/chr3/default/hmm_run_log.txt\n",
      "Set Output Log to path: /n/groups/reich/hringbauer/git/hapBLOCK/output/simulated/TSI07s05e1/ch3_20cm/inferred/iid24A_iid24B/chr3/default/hmm_run_log.txt\n"
     ]
    }
   ],
   "source": [
    "iids = get_sim_iid_pairs(n_range=[0,100])\n",
    "prefix_out='default/'\n",
    "ch=3\n",
    "\n",
    "for l in [0,4,8,12,16,20]:\n",
    "    basepath = f\"/n/groups/reich/hringbauer/git/hapBLOCK/output/simulated/TSI07s05e1/ch3_{l}cm/\"\n",
    "    folder_in = os.path.join(basepath, \"sim_ch\")\n",
    "    folder_out = os.path.join(basepath, \"inferred\")\n",
    "    params = prep_param_list(iids = iids, ch=ch, prefix_out=prefix_out, output=False,\n",
    "                             folder_in=folder_in, folder_out=folder_out, logfile=True, max_gap=0.0)\n",
    "\n",
    "    ############## Run the IBD Inference\n",
    "    multi_run(hapBLOCK_chrom, params, processes=10)\n",
    "    \n",
    "    ############# Split up Ground truth\n",
    "    for iid2 in iids: \n",
    "        iid = \"_\".join(iid2)\n",
    "        folder_out = os.path.join(basepath, \"inferred\", iid, \"chr\"+str(ch), prefix_out)\n",
    "        split_up_ibd_df(basepath, folder_out, iid2,\n",
    "                        file_in='ibd_info.csv', file_out='ibd_gt.tsv')"
   ]
  },
  {
   "cell_type": "markdown",
   "metadata": {},
   "source": [
    "# Area 51"
   ]
  }
 ],
 "metadata": {
  "kernelspec": {
   "display_name": "Python 3",
   "language": "python",
   "name": "python3"
  },
  "language_info": {
   "codemirror_mode": {
    "name": "ipython",
    "version": 3
   },
   "file_extension": ".py",
   "mimetype": "text/x-python",
   "name": "python",
   "nbconvert_exporter": "python",
   "pygments_lexer": "ipython3",
   "version": "3.7.4"
  }
 },
 "nbformat": 4,
 "nbformat_minor": 4
}
