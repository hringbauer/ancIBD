{
 "cells": [
  {
   "cell_type": "code",
   "execution_count": 2,
   "metadata": {},
   "outputs": [],
   "source": [
    "from python.multi_mosaic import multi_run_lengths"
   ]
  },
  {
   "cell_type": "code",
   "execution_count": 3,
   "metadata": {},
   "outputs": [
    {
     "name": "stdout",
     "output_type": "stream",
     "text": [
      "/mnt/archgen/users/yilei/tools/hapBLOCK/simulation/IBD2/ch3_4cm/\n",
      "\n",
      "Started Mosaic Object. Working Directory:\n",
      "/mnt/archgen/users/yilei/tools/hapBLOCK/notebook/simulate\n",
      "\n",
      "Loaded 77652 variants\n",
      "Loaded 2504 individuals\n",
      "HDF5 loaded from /mnt/archgen/users/yilei/Data/1000G/1000g1240khdf5/all1240/chr3.hdf5\n",
      "(77652, 2504, 2)\n",
      "Loaded 2504 individual meta file.\n",
      "\n",
      "Doing Individual iid0A and iid0B\n",
      "Found 107 Individuals in ['TSI']\n",
      "Setting new Genotypes...\n",
      "Finished chunked Genotypes\n",
      "Setting new Genotypes...\n",
      "Finished chunked Genotypes\n",
      "Copying in Block: 1.0007-1.0407 M\n",
      "copy onto both haplotypes to simulate IBD2\n",
      "Copying in Block: 1.0007-1.0407 M\n",
      "copy onto both haplotypes to simulate IBD2\n",
      "\n",
      "Doing Individual iid1A and iid1B\n",
      "Found 107 Individuals in ['TSI']\n",
      "Setting new Genotypes...\n",
      "Finished chunked Genotypes\n",
      "Setting new Genotypes...\n",
      "Finished chunked Genotypes\n",
      "Copying in Block: 0.4284-0.4682 M\n",
      "copy onto both haplotypes to simulate IBD2\n",
      "Copying in Block: 0.4284-0.4682 M\n",
      "copy onto both haplotypes to simulate IBD2\n",
      "\n",
      "Doing Individual iid2A and iid2B\n",
      "Found 107 Individuals in ['TSI']\n",
      "Setting new Genotypes...\n",
      "Finished chunked Genotypes\n",
      "Setting new Genotypes...\n",
      "Finished chunked Genotypes\n",
      "Copying in Block: 0.0047-0.0445 M\n",
      "copy onto both haplotypes to simulate IBD2\n",
      "Copying in Block: 0.0047-0.0445 M\n",
      "copy onto both haplotypes to simulate IBD2\n",
      "\n",
      "Doing Individual iid3A and iid3B\n",
      "Found 107 Individuals in ['TSI']\n",
      "Setting new Genotypes...\n",
      "Finished chunked Genotypes\n",
      "Setting new Genotypes...\n",
      "Finished chunked Genotypes\n",
      "Copying in Block: 0.6607-0.7008 M\n",
      "copy onto both haplotypes to simulate IBD2\n",
      "Copying in Block: 0.6607-0.7008 M\n",
      "copy onto both haplotypes to simulate IBD2\n",
      "\n",
      "Doing Individual iid4A and iid4B\n",
      "Found 107 Individuals in ['TSI']\n",
      "Setting new Genotypes...\n",
      "Finished chunked Genotypes\n",
      "Setting new Genotypes...\n",
      "Finished chunked Genotypes\n",
      "Copying in Block: 0.7740-0.8140 M\n",
      "copy onto both haplotypes to simulate IBD2\n",
      "Copying in Block: 0.7740-0.8140 M\n",
      "copy onto both haplotypes to simulate IBD2\n",
      "\n",
      "Doing Individual iid5A and iid5B\n",
      "Found 107 Individuals in ['TSI']\n",
      "Setting new Genotypes...\n",
      "Finished chunked Genotypes\n",
      "Setting new Genotypes...\n",
      "Finished chunked Genotypes\n",
      "Copying in Block: 1.2896-1.3296 M\n",
      "copy onto both haplotypes to simulate IBD2\n",
      "Copying in Block: 1.2896-1.3296 M\n",
      "copy onto both haplotypes to simulate IBD2\n",
      "\n",
      "Doing Individual iid6A and iid6B\n",
      "Found 107 Individuals in ['TSI']\n",
      "Setting new Genotypes...\n",
      "Finished chunked Genotypes\n",
      "Setting new Genotypes...\n",
      "Finished chunked Genotypes\n",
      "Copying in Block: 2.0215-2.0615 M\n",
      "copy onto both haplotypes to simulate IBD2\n",
      "Copying in Block: 2.0215-2.0615 M\n",
      "copy onto both haplotypes to simulate IBD2\n",
      "\n",
      "Doing Individual iid7A and iid7B\n",
      "Found 107 Individuals in ['TSI']\n",
      "Setting new Genotypes...\n",
      "Finished chunked Genotypes\n",
      "Setting new Genotypes...\n",
      "Finished chunked Genotypes\n",
      "Copying in Block: 0.3193-0.3593 M\n",
      "copy onto both haplotypes to simulate IBD2\n",
      "Copying in Block: 0.3193-0.3593 M\n",
      "copy onto both haplotypes to simulate IBD2\n",
      "\n",
      "Doing Individual iid8A and iid8B\n",
      "Found 107 Individuals in ['TSI']\n",
      "Setting new Genotypes...\n",
      "Finished chunked Genotypes\n",
      "Setting new Genotypes...\n",
      "Finished chunked Genotypes\n",
      "Copying in Block: 1.4189-1.4590 M\n",
      "copy onto both haplotypes to simulate IBD2\n",
      "Copying in Block: 1.4189-1.4590 M\n",
      "copy onto both haplotypes to simulate IBD2\n",
      "\n",
      "Doing Individual iid9A and iid9B\n",
      "Found 107 Individuals in ['TSI']\n",
      "Setting new Genotypes...\n",
      "Finished chunked Genotypes\n",
      "Setting new Genotypes...\n",
      "Finished chunked Genotypes\n",
      "Copying in Block: 1.1970-1.2369 M\n",
      "copy onto both haplotypes to simulate IBD2\n",
      "Copying in Block: 1.1970-1.2369 M\n",
      "copy onto both haplotypes to simulate IBD2\n",
      "Finished creating genotypes. Dimension: (77652, 20, 2)\n",
      "Successfully saved to /mnt/archgen/users/yilei/tools/hapBLOCK/simulation/IBD2/ch3_4cm/ibd_info.csv\n",
      "Successfully saved 20 individuals to: /mnt/archgen/users/yilei/tools/hapBLOCK/simulation/IBD2/ch3_4cm/sim_ch3.h5\n",
      "CPU times: user 11min 21s, sys: 3.85 s, total: 11min 24s\n",
      "Wall time: 11min 25s\n"
     ]
    }
   ],
   "source": [
    "%%time\n",
    "#########################################\n",
    "if __name__ == \"__main__\":\n",
    "    #t = Mosaic_1000G_Multi()\n",
    "    # t.create_individuals()\n",
    "\n",
    "    # Do the Multi_Run of Lengths\n",
    "    # multi_run_lengths()\n",
    "\n",
    "    ### Test Running FP Individuals without copied blocks:\n",
    "    #multi_run_lengths(base_path=\"./Simulated/1000G_Mosaic/TSI4/\",\n",
    "    #                  lengths=[1, ], n_blocks=5, n=2, chunk_length=0.0025)\n",
    "    \n",
    "    ### Simulate 100 TSI Mosaic Individuals without any copied IBD Blocks\n",
    "    multi_run_lengths(base_path=\"/mnt/archgen/users/yilei/tools/hapBLOCK/simulation/IBD2/\", pop_list=[\"TSI\", ],\n",
    "                      lengths=[4], n_blocks=1, n=10, ch=3, chunk_length=0.0025, IBD2=True)\n",
    "\n",
    "    ### Creating copies of full individuals\n",
    "    #copy_population(base_path=\"./Simulated/1000G_Mosaic/CHB0/\",\n",
    "    #                path1000G=\"./Data/1000Genomes/HDF5/1240kHDF5/NonEur1240chr\",\n",
    "    #                pop_list=[\"CHB\", ], ch=3)\n",
    "\n",
    "    #copy_population(base_path=\"./Simulated/1000G_Mosaic/CLM0/\",\n",
    "    #                path1000G=\"./Data/1000Genomes/HDF5/1240kHDF5/NonEur1240chr\",\n",
    "    #                pop_list=[\"CLM\", ], ch=3)\n",
    "\n",
    "    #copy_population(base_path=\"./Simulated/1000G_Mosaic/YRI0/\",\n",
    "    #                path1000G=\"./Data/1000Genomes/HDF5/1240kHDF5/NonEur1240chr\",\n",
    "    #                pop_list=[\"YRI\", ], ch=3)"
   ]
  },
  {
   "cell_type": "markdown",
   "metadata": {},
   "source": [
    "# Area51"
   ]
  },
  {
   "cell_type": "code",
   "execution_count": 12,
   "metadata": {},
   "outputs": [],
   "source": [
    "import h5py as h5py\n",
    "import numpy as np"
   ]
  },
  {
   "cell_type": "code",
   "execution_count": 9,
   "metadata": {},
   "outputs": [],
   "source": [
    "f = h5py.File(\"/n/groups/reich/hringbauer/git/hapBLOCK/data/hdf5/1240k_1000G/chr3.hdf5\", \"r\")"
   ]
  },
  {
   "cell_type": "code",
   "execution_count": 13,
   "metadata": {},
   "outputs": [
    {
     "data": {
      "text/plain": [
       "(77652, 2504, 2)"
      ]
     },
     "execution_count": 13,
     "metadata": {},
     "output_type": "execute_result"
    }
   ],
   "source": [
    "np.shape(f[\"calldata/GT\"])"
   ]
  },
  {
   "cell_type": "code",
   "execution_count": 17,
   "metadata": {},
   "outputs": [
    {
     "data": {
      "text/plain": [
       "1"
      ]
     },
     "execution_count": 17,
     "metadata": {},
     "output_type": "execute_result"
    }
   ],
   "source": [
    "np.max(f[\"calldata/GT\"][:,:,:])"
   ]
  },
  {
   "cell_type": "code",
   "execution_count": 19,
   "metadata": {},
   "outputs": [],
   "source": [
    "f.close()"
   ]
  },
  {
   "cell_type": "code",
   "execution_count": null,
   "metadata": {},
   "outputs": [],
   "source": []
  }
 ],
 "metadata": {
  "kernelspec": {
   "display_name": "Python 3.8.10 64-bit",
   "language": "python",
   "name": "python3"
  },
  "language_info": {
   "codemirror_mode": {
    "name": "ipython",
    "version": 3
   },
   "file_extension": ".py",
   "mimetype": "text/x-python",
   "name": "python",
   "nbconvert_exporter": "python",
   "pygments_lexer": "ipython3",
   "version": "3.8.10"
  },
  "vscode": {
   "interpreter": {
    "hash": "31f2aee4e71d21fbe5cf8b01ff0e069b9275f58929596ceb00d14d90e3e16cd6"
   }
  }
 },
 "nbformat": 4,
 "nbformat_minor": 4
}
