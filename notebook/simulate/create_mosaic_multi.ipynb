{
 "cells": [
  {
   "cell_type": "code",
   "execution_count": 1,
   "metadata": {},
   "outputs": [],
   "source": [
    "from python.multi_mosaic import multi_run_lengths"
   ]
  },
  {
   "cell_type": "code",
   "execution_count": null,
   "metadata": {},
   "outputs": [],
   "source": [
    "%%time\n",
    "#########################################\n",
    "if __name__ == \"__main__\":\n",
    "    #t = Mosaic_1000G_Multi()\n",
    "    # t.create_individuals()\n",
    "\n",
    "    # Do the Multi_Run of Lengths\n",
    "    # multi_run_lengths()\n",
    "\n",
    "    ### Test Running FP Individuals without copied blocks:\n",
    "    #multi_run_lengths(base_path=\"./Simulated/1000G_Mosaic/TSI4/\",\n",
    "    #                  lengths=[1, ], n_blocks=5, n=2, chunk_length=0.0025)\n",
    "    \n",
    "    ### Simulate 100 CHB Mosaic Individuals without copied Blocks\n",
    "    multi_run_lengths(base_path=\"/n/groups/reich/hringbauer/git/hapBLOCK/output/simulated/TSI/\", pop_list=[\"TSI\", ],\n",
    "                      lengths=[0], n_blocks=0, n=100, ch=3, chunk_length=0.0025)\n",
    "\n",
    "    ### Creating copies of full individuals\n",
    "    #copy_population(base_path=\"./Simulated/1000G_Mosaic/CHB0/\",\n",
    "    #                path1000G=\"./Data/1000Genomes/HDF5/1240kHDF5/NonEur1240chr\",\n",
    "    #                pop_list=[\"CHB\", ], ch=3)\n",
    "\n",
    "    #copy_population(base_path=\"./Simulated/1000G_Mosaic/CLM0/\",\n",
    "    #                path1000G=\"./Data/1000Genomes/HDF5/1240kHDF5/NonEur1240chr\",\n",
    "    #                pop_list=[\"CLM\", ], ch=3)\n",
    "\n",
    "    #copy_population(base_path=\"./Simulated/1000G_Mosaic/YRI0/\",\n",
    "    #                path1000G=\"./Data/1000Genomes/HDF5/1240kHDF5/NonEur1240chr\",\n",
    "    #                pop_list=[\"YRI\", ], ch=3)"
   ]
  },
  {
   "cell_type": "markdown",
   "metadata": {},
   "source": [
    "# Area51"
   ]
  },
  {
   "cell_type": "code",
   "execution_count": 1,
   "metadata": {},
   "outputs": [
    {
     "data": {
      "text/plain": [
       "0.004"
      ]
     },
     "execution_count": 1,
     "metadata": {},
     "output_type": "execute_result"
    }
   ],
   "source": [
    "1/250"
   ]
  },
  {
   "cell_type": "code",
   "execution_count": null,
   "metadata": {},
   "outputs": [],
   "source": []
  }
 ],
 "metadata": {
  "kernelspec": {
   "display_name": "Python 3",
   "language": "python",
   "name": "python3"
  },
  "language_info": {
   "codemirror_mode": {
    "name": "ipython",
    "version": 3
   },
   "file_extension": ".py",
   "mimetype": "text/x-python",
   "name": "python",
   "nbconvert_exporter": "python",
   "pygments_lexer": "ipython3",
   "version": "3.7.4"
  }
 },
 "nbformat": 4,
 "nbformat_minor": 4
}
