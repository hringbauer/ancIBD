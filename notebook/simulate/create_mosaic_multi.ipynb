{
 "cells": [
  {
   "cell_type": "code",
   "execution_count": 1,
   "metadata": {},
   "outputs": [],
   "source": [
    "from python.multi_mosaic import multi_run_lengths"
   ]
  },
  {
   "cell_type": "code",
   "execution_count": 3,
   "metadata": {},
   "outputs": [
    {
     "name": "stdout",
     "output_type": "stream",
     "text": [
      "/n/groups/reich/hringbauer/git/hapBLOCK/output/simulated/TSI/ch3_8cm/\n",
      "\n",
      "Started Mosaic Object. Working Directory:\n",
      "/n/groups/reich/hringbauer/git/hapBLOCK/notebook/simulate\n",
      "\n",
      "Loaded 77652 variants\n",
      "Loaded 2504 individuals\n",
      "HDF5 loaded from /n/groups/reich/hringbauer/git/hapBLOCK/data/hdf5/1240k_1000G/chr3.hdf5\n",
      "(77652, 2504, 2)\n",
      "Loaded 2504 individual meta file.\n",
      "\n",
      "Doing Individual iid0A and iid0B\n",
      "Found 107 Individuals in ['TSI']\n",
      "Setting new Genotypes...\n",
      "Finished chunked Genotypes\n",
      "Setting new Genotypes...\n",
      "Finished chunked Genotypes\n",
      "Copying in Block: 0.1857-0.2657 M\n",
      "Copying in Block: 0.1857-0.2657 M\n",
      "Copying in Block: 0.9475-1.0293 M\n",
      "Copying in Block: 0.9475-1.0293 M\n",
      "Copying in Block: 1.2062-1.2861 M\n",
      "Copying in Block: 1.2062-1.2861 M\n",
      "Copying in Block: 1.9436-2.0234 M\n",
      "Copying in Block: 1.9436-2.0234 M\n",
      "\n",
      "Doing Individual iid1A and iid1B\n",
      "Found 107 Individuals in ['TSI']\n",
      "Setting new Genotypes...\n",
      "Finished chunked Genotypes\n",
      "Setting new Genotypes...\n",
      "Finished chunked Genotypes\n",
      "Copying in Block: 0.1046-0.1854 M\n",
      "Copying in Block: 0.1046-0.1854 M\n",
      "Copying in Block: 0.7494-0.8297 M\n",
      "Copying in Block: 0.7494-0.8297 M\n",
      "Copying in Block: 1.2919-1.3722 M\n",
      "Copying in Block: 1.2919-1.3722 M\n",
      "Copying in Block: 1.7766-1.8580 M\n",
      "Copying in Block: 1.7766-1.8580 M\n",
      "\n",
      "Doing Individual iid2A and iid2B\n",
      "Found 107 Individuals in ['TSI']\n",
      "Setting new Genotypes...\n",
      "Finished chunked Genotypes\n",
      "Setting new Genotypes...\n",
      "Finished chunked Genotypes\n",
      "Copying in Block: 0.2353-0.3145 M\n",
      "Copying in Block: 0.2353-0.3145 M\n",
      "Copying in Block: 0.6866-0.7662 M\n",
      "Copying in Block: 0.6866-0.7662 M\n",
      "Copying in Block: 1.2338-1.3140 M\n",
      "Copying in Block: 1.2338-1.3140 M\n",
      "Copying in Block: 1.8373-1.9170 M\n",
      "Copying in Block: 1.8373-1.9170 M\n",
      "Finished creating genotypes. Dimension: (77652, 6, 2)\n",
      "Successfully saved to /n/groups/reich/hringbauer/git/hapBLOCK/output/simulated/TSI/ch3_8cm/ibd_info.csv\n",
      "Successfully saved 6 individuals to: /n/groups/reich/hringbauer/git/hapBLOCK/output/simulated/TSI/ch3_8cm/sim_ch3.h5\n",
      "CPU times: user 3min 37s, sys: 1.2 s, total: 3min 38s\n",
      "Wall time: 3min 39s\n"
     ]
    }
   ],
   "source": [
    "%%time\n",
    "#########################################\n",
    "if __name__ == \"__main__\":\n",
    "    #t = Mosaic_1000G_Multi()\n",
    "    # t.create_individuals()\n",
    "\n",
    "    # Do the Multi_Run of Lengths\n",
    "    # multi_run_lengths()\n",
    "\n",
    "    ### Test Running FP Individuals without copied blocks:\n",
    "    #multi_run_lengths(base_path=\"./Simulated/1000G_Mosaic/TSI4/\",\n",
    "    #                  lengths=[1, ], n_blocks=5, n=2, chunk_length=0.0025)\n",
    "    \n",
    "    ### Simulate 100 CHB Mosaic Individuals without copied Blocks\n",
    "    multi_run_lengths(base_path=\"/n/groups/reich/hringbauer/git/hapBLOCK/output/simulated/TSI/\", pop_list=[\"TSI\", ],\n",
    "                      lengths=[8], n_blocks=4, n=3, ch=3, chunk_length=0.0025)\n",
    "\n",
    "    ### Creating copies of full individuals\n",
    "    #copy_population(base_path=\"./Simulated/1000G_Mosaic/CHB0/\",\n",
    "    #                path1000G=\"./Data/1000Genomes/HDF5/1240kHDF5/NonEur1240chr\",\n",
    "    #                pop_list=[\"CHB\", ], ch=3)\n",
    "\n",
    "    #copy_population(base_path=\"./Simulated/1000G_Mosaic/CLM0/\",\n",
    "    #                path1000G=\"./Data/1000Genomes/HDF5/1240kHDF5/NonEur1240chr\",\n",
    "    #                pop_list=[\"CLM\", ], ch=3)\n",
    "\n",
    "    #copy_population(base_path=\"./Simulated/1000G_Mosaic/YRI0/\",\n",
    "    #                path1000G=\"./Data/1000Genomes/HDF5/1240kHDF5/NonEur1240chr\",\n",
    "    #                pop_list=[\"YRI\", ], ch=3)"
   ]
  },
  {
   "cell_type": "markdown",
   "metadata": {},
   "source": [
    "# Area51"
   ]
  },
  {
   "cell_type": "code",
   "execution_count": null,
   "metadata": {},
   "outputs": [],
   "source": []
  },
  {
   "cell_type": "code",
   "execution_count": null,
   "metadata": {},
   "outputs": [],
   "source": []
  }
 ],
 "metadata": {
  "kernelspec": {
   "display_name": "Python 3",
   "language": "python",
   "name": "python3"
  },
  "language_info": {
   "codemirror_mode": {
    "name": "ipython",
    "version": 3
   },
   "file_extension": ".py",
   "mimetype": "text/x-python",
   "name": "python",
   "nbconvert_exporter": "python",
   "pygments_lexer": "ipython3",
   "version": "3.7.4"
  }
 },
 "nbformat": 4,
 "nbformat_minor": 4
}
