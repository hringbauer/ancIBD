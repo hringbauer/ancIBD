{
 "cells": [
  {
   "cell_type": "markdown",
   "metadata": {},
   "source": [
    "# Vignette Notebook: How to call IBD with ancIBD\n",
    "This notebook walks you through the steps to call IBD segments with `ancIBD`.\n",
    "It assumes one has data in hdf5 format, including genetic map and ideally also allele frequency data. For how to produce such a .hdf5 file from an imputed VCF, please see the vignette notebook `create_hdf5_from_vcf.ipynb`"
   ]
  },
  {
   "cell_type": "code",
   "execution_count": 1,
   "metadata": {},
   "outputs": [
    {
     "name": "stdout",
     "output_type": "stream",
     "text": [
      "/n/groups/reich/hringbauer/git/hapBLOCK/notebook/vignette\n"
     ]
    }
   ],
   "source": [
    "import sys as sys\n",
    "import matplotlib.cm as cm\n",
    "import pandas as pd\n",
    "import os as os\n",
    "\n",
    "### The following code gives nice and clean Arial font on your plots\n",
    "from matplotlib import rcParams\n",
    "rcParams['font.family'] = 'sans-serif'   # Set the defaul\n",
    "rcParams['font.sans-serif'] = ['Arial']\n",
    "\n",
    "### Set working directory to your vignette folder\n",
    "###\n",
    "# Edit the  following path for your folder\n",
    "path = \"/n/groups/reich/hringbauer/git/hapBLOCK/notebook/vignette/\"\n",
    "\n",
    "os.chdir(path)  # Set the right Path (in line with Atom default)\n",
    "print(os.getcwd())\n",
    "###\n",
    "\n",
    "### The following Code sets the working directory to your ancIBD code\n",
    "### Only uncomment if you want to use not the pip installed package\n",
    "sys.path.insert(0,\"/n/groups/reich/hringbauer/git/hapBLOCK/package/\")  # hack to get development package first in path"
   ]
  },
  {
   "cell_type": "markdown",
   "metadata": {},
   "source": [
    "# Code to run IBD calling\n",
    "Note: For a quick test run for a pairs of indivdiuals and a specific chromosome including a visualization of the posterior, see the vignette notebook `./plot_IBD.ipynb`. This visual test is always recommended to verify whether your data is sound and everything works as expected.\n",
    "\n",
    "Here, the walk-through is through the calling of IBD in a full data set including multiple individuals and chromosomes."
   ]
  },
  {
   "cell_type": "code",
   "execution_count": 2,
   "metadata": {},
   "outputs": [],
   "source": [
    "from ancIBD.run import hapBLOCK_chroms"
   ]
  },
  {
   "cell_type": "markdown",
   "metadata": {},
   "source": [
    "### Specify list of Indivdiuals to screen for IBD\n",
    "This list is the list of indivdiuals that will be loaded into memory by ancIBD.\n",
    "\n",
    "**Please Remember**: ancIBD is data-hungry, and only works for sample **with >600,000 1240k SNPs covered**. If you run it for indivdiuals with fewer SNPs, you will receive output, **but that output is not trustworthy**, with little power to call IBD and high false positive rates."
   ]
  },
  {
   "cell_type": "code",
   "execution_count": 3,
   "metadata": {},
   "outputs": [],
   "source": [
    "iids = [\"I12439\", \"I12440\", \"I12438\", \n",
    "        \"I12896\", \"I21390\", \"I30300\"] # The six Hazelton Indivdiuals of the example data."
   ]
  },
  {
   "cell_type": "markdown",
   "metadata": {},
   "source": [
    "### Screen the sample for IBD\n",
    "The function `hapBLOCK_chroms` calls IBD of an input hdf5. It outputs a dataframe of IBD, which below the function is saved into a specified output folder.\n",
    "\n",
    "Important parameters varying from application to application are:\n",
    "- folder_in: The path of the hdf5 files used for IBD calling. The format is so that everything up to the chrosome number is specified.\n",
    "- iids: All iids to load from the hdf. Has to match the IIDs in the `sample` field of the HDF5\n",
    "- run_iids: Which pairs to run [[iid1, iid2], ...] If this parameter is left empty, then all pairs are run.\n",
    "\n",
    "The other parameters specifiying the various modes of `ancIBD`, and the parameters are default values. E.g. ibd_in, ibd_out, ibd_jump control the jump rates of the underlying HMM (in rates per Morgan), and the various `_model` parameter specificy the type of input data. Power users can modify those settings, but the default values are the recommend parameters for default human data."
   ]
  },
  {
   "cell_type": "code",
   "execution_count": 4,
   "metadata": {},
   "outputs": [
    {
     "name": "stdout",
     "output_type": "stream",
     "text": [
      "CPU times: user 8.63 s, sys: 162 ms, total: 8.79 s\n",
      "Wall time: 9.46 s\n"
     ]
    }
   ],
   "source": [
    "%%time\n",
    "\n",
    "for ch in range(1,23):\n",
    "    df_ibd = hapBLOCK_chroms(folder_in='./data/hdf5/example_hazelton_chr',\n",
    "                             iids=iids, run_iids=[],\n",
    "                             ch=ch, folder_out='./output/ibd_hazelton/',\n",
    "                             output=False, prefix_out='', logfile=False,\n",
    "                             l_model='hdf5', e_model='haploid_gl', h_model='FiveStateScaled', t_model='standard',\n",
    "                             ibd_in=1, ibd_out=10, ibd_jump=400,\n",
    "                             min_cm=6, cutoff_post=0.99, max_gap=0.0075,\n",
    "                             processes=1)"
   ]
  },
  {
   "cell_type": "markdown",
   "metadata": {},
   "source": [
    "Congrats, now you have all the IBD! Notice the speed of the IBD caller. \n",
    "All pairs of six indivduals (15 in total) and all chromosomes only took few seconds to run."
   ]
  },
  {
   "cell_type": "markdown",
   "metadata": {},
   "source": [
    "### Combine IBD calls from all chromosomes\n",
    "Now we need to combine the IBD calls from each chromosome into one overall file. The reason why this is done as seperate function is to allow for parallelization of the above function (i.e. as an array submission on a scientific cluster)."
   ]
  },
  {
   "cell_type": "code",
   "execution_count": 5,
   "metadata": {},
   "outputs": [],
   "source": [
    "from ancIBD.IO.ind_ibd import combine_all_chroms"
   ]
  },
  {
   "cell_type": "code",
   "execution_count": 6,
   "metadata": {},
   "outputs": [
    {
     "name": "stdout",
     "output_type": "stream",
     "text": [
      "Chromosome 1; Loaded 35 IBD\n",
      "Chromosome 2; Loaded 22 IBD\n",
      "Chromosome 3; Loaded 23 IBD\n",
      "Chromosome 4; Loaded 20 IBD\n",
      "Chromosome 5; Loaded 22 IBD\n",
      "Chromosome 6; Loaded 15 IBD\n",
      "Chromosome 7; Loaded 24 IBD\n",
      "Chromosome 8; Loaded 13 IBD\n",
      "Chromosome 9; Loaded 18 IBD\n",
      "Chromosome 10; Loaded 16 IBD\n",
      "Chromosome 11; Loaded 17 IBD\n",
      "Chromosome 12; Loaded 21 IBD\n",
      "Chromosome 13; Loaded 19 IBD\n",
      "Chromosome 14; Loaded 10 IBD\n",
      "Chromosome 15; Loaded 17 IBD\n",
      "Chromosome 16; Loaded 14 IBD\n",
      "Chromosome 17; Loaded 18 IBD\n",
      "Chromosome 18; Loaded 16 IBD\n",
      "Chromosome 19; Loaded 17 IBD\n",
      "Chromosome 20; Loaded 17 IBD\n",
      "Chromosome 21; Loaded 14 IBD\n",
      "Chromosome 22; Loaded 13 IBD\n",
      "Saved 401 IBD to ./output/ibd_hazelton/ch_all.tsv.\n"
     ]
    }
   ],
   "source": [
    "combine_all_chroms(chs=range(1,23),\n",
    "                   folder_base='./output/ibd_hazelton/ch',\n",
    "                   path_save='./output/ibd_hazelton/ch_all.tsv')"
   ]
  },
  {
   "cell_type": "markdown",
   "metadata": {},
   "source": [
    "### Postprocess into summary dataframe\n",
    "For easy screening for IBD between pairs, the function `create_ind_ibd_df`  produces a summary table.\n",
    "Each row is one pair of individuals, and there are columns for summary statistics:\n",
    "- max_ibd: Maximum Length of IBD\n",
    "- sum_IBD>x: The total length of all IBD segments longer than x Morgan\n",
    "- n_IBD>x: The total number of all IBD segments longer than x Morgan\n",
    "\n",
    "By default, these are recorded for >8,>12,>16 and >20 Morgan. This can be changed with the `min_cms` keyword.\n",
    "\n",
    "The function also does post-processing of trustworthy IBD blocks. Most importantly, only IBD with at least a certain SNP density are kept. The reason for this is that areas of low SNP density (such as regions with large gaps of SNPs) are very prone to false positives.\n",
    "\n",
    "**Note**: Only pairs with at least one IBD are recorded (in the above >6 cM). So if a pair of indivdiuals is missing means that this pair of indivdiuals does not have any shared IBD segments. The reason for this omission is that in large samples, most indivdiual pairs will have 0 IBD - thus there would be a large memory requirement but for little informational gain."
   ]
  },
  {
   "cell_type": "code",
   "execution_count": 7,
   "metadata": {},
   "outputs": [],
   "source": [
    "from ancIBD.IO.ind_ibd import create_ind_ibd_df"
   ]
  },
  {
   "cell_type": "code",
   "execution_count": 8,
   "metadata": {},
   "outputs": [
    {
     "name": "stdout",
     "output_type": "stream",
     "text": [
      "> 5 cM: 401/401\n",
      "Of these with suff. SNPs per cM> 220:               293/401\n",
      "1     23\n",
      "2     21\n",
      "3     19\n",
      "4     19\n",
      "12    18\n",
      "5     17\n",
      "10    16\n",
      "11    16\n",
      "13    15\n",
      "6     15\n",
      "7     14\n",
      "16    13\n",
      "20    13\n",
      "21    12\n",
      "8     12\n",
      "9     11\n",
      "14     9\n",
      "18     9\n",
      "15     8\n",
      "17     8\n",
      "22     5\n",
      "Name: ch, dtype: int64\n",
      "Saved 15 individual IBD pairs to: ./output/ibd_hazelton/ibd_ind.d220.tsv\n",
      "CPU times: user 83.8 ms, sys: 5.14 ms, total: 88.9 ms\n",
      "Wall time: 113 ms\n"
     ]
    }
   ],
   "source": [
    "%%time\n",
    "df_res = create_ind_ibd_df(ibd_data = './output/ibd_hazelton/ch_all.tsv',\n",
    "                      min_cms = [8, 12, 16, 20], snp_cm = 220, min_cm = 5, sort_col = 0,\n",
    "                      savepath = \"./output/ibd_hazelton/ibd_ind.d220.tsv\")"
   ]
  },
  {
   "cell_type": "markdown",
   "metadata": {},
   "source": [
    "Congrats, that closes the post-processing of IBD. Let's have a look into the output data:"
   ]
  },
  {
   "cell_type": "code",
   "execution_count": 9,
   "metadata": {},
   "outputs": [
    {
     "data": {
      "text/html": [
       "<div>\n",
       "<style scoped>\n",
       "    .dataframe tbody tr th:only-of-type {\n",
       "        vertical-align: middle;\n",
       "    }\n",
       "\n",
       "    .dataframe tbody tr th {\n",
       "        vertical-align: top;\n",
       "    }\n",
       "\n",
       "    .dataframe thead th {\n",
       "        text-align: right;\n",
       "    }\n",
       "</style>\n",
       "<table border=\"1\" class=\"dataframe\">\n",
       "  <thead>\n",
       "    <tr style=\"text-align: right;\">\n",
       "      <th></th>\n",
       "      <th>iid1</th>\n",
       "      <th>iid2</th>\n",
       "      <th>max_IBD</th>\n",
       "      <th>sum_IBD&gt;8</th>\n",
       "      <th>n_IBD&gt;8</th>\n",
       "      <th>sum_IBD&gt;12</th>\n",
       "      <th>n_IBD&gt;12</th>\n",
       "      <th>sum_IBD&gt;16</th>\n",
       "      <th>n_IBD&gt;16</th>\n",
       "      <th>sum_IBD&gt;20</th>\n",
       "      <th>n_IBD&gt;20</th>\n",
       "    </tr>\n",
       "  </thead>\n",
       "  <tbody>\n",
       "    <tr>\n",
       "      <th>0</th>\n",
       "      <td>I12438</td>\n",
       "      <td>I30300</td>\n",
       "      <td>283.652203</td>\n",
       "      <td>3334.432993</td>\n",
       "      <td>20.0</td>\n",
       "      <td>3334.432993</td>\n",
       "      <td>20.0</td>\n",
       "      <td>3334.432993</td>\n",
       "      <td>20.0</td>\n",
       "      <td>3334.432993</td>\n",
       "      <td>20.0</td>\n",
       "    </tr>\n",
       "    <tr>\n",
       "      <th>1</th>\n",
       "      <td>I12440</td>\n",
       "      <td>I30300</td>\n",
       "      <td>283.606503</td>\n",
       "      <td>3322.099692</td>\n",
       "      <td>20.0</td>\n",
       "      <td>3322.099692</td>\n",
       "      <td>20.0</td>\n",
       "      <td>3322.099692</td>\n",
       "      <td>20.0</td>\n",
       "      <td>3322.099692</td>\n",
       "      <td>20.0</td>\n",
       "    </tr>\n",
       "    <tr>\n",
       "      <th>2</th>\n",
       "      <td>I12440</td>\n",
       "      <td>I12438</td>\n",
       "      <td>176.739703</td>\n",
       "      <td>1687.484123</td>\n",
       "      <td>22.0</td>\n",
       "      <td>1687.484123</td>\n",
       "      <td>22.0</td>\n",
       "      <td>1675.113823</td>\n",
       "      <td>21.0</td>\n",
       "      <td>1675.113823</td>\n",
       "      <td>21.0</td>\n",
       "    </tr>\n",
       "    <tr>\n",
       "      <th>3</th>\n",
       "      <td>I12439</td>\n",
       "      <td>I12440</td>\n",
       "      <td>153.307700</td>\n",
       "      <td>1627.592178</td>\n",
       "      <td>20.0</td>\n",
       "      <td>1605.567779</td>\n",
       "      <td>18.0</td>\n",
       "      <td>1605.567779</td>\n",
       "      <td>18.0</td>\n",
       "      <td>1605.567779</td>\n",
       "      <td>18.0</td>\n",
       "    </tr>\n",
       "    <tr>\n",
       "      <th>4</th>\n",
       "      <td>I12439</td>\n",
       "      <td>I30300</td>\n",
       "      <td>98.252594</td>\n",
       "      <td>915.175968</td>\n",
       "      <td>13.0</td>\n",
       "      <td>915.175968</td>\n",
       "      <td>13.0</td>\n",
       "      <td>915.175968</td>\n",
       "      <td>13.0</td>\n",
       "      <td>915.175968</td>\n",
       "      <td>13.0</td>\n",
       "    </tr>\n",
       "    <tr>\n",
       "      <th>5</th>\n",
       "      <td>I12439</td>\n",
       "      <td>I12438</td>\n",
       "      <td>93.373895</td>\n",
       "      <td>497.595579</td>\n",
       "      <td>10.0</td>\n",
       "      <td>489.558280</td>\n",
       "      <td>9.0</td>\n",
       "      <td>489.558280</td>\n",
       "      <td>9.0</td>\n",
       "      <td>489.558280</td>\n",
       "      <td>9.0</td>\n",
       "    </tr>\n",
       "    <tr>\n",
       "      <th>6</th>\n",
       "      <td>I12440</td>\n",
       "      <td>I12896</td>\n",
       "      <td>26.588400</td>\n",
       "      <td>220.856794</td>\n",
       "      <td>19.0</td>\n",
       "      <td>101.284505</td>\n",
       "      <td>6.0</td>\n",
       "      <td>60.889204</td>\n",
       "      <td>3.0</td>\n",
       "      <td>26.588400</td>\n",
       "      <td>1.0</td>\n",
       "    </tr>\n",
       "    <tr>\n",
       "      <th>7</th>\n",
       "      <td>I12438</td>\n",
       "      <td>I12896</td>\n",
       "      <td>13.789403</td>\n",
       "      <td>153.881811</td>\n",
       "      <td>16.0</td>\n",
       "      <td>13.789403</td>\n",
       "      <td>1.0</td>\n",
       "      <td>0.000000</td>\n",
       "      <td>0.0</td>\n",
       "      <td>0.000000</td>\n",
       "      <td>0.0</td>\n",
       "    </tr>\n",
       "    <tr>\n",
       "      <th>8</th>\n",
       "      <td>I12439</td>\n",
       "      <td>I12896</td>\n",
       "      <td>16.200301</td>\n",
       "      <td>142.906810</td>\n",
       "      <td>14.0</td>\n",
       "      <td>43.321703</td>\n",
       "      <td>3.0</td>\n",
       "      <td>16.200301</td>\n",
       "      <td>1.0</td>\n",
       "      <td>0.000000</td>\n",
       "      <td>0.0</td>\n",
       "    </tr>\n",
       "    <tr>\n",
       "      <th>9</th>\n",
       "      <td>I12896</td>\n",
       "      <td>I21390</td>\n",
       "      <td>17.000001</td>\n",
       "      <td>128.574783</td>\n",
       "      <td>12.0</td>\n",
       "      <td>57.787899</td>\n",
       "      <td>4.0</td>\n",
       "      <td>17.000001</td>\n",
       "      <td>1.0</td>\n",
       "      <td>0.000000</td>\n",
       "      <td>0.0</td>\n",
       "    </tr>\n",
       "    <tr>\n",
       "      <th>10</th>\n",
       "      <td>I12896</td>\n",
       "      <td>I30300</td>\n",
       "      <td>12.626199</td>\n",
       "      <td>107.161488</td>\n",
       "      <td>11.0</td>\n",
       "      <td>12.626199</td>\n",
       "      <td>1.0</td>\n",
       "      <td>0.000000</td>\n",
       "      <td>0.0</td>\n",
       "      <td>0.000000</td>\n",
       "      <td>0.0</td>\n",
       "    </tr>\n",
       "    <tr>\n",
       "      <th>11</th>\n",
       "      <td>I21390</td>\n",
       "      <td>I30300</td>\n",
       "      <td>13.122803</td>\n",
       "      <td>13.122803</td>\n",
       "      <td>1.0</td>\n",
       "      <td>13.122803</td>\n",
       "      <td>1.0</td>\n",
       "      <td>0.000000</td>\n",
       "      <td>0.0</td>\n",
       "      <td>0.000000</td>\n",
       "      <td>0.0</td>\n",
       "    </tr>\n",
       "    <tr>\n",
       "      <th>12</th>\n",
       "      <td>I12439</td>\n",
       "      <td>I21390</td>\n",
       "      <td>11.119103</td>\n",
       "      <td>11.119103</td>\n",
       "      <td>1.0</td>\n",
       "      <td>0.000000</td>\n",
       "      <td>0.0</td>\n",
       "      <td>0.000000</td>\n",
       "      <td>0.0</td>\n",
       "      <td>0.000000</td>\n",
       "      <td>0.0</td>\n",
       "    </tr>\n",
       "    <tr>\n",
       "      <th>13</th>\n",
       "      <td>I12438</td>\n",
       "      <td>I21390</td>\n",
       "      <td>0.000000</td>\n",
       "      <td>0.000000</td>\n",
       "      <td>0.0</td>\n",
       "      <td>0.000000</td>\n",
       "      <td>0.0</td>\n",
       "      <td>0.000000</td>\n",
       "      <td>0.0</td>\n",
       "      <td>0.000000</td>\n",
       "      <td>0.0</td>\n",
       "    </tr>\n",
       "    <tr>\n",
       "      <th>14</th>\n",
       "      <td>I12440</td>\n",
       "      <td>I21390</td>\n",
       "      <td>0.000000</td>\n",
       "      <td>0.000000</td>\n",
       "      <td>0.0</td>\n",
       "      <td>0.000000</td>\n",
       "      <td>0.0</td>\n",
       "      <td>0.000000</td>\n",
       "      <td>0.0</td>\n",
       "      <td>0.000000</td>\n",
       "      <td>0.0</td>\n",
       "    </tr>\n",
       "  </tbody>\n",
       "</table>\n",
       "</div>"
      ],
      "text/plain": [
       "      iid1    iid2     max_IBD    sum_IBD>8  n_IBD>8   sum_IBD>12  n_IBD>12  \\\n",
       "0   I12438  I30300  283.652203  3334.432993     20.0  3334.432993      20.0   \n",
       "1   I12440  I30300  283.606503  3322.099692     20.0  3322.099692      20.0   \n",
       "2   I12440  I12438  176.739703  1687.484123     22.0  1687.484123      22.0   \n",
       "3   I12439  I12440  153.307700  1627.592178     20.0  1605.567779      18.0   \n",
       "4   I12439  I30300   98.252594   915.175968     13.0   915.175968      13.0   \n",
       "5   I12439  I12438   93.373895   497.595579     10.0   489.558280       9.0   \n",
       "6   I12440  I12896   26.588400   220.856794     19.0   101.284505       6.0   \n",
       "7   I12438  I12896   13.789403   153.881811     16.0    13.789403       1.0   \n",
       "8   I12439  I12896   16.200301   142.906810     14.0    43.321703       3.0   \n",
       "9   I12896  I21390   17.000001   128.574783     12.0    57.787899       4.0   \n",
       "10  I12896  I30300   12.626199   107.161488     11.0    12.626199       1.0   \n",
       "11  I21390  I30300   13.122803    13.122803      1.0    13.122803       1.0   \n",
       "12  I12439  I21390   11.119103    11.119103      1.0     0.000000       0.0   \n",
       "13  I12438  I21390    0.000000     0.000000      0.0     0.000000       0.0   \n",
       "14  I12440  I21390    0.000000     0.000000      0.0     0.000000       0.0   \n",
       "\n",
       "     sum_IBD>16  n_IBD>16   sum_IBD>20  n_IBD>20  \n",
       "0   3334.432993      20.0  3334.432993      20.0  \n",
       "1   3322.099692      20.0  3322.099692      20.0  \n",
       "2   1675.113823      21.0  1675.113823      21.0  \n",
       "3   1605.567779      18.0  1605.567779      18.0  \n",
       "4    915.175968      13.0   915.175968      13.0  \n",
       "5    489.558280       9.0   489.558280       9.0  \n",
       "6     60.889204       3.0    26.588400       1.0  \n",
       "7      0.000000       0.0     0.000000       0.0  \n",
       "8     16.200301       1.0     0.000000       0.0  \n",
       "9     17.000001       1.0     0.000000       0.0  \n",
       "10     0.000000       0.0     0.000000       0.0  \n",
       "11     0.000000       0.0     0.000000       0.0  \n",
       "12     0.000000       0.0     0.000000       0.0  \n",
       "13     0.000000       0.0     0.000000       0.0  \n",
       "14     0.000000       0.0     0.000000       0.0  "
      ]
     },
     "execution_count": 9,
     "metadata": {},
     "output_type": "execute_result"
    }
   ],
   "source": [
    "df_ibd = pd.read_csv('./output/ibd_hazelton/ibd_ind.d220.tsv', sep=\"\\t\")\n",
    "df_ibd"
   ]
  },
  {
   "cell_type": "markdown",
   "metadata": {},
   "source": [
    "Oh, there are a couple of individual pairs with ample IBD. Some of them in all chromosomes!"
   ]
  },
  {
   "cell_type": "markdown",
   "metadata": {},
   "source": [
    "Congrats - you have now learned how to call IBD segments and to post-process the output. \n",
    "\n",
    "The next step is visualizing the output. The vignette notebook `./plot_IBD.ipynb` will walk you through that step."
   ]
  }
 ],
 "metadata": {
  "kernelspec": {
   "display_name": "Python 3",
   "language": "python",
   "name": "python3"
  },
  "language_info": {
   "codemirror_mode": {
    "name": "ipython",
    "version": 3
   },
   "file_extension": ".py",
   "mimetype": "text/x-python",
   "name": "python",
   "nbconvert_exporter": "python",
   "pygments_lexer": "ipython3",
   "version": "3.8.10"
  }
 },
 "nbformat": 4,
 "nbformat_minor": 4
}
