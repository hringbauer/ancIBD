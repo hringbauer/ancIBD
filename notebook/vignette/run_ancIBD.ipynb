{
 "cells": [
  {
   "cell_type": "markdown",
   "metadata": {},
   "source": [
    "# Vignette: Calling IBD with ancIBD\n",
    "This notebook walks you through the steps to call IBD segments with `ancIBD`.\n",
    "It assumes one has data in hdf5 format, including genetic map and ideally also allele frequency data. For how to produce such a .hdf5 file from an imputed VCF, please see the vignette notebook `create_hdf5_from_vcf.ipynb`."
   ]
  },
  {
   "cell_type": "code",
   "execution_count": 3,
   "metadata": {
    "tags": []
   },
   "outputs": [
    {
     "name": "stdout",
     "output_type": "stream",
     "text": [
      "/mnt/archgen/users/hringbauer/git/hapBLOCK/notebook/vignette\n"
     ]
    }
   ],
   "source": [
    "import sys as sys\n",
    "import matplotlib.cm as cm\n",
    "import pandas as pd\n",
    "import os as os\n",
    "\n",
    "### Set working directory to your ancIBD vignette folder\n",
    "#path = \"/n/groups/reich/hringbauer/git/hapBLOCK/notebook/vignette/\"\n",
    "\n",
    "#os.chdir(path)  # Set the right Path (in line with Atom default)\n",
    "print(os.getcwd())\n",
    "\n",
    "### The following Code sets the working directory to your ancIBD code\n",
    "### Only uncomment if you want to use not the pip installed package\n",
    "#sys.path.insert(0,\"/n/groups/reich/hringbauer/git/hapBLOCK/package/\")  # hack to get development package first in path"
   ]
  },
  {
   "cell_type": "markdown",
   "metadata": {},
   "source": [
    "# Code to run IBD calling\n",
    "Note: For a quick test run for a pairs of indivdiuals and a specific chromosome including a visualization of the posterior, see the vignette notebook `./plot_IBD.ipynb`. This visual test is always recommended to verify whether your data is sound and everything works as expected.\n",
    "\n",
    "Here, the walk-through is through the calling of IBD in a full data set including multiple individuals and chromosomes."
   ]
  },
  {
   "cell_type": "code",
   "execution_count": 4,
   "metadata": {
    "tags": []
   },
   "outputs": [],
   "source": [
    "from ancIBD.run import hapBLOCK_chroms"
   ]
  },
  {
   "cell_type": "markdown",
   "metadata": {},
   "source": [
    "### Specify list of Indivdiuals to screen for IBD\n",
    "This list is the list of indivdiuals that will be loaded into memory by ancIBD.\n",
    "\n",
    "**Please Remember**: ancIBD is data-hungry, and only works for ancient genomes **with >600,000 1240k SNPs covered** (or **WGS data with >200,000 1240k SNPs covered**). If you run it for indivdiuals with less coverage, you will still receive output, **but that output is not trustworthy**, with little power to call IBD and high false positive rates."
   ]
  },
  {
   "cell_type": "code",
   "execution_count": 3,
   "metadata": {
    "tags": []
   },
   "outputs": [],
   "source": [
    "iids = [\"I12439\", \"I12440\", \"I12438\", \n",
    "        \"I12896\", \"I21390\", \"I30300\"] # The six Hazelton Indivdiuals of the example data."
   ]
  },
  {
   "cell_type": "markdown",
   "metadata": {},
   "source": [
    "## 1) Run ancIBD on your sample to output all IBD segments\n",
    "The function `hapBLOCK_chroms` calls IBD of an input hdf5. It outputs a dataframe of IBD, which below the function is saved into a specified output folder.\n",
    "\n",
    "Important parameters varying from application to application are:\n",
    "- **folder_in**: The path of the hdf5 files used for IBD calling. The format is so that everything up to the chrosome number is specified.\n",
    "- **iids**: All iids to load from the hdf. Has to match the IIDs in the `sample` field of the HDF5\n",
    "- **run_iids**: Which pairs to run [[iid1, iid2], ...] If this parameter is left empty, then all pairs are run.\n",
    "- **p_col**: This specifies which field to use for reference allele frequencies (that should be encoded into your HDF5 file). You can set 'variants/RAF' - which are the 1000G reference allele frequencies, or 'variants/AF_ALL', which encodes the allele frequencies calculated from the HDF5 file (using all high confidence genotypes). If your dataset is small, the 1000G allele frequencies are a better choice as there will be large sampling error in the sample allele frequencies - and for most Eurasian aDNA 1000G allele frequencies are proven to work well. If your data set in the h5 is very big (100s or even 1000s of samples), it might be better to use the sample specific allele frequencies.\n",
    "\n",
    "The other parameters specifiying the various modes of `ancIBD`, and the parameters are default values. E.g. ibd_in, ibd_out, ibd_jump control the jump rates of the underlying HMM (in rates per Morgan), and the various `_model` parameter specificy various modes to load the data (`l_model`), to specify the HMM (`e_model`: Emission, `t_model`: Transition) and run the ancIBD HMM (`h_model`).\n",
    "\n",
    "The default values and modes are the recommend parameters for typical human aDNA data, but power users can modify those advanced settings."
   ]
  },
  {
   "cell_type": "code",
   "execution_count": 4,
   "metadata": {
    "tags": []
   },
   "outputs": [
    {
     "name": "stdout",
     "output_type": "stream",
     "text": [
      "CPU times: user 7.8 s, sys: 314 ms, total: 8.12 s\n",
      "Wall time: 8.81 s\n"
     ]
    }
   ],
   "source": [
    "%%time\n",
    "\n",
    "for ch in range(1,23):\n",
    "    df_ibd = hapBLOCK_chroms(folder_in='./data/hdf5/example_hazelton_chr',\n",
    "                             iids=iids, run_iids=[],\n",
    "                             ch=ch, folder_out='./output/ibd_hazelton/',\n",
    "                             output=False, prefix_out='', logfile=False,\n",
    "                             l_model='h5', e_model='haploid_gl2', h_model='FiveStateScaled', t_model='standard',\n",
    "                             p_col='variants/RAF',\n",
    "                             ibd_in=1, ibd_out=10, ibd_jump=400,\n",
    "                             min_cm=6, cutoff_post=0.99, max_gap=0.0075,\n",
    "                             processes=1)"
   ]
  },
  {
   "cell_type": "markdown",
   "metadata": {},
   "source": [
    "Congrats, now you have all the IBD segments called! Notice the speed of the IBD caller: All pairs of six indivduals (15 in total) and all chromosomes only took few seconds to run."
   ]
  },
  {
   "cell_type": "markdown",
   "metadata": {},
   "source": [
    "## 2) Combine IBD calls from all chromosomes\n",
    "Now we combine the IBD calls from each chromosome into one overall file. The reason why this is done as seperate function is to allow for parallelization of the above function (i.e. as an array submission on a scientific cluster)."
   ]
  },
  {
   "cell_type": "code",
   "execution_count": 5,
   "metadata": {
    "tags": []
   },
   "outputs": [],
   "source": [
    "from ancIBD.IO.ind_ibd import combine_all_chroms"
   ]
  },
  {
   "cell_type": "code",
   "execution_count": 6,
   "metadata": {},
   "outputs": [
    {
     "name": "stdout",
     "output_type": "stream",
     "text": [
      "Chromosome 1; Loaded 22 IBD\n",
      "Chromosome 2; Loaded 15 IBD\n",
      "Chromosome 3; Loaded 15 IBD\n",
      "Chromosome 4; Loaded 10 IBD\n",
      "Chromosome 5; Loaded 10 IBD\n",
      "Chromosome 6; Loaded 13 IBD\n",
      "Chromosome 7; Loaded 14 IBD\n",
      "Chromosome 8; Loaded 7 IBD\n",
      "Chromosome 9; Loaded 20 IBD\n",
      "Chromosome 10; Loaded 9 IBD\n",
      "Chromosome 11; Loaded 12 IBD\n",
      "Chromosome 12; Loaded 11 IBD\n",
      "Chromosome 13; Loaded 12 IBD\n",
      "Chromosome 14; Loaded 10 IBD\n",
      "Chromosome 15; Loaded 11 IBD\n",
      "Chromosome 16; Loaded 10 IBD\n",
      "Chromosome 17; Loaded 12 IBD\n",
      "Chromosome 18; Loaded 11 IBD\n",
      "Chromosome 19; Loaded 19 IBD\n",
      "Chromosome 20; Loaded 15 IBD\n",
      "Chromosome 21; Loaded 11 IBD\n",
      "Chromosome 22; Loaded 10 IBD\n",
      "Saved 279 IBD to ./output/ibd_hazelton/ch_all.tsv.\n"
     ]
    }
   ],
   "source": [
    "combine_all_chroms(chs=range(1,23),\n",
    "                   folder_base='./output/ibd_hazelton/ch',\n",
    "                   path_save='./output/ibd_hazelton/ch_all.tsv')"
   ]
  },
  {
   "cell_type": "markdown",
   "metadata": {},
   "source": [
    "## 3) Postprocess output into single summary table\n",
    "For easy screening for IBD between pairs, the function `create_ind_ibd_df`  produces a summary table.\n",
    "Each row is one pair of individuals, and there are columns for summary statistics:\n",
    "- **max_ibd**: Maximum Length of IBD\n",
    "- **sum_IBD>x**: The total length of all IBD segments longer than x Morgan\n",
    "- **n_IBD>x**: The total number of all IBD segments longer than x Morgan\n",
    "\n",
    "By default, these are recorded for >8,>12,>16 and >20 Morgan. This can be changed with the `min_cms` keyword.\n",
    "\n",
    "The function also does post-processing of trustworthy IBD blocks. Most importantly, only IBD with at least a certain SNP density are kept. The reason for this is that areas of low SNP density (such as regions with large gaps of SNPs) are very prone to false positives.\n",
    "\n",
    "**Note**: Only pairs with at least one IBD are recorded (in the above >6 cM). So if a pair of indivdiuals is missing means that this pair of indivdiuals does not have any shared IBD segments. The reason for this omission is that in large samples, most indivdiual pairs will have 0 IBD - thus there would be a large memory requirement but for little informational gain."
   ]
  },
  {
   "cell_type": "code",
   "execution_count": 16,
   "metadata": {
    "tags": []
   },
   "outputs": [],
   "source": [
    "from ancIBD.IO.ind_ibd import create_ind_ibd_df"
   ]
  },
  {
   "cell_type": "code",
   "execution_count": 17,
   "metadata": {
    "tags": []
   },
   "outputs": [
    {
     "name": "stdout",
     "output_type": "stream",
     "text": [
      "> 5 cM: 279/279\n",
      "Of these with suff. SNPs per cM> 220:               177/279\n",
      "2     13\n",
      "11    12\n",
      "6     12\n",
      "13    11\n",
      "3     11\n",
      "1     11\n",
      "9     10\n",
      "16     9\n",
      "21     9\n",
      "10     9\n",
      "20     9\n",
      "5      8\n",
      "4      8\n",
      "12     7\n",
      "14     6\n",
      "8      6\n",
      "7      6\n",
      "18     6\n",
      "22     6\n",
      "15     4\n",
      "17     4\n",
      "Name: ch, dtype: int64\n",
      "Saved 15 individual IBD pairs to: ./output/ibd_hazelton/ibd_ind.d220.tsv\n",
      "CPU times: user 86.7 ms, sys: 3.91 ms, total: 90.6 ms\n",
      "Wall time: 130 ms\n"
     ]
    }
   ],
   "source": [
    "%%time\n",
    "df_res = create_ind_ibd_df(ibd_data = './output/ibd_hazelton/ch_all.tsv',\n",
    "                      min_cms = [8, 12, 16, 20], snp_cm = 220, min_cm = 5, sort_col = 0,\n",
    "                      savepath = \"./output/ibd_hazelton/ibd_ind.d220.tsv\")"
   ]
  },
  {
   "cell_type": "markdown",
   "metadata": {},
   "source": [
    "Congrats, that closes the post-processing of IBD. Let's have a look into the output data:"
   ]
  },
  {
   "cell_type": "code",
   "execution_count": 18,
   "metadata": {
    "tags": []
   },
   "outputs": [
    {
     "data": {
      "text/html": [
       "<div>\n",
       "<style scoped>\n",
       "    .dataframe tbody tr th:only-of-type {\n",
       "        vertical-align: middle;\n",
       "    }\n",
       "\n",
       "    .dataframe tbody tr th {\n",
       "        vertical-align: top;\n",
       "    }\n",
       "\n",
       "    .dataframe thead th {\n",
       "        text-align: right;\n",
       "    }\n",
       "</style>\n",
       "<table border=\"1\" class=\"dataframe\">\n",
       "  <thead>\n",
       "    <tr style=\"text-align: right;\">\n",
       "      <th></th>\n",
       "      <th>iid1</th>\n",
       "      <th>iid2</th>\n",
       "      <th>max_IBD</th>\n",
       "      <th>sum_IBD&gt;8</th>\n",
       "      <th>n_IBD&gt;8</th>\n",
       "      <th>sum_IBD&gt;12</th>\n",
       "      <th>n_IBD&gt;12</th>\n",
       "      <th>sum_IBD&gt;16</th>\n",
       "      <th>n_IBD&gt;16</th>\n",
       "      <th>sum_IBD&gt;20</th>\n",
       "      <th>n_IBD&gt;20</th>\n",
       "    </tr>\n",
       "  </thead>\n",
       "  <tbody>\n",
       "    <tr>\n",
       "      <th>0</th>\n",
       "      <td>I12438</td>\n",
       "      <td>I30300</td>\n",
       "      <td>283.700303</td>\n",
       "      <td>3336.351792</td>\n",
       "      <td>21.0</td>\n",
       "      <td>3336.351792</td>\n",
       "      <td>21.0</td>\n",
       "      <td>3336.351792</td>\n",
       "      <td>21.0</td>\n",
       "      <td>3336.351792</td>\n",
       "      <td>21.0</td>\n",
       "    </tr>\n",
       "    <tr>\n",
       "      <th>1</th>\n",
       "      <td>I12440</td>\n",
       "      <td>I30300</td>\n",
       "      <td>268.787893</td>\n",
       "      <td>3318.813892</td>\n",
       "      <td>21.0</td>\n",
       "      <td>3318.813892</td>\n",
       "      <td>21.0</td>\n",
       "      <td>3318.813892</td>\n",
       "      <td>21.0</td>\n",
       "      <td>3318.813892</td>\n",
       "      <td>21.0</td>\n",
       "    </tr>\n",
       "    <tr>\n",
       "      <th>2</th>\n",
       "      <td>I12440</td>\n",
       "      <td>I12438</td>\n",
       "      <td>176.751903</td>\n",
       "      <td>1660.115506</td>\n",
       "      <td>21.0</td>\n",
       "      <td>1650.284006</td>\n",
       "      <td>20.0</td>\n",
       "      <td>1650.284006</td>\n",
       "      <td>20.0</td>\n",
       "      <td>1650.284006</td>\n",
       "      <td>20.0</td>\n",
       "    </tr>\n",
       "    <tr>\n",
       "      <th>3</th>\n",
       "      <td>I12439</td>\n",
       "      <td>I12440</td>\n",
       "      <td>153.428499</td>\n",
       "      <td>1628.101396</td>\n",
       "      <td>21.0</td>\n",
       "      <td>1605.868303</td>\n",
       "      <td>19.0</td>\n",
       "      <td>1605.868303</td>\n",
       "      <td>19.0</td>\n",
       "      <td>1605.868303</td>\n",
       "      <td>19.0</td>\n",
       "    </tr>\n",
       "    <tr>\n",
       "      <th>4</th>\n",
       "      <td>I12439</td>\n",
       "      <td>I30300</td>\n",
       "      <td>98.273498</td>\n",
       "      <td>920.435097</td>\n",
       "      <td>13.0</td>\n",
       "      <td>920.435097</td>\n",
       "      <td>13.0</td>\n",
       "      <td>920.435097</td>\n",
       "      <td>13.0</td>\n",
       "      <td>920.435097</td>\n",
       "      <td>13.0</td>\n",
       "    </tr>\n",
       "    <tr>\n",
       "      <th>5</th>\n",
       "      <td>I12439</td>\n",
       "      <td>I12438</td>\n",
       "      <td>93.381101</td>\n",
       "      <td>476.404998</td>\n",
       "      <td>10.0</td>\n",
       "      <td>460.227589</td>\n",
       "      <td>8.0</td>\n",
       "      <td>460.227589</td>\n",
       "      <td>8.0</td>\n",
       "      <td>460.227589</td>\n",
       "      <td>8.0</td>\n",
       "    </tr>\n",
       "    <tr>\n",
       "      <th>6</th>\n",
       "      <td>I12896</td>\n",
       "      <td>I30300</td>\n",
       "      <td>12.916911</td>\n",
       "      <td>41.172510</td>\n",
       "      <td>4.0</td>\n",
       "      <td>12.916911</td>\n",
       "      <td>1.0</td>\n",
       "      <td>0.000000</td>\n",
       "      <td>0.0</td>\n",
       "      <td>0.000000</td>\n",
       "      <td>0.0</td>\n",
       "    </tr>\n",
       "    <tr>\n",
       "      <th>7</th>\n",
       "      <td>I12896</td>\n",
       "      <td>I21390</td>\n",
       "      <td>11.861992</td>\n",
       "      <td>40.497494</td>\n",
       "      <td>4.0</td>\n",
       "      <td>0.000000</td>\n",
       "      <td>0.0</td>\n",
       "      <td>0.000000</td>\n",
       "      <td>0.0</td>\n",
       "      <td>0.000000</td>\n",
       "      <td>0.0</td>\n",
       "    </tr>\n",
       "    <tr>\n",
       "      <th>8</th>\n",
       "      <td>I12438</td>\n",
       "      <td>I12896</td>\n",
       "      <td>13.538799</td>\n",
       "      <td>22.422002</td>\n",
       "      <td>2.0</td>\n",
       "      <td>13.538799</td>\n",
       "      <td>1.0</td>\n",
       "      <td>0.000000</td>\n",
       "      <td>0.0</td>\n",
       "      <td>0.000000</td>\n",
       "      <td>0.0</td>\n",
       "    </tr>\n",
       "    <tr>\n",
       "      <th>9</th>\n",
       "      <td>I12439</td>\n",
       "      <td>I12896</td>\n",
       "      <td>10.088903</td>\n",
       "      <td>18.503708</td>\n",
       "      <td>2.0</td>\n",
       "      <td>0.000000</td>\n",
       "      <td>0.0</td>\n",
       "      <td>0.000000</td>\n",
       "      <td>0.0</td>\n",
       "      <td>0.000000</td>\n",
       "      <td>0.0</td>\n",
       "    </tr>\n",
       "    <tr>\n",
       "      <th>10</th>\n",
       "      <td>I21390</td>\n",
       "      <td>I30300</td>\n",
       "      <td>14.905101</td>\n",
       "      <td>14.905101</td>\n",
       "      <td>1.0</td>\n",
       "      <td>14.905101</td>\n",
       "      <td>1.0</td>\n",
       "      <td>0.000000</td>\n",
       "      <td>0.0</td>\n",
       "      <td>0.000000</td>\n",
       "      <td>0.0</td>\n",
       "    </tr>\n",
       "    <tr>\n",
       "      <th>11</th>\n",
       "      <td>I12439</td>\n",
       "      <td>I21390</td>\n",
       "      <td>11.116302</td>\n",
       "      <td>11.116302</td>\n",
       "      <td>1.0</td>\n",
       "      <td>0.000000</td>\n",
       "      <td>0.0</td>\n",
       "      <td>0.000000</td>\n",
       "      <td>0.0</td>\n",
       "      <td>0.000000</td>\n",
       "      <td>0.0</td>\n",
       "    </tr>\n",
       "    <tr>\n",
       "      <th>12</th>\n",
       "      <td>I12440</td>\n",
       "      <td>I12896</td>\n",
       "      <td>10.285699</td>\n",
       "      <td>10.285699</td>\n",
       "      <td>1.0</td>\n",
       "      <td>0.000000</td>\n",
       "      <td>0.0</td>\n",
       "      <td>0.000000</td>\n",
       "      <td>0.0</td>\n",
       "      <td>0.000000</td>\n",
       "      <td>0.0</td>\n",
       "    </tr>\n",
       "    <tr>\n",
       "      <th>13</th>\n",
       "      <td>I12438</td>\n",
       "      <td>I21390</td>\n",
       "      <td>0.000000</td>\n",
       "      <td>0.000000</td>\n",
       "      <td>0.0</td>\n",
       "      <td>0.000000</td>\n",
       "      <td>0.0</td>\n",
       "      <td>0.000000</td>\n",
       "      <td>0.0</td>\n",
       "      <td>0.000000</td>\n",
       "      <td>0.0</td>\n",
       "    </tr>\n",
       "    <tr>\n",
       "      <th>14</th>\n",
       "      <td>I12440</td>\n",
       "      <td>I21390</td>\n",
       "      <td>0.000000</td>\n",
       "      <td>0.000000</td>\n",
       "      <td>0.0</td>\n",
       "      <td>0.000000</td>\n",
       "      <td>0.0</td>\n",
       "      <td>0.000000</td>\n",
       "      <td>0.0</td>\n",
       "      <td>0.000000</td>\n",
       "      <td>0.0</td>\n",
       "    </tr>\n",
       "  </tbody>\n",
       "</table>\n",
       "</div>"
      ],
      "text/plain": [
       "      iid1    iid2     max_IBD    sum_IBD>8  n_IBD>8   sum_IBD>12  n_IBD>12  \\\n",
       "0   I12438  I30300  283.700303  3336.351792     21.0  3336.351792      21.0   \n",
       "1   I12440  I30300  268.787893  3318.813892     21.0  3318.813892      21.0   \n",
       "2   I12440  I12438  176.751903  1660.115506     21.0  1650.284006      20.0   \n",
       "3   I12439  I12440  153.428499  1628.101396     21.0  1605.868303      19.0   \n",
       "4   I12439  I30300   98.273498   920.435097     13.0   920.435097      13.0   \n",
       "5   I12439  I12438   93.381101   476.404998     10.0   460.227589       8.0   \n",
       "6   I12896  I30300   12.916911    41.172510      4.0    12.916911       1.0   \n",
       "7   I12896  I21390   11.861992    40.497494      4.0     0.000000       0.0   \n",
       "8   I12438  I12896   13.538799    22.422002      2.0    13.538799       1.0   \n",
       "9   I12439  I12896   10.088903    18.503708      2.0     0.000000       0.0   \n",
       "10  I21390  I30300   14.905101    14.905101      1.0    14.905101       1.0   \n",
       "11  I12439  I21390   11.116302    11.116302      1.0     0.000000       0.0   \n",
       "12  I12440  I12896   10.285699    10.285699      1.0     0.000000       0.0   \n",
       "13  I12438  I21390    0.000000     0.000000      0.0     0.000000       0.0   \n",
       "14  I12440  I21390    0.000000     0.000000      0.0     0.000000       0.0   \n",
       "\n",
       "     sum_IBD>16  n_IBD>16   sum_IBD>20  n_IBD>20  \n",
       "0   3336.351792      21.0  3336.351792      21.0  \n",
       "1   3318.813892      21.0  3318.813892      21.0  \n",
       "2   1650.284006      20.0  1650.284006      20.0  \n",
       "3   1605.868303      19.0  1605.868303      19.0  \n",
       "4    920.435097      13.0   920.435097      13.0  \n",
       "5    460.227589       8.0   460.227589       8.0  \n",
       "6      0.000000       0.0     0.000000       0.0  \n",
       "7      0.000000       0.0     0.000000       0.0  \n",
       "8      0.000000       0.0     0.000000       0.0  \n",
       "9      0.000000       0.0     0.000000       0.0  \n",
       "10     0.000000       0.0     0.000000       0.0  \n",
       "11     0.000000       0.0     0.000000       0.0  \n",
       "12     0.000000       0.0     0.000000       0.0  \n",
       "13     0.000000       0.0     0.000000       0.0  \n",
       "14     0.000000       0.0     0.000000       0.0  "
      ]
     },
     "execution_count": 18,
     "metadata": {},
     "output_type": "execute_result"
    }
   ],
   "source": [
    "df_ibd = pd.read_csv('./output/ibd_hazelton/ibd_ind.d220.tsv', sep=\"\\t\")\n",
    "df_ibd"
   ]
  },
  {
   "cell_type": "markdown",
   "metadata": {},
   "source": [
    "Oh, there are a couple of individual pairs with ample IBD. Some of them in all chromosomes!"
   ]
  },
  {
   "cell_type": "markdown",
   "metadata": {},
   "source": [
    "Congrats - you have now learned how to call IBD segments and to post-process the output. \n",
    "\n",
    "The next step is visualizing the output. The vignette notebook `./plot_IBD.ipynb` will walk you through that step."
   ]
  }
 ],
 "metadata": {
  "kernelspec": {
   "display_name": "Python 3",
   "language": "python",
   "name": "python3"
  },
  "language_info": {
   "codemirror_mode": {
    "name": "ipython",
    "version": 3
   },
   "file_extension": ".py",
   "mimetype": "text/x-python",
   "name": "python",
   "nbconvert_exporter": "python",
   "pygments_lexer": "ipython3",
   "version": "3.8.10"
  },
  "vscode": {
   "interpreter": {
    "hash": "916dbcbb3f70747c44a77c7bcd40155683ae19c65e1c03b4aa3499c5328201f1"
   }
  }
 },
 "nbformat": 4,
 "nbformat_minor": 4
}
