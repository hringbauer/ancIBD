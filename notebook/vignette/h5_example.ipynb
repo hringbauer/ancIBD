{
 "cells": [
  {
   "cell_type": "markdown",
   "metadata": {},
   "source": [
    "# Vignette Notebook walking through how to load and use a 1240K .hdf5 File\n",
    "`ancIBD` does this automatically, but this notebook is meant as a quick intro into .hdf5 files and how to make use of their potential. Within `ancIBD`, they are used to store and load genotype and genotype probability data, as well as meta-information on variants (such as genetic map position, allele frequencies)"
   ]
  },
  {
   "cell_type": "code",
   "execution_count": 1,
   "metadata": {},
   "outputs": [
    {
     "name": "stdout",
     "output_type": "stream",
     "text": [
      "/n/groups/reich/hringbauer/git/hapBLOCK/notebook/vignette\n",
      "CPU Count: 28\n"
     ]
    }
   ],
   "source": [
    "### Do some standard imports (Welcome to the Python world...)\n",
    "import numpy as np    # Great libary to do array calculations in C speed\n",
    "import pandas as pd   # Great database library, very R like\n",
    "import matplotlib.pyplot as plt # Powerful plotting library there is\n",
    "import os as os\n",
    "import multiprocessing as mp\n",
    "import h5py    # The hdf5 Libarary\n",
    "import allel\n",
    "\n",
    "### Set working directory to your vignette folder\n",
    "###\n",
    "# Edit the  following path for your folder\n",
    "path = \"/n/groups/reich/hringbauer/git/hapBLOCK/notebook/vignette/\"\n",
    "os.chdir(path)  # Set the right Path (in line with Atom default)\n",
    "print(os.getcwd())\n",
    "###\n",
    "\n",
    "print(f\"CPU Count: {mp.cpu_count()}\")"
   ]
  },
  {
   "cell_type": "markdown",
   "metadata": {},
   "source": [
    "# Step 1: Load h5 into Memory\n",
    "The hdf5 here is based on Ali's imputed Genotype data and supplied with some extra data (recombination map).  \n",
    "It contains meta information for every 1240K SNPs (e.g. ref, alt allele, position, map position) as well as genotype information unimputed (e.g. read counts) as well as imputed (e.g. diploid genotype calls, genotype likelihoods)"
   ]
  },
  {
   "cell_type": "code",
   "execution_count": 2,
   "metadata": {},
   "outputs": [
    {
     "name": "stdout",
     "output_type": "stream",
     "text": [
      "CPU times: user 1.15 ms, sys: 1.74 ms, total: 2.89 ms\n",
      "Wall time: 5.07 ms\n"
     ]
    }
   ],
   "source": [
    "%%time\n",
    "path_h5=\"./data/hdf5/example_hazelton_chr1.h5\"\n",
    "f = h5py.File(path_h5, \"r\")"
   ]
  },
  {
   "cell_type": "markdown",
   "metadata": {},
   "source": [
    "### That's it! The object is linked now - it took ~1ms!\n",
    "Let's see what it can do! HDF5 is organized like a folder,  \n",
    "into which the data (linearized arrays of matrices, containing booleans, integers or strings) are packed."
   ]
  },
  {
   "cell_type": "code",
   "execution_count": 3,
   "metadata": {},
   "outputs": [
    {
     "data": {
      "text/plain": [
       "['calldata', 'samples', 'variants']"
      ]
     },
     "execution_count": 3,
     "metadata": {},
     "output_type": "execute_result"
    }
   ],
   "source": [
    "list(f)  # Gives all the top level directories"
   ]
  },
  {
   "cell_type": "markdown",
   "metadata": {},
   "source": [
    "### Let's see what's in these directories!\n",
    "- sample is already data\n",
    "- callddata and variants are directories"
   ]
  },
  {
   "cell_type": "code",
   "execution_count": 4,
   "metadata": {},
   "outputs": [
    {
     "data": {
      "text/plain": [
       "['AD', 'DS', 'GP', 'GT', 'HS', 'PL']"
      ]
     },
     "execution_count": 4,
     "metadata": {},
     "output_type": "execute_result"
    }
   ],
   "source": [
    "list(f[\"calldata\"])"
   ]
  },
  {
   "cell_type": "code",
   "execution_count": 5,
   "metadata": {},
   "outputs": [
    {
     "data": {
      "text/plain": [
       "['AC',\n",
       " 'AF',\n",
       " 'AF_ALL',\n",
       " 'ALT',\n",
       " 'AN',\n",
       " 'BUF',\n",
       " 'CHROM',\n",
       " 'FILTER_PASS',\n",
       " 'ID',\n",
       " 'INFO',\n",
       " 'MAP',\n",
       " 'POS',\n",
       " 'QUAL',\n",
       " 'RAF',\n",
       " 'REF',\n",
       " 'altlen',\n",
       " 'is_snp',\n",
       " 'numalt']"
      ]
     },
     "execution_count": 5,
     "metadata": {},
     "output_type": "execute_result"
    }
   ],
   "source": [
    "list(f[\"variants\"])"
   ]
  },
  {
   "cell_type": "markdown",
   "metadata": {},
   "source": [
    "### Well that's like VCF. Surprise surprise, because this hdf5 is created from a vcf!\n",
    "Key fields of calldata: \n",
    "- AD, allele depth\n",
    "- PL, genotype probabilities in phred scale (before imputation)\n",
    "- GT diploid genotypes (imputed)\n",
    "- GP genotype probabilities imputed (normal scale)"
   ]
  },
  {
   "cell_type": "markdown",
   "metadata": {},
   "source": [
    "### Let's check out some of these fields"
   ]
  },
  {
   "cell_type": "code",
   "execution_count": 6,
   "metadata": {},
   "outputs": [
    {
     "name": "stdout",
     "output_type": "stream",
     "text": [
      "CPU times: user 1.04 ms, sys: 845 µs, total: 1.89 ms\n",
      "Wall time: 1.69 ms\n"
     ]
    },
    {
     "data": {
      "text/plain": [
       "(88408, 6, 4)"
      ]
     },
     "execution_count": 6,
     "metadata": {},
     "output_type": "execute_result"
    }
   ],
   "source": [
    "%%time\n",
    "np.shape(f[\"calldata/AD\"])"
   ]
  },
  {
   "cell_type": "markdown",
   "metadata": {},
   "source": [
    "### Wow 88408 variants, and 6 Individuals! Let's load some data.\n",
    "The variants are the ones that match 1240k SNPs, the rest has been filtered."
   ]
  },
  {
   "cell_type": "code",
   "execution_count": 8,
   "metadata": {},
   "outputs": [
    {
     "data": {
      "text/plain": [
       "array([[ 0,  2],\n",
       "       [ 5,  0],\n",
       "       [-1, -1],\n",
       "       [ 3,  0],\n",
       "       [ 5,  0]], dtype=int16)"
      ]
     },
     "execution_count": 8,
     "metadata": {},
     "output_type": "execute_result"
    }
   ],
   "source": [
    "f[\"calldata/AD\"][:5,4,:2] # The two is there because it's only biallic SNPs"
   ]
  },
  {
   "cell_type": "code",
   "execution_count": 9,
   "metadata": {},
   "outputs": [
    {
     "name": "stdout",
     "output_type": "stream",
     "text": [
      "CPU times: user 0 ns, sys: 356 µs, total: 356 µs\n",
      "Wall time: 351 µs\n"
     ]
    }
   ],
   "source": [
    "%%time\n",
    "ad = f[\"calldata/AD\"]"
   ]
  },
  {
   "cell_type": "markdown",
   "metadata": {},
   "source": [
    "Wait, that was suspiciously quick? What's up?"
   ]
  },
  {
   "cell_type": "code",
   "execution_count": 10,
   "metadata": {},
   "outputs": [
    {
     "data": {
      "text/plain": [
       "<HDF5 dataset \"AD\": shape (88408, 6, 4), type \"<i2\">"
      ]
     },
     "execution_count": 10,
     "metadata": {},
     "output_type": "execute_result"
    }
   ],
   "source": [
    "ad"
   ]
  },
  {
   "cell_type": "markdown",
   "metadata": {},
   "source": [
    "### Oh it's only the object, not what's in there\n",
    "let's load individuals i=4."
   ]
  },
  {
   "cell_type": "code",
   "execution_count": 11,
   "metadata": {},
   "outputs": [
    {
     "name": "stdout",
     "output_type": "stream",
     "text": [
      "CPU times: user 22.2 ms, sys: 1.42 ms, total: 23.6 ms\n",
      "Wall time: 25.5 ms\n"
     ]
    }
   ],
   "source": [
    "%%time\n",
    "x = ad[:,4,:2]"
   ]
  },
  {
   "cell_type": "markdown",
   "metadata": {},
   "source": [
    "# Further examples: Genotype probabilities before Imputation [in Phred Scale]"
   ]
  },
  {
   "cell_type": "code",
   "execution_count": 12,
   "metadata": {},
   "outputs": [
    {
     "data": {
      "text/plain": [
       "array([[ 74.,   6.,   0.],\n",
       "       [  0.,  15., 161.],\n",
       "       [ nan,  nan,  nan],\n",
       "       [  0.,   9.,  92.],\n",
       "       [  0.,  15., 160.]], dtype=float32)"
      ]
     },
     "execution_count": 12,
     "metadata": {},
     "output_type": "execute_result"
    }
   ],
   "source": [
    "f[\"calldata/PL\"][:5, 4, :]"
   ]
  },
  {
   "cell_type": "markdown",
   "metadata": {},
   "source": [
    "### Genotype Probabilities after Imputation"
   ]
  },
  {
   "cell_type": "code",
   "execution_count": 13,
   "metadata": {},
   "outputs": [
    {
     "data": {
      "text/plain": [
       "array([[0.002, 0.084, 0.914],\n",
       "       [0.913, 0.085, 0.002],\n",
       "       [0.858, 0.141, 0.001],\n",
       "       [0.997, 0.003, 0.   ],\n",
       "       [0.999, 0.001, 0.   ]], dtype=float32)"
      ]
     },
     "execution_count": 13,
     "metadata": {},
     "output_type": "execute_result"
    }
   ],
   "source": [
    "f[\"calldata/GP\"][:5, 4, :]"
   ]
  },
  {
   "cell_type": "markdown",
   "metadata": {},
   "source": [
    "You can see that the one missing locus was imputed (with not super high genotype probability, 0.858)"
   ]
  },
  {
   "cell_type": "code",
   "execution_count": 14,
   "metadata": {},
   "outputs": [
    {
     "data": {
      "text/plain": [
       "array([[1, 1],\n",
       "       [0, 0],\n",
       "       [0, 0],\n",
       "       [0, 0],\n",
       "       [0, 0]], dtype=int8)"
      ]
     },
     "execution_count": 14,
     "metadata": {},
     "output_type": "execute_result"
    }
   ],
   "source": [
    "f[\"calldata/GT\"][:5, 4, :]"
   ]
  },
  {
   "cell_type": "markdown",
   "metadata": {},
   "source": [
    "### Samples\n",
    "Let's get the sample names!"
   ]
  },
  {
   "cell_type": "code",
   "execution_count": 15,
   "metadata": {},
   "outputs": [],
   "source": [
    "samples = f[\"samples\"][:]"
   ]
  },
  {
   "cell_type": "code",
   "execution_count": 20,
   "metadata": {},
   "outputs": [
    {
     "data": {
      "text/plain": [
       "array([b'I12439', b'I12440', b'I12438', b'I12896', b'I21390', b'I30300'],\n",
       "      dtype='|S60')"
      ]
     },
     "execution_count": 20,
     "metadata": {},
     "output_type": "execute_result"
    }
   ],
   "source": [
    "samples[:]"
   ]
  },
  {
   "cell_type": "code",
   "execution_count": 21,
   "metadata": {},
   "outputs": [
    {
     "data": {
      "text/plain": [
       "(array([], dtype=int64),)"
      ]
     },
     "execution_count": 21,
     "metadata": {},
     "output_type": "execute_result"
    }
   ],
   "source": [
    "np.where(samples == \"I12440\")"
   ]
  },
  {
   "cell_type": "markdown",
   "metadata": {},
   "source": [
    "Ah yes, a common pitfall - the samples array is byte strings so it does not match the string. Let's do something about that"
   ]
  },
  {
   "cell_type": "code",
   "execution_count": 24,
   "metadata": {},
   "outputs": [
    {
     "data": {
      "text/plain": [
       "(array([1]),)"
      ]
     },
     "execution_count": 24,
     "metadata": {},
     "output_type": "execute_result"
    }
   ],
   "source": [
    "np.where(samples.astype(\"str\") == \"I12440\")"
   ]
  },
  {
   "cell_type": "markdown",
   "metadata": {},
   "source": [
    "There you go!"
   ]
  },
  {
   "cell_type": "markdown",
   "metadata": {},
   "source": [
    "### If wanted: Can merge samples with meta data"
   ]
  },
  {
   "cell_type": "markdown",
   "metadata": {},
   "source": [
    "# Example: Allele Counts\n",
    "A simple function that depicts allele counts per sample"
   ]
  },
  {
   "cell_type": "code",
   "execution_count": 29,
   "metadata": {},
   "outputs": [],
   "source": [
    "def plot_read_counts(sample=\"\",\n",
    "                     path_h5=\"\", \n",
    "                     figsize=(6,6), fs=14, xlim=[0,30], ylim=[0,30]):\n",
    "    \"\"\"Plot Read counts of sample in HDF5 f\"\"\"\n",
    "\n",
    "    \n",
    "    ### Get index of Sample\n",
    "    with h5py.File(path_h5, \"r\") as f:\n",
    "        idx = np.where(f[\"samples\"][:].astype(\"str\")==sample)[0]\n",
    "        assert(len(idx)==1)\n",
    "        idx = idx[0]\n",
    "        ads = f[\"calldata/AD\"][:,idx,:][:,:2]\n",
    "        ads[ads<0]=0\n",
    "    mean_cov = np.mean(ads)*2\n",
    "    \n",
    "    ### Create Jitter\n",
    "    noise1=0.8*np.random.random(len(ads))-0.4\n",
    "    noise2=0.8*np.random.random(len(ads))-0.4\n",
    "  \n",
    "    plt.figure(figsize=figsize)\n",
    "    ax = plt.gca()\n",
    "    ax.scatter(ads[:,0]+noise1, ads[:,1]+noise2, c=\"maroon\", alpha=0.002)\n",
    "    ax.set_xlim([0,15])\n",
    "    ax.set_ylim([0,15])\n",
    "    ax.set_xlabel(\"Counts Ancestral\", fontsize=fs)\n",
    "    ax.set_ylabel(\"Counts Derived\", fontsize=fs)\n",
    "    ax.set_title(f\"Allele Counts: {sample}, Coverage: {mean_cov:.4f}\")\n",
    "    plt.show()"
   ]
  },
  {
   "cell_type": "code",
   "execution_count": 30,
   "metadata": {},
   "outputs": [
    {
     "data": {
      "image/png": "[encoded data removed]",
      "text/plain": [
       "<Figure size 432x432 with 1 Axes>"
      ]
     },
     "metadata": {
      "needs_background": "light"
     },
     "output_type": "display_data"
    },
    {
     "name": "stdout",
     "output_type": "stream",
     "text": [
      "CPU times: user 875 ms, sys: 38.3 ms, total: 913 ms\n",
      "Wall time: 882 ms\n"
     ]
    }
   ],
   "source": [
    "%%time\n",
    "plot_read_counts(sample=\"I12440\", path_h5=\"./data/hdf5/example_hazelton_chr1.h5\")"
   ]
  },
  {
   "cell_type": "markdown",
   "metadata": {},
   "source": [
    "# Check allele frequency LCT"
   ]
  },
  {
   "cell_type": "code",
   "execution_count": 33,
   "metadata": {},
   "outputs": [],
   "source": [
    "ch = 2\n",
    "position = 136608646"
   ]
  },
  {
   "cell_type": "code",
   "execution_count": 34,
   "metadata": {},
   "outputs": [
    {
     "data": {
      "text/plain": [
       "1"
      ]
     },
     "execution_count": 34,
     "metadata": {},
     "output_type": "execute_result"
    }
   ],
   "source": [
    "path_h5= f\"./data/hdf5/example_hazelton_chr{ch}.h5\"\n",
    "f = h5py.File(path_h5, \"r\")\n",
    "\n",
    "idx = f[\"variants/POS\"][:]==position\n",
    "np.sum(idx) ### Print how many SNPs we found"
   ]
  },
  {
   "cell_type": "code",
   "execution_count": 37,
   "metadata": {},
   "outputs": [
    {
     "data": {
      "text/plain": [
       "53517"
      ]
     },
     "execution_count": 37,
     "metadata": {},
     "output_type": "execute_result"
    }
   ],
   "source": []
  },
  {
   "cell_type": "code",
   "execution_count": 39,
   "metadata": {},
   "outputs": [
    {
     "name": "stdout",
     "output_type": "stream",
     "text": [
      "Loaded Genotypes for MCM6 LCT variant for 6 Samples\n",
      "CPU times: user 2.14 ms, sys: 2.89 ms, total: 5.04 ms\n",
      "Wall time: 4.78 ms\n"
     ]
    }
   ],
   "source": [
    "%%time\n",
    "i = np.where(idx)[0][0]\n",
    "gt_lct = f[\"calldata/GT\"][i,:,:]\n",
    "gt2_lct = np.sum(gt_lct, axis=1)[0]\n",
    "iid_lct = np.where(gt2_lct>0)[0]\n",
    "print(f\"Loaded Genotypes for MCM6 LCT variant for {len(gt_lct)} Samples\")"
   ]
  },
  {
   "cell_type": "markdown",
   "metadata": {},
   "source": [
    "### 1 Second loading time. Not too bad!"
   ]
  },
  {
   "cell_type": "code",
   "execution_count": 40,
   "metadata": {},
   "outputs": [
    {
     "name": "stdout",
     "output_type": "stream",
     "text": [
      "Average Allele Frequency MCM6 in sample: 0.00000\n"
     ]
    }
   ],
   "source": [
    "print(f\"Average Allele Frequency MCM6 in sample: {np.mean(gt_lct):.5f}\")"
   ]
  },
  {
   "cell_type": "code",
   "execution_count": 41,
   "metadata": {},
   "outputs": [
    {
     "name": "stdout",
     "output_type": "stream",
     "text": [
      "Found n=0 Individuals with LCT allele\n"
     ]
    }
   ],
   "source": [
    "print(f\"Found n={len(iid_lct)} Individuals with LCT allele\")"
   ]
  }
 ],
 "metadata": {
  "kernelspec": {
   "display_name": "Python 3",
   "language": "python",
   "name": "python3"
  },
  "language_info": {
   "codemirror_mode": {
    "name": "ipython",
    "version": 3
   },
   "file_extension": ".py",
   "mimetype": "text/x-python",
   "name": "python",
   "nbconvert_exporter": "python",
   "pygments_lexer": "ipython3",
   "version": "3.7.4"
  }
 },
 "nbformat": 4,
 "nbformat_minor": 4
}
