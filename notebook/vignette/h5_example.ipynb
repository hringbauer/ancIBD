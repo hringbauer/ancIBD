{
 "cells": [
  {
   "cell_type": "markdown",
   "metadata": {},
   "source": [
    "# Vignette Notebook walking through how to load and use the full 1240K .hdf5 File"
   ]
  },
  {
   "cell_type": "code",
   "execution_count": 1,
   "metadata": {},
   "outputs": [
    {
     "name": "stdout",
     "output_type": "stream",
     "text": [
      "/n/groups/reich/hringbauer/git/hapBLOCK\n",
      "CPU Count: 32\n"
     ]
    }
   ],
   "source": [
    "### Do some standard imports (Welcome to the Python world...)\n",
    "import numpy as np    # Great libary to do array calculations in C speed\n",
    "import pandas as pd   # Great database library, very R like\n",
    "import matplotlib.pyplot as plt # Powerful plotting library there is\n",
    "import os as os\n",
    "import multiprocessing as mp\n",
    "import h5py    # The hdf5 Libarary\n",
    "import allel\n",
    "\n",
    "### Set working Folder correctly\n",
    "path = \"/n/groups/reich/hringbauer/git/hapBLOCK/\"  # The Path on Harvard Cluster\n",
    "os.chdir(path)  # Set the right Path (in line with Atom default)\n",
    "\n",
    "print(os.getcwd())\n",
    "print(f\"CPU Count: {mp.cpu_count()}\")"
   ]
  },
  {
   "cell_type": "markdown",
   "metadata": {},
   "source": [
    "# Step 1: Load h5 into Memory\n",
    "The hdf5 here is based on Ali's imputed Genotype data and supplied with some extra data (recombination map).  \n",
    "It contains meta information for every 1240K SNPs (e.g. ref, alt allele, position, map position) as well as genotype information unimputed (e.g. read counts) as well as imputed (e.g. diploid genotype calls, genotype likelihoods)"
   ]
  },
  {
   "cell_type": "code",
   "execution_count": 4,
   "metadata": {},
   "outputs": [
    {
     "name": "stdout",
     "output_type": "stream",
     "text": [
      "CPU times: user 467 µs, sys: 0 ns, total: 467 µs\n",
      "Wall time: 635 µs\n"
     ]
    }
   ],
   "source": [
    "%%time\n",
    "path_h5=\"./data/hdf5/1240k_v43/all_ch.h5\"\n",
    "f = h5py.File(path_h5, \"r\")"
   ]
  },
  {
   "cell_type": "markdown",
   "metadata": {},
   "source": [
    "### That's it! The object is linked now - it took ~1ms!\n",
    "Let's see what it can do! HDF5 is organized like a folder,  \n",
    "into which the data (linearized arrays of matrices, containing booleans, integers or strings) are packed."
   ]
  },
  {
   "cell_type": "code",
   "execution_count": 5,
   "metadata": {},
   "outputs": [
    {
     "data": {
      "text/plain": [
       "['calldata', 'samples', 'variants']"
      ]
     },
     "execution_count": 5,
     "metadata": {},
     "output_type": "execute_result"
    }
   ],
   "source": [
    "list(f)  # Gives all the top level directories"
   ]
  },
  {
   "cell_type": "markdown",
   "metadata": {},
   "source": [
    "### Let's see what's in these directories!\n",
    "- sample is already data\n",
    "- callddata and variants are directories"
   ]
  },
  {
   "cell_type": "code",
   "execution_count": 7,
   "metadata": {},
   "outputs": [
    {
     "data": {
      "text/plain": [
       "['AD', 'DS', 'GP', 'GT', 'HS', 'PL']"
      ]
     },
     "execution_count": 7,
     "metadata": {},
     "output_type": "execute_result"
    }
   ],
   "source": [
    "list(f[\"calldata\"])"
   ]
  },
  {
   "cell_type": "code",
   "execution_count": 8,
   "metadata": {},
   "outputs": [
    {
     "data": {
      "text/plain": [
       "['AF',\n",
       " 'ALT',\n",
       " 'BUF',\n",
       " 'CHROM',\n",
       " 'FILTER_PASS',\n",
       " 'ID',\n",
       " 'INFO',\n",
       " 'POS',\n",
       " 'QUAL',\n",
       " 'RAF',\n",
       " 'REF',\n",
       " 'altlen',\n",
       " 'is_snp',\n",
       " 'numalt']"
      ]
     },
     "execution_count": 8,
     "metadata": {},
     "output_type": "execute_result"
    }
   ],
   "source": [
    "list(f[\"variants\"])"
   ]
  },
  {
   "cell_type": "markdown",
   "metadata": {},
   "source": [
    "### Well that's like VCF. Surprise surprise, because this hdf5 is created from a vcf!\n",
    "Key fields of calldata: \n",
    "- AD, allele depth\n",
    "- PL, genotype probabilities in phred scale (before imputation)\n",
    "- GT diploid genotypes (imputed)\n",
    "- GP genotype probabilities imputed (normal scale)"
   ]
  },
  {
   "cell_type": "markdown",
   "metadata": {},
   "source": [
    "### Let's check out some of these fields"
   ]
  },
  {
   "cell_type": "code",
   "execution_count": 9,
   "metadata": {},
   "outputs": [
    {
     "name": "stdout",
     "output_type": "stream",
     "text": [
      "CPU times: user 822 µs, sys: 0 ns, total: 822 µs\n",
      "Wall time: 1.03 ms\n"
     ]
    },
    {
     "data": {
      "text/plain": [
       "(1100313, 14523, 4)"
      ]
     },
     "execution_count": 9,
     "metadata": {},
     "output_type": "execute_result"
    }
   ],
   "source": [
    "%%time\n",
    "np.shape(f[\"calldata/AD\"])"
   ]
  },
  {
   "cell_type": "markdown",
   "metadata": {},
   "source": [
    "### Wow 1100313 variants, and 14523 Individuals! Let's load some data.\n",
    "The variants are the ones that match 1000G ref and alt allle, the rest has been filtered."
   ]
  },
  {
   "cell_type": "code",
   "execution_count": 50,
   "metadata": {},
   "outputs": [
    {
     "data": {
      "text/plain": [
       "array([[ 0,  2],\n",
       "       [ 2,  0],\n",
       "       [-1, -1],\n",
       "       [ 0,  2],\n",
       "       [ 1,  1]], dtype=int16)"
      ]
     },
     "execution_count": 50,
     "metadata": {},
     "output_type": "execute_result"
    }
   ],
   "source": [
    "f[\"calldata/AD\"][:5,60,:2] # The two is there because it's only biallic SNPs"
   ]
  },
  {
   "cell_type": "code",
   "execution_count": 10,
   "metadata": {},
   "outputs": [
    {
     "name": "stdout",
     "output_type": "stream",
     "text": [
      "CPU times: user 272 µs, sys: 73 µs, total: 345 µs\n",
      "Wall time: 358 µs\n"
     ]
    }
   ],
   "source": [
    "%%time\n",
    "ad = f[\"calldata/AD\"]"
   ]
  },
  {
   "cell_type": "markdown",
   "metadata": {},
   "source": [
    "Wait, that was suspiciously quick? What's up?"
   ]
  },
  {
   "cell_type": "code",
   "execution_count": 13,
   "metadata": {},
   "outputs": [
    {
     "data": {
      "text/plain": [
       "<HDF5 dataset \"AD\": shape (1100313, 14523, 4), type \"<i2\">"
      ]
     },
     "execution_count": 13,
     "metadata": {},
     "output_type": "execute_result"
    }
   ],
   "source": [
    "ad"
   ]
  },
  {
   "cell_type": "markdown",
   "metadata": {},
   "source": [
    "### Oh it's only the object, not what's in there\n",
    "let's load individuals i=100."
   ]
  },
  {
   "cell_type": "code",
   "execution_count": 14,
   "metadata": {},
   "outputs": [
    {
     "name": "stdout",
     "output_type": "stream",
     "text": [
      "CPU times: user 978 ms, sys: 119 ms, total: 1.1 s\n",
      "Wall time: 11.8 s\n"
     ]
    }
   ],
   "source": [
    "%%time\n",
    "x = ad[:,100,:2]"
   ]
  },
  {
   "cell_type": "markdown",
   "metadata": {},
   "source": [
    "# Further examples: Genotype probabilities before Imputation [in Phred Scale]"
   ]
  },
  {
   "cell_type": "code",
   "execution_count": 51,
   "metadata": {},
   "outputs": [
    {
     "data": {
      "text/plain": [
       "array([[52,  6,  0],\n",
       "       [ 0,  6, 66],\n",
       "       [-1, -1, -1],\n",
       "       [47,  6,  0],\n",
       "       [30,  0, 30]], dtype=int32)"
      ]
     },
     "execution_count": 51,
     "metadata": {},
     "output_type": "execute_result"
    }
   ],
   "source": [
    "f[\"calldata/PL\"][:5, 60, :]"
   ]
  },
  {
   "cell_type": "markdown",
   "metadata": {},
   "source": [
    "### Genotype Probabilities after Imputation"
   ]
  },
  {
   "cell_type": "code",
   "execution_count": 52,
   "metadata": {},
   "outputs": [
    {
     "data": {
      "text/plain": [
       "array([[0.033, 0.317, 0.65 ],\n",
       "       [0.787, 0.2  , 0.013],\n",
       "       [0.618, 0.342, 0.04 ],\n",
       "       [0.661, 0.318, 0.022],\n",
       "       [0.595, 0.363, 0.042]], dtype=float32)"
      ]
     },
     "execution_count": 52,
     "metadata": {},
     "output_type": "execute_result"
    }
   ],
   "source": [
    "f[\"calldata/GP\"][:5, 0, :]"
   ]
  },
  {
   "cell_type": "code",
   "execution_count": 53,
   "metadata": {},
   "outputs": [
    {
     "data": {
      "text/plain": [
       "array([[1, 1],\n",
       "       [0, 0],\n",
       "       [0, 0],\n",
       "       [0, 0],\n",
       "       [0, 0]], dtype=int8)"
      ]
     },
     "execution_count": 53,
     "metadata": {},
     "output_type": "execute_result"
    }
   ],
   "source": [
    "f[\"calldata/GT\"][:5, 0, :]"
   ]
  },
  {
   "cell_type": "markdown",
   "metadata": {},
   "source": [
    "### Samples\n",
    "Let's get the sample names!"
   ]
  },
  {
   "cell_type": "code",
   "execution_count": 15,
   "metadata": {},
   "outputs": [],
   "source": [
    "samples = f[\"samples\"][:]"
   ]
  },
  {
   "cell_type": "code",
   "execution_count": 16,
   "metadata": {},
   "outputs": [
    {
     "data": {
      "text/plain": [
       "array(['I0626_all', 'I0627_all', 'I1137_all_published', 'I1859_all',\n",
       "       'I2497_all', 'I2731_all', 'I4451_all', 'I0060', 'I0626', 'I0627',\n",
       "       'I0944', 'I1135', 'I1137', 'I1416', 'I1781', 'I1782', 'I1787',\n",
       "       'I1788', 'I1789', 'I1790'], dtype=object)"
      ]
     },
     "execution_count": 16,
     "metadata": {},
     "output_type": "execute_result"
    }
   ],
   "source": [
    "samples[:20]"
   ]
  },
  {
   "cell_type": "code",
   "execution_count": 34,
   "metadata": {},
   "outputs": [
    {
     "data": {
      "text/plain": [
       "(array([12483]),)"
      ]
     },
     "execution_count": 34,
     "metadata": {},
     "output_type": "execute_result"
    }
   ],
   "source": [
    "np.where(samples == \"MA89\")"
   ]
  },
  {
   "cell_type": "markdown",
   "metadata": {},
   "source": [
    "### If wanted: Can merge samples with meta data"
   ]
  },
  {
   "cell_type": "markdown",
   "metadata": {},
   "source": [
    "# Example: Allele Counts\n",
    "A simple function that depicts allele counts per sample"
   ]
  },
  {
   "cell_type": "code",
   "execution_count": 18,
   "metadata": {},
   "outputs": [],
   "source": [
    "def plot_read_counts(sample=\"MA89\",\n",
    "                     path_h5=\"./data/hdf5/1240k_v43/all_ch.h5\", \n",
    "                     figsize=(6,6), fs=14, xlim=[0,30], ylim=[0,30]):\n",
    "    \"\"\"Plot Read counts of sample in HDF5 f\"\"\"\n",
    "\n",
    "    \n",
    "    ### Get index of Sample\n",
    "    with h5py.File(path_h5, \"r\") as f:\n",
    "        idx = np.where(f[\"samples\"][:]==sample)[0]\n",
    "        assert(len(idx)==1)\n",
    "        idx = idx[0]\n",
    "        ads = f[\"calldata/AD\"][:,idx,:][:,:2]\n",
    "        ads[ads<0]=0\n",
    "    mean_cov = np.mean(ads)*2\n",
    "    \n",
    "    ### Create Jitter\n",
    "    noise1=0.8*np.random.random(len(ads))-0.4\n",
    "    noise2=0.8*np.random.random(len(ads))-0.4\n",
    "  \n",
    "    plt.figure(figsize=figsize)\n",
    "    ax = plt.gca()\n",
    "    ax.scatter(ads[:,0]+noise1, ads[:,1]+noise2, c=\"maroon\", alpha=0.002)\n",
    "    ax.set_xlim([0,30])\n",
    "    ax.set_ylim([0,30])\n",
    "    ax.set_xlabel(\"Counts Ancestral\", fontsize=fs)\n",
    "    ax.set_ylabel(\"Counts Derived\", fontsize=fs)\n",
    "    ax.set_title(f\"Allele Counts: {sample}, Coverage: {mean_cov:.4f}\")\n",
    "    plt.show()"
   ]
  },
  {
   "cell_type": "code",
   "execution_count": 19,
   "metadata": {},
   "outputs": [
    {
     "data": {
      "image/png": "[encoded data removed]",
      "text/plain": [
       "<Figure size 432x432 with 1 Axes>"
      ]
     },
     "metadata": {
      "needs_background": "light"
     },
     "output_type": "display_data"
    },
    {
     "name": "stdout",
     "output_type": "stream",
     "text": [
      "CPU times: user 9.15 s, sys: 173 ms, total: 9.32 s\n",
      "Wall time: 15.8 s\n"
     ]
    }
   ],
   "source": [
    "%%time\n",
    "plot_read_counts(sample=\"I12844\")"
   ]
  },
  {
   "cell_type": "markdown",
   "metadata": {},
   "source": [
    "# Check allele frequency LCT"
   ]
  },
  {
   "cell_type": "code",
   "execution_count": 53,
   "metadata": {},
   "outputs": [],
   "source": [
    "ch = 2\n",
    "position = 136608646"
   ]
  },
  {
   "cell_type": "code",
   "execution_count": 57,
   "metadata": {},
   "outputs": [
    {
     "data": {
      "text/plain": [
       "1"
      ]
     },
     "execution_count": 57,
     "metadata": {},
     "output_type": "execute_result"
    }
   ],
   "source": [
    "idx = (f[\"variants/CHROM\"][:] == f\"{ch}\") & (f[\"variants/POS\"][:]==position)\n",
    "np.sum(idx) ### Print how many SNPs we found"
   ]
  },
  {
   "cell_type": "code",
   "execution_count": 91,
   "metadata": {},
   "outputs": [
    {
     "name": "stdout",
     "output_type": "stream",
     "text": [
      "Loaded Genotypes for MCM6 LCT variant for 1 Samples\n",
      "CPU times: user 1.19 s, sys: 21.5 ms, total: 1.21 s\n",
      "Wall time: 1.2 s\n"
     ]
    }
   ],
   "source": [
    "%%time\n",
    "gt_lct = f[\"calldata/GT\"][idx,:,:]\n",
    "gt2_lct = np.sum(gt_lct, axis=2)[0]\n",
    "iid_lct = np.where(gt2_lct>0)[0]\n",
    "print(f\"Loaded Genotypes for MCM6 LCT variant for {len(gt_lct)} Samples\")"
   ]
  },
  {
   "cell_type": "markdown",
   "metadata": {},
   "source": [
    "### 1 Second loading time. Not too bad!"
   ]
  },
  {
   "cell_type": "code",
   "execution_count": 82,
   "metadata": {},
   "outputs": [
    {
     "name": "stdout",
     "output_type": "stream",
     "text": [
      "Average Allele Frequency MCM6 in sample: 0.10380\n"
     ]
    }
   ],
   "source": [
    "print(f\"Average Allele Frequency MCM6 in sample: {np.mean(gt_lct):.5f}\")"
   ]
  },
  {
   "cell_type": "code",
   "execution_count": 95,
   "metadata": {},
   "outputs": [
    {
     "name": "stdout",
     "output_type": "stream",
     "text": [
      "Found n=2498 Individuals with LCT allele\n"
     ]
    }
   ],
   "source": [
    "print(f\"Found n={len(iid_lct)} Individuals with LCT allele\")"
   ]
  },
  {
   "cell_type": "code",
   "execution_count": 97,
   "metadata": {},
   "outputs": [],
   "source": [
    "samples_lct = f[\"samples\"][iid_lct]"
   ]
  },
  {
   "cell_type": "code",
   "execution_count": 98,
   "metadata": {},
   "outputs": [
    {
     "data": {
      "text/plain": [
       "array(['I1135', 'I1416', 'I2838', ..., 'LAV011', 'I14740.SG', 'I16232.SG'],\n",
       "      dtype=object)"
      ]
     },
     "execution_count": 98,
     "metadata": {},
     "output_type": "execute_result"
    }
   ],
   "source": [
    "samples_lct"
   ]
  },
  {
   "cell_type": "code",
   "execution_count": null,
   "metadata": {},
   "outputs": [],
   "source": []
  }
 ],
 "metadata": {
  "kernelspec": {
   "display_name": "Python 3",
   "language": "python",
   "name": "python3"
  },
  "language_info": {
   "codemirror_mode": {
    "name": "ipython",
    "version": 3
   },
   "file_extension": ".py",
   "mimetype": "text/x-python",
   "name": "python",
   "nbconvert_exporter": "python",
   "pygments_lexer": "ipython3",
   "version": "3.8.10"
  }
 },
 "nbformat": 4,
 "nbformat_minor": 4
}
