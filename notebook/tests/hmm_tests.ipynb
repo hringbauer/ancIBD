{
 "cells": [
  {
   "cell_type": "markdown",
   "metadata": {},
   "source": [
    "# Some Unit tests for the HMM"
   ]
  },
  {
   "cell_type": "code",
   "execution_count": 1,
   "metadata": {},
   "outputs": [
    {
     "name": "stdout",
     "output_type": "stream",
     "text": [
      "compute-a-16-151.o2.rc.hms.harvard.edu\n",
      "HSM O2 Computational partition detected.\n",
      "/n/groups/reich/hringbauer/git/hapBLOCK\n"
     ]
    }
   ],
   "source": [
    "import socket as socket\n",
    "import os as os\n",
    "import sys as sys\n",
    "import numpy as np\n",
    "import pandas as pd\n",
    "import matplotlib.pyplot as plt\n",
    "socket_name = socket.gethostname()\n",
    "print(socket_name)\n",
    "\n",
    "if socket_name.startswith(\"compute-\"):\n",
    "    print(\"HSM O2 Computational partition detected.\")\n",
    "    path = \"/n/groups/reich/hringbauer/git/hapBLOCK/\"  # The Path on Harvard Cluster\n",
    "else: \n",
    "    raise RuntimeWarning(\"Not compatible machine. Check!!\")\n",
    "\n",
    "os.chdir(path)  # Set the right Path (in line with Atom default)\n",
    "\n",
    "print(os.getcwd())\n",
    "\n",
    "sys.path.append(\"./python3/\") \n",
    "from main import HMM_Full\n",
    "from plot.plot_posterior import plot_posterior, plot_posterior_panel"
   ]
  },
  {
   "cell_type": "markdown",
   "metadata": {},
   "source": [
    "# Test 1: HMM Likelihood on classic simulated example"
   ]
  },
  {
   "cell_type": "code",
   "execution_count": 8,
   "metadata": {},
   "outputs": [],
   "source": [
    "def run_simulated_example():\n",
    "    \"\"\"The classic example\"\"\"\n",
    "    h = HMM_Full(folder_in=\"./output/simulated/undermodel/sim2a/\", l_model=\"simulated\", t_model=\"standard\", \n",
    "                     e_model=\"haploid_gl\", h_model = \"FiveStateFast\", p_model=\"None\",\n",
    "                     output=True, load=True)\n",
    "    h.t_obj.set_params(ibd_in = 0.0005, ibd_out = 0.001, ibd_jump = 0.05, max_gap=1.0)\n",
    "    _, _, _, _, tot_ll = h.run_fwd_bwd()\n",
    "    p=np.isclose(tot_ll, -26156.062, rtol=0, atol=0.01)\n",
    "    return p"
   ]
  },
  {
   "cell_type": "code",
   "execution_count": 9,
   "metadata": {},
   "outputs": [
    {
     "name": "stdout",
     "output_type": "stream",
     "text": [
      "Minimum Genetic Map: 0.0000 Morgan\n",
      "Maximum Genetic Map: 9999.0000 Morgan\n",
      "Gaps bigger than 0.1 cM: 9999\n",
      "Maximum Gap: 100.0000 cM\n",
      "Upper Gap Cutoff: 100.0000 cM\n",
      "HMM State Number: 4\n",
      "Memory Usage Full:\n",
      "Memory Usage: 150.458368 mB\n",
      "Total Log likelihood: -26156.062\n"
     ]
    }
   ],
   "source": [
    "p = run_simulated_example()\n",
    "assert(p)"
   ]
  },
  {
   "cell_type": "code",
   "execution_count": null,
   "metadata": {},
   "outputs": [],
   "source": []
  }
 ],
 "metadata": {
  "kernelspec": {
   "display_name": "Python 3",
   "language": "python",
   "name": "python3"
  },
  "language_info": {
   "codemirror_mode": {
    "name": "ipython",
    "version": 3
   },
   "file_extension": ".py",
   "mimetype": "text/x-python",
   "name": "python",
   "nbconvert_exporter": "python",
   "pygments_lexer": "ipython3",
   "version": "3.7.4"
  }
 },
 "nbformat": 4,
 "nbformat_minor": 4
}
