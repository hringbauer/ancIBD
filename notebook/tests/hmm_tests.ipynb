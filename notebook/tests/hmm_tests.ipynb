{
 "cells": [
  {
   "cell_type": "markdown",
   "metadata": {},
   "source": [
    "# Some Unit tests for the HMM"
   ]
  },
  {
   "cell_type": "code",
   "execution_count": 1,
   "metadata": {},
   "outputs": [
    {
     "name": "stdout",
     "output_type": "stream",
     "text": [
      "compute-e-16-235.o2.rc.hms.harvard.edu\n",
      "HSM O2 Computational partition detected.\n",
      "/n/groups/reich/hringbauer/git/hapBLOCK\n"
     ]
    }
   ],
   "source": [
    "import socket as socket\n",
    "import os as os\n",
    "import sys as sys\n",
    "import numpy as np\n",
    "import pandas as pd\n",
    "import matplotlib.pyplot as plt\n",
    "socket_name = socket.gethostname()\n",
    "print(socket_name)\n",
    "\n",
    "if socket_name.startswith(\"compute-\"):\n",
    "    print(\"HSM O2 Computational partition detected.\")\n",
    "    path = \"/n/groups/reich/hringbauer/git/hapBLOCK/\"  # The Path on Harvard Cluster\n",
    "else: \n",
    "    raise RuntimeWarning(\"Not compatible machine. Check!!\")\n",
    "\n",
    "os.chdir(path)  # Set the right Path (in line with Atom default)\n",
    "\n",
    "print(os.getcwd())\n",
    "\n",
    "sys.path.append(\"./python3/\") \n",
    "from main import HMM_Full\n",
    "from plot.plot_posterior import plot_posterior, plot_posterior_panel"
   ]
  },
  {
   "cell_type": "markdown",
   "metadata": {},
   "source": [
    "# Test 1: HMM Likelihood on classic simulated example"
   ]
  },
  {
   "cell_type": "code",
   "execution_count": 2,
   "metadata": {},
   "outputs": [],
   "source": [
    "def run_simulated_example():\n",
    "    \"\"\"The classic example\"\"\"\n",
    "    h = HMM_Full(folder_in=\"./output/simulated/undermodel/sim2a/\", l_model=\"simulated\", t_model=\"standard\", \n",
    "                     e_model=\"haploid_gl\", h_model = \"FiveStateFast\", p_model=\"None\",\n",
    "                     output=True, load=True)\n",
    "    h.t_obj.set_params(ibd_in = 0.0005, ibd_out = 0.001, ibd_jump = 0.05, max_gap=1.0)\n",
    "    _, _, _, _, tot_ll = h.run_fwd_bwd()\n",
    "    p=np.isclose(tot_ll, -26156.062, rtol=0, atol=0.01)\n",
    "    return p"
   ]
  },
  {
   "cell_type": "markdown",
   "metadata": {},
   "source": [
    "## The original run [for museum reasons]"
   ]
  },
  {
   "cell_type": "code",
   "execution_count": 3,
   "metadata": {},
   "outputs": [
    {
     "name": "stdout",
     "output_type": "stream",
     "text": [
      "Minimum Genetic Map: 0.0000 Morgan\n",
      "Maximum Genetic Map: 9999.0000 Morgan\n",
      "Gaps bigger than 0.1 cM: 9999\n",
      "Maximum Gap: 100.0000 cM\n",
      "Upper Gap Cutoff: 100.0000 cM\n",
      "HMM State Number: 4\n",
      "Memory Usage Full:\n",
      "Memory Usage: 110.112768 mB\n",
      "Total Log likelihood: -26156.062\n"
     ]
    }
   ],
   "source": [
    "p = run_simulated_example()\n",
    "assert(p)"
   ]
  },
  {
   "cell_type": "markdown",
   "metadata": {},
   "source": [
    "## The run to play around with"
   ]
  },
  {
   "cell_type": "code",
   "execution_count": 7,
   "metadata": {},
   "outputs": [],
   "source": [
    "def run_simulated_example_fast():\n",
    "    \"\"\"The classic example\"\"\"\n",
    "    h = HMM_Full(folder_in=\"./output/simulated/undermodel/sim2a/\", l_model=\"simulated\", t_model=\"standard\", \n",
    "                     e_model=\"haploid_gl\", h_model = \"FiveStateFast\", p_model=\"None\",\n",
    "                     output=True, load=True)\n",
    "    h.t_obj.set_params(ibd_in = 0.0005, ibd_out = 0.001, ibd_jump = 0.05, max_gap=1.0)\n",
    "    post, r_vec = h.run_fwd_bwd(full=False)\n",
    "    #p=np.isclose(tot_ll, -26156.062, rtol=0, atol=0.01)\n",
    "    return post, r_vec"
   ]
  },
  {
   "cell_type": "code",
   "execution_count": 10,
   "metadata": {},
   "outputs": [
    {
     "name": "stdout",
     "output_type": "stream",
     "text": [
      "Minimum Genetic Map: 0.0000 Morgan\n",
      "Maximum Genetic Map: 9999.0000 Morgan\n",
      "Gaps bigger than 0.1 cM: 9999\n",
      "Maximum Gap: 100.0000 cM\n",
      "Upper Gap Cutoff: 100.0000 cM\n",
      "HMM State Number: 4\n",
      "Runtime Preprocessing: 0.15225648880004883 s\n",
      "Memory Usage Full:\n",
      "Memory Usage: 112.529408 mB\n",
      "Total Log likelihood: -26156.062\n",
      "Runtime HMM calc.: 0.02088308334350586 s\n",
      "Runtime Postprocessing: 2.384185791015625e-06 s\n"
     ]
    }
   ],
   "source": [
    "post, r_vec = run_simulated_example_fast()"
   ]
  },
  {
   "cell_type": "code",
   "execution_count": 14,
   "metadata": {},
   "outputs": [],
   "source": [
    "def run_simulated_example_scaled():\n",
    "    \"\"\"The classic example\"\"\"\n",
    "    h = HMM_Full(folder_in=\"./output/simulated/undermodel/sim2a/\", l_model=\"simulated\", t_model=\"standard\", \n",
    "                     e_model=\"haploid_gl\", h_model = \"FiveStateScaled\", p_model=\"None\",\n",
    "                     output=True, load=True)\n",
    "    h.t_obj.set_params(ibd_in = 0.0005, ibd_out = 0.001, ibd_jump = 0.05, max_gap=1.0)\n",
    "    post, r_vec = h.run_fwd_bwd(full=False)\n",
    "    #p=np.isclose(tot_ll, -26156.062, rtol=0, atol=0.01)\n",
    "    return post, r_vec"
   ]
  },
  {
   "cell_type": "code",
   "execution_count": 15,
   "metadata": {},
   "outputs": [
    {
     "name": "stdout",
     "output_type": "stream",
     "text": [
      "Minimum Genetic Map: 0.0000 Morgan\n",
      "Maximum Genetic Map: 9999.0000 Morgan\n",
      "Gaps bigger than 0.1 cM: 9999\n",
      "Maximum Gap: 100.0000 cM\n",
      "Upper Gap Cutoff: 100.0000 cM\n",
      "HMM State Number: 4\n",
      "Runtime Preprocessing: 0.14574289321899414 s\n",
      "Memory Usage at end of HMM:\n",
      "Memory Usage: 112.746496 mB\n",
      "Runtime HMM calc.: 0.0029458999633789062 s\n",
      "Runtime Postprocessing: 2.1457672119140625e-06 s\n"
     ]
    }
   ],
   "source": [
    "post1, r_vec1 = run_simulated_example_scaled()"
   ]
  },
  {
   "cell_type": "code",
   "execution_count": 24,
   "metadata": {},
   "outputs": [
    {
     "data": {
      "text/plain": [
       "array([0.99318498, 0.99318498, 0.99318498, ..., 0.99318498, 0.99318498,\n",
       "       0.99318498])"
      ]
     },
     "execution_count": 24,
     "metadata": {},
     "output_type": "execute_result"
    }
   ],
   "source": [
    "np.sum(post1, axis=0)"
   ]
  },
  {
   "cell_type": "code",
   "execution_count": 23,
   "metadata": {},
   "outputs": [
    {
     "data": {
      "text/plain": [
       "array([1., 1., 1., ..., 1., 1., 1.])"
      ]
     },
     "execution_count": 23,
     "metadata": {},
     "output_type": "execute_result"
    }
   ],
   "source": [
    "np.sum(np.exp(post), axis=0)"
   ]
  },
  {
   "cell_type": "code",
   "execution_count": 22,
   "metadata": {},
   "outputs": [
    {
     "data": {
      "text/plain": [
       "(5, 10000)"
      ]
     },
     "execution_count": 22,
     "metadata": {},
     "output_type": "execute_result"
    }
   ],
   "source": [
    "np.shape(post)"
   ]
  },
  {
   "cell_type": "code",
   "execution_count": 25,
   "metadata": {},
   "outputs": [
    {
     "data": {
      "text/plain": [
       "array([[9.93181690e-01, 9.93178478e-01, 9.93176133e-01, ...,\n",
       "        9.93165831e-01, 9.93174068e-01, 9.93184333e-01],\n",
       "       [1.25353400e-06, 2.64659502e-06, 3.13444665e-06, ...,\n",
       "        3.29117984e-06, 9.23221775e-07, 4.04487686e-08],\n",
       "       [4.59488544e-07, 7.68547980e-07, 1.80752200e-06, ...,\n",
       "        1.20067393e-05, 7.90511609e-06, 2.76516965e-07],\n",
       "       [1.29583155e-06, 2.74663565e-06, 3.27657946e-06, ...,\n",
       "        1.56045664e-06, 1.36072400e-06, 2.01355536e-07],\n",
       "       [2.76337308e-07, 3.35365427e-07, 6.23996199e-07, ...,\n",
       "        2.28575740e-06, 7.18515730e-07, 1.23502109e-07]])"
      ]
     },
     "execution_count": 25,
     "metadata": {},
     "output_type": "execute_result"
    }
   ],
   "source": [
    "post1"
   ]
  },
  {
   "cell_type": "code",
   "execution_count": 27,
   "metadata": {},
   "outputs": [
    {
     "data": {
      "text/plain": [
       "array([[9.99996690e-01, 9.99993456e-01, 9.99991095e-01, ...,\n",
       "        9.99980724e-01, 9.99989018e-01, 9.99999354e-01],\n",
       "       [1.26213548e-06, 2.66475539e-06, 3.15595456e-06, ...,\n",
       "        3.31376322e-06, 9.29556727e-07, 4.07263195e-08],\n",
       "       [4.62641456e-07, 7.73821592e-07, 1.81992483e-06, ...,\n",
       "        1.20891270e-05, 7.95935932e-06, 2.78414366e-07],\n",
       "       [1.30472327e-06, 2.76548247e-06, 3.29906265e-06, ...,\n",
       "        1.57116416e-06, 1.37006100e-06, 2.02737195e-07],\n",
       "       [2.78233476e-07, 3.37666633e-07, 6.28277927e-07, ...,\n",
       "        2.30144178e-06, 7.23446033e-07, 1.24349554e-07]])"
      ]
     },
     "execution_count": 27,
     "metadata": {},
     "output_type": "execute_result"
    }
   ],
   "source": [
    "np.exp(post)"
   ]
  },
  {
   "cell_type": "code",
   "execution_count": null,
   "metadata": {},
   "outputs": [],
   "source": []
  }
 ],
 "metadata": {
  "kernelspec": {
   "display_name": "Python 3",
   "language": "python",
   "name": "python3"
  },
  "language_info": {
   "codemirror_mode": {
    "name": "ipython",
    "version": 3
   },
   "file_extension": ".py",
   "mimetype": "text/x-python",
   "name": "python",
   "nbconvert_exporter": "python",
   "pygments_lexer": "ipython3",
   "version": "3.7.4"
  }
 },
 "nbformat": 4,
 "nbformat_minor": 4
}
