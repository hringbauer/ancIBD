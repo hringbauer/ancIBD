{
 "cells": [
  {
   "cell_type": "markdown",
   "metadata": {},
   "source": [
    "# Some Unit tests for the HMM"
   ]
  },
  {
   "cell_type": "code",
   "execution_count": 1,
   "metadata": {},
   "outputs": [
    {
     "name": "stdout",
     "output_type": "stream",
     "text": [
      "compute-e-16-236.o2.rc.hms.harvard.edu\n",
      "HSM O2 Computational partition detected.\n",
      "/n/groups/reich/hringbauer/git/hapBLOCK\n"
     ]
    }
   ],
   "source": [
    "import socket as socket\n",
    "import os as os\n",
    "import sys as sys\n",
    "import numpy as np\n",
    "import pandas as pd\n",
    "import matplotlib.pyplot as plt\n",
    "socket_name = socket.gethostname()\n",
    "print(socket_name)\n",
    "\n",
    "if socket_name.startswith(\"compute-\"):\n",
    "    print(\"HSM O2 Computational partition detected.\")\n",
    "    path = \"/n/groups/reich/hringbauer/git/hapBLOCK/\"  # The Path on Harvard Cluster\n",
    "else: \n",
    "    raise RuntimeWarning(\"Not compatible machine. Check!!\")\n",
    "\n",
    "os.chdir(path)  # Set the right Path (in line with Atom default)\n",
    "\n",
    "print(os.getcwd())\n",
    "\n",
    "sys.path.append(\"./python3/\") \n",
    "from main import HMM_Full\n",
    "from plot.plot_posterior import plot_posterior, plot_posterior_panel"
   ]
  },
  {
   "cell_type": "markdown",
   "metadata": {},
   "source": [
    "# Test 1: HMM Likelihood on classic simulated example"
   ]
  },
  {
   "cell_type": "code",
   "execution_count": 2,
   "metadata": {},
   "outputs": [],
   "source": [
    "def run_simulated_example():\n",
    "    \"\"\"The classic example\"\"\"\n",
    "    h = HMM_Full(folder_in=\"./output/simulated/undermodel/sim2a/\", l_model=\"simulated\", t_model=\"standard\", \n",
    "                     e_model=\"haploid_gl\", h_model = \"FiveStateFast\", p_model=\"None\",\n",
    "                     output=True, load=True)\n",
    "    h.t_obj.set_params(ibd_in = 0.0005, ibd_out = 0.001, ibd_jump = 0.05, max_gap=1.0)\n",
    "    _, _, _, _, tot_ll = h.run_fwd_bwd()\n",
    "    p=np.isclose(tot_ll, -26156.062, rtol=0, atol=0.01)\n",
    "    return p"
   ]
  },
  {
   "cell_type": "markdown",
   "metadata": {},
   "source": [
    "## The original run, don't touch [for museum reasons]"
   ]
  },
  {
   "cell_type": "code",
   "execution_count": 3,
   "metadata": {},
   "outputs": [
    {
     "name": "stdout",
     "output_type": "stream",
     "text": [
      "Minimum Genetic Map: 0.0000 Morgan\n",
      "Maximum Genetic Map: 9999.0000 Morgan\n",
      "Gaps bigger than 0.1 cM: 9999\n",
      "Maximum Gap: 100.0000 cM\n",
      "Upper Gap Cutoff: 100.0000 cM\n",
      "HMM State Number: 4\n",
      "Memory Usage Full:\n",
      "Memory Usage: 110.112768 mB\n",
      "Total Log likelihood: -26156.062\n"
     ]
    }
   ],
   "source": [
    "p = run_simulated_example()\n",
    "assert(p)"
   ]
  },
  {
   "cell_type": "markdown",
   "metadata": {},
   "source": [
    "## The run to play around with"
   ]
  },
  {
   "cell_type": "code",
   "execution_count": 3,
   "metadata": {},
   "outputs": [],
   "source": [
    "def run_simulated_example_fast():\n",
    "    \"\"\"The classic example\"\"\"\n",
    "    h = HMM_Full(folder_in=\"./output/simulated/undermodel/sim2a/\", l_model=\"simulated\", t_model=\"standard\", \n",
    "                     e_model=\"haploid_gl\", h_model = \"FiveStateFast\", p_model=\"None\",\n",
    "                     output=True, load=True)\n",
    "    h.t_obj.set_params(ibd_in = 0.0005, ibd_out = 0.001, ibd_jump = 0.05, max_gap=1.0)\n",
    "    post, r_vec = h.run_fwd_bwd(full=False)\n",
    "    #p=np.isclose(tot_ll, -26156.062, rtol=0, atol=0.01)\n",
    "    return post, r_vec"
   ]
  },
  {
   "cell_type": "code",
   "execution_count": 4,
   "metadata": {},
   "outputs": [
    {
     "name": "stdout",
     "output_type": "stream",
     "text": [
      "Runtime Loading: 0.13510537147521973 s\n",
      "Runtime E Mat.: 0.0019023418426513672 s\n",
      "Minimum Genetic Map: 0.0000 Morgan\n",
      "Maximum Genetic Map: 9999.0000 Morgan\n",
      "Gaps bigger than 0.1 cM: 9999\n",
      "Maximum Gap: 100.0000 cM\n",
      "Upper Gap Cutoff: 100.0000 cM\n",
      "HMM State Number: 4\n",
      "Runtime T Mat.: 0.010665655136108398 s\n",
      "Memory Usage Full:\n",
      "Memory Usage: 110.829568 mB\n",
      "Total Log likelihood: -26156.062\n",
      "Runtime HMM calc.: 0.021946430206298828 s\n",
      "Runtime Postprocessing: 2.384185791015625e-06 s\n"
     ]
    }
   ],
   "source": [
    "post, r_vec = run_simulated_example_fast()"
   ]
  },
  {
   "cell_type": "code",
   "execution_count": 11,
   "metadata": {},
   "outputs": [],
   "source": [
    "def run_simulated_example_scaled():\n",
    "    \"\"\"The classic example\"\"\"\n",
    "    h = HMM_Full(folder_in=\"./output/simulated/undermodel/sim2a/\", l_model=\"simulated\", t_model=\"standard\", \n",
    "                     e_model=\"haploid_gl\", h_model = \"FiveStateScaled\", p_model=\"None\",\n",
    "                     output=True, load=True)\n",
    "    h.t_obj.set_params(ibd_in = 0.0005, ibd_out = 0.001, ibd_jump = 0.05, max_gap=1.0)\n",
    "    post, r_vec = h.run_fwd_bwd(full=True)\n",
    "    #p=np.isclose(tot_ll, -26156.062, rtol=0, atol=0.01)\n",
    "    return post, r_vec"
   ]
  },
  {
   "cell_type": "code",
   "execution_count": 12,
   "metadata": {},
   "outputs": [
    {
     "name": "stdout",
     "output_type": "stream",
     "text": [
      "Runtime Loading: 0.1321871280670166 s\n",
      "Runtime E Mat.: 0.0025429725646972656 s\n",
      "Minimum Genetic Map: 0.0000 Morgan\n",
      "Maximum Genetic Map: 9999.0000 Morgan\n",
      "Gaps bigger than 0.1 cM: 9999\n",
      "Maximum Gap: 100.0000 cM\n",
      "Upper Gap Cutoff: 100.0000 cM\n",
      "HMM State Number: 4\n",
      "Runtime T Mat.: 0.010152101516723633 s\n",
      "Memory Usage at end of HMM:\n",
      "Memory Usage: 114.23744 mB\n",
      "Total Log likelihood: -26156.056\n"
     ]
    },
    {
     "ename": "ValueError",
     "evalue": "too many values to unpack (expected 2)",
     "output_type": "error",
     "traceback": [
      "\u001b[0;31m---------------------------------------------------------------------------\u001b[0m",
      "\u001b[0;31mValueError\u001b[0m                                Traceback (most recent call last)",
      "\u001b[0;32m<ipython-input-12-5e00a4eaa971>\u001b[0m in \u001b[0;36m<module>\u001b[0;34m\u001b[0m\n\u001b[0;32m----> 1\u001b[0;31m \u001b[0mpost1\u001b[0m\u001b[0;34m,\u001b[0m \u001b[0mr_vec1\u001b[0m \u001b[0;34m=\u001b[0m \u001b[0mrun_simulated_example_scaled\u001b[0m\u001b[0;34m(\u001b[0m\u001b[0;34m)\u001b[0m\u001b[0;34m\u001b[0m\u001b[0;34m\u001b[0m\u001b[0m\n\u001b[0m",
      "\u001b[0;32m<ipython-input-11-2e6a5c393747>\u001b[0m in \u001b[0;36mrun_simulated_example_scaled\u001b[0;34m()\u001b[0m\n\u001b[1;32m      5\u001b[0m                      output=True, load=True)\n\u001b[1;32m      6\u001b[0m     \u001b[0mh\u001b[0m\u001b[0;34m.\u001b[0m\u001b[0mt_obj\u001b[0m\u001b[0;34m.\u001b[0m\u001b[0mset_params\u001b[0m\u001b[0;34m(\u001b[0m\u001b[0mibd_in\u001b[0m \u001b[0;34m=\u001b[0m \u001b[0;36m0.0005\u001b[0m\u001b[0;34m,\u001b[0m \u001b[0mibd_out\u001b[0m \u001b[0;34m=\u001b[0m \u001b[0;36m0.001\u001b[0m\u001b[0;34m,\u001b[0m \u001b[0mibd_jump\u001b[0m \u001b[0;34m=\u001b[0m \u001b[0;36m0.05\u001b[0m\u001b[0;34m,\u001b[0m \u001b[0mmax_gap\u001b[0m\u001b[0;34m=\u001b[0m\u001b[0;36m1.0\u001b[0m\u001b[0;34m)\u001b[0m\u001b[0;34m\u001b[0m\u001b[0;34m\u001b[0m\u001b[0m\n\u001b[0;32m----> 7\u001b[0;31m     \u001b[0mpost\u001b[0m\u001b[0;34m,\u001b[0m \u001b[0mr_vec\u001b[0m \u001b[0;34m=\u001b[0m \u001b[0mh\u001b[0m\u001b[0;34m.\u001b[0m\u001b[0mrun_fwd_bwd\u001b[0m\u001b[0;34m(\u001b[0m\u001b[0mfull\u001b[0m\u001b[0;34m=\u001b[0m\u001b[0;32mTrue\u001b[0m\u001b[0;34m)\u001b[0m\u001b[0;34m\u001b[0m\u001b[0;34m\u001b[0m\u001b[0m\n\u001b[0m\u001b[1;32m      8\u001b[0m     \u001b[0;31m#p=np.isclose(tot_ll, -26156.062, rtol=0, atol=0.01)\u001b[0m\u001b[0;34m\u001b[0m\u001b[0;34m\u001b[0m\u001b[0;34m\u001b[0m\u001b[0m\n\u001b[1;32m      9\u001b[0m     \u001b[0;32mreturn\u001b[0m \u001b[0mpost\u001b[0m\u001b[0;34m,\u001b[0m \u001b[0mr_vec\u001b[0m\u001b[0;34m\u001b[0m\u001b[0;34m\u001b[0m\u001b[0m\n",
      "\u001b[0;31mValueError\u001b[0m: too many values to unpack (expected 2)"
     ]
    }
   ],
   "source": [
    "post1, r_vec1 = run_simulated_example_scaled()"
   ]
  },
  {
   "cell_type": "code",
   "execution_count": 7,
   "metadata": {},
   "outputs": [
    {
     "data": {
      "text/plain": [
       "array([1., 1., 1., ..., 1., 1., 1.])"
      ]
     },
     "execution_count": 7,
     "metadata": {},
     "output_type": "execute_result"
    }
   ],
   "source": [
    "np.sum(post1, axis=0)"
   ]
  },
  {
   "cell_type": "code",
   "execution_count": 8,
   "metadata": {},
   "outputs": [
    {
     "data": {
      "text/plain": [
       "array([1., 1., 1., ..., 1., 1., 1.])"
      ]
     },
     "execution_count": 8,
     "metadata": {},
     "output_type": "execute_result"
    }
   ],
   "source": [
    "np.sum(np.exp(post), axis=0)"
   ]
  },
  {
   "cell_type": "code",
   "execution_count": 22,
   "metadata": {},
   "outputs": [
    {
     "data": {
      "text/plain": [
       "(5, 10000)"
      ]
     },
     "execution_count": 22,
     "metadata": {},
     "output_type": "execute_result"
    }
   ],
   "source": [
    "np.shape(post)"
   ]
  },
  {
   "cell_type": "code",
   "execution_count": 9,
   "metadata": {},
   "outputs": [
    {
     "data": {
      "text/plain": [
       "array([[9.99996692e-01, 9.99993458e-01, 9.99991097e-01, ...,\n",
       "        9.94457414e-01, 9.94024891e-01, 9.93581766e-01],\n",
       "       [1.26213548e-06, 2.66475539e-06, 3.15595456e-06, ...,\n",
       "        4.22653937e-04, 3.52591238e-04, 4.04487686e-04],\n",
       "       [4.62641457e-07, 7.73821594e-07, 1.81992483e-06, ...,\n",
       "        3.04790188e-03, 3.01907380e-03, 2.76516965e-03],\n",
       "       [1.30472327e-06, 2.76548248e-06, 3.29906265e-06, ...,\n",
       "        1.22236811e-03, 1.70378060e-03, 2.01355536e-03],\n",
       "       [2.78233476e-07, 3.37666633e-07, 6.28277929e-07, ...,\n",
       "        8.49662139e-04, 8.99663092e-04, 1.23502109e-03]])"
      ]
     },
     "execution_count": 9,
     "metadata": {},
     "output_type": "execute_result"
    }
   ],
   "source": [
    "post1"
   ]
  },
  {
   "cell_type": "code",
   "execution_count": 27,
   "metadata": {},
   "outputs": [
    {
     "data": {
      "text/plain": [
       "array([[9.99996690e-01, 9.99993456e-01, 9.99991095e-01, ...,\n",
       "        9.99980724e-01, 9.99989018e-01, 9.99999354e-01],\n",
       "       [1.26213548e-06, 2.66475539e-06, 3.15595456e-06, ...,\n",
       "        3.31376322e-06, 9.29556727e-07, 4.07263195e-08],\n",
       "       [4.62641456e-07, 7.73821592e-07, 1.81992483e-06, ...,\n",
       "        1.20891270e-05, 7.95935932e-06, 2.78414366e-07],\n",
       "       [1.30472327e-06, 2.76548247e-06, 3.29906265e-06, ...,\n",
       "        1.57116416e-06, 1.37006100e-06, 2.02737195e-07],\n",
       "       [2.78233476e-07, 3.37666633e-07, 6.28277927e-07, ...,\n",
       "        2.30144178e-06, 7.23446033e-07, 1.24349554e-07]])"
      ]
     },
     "execution_count": 27,
     "metadata": {},
     "output_type": "execute_result"
    }
   ],
   "source": [
    "np.exp(post)"
   ]
  },
  {
   "cell_type": "code",
   "execution_count": 10,
   "metadata": {},
   "outputs": [
    {
     "data": {
      "image/png": "[encoded data removed]",
      "text/plain": [
       "<Figure size 432x288 with 1 Axes>"
      ]
     },
     "metadata": {
      "needs_background": "light"
     },
     "output_type": "display_data"
    }
   ],
   "source": [
    "plt.figure()\n",
    "ax = plt.gca()\n",
    "ax.scatter(np.exp(post[0]), post1[0])\n",
    "plt.show()"
   ]
  },
  {
   "cell_type": "code",
   "execution_count": null,
   "metadata": {},
   "outputs": [],
   "source": []
  }
 ],
 "metadata": {
  "kernelspec": {
   "display_name": "Python 3",
   "language": "python",
   "name": "python3"
  },
  "language_info": {
   "codemirror_mode": {
    "name": "ipython",
    "version": 3
   },
   "file_extension": ".py",
   "mimetype": "text/x-python",
   "name": "python",
   "nbconvert_exporter": "python",
   "pygments_lexer": "ipython3",
   "version": "3.7.4"
  }
 },
 "nbformat": 4,
 "nbformat_minor": 4
}
