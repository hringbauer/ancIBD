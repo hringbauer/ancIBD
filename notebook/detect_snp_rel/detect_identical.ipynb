{
 "cells": [
  {
   "cell_type": "markdown",
   "metadata": {},
   "source": [
    "### Notebook to detect identical Genotypes"
   ]
  },
  {
   "cell_type": "code",
   "execution_count": 1,
   "metadata": {},
   "outputs": [
    {
     "name": "stdout",
     "output_type": "stream",
     "text": [
      "compute-e-16-233.o2.rc.hms.harvard.edu\n",
      "HSM O2 Computational partition detected.\n",
      "/n/groups/reich/hringbauer/git/hapBLOCK\n",
      "CPU Count: 28\n"
     ]
    }
   ],
   "source": [
    "import numpy as np\n",
    "import pandas as pd\n",
    "import matplotlib.pyplot as plt\n",
    "import matplotlib.gridspec as gridspec\n",
    "import socket as socket\n",
    "import os as os\n",
    "import sys as sys\n",
    "import multiprocessing as mp\n",
    "import h5py\n",
    "import allel\n",
    "\n",
    "socket_name = socket.gethostname()\n",
    "print(socket_name)\n",
    "\n",
    "if socket_name.startswith(\"compute-\"):\n",
    "    print(\"HSM O2 Computational partition detected.\")\n",
    "    path = \"/n/groups/reich/hringbauer/git/hapBLOCK/\"  # The Path on Harvard Cluster\n",
    "else: \n",
    "    raise RuntimeWarning(\"Not compatible machine. Check!!\")\n",
    "\n",
    "os.chdir(path)  # Set the right Path (in line with Atom default)\n",
    "\n",
    "print(os.getcwd())\n",
    "print(f\"CPU Count: {mp.cpu_count()}\")"
   ]
  },
  {
   "cell_type": "code",
   "execution_count": 18,
   "metadata": {},
   "outputs": [],
   "source": [
    "def get_idx_iid(f,sample, unique=True):\n",
    "    \"\"\"Return Index of sample samples in hdf5 f\"\"\"\n",
    "    samples = pd.Series(f[\"samples\"][:])\n",
    "    idx = samples.str.contains(sample)\n",
    "    idx = np.where(idx)[0]\n",
    "    if unique:\n",
    "        assert(len(idx)==1)\n",
    "        return idx[0]\n",
    "    else:\n",
    "        return idx\n",
    "    \n",
    "def get_exact_idx_iid(f, sample, unique=True):\n",
    "    \"\"\"Return Index of sample samples in hdf5 f\"\"\"\n",
    "    samples = pd.Series(f[\"samples\"][:].astype(\"str\"))\n",
    "    idx = samples==sample\n",
    "    idx = np.where(idx)[0]\n",
    "    assert(len(idx)==1)\n",
    "    return idx\n",
    "    \n",
    "def get_coverage(f, j):\n",
    "    \"\"\"Get Coverage of sample j in hdf5 f\"\"\"\n",
    "    ads =  f[\"calldata/AD\"][:,j,:]\n",
    "    ads[ads<0]=0\n",
    "    cov = np.mean(ads)*2\n",
    "    return cov\n",
    "\n",
    "def get_markers_good(f, j, output=True, cutoff=0.99):\n",
    "    \"\"\"Get markers\"\"\"\n",
    "    m = np.max(f[\"calldata/GP\"][:,j,:], axis=1)\n",
    "    idx = (m>cutoff)\n",
    "    if output:\n",
    "        c1 = np.mean(m>cutoff)\n",
    "        print(f\"Filtering to {cutoff} GP variants: {c1:.3f}x\")\n",
    "    return idx\n",
    "\n",
    "def get_fraction_identical(f, sample1=\"SUC006\", sample2=\"R26.SG\", \n",
    "                           gp_cutoff=0, cutoff=0.98, output=False):\n",
    "    \"\"\"Get Fraction of Identical Genotype Configurations\"\"\"\n",
    "    if output:\n",
    "        print(f\"Running {sample1}-{sample2}\")\n",
    "    j1 = get_exact_idx_iid(f, sample1)[0]\n",
    "    j2 = get_exact_idx_iid(f, sample2)[0]\n",
    "    \n",
    "    idx1 = get_markers_good(f, j1, cutoff=cutoff, output=output)\n",
    "    idx2 = get_markers_good(f, j2, cutoff=cutoff, output=output)\n",
    "    idx = (idx1 & idx2)\n",
    "    snp_frac = np.mean(idx)\n",
    "    if output:\n",
    "        print(f\"Filtering to common GP variants: {snp_frac:.3f}x\")\n",
    "    \n",
    "    gt1 = f[\"calldata/GT\"][:, j1, :][idx,:]\n",
    "    gt2 = f[\"calldata/GT\"][:, j2, :][idx,:]\n",
    "    g1, g2 = np.sum(gt1, axis=1), np.sum(gt2, axis=1)\n",
    "    frac_same = np.mean(g1 == g2)\n",
    "    return frac_same,snp_frac"
   ]
  },
  {
   "cell_type": "markdown",
   "metadata": {},
   "source": [
    "# Calculate Fraction Identical for all individuals in list of pairs\n",
    "Run one time"
   ]
  },
  {
   "cell_type": "code",
   "execution_count": 3,
   "metadata": {},
   "outputs": [
    {
     "name": "stdout",
     "output_type": "stream",
     "text": [
      "Loaded 1603 PO or identical Individuals\n"
     ]
    }
   ],
   "source": [
    "df = pd.read_csv(\"./output/dumpster/full_run_ch3_9813/o_homo_all_0005.tsv\", sep=\"\\t\")\n",
    "print(f\"Loaded {len(df)} PO or identical Individuals\")"
   ]
  },
  {
   "cell_type": "code",
   "execution_count": 58,
   "metadata": {},
   "outputs": [
    {
     "name": "stdout",
     "output_type": "stream",
     "text": [
      "CPU times: user 11min 17s, sys: 1min 42s, total: 12min 59s\n",
      "Wall time: 13min 34s\n"
     ]
    }
   ],
   "source": [
    "%%time\n",
    "f = h5py.File(f\"./data/hdf5/1240k_v43/ch{ch}.h5\", \"r\") # Load for Sanity Check. See below!\n",
    "y = [get_fraction_identical(f, sample1=iid1, sample2=iid2, cutoff=0.98)\n",
    "                                     for iid1, iid2 in df[[\"iid1\",\"iid2\"]].values]\n",
    "y=np.array(y)\n",
    "identical=y[:,0]\n",
    "snp_frac=y[:,1]\n",
    "f.close()"
   ]
  },
  {
   "cell_type": "code",
   "execution_count": 59,
   "metadata": {},
   "outputs": [],
   "source": [
    "df[\"gt_match_rate_ch3\"] = identical\n",
    "df[\"frac_snps_good_ch3\"] = snp_frac"
   ]
  },
  {
   "cell_type": "code",
   "execution_count": null,
   "metadata": {},
   "outputs": [],
   "source": [
    "df.sort_values(by=\"gt_match_rate_ch3\", ascending=False)[:30]"
   ]
  },
  {
   "cell_type": "code",
   "execution_count": 19,
   "metadata": {},
   "outputs": [
    {
     "name": "stdout",
     "output_type": "stream",
     "text": [
      "Saved 1603 opp. homo pairs to ./output/relatives_snp/opp_homos_ch3.tsv\n"
     ]
    }
   ],
   "source": [
    "savepath =\"./output/relatives_snp/opp_homos_ch3.tsv\"\n",
    "df.to_csv(savepath, sep=\"\\t\", index=False)\n",
    "print(f\"Saved {len(df)} opp. homo pairs to {savepath}\")"
   ]
  },
  {
   "cell_type": "markdown",
   "metadata": {},
   "source": [
    "# Process the similarity list"
   ]
  },
  {
   "cell_type": "code",
   "execution_count": 4,
   "metadata": {},
   "outputs": [],
   "source": [
    "savepath =\"./output/relatives_snp/opp_homos_ch3.tsv\"\n",
    "df = pd.read_csv(savepath, sep=\"\\t\")"
   ]
  },
  {
   "cell_type": "code",
   "execution_count": 5,
   "metadata": {},
   "outputs": [
    {
     "name": "stdout",
     "output_type": "stream",
     "text": [
      "Found identical indivdiuals 1179\n"
     ]
    }
   ],
   "source": [
    "idx_identical = df[\"gt_match_rate_ch3\"]>0.98\n",
    "print(f\"Found identical indivdiuals {np.sum(idx_identical)}\")"
   ]
  },
  {
   "cell_type": "code",
   "execution_count": 6,
   "metadata": {},
   "outputs": [
    {
     "data": {
      "text/html": [
       "<div>\n",
       "<style scoped>\n",
       "    .dataframe tbody tr th:only-of-type {\n",
       "        vertical-align: middle;\n",
       "    }\n",
       "\n",
       "    .dataframe tbody tr th {\n",
       "        vertical-align: top;\n",
       "    }\n",
       "\n",
       "    .dataframe thead th {\n",
       "        text-align: right;\n",
       "    }\n",
       "</style>\n",
       "<table border=\"1\" class=\"dataframe\">\n",
       "  <thead>\n",
       "    <tr style=\"text-align: right;\">\n",
       "      <th></th>\n",
       "      <th>iid1</th>\n",
       "      <th>iid2</th>\n",
       "      <th>opp_homo_rate_ch3</th>\n",
       "      <th>gt_match_rate_ch3</th>\n",
       "      <th>frac_snps_good_ch3</th>\n",
       "    </tr>\n",
       "  </thead>\n",
       "  <tbody>\n",
       "    <tr>\n",
       "      <th>1458</th>\n",
       "      <td>I1293_all_d.SG</td>\n",
       "      <td>I2312_all_d.SG</td>\n",
       "      <td>0.0</td>\n",
       "      <td>0.966001</td>\n",
       "      <td>0.521995</td>\n",
       "    </tr>\n",
       "  </tbody>\n",
       "</table>\n",
       "</div>"
      ],
      "text/plain": [
       "                iid1            iid2  opp_homo_rate_ch3  gt_match_rate_ch3  \\\n",
       "1458  I1293_all_d.SG  I2312_all_d.SG                0.0           0.966001   \n",
       "\n",
       "      frac_snps_good_ch3  \n",
       "1458            0.521995  "
      ]
     },
     "execution_count": 6,
     "metadata": {},
     "output_type": "execute_result"
    }
   ],
   "source": [
    "df[df[\"iid2\"].str.contains(\"I2312_all_d.SG\")]"
   ]
  },
  {
   "cell_type": "markdown",
   "metadata": {},
   "source": [
    "# Area 51"
   ]
  },
  {
   "cell_type": "markdown",
   "metadata": {},
   "source": [
    "### Plot identical individuals"
   ]
  },
  {
   "cell_type": "code",
   "execution_count": 7,
   "metadata": {},
   "outputs": [
    {
     "data": {
      "image/png": "[encoded data removed]",
      "text/plain": [
       "<Figure size 432x288 with 1 Axes>"
      ]
     },
     "metadata": {
      "needs_background": "light"
     },
     "output_type": "display_data"
    }
   ],
   "source": [
    "bins=np.linspace(0.95,1,41)\n",
    "plt.figure()\n",
    "ax=plt.gca()\n",
    "ax.hist(df[\"gt_match_rate_ch3\"], ec=\"k\",bins=bins)\n",
    "plt.show()"
   ]
  },
  {
   "cell_type": "markdown",
   "metadata": {},
   "source": [
    "# Explore Pavel's identical Individuals"
   ]
  },
  {
   "cell_type": "code",
   "execution_count": 3,
   "metadata": {},
   "outputs": [],
   "source": []
  },
  {
   "cell_type": "code",
   "execution_count": 23,
   "metadata": {},
   "outputs": [
    {
     "name": "stdout",
     "output_type": "stream",
     "text": [
      "Loaded 30 pairs\n",
      "CPU times: user 2.72 s, sys: 51.8 ms, total: 2.77 s\n",
      "Wall time: 2.77 s\n"
     ]
    }
   ],
   "source": [
    "%%time\n",
    "dft = pd.read_csv(\"./notebook/detect_snp_rel/ibd_problem_pavel.22.10.tsv\", sep=\"\\t\")[:-4]\n",
    "print(f\"Loaded {len(dft)} pairs\")\n",
    "\n",
    "ch = 3\n",
    "\n",
    "\n",
    "\n",
    "f = h5py.File(f\"./data/hdf5/1240k_v53.1/ch{ch}.h5\", \"r\") # Load for Sanity Check. See below!\n",
    "y = [get_fraction_identical(f, sample1=iid1, sample2=iid2, cutoff=0.98, output=False)\n",
    "                                     for iid1, iid2 in dft[[\"iid1\",\"iid2\"]].values]\n",
    "y=np.array(y)\n",
    "identical=y[:,0]\n",
    "snp_frac=y[:,1]\n",
    "f.close()\n",
    "\n",
    "dft[\"identicalGT\"]=identical\n",
    "dft[\"commonSNP>0.98GP\"]=snp_frac # 0.861"
   ]
  },
  {
   "cell_type": "code",
   "execution_count": 25,
   "metadata": {},
   "outputs": [
    {
     "data": {
      "text/html": [
       "<div>\n",
       "<style scoped>\n",
       "    .dataframe tbody tr th:only-of-type {\n",
       "        vertical-align: middle;\n",
       "    }\n",
       "\n",
       "    .dataframe tbody tr th {\n",
       "        vertical-align: top;\n",
       "    }\n",
       "\n",
       "    .dataframe thead th {\n",
       "        text-align: right;\n",
       "    }\n",
       "</style>\n",
       "<table border=\"1\" class=\"dataframe\">\n",
       "  <thead>\n",
       "    <tr style=\"text-align: right;\">\n",
       "      <th></th>\n",
       "      <th>iid1</th>\n",
       "      <th>iid2</th>\n",
       "      <th>identicalGT</th>\n",
       "      <th>commonSNP&gt;0.98GP</th>\n",
       "    </tr>\n",
       "  </thead>\n",
       "  <tbody>\n",
       "    <tr>\n",
       "      <th>0</th>\n",
       "      <td>A181018</td>\n",
       "      <td>I18224</td>\n",
       "      <td>1.000000</td>\n",
       "      <td>0.861374</td>\n",
       "    </tr>\n",
       "    <tr>\n",
       "      <th>1</th>\n",
       "      <td>A181019</td>\n",
       "      <td>I18225</td>\n",
       "      <td>1.000000</td>\n",
       "      <td>0.855918</td>\n",
       "    </tr>\n",
       "    <tr>\n",
       "      <th>2</th>\n",
       "      <td>A181022</td>\n",
       "      <td>I16744</td>\n",
       "      <td>0.999927</td>\n",
       "      <td>0.883018</td>\n",
       "    </tr>\n",
       "    <tr>\n",
       "      <th>3</th>\n",
       "      <td>A181023</td>\n",
       "      <td>I16750</td>\n",
       "      <td>1.000000</td>\n",
       "      <td>0.875170</td>\n",
       "    </tr>\n",
       "    <tr>\n",
       "      <th>4</th>\n",
       "      <td>A181024</td>\n",
       "      <td>I16751</td>\n",
       "      <td>0.999985</td>\n",
       "      <td>0.877225</td>\n",
       "    </tr>\n",
       "    <tr>\n",
       "      <th>5</th>\n",
       "      <td>A181025</td>\n",
       "      <td>I16752</td>\n",
       "      <td>0.999985</td>\n",
       "      <td>0.884440</td>\n",
       "    </tr>\n",
       "    <tr>\n",
       "      <th>6</th>\n",
       "      <td>A181026</td>\n",
       "      <td>I16753</td>\n",
       "      <td>1.000000</td>\n",
       "      <td>0.899399</td>\n",
       "    </tr>\n",
       "    <tr>\n",
       "      <th>7</th>\n",
       "      <td>A181027</td>\n",
       "      <td>I16759</td>\n",
       "      <td>1.000000</td>\n",
       "      <td>0.769630</td>\n",
       "    </tr>\n",
       "    <tr>\n",
       "      <th>8</th>\n",
       "      <td>A181028</td>\n",
       "      <td>I16812</td>\n",
       "      <td>1.000000</td>\n",
       "      <td>0.888655</td>\n",
       "    </tr>\n",
       "    <tr>\n",
       "      <th>9</th>\n",
       "      <td>A181014</td>\n",
       "      <td>I18184</td>\n",
       "      <td>1.000000</td>\n",
       "      <td>0.809037</td>\n",
       "    </tr>\n",
       "    <tr>\n",
       "      <th>10</th>\n",
       "      <td>A181029</td>\n",
       "      <td>I18743</td>\n",
       "      <td>1.000000</td>\n",
       "      <td>0.840584</td>\n",
       "    </tr>\n",
       "    <tr>\n",
       "      <th>11</th>\n",
       "      <td>I22118</td>\n",
       "      <td>I22122</td>\n",
       "      <td>0.757855</td>\n",
       "      <td>0.821734</td>\n",
       "    </tr>\n",
       "    <tr>\n",
       "      <th>12</th>\n",
       "      <td>I22151</td>\n",
       "      <td>I22019</td>\n",
       "      <td>0.743959</td>\n",
       "      <td>0.868886</td>\n",
       "    </tr>\n",
       "    <tr>\n",
       "      <th>13</th>\n",
       "      <td>I24040</td>\n",
       "      <td>I24494</td>\n",
       "      <td>0.754655</td>\n",
       "      <td>0.835995</td>\n",
       "    </tr>\n",
       "    <tr>\n",
       "      <th>14</th>\n",
       "      <td>I2817</td>\n",
       "      <td>I33852</td>\n",
       "      <td>0.999111</td>\n",
       "      <td>0.843157</td>\n",
       "    </tr>\n",
       "    <tr>\n",
       "      <th>15</th>\n",
       "      <td>I31858</td>\n",
       "      <td>I19704</td>\n",
       "      <td>0.999661</td>\n",
       "      <td>0.839343</td>\n",
       "    </tr>\n",
       "    <tr>\n",
       "      <th>16</th>\n",
       "      <td>I3313.SG</td>\n",
       "      <td>I26742</td>\n",
       "      <td>0.745487</td>\n",
       "      <td>0.951219</td>\n",
       "    </tr>\n",
       "    <tr>\n",
       "      <th>17</th>\n",
       "      <td>I7027</td>\n",
       "      <td>CHN001</td>\n",
       "      <td>0.999104</td>\n",
       "      <td>0.879811</td>\n",
       "    </tr>\n",
       "    <tr>\n",
       "      <th>18</th>\n",
       "      <td>IMA001</td>\n",
       "      <td>I16629</td>\n",
       "      <td>0.999003</td>\n",
       "      <td>0.790820</td>\n",
       "    </tr>\n",
       "    <tr>\n",
       "      <th>19</th>\n",
       "      <td>IMA005</td>\n",
       "      <td>IMA002</td>\n",
       "      <td>0.771857</td>\n",
       "      <td>0.842925</td>\n",
       "    </tr>\n",
       "    <tr>\n",
       "      <th>20</th>\n",
       "      <td>IMA006</td>\n",
       "      <td>I16630</td>\n",
       "      <td>0.999448</td>\n",
       "      <td>0.796807</td>\n",
       "    </tr>\n",
       "    <tr>\n",
       "      <th>21</th>\n",
       "      <td>IMA007</td>\n",
       "      <td>I16631</td>\n",
       "      <td>0.999759</td>\n",
       "      <td>0.856862</td>\n",
       "    </tr>\n",
       "    <tr>\n",
       "      <th>22</th>\n",
       "      <td>TAL004</td>\n",
       "      <td>DA13_noUDG.SG</td>\n",
       "      <td>0.999480</td>\n",
       "      <td>0.920047</td>\n",
       "    </tr>\n",
       "    <tr>\n",
       "      <th>23</th>\n",
       "      <td>TAL004</td>\n",
       "      <td>TAL003</td>\n",
       "      <td>0.747073</td>\n",
       "      <td>0.908824</td>\n",
       "    </tr>\n",
       "    <tr>\n",
       "      <th>24</th>\n",
       "      <td>I19706</td>\n",
       "      <td>I31856</td>\n",
       "      <td>0.999455</td>\n",
       "      <td>0.830357</td>\n",
       "    </tr>\n",
       "    <tr>\n",
       "      <th>25</th>\n",
       "      <td>I14618</td>\n",
       "      <td>I14621</td>\n",
       "      <td>0.742804</td>\n",
       "      <td>0.866443</td>\n",
       "    </tr>\n",
       "    <tr>\n",
       "      <th>26</th>\n",
       "      <td>I10658</td>\n",
       "      <td>I20726</td>\n",
       "      <td>0.746164</td>\n",
       "      <td>0.895585</td>\n",
       "    </tr>\n",
       "    <tr>\n",
       "      <th>27</th>\n",
       "      <td>I22693</td>\n",
       "      <td>I29852</td>\n",
       "      <td>0.999385</td>\n",
       "      <td>0.799276</td>\n",
       "    </tr>\n",
       "    <tr>\n",
       "      <th>28</th>\n",
       "      <td>I22693</td>\n",
       "      <td>I29858</td>\n",
       "      <td>0.750981</td>\n",
       "      <td>0.863068</td>\n",
       "    </tr>\n",
       "    <tr>\n",
       "      <th>29</th>\n",
       "      <td>I28157</td>\n",
       "      <td>I11545</td>\n",
       "      <td>0.999791</td>\n",
       "      <td>0.930131</td>\n",
       "    </tr>\n",
       "  </tbody>\n",
       "</table>\n",
       "</div>"
      ],
      "text/plain": [
       "        iid1           iid2  identicalGT  commonSNP>0.98GP\n",
       "0    A181018         I18224     1.000000          0.861374\n",
       "1    A181019         I18225     1.000000          0.855918\n",
       "2    A181022         I16744     0.999927          0.883018\n",
       "3    A181023         I16750     1.000000          0.875170\n",
       "4    A181024         I16751     0.999985          0.877225\n",
       "5    A181025         I16752     0.999985          0.884440\n",
       "6    A181026         I16753     1.000000          0.899399\n",
       "7    A181027         I16759     1.000000          0.769630\n",
       "8    A181028         I16812     1.000000          0.888655\n",
       "9    A181014         I18184     1.000000          0.809037\n",
       "10   A181029         I18743     1.000000          0.840584\n",
       "11    I22118         I22122     0.757855          0.821734\n",
       "12    I22151         I22019     0.743959          0.868886\n",
       "13    I24040         I24494     0.754655          0.835995\n",
       "14     I2817         I33852     0.999111          0.843157\n",
       "15    I31858         I19704     0.999661          0.839343\n",
       "16  I3313.SG         I26742     0.745487          0.951219\n",
       "17     I7027         CHN001     0.999104          0.879811\n",
       "18    IMA001         I16629     0.999003          0.790820\n",
       "19    IMA005         IMA002     0.771857          0.842925\n",
       "20    IMA006         I16630     0.999448          0.796807\n",
       "21    IMA007         I16631     0.999759          0.856862\n",
       "22    TAL004  DA13_noUDG.SG     0.999480          0.920047\n",
       "23    TAL004         TAL003     0.747073          0.908824\n",
       "24    I19706         I31856     0.999455          0.830357\n",
       "25    I14618         I14621     0.742804          0.866443\n",
       "26    I10658         I20726     0.746164          0.895585\n",
       "27    I22693         I29852     0.999385          0.799276\n",
       "28    I22693         I29858     0.750981          0.863068\n",
       "29    I28157         I11545     0.999791          0.930131"
      ]
     },
     "execution_count": 25,
     "metadata": {},
     "output_type": "execute_result"
    }
   ],
   "source": [
    "dft[[\"iid1\",\"iid2\",\"identicalGT\", \"commonSNP>0.98GP\"]]"
   ]
  },
  {
   "cell_type": "code",
   "execution_count": null,
   "metadata": {},
   "outputs": [],
   "source": [
    "f = h5py.File(f\"./data/hdf5/1240k_v53.1/ch{ch}.h5\", \"r\") # Load for Sanity Check. See below!\n",
    "for iid in dft[\"iid1\"]:\n",
    "    there = iid in f[\"samples\"][:].astype(\"str\")\n",
    "    print(f\"{iid} there: {there}\")\n",
    "f.close()"
   ]
  },
  {
   "cell_type": "code",
   "execution_count": 20,
   "metadata": {},
   "outputs": [
    {
     "ename": "ValueError",
     "evalue": "Invalid location identifier (invalid location identifier)",
     "output_type": "error",
     "traceback": [
      "\u001b[0;31m---------------------------------------------------------------------------\u001b[0m",
      "\u001b[0;31mValueError\u001b[0m                                Traceback (most recent call last)",
      "\u001b[0;32m<ipython-input-20-534d6c92d831>\u001b[0m in \u001b[0;36m<module>\u001b[0;34m\u001b[0m\n\u001b[1;32m      1\u001b[0m \u001b[0;32mfor\u001b[0m \u001b[0miid\u001b[0m \u001b[0;32min\u001b[0m \u001b[0mdft\u001b[0m\u001b[0;34m[\u001b[0m\u001b[0;34m\"iid1\"\u001b[0m\u001b[0;34m]\u001b[0m\u001b[0;34m:\u001b[0m\u001b[0;34m\u001b[0m\u001b[0;34m\u001b[0m\u001b[0m\n\u001b[0;32m----> 2\u001b[0;31m     \u001b[0mthere\u001b[0m \u001b[0;34m=\u001b[0m \u001b[0miid\u001b[0m \u001b[0;32min\u001b[0m \u001b[0mf\u001b[0m\u001b[0;34m[\u001b[0m\u001b[0;34m\"samples\"\u001b[0m\u001b[0;34m]\u001b[0m\u001b[0;34m[\u001b[0m\u001b[0;34m:\u001b[0m\u001b[0;34m]\u001b[0m\u001b[0;34m.\u001b[0m\u001b[0mastype\u001b[0m\u001b[0;34m(\u001b[0m\u001b[0;34m\"str\"\u001b[0m\u001b[0;34m)\u001b[0m\u001b[0;34m\u001b[0m\u001b[0;34m\u001b[0m\u001b[0m\n\u001b[0m\u001b[1;32m      3\u001b[0m     \u001b[0mprint\u001b[0m\u001b[0;34m(\u001b[0m\u001b[0;34mf\"{iid} there: {there}\"\u001b[0m\u001b[0;34m)\u001b[0m\u001b[0;34m\u001b[0m\u001b[0;34m\u001b[0m\u001b[0m\n\u001b[1;32m      4\u001b[0m \u001b[0mf\u001b[0m\u001b[0;34m.\u001b[0m\u001b[0mclose\u001b[0m\u001b[0;34m(\u001b[0m\u001b[0;34m)\u001b[0m\u001b[0;34m\u001b[0m\u001b[0;34m\u001b[0m\u001b[0m\n",
      "\u001b[0;32mh5py/_objects.pyx\u001b[0m in \u001b[0;36mh5py._objects.with_phil.wrapper\u001b[0;34m()\u001b[0m\n",
      "\u001b[0;32mh5py/_objects.pyx\u001b[0m in \u001b[0;36mh5py._objects.with_phil.wrapper\u001b[0;34m()\u001b[0m\n",
      "\u001b[0;32m/n/groups/reich/hringbauer/explore_ntbk/jptvenv37/lib/python3.7/site-packages/h5py/_hl/group.py\u001b[0m in \u001b[0;36m__getitem__\u001b[0;34m(self, name)\u001b[0m\n\u001b[1;32m    286\u001b[0m                 \u001b[0;32mraise\u001b[0m \u001b[0mValueError\u001b[0m\u001b[0;34m(\u001b[0m\u001b[0;34m\"Invalid HDF5 object reference\"\u001b[0m\u001b[0;34m)\u001b[0m\u001b[0;34m\u001b[0m\u001b[0;34m\u001b[0m\u001b[0m\n\u001b[1;32m    287\u001b[0m         \u001b[0;32melse\u001b[0m\u001b[0;34m:\u001b[0m\u001b[0;34m\u001b[0m\u001b[0;34m\u001b[0m\u001b[0m\n\u001b[0;32m--> 288\u001b[0;31m             \u001b[0moid\u001b[0m \u001b[0;34m=\u001b[0m \u001b[0mh5o\u001b[0m\u001b[0;34m.\u001b[0m\u001b[0mopen\u001b[0m\u001b[0;34m(\u001b[0m\u001b[0mself\u001b[0m\u001b[0;34m.\u001b[0m\u001b[0mid\u001b[0m\u001b[0;34m,\u001b[0m \u001b[0mself\u001b[0m\u001b[0;34m.\u001b[0m\u001b[0m_e\u001b[0m\u001b[0;34m(\u001b[0m\u001b[0mname\u001b[0m\u001b[0;34m)\u001b[0m\u001b[0;34m,\u001b[0m \u001b[0mlapl\u001b[0m\u001b[0;34m=\u001b[0m\u001b[0mself\u001b[0m\u001b[0;34m.\u001b[0m\u001b[0m_lapl\u001b[0m\u001b[0;34m)\u001b[0m\u001b[0;34m\u001b[0m\u001b[0;34m\u001b[0m\u001b[0m\n\u001b[0m\u001b[1;32m    289\u001b[0m \u001b[0;34m\u001b[0m\u001b[0m\n\u001b[1;32m    290\u001b[0m         \u001b[0motype\u001b[0m \u001b[0;34m=\u001b[0m \u001b[0mh5i\u001b[0m\u001b[0;34m.\u001b[0m\u001b[0mget_type\u001b[0m\u001b[0;34m(\u001b[0m\u001b[0moid\u001b[0m\u001b[0;34m)\u001b[0m\u001b[0;34m\u001b[0m\u001b[0;34m\u001b[0m\u001b[0m\n",
      "\u001b[0;32mh5py/_objects.pyx\u001b[0m in \u001b[0;36mh5py._objects.with_phil.wrapper\u001b[0;34m()\u001b[0m\n",
      "\u001b[0;32mh5py/_objects.pyx\u001b[0m in \u001b[0;36mh5py._objects.with_phil.wrapper\u001b[0;34m()\u001b[0m\n",
      "\u001b[0;32mh5py/h5o.pyx\u001b[0m in \u001b[0;36mh5py.h5o.open\u001b[0;34m()\u001b[0m\n",
      "\u001b[0;31mValueError\u001b[0m: Invalid location identifier (invalid location identifier)"
     ]
    }
   ],
   "source": []
  },
  {
   "cell_type": "code",
   "execution_count": null,
   "metadata": {},
   "outputs": [],
   "source": []
  }
 ],
 "metadata": {
  "kernelspec": {
   "display_name": "Python 3",
   "language": "python",
   "name": "python3"
  },
  "language_info": {
   "codemirror_mode": {
    "name": "ipython",
    "version": 3
   },
   "file_extension": ".py",
   "mimetype": "text/x-python",
   "name": "python",
   "nbconvert_exporter": "python",
   "pygments_lexer": "ipython3",
   "version": "3.7.4"
  }
 },
 "nbformat": 4,
 "nbformat_minor": 4
}
