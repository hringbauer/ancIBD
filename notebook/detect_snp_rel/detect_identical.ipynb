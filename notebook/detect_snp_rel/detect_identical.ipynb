{
 "cells": [
  {
   "cell_type": "markdown",
   "metadata": {},
   "source": [
    "### Notebook to detect identical Genotypes"
   ]
  },
  {
   "cell_type": "code",
   "execution_count": 1,
   "metadata": {},
   "outputs": [
    {
     "name": "stdout",
     "output_type": "stream",
     "text": [
      "compute-a-17-99.o2.rc.hms.harvard.edu\n",
      "HSM O2 Computational partition detected.\n",
      "/n/groups/reich/hringbauer/git/hapBLOCK\n",
      "CPU Count: 32\n"
     ]
    }
   ],
   "source": [
    "import numpy as np\n",
    "import pandas as pd\n",
    "import matplotlib.pyplot as plt\n",
    "import matplotlib.gridspec as gridspec\n",
    "import socket as socket\n",
    "import os as os\n",
    "import sys as sys\n",
    "import multiprocessing as mp\n",
    "import h5py\n",
    "import allel\n",
    "\n",
    "socket_name = socket.gethostname()\n",
    "print(socket_name)\n",
    "\n",
    "if socket_name.startswith(\"compute-\"):\n",
    "    print(\"HSM O2 Computational partition detected.\")\n",
    "    path = \"/n/groups/reich/hringbauer/git/hapBLOCK/\"  # The Path on Harvard Cluster\n",
    "else: \n",
    "    raise RuntimeWarning(\"Not compatible machine. Check!!\")\n",
    "\n",
    "os.chdir(path)  # Set the right Path (in line with Atom default)\n",
    "\n",
    "print(os.getcwd())\n",
    "print(f\"CPU Count: {mp.cpu_count()}\")"
   ]
  },
  {
   "cell_type": "code",
   "execution_count": 2,
   "metadata": {},
   "outputs": [],
   "source": [
    "def get_idx_iid(f,sample, unique=True):\n",
    "    \"\"\"Return Index of sample samples in hdf5 f\"\"\"\n",
    "    samples = pd.Series(f[\"samples\"][:])\n",
    "    idx = samples.str.contains(sample)\n",
    "    idx = np.where(idx)[0]\n",
    "    if unique:\n",
    "        assert(len(idx)==1)\n",
    "        return idx[0]\n",
    "    else:\n",
    "        return idx\n",
    "    \n",
    "def get_exact_idx_iid(f,sample, unique=True):\n",
    "    \"\"\"Return Index of sample samples in hdf5 f\"\"\"\n",
    "    samples = pd.Series(f[\"samples\"][:])\n",
    "    idx = samples==sample\n",
    "    idx = np.where(idx)[0]\n",
    "    assert(len(idx)==1)\n",
    "    return idx\n",
    "    \n",
    "def get_coverage(f, j):\n",
    "    \"\"\"Get Coverage of sample j in hdf5 f\"\"\"\n",
    "    ads =  f[\"calldata/AD\"][:,j,:]\n",
    "    ads[ads<0]=0\n",
    "    cov = np.mean(ads)*2\n",
    "    return cov\n",
    "\n",
    "def get_markers_good(f, j, output=True, cutoff=0.99):\n",
    "    \"\"\"Get markers\"\"\"\n",
    "    m = np.max(f[\"calldata/GP\"][:,j,:], axis=1)\n",
    "    idx = (m>cutoff)\n",
    "    if output:\n",
    "        c1 = np.mean(m>cutoff)\n",
    "        print(f\"Filtering to {cutoff} GP variants: {c1:.3f}x\")\n",
    "    return idx\n",
    "\n",
    "def get_fraction_identical(f, sample1=\"SUC006\", sample2=\"R26.SG\", \n",
    "                           gp_cutoff=0, cutoff=0.98, output=False):\n",
    "    \"\"\"Get Fraction of Identical Genotype Configurations\"\"\"\n",
    "    j1 = get_exact_idx_iid(f, sample1)[0]\n",
    "    j2 = get_exact_idx_iid(f, sample2)[0]\n",
    "    \n",
    "    idx1 = get_markers_good(f, j1, cutoff=cutoff, output=output)\n",
    "    idx2 = get_markers_good(f, j2, cutoff=cutoff, output=output)\n",
    "    idx = (idx1 & idx2)\n",
    "    snp_frac = np.mean(idx)\n",
    "    if output:\n",
    "        print(f\"Filtering to common GP variants: {snp_frac:.3f}x\")\n",
    "    \n",
    "    gt1 = f[\"calldata/GT\"][:, j1, :][idx,:]\n",
    "    gt2 = f[\"calldata/GT\"][:, j2, :][idx,:]\n",
    "    g1, g2 = np.sum(gt1, axis=1), np.sum(gt2, axis=1)\n",
    "    frac_same = np.mean(g1 == g2)\n",
    "    return frac_same,snp_frac"
   ]
  },
  {
   "cell_type": "markdown",
   "metadata": {},
   "source": [
    "# Calculate Fraction Identical for all individuals in list of pairs\n",
    "Run one time"
   ]
  },
  {
   "cell_type": "code",
   "execution_count": 3,
   "metadata": {},
   "outputs": [
    {
     "name": "stdout",
     "output_type": "stream",
     "text": [
      "Loaded 1603 PO or identical Individuals\n"
     ]
    }
   ],
   "source": [
    "df = pd.read_csv(\"./output/dumpster/full_run_ch3_9813/o_homo_all_0005.tsv\", sep=\"\\t\")\n",
    "print(f\"Loaded {len(df)} PO or identical Individuals\")"
   ]
  },
  {
   "cell_type": "code",
   "execution_count": 58,
   "metadata": {},
   "outputs": [
    {
     "name": "stdout",
     "output_type": "stream",
     "text": [
      "CPU times: user 11min 17s, sys: 1min 42s, total: 12min 59s\n",
      "Wall time: 13min 34s\n"
     ]
    }
   ],
   "source": [
    "%%time\n",
    "f = h5py.File(f\"./data/hdf5/1240k_v43/ch{ch}.h5\", \"r\") # Load for Sanity Check. See below!\n",
    "y = [get_fraction_identical(f, sample1=iid1, sample2=iid2, cutoff=0.98)\n",
    "                                     for iid1, iid2 in df[[\"iid1\",\"iid2\"]].values]\n",
    "y=np.array(y)\n",
    "identical=y[:,0]\n",
    "snp_frac=y[:,1]\n",
    "f.close()"
   ]
  },
  {
   "cell_type": "code",
   "execution_count": 59,
   "metadata": {},
   "outputs": [],
   "source": [
    "df[\"gt_match_rate_ch3\"] = identical\n",
    "df[\"frac_snps_good_ch3\"] = snp_frac"
   ]
  },
  {
   "cell_type": "code",
   "execution_count": null,
   "metadata": {},
   "outputs": [],
   "source": [
    "df.sort_values(by=\"gt_match_rate_ch3\", ascending=False)[:30]"
   ]
  },
  {
   "cell_type": "code",
   "execution_count": 19,
   "metadata": {},
   "outputs": [
    {
     "name": "stdout",
     "output_type": "stream",
     "text": [
      "Saved 1603 opp. homo pairs to ./output/relatives_snp/opp_homos_ch3.tsv\n"
     ]
    }
   ],
   "source": [
    "savepath =\"./output/relatives_snp/opp_homos_ch3.tsv\"\n",
    "df.to_csv(savepath, sep=\"\\t\", index=False)\n",
    "print(f\"Saved {len(df)} opp. homo pairs to {savepath}\")"
   ]
  },
  {
   "cell_type": "markdown",
   "metadata": {},
   "source": [
    "# Process the similarity list"
   ]
  },
  {
   "cell_type": "code",
   "execution_count": 20,
   "metadata": {},
   "outputs": [],
   "source": [
    "savepath =\"./output/relatives_snp/opp_homos_ch3.tsv\"\n",
    "df = pd.read_csv(savepath, sep=\"\\t\")"
   ]
  },
  {
   "cell_type": "code",
   "execution_count": 22,
   "metadata": {},
   "outputs": [
    {
     "name": "stdout",
     "output_type": "stream",
     "text": [
      "Found identical indivdiuals 1179\n"
     ]
    }
   ],
   "source": [
    "idx_identical = df[\"gt_match_rate_ch3\"]>0.98\n",
    "print(f\"Found identical indivdiuals {np.sum(idx_identical)}\")"
   ]
  },
  {
   "cell_type": "code",
   "execution_count": 23,
   "metadata": {},
   "outputs": [
    {
     "data": {
      "text/html": [
       "<div>\n",
       "<style scoped>\n",
       "    .dataframe tbody tr th:only-of-type {\n",
       "        vertical-align: middle;\n",
       "    }\n",
       "\n",
       "    .dataframe tbody tr th {\n",
       "        vertical-align: top;\n",
       "    }\n",
       "\n",
       "    .dataframe thead th {\n",
       "        text-align: right;\n",
       "    }\n",
       "</style>\n",
       "<table border=\"1\" class=\"dataframe\">\n",
       "  <thead>\n",
       "    <tr style=\"text-align: right;\">\n",
       "      <th></th>\n",
       "      <th>iid1</th>\n",
       "      <th>iid2</th>\n",
       "      <th>opp_homo_rate_ch3</th>\n",
       "      <th>gt_match_rate_ch3</th>\n",
       "      <th>frac_snps_good_ch3</th>\n",
       "    </tr>\n",
       "  </thead>\n",
       "  <tbody>\n",
       "    <tr>\n",
       "      <th>0</th>\n",
       "      <td>I2497_all</td>\n",
       "      <td>I2497</td>\n",
       "      <td>0.000000</td>\n",
       "      <td>0.997922</td>\n",
       "      <td>0.483048</td>\n",
       "    </tr>\n",
       "    <tr>\n",
       "      <th>1</th>\n",
       "      <td>I4451_all</td>\n",
       "      <td>I4451</td>\n",
       "      <td>0.000000</td>\n",
       "      <td>0.999860</td>\n",
       "      <td>0.697437</td>\n",
       "    </tr>\n",
       "    <tr>\n",
       "      <th>2</th>\n",
       "      <td>I2960</td>\n",
       "      <td>I2959</td>\n",
       "      <td>0.000162</td>\n",
       "      <td>0.824306</td>\n",
       "      <td>0.604685</td>\n",
       "    </tr>\n",
       "    <tr>\n",
       "      <th>3</th>\n",
       "      <td>I3962</td>\n",
       "      <td>I3836</td>\n",
       "      <td>0.000000</td>\n",
       "      <td>0.998604</td>\n",
       "      <td>0.806810</td>\n",
       "    </tr>\n",
       "    <tr>\n",
       "      <th>4</th>\n",
       "      <td>I4246_published</td>\n",
       "      <td>I4246</td>\n",
       "      <td>0.000000</td>\n",
       "      <td>1.000000</td>\n",
       "      <td>0.754841</td>\n",
       "    </tr>\n",
       "    <tr>\n",
       "      <th>...</th>\n",
       "      <td>...</td>\n",
       "      <td>...</td>\n",
       "      <td>...</td>\n",
       "      <td>...</td>\n",
       "      <td>...</td>\n",
       "    </tr>\n",
       "    <tr>\n",
       "      <th>1598</th>\n",
       "      <td>SFI-43.SG</td>\n",
       "      <td>SFI-44.SG</td>\n",
       "      <td>0.000143</td>\n",
       "      <td>0.771381</td>\n",
       "      <td>0.854667</td>\n",
       "    </tr>\n",
       "    <tr>\n",
       "      <th>1599</th>\n",
       "      <td>PER503.SG</td>\n",
       "      <td>PER3123.SG</td>\n",
       "      <td>0.000034</td>\n",
       "      <td>0.849570</td>\n",
       "      <td>0.720888</td>\n",
       "    </tr>\n",
       "    <tr>\n",
       "      <th>1600</th>\n",
       "      <td>KPT002_petrous</td>\n",
       "      <td>UKY001</td>\n",
       "      <td>0.000000</td>\n",
       "      <td>1.000000</td>\n",
       "      <td>0.804974</td>\n",
       "    </tr>\n",
       "    <tr>\n",
       "      <th>1601</th>\n",
       "      <td>LJM3</td>\n",
       "      <td>LJM5</td>\n",
       "      <td>0.000026</td>\n",
       "      <td>0.797373</td>\n",
       "      <td>0.931923</td>\n",
       "    </tr>\n",
       "    <tr>\n",
       "      <th>1602</th>\n",
       "      <td>MGS-M7L</td>\n",
       "      <td>MGS-M7R</td>\n",
       "      <td>0.000045</td>\n",
       "      <td>0.882266</td>\n",
       "      <td>0.549118</td>\n",
       "    </tr>\n",
       "  </tbody>\n",
       "</table>\n",
       "<p>1603 rows × 5 columns</p>\n",
       "</div>"
      ],
      "text/plain": [
       "                 iid1        iid2  opp_homo_rate_ch3  gt_match_rate_ch3  \\\n",
       "0           I2497_all       I2497           0.000000           0.997922   \n",
       "1           I4451_all       I4451           0.000000           0.999860   \n",
       "2               I2960       I2959           0.000162           0.824306   \n",
       "3               I3962       I3836           0.000000           0.998604   \n",
       "4     I4246_published       I4246           0.000000           1.000000   \n",
       "...               ...         ...                ...                ...   \n",
       "1598        SFI-43.SG   SFI-44.SG           0.000143           0.771381   \n",
       "1599        PER503.SG  PER3123.SG           0.000034           0.849570   \n",
       "1600   KPT002_petrous      UKY001           0.000000           1.000000   \n",
       "1601             LJM3        LJM5           0.000026           0.797373   \n",
       "1602          MGS-M7L     MGS-M7R           0.000045           0.882266   \n",
       "\n",
       "      frac_snps_good_ch3  \n",
       "0               0.483048  \n",
       "1               0.697437  \n",
       "2               0.604685  \n",
       "3               0.806810  \n",
       "4               0.754841  \n",
       "...                  ...  \n",
       "1598            0.854667  \n",
       "1599            0.720888  \n",
       "1600            0.804974  \n",
       "1601            0.931923  \n",
       "1602            0.549118  \n",
       "\n",
       "[1603 rows x 5 columns]"
      ]
     },
     "execution_count": 23,
     "metadata": {},
     "output_type": "execute_result"
    }
   ],
   "source": [
    "df"
   ]
  },
  {
   "cell_type": "markdown",
   "metadata": {},
   "source": [
    "# Area 51"
   ]
  },
  {
   "cell_type": "markdown",
   "metadata": {},
   "source": [
    "### Plot identical individuals"
   ]
  },
  {
   "cell_type": "code",
   "execution_count": 71,
   "metadata": {},
   "outputs": [
    {
     "data": {
      "image/png": "[encoded data removed]",
      "text/plain": [
       "<Figure size 432x288 with 1 Axes>"
      ]
     },
     "metadata": {
      "needs_background": "light"
     },
     "output_type": "display_data"
    }
   ],
   "source": [
    "bins=np.linspace(0.95,1,41)\n",
    "plt.figure()\n",
    "ax=plt.gca()\n",
    "ax.hist(df[\"gt_match_rate_ch3\"], ec=\"k\",bins=bins)\n",
    "plt.show()"
   ]
  },
  {
   "cell_type": "code",
   "execution_count": null,
   "metadata": {},
   "outputs": [],
   "source": []
  }
 ],
 "metadata": {
  "kernelspec": {
   "display_name": "Python 3",
   "language": "python",
   "name": "python3"
  },
  "language_info": {
   "codemirror_mode": {
    "name": "ipython",
    "version": 3
   },
   "file_extension": ".py",
   "mimetype": "text/x-python",
   "name": "python",
   "nbconvert_exporter": "python",
   "pygments_lexer": "ipython3",
   "version": "3.7.4"
  }
 },
 "nbformat": 4,
 "nbformat_minor": 4
}
