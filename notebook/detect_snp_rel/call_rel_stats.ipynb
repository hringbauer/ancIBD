{
 "cells": [
  {
   "cell_type": "code",
   "execution_count": 16,
   "metadata": {},
   "outputs": [
    {
     "name": "stdout",
     "output_type": "stream",
     "text": [
      "compute-a-17-99.o2.rc.hms.harvard.edu\n",
      "HSM O2 Computational partition detected.\n",
      "/n/groups/reich/hringbauer/git/hapBLOCK\n",
      "CPU Count: 32\n"
     ]
    }
   ],
   "source": [
    "import qgrid\n",
    "import numpy as np\n",
    "import pandas as pd\n",
    "import matplotlib.pyplot as plt\n",
    "import socket as socket\n",
    "import os as os\n",
    "import sys as sys\n",
    "import multiprocessing as mp\n",
    "import itertools as it\n",
    "import h5py\n",
    "\n",
    "### hapROH imports\n",
    "#sys.path.insert(0,\"/n/groups/reich/hringbauer/git/HAPSBURG/package/\")  # hack to get development package first in path\n",
    "sys.path.insert(0,\"/n/groups/reich/hringbauer/git/hapBLOCK/package/hapBLOCK/IO/\")  # hack to get development package first in path\n",
    "from h5_load import get_coverage,get_genos_pairs,get_idx_iid,get_idx_iid_exact,get_markers_good\n",
    "\n",
    "socket_name = socket.gethostname()\n",
    "print(socket_name)\n",
    "\n",
    "if socket_name.startswith(\"compute-\"):\n",
    "    print(\"HSM O2 Computational partition detected.\")\n",
    "    path = \"/n/groups/reich/hringbauer/git/hapBLOCK/\"  # The Path on Harvard Cluster\n",
    "else:\n",
    "    raise RuntimeWarning(\"No compatible machine. Check!!\")\n",
    "\n",
    "os.chdir(path)  # Set the right Path (in line with Atom default)\n",
    "# Show the current working directory. Should be HAPSBURG/Notebooks/ParallelRuns\n",
    "\n",
    "print(os.getcwd())\n",
    "print(f\"CPU Count: {mp.cpu_count()}\")\n",
    "\n",
    "sys.path.insert(0, path)"
   ]
  },
  {
   "cell_type": "markdown",
   "metadata": {},
   "source": [
    "# Prepare the data"
   ]
  },
  {
   "cell_type": "code",
   "execution_count": 2,
   "metadata": {},
   "outputs": [],
   "source": [
    "f = h5py.File(\"./data/hdf5/1240k_v43/ch3.h5\", \"r\") # Load for Sanity Check. See below!"
   ]
  },
  {
   "cell_type": "code",
   "execution_count": 3,
   "metadata": {},
   "outputs": [
    {
     "name": "stdout",
     "output_type": "stream",
     "text": [
      "CPU times: user 49.2 s, sys: 11.4 s, total: 1min\n",
      "Wall time: 1min 2s\n"
     ]
    }
   ],
   "source": [
    "%%time\n",
    "cutoff=0.98\n",
    "gps = f[\"calldata/GP\"][:,:,:]\n",
    "m = np.max(gps, axis=2)\n",
    "idx = (m>cutoff)"
   ]
  },
  {
   "cell_type": "code",
   "execution_count": 4,
   "metadata": {},
   "outputs": [
    {
     "name": "stdout",
     "output_type": "stream",
     "text": [
      "CPU times: user 14.2 s, sys: 3.26 s, total: 17.5 s\n",
      "Wall time: 17.6 s\n"
     ]
    }
   ],
   "source": [
    "%%time\n",
    "gts = f[\"calldata/GT\"][:,:,:]\n",
    "gt = np.sum(gts, axis=2)\n",
    "gt[~idx]=1 # Set low quality data to heterozygotes"
   ]
  },
  {
   "cell_type": "code",
   "execution_count": 5,
   "metadata": {},
   "outputs": [],
   "source": [
    "### Figure out the wacky indiviuals\n",
    "m_ind = np.mean(idx, axis=0)\n",
    "idx_iid = (m_ind>0.5)"
   ]
  },
  {
   "cell_type": "code",
   "execution_count": 6,
   "metadata": {},
   "outputs": [
    {
     "name": "stdout",
     "output_type": "stream",
     "text": [
      "Extracted 9813 Samples with good enough coverage\n"
     ]
    }
   ],
   "source": [
    "samples1 = f[\"samples\"][idx_iid]\n",
    "m_ind1 = m_ind[idx_iid] # Average for the good Individuals\n",
    "gt1 = gt[:,idx_iid]  # Takes the longest time\n",
    "idx1 = idx[:,idx_iid] # Get the index of good loci\n",
    "print(f\"Extracted {len(samples1)} Samples with good enough coverage\")"
   ]
  },
  {
   "cell_type": "code",
   "execution_count": 7,
   "metadata": {},
   "outputs": [
    {
     "name": "stdout",
     "output_type": "stream",
     "text": [
      "CPU times: user 907 ms, sys: 336 ms, total: 1.24 s\n",
      "Wall time: 1.24 s\n"
     ]
    }
   ],
   "source": [
    "%%time\n",
    "homo = (gt1 == 0)\n",
    "homo2 = (gt1 == 2)"
   ]
  },
  {
   "cell_type": "markdown",
   "metadata": {},
   "source": [
    "# Intermezzo: Sharing for 1 indiviual with rest"
   ]
  },
  {
   "cell_type": "code",
   "execution_count": 95,
   "metadata": {},
   "outputs": [
    {
     "name": "stdout",
     "output_type": "stream",
     "text": [
      "CPU times: user 1.18 s, sys: 666 ms, total: 1.85 s\n",
      "Wall time: 1.85 s\n"
     ]
    }
   ],
   "source": [
    "%%time\n",
    "i=0\n",
    "opp_homo = (homo[:,i][:,None] & homo2[:,:]) | (homo2[:,i][:,None] & homo[:,:])\n",
    "good_loci = idx1[:,i][:,None] & idx1[:,:] # Both Loci there\n",
    "\n",
    "opp_homo_ind = np.sum(opp_homo, axis=0)\n",
    "o_homo_fracs = opp_homo_ind / np.sum(good_loci, axis=0)"
   ]
  },
  {
   "cell_type": "markdown",
   "metadata": {},
   "source": [
    "# Create the sharing Matrix [run many individuals in paralllel]"
   ]
  },
  {
   "cell_type": "code",
   "execution_count": 21,
   "metadata": {},
   "outputs": [],
   "source": [
    "n=np.shape(homo)[1]\n",
    "frac_mat = -np.ones((n,n), dtype=\"float\")  # Matrix of sharing"
   ]
  },
  {
   "cell_type": "code",
   "execution_count": null,
   "metadata": {},
   "outputs": [],
   "source": [
    "%%time\n",
    "\n",
    "for i in range(n):\n",
    "    opp_homo = (homo[:,i][:,None] & homo2[:,i:]) | (homo2[:,i][:,None] & homo[:,i:]) # Opposing homozygotes\n",
    "    good_loci = idx1[:,i][:,None] & idx1[:,i:] # Both Loci good quality\n",
    "\n",
    "    opp_homo_ind = np.sum(opp_homo, axis=0)\n",
    "    o_homo_fracs = opp_homo_ind / np.sum(good_loci, axis=0)\n",
    "    frac_mat[i,i:] = o_homo_fracs\n",
    "print(\"finished the job\")"
   ]
  },
  {
   "cell_type": "code",
   "execution_count": 25,
   "metadata": {},
   "outputs": [
    {
     "data": {
      "text/plain": [
       "array([-1.       , -1.       , -1.       , ..., -1.       ,  0.       ,\n",
       "        0.0516349])"
      ]
     },
     "execution_count": 25,
     "metadata": {},
     "output_type": "execute_result"
    }
   ],
   "source": [
    "frac_mat[-2,:]"
   ]
  },
  {
   "cell_type": "code",
   "execution_count": 26,
   "metadata": {},
   "outputs": [
    {
     "data": {
      "text/plain": [
       "(9813, 9813)"
      ]
     },
     "execution_count": 26,
     "metadata": {},
     "output_type": "execute_result"
    }
   ],
   "source": [
    "frac_mat1 = frac_mat"
   ]
  },
  {
   "cell_type": "code",
   "execution_count": null,
   "metadata": {},
   "outputs": [],
   "source": [
    "np.savetxt(\"./output/dumpster/frac_mat_all9813.tsv\", frac_mat, delimiter='\\t')\n",
    "np.savetxt(\"./output/dumpster/samples_9813.tsv\", samples1, fmt=\"%s\", delimiter='\\t')"
   ]
  },
  {
   "cell_type": "code",
   "execution_count": null,
   "metadata": {},
   "outputs": [],
   "source": [
    "idx_pair = np.where((frac_mat[:,:]<0.0005) & (frac_mat[:,:]>0))\n",
    "print(f\"Found {len(idx_pair[0])} putative pairs found\")\n",
    "\n",
    "df = pd.DataFrame({\"iid1\":samples1[idx_pair[0]], \"iid2\":samples1[idx_pair[1]],\n",
    "                   \"opp_homo_rate_ch3\":frac_mat[idx_pair]})"
   ]
  },
  {
   "cell_type": "code",
   "execution_count": null,
   "metadata": {},
   "outputs": [],
   "source": [
    "df.to_csv(\"./output/dumpster/o_homo_all_001.tsv\", sep=\"\\t\", index=False)"
   ]
  },
  {
   "cell_type": "markdown",
   "metadata": {},
   "source": [
    "### Further Processing"
   ]
  },
  {
   "cell_type": "code",
   "execution_count": null,
   "metadata": {},
   "outputs": [],
   "source": [
    "samples1 =np.loadtxt(\"./output/dumpster/full_run_ch3_9813/samples_9813.tsv\", dtype=\"str\")\n",
    "f_mat = np.loadtxt(\"./output/dumpster/full_run_ch3_9813/frac_mat_all9813.tsv\")\n",
    "print(np.shape(samples1))\n",
    "print(np.shape(f_mat))\n",
    "np.fill_diagonal(f_mat, -1) ### Modifies matrix in place"
   ]
  },
  {
   "cell_type": "code",
   "execution_count": null,
   "metadata": {},
   "outputs": [],
   "source": [
    "idx_pair = np.where((f_mat[:,:]<0.0005) & (f_mat[:,:]>=0))\n",
    "print(f\"Found {len(idx_pair[0])} putative pairs found\")\n",
    "\n",
    "df = pd.DataFrame({\"iid1\":samples1[idx_pair[0]], \"iid2\":samples1[idx_pair[1]],\n",
    "                   \"opp_homo_rate_ch3\":f_mat[idx_pair]})\n",
    "\n",
    "df.to_csv(\"./output/dumpster/full_run_ch3_9813/o_homo_all_0005.tsv\", sep=\"\\t\", index=False)"
   ]
  },
  {
   "cell_type": "markdown",
   "metadata": {},
   "source": [
    "# Rerun the inferred relatives on all chromosomes\n",
    "[needs list of relatives, produced elsewhere]"
   ]
  },
  {
   "cell_type": "code",
   "execution_count": 48,
   "metadata": {},
   "outputs": [],
   "source": [
    "def get_o_homo_frac_pair(f, iid1=\"BR2.SG\",iid2=\"I18209\", cutoff=0.98):\n",
    "    \"\"\"Calculate Fraction of opposing homozygotes for iid1, iid2 in hdf5 f\"\"\"\n",
    "    gt1, gt2, _ = get_genos_pairs(f, sample1=iid1, sample2=iid2,\n",
    "                              cutoff=0.98, output=False,  phased=False, exact=True)\n",
    "\n",
    "    gts = np.concatenate((gt1[:,None], gt2[:,None]), axis=1)\n",
    "    homo = (gts == 0)\n",
    "    homo2 = (gts == 2)\n",
    "\n",
    "    opp_homo = (homo[:,0] & homo2[:,1]) | (homo2[:,0] & homo[:,1])\n",
    "\n",
    "    o_homo_fracs = np.mean(opp_homo)\n",
    "    return o_homo_fracs"
   ]
  },
  {
   "cell_type": "markdown",
   "metadata": {},
   "source": [
    "### Run all chromosomes for all pair in list"
   ]
  },
  {
   "cell_type": "code",
   "execution_count": 118,
   "metadata": {},
   "outputs": [
    {
     "name": "stdout",
     "output_type": "stream",
     "text": [
      "Loaded 333 parent offspring pair\n"
     ]
    }
   ],
   "source": [
    "#df = pd.read_csv(\"./output/relatives_snp/opp_homos_ch3_processed_unique_novel.tsv\", sep=\"\\t\")\n",
    "df = pd.read_csv(\"./output/relatives_snp/opp_homos_ch3_processed_uniqye.tsv\", sep=\"\\t\")\n",
    "df_po = df[df[\"relatedness\"] == \"Parent Offspring\"]\n",
    "print(f\"Loaded {len(df_po)} parent offspring pair\")"
   ]
  },
  {
   "cell_type": "code",
   "execution_count": 119,
   "metadata": {},
   "outputs": [
    {
     "name": "stdout",
     "output_type": "stream",
     "text": [
      "CPU times: user 41min 38s, sys: 7min 29s, total: 49min 8s\n",
      "Wall time: 57min 35s\n"
     ]
    }
   ],
   "source": [
    "%%time\n",
    "df1 = df_po.copy()\n",
    "o_homo_mat = -np.ones((len(df_po),22), dtype=\"float\")\n",
    "for ch in range(1,23):\n",
    "    f = h5py.File(f\"./data/hdf5/1240k_v43/ch{ch}.h5\", \"r\") # Load for Sanity Check. See below!\n",
    "    for j,(iid1,iid2) in enumerate(df_po[[\"iid1\", \"iid2\"]].values):\n",
    "        h = get_o_homo_frac_pair(f, iid1=iid1, iid2=iid2)\n",
    "        o_homo_mat[j,ch-1]=h\n",
    "    df1[f\"opp_homo_rate_ch{ch}\"]=o_homo_mat[:,ch-1]\n",
    "    \n",
    "df1[f\"max_opp_homo_ch\"] = np.max(o_homo_mat, axis=1)\n",
    "df1[f\"opp_homo_mean\"] = np.mean(o_homo_mat, axis=1)"
   ]
  },
  {
   "cell_type": "code",
   "execution_count": 130,
   "metadata": {},
   "outputs": [],
   "source": [
    "df1[\"relationship\"]=\"Parent Offspring\""
   ]
  },
  {
   "cell_type": "code",
   "execution_count": 131,
   "metadata": {},
   "outputs": [],
   "source": [
    "df1.loc[df1[\"max_opp_homo_ch\"]>0.005,\"relationship\"]=\"other\""
   ]
  },
  {
   "cell_type": "code",
   "execution_count": 137,
   "metadata": {},
   "outputs": [],
   "source": [
    "df1=df1.sort_values(by=\"relationship\")"
   ]
  },
  {
   "cell_type": "code",
   "execution_count": 138,
   "metadata": {},
   "outputs": [],
   "source": [
    "df1.to_csv(\"./output/dumpster/po_o_homos/po_full_all_ch.tsv\", sep=\"\\t\", index=False)\n",
    "#df1.to_csv(\"./output/dumpster/po_o_homos/po_new_all_ch.tsv\", sep=\"\\t\", index=False)"
   ]
  },
  {
   "cell_type": "code",
   "execution_count": 136,
   "metadata": {},
   "outputs": [
    {
     "data": {
      "text/plain": [
       "Parent Offspring    307\n",
       "other                26\n",
       "Name: relationship, dtype: int64"
      ]
     },
     "execution_count": 136,
     "metadata": {},
     "output_type": "execute_result"
    }
   ],
   "source": [
    "df1[\"relationship\"].value_counts()"
   ]
  },
  {
   "cell_type": "code",
   "execution_count": 83,
   "metadata": {},
   "outputs": [
    {
     "data": {
      "text/plain": [
       "0.0"
      ]
     },
     "execution_count": 83,
     "metadata": {},
     "output_type": "execute_result"
    }
   ],
   "source": [
    "### play field\n",
    "ch=1\n",
    "f = h5py.File(f\"./data/hdf5/1240k_v43/ch{ch}.h5\", \"r\")\n",
    "get_o_homo_frac_pair(f, iid1=\"I12328\",iid2=\"I12330\")"
   ]
  },
  {
   "cell_type": "markdown",
   "metadata": {},
   "source": [
    "# Plot Figures"
   ]
  },
  {
   "cell_type": "code",
   "execution_count": 74,
   "metadata": {},
   "outputs": [
    {
     "data": {
      "image/png": "[encoded data removed]",
      "text/plain": [
       "<Figure size 432x288 with 1 Axes>"
      ]
     },
     "metadata": {
      "needs_background": "light"
     },
     "output_type": "display_data"
    }
   ],
   "source": [
    "bins = np.linspace(0,1,101)\n",
    "\n",
    "plt.figure()\n",
    "ax = plt.gca()\n",
    "ax.set_title(\"Loci with Max. Prob. >0.98\")\n",
    "ax.hist(m_ind, bins=bins, ec=\"k\")\n",
    "ax.set_ylabel(\"Count\")\n",
    "ax.set_xlabel(\"#Loci >0.98 Max GP\")\n",
    "plt.show()"
   ]
  },
  {
   "cell_type": "code",
   "execution_count": 16,
   "metadata": {},
   "outputs": [
    {
     "data": {
      "image/png": "[encoded data removed]",
      "text/plain": [
       "<Figure size 432x288 with 1 Axes>"
      ]
     },
     "metadata": {
      "needs_background": "light"
     },
     "output_type": "display_data"
    }
   ],
   "source": [
    "bins = np.linspace(0,0.1,41)\n",
    "\n",
    "plt.figure()\n",
    "ax = plt.gca()\n",
    "ax.hist(frac_mat[3,3:], bins=bins, ec=\"k\")\n",
    "ax.set_ylabel(\"Count\")\n",
    "ax.set_xlabel(\"Fraction opposing Homozygotes\")\n",
    "plt.show()"
   ]
  },
  {
   "cell_type": "markdown",
   "metadata": {},
   "source": [
    "# Area 51"
   ]
  },
  {
   "cell_type": "code",
   "execution_count": 48,
   "metadata": {},
   "outputs": [
    {
     "ename": "AttributeError",
     "evalue": "'AxesSubplot' object has no attribute 'set_ylablel'",
     "output_type": "error",
     "traceback": [
      "\u001b[0;31m---------------------------------------------------------------------------\u001b[0m",
      "\u001b[0;31mAttributeError\u001b[0m                            Traceback (most recent call last)",
      "\u001b[0;32m<ipython-input-48-3e18da0bf076>\u001b[0m in \u001b[0;36m<module>\u001b[0;34m\u001b[0m\n\u001b[1;32m      3\u001b[0m \u001b[0max\u001b[0m\u001b[0;34m.\u001b[0m\u001b[0mhist\u001b[0m\u001b[0;34m(\u001b[0m\u001b[0mdf\u001b[0m\u001b[0;34m[\u001b[0m\u001b[0;34m\"opp_homo_rate_ch3\"\u001b[0m\u001b[0;34m]\u001b[0m\u001b[0;34m,\u001b[0m \u001b[0mec\u001b[0m\u001b[0;34m=\u001b[0m\u001b[0;34m\"k\"\u001b[0m\u001b[0;34m,\u001b[0m\u001b[0mbins\u001b[0m\u001b[0;34m=\u001b[0m\u001b[0;36m100\u001b[0m\u001b[0;34m)\u001b[0m\u001b[0;34m\u001b[0m\u001b[0;34m\u001b[0m\u001b[0m\n\u001b[1;32m      4\u001b[0m \u001b[0max\u001b[0m\u001b[0;34m.\u001b[0m\u001b[0mset_xlabel\u001b[0m\u001b[0;34m(\u001b[0m\u001b[0;34m\"Opposing Homozygote Rate\"\u001b[0m\u001b[0;34m)\u001b[0m\u001b[0;34m\u001b[0m\u001b[0;34m\u001b[0m\u001b[0m\n\u001b[0;32m----> 5\u001b[0;31m \u001b[0max\u001b[0m\u001b[0;34m.\u001b[0m\u001b[0mset_ylablel\u001b[0m\u001b[0;34m(\u001b[0m\u001b[0;34m\"Count\"\u001b[0m\u001b[0;34m)\u001b[0m\u001b[0;34m\u001b[0m\u001b[0;34m\u001b[0m\u001b[0m\n\u001b[0m\u001b[1;32m      6\u001b[0m \u001b[0mplt\u001b[0m\u001b[0;34m.\u001b[0m\u001b[0mshow\u001b[0m\u001b[0;34m(\u001b[0m\u001b[0;34m)\u001b[0m\u001b[0;34m\u001b[0m\u001b[0;34m\u001b[0m\u001b[0m\n",
      "\u001b[0;31mAttributeError\u001b[0m: 'AxesSubplot' object has no attribute 'set_ylablel'"
     ]
    },
    {
     "data": {
      "image/png": "[encoded data removed]",
      "text/plain": [
       "<Figure size 432x288 with 1 Axes>"
      ]
     },
     "metadata": {
      "needs_background": "light"
     },
     "output_type": "display_data"
    }
   ],
   "source": [
    "plt.figure()\n",
    "ax=plt.gca()\n",
    "ax.hist(df[\"opp_homo_rate_ch3\"], ec=\"k\",bins=100)\n",
    "ax.set_xlabel(\"Opposing Homozygote Rate\")\n",
    "ax.set_ylablel(\"Count\")\n",
    "plt.show()"
   ]
  },
  {
   "cell_type": "code",
   "execution_count": 53,
   "metadata": {},
   "outputs": [
    {
     "data": {
      "image/png": "[encoded data removed]",
      "text/plain": [
       "<Figure size 432x288 with 1 Axes>"
      ]
     },
     "metadata": {
      "needs_background": "light"
     },
     "output_type": "display_data"
    }
   ],
   "source": [
    "plt.figure()\n",
    "ax=plt.gca()\n",
    "ax.hist(df[\"opp_homo_rate_ch3\"], ec=\"k\",bins=100)\n",
    "ax.set_xlabel(\"Opposing Homozygote Rate\")\n",
    "ax.set_ylabel(\"Count\")\n",
    "#ax.set_xlim([0,0.005])\n",
    "#ax.set_ylim([0,2500])\n",
    "plt.show()"
   ]
  },
  {
   "cell_type": "code",
   "execution_count": null,
   "metadata": {},
   "outputs": [],
   "source": [
    "df.sort_values(by=\"opp_homo_rate_ch3\")[-50:]"
   ]
  }
 ],
 "metadata": {
  "kernelspec": {
   "display_name": "Python 3",
   "language": "python",
   "name": "python3"
  },
  "language_info": {
   "codemirror_mode": {
    "name": "ipython",
    "version": 3
   },
   "file_extension": ".py",
   "mimetype": "text/x-python",
   "name": "python",
   "nbconvert_exporter": "python",
   "pygments_lexer": "ipython3",
   "version": "3.7.4"
  }
 },
 "nbformat": 4,
 "nbformat_minor": 4
}
