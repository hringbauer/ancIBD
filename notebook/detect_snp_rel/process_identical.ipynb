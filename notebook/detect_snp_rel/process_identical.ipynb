{
 "cells": [
  {
   "cell_type": "code",
   "execution_count": 2,
   "metadata": {},
   "outputs": [
    {
     "name": "stdout",
     "output_type": "stream",
     "text": [
      "compute-a-16-165.o2.rc.hms.harvard.edu\n",
      "HSM O2 Computational partition detected.\n",
      "/n/groups/reich/hringbauer/git/hapBLOCK\n",
      "CPU Count: 32\n"
     ]
    }
   ],
   "source": [
    "import qgrid\n",
    "import numpy as np\n",
    "import pandas as pd\n",
    "import matplotlib.pyplot as plt\n",
    "import socket as socket\n",
    "import os as os\n",
    "import sys as sys\n",
    "import multiprocessing as mp\n",
    "import itertools as it\n",
    "import h5py\n",
    "\n",
    "### hapROH imports\n",
    "#sys.path.insert(0,\"/n/groups/reich/hringbauer/git/HAPSBURG/package/\")  # hack to get development package first in path\n",
    "sys.path.insert(0,\"/n/groups/reich/hringbauer/git/hapBLOCK/package/hapBLOCK/IO/\")  # hack to get development package first in path\n",
    "from h5_load import get_coverage,get_genos_pairs,get_idx_iid,get_markers_good\n",
    "\n",
    "socket_name = socket.gethostname()\n",
    "print(socket_name)\n",
    "\n",
    "if socket_name.startswith(\"compute-\"):\n",
    "    print(\"HSM O2 Computational partition detected.\")\n",
    "    path = \"/n/groups/reich/hringbauer/git/hapBLOCK/\"  # The Path on Harvard Cluster\n",
    "else:\n",
    "    raise RuntimeWarning(\"No compatible machine. Check!!\")\n",
    "\n",
    "os.chdir(path)  # Set the right Path (in line with Atom default)\n",
    "# Show the current working directory. Should be HAPSBURG/Notebooks/ParallelRuns\n",
    "\n",
    "print(os.getcwd())\n",
    "print(f\"CPU Count: {mp.cpu_count()}\")\n",
    "\n",
    "sys.path.insert(0, path)"
   ]
  },
  {
   "cell_type": "markdown",
   "metadata": {},
   "source": [
    "### Analyze the Relatedness"
   ]
  },
  {
   "cell_type": "code",
   "execution_count": 2,
   "metadata": {},
   "outputs": [],
   "source": [
    "def new_column(df, df_meta, col=\"New Clade\", col_new=\"\", match_col=\"iid\"):\n",
    "    \"\"\"Maps Entries from meta dataframe onto the IBD dataframe.\n",
    "    Return modified dataframe\"\"\"\n",
    "    if len(col_new)==0:\n",
    "        col_new=col\n",
    "    dct = pd.Series(df_meta[col].values, index=df_meta[match_col]).to_dict()\n",
    "    \n",
    "    for i in range(1,3):    \n",
    "        df[col_new + str(i)] =df[\"iid\" + str(i)].map(dct)\n",
    "        df[col_new + str(i)] =df[\"iid\" + str(i)].map(dct)\n",
    "    return df"
   ]
  },
  {
   "cell_type": "code",
   "execution_count": 17,
   "metadata": {},
   "outputs": [
    {
     "name": "stdout",
     "output_type": "stream",
     "text": [
      "Loaded Metafile 18171 iids\n",
      "Loaded 1603 PO or identical Individuals\n"
     ]
    },
    {
     "data": {
      "text/plain": [
       "1593"
      ]
     },
     "execution_count": 17,
     "metadata": {},
     "output_type": "execute_result"
    }
   ],
   "source": [
    "df_meta = pd.read_csv(\"/n/groups/reich/hringbauer/Data/v43.4.anno.csv\", sep=\",\")  # Load Meta File\n",
    "\n",
    "print(f\"Loaded Metafile {len(df_meta)} iids\")\n",
    "\n",
    "df = pd.read_csv(\"./output/relatives_snp/opp_homos_ch3.tsv\", sep=\"\\t\")\n",
    "print(f\"Loaded {len(df)} PO or identical Individuals\")\n",
    "\n",
    "df1 = new_column(df, df_meta, col='Master ID')\n",
    "df1 = new_column(df, df_meta, col=\"n_cov_snp\")\n",
    "df1 = new_column(df1, df_meta, col=\"age\")\n",
    "df1 = new_column(df1, df_meta, col=\"study\")\n",
    "df1 = new_column(df1, df_meta, col=\"clst\")\n",
    "df1 = new_column(df1, df_meta, col=\"family\")\n",
    "#df1[\"delta_age\"] = np.abs(df1[\"age1\"] - df1[\"age2\"])\n",
    "df1['relatedness'] = \"Parent Offspring\"\n",
    "df1.loc[df1[\"gt_match_rate_ch3\"]>0.95, \"relatedness\"] = \"Identical\"\n",
    "df1 = df1[df1[\"frac_snps_good_ch3\"]>0.43]\n",
    "len(df1)"
   ]
  },
  {
   "cell_type": "code",
   "execution_count": null,
   "metadata": {},
   "outputs": [],
   "source": [
    "df1.sort_values(by=\"gt_match_rate_ch3\", ascending=False)[:50]"
   ]
  },
  {
   "cell_type": "code",
   "execution_count": 112,
   "metadata": {},
   "outputs": [],
   "source": [
    "df1.to_csv(\"./output/relatives_snp/opp_homos_ch3_processed_all.tsv\", sep=\"\\t\", index=False)"
   ]
  },
  {
   "cell_type": "markdown",
   "metadata": {},
   "source": [
    "# QC"
   ]
  },
  {
   "cell_type": "code",
   "execution_count": 28,
   "metadata": {},
   "outputs": [
    {
     "data": {
      "text/plain": [
       "Identical    1007\n",
       "Name: relatedness, dtype: int64"
      ]
     },
     "execution_count": 28,
     "metadata": {},
     "output_type": "execute_result"
    }
   ],
   "source": [
    "idx_same = df1[\"Master ID1\"] == df1[\"Master ID2\"]\n",
    "df1[idx_same][\"relatedness\"].value_counts()"
   ]
  },
  {
   "cell_type": "code",
   "execution_count": 120,
   "metadata": {},
   "outputs": [
    {
     "data": {
      "text/plain": [
       "Identical           1183\n",
       "Parent Offspring     410\n",
       "Name: relatedness, dtype: int64"
      ]
     },
     "execution_count": 120,
     "metadata": {},
     "output_type": "execute_result"
    }
   ],
   "source": [
    "df1[\"relatedness\"].value_counts()"
   ]
  },
  {
   "cell_type": "code",
   "execution_count": null,
   "metadata": {},
   "outputs": [],
   "source": [
    "df1[df1[\"relatedness\"]==\"Parent Offspring\"].sort_values(by=\"age1\")"
   ]
  },
  {
   "cell_type": "code",
   "execution_count": null,
   "metadata": {},
   "outputs": [],
   "source": [
    "df1"
   ]
  },
  {
   "cell_type": "markdown",
   "metadata": {},
   "source": [
    "# Fish out new relationships"
   ]
  },
  {
   "cell_type": "code",
   "execution_count": 35,
   "metadata": {},
   "outputs": [
    {
     "data": {
      "text/plain": [
       "499"
      ]
     },
     "execution_count": 35,
     "metadata": {},
     "output_type": "execute_result"
    }
   ],
   "source": [
    "idx_same = df1[\"Master ID1\"] == df1[\"Master ID2\"]\n",
    "df2 = df1[~idx_same]\n",
    "df2 = df2.sort_values(by=\"frac_snps_good_ch3\", ascending=False)\n",
    "df2=df2.drop_duplicates(subset=['Master ID1', 'Master ID2'])\n",
    "df2 = df2[df2[\"frac_snps_good_ch3\"]>0.43]\n",
    "df2.to_csv(\"./output/relatives_snp/opp_homos_ch3_processed_uniqye.tsv\", sep=\"\\t\", index=False)\n",
    "len(df2)"
   ]
  },
  {
   "cell_type": "markdown",
   "metadata": {},
   "source": [
    "## New Relationships"
   ]
  },
  {
   "cell_type": "code",
   "execution_count": 36,
   "metadata": {},
   "outputs": [],
   "source": [
    "idx_new = df2[\"family1\"].str.contains(\"n/a\") | df2[\"family2\"].str.contains(\"n/a\")"
   ]
  },
  {
   "cell_type": "code",
   "execution_count": 37,
   "metadata": {},
   "outputs": [
    {
     "data": {
      "text/plain": [
       "185"
      ]
     },
     "execution_count": 37,
     "metadata": {},
     "output_type": "execute_result"
    }
   ],
   "source": [
    "df3=df2[idx_new]\n",
    "df3 = df3[df3[\"frac_snps_good_ch3\"]>0.43]\n",
    "len(df3)"
   ]
  },
  {
   "cell_type": "code",
   "execution_count": null,
   "metadata": {},
   "outputs": [],
   "source": [
    "df3.to_csv(\"./output/relatives_snp/opp_homos_ch3_processed_unique_novel.tsv\", sep=\"\\t\", index=False)"
   ]
  },
  {
   "cell_type": "code",
   "execution_count": null,
   "metadata": {},
   "outputs": [],
   "source": [
    "df3[df3[\"relatedness\"]==\"Parent Offspring\"]"
   ]
  },
  {
   "cell_type": "code",
   "execution_count": 38,
   "metadata": {},
   "outputs": [
    {
     "data": {
      "text/plain": [
       "Identical           162\n",
       "Parent Offspring     23\n",
       "Name: relatedness, dtype: int64"
      ]
     },
     "execution_count": 38,
     "metadata": {},
     "output_type": "execute_result"
    }
   ],
   "source": [
    "df3[\"relatedness\"].value_counts()"
   ]
  },
  {
   "cell_type": "code",
   "execution_count": 72,
   "metadata": {},
   "outputs": [
    {
     "data": {
      "text/html": [
       "<div>\n",
       "<style scoped>\n",
       "    .dataframe tbody tr th:only-of-type {\n",
       "        vertical-align: middle;\n",
       "    }\n",
       "\n",
       "    .dataframe tbody tr th {\n",
       "        vertical-align: top;\n",
       "    }\n",
       "\n",
       "    .dataframe thead th {\n",
       "        text-align: right;\n",
       "    }\n",
       "</style>\n",
       "<table border=\"1\" class=\"dataframe\">\n",
       "  <thead>\n",
       "    <tr style=\"text-align: right;\">\n",
       "      <th></th>\n",
       "      <th>iid</th>\n",
       "      <th>Master ID</th>\n",
       "      <th>lat</th>\n",
       "      <th>lon</th>\n",
       "      <th>age</th>\n",
       "      <th>region</th>\n",
       "      <th>study</th>\n",
       "      <th>clst</th>\n",
       "      <th>mean_cov</th>\n",
       "      <th>n_cov_snp</th>\n",
       "      <th>avg_cov_snp</th>\n",
       "      <th>include_alt</th>\n",
       "      <th>family</th>\n",
       "    </tr>\n",
       "  </thead>\n",
       "  <tbody>\n",
       "    <tr>\n",
       "      <th>6144</th>\n",
       "      <td>I18945</td>\n",
       "      <td>I18945</td>\n",
       "      <td>NaN</td>\n",
       "      <td>NaN</td>\n",
       "      <td>4350.0</td>\n",
       "      <td>Italy</td>\n",
       "      <td>Unpublished (Alissa broad Italian transect)</td>\n",
       "      <td>Italy_Sardinia_EBA_dup.SUC009</td>\n",
       "      <td>0.702418</td>\n",
       "      <td>842902</td>\n",
       "      <td>4.818</td>\n",
       "      <td>True</td>\n",
       "      <td>n/a (no relatives detected)</td>\n",
       "    </tr>\n",
       "  </tbody>\n",
       "</table>\n",
       "</div>"
      ],
      "text/plain": [
       "         iid Master ID  lat  lon     age region  \\\n",
       "6144  I18945    I18945  NaN  NaN  4350.0  Italy   \n",
       "\n",
       "                                            study  \\\n",
       "6144  Unpublished (Alissa broad Italian transect)   \n",
       "\n",
       "                               clst  mean_cov  n_cov_snp avg_cov_snp  \\\n",
       "6144  Italy_Sardinia_EBA_dup.SUC009  0.702418     842902       4.818   \n",
       "\n",
       "      include_alt                       family  \n",
       "6144         True  n/a (no relatives detected)  "
      ]
     },
     "execution_count": 72,
     "metadata": {},
     "output_type": "execute_result"
    }
   ],
   "source": [
    "df_meta[df_meta[\"iid\"].str.contains(\"I18945\")]"
   ]
  },
  {
   "cell_type": "code",
   "execution_count": 107,
   "metadata": {},
   "outputs": [
    {
     "data": {
      "text/html": [
       "<div>\n",
       "<style scoped>\n",
       "    .dataframe tbody tr th:only-of-type {\n",
       "        vertical-align: middle;\n",
       "    }\n",
       "\n",
       "    .dataframe tbody tr th {\n",
       "        vertical-align: top;\n",
       "    }\n",
       "\n",
       "    .dataframe thead th {\n",
       "        text-align: right;\n",
       "    }\n",
       "</style>\n",
       "<table border=\"1\" class=\"dataframe\">\n",
       "  <thead>\n",
       "    <tr style=\"text-align: right;\">\n",
       "      <th></th>\n",
       "      <th>iid1</th>\n",
       "      <th>iid2</th>\n",
       "      <th>opp_homo_rate_ch3</th>\n",
       "      <th>gt_match_rate_ch3</th>\n",
       "      <th>frac_snps_good_ch3</th>\n",
       "      <th>Master ID1</th>\n",
       "      <th>Master ID2</th>\n",
       "      <th>n_cov_snp1</th>\n",
       "      <th>n_cov_snp2</th>\n",
       "      <th>age1</th>\n",
       "      <th>age2</th>\n",
       "      <th>study1</th>\n",
       "      <th>study2</th>\n",
       "      <th>clst1</th>\n",
       "      <th>clst2</th>\n",
       "      <th>family1</th>\n",
       "      <th>family2</th>\n",
       "      <th>relatedness</th>\n",
       "    </tr>\n",
       "  </thead>\n",
       "  <tbody>\n",
       "  </tbody>\n",
       "</table>\n",
       "</div>"
      ],
      "text/plain": [
       "Empty DataFrame\n",
       "Columns: [iid1, iid2, opp_homo_rate_ch3, gt_match_rate_ch3, frac_snps_good_ch3, Master ID1, Master ID2, n_cov_snp1, n_cov_snp2, age1, age2, study1, study2, clst1, clst2, family1, family2, relatedness]\n",
       "Index: []"
      ]
     },
     "execution_count": 107,
     "metadata": {},
     "output_type": "execute_result"
    }
   ],
   "source": [
    "df3[df3[\"study2\"].str.contains(\"Caribbean\")]"
   ]
  },
  {
   "cell_type": "code",
   "execution_count": null,
   "metadata": {},
   "outputs": [],
   "source": [
    "df3[\"study2\"].value_counts()"
   ]
  },
  {
   "cell_type": "code",
   "execution_count": null,
   "metadata": {},
   "outputs": [],
   "source": [
    "df3[df3[\"study1\"].str.contains(\"DamgaardNature2018\")]"
   ]
  },
  {
   "cell_type": "code",
   "execution_count": null,
   "metadata": {},
   "outputs": [],
   "source": [
    "df3[np.abs(df3[\"age1\"]-df3[\"age2\"])>500]"
   ]
  },
  {
   "cell_type": "markdown",
   "metadata": {},
   "source": [
    "# Figures"
   ]
  },
  {
   "cell_type": "code",
   "execution_count": 132,
   "metadata": {},
   "outputs": [
    {
     "data": {
      "image/png": "[encoded data removed]",
      "text/plain": [
       "<Figure size 432x288 with 1 Axes>"
      ]
     },
     "metadata": {
      "needs_background": "light"
     },
     "output_type": "display_data"
    }
   ],
   "source": [
    "plt.figure()\n",
    "bins=np.linspace(-1000,1000,21)\n",
    "ax=plt.gca()\n",
    "ax.hist(df3[\"age1\"] - df1[\"age2\"], ec=\"k\", color=\"b\", bins=bins)\n",
    "ax.set_xlabel(\"Age Difference\")\n",
    "ax.set_ylabel(\"Count\")\n",
    "plt.show()"
   ]
  },
  {
   "cell_type": "code",
   "execution_count": 15,
   "metadata": {},
   "outputs": [
    {
     "data": {
      "image/png": "[encoded data removed]",
      "text/plain": [
       "<Figure size 432x288 with 1 Axes>"
      ]
     },
     "metadata": {
      "needs_background": "light"
     },
     "output_type": "display_data"
    }
   ],
   "source": [
    "plt.figure()\n",
    "bins=np.linspace(0,0.0005,51)\n",
    "#bins=np.linspace(-500,500,21)\n",
    "ax=plt.gca()\n",
    "ax.hist(df1[\"opp_homo_rate_ch3\"], ec=\"k\", color=\"b\", bins=bins)\n",
    "ax.set_xlabel(\"Opposing Homozygote Rate\")\n",
    "ax.set_ylabel(\"Count\")\n",
    "plt.show()"
   ]
  },
  {
   "cell_type": "code",
   "execution_count": 8,
   "metadata": {},
   "outputs": [
    {
     "data": {
      "image/png": "[encoded data removed]",
      "text/plain": [
       "<Figure size 288x288 with 1 Axes>"
      ]
     },
     "metadata": {
      "needs_background": "light"
     },
     "output_type": "display_data"
    }
   ],
   "source": [
    "plt.figure(figsize=(4,4))\n",
    "bins=np.linspace(0.7,1.0,61)\n",
    "ax=plt.gca()\n",
    "ax.hist(df1[\"gt_match_rate_ch3\"], ec=\"k\", color=\"b\", bins=bins)\n",
    "ax.set_xlabel(\"Identical Genotyeps Fraction\")\n",
    "ax.set_ylabel(\"Count\")\n",
    "ax.set_ylim([0,100])\n",
    "plt.show()"
   ]
  },
  {
   "cell_type": "code",
   "execution_count": 46,
   "metadata": {},
   "outputs": [
    {
     "data": {
      "text/html": [
       "<div>\n",
       "<style scoped>\n",
       "    .dataframe tbody tr th:only-of-type {\n",
       "        vertical-align: middle;\n",
       "    }\n",
       "\n",
       "    .dataframe tbody tr th {\n",
       "        vertical-align: top;\n",
       "    }\n",
       "\n",
       "    .dataframe thead th {\n",
       "        text-align: right;\n",
       "    }\n",
       "</style>\n",
       "<table border=\"1\" class=\"dataframe\">\n",
       "  <thead>\n",
       "    <tr style=\"text-align: right;\">\n",
       "      <th></th>\n",
       "      <th>iid</th>\n",
       "      <th>Master ID</th>\n",
       "      <th>lat</th>\n",
       "      <th>lon</th>\n",
       "      <th>age</th>\n",
       "      <th>region</th>\n",
       "      <th>study</th>\n",
       "      <th>clst</th>\n",
       "      <th>mean_cov</th>\n",
       "      <th>n_cov_snp</th>\n",
       "      <th>avg_cov_snp</th>\n",
       "      <th>include_alt</th>\n",
       "      <th>family</th>\n",
       "    </tr>\n",
       "  </thead>\n",
       "  <tbody>\n",
       "    <tr>\n",
       "      <th>3483</th>\n",
       "      <td>prs009-ALL_DATA.SG</td>\n",
       "      <td>prs008/009</td>\n",
       "      <td>54.2469</td>\n",
       "      <td>-8.55609</td>\n",
       "      <td>5380.0</td>\n",
       "      <td>Great Britain</td>\n",
       "      <td>SanchezQuintoPNAS2019</td>\n",
       "      <td>Scotland_Megalithic.SG</td>\n",
       "      <td>0.935214</td>\n",
       "      <td>1122257</td>\n",
       "      <td>3.460814</td>\n",
       "      <td>True</td>\n",
       "      <td>n/a (no relatives detected)</td>\n",
       "    </tr>\n",
       "  </tbody>\n",
       "</table>\n",
       "</div>"
      ],
      "text/plain": [
       "                     iid   Master ID      lat      lon     age         region  \\\n",
       "3483  prs009-ALL_DATA.SG  prs008/009  54.2469 -8.55609  5380.0  Great Britain   \n",
       "\n",
       "                      study                    clst  mean_cov  n_cov_snp  \\\n",
       "3483  SanchezQuintoPNAS2019  Scotland_Megalithic.SG  0.935214    1122257   \n",
       "\n",
       "     avg_cov_snp  include_alt                       family  \n",
       "3483    3.460814         True  n/a (no relatives detected)  "
      ]
     },
     "execution_count": 46,
     "metadata": {},
     "output_type": "execute_result"
    }
   ],
   "source": [
    "df_meta[df_meta[\"iid\"].str.contains(\"prs009\")]"
   ]
  },
  {
   "cell_type": "code",
   "execution_count": 3,
   "metadata": {},
   "outputs": [],
   "source": [
    "df1 = pd.read_csv(\"./output/relatives_snp/opp_homos_ch3_processed_all.tsv\", sep=\"\\t\")"
   ]
  },
  {
   "cell_type": "code",
   "execution_count": 4,
   "metadata": {},
   "outputs": [
    {
     "data": {
      "text/html": [
       "<div>\n",
       "<style scoped>\n",
       "    .dataframe tbody tr th:only-of-type {\n",
       "        vertical-align: middle;\n",
       "    }\n",
       "\n",
       "    .dataframe tbody tr th {\n",
       "        vertical-align: top;\n",
       "    }\n",
       "\n",
       "    .dataframe thead th {\n",
       "        text-align: right;\n",
       "    }\n",
       "</style>\n",
       "<table border=\"1\" class=\"dataframe\">\n",
       "  <thead>\n",
       "    <tr style=\"text-align: right;\">\n",
       "      <th></th>\n",
       "      <th>iid1</th>\n",
       "      <th>iid2</th>\n",
       "      <th>opp_homo_rate_ch3</th>\n",
       "      <th>gt_match_rate_ch3</th>\n",
       "      <th>frac_snps_good_ch3</th>\n",
       "      <th>Master ID1</th>\n",
       "      <th>Master ID2</th>\n",
       "      <th>n_cov_snp1</th>\n",
       "      <th>n_cov_snp2</th>\n",
       "      <th>age1</th>\n",
       "      <th>age2</th>\n",
       "      <th>study1</th>\n",
       "      <th>study2</th>\n",
       "      <th>clst1</th>\n",
       "      <th>clst2</th>\n",
       "      <th>family1</th>\n",
       "      <th>family2</th>\n",
       "      <th>relatedness</th>\n",
       "    </tr>\n",
       "  </thead>\n",
       "  <tbody>\n",
       "    <tr>\n",
       "      <th>0</th>\n",
       "      <td>I2497_all</td>\n",
       "      <td>I2497</td>\n",
       "      <td>0.000000</td>\n",
       "      <td>0.997922</td>\n",
       "      <td>0.483048</td>\n",
       "      <td>I2497</td>\n",
       "      <td>I2497</td>\n",
       "      <td>519086</td>\n",
       "      <td>316445</td>\n",
       "      <td>1950.0</td>\n",
       "      <td>1950.0</td>\n",
       "      <td>LipsonScience2018</td>\n",
       "      <td>LipsonScience2018</td>\n",
       "      <td>Vietnam_BA_all</td>\n",
       "      <td>Vietnam_BA</td>\n",
       "      <td>n/a (no relatives detected)</td>\n",
       "      <td>n/a (no relatives detected)</td>\n",
       "      <td>Identical</td>\n",
       "    </tr>\n",
       "    <tr>\n",
       "      <th>1</th>\n",
       "      <td>I4451_all</td>\n",
       "      <td>I4451</td>\n",
       "      <td>0.000000</td>\n",
       "      <td>0.999860</td>\n",
       "      <td>0.697437</td>\n",
       "      <td>I4451</td>\n",
       "      <td>I4451</td>\n",
       "      <td>758513</td>\n",
       "      <td>676265</td>\n",
       "      <td>2260.0</td>\n",
       "      <td>2260.0</td>\n",
       "      <td>LipsonCurrentBiology2018</td>\n",
       "      <td>LipsonCurrentBiology2018</td>\n",
       "      <td>Vanuatu_2300BP_all</td>\n",
       "      <td>Vanuatu_2300BP</td>\n",
       "      <td>n/a (no relatives detected)</td>\n",
       "      <td>n/a (no relatives detected)</td>\n",
       "      <td>Identical</td>\n",
       "    </tr>\n",
       "    <tr>\n",
       "      <th>2</th>\n",
       "      <td>I2960</td>\n",
       "      <td>I2959</td>\n",
       "      <td>0.000162</td>\n",
       "      <td>0.824306</td>\n",
       "      <td>0.604685</td>\n",
       "      <td>I2960</td>\n",
       "      <td>I2959</td>\n",
       "      <td>467765</td>\n",
       "      <td>625567</td>\n",
       "      <td>825.0</td>\n",
       "      <td>828.0</td>\n",
       "      <td>NarasimhanPattersonScience2019</td>\n",
       "      <td>NarasimhanPattersonScience2019</td>\n",
       "      <td>Pakistan_Medieval_Udegram_Ghaznavid_father.or....</td>\n",
       "      <td>Pakistan_Medieval_Udegram_Ghaznavid</td>\n",
       "      <td>Pakistan, Swat Valley, Udegram Family D (2 mem...</td>\n",
       "      <td>Pakistan, Swat Valley, Udegram Family D (2 mem...</td>\n",
       "      <td>Parent Offspring</td>\n",
       "    </tr>\n",
       "    <tr>\n",
       "      <th>3</th>\n",
       "      <td>I3962</td>\n",
       "      <td>I3836</td>\n",
       "      <td>0.000000</td>\n",
       "      <td>0.998604</td>\n",
       "      <td>0.806810</td>\n",
       "      <td>I3962</td>\n",
       "      <td>I3836</td>\n",
       "      <td>905900</td>\n",
       "      <td>707933</td>\n",
       "      <td>2450.0</td>\n",
       "      <td>2450.0</td>\n",
       "      <td>Unpublished (Arie Finkelstein Israel IA)</td>\n",
       "      <td>Unpublished (Arie Finkelstein Israel IA)</td>\n",
       "      <td>Israel_Persian</td>\n",
       "      <td>Israel_Persian</td>\n",
       "      <td>n/a (no relatives detected)</td>\n",
       "      <td>n/a (no relatives detected)</td>\n",
       "      <td>Identical</td>\n",
       "    </tr>\n",
       "    <tr>\n",
       "      <th>4</th>\n",
       "      <td>I4246_published</td>\n",
       "      <td>I4246</td>\n",
       "      <td>0.000000</td>\n",
       "      <td>1.000000</td>\n",
       "      <td>0.754841</td>\n",
       "      <td>I4246</td>\n",
       "      <td>I4246</td>\n",
       "      <td>694170</td>\n",
       "      <td>732039</td>\n",
       "      <td>4202.0</td>\n",
       "      <td>4202.0</td>\n",
       "      <td>OlaldeScience2019</td>\n",
       "      <td>Unpublished / Unclaimed (new version of previo...</td>\n",
       "      <td>Iberia_BellBeaker_oAfrican_published</td>\n",
       "      <td>Iberia_BellBeaker_oAfrican</td>\n",
       "      <td>n/a (no relatives detected)</td>\n",
       "      <td>n/a (no relatives detected)</td>\n",
       "      <td>Identical</td>\n",
       "    </tr>\n",
       "    <tr>\n",
       "      <th>...</th>\n",
       "      <td>...</td>\n",
       "      <td>...</td>\n",
       "      <td>...</td>\n",
       "      <td>...</td>\n",
       "      <td>...</td>\n",
       "      <td>...</td>\n",
       "      <td>...</td>\n",
       "      <td>...</td>\n",
       "      <td>...</td>\n",
       "      <td>...</td>\n",
       "      <td>...</td>\n",
       "      <td>...</td>\n",
       "      <td>...</td>\n",
       "      <td>...</td>\n",
       "      <td>...</td>\n",
       "      <td>...</td>\n",
       "      <td>...</td>\n",
       "      <td>...</td>\n",
       "    </tr>\n",
       "    <tr>\n",
       "      <th>1588</th>\n",
       "      <td>SFI-43.SG</td>\n",
       "      <td>SFI-44.SG</td>\n",
       "      <td>0.000143</td>\n",
       "      <td>0.771381</td>\n",
       "      <td>0.854667</td>\n",
       "      <td>SFI-43</td>\n",
       "      <td>SFI-44</td>\n",
       "      <td>473429</td>\n",
       "      <td>954452</td>\n",
       "      <td>2436.0</td>\n",
       "      <td>2385.0</td>\n",
       "      <td>HaberAJHG2020</td>\n",
       "      <td>HaberAJHG2020</td>\n",
       "      <td>Lebanon_IA3_o1_1d.rel.SFI-44.SG</td>\n",
       "      <td>Lebanon_IA3_o2.SG</td>\n",
       "      <td>Lebanon, Beirut  Family A (2 members) (SFI-43 ...</td>\n",
       "      <td>Lebanon, Beirut  Family A (2 members) (SFI-43 ...</td>\n",
       "      <td>Parent Offspring</td>\n",
       "    </tr>\n",
       "    <tr>\n",
       "      <th>1589</th>\n",
       "      <td>PER503.SG</td>\n",
       "      <td>PER3123.SG</td>\n",
       "      <td>0.000034</td>\n",
       "      <td>0.849570</td>\n",
       "      <td>0.720888</td>\n",
       "      <td>PER503</td>\n",
       "      <td>PER3123</td>\n",
       "      <td>277685</td>\n",
       "      <td>129699</td>\n",
       "      <td>9067.0</td>\n",
       "      <td>9067.0</td>\n",
       "      <td>BrunelPNAS2020</td>\n",
       "      <td>BrunelPNAS2020</td>\n",
       "      <td>France_NouvelleAquitaine_Mesolithic.SG</td>\n",
       "      <td>France_NouvelleAquitaine_Mesolithic_1d.rel.PER...</td>\n",
       "      <td>France, Nouvelle-Aquitaine (South-West), Agris...</td>\n",
       "      <td>France, Nouvelle-Aquitaine (South-West), Agris...</td>\n",
       "      <td>Parent Offspring</td>\n",
       "    </tr>\n",
       "    <tr>\n",
       "      <th>1590</th>\n",
       "      <td>KPT002_petrous</td>\n",
       "      <td>UKY001</td>\n",
       "      <td>0.000000</td>\n",
       "      <td>1.000000</td>\n",
       "      <td>0.804974</td>\n",
       "      <td>KPT002</td>\n",
       "      <td>UKY001</td>\n",
       "      <td>662023</td>\n",
       "      <td>672228</td>\n",
       "      <td>3931.0</td>\n",
       "      <td>13904.0</td>\n",
       "      <td>YuCell2020</td>\n",
       "      <td>YuCell2020</td>\n",
       "      <td>Russia_Siberia_Lena_EBA</td>\n",
       "      <td>Russia_Siberia_UP</td>\n",
       "      <td>n/a (no relatives detected)</td>\n",
       "      <td>n/a (no relatives detected)</td>\n",
       "      <td>Identical</td>\n",
       "    </tr>\n",
       "    <tr>\n",
       "      <th>1591</th>\n",
       "      <td>LJM3</td>\n",
       "      <td>LJM5</td>\n",
       "      <td>0.000026</td>\n",
       "      <td>0.797373</td>\n",
       "      <td>0.931923</td>\n",
       "      <td>LJM3</td>\n",
       "      <td>LJM5</td>\n",
       "      <td>958240</td>\n",
       "      <td>612530</td>\n",
       "      <td>3996.0</td>\n",
       "      <td>3900.0</td>\n",
       "      <td>NingNatureCommunications2020</td>\n",
       "      <td>NingNatureCommunications2020</td>\n",
       "      <td>China_Upper_YR_LN</td>\n",
       "      <td>China_Upper_YR_LN_father.or.son.LJM3</td>\n",
       "      <td>China, Qinghai province, Minhe County, Lajia v...</td>\n",
       "      <td>China, Qinghai province, Minhe County, Lajia v...</td>\n",
       "      <td>Parent Offspring</td>\n",
       "    </tr>\n",
       "    <tr>\n",
       "      <th>1592</th>\n",
       "      <td>MGS-M7L</td>\n",
       "      <td>MGS-M7R</td>\n",
       "      <td>0.000045</td>\n",
       "      <td>0.882266</td>\n",
       "      <td>0.549118</td>\n",
       "      <td>MGS-M7L</td>\n",
       "      <td>MGS-M7R</td>\n",
       "      <td>88148</td>\n",
       "      <td>210762</td>\n",
       "      <td>1800.0</td>\n",
       "      <td>1800.0</td>\n",
       "      <td>NingNatureCommunications2020</td>\n",
       "      <td>NingNatureCommunications2020</td>\n",
       "      <td>China_AR_Xianbei_IA_father.or.son.MGS-M7R</td>\n",
       "      <td>China_AR_Xianbei_IA</td>\n",
       "      <td>China, Inner Mongolia, Hulunbuir, Mogushan Xia...</td>\n",
       "      <td>China, Inner Mongolia, Hulunbuir, Mogushan Xia...</td>\n",
       "      <td>Parent Offspring</td>\n",
       "    </tr>\n",
       "  </tbody>\n",
       "</table>\n",
       "<p>1593 rows × 18 columns</p>\n",
       "</div>"
      ],
      "text/plain": [
       "                 iid1        iid2  opp_homo_rate_ch3  gt_match_rate_ch3  \\\n",
       "0           I2497_all       I2497           0.000000           0.997922   \n",
       "1           I4451_all       I4451           0.000000           0.999860   \n",
       "2               I2960       I2959           0.000162           0.824306   \n",
       "3               I3962       I3836           0.000000           0.998604   \n",
       "4     I4246_published       I4246           0.000000           1.000000   \n",
       "...               ...         ...                ...                ...   \n",
       "1588        SFI-43.SG   SFI-44.SG           0.000143           0.771381   \n",
       "1589        PER503.SG  PER3123.SG           0.000034           0.849570   \n",
       "1590   KPT002_petrous      UKY001           0.000000           1.000000   \n",
       "1591             LJM3        LJM5           0.000026           0.797373   \n",
       "1592          MGS-M7L     MGS-M7R           0.000045           0.882266   \n",
       "\n",
       "      frac_snps_good_ch3 Master ID1 Master ID2  n_cov_snp1  n_cov_snp2  \\\n",
       "0               0.483048      I2497      I2497      519086      316445   \n",
       "1               0.697437      I4451      I4451      758513      676265   \n",
       "2               0.604685      I2960      I2959      467765      625567   \n",
       "3               0.806810      I3962      I3836      905900      707933   \n",
       "4               0.754841      I4246      I4246      694170      732039   \n",
       "...                  ...        ...        ...         ...         ...   \n",
       "1588            0.854667     SFI-43     SFI-44      473429      954452   \n",
       "1589            0.720888     PER503    PER3123      277685      129699   \n",
       "1590            0.804974     KPT002     UKY001      662023      672228   \n",
       "1591            0.931923       LJM3       LJM5      958240      612530   \n",
       "1592            0.549118    MGS-M7L    MGS-M7R       88148      210762   \n",
       "\n",
       "        age1     age2                                    study1  \\\n",
       "0     1950.0   1950.0                         LipsonScience2018   \n",
       "1     2260.0   2260.0                  LipsonCurrentBiology2018   \n",
       "2      825.0    828.0            NarasimhanPattersonScience2019   \n",
       "3     2450.0   2450.0  Unpublished (Arie Finkelstein Israel IA)   \n",
       "4     4202.0   4202.0                         OlaldeScience2019   \n",
       "...      ...      ...                                       ...   \n",
       "1588  2436.0   2385.0                             HaberAJHG2020   \n",
       "1589  9067.0   9067.0                            BrunelPNAS2020   \n",
       "1590  3931.0  13904.0                                YuCell2020   \n",
       "1591  3996.0   3900.0              NingNatureCommunications2020   \n",
       "1592  1800.0   1800.0              NingNatureCommunications2020   \n",
       "\n",
       "                                                 study2  \\\n",
       "0                                     LipsonScience2018   \n",
       "1                              LipsonCurrentBiology2018   \n",
       "2                        NarasimhanPattersonScience2019   \n",
       "3              Unpublished (Arie Finkelstein Israel IA)   \n",
       "4     Unpublished / Unclaimed (new version of previo...   \n",
       "...                                                 ...   \n",
       "1588                                      HaberAJHG2020   \n",
       "1589                                     BrunelPNAS2020   \n",
       "1590                                         YuCell2020   \n",
       "1591                       NingNatureCommunications2020   \n",
       "1592                       NingNatureCommunications2020   \n",
       "\n",
       "                                                  clst1  \\\n",
       "0                                        Vietnam_BA_all   \n",
       "1                                    Vanuatu_2300BP_all   \n",
       "2     Pakistan_Medieval_Udegram_Ghaznavid_father.or....   \n",
       "3                                        Israel_Persian   \n",
       "4                  Iberia_BellBeaker_oAfrican_published   \n",
       "...                                                 ...   \n",
       "1588                    Lebanon_IA3_o1_1d.rel.SFI-44.SG   \n",
       "1589             France_NouvelleAquitaine_Mesolithic.SG   \n",
       "1590                            Russia_Siberia_Lena_EBA   \n",
       "1591                                 China_Upper_YR_LN    \n",
       "1592          China_AR_Xianbei_IA_father.or.son.MGS-M7R   \n",
       "\n",
       "                                                  clst2  \\\n",
       "0                                            Vietnam_BA   \n",
       "1                                        Vanuatu_2300BP   \n",
       "2                   Pakistan_Medieval_Udegram_Ghaznavid   \n",
       "3                                        Israel_Persian   \n",
       "4                            Iberia_BellBeaker_oAfrican   \n",
       "...                                                 ...   \n",
       "1588                                  Lebanon_IA3_o2.SG   \n",
       "1589  France_NouvelleAquitaine_Mesolithic_1d.rel.PER...   \n",
       "1590                                  Russia_Siberia_UP   \n",
       "1591               China_Upper_YR_LN_father.or.son.LJM3   \n",
       "1592                               China_AR_Xianbei_IA    \n",
       "\n",
       "                                                family1  \\\n",
       "0                           n/a (no relatives detected)   \n",
       "1                           n/a (no relatives detected)   \n",
       "2     Pakistan, Swat Valley, Udegram Family D (2 mem...   \n",
       "3                           n/a (no relatives detected)   \n",
       "4                           n/a (no relatives detected)   \n",
       "...                                                 ...   \n",
       "1588  Lebanon, Beirut  Family A (2 members) (SFI-43 ...   \n",
       "1589  France, Nouvelle-Aquitaine (South-West), Agris...   \n",
       "1590                        n/a (no relatives detected)   \n",
       "1591  China, Qinghai province, Minhe County, Lajia v...   \n",
       "1592  China, Inner Mongolia, Hulunbuir, Mogushan Xia...   \n",
       "\n",
       "                                                family2       relatedness  \n",
       "0                           n/a (no relatives detected)         Identical  \n",
       "1                           n/a (no relatives detected)         Identical  \n",
       "2     Pakistan, Swat Valley, Udegram Family D (2 mem...  Parent Offspring  \n",
       "3                           n/a (no relatives detected)         Identical  \n",
       "4                           n/a (no relatives detected)         Identical  \n",
       "...                                                 ...               ...  \n",
       "1588  Lebanon, Beirut  Family A (2 members) (SFI-43 ...  Parent Offspring  \n",
       "1589  France, Nouvelle-Aquitaine (South-West), Agris...  Parent Offspring  \n",
       "1590                        n/a (no relatives detected)         Identical  \n",
       "1591  China, Qinghai province, Minhe County, Lajia v...  Parent Offspring  \n",
       "1592  China, Inner Mongolia, Hulunbuir, Mogushan Xia...  Parent Offspring  \n",
       "\n",
       "[1593 rows x 18 columns]"
      ]
     },
     "execution_count": 4,
     "metadata": {},
     "output_type": "execute_result"
    }
   ],
   "source": [
    "df1"
   ]
  },
  {
   "cell_type": "code",
   "execution_count": null,
   "metadata": {},
   "outputs": [],
   "source": []
  }
 ],
 "metadata": {
  "kernelspec": {
   "display_name": "Python 3",
   "language": "python",
   "name": "python3"
  },
  "language_info": {
   "codemirror_mode": {
    "name": "ipython",
    "version": 3
   },
   "file_extension": ".py",
   "mimetype": "text/x-python",
   "name": "python",
   "nbconvert_exporter": "python",
   "pygments_lexer": "ipython3",
   "version": "3.7.4"
  }
 },
 "nbformat": 4,
 "nbformat_minor": 4
}
