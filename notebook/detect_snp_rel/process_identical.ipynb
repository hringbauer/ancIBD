{
 "cells": [
  {
   "cell_type": "code",
   "execution_count": 1,
   "metadata": {},
   "outputs": [
    {
     "name": "stdout",
     "output_type": "stream",
     "text": [
      "compute-a-17-74.o2.rc.hms.harvard.edu\n",
      "HSM O2 Computational partition detected.\n",
      "/n/groups/reich/hringbauer/git/hapBLOCK\n",
      "CPU Count: 32\n"
     ]
    }
   ],
   "source": [
    "import qgrid\n",
    "import numpy as np\n",
    "import pandas as pd\n",
    "import matplotlib.pyplot as plt\n",
    "import socket as socket\n",
    "import os as os\n",
    "import sys as sys\n",
    "import multiprocessing as mp\n",
    "import itertools as it\n",
    "import h5py\n",
    "\n",
    "### hapROH imports\n",
    "#sys.path.insert(0,\"/n/groups/reich/hringbauer/git/HAPSBURG/package/\")  # hack to get development package first in path\n",
    "sys.path.insert(0,\"/n/groups/reich/hringbauer/git/hapBLOCK/package/hapBLOCK/IO/\")  # hack to get development package first in path\n",
    "from h5_load import get_coverage,get_genos_pairs,get_idx_iid,get_markers_good\n",
    "\n",
    "socket_name = socket.gethostname()\n",
    "print(socket_name)\n",
    "\n",
    "if socket_name.startswith(\"compute-\"):\n",
    "    print(\"HSM O2 Computational partition detected.\")\n",
    "    path = \"/n/groups/reich/hringbauer/git/hapBLOCK/\"  # The Path on Harvard Cluster\n",
    "else:\n",
    "    raise RuntimeWarning(\"No compatible machine. Check!!\")\n",
    "\n",
    "os.chdir(path)  # Set the right Path (in line with Atom default)\n",
    "# Show the current working directory. Should be HAPSBURG/Notebooks/ParallelRuns\n",
    "\n",
    "print(os.getcwd())\n",
    "print(f\"CPU Count: {mp.cpu_count()}\")\n",
    "\n",
    "sys.path.insert(0, path)"
   ]
  },
  {
   "cell_type": "markdown",
   "metadata": {},
   "source": [
    "### Analyze the Relatedness"
   ]
  },
  {
   "cell_type": "code",
   "execution_count": 2,
   "metadata": {},
   "outputs": [],
   "source": [
    "def new_column(df, df_meta, col=\"New Clade\", col_new=\"\", match_col=\"iid\"):\n",
    "    \"\"\"Maps Entries from meta dataframe onto the IBD dataframe.\n",
    "    Return modified dataframe\"\"\"\n",
    "    if len(col_new)==0:\n",
    "        col_new=col\n",
    "    dct = pd.Series(df_meta[col].values, index=df_meta[match_col]).to_dict()\n",
    "    \n",
    "    for i in range(1,3):    \n",
    "        df[col_new + str(i)] =df[\"iid\" + str(i)].map(dct)\n",
    "        df[col_new + str(i)] =df[\"iid\" + str(i)].map(dct)\n",
    "    return df"
   ]
  },
  {
   "cell_type": "code",
   "execution_count": 17,
   "metadata": {},
   "outputs": [
    {
     "name": "stdout",
     "output_type": "stream",
     "text": [
      "Loaded Metafile 18171 iids\n",
      "Loaded 1603 PO or identical Individuals\n"
     ]
    },
    {
     "data": {
      "text/plain": [
       "1593"
      ]
     },
     "execution_count": 17,
     "metadata": {},
     "output_type": "execute_result"
    }
   ],
   "source": [
    "df_meta = pd.read_csv(\"/n/groups/reich/hringbauer/Data/v43.4.anno.csv\", sep=\",\")  # Load Meta File\n",
    "\n",
    "print(f\"Loaded Metafile {len(df_meta)} iids\")\n",
    "\n",
    "df = pd.read_csv(\"./output/relatives_snp/opp_homos_ch3.tsv\", sep=\"\\t\")\n",
    "print(f\"Loaded {len(df)} PO or identical Individuals\")\n",
    "\n",
    "df1 = new_column(df, df_meta, col='Master ID')\n",
    "df1 = new_column(df, df_meta, col=\"n_cov_snp\")\n",
    "df1 = new_column(df1, df_meta, col=\"age\")\n",
    "df1 = new_column(df1, df_meta, col=\"study\")\n",
    "df1 = new_column(df1, df_meta, col=\"clst\")\n",
    "df1 = new_column(df1, df_meta, col=\"family\")\n",
    "#df1[\"delta_age\"] = np.abs(df1[\"age1\"] - df1[\"age2\"])\n",
    "df1['relatedness'] = \"Parent Offspring\"\n",
    "df1.loc[df1[\"gt_match_rate_ch3\"]>0.95, \"relatedness\"] = \"Identical\"\n",
    "df1 = df1[df1[\"frac_snps_good_ch3\"]>0.43]\n",
    "len(df1)"
   ]
  },
  {
   "cell_type": "code",
   "execution_count": null,
   "metadata": {},
   "outputs": [],
   "source": [
    "df1.sort_values(by=\"gt_match_rate_ch3\", ascending=False)[:50]"
   ]
  },
  {
   "cell_type": "code",
   "execution_count": 112,
   "metadata": {},
   "outputs": [],
   "source": [
    "df1.to_csv(\"./output/relatives_snp/opp_homos_ch3_processed_all.tsv\", sep=\"\\t\", index=False)"
   ]
  },
  {
   "cell_type": "markdown",
   "metadata": {},
   "source": [
    "# QC"
   ]
  },
  {
   "cell_type": "code",
   "execution_count": 28,
   "metadata": {},
   "outputs": [
    {
     "data": {
      "text/plain": [
       "Identical    1007\n",
       "Name: relatedness, dtype: int64"
      ]
     },
     "execution_count": 28,
     "metadata": {},
     "output_type": "execute_result"
    }
   ],
   "source": [
    "idx_same = df1[\"Master ID1\"] == df1[\"Master ID2\"]\n",
    "df1[idx_same][\"relatedness\"].value_counts()"
   ]
  },
  {
   "cell_type": "code",
   "execution_count": 120,
   "metadata": {},
   "outputs": [
    {
     "data": {
      "text/plain": [
       "Identical           1183\n",
       "Parent Offspring     410\n",
       "Name: relatedness, dtype: int64"
      ]
     },
     "execution_count": 120,
     "metadata": {},
     "output_type": "execute_result"
    }
   ],
   "source": [
    "df1[\"relatedness\"].value_counts()"
   ]
  },
  {
   "cell_type": "code",
   "execution_count": null,
   "metadata": {},
   "outputs": [],
   "source": [
    "df1[df1[\"relatedness\"]==\"Parent Offspring\"].sort_values(by=\"age1\")"
   ]
  },
  {
   "cell_type": "code",
   "execution_count": null,
   "metadata": {},
   "outputs": [],
   "source": [
    "df1"
   ]
  },
  {
   "cell_type": "markdown",
   "metadata": {},
   "source": [
    "# Fish out new relationships"
   ]
  },
  {
   "cell_type": "code",
   "execution_count": 35,
   "metadata": {},
   "outputs": [
    {
     "data": {
      "text/plain": [
       "499"
      ]
     },
     "execution_count": 35,
     "metadata": {},
     "output_type": "execute_result"
    }
   ],
   "source": [
    "idx_same = df1[\"Master ID1\"] == df1[\"Master ID2\"]\n",
    "df2 = df1[~idx_same]\n",
    "df2 = df2.sort_values(by=\"frac_snps_good_ch3\", ascending=False)\n",
    "df2=df2.drop_duplicates(subset=['Master ID1', 'Master ID2'])\n",
    "df2 = df2[df2[\"frac_snps_good_ch3\"]>0.43]\n",
    "df2.to_csv(\"./output/relatives_snp/opp_homos_ch3_processed_uniqye.tsv\", sep=\"\\t\", index=False)\n",
    "len(df2)"
   ]
  },
  {
   "cell_type": "markdown",
   "metadata": {},
   "source": [
    "## New Relationships"
   ]
  },
  {
   "cell_type": "code",
   "execution_count": 36,
   "metadata": {},
   "outputs": [],
   "source": [
    "idx_new = df2[\"family1\"].str.contains(\"n/a\") | df2[\"family2\"].str.contains(\"n/a\")"
   ]
  },
  {
   "cell_type": "code",
   "execution_count": 37,
   "metadata": {},
   "outputs": [
    {
     "data": {
      "text/plain": [
       "185"
      ]
     },
     "execution_count": 37,
     "metadata": {},
     "output_type": "execute_result"
    }
   ],
   "source": [
    "df3=df2[idx_new]\n",
    "df3 = df3[df3[\"frac_snps_good_ch3\"]>0.43]\n",
    "len(df3)"
   ]
  },
  {
   "cell_type": "code",
   "execution_count": null,
   "metadata": {},
   "outputs": [],
   "source": [
    "df3.to_csv(\"./output/relatives_snp/opp_homos_ch3_processed_unique_novel.tsv\", sep=\"\\t\", index=False)"
   ]
  },
  {
   "cell_type": "code",
   "execution_count": null,
   "metadata": {},
   "outputs": [],
   "source": [
    "df3[df3[\"relatedness\"]==\"Parent Offspring\"]"
   ]
  },
  {
   "cell_type": "code",
   "execution_count": 38,
   "metadata": {},
   "outputs": [
    {
     "data": {
      "text/plain": [
       "Identical           162\n",
       "Parent Offspring     23\n",
       "Name: relatedness, dtype: int64"
      ]
     },
     "execution_count": 38,
     "metadata": {},
     "output_type": "execute_result"
    }
   ],
   "source": [
    "df3[\"relatedness\"].value_counts()"
   ]
  },
  {
   "cell_type": "code",
   "execution_count": 72,
   "metadata": {},
   "outputs": [
    {
     "data": {
      "text/html": [
       "<div>\n",
       "<style scoped>\n",
       "    .dataframe tbody tr th:only-of-type {\n",
       "        vertical-align: middle;\n",
       "    }\n",
       "\n",
       "    .dataframe tbody tr th {\n",
       "        vertical-align: top;\n",
       "    }\n",
       "\n",
       "    .dataframe thead th {\n",
       "        text-align: right;\n",
       "    }\n",
       "</style>\n",
       "<table border=\"1\" class=\"dataframe\">\n",
       "  <thead>\n",
       "    <tr style=\"text-align: right;\">\n",
       "      <th></th>\n",
       "      <th>iid</th>\n",
       "      <th>Master ID</th>\n",
       "      <th>lat</th>\n",
       "      <th>lon</th>\n",
       "      <th>age</th>\n",
       "      <th>region</th>\n",
       "      <th>study</th>\n",
       "      <th>clst</th>\n",
       "      <th>mean_cov</th>\n",
       "      <th>n_cov_snp</th>\n",
       "      <th>avg_cov_snp</th>\n",
       "      <th>include_alt</th>\n",
       "      <th>family</th>\n",
       "    </tr>\n",
       "  </thead>\n",
       "  <tbody>\n",
       "    <tr>\n",
       "      <th>6144</th>\n",
       "      <td>I18945</td>\n",
       "      <td>I18945</td>\n",
       "      <td>NaN</td>\n",
       "      <td>NaN</td>\n",
       "      <td>4350.0</td>\n",
       "      <td>Italy</td>\n",
       "      <td>Unpublished (Alissa broad Italian transect)</td>\n",
       "      <td>Italy_Sardinia_EBA_dup.SUC009</td>\n",
       "      <td>0.702418</td>\n",
       "      <td>842902</td>\n",
       "      <td>4.818</td>\n",
       "      <td>True</td>\n",
       "      <td>n/a (no relatives detected)</td>\n",
       "    </tr>\n",
       "  </tbody>\n",
       "</table>\n",
       "</div>"
      ],
      "text/plain": [
       "         iid Master ID  lat  lon     age region  \\\n",
       "6144  I18945    I18945  NaN  NaN  4350.0  Italy   \n",
       "\n",
       "                                            study  \\\n",
       "6144  Unpublished (Alissa broad Italian transect)   \n",
       "\n",
       "                               clst  mean_cov  n_cov_snp avg_cov_snp  \\\n",
       "6144  Italy_Sardinia_EBA_dup.SUC009  0.702418     842902       4.818   \n",
       "\n",
       "      include_alt                       family  \n",
       "6144         True  n/a (no relatives detected)  "
      ]
     },
     "execution_count": 72,
     "metadata": {},
     "output_type": "execute_result"
    }
   ],
   "source": [
    "df_meta[df_meta[\"iid\"].str.contains(\"I18945\")]"
   ]
  },
  {
   "cell_type": "code",
   "execution_count": 107,
   "metadata": {},
   "outputs": [
    {
     "data": {
      "text/html": [
       "<div>\n",
       "<style scoped>\n",
       "    .dataframe tbody tr th:only-of-type {\n",
       "        vertical-align: middle;\n",
       "    }\n",
       "\n",
       "    .dataframe tbody tr th {\n",
       "        vertical-align: top;\n",
       "    }\n",
       "\n",
       "    .dataframe thead th {\n",
       "        text-align: right;\n",
       "    }\n",
       "</style>\n",
       "<table border=\"1\" class=\"dataframe\">\n",
       "  <thead>\n",
       "    <tr style=\"text-align: right;\">\n",
       "      <th></th>\n",
       "      <th>iid1</th>\n",
       "      <th>iid2</th>\n",
       "      <th>opp_homo_rate_ch3</th>\n",
       "      <th>gt_match_rate_ch3</th>\n",
       "      <th>frac_snps_good_ch3</th>\n",
       "      <th>Master ID1</th>\n",
       "      <th>Master ID2</th>\n",
       "      <th>n_cov_snp1</th>\n",
       "      <th>n_cov_snp2</th>\n",
       "      <th>age1</th>\n",
       "      <th>age2</th>\n",
       "      <th>study1</th>\n",
       "      <th>study2</th>\n",
       "      <th>clst1</th>\n",
       "      <th>clst2</th>\n",
       "      <th>family1</th>\n",
       "      <th>family2</th>\n",
       "      <th>relatedness</th>\n",
       "    </tr>\n",
       "  </thead>\n",
       "  <tbody>\n",
       "  </tbody>\n",
       "</table>\n",
       "</div>"
      ],
      "text/plain": [
       "Empty DataFrame\n",
       "Columns: [iid1, iid2, opp_homo_rate_ch3, gt_match_rate_ch3, frac_snps_good_ch3, Master ID1, Master ID2, n_cov_snp1, n_cov_snp2, age1, age2, study1, study2, clst1, clst2, family1, family2, relatedness]\n",
       "Index: []"
      ]
     },
     "execution_count": 107,
     "metadata": {},
     "output_type": "execute_result"
    }
   ],
   "source": [
    "df3[df3[\"study2\"].str.contains(\"Caribbean\")]"
   ]
  },
  {
   "cell_type": "code",
   "execution_count": null,
   "metadata": {},
   "outputs": [],
   "source": [
    "df3[\"study2\"].value_counts()"
   ]
  },
  {
   "cell_type": "code",
   "execution_count": null,
   "metadata": {},
   "outputs": [],
   "source": [
    "df3[df3[\"study1\"].str.contains(\"DamgaardNature2018\")]"
   ]
  },
  {
   "cell_type": "code",
   "execution_count": null,
   "metadata": {},
   "outputs": [],
   "source": [
    "df3[np.abs(df3[\"age1\"]-df3[\"age2\"])>500]"
   ]
  },
  {
   "cell_type": "markdown",
   "metadata": {},
   "source": [
    "# Figures"
   ]
  },
  {
   "cell_type": "code",
   "execution_count": 132,
   "metadata": {},
   "outputs": [
    {
     "data": {
      "image/png": "[encoded data removed]",
      "text/plain": [
       "<Figure size 432x288 with 1 Axes>"
      ]
     },
     "metadata": {
      "needs_background": "light"
     },
     "output_type": "display_data"
    }
   ],
   "source": [
    "plt.figure()\n",
    "bins=np.linspace(-1000,1000,21)\n",
    "ax=plt.gca()\n",
    "ax.hist(df3[\"age1\"] - df1[\"age2\"], ec=\"k\", color=\"b\", bins=bins)\n",
    "ax.set_xlabel(\"Age Difference\")\n",
    "ax.set_ylabel(\"Count\")\n",
    "plt.show()"
   ]
  },
  {
   "cell_type": "code",
   "execution_count": 15,
   "metadata": {},
   "outputs": [
    {
     "data": {
      "image/png": "[encoded data removed]",
      "text/plain": [
       "<Figure size 432x288 with 1 Axes>"
      ]
     },
     "metadata": {
      "needs_background": "light"
     },
     "output_type": "display_data"
    }
   ],
   "source": [
    "plt.figure()\n",
    "bins=np.linspace(0,0.0005,51)\n",
    "#bins=np.linspace(-500,500,21)\n",
    "ax=plt.gca()\n",
    "ax.hist(df1[\"opp_homo_rate_ch3\"], ec=\"k\", color=\"b\", bins=bins)\n",
    "ax.set_xlabel(\"Opposing Homozygote Rate\")\n",
    "ax.set_ylabel(\"Count\")\n",
    "plt.show()"
   ]
  },
  {
   "cell_type": "code",
   "execution_count": 18,
   "metadata": {},
   "outputs": [
    {
     "data": {
      "image/png": "[encoded data removed]",
      "text/plain": [
       "<Figure size 432x288 with 1 Axes>"
      ]
     },
     "metadata": {
      "needs_background": "light"
     },
     "output_type": "display_data"
    }
   ],
   "source": [
    "plt.figure()\n",
    "bins=np.linspace(0.7,1.0,61)\n",
    "ax=plt.gca()\n",
    "ax.hist(df1[\"gt_match_rate_ch3\"], ec=\"k\", color=\"b\", bins=bins)\n",
    "ax.set_xlabel(\"Identical Genotyeps Fraction\")\n",
    "ax.set_ylabel(\"Count\")\n",
    "plt.show()"
   ]
  },
  {
   "cell_type": "code",
   "execution_count": 46,
   "metadata": {},
   "outputs": [
    {
     "data": {
      "text/html": [
       "<div>\n",
       "<style scoped>\n",
       "    .dataframe tbody tr th:only-of-type {\n",
       "        vertical-align: middle;\n",
       "    }\n",
       "\n",
       "    .dataframe tbody tr th {\n",
       "        vertical-align: top;\n",
       "    }\n",
       "\n",
       "    .dataframe thead th {\n",
       "        text-align: right;\n",
       "    }\n",
       "</style>\n",
       "<table border=\"1\" class=\"dataframe\">\n",
       "  <thead>\n",
       "    <tr style=\"text-align: right;\">\n",
       "      <th></th>\n",
       "      <th>iid</th>\n",
       "      <th>Master ID</th>\n",
       "      <th>lat</th>\n",
       "      <th>lon</th>\n",
       "      <th>age</th>\n",
       "      <th>region</th>\n",
       "      <th>study</th>\n",
       "      <th>clst</th>\n",
       "      <th>mean_cov</th>\n",
       "      <th>n_cov_snp</th>\n",
       "      <th>avg_cov_snp</th>\n",
       "      <th>include_alt</th>\n",
       "      <th>family</th>\n",
       "    </tr>\n",
       "  </thead>\n",
       "  <tbody>\n",
       "    <tr>\n",
       "      <th>3483</th>\n",
       "      <td>prs009-ALL_DATA.SG</td>\n",
       "      <td>prs008/009</td>\n",
       "      <td>54.2469</td>\n",
       "      <td>-8.55609</td>\n",
       "      <td>5380.0</td>\n",
       "      <td>Great Britain</td>\n",
       "      <td>SanchezQuintoPNAS2019</td>\n",
       "      <td>Scotland_Megalithic.SG</td>\n",
       "      <td>0.935214</td>\n",
       "      <td>1122257</td>\n",
       "      <td>3.460814</td>\n",
       "      <td>True</td>\n",
       "      <td>n/a (no relatives detected)</td>\n",
       "    </tr>\n",
       "  </tbody>\n",
       "</table>\n",
       "</div>"
      ],
      "text/plain": [
       "                     iid   Master ID      lat      lon     age         region  \\\n",
       "3483  prs009-ALL_DATA.SG  prs008/009  54.2469 -8.55609  5380.0  Great Britain   \n",
       "\n",
       "                      study                    clst  mean_cov  n_cov_snp  \\\n",
       "3483  SanchezQuintoPNAS2019  Scotland_Megalithic.SG  0.935214    1122257   \n",
       "\n",
       "     avg_cov_snp  include_alt                       family  \n",
       "3483    3.460814         True  n/a (no relatives detected)  "
      ]
     },
     "execution_count": 46,
     "metadata": {},
     "output_type": "execute_result"
    }
   ],
   "source": [
    "df_meta[df_meta[\"iid\"].str.contains(\"prs009\")]"
   ]
  },
  {
   "cell_type": "code",
   "execution_count": null,
   "metadata": {},
   "outputs": [],
   "source": []
  }
 ],
 "metadata": {
  "kernelspec": {
   "display_name": "Python 3",
   "language": "python",
   "name": "python3"
  },
  "language_info": {
   "codemirror_mode": {
    "name": "ipython",
    "version": 3
   },
   "file_extension": ".py",
   "mimetype": "text/x-python",
   "name": "python",
   "nbconvert_exporter": "python",
   "pygments_lexer": "ipython3",
   "version": "3.7.4"
  }
 },
 "nbformat": 4,
 "nbformat_minor": 4
}
